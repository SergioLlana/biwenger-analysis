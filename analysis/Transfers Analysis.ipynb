{
 "cells": [
  {
   "cell_type": "code",
   "execution_count": null,
   "metadata": {},
   "outputs": [],
   "source": [
    "import matplotlib.pyplot as plt\n",
    "import plotly.express as px\n",
    "import seaborn as sns\n",
    "import pandas as pd\n",
    "import numpy as np\n",
    "import json\n",
    "import ast"
   ]
  },
  {
   "cell_type": "markdown",
   "metadata": {},
   "source": [
    "## Data Collection"
   ]
  },
  {
   "cell_type": "code",
   "execution_count": null,
   "metadata": {},
   "outputs": [],
   "source": [
    "rounds_df = pd.read_csv(\"../data/rounds.csv\", index_col=[0])\n",
    "rounds_df[\"date\"] = pd.to_datetime(rounds_df[\"date\"], infer_datetime_format=True)\n",
    "rounds_df.head()"
   ]
  },
  {
   "cell_type": "code",
   "execution_count": null,
   "metadata": {},
   "outputs": [],
   "source": [
    "players_df = pd.read_csv(\"../data/players.csv\", index_col=[0])\n",
    "players_df.head()"
   ]
  },
  {
   "cell_type": "code",
   "execution_count": null,
   "metadata": {},
   "outputs": [],
   "source": [
    "transfers_df = pd.read_csv(\"../data/transfers.csv\", index_col=[0])\n",
    "transfers_df[\"date\"] = pd.to_datetime(transfers_df[\"date\"], infer_datetime_format=True)\n",
    "transfers_df = transfers_df.drop(columns=[\"money\"]).sort_values(\"date\").reset_index(drop=True)\n",
    "transfers_df.head()"
   ]
  },
  {
   "cell_type": "markdown",
   "metadata": {},
   "source": [
    "## Data Integration"
   ]
  },
  {
   "cell_type": "code",
   "execution_count": null,
   "metadata": {},
   "outputs": [],
   "source": [
    "transfers = []\n",
    "index_blacklist = []\n",
    "for idx, row in transfers_df.iterrows():\n",
    "    player = row.player_name\n",
    "    if idx in index_blacklist or player not in players_df.name.values:\n",
    "        continue\n",
    "    \n",
    "    # Info about the player\n",
    "    player_info = players_df[players_df.name == player].iloc[0]\n",
    "    \n",
    "    # Time series of the value of the player in time\n",
    "    value_df = pd.read_csv(\"../data/player_values/{0}.csv\".format(player), sep=\";\", \n",
    "                           names=[\"date\", \"market_value\"], skiprows=1)\n",
    "    \n",
    "    value_df[\"date\"] = value_df.date.apply(lambda x: x.split(\"+\")[0])\n",
    "    value_df[\"date\"] = pd.to_datetime(value_df[\"date\"], format=\"%a %b %d %Y %H:%M:%S %Z\")\n",
    "    \n",
    "    # Iterations\n",
    "    current_idx = idx\n",
    "    keep_looking = True\n",
    "    purchase_date = row.date\n",
    "    purchase_price = row.value\n",
    "    origin_user = row.origin_user\n",
    "    destination_user = row.destination_user\n",
    "\n",
    "    while keep_looking: \n",
    "        next_sale = transfers_df[(transfers_df.index > current_idx) & \n",
    "                                 (transfers_df.player_name == player) & \n",
    "                                 (transfers_df.origin_user == destination_user)]\n",
    "        \n",
    "        purchase_market_value = value_df[(value_df.date <= purchase_date)].sort_values(\"date\", ascending=False).iloc[0].market_value\n",
    "        \n",
    "        if next_sale.shape[0] > 0:\n",
    "            sold_to = next_sale.iloc[0].destination_user\n",
    "            sold_by = next_sale.iloc[0].origin_user\n",
    "            sale_price = next_sale.iloc[0].value\n",
    "            sale_date = next_sale.iloc[0].date  \n",
    "            \n",
    "            sale_market_value = value_df[(value_df.date <= sale_date)].sort_values(\"date\", ascending=False).iloc[0].market_value\n",
    "            fixtures_in_team = rounds_df.loc[(rounds_df.date >= purchase_date) & (rounds_df.date <= sale_date), \"fixture\"].tolist()\n",
    "        else:\n",
    "            sale_market_value = value_df.sort_values(\"date\", ascending=False).iloc[0].market_value\n",
    "            sale_price = None\n",
    "            sale_date = None\n",
    "            sold_to = None\n",
    "            sold_by = None\n",
    "            \n",
    "            fixtures_in_team = rounds_df.loc[(rounds_df.date >= purchase_date), \"fixture\"].tolist()\n",
    "        \n",
    "        # Compute points\n",
    "        idx_rounds = [round_idx for round_idx, r in enumerate(ast.literal_eval(player_info.rounds)) if r in fixtures_in_team]\n",
    "        value_rounds = [v for round_idx, v in enumerate(ast.literal_eval(player_info.points)) if round_idx in idx_rounds]\n",
    "                \n",
    "        points = 0\n",
    "        num_matches = 0\n",
    "        num_played_matches = 0\n",
    "        for round_idx in range(len(idx_rounds)):\n",
    "            num_matches += 1\n",
    "            try:\n",
    "                points += int(value_rounds[round_idx])\n",
    "                num_played_matches += 1\n",
    "            except ValueError:\n",
    "                continue\n",
    "        \n",
    "        index_blacklist.append(current_idx)\n",
    "        transfers.append({\n",
    "            \"player\": player,\n",
    "            \"team\": player_info[\"team\"],\n",
    "            \"position\": player_info[\"position\"],\n",
    "\n",
    "            \"purchase_market_value\": purchase_market_value,\n",
    "            \"purchase_price\": purchase_price,\n",
    "            \"purchased_by\": destination_user,\n",
    "            \"purchase_date\": purchase_date,\n",
    "            \"purchased_from\": origin_user,\n",
    "\n",
    "            \"sale_market_value\": sale_market_value,\n",
    "            \"sale_price\": sale_price,\n",
    "            \"sale_date\": sale_date,\n",
    "            \"sold_by\": sold_by,\n",
    "            \"sold_to\": sold_to,\n",
    "\n",
    "            \"num_played_matches\": num_played_matches,\n",
    "            \"num_matches\": num_matches,\n",
    "            \"points\": points\n",
    "        })\n",
    "        \n",
    "        if sold_to:\n",
    "            current_idx = next_sale.index[0]\n",
    "            origin_user = sold_by\n",
    "            destination_user = sold_to\n",
    "            purchase_date = sale_date\n",
    "            purchase_price = sale_price\n",
    "        else:\n",
    "            keep_looking = False\n",
    "\n",
    "df = pd.DataFrame(transfers)\n",
    "df = df[df.purchased_by.notna()]"
   ]
  },
  {
   "cell_type": "code",
   "execution_count": null,
   "metadata": {},
   "outputs": [],
   "source": [
    "df[\"price_diff\"] = df.apply(lambda x: x.purchase_price-x.purchase_market_value, axis=1)\n",
    "df[\"rel_price_diff\"] = df.apply(lambda x: x.price_diff/x.purchase_price*100, axis=1)\n",
    "df[\"profit\"] = df.apply(lambda x: (x.sale_price if not np.isnan(x.sale_price) else x.sale_market_value)-x.purchase_price, axis=1)\n",
    "df[\"point_avg\"] = df.apply(lambda x: x.points/x.num_matches if x.num_matches > 0 else 0, axis=1)\n",
    "df[\"effective_point_avg\"] = df.apply(lambda x: x.points/x.num_played_matches if x.num_played_matches > 0 else 0, axis=1)\n",
    "df[\"price_per_point\"] = df.apply(lambda x: x.purchase_price/x.points if x.points > 0 else None, axis=1)\n",
    "df[\"ROI\"] = df.apply(lambda x: x.profit/x.purchase_price if x.purchase_price > 0 else None, axis=1)"
   ]
  },
  {
   "cell_type": "code",
   "execution_count": null,
   "metadata": {},
   "outputs": [],
   "source": [
    "df.sort_values(\"purchase_date\")"
   ]
  },
  {
   "cell_type": "markdown",
   "metadata": {},
   "source": [
    "# Results"
   ]
  },
  {
   "cell_type": "code",
   "execution_count": null,
   "metadata": {},
   "outputs": [],
   "source": [
    "th_props = [\n",
    "  ('font-size', '11px'),\n",
    "  ('text-align', 'center'),\n",
    "  ('font-weight', 'bold'),\n",
    "  ('color', '#6d6d6d'),\n",
    "  ('background-color', '#f7f7f9')\n",
    "]\n",
    "\n",
    "td_props = [\n",
    "  ('font-size', '11px')\n",
    "]\n",
    "\n",
    "styles = [\n",
    "  dict(selector=\"th\", props=th_props),\n",
    "  dict(selector=\"td\", props=td_props)\n",
    "]\n",
    "\n",
    "def human_format(num):\n",
    "    num = float('{:.3g}'.format(num))\n",
    "    magnitude = 0\n",
    "    while abs(num) >= 1000:\n",
    "        magnitude += 1\n",
    "        num /= 1000.0\n",
    "    return '{}{}'.format('{:f}'.format(num).rstrip('0').rstrip('.'), ['', 'K', 'M', 'B', 'T'][magnitude])"
   ]
  },
  {
   "cell_type": "code",
   "execution_count": null,
   "metadata": {},
   "outputs": [],
   "source": [
    "team_df = df[df.sale_price.isna()].groupby(\"purchased_by\").agg({\"profit\": \"sum\"}).reset_index()\n",
    "sales_df = df[df.sale_price.notna()].groupby(\"purchased_by\").agg({\"profit\": \"sum\"}).reset_index()\n",
    "\n",
    "teams = df.purchased_by.unique()\n",
    "num_transfers = [df[(df.purchased_by == team)].shape[0] for team in teams]\n",
    "profit_team = [team_df.loc[team_df.purchased_by == team, \"profit\"].iloc[0] for team in teams]\n",
    "profit_sales = [sales_df.loc[sales_df.purchased_by == team, \"profit\"].iloc[0] for team in teams]\n",
    "\n",
    "# Make the plot\n",
    "fig, ax = plt.subplots(figsize=(12, 12), dpi=180)\n",
    "plt.scatter(profit_sales, profit_team, s=[x**2/10 for x in num_transfers], alpha=0.7)\n",
    "\n",
    "for i, team in enumerate(teams):\n",
    "    ax.annotate(team, (profit_sales[i], profit_team[i]), xytext=(0, num_transfers[i]/1.5), textcoords='offset pixels',\n",
    "                horizontalalignment='center', verticalalignment='center')\n",
    "\n",
    "# Add xticks on the middle of the group bars\n",
    "plt.ylabel('Team profit', fontweight='bold', color=\"grey\", labelpad=10, rotation=0)\n",
    "plt.xlabel('Sales profit', fontweight='bold', color=\"grey\", labelpad=10)\n",
    "\n",
    "# Removing top and right borders\n",
    "ax.set_facecolor('white')\n",
    "fig.patch.set_alpha(1)\n",
    "\n",
    "ax.tick_params(colors='grey')\n",
    "ax.spines['top'].set_visible(False)\n",
    "ax.spines['right'].set_visible(False)\n",
    "ax.spines['left'].set_color(\"grey\")\n",
    "ax.spines['bottom'].set_color(\"grey\")\n",
    "\n",
    "xmax = 20000001\n",
    "xmin = -20000000\n",
    "xrange = range(xmin, xmax, 5000000)\n",
    "plt.xticks(xrange, [human_format(x) for x in xrange])\n",
    "plt.xlim(xmin, xmax)\n",
    "\n",
    "ymin = 0+5000000\n",
    "ymax = 40000000+5000000\n",
    "yrange = range(ymin, ymax, 5000000)\n",
    "plt.yticks(yrange, [human_format(y) for y in yrange])\n",
    "plt.ylim(0, ymax-5000000)\n",
    "\n",
    "ax.yaxis.set_label_coords(0.5, 1.03)\n",
    "\n",
    "ax.spines['left'].set_position(('data', 0))\n",
    "ax.spines['bottom'].set_position(('data', 0))\n",
    "    \n",
    "for ntransfers in [30, 60, 90]:\n",
    "    plt.scatter([], [], c=\"#1f77b4\", alpha=0.7, s=ntransfers**2/10, label=str(ntransfers)+\" transfers\")\n",
    "    \n",
    "leg = plt.legend(scatterpoints=1, frameon=False, labelspacing=2)\n",
    "for text in leg.get_texts():\n",
    "    plt.setp(text, color='grey')\n",
    "\n",
    "# Showing\n",
    "plt.show()"
   ]
  },
  {
   "cell_type": "code",
   "execution_count": null,
   "metadata": {},
   "outputs": [],
   "source": [
    "top = df.loc[df.points > 75, [\"player\", \"purchased_by\", \"points\", \"price_per_point\"]].sort_values(\"price_per_point\").head(5)\n",
    "top.rename(columns={\"player\": \"Player\", \"purchased_by\": \"Team\", \"points\": \"Points\", \"price_per_point\": \"Price per point\"}, inplace=True)\n",
    "\n",
    "top[\"Price per point\"] = top[\"Price per point\"].apply(human_format)\n",
    "\n",
    "(top.style\n",
    "    .applymap(lambda x: \"font-weight: bold\", subset=['Player'])\n",
    "    .set_caption('Most efficient players (> 75 points)')\n",
    "    .hide_index()\n",
    "    .set_table_styles(styles))"
   ]
  },
  {
   "cell_type": "code",
   "execution_count": null,
   "metadata": {},
   "outputs": [],
   "source": [
    "top = df[[\"player\", \"purchased_by\", \"purchase_price\", \"profit\"]].sort_values(\"profit\", ascending=False).head(5)\n",
    "top.rename(columns={\"player\": \"Player\", \"purchased_by\": \"Team\", \"purchase_price\": \"Purchase price\", \"profit\": \"Profit\"}, inplace=True)\n",
    "\n",
    "top[\"Purchase price\"] = top[\"Purchase price\"].apply(human_format)\n",
    "top[\"Profit\"] = top[\"Profit\"].apply(human_format)\n",
    "\n",
    "(top.style\n",
    "    .applymap(lambda x: \"font-weight: bold\", subset=['Player'])\n",
    "    .set_caption('Most profitable transfers')\n",
    "    .hide_index()\n",
    "    .set_table_styles(styles))"
   ]
  },
  {
   "cell_type": "code",
   "execution_count": null,
   "metadata": {},
   "outputs": [],
   "source": [
    "top = df.loc[df.purchase_price > 1000000, [\"player\", \"purchased_by\", \"purchase_price\", \"ROI\"]].sort_values(\"ROI\", ascending=False).head(5)\n",
    "top.rename(columns={\"player\": \"Player\", \"purchased_by\": \"Team\", \"purchase_price\": \"Purchase price\"}, inplace=True)\n",
    "\n",
    "top[\"Purchase price\"] = top[\"Purchase price\"].apply(human_format)\n",
    "\n",
    "(top.style\n",
    "    .applymap(lambda x: \"font-weight: bold\", subset=['Player'])\n",
    "    .format({'ROI': \"{:.0%}\"})\n",
    "    .set_caption('Most profitable transfers based on ROI (> 1M)')\n",
    "    .hide_index()\n",
    "    .set_table_styles(styles))"
   ]
  },
  {
   "cell_type": "code",
   "execution_count": null,
   "metadata": {},
   "outputs": [],
   "source": [
    "top = df[[\"player\", \"purchased_by\", \"purchase_price\", \"profit\"]].sort_values(\"profit\").head(5)\n",
    "top.rename(columns={\"player\": \"Player\", \"purchased_by\": \"Team\", \"purchase_price\": \"Purchase price\", \"profit\": \"Profit\"}, inplace=True)\n",
    "\n",
    "top[\"Purchase price\"] = top[\"Purchase price\"].apply(human_format)\n",
    "top[\"Profit\"] = top[\"Profit\"].apply(human_format)\n",
    "\n",
    "(top.style\n",
    "    .applymap(lambda x: \"font-weight: bold\", subset=['Player'])\n",
    "    .set_caption('Least profitable transfers')\n",
    "    .hide_index()\n",
    "    .set_table_styles(styles))"
   ]
  },
  {
   "cell_type": "code",
   "execution_count": null,
   "metadata": {},
   "outputs": [],
   "source": [
    "top = df.loc[df.purchase_price > 2000000, [\"player\", \"purchased_by\", \"purchase_price\", \"ROI\"]].sort_values(\"ROI\").head(5)\n",
    "top.rename(columns={\"player\": \"Player\", \"purchased_by\": \"Team\", \"purchase_price\": \"Purchase price\"}, inplace=True)\n",
    "\n",
    "top[\"Purchase price\"] = top[\"Purchase price\"].apply(human_format)\n",
    "\n",
    "(top.style\n",
    "    .applymap(lambda x: \"font-weight: bold\", subset=['Player'])\n",
    "    .format({'ROI': \"{:.0%}\"})\n",
    "    .set_caption('Least profitable transfers based on ROI (> 2M)')\n",
    "    .hide_index()\n",
    "    .set_table_styles(styles))"
   ]
  },
  {
   "cell_type": "code",
   "execution_count": null,
   "metadata": {},
   "outputs": [],
   "source": [
    "fig = px.violin(df, y=\"profit\", x=\"purchased_by\", points=\"all\", hover_name=\"player\")\n",
    "fig.update_yaxes(title_text='Profit')\n",
    "fig.update_xaxes(title_text='Team')\n",
    "fig.show()"
   ]
  }
 ],
 "metadata": {
  "kernelspec": {
   "display_name": "Python 3",
   "language": "python",
   "name": "python3"
  },
  "language_info": {
   "codemirror_mode": {
    "name": "ipython",
    "version": 3
   },
   "file_extension": ".py",
   "mimetype": "text/x-python",
   "name": "python",
   "nbconvert_exporter": "python",
   "pygments_lexer": "ipython3",
   "version": "3.7.1"
  }
 },
 "nbformat": 4,
 "nbformat_minor": 2
}

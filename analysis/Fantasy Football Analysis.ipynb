{
 "cells": [
  {
   "cell_type": "code",
   "execution_count": null,
   "metadata": {},
   "outputs": [],
   "source": [
    "import plotly.express as px\n",
    "import matplotlib as plt\n",
    "import seaborn as sns\n",
    "import pandas as pd\n",
    "import numpy as np\n",
    "import ast\n",
    "\n",
    "\n",
    "def human_format(num):\n",
    "    num = float('{:.3g}'.format(num))\n",
    "    magnitude = 0\n",
    "    while abs(num) >= 1000:\n",
    "        magnitude += 1\n",
    "        num /= 1000.0\n",
    "    return '{}{}'.format('{:f}'.format(num).rstrip('0').rstrip('.'), ['', 'K', 'M', 'B', 'T'][magnitude])\n",
    "\n",
    "\n",
    "biwenger = pd.read_csv(\"../data/players.csv\", index_col=[0])\n",
    "lineups = pd.read_csv(\"../data/lineups_base.csv\", sep=\";\", index_col=[0])\n",
    "\n",
    "positions = [\"Goalkeeper\", \"Defender\", \"Midfielder\", \"Forward\"]"
   ]
  },
  {
   "cell_type": "code",
   "execution_count": null,
   "metadata": {},
   "outputs": [],
   "source": [
    "th_props = [\n",
    "  ('font-size', '11px'),\n",
    "  ('text-align', 'center'),\n",
    "  ('font-weight', 'bold'),\n",
    "  ('color', '#6d6d6d'),\n",
    "  ('background-color', '#f7f7f9')\n",
    "]\n",
    "\n",
    "td_props = [\n",
    "  ('font-size', '11px')\n",
    "]\n",
    "\n",
    "styles = [\n",
    "  dict(selector=\"th\", props=th_props),\n",
    "  dict(selector=\"td\", props=td_props)\n",
    "]\n",
    "\n",
    "green_cm = sns.light_palette(\"#44ab42\", as_cmap=True)\n",
    "\n",
    "def color_text_distribution(value, mean, std, positive=True):\n",
    "    if value <= mean-(1.5*std):\n",
    "        color = 'red' if positive else 'green'\n",
    "    elif value >= mean+(1.5*std):\n",
    "        color = 'green' if positive else 'red'\n",
    "    else:\n",
    "        color = 'black'\n",
    "    return 'color: %s' % color\n",
    "\n",
    "def top_players_table(players, position, k=15):\n",
    "    selected_columns = [\"name\", \"games\", \"points\", \"value\", \"cards\", \"points_per_million\", \"points_per_game\", \"pct_lineup\"]\n",
    "    top = players.loc[players.position == position, selected_columns].sort_values(\"pct_lineup\", ascending=False).head(k)\n",
    "\n",
    "    card_stats = players.loc[players.position == position, \"cards\"].describe()\n",
    "    ppg_stats = playe1rs.loc[players.position == position, \"points_per_game\"].describe()\n",
    "    ppm_stats = players.loc[players.position == position, \"points_per_million\"].describe()\n",
    "\n",
    "    top[\"value\"] = top.value.apply(human_format)\n",
    "    \n",
    "    return (top.style\n",
    "               .applymap(lambda x: \"font-weight: bold\", subset=['name'])\n",
    "               .background_gradient(cmap=green_cm, subset=['pct_lineup'])\n",
    "               .applymap(lambda x: color_text_distribution(x, card_stats[\"mean\"], card_stats[\"std\"], positive=False), subset=['cards'])\n",
    "               .applymap(lambda x: color_text_distribution(x, ppg_stats[\"mean\"], ppg_stats[\"std\"]), subset=['points_per_game'])\n",
    "               .applymap(lambda x: color_text_distribution(x, ppm_stats[\"mean\"], ppm_stats[\"std\"]), subset=['points_per_million'])\n",
    "               .set_caption('Top {0}s:'.format(position))\n",
    "               .format({'points_per_game': \"{:.3}\", 'points_per_million': \"{:.4}\"})\n",
    "               .set_table_styles(styles))\n",
    "\n",
    "def bubble_chart(players, position):\n",
    "    top = players.loc[players.position == position]\n",
    "    fig = px.scatter(top, x=\"points_per_game\", y=\"points_per_million\", size=\"pct_lineup\", color=\"value\", hover_name=\"name\")\n",
    "    fig.update_xaxes(title_text='Points per Game')\n",
    "    fig.update_yaxes(title_text='Points per Million')\n",
    "    fig.show()"
   ]
  },
  {
   "cell_type": "markdown",
   "metadata": {},
   "source": [
    "# Position Analysis"
   ]
  },
  {
   "cell_type": "code",
   "execution_count": null,
   "metadata": {},
   "outputs": [],
   "source": [
    "position_stats = []\n",
    "for position in positions:\n",
    "    # Points average and sum\n",
    "    str_points = lineups[\"{0}_points\".format(position.lower())]\n",
    "    point_sum = str_points.apply(ast.literal_eval).apply(np.sum).mean()\n",
    "    point_avg = str_points.apply(ast.literal_eval).apply(np.mean).mean()\n",
    "    \n",
    "    # Value average and sum\n",
    "    str_value = lineups[\"{0}_values\".format(position.lower())]\n",
    "    value_sum = str_value.apply(ast.literal_eval).apply(np.sum).mean()\n",
    "    value_avg = str_value.apply(ast.literal_eval).apply(np.mean).mean()\n",
    "    value_pct = value_sum/lineups[\"total_value\"]\n",
    "    \n",
    "    position_stats.append({\n",
    "        \"position\": position,\n",
    "        \"sum_points\": human_format(point_sum),\n",
    "        \"avg_points\": human_format(point_avg),\n",
    "        \"sum_value\": human_format(value_sum),\n",
    "        \"avg_value\": human_format(value_avg),\n",
    "        \"pct_value\": \"{0}%\".format(int(value_pct.mean()*100))\n",
    "    })\n",
    "    \n",
    "position_stats = pd.DataFrame(position_stats)\n",
    "position_stats"
   ]
  },
  {
   "cell_type": "markdown",
   "metadata": {},
   "source": [
    "# Player Analysis"
   ]
  },
  {
   "cell_type": "code",
   "execution_count": null,
   "metadata": {},
   "outputs": [],
   "source": [
    "player_appearances = []\n",
    "for _, row in lineups.iterrows():\n",
    "    for position in positions:\n",
    "        str_players = row[\"{0}s\".format(position.lower())]\n",
    "        for player in ast.literal_eval(str_players):\n",
    "            player_appearances.append({\"name\": player})\n",
    "\n",
    "player_counts = pd.DataFrame(player_appearances).groupby(\"name\").size().reset_index(name='lineups')\n",
    "players = pd.merge(player_counts, biwenger, how='left', on='name')\n",
    "\n",
    "players[\"points_per_million\"] = players[\"points\"] / players[\"value\"] * 1000000\n",
    "players[\"pct_lineup\"] = players[\"lineups\"] / lineups.shape[0] * 100\n",
    "players[\"points_per_game\"] = players[\"points\"] / players[\"games\"]"
   ]
  },
  {
   "cell_type": "markdown",
   "metadata": {},
   "source": [
    "## Goalkeepers"
   ]
  },
  {
   "cell_type": "code",
   "execution_count": null,
   "metadata": {},
   "outputs": [],
   "source": [
    "top_players_table(players, \"Goalkeeper\")"
   ]
  },
  {
   "cell_type": "code",
   "execution_count": null,
   "metadata": {},
   "outputs": [],
   "source": [
    "bubble_chart(players, \"Goalkeeper\")"
   ]
  },
  {
   "cell_type": "markdown",
   "metadata": {},
   "source": [
    "## Defenders"
   ]
  },
  {
   "cell_type": "code",
   "execution_count": null,
   "metadata": {},
   "outputs": [],
   "source": [
    "top_players_table(players, \"Defender\", k=20)"
   ]
  },
  {
   "cell_type": "code",
   "execution_count": null,
   "metadata": {},
   "outputs": [],
   "source": [
    "bubble_chart(players, \"Defender\")"
   ]
  },
  {
   "cell_type": "markdown",
   "metadata": {},
   "source": [
    "## Midfielders"
   ]
  },
  {
   "cell_type": "code",
   "execution_count": null,
   "metadata": {},
   "outputs": [],
   "source": [
    "top_players_table(players, \"Midfielder\", k=20)"
   ]
  },
  {
   "cell_type": "code",
   "execution_count": null,
   "metadata": {},
   "outputs": [],
   "source": [
    "bubble_chart(players, \"Midfielder\")"
   ]
  },
  {
   "cell_type": "markdown",
   "metadata": {},
   "source": [
    "## Forwards"
   ]
  },
  {
   "cell_type": "code",
   "execution_count": null,
   "metadata": {},
   "outputs": [],
   "source": [
    "top_players_table(players, \"Forward\", k=20)"
   ]
  },
  {
   "cell_type": "code",
   "execution_count": null,
   "metadata": {},
   "outputs": [],
   "source": [
    "bubble_chart(players, \"Forward\")"
   ]
  }
 ],
 "metadata": {
  "kernelspec": {
   "display_name": "Python 3",
   "language": "python",
   "name": "python3"
  },
  "language_info": {
   "codemirror_mode": {
    "name": "ipython",
    "version": 3
   },
   "file_extension": ".py",
   "mimetype": "text/x-python",
   "name": "python",
   "nbconvert_exporter": "python",
   "pygments_lexer": "ipython3",
   "version": "3.7.1"
  }
 },
 "nbformat": 4,
 "nbformat_minor": 2
}

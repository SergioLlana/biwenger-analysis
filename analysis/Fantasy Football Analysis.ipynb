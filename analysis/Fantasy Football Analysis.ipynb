{
 "cells": [
  {
   "cell_type": "code",
   "execution_count": 25,
   "metadata": {},
   "outputs": [],
   "source": [
    "import plotly.express as px\n",
    "import matplotlib as plt\n",
    "import seaborn as sns\n",
    "import pandas as pd\n",
    "import numpy as np\n",
    "import ast\n",
    "\n",
    "\n",
    "def human_format(num):\n",
    "    num = float('{:.3g}'.format(num))\n",
    "    magnitude = 0\n",
    "    while abs(num) >= 1000:\n",
    "        magnitude += 1\n",
    "        num /= 1000.0\n",
    "    return '{}{}'.format('{:f}'.format(num).rstrip('0').rstrip('.'), ['', 'K', 'M', 'B', 'T'][magnitude])\n",
    "\n",
    "\n",
    "biwenger = pd.read_csv(\"../data/players.csv\", index_col=[0])\n",
    "lineups = pd.read_csv(\"../data/lineups_base.csv\", sep=\";\", index_col=[0])\n",
    "\n",
    "positions = [\"Goalkeeper\", \"Defender\", \"Midfielder\", \"Forward\"]"
   ]
  },
  {
   "cell_type": "code",
   "execution_count": 26,
   "metadata": {},
   "outputs": [],
   "source": [
    "th_props = [\n",
    "  ('font-size', '11px'),\n",
    "  ('text-align', 'center'),\n",
    "  ('font-weight', 'bold'),\n",
    "  ('color', '#6d6d6d'),\n",
    "  ('background-color', '#f7f7f9')\n",
    "]\n",
    "\n",
    "td_props = [\n",
    "  ('font-size', '11px')\n",
    "]\n",
    "\n",
    "styles = [\n",
    "  dict(selector=\"th\", props=th_props),\n",
    "  dict(selector=\"td\", props=td_props)\n",
    "]\n",
    "\n",
    "green_cm = sns.light_palette(\"#44ab42\", as_cmap=True)\n",
    "\n",
    "def color_text_distribution(value, mean, std, positive=True):\n",
    "    if value <= mean-(1.5*std):\n",
    "        color = 'red' if positive else 'green'\n",
    "    elif value >= mean+(1.5*std):\n",
    "        color = 'green' if positive else 'red'\n",
    "    else:\n",
    "        color = 'black'\n",
    "    return 'color: %s' % color\n",
    "\n",
    "def top_players_table(players, position, k=15):\n",
    "    selected_columns = [\"name\", \"games\", \"points\", \"value\", \"cards\", \"points_per_million\", \"points_per_game\", \"pct_lineup\"]\n",
    "    top = players.loc[players.position == position, selected_columns].sort_values(\"pct_lineup\", ascending=False).head(k)\n",
    "\n",
    "    card_stats = players.loc[players.position == position, \"cards\"].describe()\n",
    "    ppg_stats = players.loc[players.position == position, \"points_per_game\"].describe()\n",
    "    ppm_stats = players.loc[players.position == position, \"points_per_million\"].describe()\n",
    "\n",
    "    top[\"value\"] = top.value.apply(human_format)\n",
    "    \n",
    "    return (top.style\n",
    "               .applymap(lambda x: \"font-weight: bold\", subset=['name'])\n",
    "               .background_gradient(cmap=green_cm, subset=['pct_lineup'])\n",
    "               .applymap(lambda x: color_text_distribution(x, card_stats[\"mean\"], card_stats[\"std\"], positive=False), subset=['cards'])\n",
    "               .applymap(lambda x: color_text_distribution(x, ppg_stats[\"mean\"], ppg_stats[\"std\"]), subset=['points_per_game'])\n",
    "               .applymap(lambda x: color_text_distribution(x, ppm_stats[\"mean\"], ppm_stats[\"std\"]), subset=['points_per_million'])\n",
    "               .set_caption('Top {0}s:'.format(position))\n",
    "               .format({'points_per_game': \"{:.3}\", 'points_per_million': \"{:.4}\"})\n",
    "               .set_table_styles(styles))\n",
    "\n",
    "def bubble_chart(players, position):\n",
    "    top = players.loc[players.position == position]\n",
    "    fig = px.scatter(top, x=\"points_per_game\", y=\"points_per_million\", size=\"pct_lineup\", color=\"value\", hover_name=\"name\")\n",
    "    fig.update_xaxes(title_text='Points per Game')\n",
    "    fig.update_yaxes(title_text='Points per Million')\n",
    "    fig.show()"
   ]
  },
  {
   "cell_type": "markdown",
   "metadata": {},
   "source": [
    "# Position Analysis"
   ]
  },
  {
   "cell_type": "code",
   "execution_count": 38,
   "metadata": {},
   "outputs": [
    {
     "data": {
      "text/html": [
       "<div>\n",
       "<style scoped>\n",
       "    .dataframe tbody tr th:only-of-type {\n",
       "        vertical-align: middle;\n",
       "    }\n",
       "\n",
       "    .dataframe tbody tr th {\n",
       "        vertical-align: top;\n",
       "    }\n",
       "\n",
       "    .dataframe thead th {\n",
       "        text-align: right;\n",
       "    }\n",
       "</style>\n",
       "<table border=\"1\" class=\"dataframe\">\n",
       "  <thead>\n",
       "    <tr style=\"text-align: right;\">\n",
       "      <th></th>\n",
       "      <th>avg_points</th>\n",
       "      <th>avg_value</th>\n",
       "      <th>pct_value</th>\n",
       "      <th>position</th>\n",
       "      <th>sum_points</th>\n",
       "      <th>sum_value</th>\n",
       "    </tr>\n",
       "  </thead>\n",
       "  <tbody>\n",
       "    <tr>\n",
       "      <th>0</th>\n",
       "      <td>154</td>\n",
       "      <td>3.38M</td>\n",
       "      <td>6%</td>\n",
       "      <td>Goalkeeper</td>\n",
       "      <td>154</td>\n",
       "      <td>3.38M</td>\n",
       "    </tr>\n",
       "    <tr>\n",
       "      <th>1</th>\n",
       "      <td>133</td>\n",
       "      <td>2.32M</td>\n",
       "      <td>16%</td>\n",
       "      <td>Defender</td>\n",
       "      <td>533</td>\n",
       "      <td>9.29M</td>\n",
       "    </tr>\n",
       "    <tr>\n",
       "      <th>2</th>\n",
       "      <td>148</td>\n",
       "      <td>3.18M</td>\n",
       "      <td>34%</td>\n",
       "      <td>Midfielder</td>\n",
       "      <td>887</td>\n",
       "      <td>19.1M</td>\n",
       "    </tr>\n",
       "    <tr>\n",
       "      <th>3</th>\n",
       "      <td>225</td>\n",
       "      <td>8.18M</td>\n",
       "      <td>43%</td>\n",
       "      <td>Forward</td>\n",
       "      <td>675</td>\n",
       "      <td>24.5M</td>\n",
       "    </tr>\n",
       "  </tbody>\n",
       "</table>\n",
       "</div>"
      ],
      "text/plain": [
       "  avg_points avg_value pct_value    position sum_points sum_value\n",
       "0        154     3.38M        6%  Goalkeeper        154     3.38M\n",
       "1        133     2.32M       16%    Defender        533     9.29M\n",
       "2        148     3.18M       34%  Midfielder        887     19.1M\n",
       "3        225     8.18M       43%     Forward        675     24.5M"
      ]
     },
     "execution_count": 38,
     "metadata": {},
     "output_type": "execute_result"
    }
   ],
   "source": [
    "position_stats = []\n",
    "for position in positions:\n",
    "    # Points average and sum\n",
    "    str_points = lineups[\"{0}_points\".format(position.lower())]\n",
    "    point_sum = str_points.apply(ast.literal_eval).apply(np.sum).mean()\n",
    "    point_avg = str_points.apply(ast.literal_eval).apply(np.mean).mean()\n",
    "    \n",
    "    # Value average and sum\n",
    "    str_value = lineups[\"{0}_values\".format(position.lower())]\n",
    "    value_sum = str_value.apply(ast.literal_eval).apply(np.sum).mean()\n",
    "    value_avg = str_value.apply(ast.literal_eval).apply(np.mean).mean()\n",
    "    value_pct = value_sum/lineups[\"total_value\"]\n",
    "    \n",
    "    position_stats.append({\n",
    "        \"position\": position,\n",
    "        \"sum_points\": human_format(point_sum),\n",
    "        \"avg_points\": human_format(point_avg),\n",
    "        \"sum_value\": human_format(value_sum),\n",
    "        \"avg_value\": human_format(value_avg),\n",
    "        \"pct_value\": \"{0}%\".format(int(value_pct.mean()*100))\n",
    "    })\n",
    "    \n",
    "position_stats = pd.DataFrame(position_stats)\n",
    "position_stats"
   ]
  },
  {
   "cell_type": "markdown",
   "metadata": {},
   "source": [
    "# Player Analysis"
   ]
  },
  {
   "cell_type": "code",
   "execution_count": 28,
   "metadata": {},
   "outputs": [],
   "source": [
    "player_appearances = []\n",
    "for _, row in lineups.iterrows():\n",
    "    for position in positions:\n",
    "        str_players = row[\"{0}s\".format(position.lower())]\n",
    "        for player in ast.literal_eval(str_players):\n",
    "            player_appearances.append({\"name\": player})\n",
    "\n",
    "player_counts = pd.DataFrame(player_appearances).groupby(\"name\").size().reset_index(name='lineups')\n",
    "players = pd.merge(player_counts, biwenger, how='left', on='name')\n",
    "\n",
    "players[\"points_per_million\"] = players[\"points\"] / players[\"value\"] * 1000000\n",
    "players[\"pct_lineup\"] = players[\"lineups\"] / lineups.shape[0] * 100\n",
    "players[\"points_per_game\"] = players[\"points\"] / players[\"games\"]"
   ]
  },
  {
   "cell_type": "markdown",
   "metadata": {},
   "source": [
    "## Goalkeepers"
   ]
  },
  {
   "cell_type": "code",
   "execution_count": 29,
   "metadata": {},
   "outputs": [
    {
     "data": {
      "text/html": [
       "<style  type=\"text/css\" >\n",
       "    #T_b99ee18e_b375_11e9_b72b_9801a7978c49 th {\n",
       "          font-size: 11px;\n",
       "          text-align: center;\n",
       "          font-weight: bold;\n",
       "          color: #6d6d6d;\n",
       "          background-color: #f7f7f9;\n",
       "    }    #T_b99ee18e_b375_11e9_b72b_9801a7978c49 td {\n",
       "          font-size: 11px;\n",
       "    }    #T_b99ee18e_b375_11e9_b72b_9801a7978c49row0_col0 {\n",
       "            font-weight:  bold;\n",
       "        }    #T_b99ee18e_b375_11e9_b72b_9801a7978c49row0_col4 {\n",
       "            color:  black;\n",
       "        }    #T_b99ee18e_b375_11e9_b72b_9801a7978c49row0_col5 {\n",
       "            color:  black;\n",
       "        }    #T_b99ee18e_b375_11e9_b72b_9801a7978c49row0_col6 {\n",
       "            color:  black;\n",
       "        }    #T_b99ee18e_b375_11e9_b72b_9801a7978c49row0_col7 {\n",
       "            background-color:  #44ab42;\n",
       "        }    #T_b99ee18e_b375_11e9_b72b_9801a7978c49row1_col0 {\n",
       "            font-weight:  bold;\n",
       "        }    #T_b99ee18e_b375_11e9_b72b_9801a7978c49row1_col4 {\n",
       "            color:  black;\n",
       "        }    #T_b99ee18e_b375_11e9_b72b_9801a7978c49row1_col5 {\n",
       "            color:  red;\n",
       "        }    #T_b99ee18e_b375_11e9_b72b_9801a7978c49row1_col6 {\n",
       "            color:  green;\n",
       "        }    #T_b99ee18e_b375_11e9_b72b_9801a7978c49row1_col7 {\n",
       "            background-color:  #52b150;\n",
       "        }    #T_b99ee18e_b375_11e9_b72b_9801a7978c49row2_col0 {\n",
       "            font-weight:  bold;\n",
       "        }    #T_b99ee18e_b375_11e9_b72b_9801a7978c49row2_col4 {\n",
       "            color:  black;\n",
       "        }    #T_b99ee18e_b375_11e9_b72b_9801a7978c49row2_col5 {\n",
       "            color:  black;\n",
       "        }    #T_b99ee18e_b375_11e9_b72b_9801a7978c49row2_col6 {\n",
       "            color:  black;\n",
       "        }    #T_b99ee18e_b375_11e9_b72b_9801a7978c49row2_col7 {\n",
       "            background-color:  #5cb65b;\n",
       "        }    #T_b99ee18e_b375_11e9_b72b_9801a7978c49row3_col0 {\n",
       "            font-weight:  bold;\n",
       "        }    #T_b99ee18e_b375_11e9_b72b_9801a7978c49row3_col4 {\n",
       "            color:  black;\n",
       "        }    #T_b99ee18e_b375_11e9_b72b_9801a7978c49row3_col5 {\n",
       "            color:  black;\n",
       "        }    #T_b99ee18e_b375_11e9_b72b_9801a7978c49row3_col6 {\n",
       "            color:  black;\n",
       "        }    #T_b99ee18e_b375_11e9_b72b_9801a7978c49row3_col7 {\n",
       "            background-color:  #60b85e;\n",
       "        }    #T_b99ee18e_b375_11e9_b72b_9801a7978c49row4_col0 {\n",
       "            font-weight:  bold;\n",
       "        }    #T_b99ee18e_b375_11e9_b72b_9801a7978c49row4_col4 {\n",
       "            color:  black;\n",
       "        }    #T_b99ee18e_b375_11e9_b72b_9801a7978c49row4_col5 {\n",
       "            color:  black;\n",
       "        }    #T_b99ee18e_b375_11e9_b72b_9801a7978c49row4_col6 {\n",
       "            color:  black;\n",
       "        }    #T_b99ee18e_b375_11e9_b72b_9801a7978c49row4_col7 {\n",
       "            background-color:  #79c378;\n",
       "        }    #T_b99ee18e_b375_11e9_b72b_9801a7978c49row5_col0 {\n",
       "            font-weight:  bold;\n",
       "        }    #T_b99ee18e_b375_11e9_b72b_9801a7978c49row5_col4 {\n",
       "            color:  black;\n",
       "        }    #T_b99ee18e_b375_11e9_b72b_9801a7978c49row5_col5 {\n",
       "            color:  black;\n",
       "        }    #T_b99ee18e_b375_11e9_b72b_9801a7978c49row5_col6 {\n",
       "            color:  black;\n",
       "        }    #T_b99ee18e_b375_11e9_b72b_9801a7978c49row5_col7 {\n",
       "            background-color:  #7ac479;\n",
       "        }    #T_b99ee18e_b375_11e9_b72b_9801a7978c49row6_col0 {\n",
       "            font-weight:  bold;\n",
       "        }    #T_b99ee18e_b375_11e9_b72b_9801a7978c49row6_col4 {\n",
       "            color:  black;\n",
       "        }    #T_b99ee18e_b375_11e9_b72b_9801a7978c49row6_col5 {\n",
       "            color:  black;\n",
       "        }    #T_b99ee18e_b375_11e9_b72b_9801a7978c49row6_col6 {\n",
       "            color:  black;\n",
       "        }    #T_b99ee18e_b375_11e9_b72b_9801a7978c49row6_col7 {\n",
       "            background-color:  #84c883;\n",
       "        }    #T_b99ee18e_b375_11e9_b72b_9801a7978c49row7_col0 {\n",
       "            font-weight:  bold;\n",
       "        }    #T_b99ee18e_b375_11e9_b72b_9801a7978c49row7_col4 {\n",
       "            color:  red;\n",
       "        }    #T_b99ee18e_b375_11e9_b72b_9801a7978c49row7_col5 {\n",
       "            color:  black;\n",
       "        }    #T_b99ee18e_b375_11e9_b72b_9801a7978c49row7_col6 {\n",
       "            color:  black;\n",
       "        }    #T_b99ee18e_b375_11e9_b72b_9801a7978c49row7_col7 {\n",
       "            background-color:  #8fcd8e;\n",
       "        }    #T_b99ee18e_b375_11e9_b72b_9801a7978c49row8_col0 {\n",
       "            font-weight:  bold;\n",
       "        }    #T_b99ee18e_b375_11e9_b72b_9801a7978c49row8_col4 {\n",
       "            color:  black;\n",
       "        }    #T_b99ee18e_b375_11e9_b72b_9801a7978c49row8_col5 {\n",
       "            color:  black;\n",
       "        }    #T_b99ee18e_b375_11e9_b72b_9801a7978c49row8_col6 {\n",
       "            color:  black;\n",
       "        }    #T_b99ee18e_b375_11e9_b72b_9801a7978c49row8_col7 {\n",
       "            background-color:  #b9e0b8;\n",
       "        }    #T_b99ee18e_b375_11e9_b72b_9801a7978c49row9_col0 {\n",
       "            font-weight:  bold;\n",
       "        }    #T_b99ee18e_b375_11e9_b72b_9801a7978c49row9_col4 {\n",
       "            color:  black;\n",
       "        }    #T_b99ee18e_b375_11e9_b72b_9801a7978c49row9_col5 {\n",
       "            color:  black;\n",
       "        }    #T_b99ee18e_b375_11e9_b72b_9801a7978c49row9_col6 {\n",
       "            color:  black;\n",
       "        }    #T_b99ee18e_b375_11e9_b72b_9801a7978c49row9_col7 {\n",
       "            background-color:  #bee2bd;\n",
       "        }    #T_b99ee18e_b375_11e9_b72b_9801a7978c49row10_col0 {\n",
       "            font-weight:  bold;\n",
       "        }    #T_b99ee18e_b375_11e9_b72b_9801a7978c49row10_col4 {\n",
       "            color:  black;\n",
       "        }    #T_b99ee18e_b375_11e9_b72b_9801a7978c49row10_col5 {\n",
       "            color:  black;\n",
       "        }    #T_b99ee18e_b375_11e9_b72b_9801a7978c49row10_col6 {\n",
       "            color:  black;\n",
       "        }    #T_b99ee18e_b375_11e9_b72b_9801a7978c49row10_col7 {\n",
       "            background-color:  #cce9cc;\n",
       "        }    #T_b99ee18e_b375_11e9_b72b_9801a7978c49row11_col0 {\n",
       "            font-weight:  bold;\n",
       "        }    #T_b99ee18e_b375_11e9_b72b_9801a7978c49row11_col4 {\n",
       "            color:  black;\n",
       "        }    #T_b99ee18e_b375_11e9_b72b_9801a7978c49row11_col5 {\n",
       "            color:  green;\n",
       "        }    #T_b99ee18e_b375_11e9_b72b_9801a7978c49row11_col6 {\n",
       "            color:  black;\n",
       "        }    #T_b99ee18e_b375_11e9_b72b_9801a7978c49row11_col7 {\n",
       "            background-color:  #cfeace;\n",
       "        }    #T_b99ee18e_b375_11e9_b72b_9801a7978c49row12_col0 {\n",
       "            font-weight:  bold;\n",
       "        }    #T_b99ee18e_b375_11e9_b72b_9801a7978c49row12_col4 {\n",
       "            color:  black;\n",
       "        }    #T_b99ee18e_b375_11e9_b72b_9801a7978c49row12_col5 {\n",
       "            color:  black;\n",
       "        }    #T_b99ee18e_b375_11e9_b72b_9801a7978c49row12_col6 {\n",
       "            color:  red;\n",
       "        }    #T_b99ee18e_b375_11e9_b72b_9801a7978c49row12_col7 {\n",
       "            background-color:  #d6edd5;\n",
       "        }    #T_b99ee18e_b375_11e9_b72b_9801a7978c49row13_col0 {\n",
       "            font-weight:  bold;\n",
       "        }    #T_b99ee18e_b375_11e9_b72b_9801a7978c49row13_col4 {\n",
       "            color:  black;\n",
       "        }    #T_b99ee18e_b375_11e9_b72b_9801a7978c49row13_col5 {\n",
       "            color:  red;\n",
       "        }    #T_b99ee18e_b375_11e9_b72b_9801a7978c49row13_col6 {\n",
       "            color:  black;\n",
       "        }    #T_b99ee18e_b375_11e9_b72b_9801a7978c49row13_col7 {\n",
       "            background-color:  #dff2df;\n",
       "        }    #T_b99ee18e_b375_11e9_b72b_9801a7978c49row14_col0 {\n",
       "            font-weight:  bold;\n",
       "        }    #T_b99ee18e_b375_11e9_b72b_9801a7978c49row14_col4 {\n",
       "            color:  black;\n",
       "        }    #T_b99ee18e_b375_11e9_b72b_9801a7978c49row14_col5 {\n",
       "            color:  black;\n",
       "        }    #T_b99ee18e_b375_11e9_b72b_9801a7978c49row14_col6 {\n",
       "            color:  black;\n",
       "        }    #T_b99ee18e_b375_11e9_b72b_9801a7978c49row14_col7 {\n",
       "            background-color:  #edf8ed;\n",
       "        }</style>  \n",
       "<table id=\"T_b99ee18e_b375_11e9_b72b_9801a7978c49\" ><caption>Top Goalkeepers:</caption> \n",
       "<thead>    <tr> \n",
       "        <th class=\"blank level0\" ></th> \n",
       "        <th class=\"col_heading level0 col0\" >name</th> \n",
       "        <th class=\"col_heading level0 col1\" >games</th> \n",
       "        <th class=\"col_heading level0 col2\" >points</th> \n",
       "        <th class=\"col_heading level0 col3\" >value</th> \n",
       "        <th class=\"col_heading level0 col4\" >cards</th> \n",
       "        <th class=\"col_heading level0 col5\" >points_per_million</th> \n",
       "        <th class=\"col_heading level0 col6\" >points_per_game</th> \n",
       "        <th class=\"col_heading level0 col7\" >pct_lineup</th> \n",
       "    </tr></thead> \n",
       "<tbody>    <tr> \n",
       "        <th id=\"T_b99ee18e_b375_11e9_b72b_9801a7978c49level0_row0\" class=\"row_heading level0 row0\" >62</th> \n",
       "        <td id=\"T_b99ee18e_b375_11e9_b72b_9801a7978c49row0_col0\" class=\"data row0 col0\" >David Soria</td> \n",
       "        <td id=\"T_b99ee18e_b375_11e9_b72b_9801a7978c49row0_col1\" class=\"data row0 col1\" >37</td> \n",
       "        <td id=\"T_b99ee18e_b375_11e9_b72b_9801a7978c49row0_col2\" class=\"data row0 col2\" >178</td> \n",
       "        <td id=\"T_b99ee18e_b375_11e9_b72b_9801a7978c49row0_col3\" class=\"data row0 col3\" >3.69M</td> \n",
       "        <td id=\"T_b99ee18e_b375_11e9_b72b_9801a7978c49row0_col4\" class=\"data row0 col4\" >0</td> \n",
       "        <td id=\"T_b99ee18e_b375_11e9_b72b_9801a7978c49row0_col5\" class=\"data row0 col5\" >48.24</td> \n",
       "        <td id=\"T_b99ee18e_b375_11e9_b72b_9801a7978c49row0_col6\" class=\"data row0 col6\" >4.81</td> \n",
       "        <td id=\"T_b99ee18e_b375_11e9_b72b_9801a7978c49row0_col7\" class=\"data row0 col7\" >12.2</td> \n",
       "    </tr>    <tr> \n",
       "        <th id=\"T_b99ee18e_b375_11e9_b72b_9801a7978c49level0_row1\" class=\"row_heading level0 row1\" >171</th> \n",
       "        <td id=\"T_b99ee18e_b375_11e9_b72b_9801a7978c49row1_col0\" class=\"data row1 col0\" >Oblak</td> \n",
       "        <td id=\"T_b99ee18e_b375_11e9_b72b_9801a7978c49row1_col1\" class=\"data row1 col1\" >37</td> \n",
       "        <td id=\"T_b99ee18e_b375_11e9_b72b_9801a7978c49row1_col2\" class=\"data row1 col2\" >196</td> \n",
       "        <td id=\"T_b99ee18e_b375_11e9_b72b_9801a7978c49row1_col3\" class=\"data row1 col3\" >6.86M</td> \n",
       "        <td id=\"T_b99ee18e_b375_11e9_b72b_9801a7978c49row1_col4\" class=\"data row1 col4\" >0</td> \n",
       "        <td id=\"T_b99ee18e_b375_11e9_b72b_9801a7978c49row1_col5\" class=\"data row1 col5\" >28.57</td> \n",
       "        <td id=\"T_b99ee18e_b375_11e9_b72b_9801a7978c49row1_col6\" class=\"data row1 col6\" >5.3</td> \n",
       "        <td id=\"T_b99ee18e_b375_11e9_b72b_9801a7978c49row1_col7\" class=\"data row1 col7\" >11.3</td> \n",
       "    </tr>    <tr> \n",
       "        <th id=\"T_b99ee18e_b375_11e9_b72b_9801a7978c49level0_row2\" class=\"row_heading level0 row2\" >175</th> \n",
       "        <td id=\"T_b99ee18e_b375_11e9_b72b_9801a7978c49row2_col0\" class=\"data row2 col0\" >Pacheco</td> \n",
       "        <td id=\"T_b99ee18e_b375_11e9_b72b_9801a7978c49row2_col1\" class=\"data row2 col1\" >35</td> \n",
       "        <td id=\"T_b99ee18e_b375_11e9_b72b_9801a7978c49row2_col2\" class=\"data row2 col2\" >173</td> \n",
       "        <td id=\"T_b99ee18e_b375_11e9_b72b_9801a7978c49row2_col3\" class=\"data row2 col3\" >3.91M</td> \n",
       "        <td id=\"T_b99ee18e_b375_11e9_b72b_9801a7978c49row2_col4\" class=\"data row2 col4\" >3</td> \n",
       "        <td id=\"T_b99ee18e_b375_11e9_b72b_9801a7978c49row2_col5\" class=\"data row2 col5\" >44.25</td> \n",
       "        <td id=\"T_b99ee18e_b375_11e9_b72b_9801a7978c49row2_col6\" class=\"data row2 col6\" >4.94</td> \n",
       "        <td id=\"T_b99ee18e_b375_11e9_b72b_9801a7978c49row2_col7\" class=\"data row2 col7\" >10.6</td> \n",
       "    </tr>    <tr> \n",
       "        <th id=\"T_b99ee18e_b375_11e9_b72b_9801a7978c49level0_row3\" class=\"row_heading level0 row3\" >13</th> \n",
       "        <td id=\"T_b99ee18e_b375_11e9_b72b_9801a7978c49row3_col0\" class=\"data row3 col0\" >Asenjo</td> \n",
       "        <td id=\"T_b99ee18e_b375_11e9_b72b_9801a7978c49row3_col1\" class=\"data row3 col1\" >32</td> \n",
       "        <td id=\"T_b99ee18e_b375_11e9_b72b_9801a7978c49row3_col2\" class=\"data row3 col2\" >157</td> \n",
       "        <td id=\"T_b99ee18e_b375_11e9_b72b_9801a7978c49row3_col3\" class=\"data row3 col3\" >3.15M</td> \n",
       "        <td id=\"T_b99ee18e_b375_11e9_b72b_9801a7978c49row3_col4\" class=\"data row3 col4\" >0</td> \n",
       "        <td id=\"T_b99ee18e_b375_11e9_b72b_9801a7978c49row3_col5\" class=\"data row3 col5\" >49.84</td> \n",
       "        <td id=\"T_b99ee18e_b375_11e9_b72b_9801a7978c49row3_col6\" class=\"data row3 col6\" >4.91</td> \n",
       "        <td id=\"T_b99ee18e_b375_11e9_b72b_9801a7978c49row3_col7\" class=\"data row3 col7\" >10.4</td> \n",
       "    </tr>    <tr> \n",
       "        <th id=\"T_b99ee18e_b375_11e9_b72b_9801a7978c49level0_row4\" class=\"row_heading level0 row4\" >151</th> \n",
       "        <td id=\"T_b99ee18e_b375_11e9_b72b_9801a7978c49row4_col0\" class=\"data row4 col0\" >Masip</td> \n",
       "        <td id=\"T_b99ee18e_b375_11e9_b72b_9801a7978c49row4_col1\" class=\"data row4 col1\" >35</td> \n",
       "        <td id=\"T_b99ee18e_b375_11e9_b72b_9801a7978c49row4_col2\" class=\"data row4 col2\" >150</td> \n",
       "        <td id=\"T_b99ee18e_b375_11e9_b72b_9801a7978c49row4_col3\" class=\"data row4 col3\" >3.12M</td> \n",
       "        <td id=\"T_b99ee18e_b375_11e9_b72b_9801a7978c49row4_col4\" class=\"data row4 col4\" >1</td> \n",
       "        <td id=\"T_b99ee18e_b375_11e9_b72b_9801a7978c49row4_col5\" class=\"data row4 col5\" >48.08</td> \n",
       "        <td id=\"T_b99ee18e_b375_11e9_b72b_9801a7978c49row4_col6\" class=\"data row4 col6\" >4.29</td> \n",
       "        <td id=\"T_b99ee18e_b375_11e9_b72b_9801a7978c49row4_col7\" class=\"data row4 col7\" >8.8</td> \n",
       "    </tr>    <tr> \n",
       "        <th id=\"T_b99ee18e_b375_11e9_b72b_9801a7978c49level0_row5\" class=\"row_heading level0 row5\" >220</th> \n",
       "        <td id=\"T_b99ee18e_b375_11e9_b72b_9801a7978c49row5_col0\" class=\"data row5 col0\" >Ter Stegen</td> \n",
       "        <td id=\"T_b99ee18e_b375_11e9_b72b_9801a7978c49row5_col1\" class=\"data row5 col1\" >35</td> \n",
       "        <td id=\"T_b99ee18e_b375_11e9_b72b_9801a7978c49row5_col2\" class=\"data row5 col2\" >167</td> \n",
       "        <td id=\"T_b99ee18e_b375_11e9_b72b_9801a7978c49row5_col3\" class=\"data row5 col3\" >5.39M</td> \n",
       "        <td id=\"T_b99ee18e_b375_11e9_b72b_9801a7978c49row5_col4\" class=\"data row5 col4\" >0</td> \n",
       "        <td id=\"T_b99ee18e_b375_11e9_b72b_9801a7978c49row5_col5\" class=\"data row5 col5\" >30.98</td> \n",
       "        <td id=\"T_b99ee18e_b375_11e9_b72b_9801a7978c49row5_col6\" class=\"data row5 col6\" >4.77</td> \n",
       "        <td id=\"T_b99ee18e_b375_11e9_b72b_9801a7978c49row5_col7\" class=\"data row5 col7\" >8.7</td> \n",
       "    </tr>    <tr> \n",
       "        <th id=\"T_b99ee18e_b375_11e9_b72b_9801a7978c49level0_row6\" class=\"row_heading level0 row6\" >69</th> \n",
       "        <td id=\"T_b99ee18e_b375_11e9_b72b_9801a7978c49row6_col0\" class=\"data row6 col0\" >Diego López</td> \n",
       "        <td id=\"T_b99ee18e_b375_11e9_b72b_9801a7978c49row6_col1\" class=\"data row6 col1\" >38</td> \n",
       "        <td id=\"T_b99ee18e_b375_11e9_b72b_9801a7978c49row6_col2\" class=\"data row6 col2\" >160</td> \n",
       "        <td id=\"T_b99ee18e_b375_11e9_b72b_9801a7978c49row6_col3\" class=\"data row6 col3\" >3.15M</td> \n",
       "        <td id=\"T_b99ee18e_b375_11e9_b72b_9801a7978c49row6_col4\" class=\"data row6 col4\" >1</td> \n",
       "        <td id=\"T_b99ee18e_b375_11e9_b72b_9801a7978c49row6_col5\" class=\"data row6 col5\" >50.79</td> \n",
       "        <td id=\"T_b99ee18e_b375_11e9_b72b_9801a7978c49row6_col6\" class=\"data row6 col6\" >4.21</td> \n",
       "        <td id=\"T_b99ee18e_b375_11e9_b72b_9801a7978c49row6_col7\" class=\"data row6 col7\" >8.1</td> \n",
       "    </tr>    <tr> \n",
       "        <th id=\"T_b99ee18e_b375_11e9_b72b_9801a7978c49level0_row7\" class=\"row_heading level0 row7\" >55</th> \n",
       "        <td id=\"T_b99ee18e_b375_11e9_b72b_9801a7978c49row7_col0\" class=\"data row7 col0\" >Cuéllar</td> \n",
       "        <td id=\"T_b99ee18e_b375_11e9_b72b_9801a7978c49row7_col1\" class=\"data row7 col1\" >34</td> \n",
       "        <td id=\"T_b99ee18e_b375_11e9_b72b_9801a7978c49row7_col2\" class=\"data row7 col2\" >148</td> \n",
       "        <td id=\"T_b99ee18e_b375_11e9_b72b_9801a7978c49row7_col3\" class=\"data row7 col3\" >2.54M</td> \n",
       "        <td id=\"T_b99ee18e_b375_11e9_b72b_9801a7978c49row7_col4\" class=\"data row7 col4\" >5</td> \n",
       "        <td id=\"T_b99ee18e_b375_11e9_b72b_9801a7978c49row7_col5\" class=\"data row7 col5\" >58.27</td> \n",
       "        <td id=\"T_b99ee18e_b375_11e9_b72b_9801a7978c49row7_col6\" class=\"data row7 col6\" >4.35</td> \n",
       "        <td id=\"T_b99ee18e_b375_11e9_b72b_9801a7978c49row7_col7\" class=\"data row7 col7\" >7.4</td> \n",
       "    </tr>    <tr> \n",
       "        <th id=\"T_b99ee18e_b375_11e9_b72b_9801a7978c49level0_row8\" class=\"row_heading level0 row8\" >202</th> \n",
       "        <td id=\"T_b99ee18e_b375_11e9_b72b_9801a7978c49row8_col0\" class=\"data row8 col0\" >Rulli</td> \n",
       "        <td id=\"T_b99ee18e_b375_11e9_b72b_9801a7978c49row8_col1\" class=\"data row8 col1\" >27</td> \n",
       "        <td id=\"T_b99ee18e_b375_11e9_b72b_9801a7978c49row8_col2\" class=\"data row8 col2\" >117</td> \n",
       "        <td id=\"T_b99ee18e_b375_11e9_b72b_9801a7978c49row8_col3\" class=\"data row8 col3\" >2.21M</td> \n",
       "        <td id=\"T_b99ee18e_b375_11e9_b72b_9801a7978c49row8_col4\" class=\"data row8 col4\" >3</td> \n",
       "        <td id=\"T_b99ee18e_b375_11e9_b72b_9801a7978c49row8_col5\" class=\"data row8 col5\" >52.94</td> \n",
       "        <td id=\"T_b99ee18e_b375_11e9_b72b_9801a7978c49row8_col6\" class=\"data row8 col6\" >4.33</td> \n",
       "        <td id=\"T_b99ee18e_b375_11e9_b72b_9801a7978c49row8_col7\" class=\"data row8 col7\" >4.7</td> \n",
       "    </tr>    <tr> \n",
       "        <th id=\"T_b99ee18e_b375_11e9_b72b_9801a7978c49level0_row9\" class=\"row_heading level0 row9\" >226</th> \n",
       "        <td id=\"T_b99ee18e_b375_11e9_b72b_9801a7978c49row9_col0\" class=\"data row9 col0\" >Vaclík</td> \n",
       "        <td id=\"T_b99ee18e_b375_11e9_b72b_9801a7978c49row9_col1\" class=\"data row9 col1\" >33</td> \n",
       "        <td id=\"T_b99ee18e_b375_11e9_b72b_9801a7978c49row9_col2\" class=\"data row9 col2\" >128</td> \n",
       "        <td id=\"T_b99ee18e_b375_11e9_b72b_9801a7978c49row9_col3\" class=\"data row9 col3\" >3.23M</td> \n",
       "        <td id=\"T_b99ee18e_b375_11e9_b72b_9801a7978c49row9_col4\" class=\"data row9 col4\" >1</td> \n",
       "        <td id=\"T_b99ee18e_b375_11e9_b72b_9801a7978c49row9_col5\" class=\"data row9 col5\" >39.63</td> \n",
       "        <td id=\"T_b99ee18e_b375_11e9_b72b_9801a7978c49row9_col6\" class=\"data row9 col6\" >3.88</td> \n",
       "        <td id=\"T_b99ee18e_b375_11e9_b72b_9801a7978c49row9_col7\" class=\"data row9 col7\" >4.4</td> \n",
       "    </tr>    <tr> \n",
       "        <th id=\"T_b99ee18e_b375_11e9_b72b_9801a7978c49level0_row10\" class=\"row_heading level0 row10\" >72</th> \n",
       "        <td id=\"T_b99ee18e_b375_11e9_b72b_9801a7978c49row10_col0\" class=\"data row10 col0\" >Dmitrovic</td> \n",
       "        <td id=\"T_b99ee18e_b375_11e9_b72b_9801a7978c49row10_col1\" class=\"data row10 col1\" >24</td> \n",
       "        <td id=\"T_b99ee18e_b375_11e9_b72b_9801a7978c49row10_col2\" class=\"data row10 col2\" >106</td> \n",
       "        <td id=\"T_b99ee18e_b375_11e9_b72b_9801a7978c49row10_col3\" class=\"data row10 col3\" >2.61M</td> \n",
       "        <td id=\"T_b99ee18e_b375_11e9_b72b_9801a7978c49row10_col4\" class=\"data row10 col4\" >3</td> \n",
       "        <td id=\"T_b99ee18e_b375_11e9_b72b_9801a7978c49row10_col5\" class=\"data row10 col5\" >40.61</td> \n",
       "        <td id=\"T_b99ee18e_b375_11e9_b72b_9801a7978c49row10_col6\" class=\"data row10 col6\" >4.42</td> \n",
       "        <td id=\"T_b99ee18e_b375_11e9_b72b_9801a7978c49row10_col7\" class=\"data row10 col7\" >3.5</td> \n",
       "    </tr>    <tr> \n",
       "        <th id=\"T_b99ee18e_b375_11e9_b72b_9801a7978c49level0_row11\" class=\"row_heading level0 row11\" >197</th> \n",
       "        <td id=\"T_b99ee18e_b375_11e9_b72b_9801a7978c49row11_col0\" class=\"data row11 col0\" >Rubén Blanco</td> \n",
       "        <td id=\"T_b99ee18e_b375_11e9_b72b_9801a7978c49row11_col1\" class=\"data row11 col1\" >25</td> \n",
       "        <td id=\"T_b99ee18e_b375_11e9_b72b_9801a7978c49row11_col2\" class=\"data row11 col2\" >93</td> \n",
       "        <td id=\"T_b99ee18e_b375_11e9_b72b_9801a7978c49row11_col3\" class=\"data row11 col3\" >1.46M</td> \n",
       "        <td id=\"T_b99ee18e_b375_11e9_b72b_9801a7978c49row11_col4\" class=\"data row11 col4\" >2</td> \n",
       "        <td id=\"T_b99ee18e_b375_11e9_b72b_9801a7978c49row11_col5\" class=\"data row11 col5\" >63.7</td> \n",
       "        <td id=\"T_b99ee18e_b375_11e9_b72b_9801a7978c49row11_col6\" class=\"data row11 col6\" >3.72</td> \n",
       "        <td id=\"T_b99ee18e_b375_11e9_b72b_9801a7978c49row11_col7\" class=\"data row11 col7\" >3.3</td> \n",
       "    </tr>    <tr> \n",
       "        <th id=\"T_b99ee18e_b375_11e9_b72b_9801a7978c49level0_row12\" class=\"row_heading level0 row12\" >102</th> \n",
       "        <td id=\"T_b99ee18e_b375_11e9_b72b_9801a7978c49row12_col0\" class=\"data row12 col0\" >Herrerín</td> \n",
       "        <td id=\"T_b99ee18e_b375_11e9_b72b_9801a7978c49row12_col1\" class=\"data row12 col1\" >31</td> \n",
       "        <td id=\"T_b99ee18e_b375_11e9_b72b_9801a7978c49row12_col2\" class=\"data row12 col2\" >94</td> \n",
       "        <td id=\"T_b99ee18e_b375_11e9_b72b_9801a7978c49row12_col3\" class=\"data row12 col3\" >1.51M</td> \n",
       "        <td id=\"T_b99ee18e_b375_11e9_b72b_9801a7978c49row12_col4\" class=\"data row12 col4\" >1</td> \n",
       "        <td id=\"T_b99ee18e_b375_11e9_b72b_9801a7978c49row12_col5\" class=\"data row12 col5\" >62.25</td> \n",
       "        <td id=\"T_b99ee18e_b375_11e9_b72b_9801a7978c49row12_col6\" class=\"data row12 col6\" >3.03</td> \n",
       "        <td id=\"T_b99ee18e_b375_11e9_b72b_9801a7978c49row12_col7\" class=\"data row12 col7\" >2.9</td> \n",
       "    </tr>    <tr> \n",
       "        <th id=\"T_b99ee18e_b375_11e9_b72b_9801a7978c49level0_row13\" class=\"row_heading level0 row13\" >52</th> \n",
       "        <td id=\"T_b99ee18e_b375_11e9_b72b_9801a7978c49row13_col0\" class=\"data row13 col0\" >Courtois</td> \n",
       "        <td id=\"T_b99ee18e_b375_11e9_b72b_9801a7978c49row13_col1\" class=\"data row13 col1\" >27</td> \n",
       "        <td id=\"T_b99ee18e_b375_11e9_b72b_9801a7978c49row13_col2\" class=\"data row13 col2\" >114</td> \n",
       "        <td id=\"T_b99ee18e_b375_11e9_b72b_9801a7978c49row13_col3\" class=\"data row13 col3\" >4.39M</td> \n",
       "        <td id=\"T_b99ee18e_b375_11e9_b72b_9801a7978c49row13_col4\" class=\"data row13 col4\" >2</td> \n",
       "        <td id=\"T_b99ee18e_b375_11e9_b72b_9801a7978c49row13_col5\" class=\"data row13 col5\" >25.97</td> \n",
       "        <td id=\"T_b99ee18e_b375_11e9_b72b_9801a7978c49row13_col6\" class=\"data row13 col6\" >4.22</td> \n",
       "        <td id=\"T_b99ee18e_b375_11e9_b72b_9801a7978c49row13_col7\" class=\"data row13 col7\" >2.3</td> \n",
       "    </tr>    <tr> \n",
       "        <th id=\"T_b99ee18e_b375_11e9_b72b_9801a7978c49level0_row14\" class=\"row_heading level0 row14\" >1</th> \n",
       "        <td id=\"T_b99ee18e_b375_11e9_b72b_9801a7978c49row14_col0\" class=\"data row14 col0\" >Aitor Fernández</td> \n",
       "        <td id=\"T_b99ee18e_b375_11e9_b72b_9801a7978c49row14_col1\" class=\"data row14 col1\" >16</td> \n",
       "        <td id=\"T_b99ee18e_b375_11e9_b72b_9801a7978c49row14_col2\" class=\"data row14 col2\" >70</td> \n",
       "        <td id=\"T_b99ee18e_b375_11e9_b72b_9801a7978c49row14_col3\" class=\"data row14 col3\" >1.59M</td> \n",
       "        <td id=\"T_b99ee18e_b375_11e9_b72b_9801a7978c49row14_col4\" class=\"data row14 col4\" >0</td> \n",
       "        <td id=\"T_b99ee18e_b375_11e9_b72b_9801a7978c49row14_col5\" class=\"data row14 col5\" >44.03</td> \n",
       "        <td id=\"T_b99ee18e_b375_11e9_b72b_9801a7978c49row14_col6\" class=\"data row14 col6\" >4.38</td> \n",
       "        <td id=\"T_b99ee18e_b375_11e9_b72b_9801a7978c49row14_col7\" class=\"data row14 col7\" >1.4</td> \n",
       "    </tr></tbody> \n",
       "</table> "
      ],
      "text/plain": [
       "<pandas.io.formats.style.Styler at 0x1099e4240>"
      ]
     },
     "execution_count": 29,
     "metadata": {},
     "output_type": "execute_result"
    }
   ],
   "source": [
    "top_players_table(players, \"Goalkeeper\")"
   ]
  },
  {
   "cell_type": "code",
   "execution_count": 30,
   "metadata": {},
   "outputs": [
    {
     "data": {
      "application/vnd.plotly.v1+json": {
       "config": {
        "plotlyServerURL": "https://plot.ly"
       },
       "data": [
        {
         "hoverlabel": {
          "namelength": 0
         },
         "hovertemplate": "<b>%{hovertext}</b><br><br>points_per_game=%{x}<br>points_per_million=%{y}<br>pct_lineup=%{marker.size}<br>value=%{marker.color}",
         "hovertext": [
          "Aitor Fernández",
          "Asenjo",
          "Courtois",
          "Cuéllar",
          "David Soria",
          "Diego López",
          "Dmitrovic",
          "Herrerín",
          "Masip",
          "Oblak",
          "Pacheco",
          "Rubén Blanco",
          "Rulli",
          "Ter Stegen",
          "Vaclík"
         ],
         "legendgroup": "",
         "marker": {
          "color": [
           1590000,
           3150000,
           4390000,
           2540000,
           3690000,
           3150000,
           2610000,
           1510000,
           3120000,
           6860000,
           3910000,
           1460000,
           2210000,
           5390000,
           3230000
          ],
          "coloraxis": "coloraxis",
          "size": [
           1.4000000000000001,
           10.4,
           2.3,
           7.3999999999999995,
           12.2,
           8.1,
           3.5000000000000004,
           2.9000000000000004,
           8.799999999999999,
           11.3,
           10.6,
           3.3000000000000003,
           4.7,
           8.7,
           4.3999999999999995
          ],
          "sizemode": "area",
          "sizeref": 0.0305,
          "symbol": "circle"
         },
         "mode": "markers",
         "name": "",
         "showlegend": false,
         "type": "scatter",
         "x": [
          4.375,
          4.90625,
          4.222222222222222,
          4.352941176470588,
          4.8108108108108105,
          4.2105263157894735,
          4.416666666666667,
          3.032258064516129,
          4.285714285714286,
          5.297297297297297,
          4.942857142857143,
          3.72,
          4.333333333333333,
          4.771428571428571,
          3.878787878787879
         ],
         "xaxis": "x",
         "y": [
          44.0251572327044,
          49.84126984126984,
          25.968109339407746,
          58.26771653543307,
          48.23848238482385,
          50.79365079365079,
          40.61302681992337,
          62.25165562913907,
          48.07692307692308,
          28.57142857142857,
          44.24552429667519,
          63.6986301369863,
          52.94117647058824,
          30.98330241187384,
          39.628482972136226
         ],
         "yaxis": "y"
        }
       ],
       "layout": {
        "coloraxis": {
         "colorbar": {
          "title": {
           "text": "value"
          }
         },
         "colorscale": [
          [
           0,
           "#0d0887"
          ],
          [
           0.1111111111111111,
           "#46039f"
          ],
          [
           0.2222222222222222,
           "#7201a8"
          ],
          [
           0.3333333333333333,
           "#9c179e"
          ],
          [
           0.4444444444444444,
           "#bd3786"
          ],
          [
           0.5555555555555556,
           "#d8576b"
          ],
          [
           0.6666666666666666,
           "#ed7953"
          ],
          [
           0.7777777777777778,
           "#fb9f3a"
          ],
          [
           0.8888888888888888,
           "#fdca26"
          ],
          [
           1,
           "#f0f921"
          ]
         ]
        },
        "height": 600,
        "legend": {
         "itemsizing": "constant",
         "tracegroupgap": 0
        },
        "margin": {
         "t": 60
        },
        "template": {
         "data": {
          "bar": [
           {
            "error_x": {
             "color": "#2a3f5f"
            },
            "error_y": {
             "color": "#2a3f5f"
            },
            "marker": {
             "line": {
              "color": "#E5ECF6",
              "width": 0.5
             }
            },
            "type": "bar"
           }
          ],
          "barpolar": [
           {
            "marker": {
             "line": {
              "color": "#E5ECF6",
              "width": 0.5
             }
            },
            "type": "barpolar"
           }
          ],
          "carpet": [
           {
            "aaxis": {
             "endlinecolor": "#2a3f5f",
             "gridcolor": "white",
             "linecolor": "white",
             "minorgridcolor": "white",
             "startlinecolor": "#2a3f5f"
            },
            "baxis": {
             "endlinecolor": "#2a3f5f",
             "gridcolor": "white",
             "linecolor": "white",
             "minorgridcolor": "white",
             "startlinecolor": "#2a3f5f"
            },
            "type": "carpet"
           }
          ],
          "choropleth": [
           {
            "colorbar": {
             "outlinewidth": 0,
             "ticks": ""
            },
            "type": "choropleth"
           }
          ],
          "contour": [
           {
            "colorbar": {
             "outlinewidth": 0,
             "ticks": ""
            },
            "colorscale": [
             [
              0,
              "#0d0887"
             ],
             [
              0.1111111111111111,
              "#46039f"
             ],
             [
              0.2222222222222222,
              "#7201a8"
             ],
             [
              0.3333333333333333,
              "#9c179e"
             ],
             [
              0.4444444444444444,
              "#bd3786"
             ],
             [
              0.5555555555555556,
              "#d8576b"
             ],
             [
              0.6666666666666666,
              "#ed7953"
             ],
             [
              0.7777777777777778,
              "#fb9f3a"
             ],
             [
              0.8888888888888888,
              "#fdca26"
             ],
             [
              1,
              "#f0f921"
             ]
            ],
            "type": "contour"
           }
          ],
          "contourcarpet": [
           {
            "colorbar": {
             "outlinewidth": 0,
             "ticks": ""
            },
            "type": "contourcarpet"
           }
          ],
          "heatmap": [
           {
            "colorbar": {
             "outlinewidth": 0,
             "ticks": ""
            },
            "colorscale": [
             [
              0,
              "#0d0887"
             ],
             [
              0.1111111111111111,
              "#46039f"
             ],
             [
              0.2222222222222222,
              "#7201a8"
             ],
             [
              0.3333333333333333,
              "#9c179e"
             ],
             [
              0.4444444444444444,
              "#bd3786"
             ],
             [
              0.5555555555555556,
              "#d8576b"
             ],
             [
              0.6666666666666666,
              "#ed7953"
             ],
             [
              0.7777777777777778,
              "#fb9f3a"
             ],
             [
              0.8888888888888888,
              "#fdca26"
             ],
             [
              1,
              "#f0f921"
             ]
            ],
            "type": "heatmap"
           }
          ],
          "heatmapgl": [
           {
            "colorbar": {
             "outlinewidth": 0,
             "ticks": ""
            },
            "colorscale": [
             [
              0,
              "#0d0887"
             ],
             [
              0.1111111111111111,
              "#46039f"
             ],
             [
              0.2222222222222222,
              "#7201a8"
             ],
             [
              0.3333333333333333,
              "#9c179e"
             ],
             [
              0.4444444444444444,
              "#bd3786"
             ],
             [
              0.5555555555555556,
              "#d8576b"
             ],
             [
              0.6666666666666666,
              "#ed7953"
             ],
             [
              0.7777777777777778,
              "#fb9f3a"
             ],
             [
              0.8888888888888888,
              "#fdca26"
             ],
             [
              1,
              "#f0f921"
             ]
            ],
            "type": "heatmapgl"
           }
          ],
          "histogram": [
           {
            "marker": {
             "colorbar": {
              "outlinewidth": 0,
              "ticks": ""
             }
            },
            "type": "histogram"
           }
          ],
          "histogram2d": [
           {
            "colorbar": {
             "outlinewidth": 0,
             "ticks": ""
            },
            "colorscale": [
             [
              0,
              "#0d0887"
             ],
             [
              0.1111111111111111,
              "#46039f"
             ],
             [
              0.2222222222222222,
              "#7201a8"
             ],
             [
              0.3333333333333333,
              "#9c179e"
             ],
             [
              0.4444444444444444,
              "#bd3786"
             ],
             [
              0.5555555555555556,
              "#d8576b"
             ],
             [
              0.6666666666666666,
              "#ed7953"
             ],
             [
              0.7777777777777778,
              "#fb9f3a"
             ],
             [
              0.8888888888888888,
              "#fdca26"
             ],
             [
              1,
              "#f0f921"
             ]
            ],
            "type": "histogram2d"
           }
          ],
          "histogram2dcontour": [
           {
            "colorbar": {
             "outlinewidth": 0,
             "ticks": ""
            },
            "colorscale": [
             [
              0,
              "#0d0887"
             ],
             [
              0.1111111111111111,
              "#46039f"
             ],
             [
              0.2222222222222222,
              "#7201a8"
             ],
             [
              0.3333333333333333,
              "#9c179e"
             ],
             [
              0.4444444444444444,
              "#bd3786"
             ],
             [
              0.5555555555555556,
              "#d8576b"
             ],
             [
              0.6666666666666666,
              "#ed7953"
             ],
             [
              0.7777777777777778,
              "#fb9f3a"
             ],
             [
              0.8888888888888888,
              "#fdca26"
             ],
             [
              1,
              "#f0f921"
             ]
            ],
            "type": "histogram2dcontour"
           }
          ],
          "mesh3d": [
           {
            "colorbar": {
             "outlinewidth": 0,
             "ticks": ""
            },
            "type": "mesh3d"
           }
          ],
          "parcoords": [
           {
            "line": {
             "colorbar": {
              "outlinewidth": 0,
              "ticks": ""
             }
            },
            "type": "parcoords"
           }
          ],
          "scatter": [
           {
            "marker": {
             "colorbar": {
              "outlinewidth": 0,
              "ticks": ""
             }
            },
            "type": "scatter"
           }
          ],
          "scatter3d": [
           {
            "line": {
             "colorbar": {
              "outlinewidth": 0,
              "ticks": ""
             }
            },
            "marker": {
             "colorbar": {
              "outlinewidth": 0,
              "ticks": ""
             }
            },
            "type": "scatter3d"
           }
          ],
          "scattercarpet": [
           {
            "marker": {
             "colorbar": {
              "outlinewidth": 0,
              "ticks": ""
             }
            },
            "type": "scattercarpet"
           }
          ],
          "scattergeo": [
           {
            "marker": {
             "colorbar": {
              "outlinewidth": 0,
              "ticks": ""
             }
            },
            "type": "scattergeo"
           }
          ],
          "scattergl": [
           {
            "marker": {
             "colorbar": {
              "outlinewidth": 0,
              "ticks": ""
             }
            },
            "type": "scattergl"
           }
          ],
          "scattermapbox": [
           {
            "marker": {
             "colorbar": {
              "outlinewidth": 0,
              "ticks": ""
             }
            },
            "type": "scattermapbox"
           }
          ],
          "scatterpolar": [
           {
            "marker": {
             "colorbar": {
              "outlinewidth": 0,
              "ticks": ""
             }
            },
            "type": "scatterpolar"
           }
          ],
          "scatterpolargl": [
           {
            "marker": {
             "colorbar": {
              "outlinewidth": 0,
              "ticks": ""
             }
            },
            "type": "scatterpolargl"
           }
          ],
          "scatterternary": [
           {
            "marker": {
             "colorbar": {
              "outlinewidth": 0,
              "ticks": ""
             }
            },
            "type": "scatterternary"
           }
          ],
          "surface": [
           {
            "colorbar": {
             "outlinewidth": 0,
             "ticks": ""
            },
            "colorscale": [
             [
              0,
              "#0d0887"
             ],
             [
              0.1111111111111111,
              "#46039f"
             ],
             [
              0.2222222222222222,
              "#7201a8"
             ],
             [
              0.3333333333333333,
              "#9c179e"
             ],
             [
              0.4444444444444444,
              "#bd3786"
             ],
             [
              0.5555555555555556,
              "#d8576b"
             ],
             [
              0.6666666666666666,
              "#ed7953"
             ],
             [
              0.7777777777777778,
              "#fb9f3a"
             ],
             [
              0.8888888888888888,
              "#fdca26"
             ],
             [
              1,
              "#f0f921"
             ]
            ],
            "type": "surface"
           }
          ],
          "table": [
           {
            "cells": {
             "fill": {
              "color": "#EBF0F8"
             },
             "line": {
              "color": "white"
             }
            },
            "header": {
             "fill": {
              "color": "#C8D4E3"
             },
             "line": {
              "color": "white"
             }
            },
            "type": "table"
           }
          ]
         },
         "layout": {
          "annotationdefaults": {
           "arrowcolor": "#2a3f5f",
           "arrowhead": 0,
           "arrowwidth": 1
          },
          "colorscale": {
           "diverging": [
            [
             0,
             "#8e0152"
            ],
            [
             0.1,
             "#c51b7d"
            ],
            [
             0.2,
             "#de77ae"
            ],
            [
             0.3,
             "#f1b6da"
            ],
            [
             0.4,
             "#fde0ef"
            ],
            [
             0.5,
             "#f7f7f7"
            ],
            [
             0.6,
             "#e6f5d0"
            ],
            [
             0.7,
             "#b8e186"
            ],
            [
             0.8,
             "#7fbc41"
            ],
            [
             0.9,
             "#4d9221"
            ],
            [
             1,
             "#276419"
            ]
           ],
           "sequential": [
            [
             0,
             "#0d0887"
            ],
            [
             0.1111111111111111,
             "#46039f"
            ],
            [
             0.2222222222222222,
             "#7201a8"
            ],
            [
             0.3333333333333333,
             "#9c179e"
            ],
            [
             0.4444444444444444,
             "#bd3786"
            ],
            [
             0.5555555555555556,
             "#d8576b"
            ],
            [
             0.6666666666666666,
             "#ed7953"
            ],
            [
             0.7777777777777778,
             "#fb9f3a"
            ],
            [
             0.8888888888888888,
             "#fdca26"
            ],
            [
             1,
             "#f0f921"
            ]
           ],
           "sequentialminus": [
            [
             0,
             "#0d0887"
            ],
            [
             0.1111111111111111,
             "#46039f"
            ],
            [
             0.2222222222222222,
             "#7201a8"
            ],
            [
             0.3333333333333333,
             "#9c179e"
            ],
            [
             0.4444444444444444,
             "#bd3786"
            ],
            [
             0.5555555555555556,
             "#d8576b"
            ],
            [
             0.6666666666666666,
             "#ed7953"
            ],
            [
             0.7777777777777778,
             "#fb9f3a"
            ],
            [
             0.8888888888888888,
             "#fdca26"
            ],
            [
             1,
             "#f0f921"
            ]
           ]
          },
          "colorway": [
           "#636efa",
           "#EF553B",
           "#00cc96",
           "#ab63fa",
           "#FFA15A",
           "#19d3f3",
           "#FF6692",
           "#B6E880",
           "#FF97FF",
           "#FECB52"
          ],
          "font": {
           "color": "#2a3f5f"
          },
          "geo": {
           "bgcolor": "white",
           "lakecolor": "white",
           "landcolor": "#E5ECF6",
           "showlakes": true,
           "showland": true,
           "subunitcolor": "white"
          },
          "hoverlabel": {
           "align": "left"
          },
          "hovermode": "closest",
          "mapbox": {
           "style": "light"
          },
          "paper_bgcolor": "white",
          "plot_bgcolor": "#E5ECF6",
          "polar": {
           "angularaxis": {
            "gridcolor": "white",
            "linecolor": "white",
            "ticks": ""
           },
           "bgcolor": "#E5ECF6",
           "radialaxis": {
            "gridcolor": "white",
            "linecolor": "white",
            "ticks": ""
           }
          },
          "scene": {
           "xaxis": {
            "backgroundcolor": "#E5ECF6",
            "gridcolor": "white",
            "gridwidth": 2,
            "linecolor": "white",
            "showbackground": true,
            "ticks": "",
            "zerolinecolor": "white"
           },
           "yaxis": {
            "backgroundcolor": "#E5ECF6",
            "gridcolor": "white",
            "gridwidth": 2,
            "linecolor": "white",
            "showbackground": true,
            "ticks": "",
            "zerolinecolor": "white"
           },
           "zaxis": {
            "backgroundcolor": "#E5ECF6",
            "gridcolor": "white",
            "gridwidth": 2,
            "linecolor": "white",
            "showbackground": true,
            "ticks": "",
            "zerolinecolor": "white"
           }
          },
          "shapedefaults": {
           "line": {
            "color": "#2a3f5f"
           }
          },
          "ternary": {
           "aaxis": {
            "gridcolor": "white",
            "linecolor": "white",
            "ticks": ""
           },
           "baxis": {
            "gridcolor": "white",
            "linecolor": "white",
            "ticks": ""
           },
           "bgcolor": "#E5ECF6",
           "caxis": {
            "gridcolor": "white",
            "linecolor": "white",
            "ticks": ""
           }
          },
          "title": {
           "x": 0.05
          },
          "xaxis": {
           "automargin": true,
           "gridcolor": "white",
           "linecolor": "white",
           "ticks": "",
           "zerolinecolor": "white",
           "zerolinewidth": 2
          },
          "yaxis": {
           "automargin": true,
           "gridcolor": "white",
           "linecolor": "white",
           "ticks": "",
           "zerolinecolor": "white",
           "zerolinewidth": 2
          }
         }
        },
        "xaxis": {
         "anchor": "y",
         "domain": [
          0,
          0.98
         ],
         "title": {
          "text": "Points per Game"
         }
        },
        "yaxis": {
         "anchor": "x",
         "domain": [
          0,
          1
         ],
         "title": {
          "text": "Points per Million"
         }
        }
       }
      },
      "text/html": [
       "<div>\n",
       "        \n",
       "        \n",
       "            <div id=\"b6b13940-4441-4e4a-be68-a2bc7baf0d59\" class=\"plotly-graph-div\" style=\"height:600px; width:100%;\"></div>\n",
       "            <script type=\"text/javascript\">\n",
       "                require([\"plotly\"], function(Plotly) {\n",
       "                    window.PLOTLYENV=window.PLOTLYENV || {};\n",
       "                    \n",
       "                if (document.getElementById(\"b6b13940-4441-4e4a-be68-a2bc7baf0d59\")) {\n",
       "                    Plotly.newPlot(\n",
       "                        'b6b13940-4441-4e4a-be68-a2bc7baf0d59',\n",
       "                        [{\"hoverlabel\": {\"namelength\": 0}, \"hovertemplate\": \"<b>%{hovertext}</b><br><br>points_per_game=%{x}<br>points_per_million=%{y}<br>pct_lineup=%{marker.size}<br>value=%{marker.color}\", \"hovertext\": [\"Aitor Fern\\u00e1ndez\", \"Asenjo\", \"Courtois\", \"Cu\\u00e9llar\", \"David Soria\", \"Diego L\\u00f3pez\", \"Dmitrovic\", \"Herrer\\u00edn\", \"Masip\", \"Oblak\", \"Pacheco\", \"Rub\\u00e9n Blanco\", \"Rulli\", \"Ter Stegen\", \"Vacl\\u00edk\"], \"legendgroup\": \"\", \"marker\": {\"color\": [1590000.0, 3150000.0, 4390000.0, 2540000.0, 3690000.0, 3150000.0, 2610000.0, 1510000.0, 3120000.0, 6860000.0, 3910000.0, 1460000.0, 2210000.0, 5390000.0, 3230000.0], \"coloraxis\": \"coloraxis\", \"size\": [1.4000000000000001, 10.4, 2.3, 7.3999999999999995, 12.2, 8.1, 3.5000000000000004, 2.9000000000000004, 8.799999999999999, 11.3, 10.6, 3.3000000000000003, 4.7, 8.7, 4.3999999999999995], \"sizemode\": \"area\", \"sizeref\": 0.0305, \"symbol\": \"circle\"}, \"mode\": \"markers\", \"name\": \"\", \"showlegend\": false, \"type\": \"scatter\", \"x\": [4.375, 4.90625, 4.222222222222222, 4.352941176470588, 4.8108108108108105, 4.2105263157894735, 4.416666666666667, 3.032258064516129, 4.285714285714286, 5.297297297297297, 4.942857142857143, 3.72, 4.333333333333333, 4.771428571428571, 3.878787878787879], \"xaxis\": \"x\", \"y\": [44.0251572327044, 49.84126984126984, 25.968109339407746, 58.26771653543307, 48.23848238482385, 50.79365079365079, 40.61302681992337, 62.25165562913907, 48.07692307692308, 28.57142857142857, 44.24552429667519, 63.6986301369863, 52.94117647058824, 30.98330241187384, 39.628482972136226], \"yaxis\": \"y\"}],\n",
       "                        {\"coloraxis\": {\"colorbar\": {\"title\": {\"text\": \"value\"}}, \"colorscale\": [[0.0, \"#0d0887\"], [0.1111111111111111, \"#46039f\"], [0.2222222222222222, \"#7201a8\"], [0.3333333333333333, \"#9c179e\"], [0.4444444444444444, \"#bd3786\"], [0.5555555555555556, \"#d8576b\"], [0.6666666666666666, \"#ed7953\"], [0.7777777777777778, \"#fb9f3a\"], [0.8888888888888888, \"#fdca26\"], [1.0, \"#f0f921\"]]}, \"height\": 600, \"legend\": {\"itemsizing\": \"constant\", \"tracegroupgap\": 0}, \"margin\": {\"t\": 60}, \"template\": {\"data\": {\"bar\": [{\"error_x\": {\"color\": \"#2a3f5f\"}, \"error_y\": {\"color\": \"#2a3f5f\"}, \"marker\": {\"line\": {\"color\": \"#E5ECF6\", \"width\": 0.5}}, \"type\": \"bar\"}], \"barpolar\": [{\"marker\": {\"line\": {\"color\": \"#E5ECF6\", \"width\": 0.5}}, \"type\": \"barpolar\"}], \"carpet\": [{\"aaxis\": {\"endlinecolor\": \"#2a3f5f\", \"gridcolor\": \"white\", \"linecolor\": \"white\", \"minorgridcolor\": \"white\", \"startlinecolor\": \"#2a3f5f\"}, \"baxis\": {\"endlinecolor\": \"#2a3f5f\", \"gridcolor\": \"white\", \"linecolor\": \"white\", \"minorgridcolor\": \"white\", \"startlinecolor\": \"#2a3f5f\"}, \"type\": \"carpet\"}], \"choropleth\": [{\"colorbar\": {\"outlinewidth\": 0, \"ticks\": \"\"}, \"type\": \"choropleth\"}], \"contour\": [{\"colorbar\": {\"outlinewidth\": 0, \"ticks\": \"\"}, \"colorscale\": [[0.0, \"#0d0887\"], [0.1111111111111111, \"#46039f\"], [0.2222222222222222, \"#7201a8\"], [0.3333333333333333, \"#9c179e\"], [0.4444444444444444, \"#bd3786\"], [0.5555555555555556, \"#d8576b\"], [0.6666666666666666, \"#ed7953\"], [0.7777777777777778, \"#fb9f3a\"], [0.8888888888888888, \"#fdca26\"], [1.0, \"#f0f921\"]], \"type\": \"contour\"}], \"contourcarpet\": [{\"colorbar\": {\"outlinewidth\": 0, \"ticks\": \"\"}, \"type\": \"contourcarpet\"}], \"heatmap\": [{\"colorbar\": {\"outlinewidth\": 0, \"ticks\": \"\"}, \"colorscale\": [[0.0, \"#0d0887\"], [0.1111111111111111, \"#46039f\"], [0.2222222222222222, \"#7201a8\"], [0.3333333333333333, \"#9c179e\"], [0.4444444444444444, \"#bd3786\"], [0.5555555555555556, \"#d8576b\"], [0.6666666666666666, \"#ed7953\"], [0.7777777777777778, \"#fb9f3a\"], [0.8888888888888888, \"#fdca26\"], [1.0, \"#f0f921\"]], \"type\": \"heatmap\"}], \"heatmapgl\": [{\"colorbar\": {\"outlinewidth\": 0, \"ticks\": \"\"}, \"colorscale\": [[0.0, \"#0d0887\"], [0.1111111111111111, \"#46039f\"], [0.2222222222222222, \"#7201a8\"], [0.3333333333333333, \"#9c179e\"], [0.4444444444444444, \"#bd3786\"], [0.5555555555555556, \"#d8576b\"], [0.6666666666666666, \"#ed7953\"], [0.7777777777777778, \"#fb9f3a\"], [0.8888888888888888, \"#fdca26\"], [1.0, \"#f0f921\"]], \"type\": \"heatmapgl\"}], \"histogram\": [{\"marker\": {\"colorbar\": {\"outlinewidth\": 0, \"ticks\": \"\"}}, \"type\": \"histogram\"}], \"histogram2d\": [{\"colorbar\": {\"outlinewidth\": 0, \"ticks\": \"\"}, \"colorscale\": [[0.0, \"#0d0887\"], [0.1111111111111111, \"#46039f\"], [0.2222222222222222, \"#7201a8\"], [0.3333333333333333, \"#9c179e\"], [0.4444444444444444, \"#bd3786\"], [0.5555555555555556, \"#d8576b\"], [0.6666666666666666, \"#ed7953\"], [0.7777777777777778, \"#fb9f3a\"], [0.8888888888888888, \"#fdca26\"], [1.0, \"#f0f921\"]], \"type\": \"histogram2d\"}], \"histogram2dcontour\": [{\"colorbar\": {\"outlinewidth\": 0, \"ticks\": \"\"}, \"colorscale\": [[0.0, \"#0d0887\"], [0.1111111111111111, \"#46039f\"], [0.2222222222222222, \"#7201a8\"], [0.3333333333333333, \"#9c179e\"], [0.4444444444444444, \"#bd3786\"], [0.5555555555555556, \"#d8576b\"], [0.6666666666666666, \"#ed7953\"], [0.7777777777777778, \"#fb9f3a\"], [0.8888888888888888, \"#fdca26\"], [1.0, \"#f0f921\"]], \"type\": \"histogram2dcontour\"}], \"mesh3d\": [{\"colorbar\": {\"outlinewidth\": 0, \"ticks\": \"\"}, \"type\": \"mesh3d\"}], \"parcoords\": [{\"line\": {\"colorbar\": {\"outlinewidth\": 0, \"ticks\": \"\"}}, \"type\": \"parcoords\"}], \"scatter\": [{\"marker\": {\"colorbar\": {\"outlinewidth\": 0, \"ticks\": \"\"}}, \"type\": \"scatter\"}], \"scatter3d\": [{\"line\": {\"colorbar\": {\"outlinewidth\": 0, \"ticks\": \"\"}}, \"marker\": {\"colorbar\": {\"outlinewidth\": 0, \"ticks\": \"\"}}, \"type\": \"scatter3d\"}], \"scattercarpet\": [{\"marker\": {\"colorbar\": {\"outlinewidth\": 0, \"ticks\": \"\"}}, \"type\": \"scattercarpet\"}], \"scattergeo\": [{\"marker\": {\"colorbar\": {\"outlinewidth\": 0, \"ticks\": \"\"}}, \"type\": \"scattergeo\"}], \"scattergl\": [{\"marker\": {\"colorbar\": {\"outlinewidth\": 0, \"ticks\": \"\"}}, \"type\": \"scattergl\"}], \"scattermapbox\": [{\"marker\": {\"colorbar\": {\"outlinewidth\": 0, \"ticks\": \"\"}}, \"type\": \"scattermapbox\"}], \"scatterpolar\": [{\"marker\": {\"colorbar\": {\"outlinewidth\": 0, \"ticks\": \"\"}}, \"type\": \"scatterpolar\"}], \"scatterpolargl\": [{\"marker\": {\"colorbar\": {\"outlinewidth\": 0, \"ticks\": \"\"}}, \"type\": \"scatterpolargl\"}], \"scatterternary\": [{\"marker\": {\"colorbar\": {\"outlinewidth\": 0, \"ticks\": \"\"}}, \"type\": \"scatterternary\"}], \"surface\": [{\"colorbar\": {\"outlinewidth\": 0, \"ticks\": \"\"}, \"colorscale\": [[0.0, \"#0d0887\"], [0.1111111111111111, \"#46039f\"], [0.2222222222222222, \"#7201a8\"], [0.3333333333333333, \"#9c179e\"], [0.4444444444444444, \"#bd3786\"], [0.5555555555555556, \"#d8576b\"], [0.6666666666666666, \"#ed7953\"], [0.7777777777777778, \"#fb9f3a\"], [0.8888888888888888, \"#fdca26\"], [1.0, \"#f0f921\"]], \"type\": \"surface\"}], \"table\": [{\"cells\": {\"fill\": {\"color\": \"#EBF0F8\"}, \"line\": {\"color\": \"white\"}}, \"header\": {\"fill\": {\"color\": \"#C8D4E3\"}, \"line\": {\"color\": \"white\"}}, \"type\": \"table\"}]}, \"layout\": {\"annotationdefaults\": {\"arrowcolor\": \"#2a3f5f\", \"arrowhead\": 0, \"arrowwidth\": 1}, \"colorscale\": {\"diverging\": [[0, \"#8e0152\"], [0.1, \"#c51b7d\"], [0.2, \"#de77ae\"], [0.3, \"#f1b6da\"], [0.4, \"#fde0ef\"], [0.5, \"#f7f7f7\"], [0.6, \"#e6f5d0\"], [0.7, \"#b8e186\"], [0.8, \"#7fbc41\"], [0.9, \"#4d9221\"], [1, \"#276419\"]], \"sequential\": [[0.0, \"#0d0887\"], [0.1111111111111111, \"#46039f\"], [0.2222222222222222, \"#7201a8\"], [0.3333333333333333, \"#9c179e\"], [0.4444444444444444, \"#bd3786\"], [0.5555555555555556, \"#d8576b\"], [0.6666666666666666, \"#ed7953\"], [0.7777777777777778, \"#fb9f3a\"], [0.8888888888888888, \"#fdca26\"], [1.0, \"#f0f921\"]], \"sequentialminus\": [[0.0, \"#0d0887\"], [0.1111111111111111, \"#46039f\"], [0.2222222222222222, \"#7201a8\"], [0.3333333333333333, \"#9c179e\"], [0.4444444444444444, \"#bd3786\"], [0.5555555555555556, \"#d8576b\"], [0.6666666666666666, \"#ed7953\"], [0.7777777777777778, \"#fb9f3a\"], [0.8888888888888888, \"#fdca26\"], [1.0, \"#f0f921\"]]}, \"colorway\": [\"#636efa\", \"#EF553B\", \"#00cc96\", \"#ab63fa\", \"#FFA15A\", \"#19d3f3\", \"#FF6692\", \"#B6E880\", \"#FF97FF\", \"#FECB52\"], \"font\": {\"color\": \"#2a3f5f\"}, \"geo\": {\"bgcolor\": \"white\", \"lakecolor\": \"white\", \"landcolor\": \"#E5ECF6\", \"showlakes\": true, \"showland\": true, \"subunitcolor\": \"white\"}, \"hoverlabel\": {\"align\": \"left\"}, \"hovermode\": \"closest\", \"mapbox\": {\"style\": \"light\"}, \"paper_bgcolor\": \"white\", \"plot_bgcolor\": \"#E5ECF6\", \"polar\": {\"angularaxis\": {\"gridcolor\": \"white\", \"linecolor\": \"white\", \"ticks\": \"\"}, \"bgcolor\": \"#E5ECF6\", \"radialaxis\": {\"gridcolor\": \"white\", \"linecolor\": \"white\", \"ticks\": \"\"}}, \"scene\": {\"xaxis\": {\"backgroundcolor\": \"#E5ECF6\", \"gridcolor\": \"white\", \"gridwidth\": 2, \"linecolor\": \"white\", \"showbackground\": true, \"ticks\": \"\", \"zerolinecolor\": \"white\"}, \"yaxis\": {\"backgroundcolor\": \"#E5ECF6\", \"gridcolor\": \"white\", \"gridwidth\": 2, \"linecolor\": \"white\", \"showbackground\": true, \"ticks\": \"\", \"zerolinecolor\": \"white\"}, \"zaxis\": {\"backgroundcolor\": \"#E5ECF6\", \"gridcolor\": \"white\", \"gridwidth\": 2, \"linecolor\": \"white\", \"showbackground\": true, \"ticks\": \"\", \"zerolinecolor\": \"white\"}}, \"shapedefaults\": {\"line\": {\"color\": \"#2a3f5f\"}}, \"ternary\": {\"aaxis\": {\"gridcolor\": \"white\", \"linecolor\": \"white\", \"ticks\": \"\"}, \"baxis\": {\"gridcolor\": \"white\", \"linecolor\": \"white\", \"ticks\": \"\"}, \"bgcolor\": \"#E5ECF6\", \"caxis\": {\"gridcolor\": \"white\", \"linecolor\": \"white\", \"ticks\": \"\"}}, \"title\": {\"x\": 0.05}, \"xaxis\": {\"automargin\": true, \"gridcolor\": \"white\", \"linecolor\": \"white\", \"ticks\": \"\", \"zerolinecolor\": \"white\", \"zerolinewidth\": 2}, \"yaxis\": {\"automargin\": true, \"gridcolor\": \"white\", \"linecolor\": \"white\", \"ticks\": \"\", \"zerolinecolor\": \"white\", \"zerolinewidth\": 2}}}, \"xaxis\": {\"anchor\": \"y\", \"domain\": [0.0, 0.98], \"title\": {\"text\": \"Points per Game\"}}, \"yaxis\": {\"anchor\": \"x\", \"domain\": [0.0, 1.0], \"title\": {\"text\": \"Points per Million\"}}},\n",
       "                        {\"responsive\": true}\n",
       "                    ).then(function(){\n",
       "                            \n",
       "var gd = document.getElementById('b6b13940-4441-4e4a-be68-a2bc7baf0d59');\n",
       "var x = new MutationObserver(function (mutations, observer) {{\n",
       "        var display = window.getComputedStyle(gd).display;\n",
       "        if (!display || display === 'none') {{\n",
       "            console.log([gd, 'removed!']);\n",
       "            Plotly.purge(gd);\n",
       "            observer.disconnect();\n",
       "        }}\n",
       "}});\n",
       "\n",
       "// Listen for the removal of the full notebook cells\n",
       "var notebookContainer = gd.closest('#notebook-container');\n",
       "if (notebookContainer) {{\n",
       "    x.observe(notebookContainer, {childList: true});\n",
       "}}\n",
       "\n",
       "// Listen for the clearing of the current output cell\n",
       "var outputEl = gd.closest('.output');\n",
       "if (outputEl) {{\n",
       "    x.observe(outputEl, {childList: true});\n",
       "}}\n",
       "\n",
       "                        })\n",
       "                };\n",
       "                });\n",
       "            </script>\n",
       "        </div>"
      ]
     },
     "metadata": {},
     "output_type": "display_data"
    }
   ],
   "source": [
    "bubble_chart(players, \"Goalkeeper\")"
   ]
  },
  {
   "cell_type": "markdown",
   "metadata": {},
   "source": [
    "## Defenders"
   ]
  },
  {
   "cell_type": "code",
   "execution_count": 31,
   "metadata": {},
   "outputs": [
    {
     "data": {
      "text/html": [
       "<style  type=\"text/css\" >\n",
       "    #T_bbc7c318_b375_11e9_b72b_9801a7978c49 th {\n",
       "          font-size: 11px;\n",
       "          text-align: center;\n",
       "          font-weight: bold;\n",
       "          color: #6d6d6d;\n",
       "          background-color: #f7f7f9;\n",
       "    }    #T_bbc7c318_b375_11e9_b72b_9801a7978c49 td {\n",
       "          font-size: 11px;\n",
       "    }    #T_bbc7c318_b375_11e9_b72b_9801a7978c49row0_col0 {\n",
       "            font-weight:  bold;\n",
       "        }    #T_bbc7c318_b375_11e9_b72b_9801a7978c49row0_col4 {\n",
       "            color:  black;\n",
       "        }    #T_bbc7c318_b375_11e9_b72b_9801a7978c49row0_col5 {\n",
       "            color:  black;\n",
       "        }    #T_bbc7c318_b375_11e9_b72b_9801a7978c49row0_col6 {\n",
       "            color:  black;\n",
       "        }    #T_bbc7c318_b375_11e9_b72b_9801a7978c49row0_col7 {\n",
       "            background-color:  #44ab42;\n",
       "        }    #T_bbc7c318_b375_11e9_b72b_9801a7978c49row1_col0 {\n",
       "            font-weight:  bold;\n",
       "        }    #T_bbc7c318_b375_11e9_b72b_9801a7978c49row1_col4 {\n",
       "            color:  black;\n",
       "        }    #T_bbc7c318_b375_11e9_b72b_9801a7978c49row1_col5 {\n",
       "            color:  black;\n",
       "        }    #T_bbc7c318_b375_11e9_b72b_9801a7978c49row1_col6 {\n",
       "            color:  green;\n",
       "        }    #T_bbc7c318_b375_11e9_b72b_9801a7978c49row1_col7 {\n",
       "            background-color:  #5eb75c;\n",
       "        }    #T_bbc7c318_b375_11e9_b72b_9801a7978c49row2_col0 {\n",
       "            font-weight:  bold;\n",
       "        }    #T_bbc7c318_b375_11e9_b72b_9801a7978c49row2_col4 {\n",
       "            color:  black;\n",
       "        }    #T_bbc7c318_b375_11e9_b72b_9801a7978c49row2_col5 {\n",
       "            color:  black;\n",
       "        }    #T_bbc7c318_b375_11e9_b72b_9801a7978c49row2_col6 {\n",
       "            color:  green;\n",
       "        }    #T_bbc7c318_b375_11e9_b72b_9801a7978c49row2_col7 {\n",
       "            background-color:  #75c174;\n",
       "        }    #T_bbc7c318_b375_11e9_b72b_9801a7978c49row3_col0 {\n",
       "            font-weight:  bold;\n",
       "        }    #T_bbc7c318_b375_11e9_b72b_9801a7978c49row3_col4 {\n",
       "            color:  black;\n",
       "        }    #T_bbc7c318_b375_11e9_b72b_9801a7978c49row3_col5 {\n",
       "            color:  black;\n",
       "        }    #T_bbc7c318_b375_11e9_b72b_9801a7978c49row3_col6 {\n",
       "            color:  green;\n",
       "        }    #T_bbc7c318_b375_11e9_b72b_9801a7978c49row3_col7 {\n",
       "            background-color:  #88ca86;\n",
       "        }    #T_bbc7c318_b375_11e9_b72b_9801a7978c49row4_col0 {\n",
       "            font-weight:  bold;\n",
       "        }    #T_bbc7c318_b375_11e9_b72b_9801a7978c49row4_col4 {\n",
       "            color:  black;\n",
       "        }    #T_bbc7c318_b375_11e9_b72b_9801a7978c49row4_col5 {\n",
       "            color:  black;\n",
       "        }    #T_bbc7c318_b375_11e9_b72b_9801a7978c49row4_col6 {\n",
       "            color:  black;\n",
       "        }    #T_bbc7c318_b375_11e9_b72b_9801a7978c49row4_col7 {\n",
       "            background-color:  #8dcc8c;\n",
       "        }    #T_bbc7c318_b375_11e9_b72b_9801a7978c49row5_col0 {\n",
       "            font-weight:  bold;\n",
       "        }    #T_bbc7c318_b375_11e9_b72b_9801a7978c49row5_col4 {\n",
       "            color:  black;\n",
       "        }    #T_bbc7c318_b375_11e9_b72b_9801a7978c49row5_col5 {\n",
       "            color:  black;\n",
       "        }    #T_bbc7c318_b375_11e9_b72b_9801a7978c49row5_col6 {\n",
       "            color:  black;\n",
       "        }    #T_bbc7c318_b375_11e9_b72b_9801a7978c49row5_col7 {\n",
       "            background-color:  #8fcd8e;\n",
       "        }    #T_bbc7c318_b375_11e9_b72b_9801a7978c49row6_col0 {\n",
       "            font-weight:  bold;\n",
       "        }    #T_bbc7c318_b375_11e9_b72b_9801a7978c49row6_col4 {\n",
       "            color:  black;\n",
       "        }    #T_bbc7c318_b375_11e9_b72b_9801a7978c49row6_col5 {\n",
       "            color:  black;\n",
       "        }    #T_bbc7c318_b375_11e9_b72b_9801a7978c49row6_col6 {\n",
       "            color:  black;\n",
       "        }    #T_bbc7c318_b375_11e9_b72b_9801a7978c49row6_col7 {\n",
       "            background-color:  #92cf91;\n",
       "        }    #T_bbc7c318_b375_11e9_b72b_9801a7978c49row7_col0 {\n",
       "            font-weight:  bold;\n",
       "        }    #T_bbc7c318_b375_11e9_b72b_9801a7978c49row7_col4 {\n",
       "            color:  black;\n",
       "        }    #T_bbc7c318_b375_11e9_b72b_9801a7978c49row7_col5 {\n",
       "            color:  black;\n",
       "        }    #T_bbc7c318_b375_11e9_b72b_9801a7978c49row7_col6 {\n",
       "            color:  black;\n",
       "        }    #T_bbc7c318_b375_11e9_b72b_9801a7978c49row7_col7 {\n",
       "            background-color:  #9cd39b;\n",
       "        }    #T_bbc7c318_b375_11e9_b72b_9801a7978c49row8_col0 {\n",
       "            font-weight:  bold;\n",
       "        }    #T_bbc7c318_b375_11e9_b72b_9801a7978c49row8_col4 {\n",
       "            color:  black;\n",
       "        }    #T_bbc7c318_b375_11e9_b72b_9801a7978c49row8_col5 {\n",
       "            color:  black;\n",
       "        }    #T_bbc7c318_b375_11e9_b72b_9801a7978c49row8_col6 {\n",
       "            color:  green;\n",
       "        }    #T_bbc7c318_b375_11e9_b72b_9801a7978c49row8_col7 {\n",
       "            background-color:  #9cd39b;\n",
       "        }    #T_bbc7c318_b375_11e9_b72b_9801a7978c49row9_col0 {\n",
       "            font-weight:  bold;\n",
       "        }    #T_bbc7c318_b375_11e9_b72b_9801a7978c49row9_col4 {\n",
       "            color:  black;\n",
       "        }    #T_bbc7c318_b375_11e9_b72b_9801a7978c49row9_col5 {\n",
       "            color:  black;\n",
       "        }    #T_bbc7c318_b375_11e9_b72b_9801a7978c49row9_col6 {\n",
       "            color:  black;\n",
       "        }    #T_bbc7c318_b375_11e9_b72b_9801a7978c49row9_col7 {\n",
       "            background-color:  #a1d6a0;\n",
       "        }    #T_bbc7c318_b375_11e9_b72b_9801a7978c49row10_col0 {\n",
       "            font-weight:  bold;\n",
       "        }    #T_bbc7c318_b375_11e9_b72b_9801a7978c49row10_col4 {\n",
       "            color:  black;\n",
       "        }    #T_bbc7c318_b375_11e9_b72b_9801a7978c49row10_col5 {\n",
       "            color:  black;\n",
       "        }    #T_bbc7c318_b375_11e9_b72b_9801a7978c49row10_col6 {\n",
       "            color:  black;\n",
       "        }    #T_bbc7c318_b375_11e9_b72b_9801a7978c49row10_col7 {\n",
       "            background-color:  #a4d7a3;\n",
       "        }    #T_bbc7c318_b375_11e9_b72b_9801a7978c49row11_col0 {\n",
       "            font-weight:  bold;\n",
       "        }    #T_bbc7c318_b375_11e9_b72b_9801a7978c49row11_col4 {\n",
       "            color:  black;\n",
       "        }    #T_bbc7c318_b375_11e9_b72b_9801a7978c49row11_col5 {\n",
       "            color:  black;\n",
       "        }    #T_bbc7c318_b375_11e9_b72b_9801a7978c49row11_col6 {\n",
       "            color:  black;\n",
       "        }    #T_bbc7c318_b375_11e9_b72b_9801a7978c49row11_col7 {\n",
       "            background-color:  #a7d8a6;\n",
       "        }    #T_bbc7c318_b375_11e9_b72b_9801a7978c49row12_col0 {\n",
       "            font-weight:  bold;\n",
       "        }    #T_bbc7c318_b375_11e9_b72b_9801a7978c49row12_col4 {\n",
       "            color:  black;\n",
       "        }    #T_bbc7c318_b375_11e9_b72b_9801a7978c49row12_col5 {\n",
       "            color:  black;\n",
       "        }    #T_bbc7c318_b375_11e9_b72b_9801a7978c49row12_col6 {\n",
       "            color:  black;\n",
       "        }    #T_bbc7c318_b375_11e9_b72b_9801a7978c49row12_col7 {\n",
       "            background-color:  #b1ddb0;\n",
       "        }    #T_bbc7c318_b375_11e9_b72b_9801a7978c49row13_col0 {\n",
       "            font-weight:  bold;\n",
       "        }    #T_bbc7c318_b375_11e9_b72b_9801a7978c49row13_col4 {\n",
       "            color:  black;\n",
       "        }    #T_bbc7c318_b375_11e9_b72b_9801a7978c49row13_col5 {\n",
       "            color:  black;\n",
       "        }    #T_bbc7c318_b375_11e9_b72b_9801a7978c49row13_col6 {\n",
       "            color:  black;\n",
       "        }    #T_bbc7c318_b375_11e9_b72b_9801a7978c49row13_col7 {\n",
       "            background-color:  #bee3be;\n",
       "        }    #T_bbc7c318_b375_11e9_b72b_9801a7978c49row14_col0 {\n",
       "            font-weight:  bold;\n",
       "        }    #T_bbc7c318_b375_11e9_b72b_9801a7978c49row14_col4 {\n",
       "            color:  black;\n",
       "        }    #T_bbc7c318_b375_11e9_b72b_9801a7978c49row14_col5 {\n",
       "            color:  black;\n",
       "        }    #T_bbc7c318_b375_11e9_b72b_9801a7978c49row14_col6 {\n",
       "            color:  black;\n",
       "        }    #T_bbc7c318_b375_11e9_b72b_9801a7978c49row14_col7 {\n",
       "            background-color:  #c1e4c0;\n",
       "        }    #T_bbc7c318_b375_11e9_b72b_9801a7978c49row15_col0 {\n",
       "            font-weight:  bold;\n",
       "        }    #T_bbc7c318_b375_11e9_b72b_9801a7978c49row15_col4 {\n",
       "            color:  black;\n",
       "        }    #T_bbc7c318_b375_11e9_b72b_9801a7978c49row15_col5 {\n",
       "            color:  black;\n",
       "        }    #T_bbc7c318_b375_11e9_b72b_9801a7978c49row15_col6 {\n",
       "            color:  black;\n",
       "        }    #T_bbc7c318_b375_11e9_b72b_9801a7978c49row15_col7 {\n",
       "            background-color:  #cbe9ca;\n",
       "        }    #T_bbc7c318_b375_11e9_b72b_9801a7978c49row16_col0 {\n",
       "            font-weight:  bold;\n",
       "        }    #T_bbc7c318_b375_11e9_b72b_9801a7978c49row16_col4 {\n",
       "            color:  black;\n",
       "        }    #T_bbc7c318_b375_11e9_b72b_9801a7978c49row16_col5 {\n",
       "            color:  black;\n",
       "        }    #T_bbc7c318_b375_11e9_b72b_9801a7978c49row16_col6 {\n",
       "            color:  black;\n",
       "        }    #T_bbc7c318_b375_11e9_b72b_9801a7978c49row16_col7 {\n",
       "            background-color:  #ceeacd;\n",
       "        }    #T_bbc7c318_b375_11e9_b72b_9801a7978c49row17_col0 {\n",
       "            font-weight:  bold;\n",
       "        }    #T_bbc7c318_b375_11e9_b72b_9801a7978c49row17_col4 {\n",
       "            color:  black;\n",
       "        }    #T_bbc7c318_b375_11e9_b72b_9801a7978c49row17_col5 {\n",
       "            color:  black;\n",
       "        }    #T_bbc7c318_b375_11e9_b72b_9801a7978c49row17_col6 {\n",
       "            color:  black;\n",
       "        }    #T_bbc7c318_b375_11e9_b72b_9801a7978c49row17_col7 {\n",
       "            background-color:  #d8efd8;\n",
       "        }    #T_bbc7c318_b375_11e9_b72b_9801a7978c49row18_col0 {\n",
       "            font-weight:  bold;\n",
       "        }    #T_bbc7c318_b375_11e9_b72b_9801a7978c49row18_col4 {\n",
       "            color:  red;\n",
       "        }    #T_bbc7c318_b375_11e9_b72b_9801a7978c49row18_col5 {\n",
       "            color:  black;\n",
       "        }    #T_bbc7c318_b375_11e9_b72b_9801a7978c49row18_col6 {\n",
       "            color:  black;\n",
       "        }    #T_bbc7c318_b375_11e9_b72b_9801a7978c49row18_col7 {\n",
       "            background-color:  #e3f3e3;\n",
       "        }    #T_bbc7c318_b375_11e9_b72b_9801a7978c49row19_col0 {\n",
       "            font-weight:  bold;\n",
       "        }    #T_bbc7c318_b375_11e9_b72b_9801a7978c49row19_col4 {\n",
       "            color:  black;\n",
       "        }    #T_bbc7c318_b375_11e9_b72b_9801a7978c49row19_col5 {\n",
       "            color:  black;\n",
       "        }    #T_bbc7c318_b375_11e9_b72b_9801a7978c49row19_col6 {\n",
       "            color:  green;\n",
       "        }    #T_bbc7c318_b375_11e9_b72b_9801a7978c49row19_col7 {\n",
       "            background-color:  #edf8ed;\n",
       "        }</style>  \n",
       "<table id=\"T_bbc7c318_b375_11e9_b72b_9801a7978c49\" ><caption>Top Defenders:</caption> \n",
       "<thead>    <tr> \n",
       "        <th class=\"blank level0\" ></th> \n",
       "        <th class=\"col_heading level0 col0\" >name</th> \n",
       "        <th class=\"col_heading level0 col1\" >games</th> \n",
       "        <th class=\"col_heading level0 col2\" >points</th> \n",
       "        <th class=\"col_heading level0 col3\" >value</th> \n",
       "        <th class=\"col_heading level0 col4\" >cards</th> \n",
       "        <th class=\"col_heading level0 col5\" >points_per_million</th> \n",
       "        <th class=\"col_heading level0 col6\" >points_per_game</th> \n",
       "        <th class=\"col_heading level0 col7\" >pct_lineup</th> \n",
       "    </tr></thead> \n",
       "<tbody>    <tr> \n",
       "        <th id=\"T_bbc7c318_b375_11e9_b72b_9801a7978c49level0_row0\" class=\"row_heading level0 row0\" >51</th> \n",
       "        <td id=\"T_bbc7c318_b375_11e9_b72b_9801a7978c49row0_col0\" class=\"data row0 col0\" >Cote</td> \n",
       "        <td id=\"T_bbc7c318_b375_11e9_b72b_9801a7978c49row0_col1\" class=\"data row0 col1\" >35</td> \n",
       "        <td id=\"T_bbc7c318_b375_11e9_b72b_9801a7978c49row0_col2\" class=\"data row0 col2\" >179</td> \n",
       "        <td id=\"T_bbc7c318_b375_11e9_b72b_9801a7978c49row0_col3\" class=\"data row0 col3\" >3.23M</td> \n",
       "        <td id=\"T_bbc7c318_b375_11e9_b72b_9801a7978c49row0_col4\" class=\"data row0 col4\" >9</td> \n",
       "        <td id=\"T_bbc7c318_b375_11e9_b72b_9801a7978c49row0_col5\" class=\"data row0 col5\" >55.42</td> \n",
       "        <td id=\"T_bbc7c318_b375_11e9_b72b_9801a7978c49row0_col6\" class=\"data row0 col6\" >5.11</td> \n",
       "        <td id=\"T_bbc7c318_b375_11e9_b72b_9801a7978c49row0_col7\" class=\"data row0 col7\" >12.2</td> \n",
       "    </tr>    <tr> \n",
       "        <th id=\"T_bbc7c318_b375_11e9_b72b_9801a7978c49level0_row1\" class=\"row_heading level0 row1\" >182</th> \n",
       "        <td id=\"T_bbc7c318_b375_11e9_b72b_9801a7978c49row1_col0\" class=\"data row1 col0\" >Piqué</td> \n",
       "        <td id=\"T_bbc7c318_b375_11e9_b72b_9801a7978c49row1_col1\" class=\"data row1 col1\" >35</td> \n",
       "        <td id=\"T_bbc7c318_b375_11e9_b72b_9801a7978c49row1_col2\" class=\"data row1 col2\" >227</td> \n",
       "        <td id=\"T_bbc7c318_b375_11e9_b72b_9801a7978c49row1_col3\" class=\"data row1 col3\" >8.5M</td> \n",
       "        <td id=\"T_bbc7c318_b375_11e9_b72b_9801a7978c49row1_col4\" class=\"data row1 col4\" >6</td> \n",
       "        <td id=\"T_bbc7c318_b375_11e9_b72b_9801a7978c49row1_col5\" class=\"data row1 col5\" >26.71</td> \n",
       "        <td id=\"T_bbc7c318_b375_11e9_b72b_9801a7978c49row1_col6\" class=\"data row1 col6\" >6.49</td> \n",
       "        <td id=\"T_bbc7c318_b375_11e9_b72b_9801a7978c49row1_col7\" class=\"data row1 col7\" >11.2</td> \n",
       "    </tr>    <tr> \n",
       "        <th id=\"T_bbc7c318_b375_11e9_b72b_9801a7978c49level0_row2\" class=\"row_heading level0 row2\" >200</th> \n",
       "        <td id=\"T_bbc7c318_b375_11e9_b72b_9801a7978c49row2_col0\" class=\"data row2 col0\" >Rubén Peña</td> \n",
       "        <td id=\"T_bbc7c318_b375_11e9_b72b_9801a7978c49row2_col1\" class=\"data row2 col1\" >31</td> \n",
       "        <td id=\"T_bbc7c318_b375_11e9_b72b_9801a7978c49row2_col2\" class=\"data row2 col2\" >174</td> \n",
       "        <td id=\"T_bbc7c318_b375_11e9_b72b_9801a7978c49row2_col3\" class=\"data row2 col3\" >2.7M</td> \n",
       "        <td id=\"T_bbc7c318_b375_11e9_b72b_9801a7978c49row2_col4\" class=\"data row2 col4\" >4</td> \n",
       "        <td id=\"T_bbc7c318_b375_11e9_b72b_9801a7978c49row2_col5\" class=\"data row2 col5\" >64.44</td> \n",
       "        <td id=\"T_bbc7c318_b375_11e9_b72b_9801a7978c49row2_col6\" class=\"data row2 col6\" >5.61</td> \n",
       "        <td id=\"T_bbc7c318_b375_11e9_b72b_9801a7978c49row2_col7\" class=\"data row2 col7\" >10.3</td> \n",
       "    </tr>    <tr> \n",
       "        <th id=\"T_bbc7c318_b375_11e9_b72b_9801a7978c49level0_row3\" class=\"row_heading level0 row3\" >121</th> \n",
       "        <td id=\"T_bbc7c318_b375_11e9_b72b_9801a7978c49row3_col0\" class=\"data row3 col0\" >Jordi Alba</td> \n",
       "        <td id=\"T_bbc7c318_b375_11e9_b72b_9801a7978c49row3_col1\" class=\"data row3 col1\" >36</td> \n",
       "        <td id=\"T_bbc7c318_b375_11e9_b72b_9801a7978c49row3_col2\" class=\"data row3 col2\" >200</td> \n",
       "        <td id=\"T_bbc7c318_b375_11e9_b72b_9801a7978c49row3_col3\" class=\"data row3 col3\" >7.26M</td> \n",
       "        <td id=\"T_bbc7c318_b375_11e9_b72b_9801a7978c49row3_col4\" class=\"data row3 col4\" >6</td> \n",
       "        <td id=\"T_bbc7c318_b375_11e9_b72b_9801a7978c49row3_col5\" class=\"data row3 col5\" >27.55</td> \n",
       "        <td id=\"T_bbc7c318_b375_11e9_b72b_9801a7978c49row3_col6\" class=\"data row3 col6\" >5.56</td> \n",
       "        <td id=\"T_bbc7c318_b375_11e9_b72b_9801a7978c49row3_col7\" class=\"data row3 col7\" >9.6</td> \n",
       "    </tr>    <tr> \n",
       "        <th id=\"T_bbc7c318_b375_11e9_b72b_9801a7978c49level0_row4\" class=\"row_heading level0 row4\" >168</th> \n",
       "        <td id=\"T_bbc7c318_b375_11e9_b72b_9801a7978c49row4_col0\" class=\"data row4 col0\" >Nacho Martínez</td> \n",
       "        <td id=\"T_bbc7c318_b375_11e9_b72b_9801a7978c49row4_col1\" class=\"data row4 col1\" >35</td> \n",
       "        <td id=\"T_bbc7c318_b375_11e9_b72b_9801a7978c49row4_col2\" class=\"data row4 col2\" >166</td> \n",
       "        <td id=\"T_bbc7c318_b375_11e9_b72b_9801a7978c49row4_col3\" class=\"data row4 col3\" >2.41M</td> \n",
       "        <td id=\"T_bbc7c318_b375_11e9_b72b_9801a7978c49row4_col4\" class=\"data row4 col4\" >10</td> \n",
       "        <td id=\"T_bbc7c318_b375_11e9_b72b_9801a7978c49row4_col5\" class=\"data row4 col5\" >68.88</td> \n",
       "        <td id=\"T_bbc7c318_b375_11e9_b72b_9801a7978c49row4_col6\" class=\"data row4 col6\" >4.74</td> \n",
       "        <td id=\"T_bbc7c318_b375_11e9_b72b_9801a7978c49row4_col7\" class=\"data row4 col7\" >9.4</td> \n",
       "    </tr>    <tr> \n",
       "        <th id=\"T_bbc7c318_b375_11e9_b72b_9801a7978c49level0_row5\" class=\"row_heading level0 row5\" >34</th> \n",
       "        <td id=\"T_bbc7c318_b375_11e9_b72b_9801a7978c49row5_col0\" class=\"data row5 col0\" >Calero</td> \n",
       "        <td id=\"T_bbc7c318_b375_11e9_b72b_9801a7978c49row5_col1\" class=\"data row5 col1\" >36</td> \n",
       "        <td id=\"T_bbc7c318_b375_11e9_b72b_9801a7978c49row5_col2\" class=\"data row5 col2\" >166</td> \n",
       "        <td id=\"T_bbc7c318_b375_11e9_b72b_9801a7978c49row5_col3\" class=\"data row5 col3\" >3.1M</td> \n",
       "        <td id=\"T_bbc7c318_b375_11e9_b72b_9801a7978c49row5_col4\" class=\"data row5 col4\" >7</td> \n",
       "        <td id=\"T_bbc7c318_b375_11e9_b72b_9801a7978c49row5_col5\" class=\"data row5 col5\" >53.55</td> \n",
       "        <td id=\"T_bbc7c318_b375_11e9_b72b_9801a7978c49row5_col6\" class=\"data row5 col6\" >4.61</td> \n",
       "        <td id=\"T_bbc7c318_b375_11e9_b72b_9801a7978c49row5_col7\" class=\"data row5 col7\" >9.3</td> \n",
       "    </tr>    <tr> \n",
       "        <th id=\"T_bbc7c318_b375_11e9_b72b_9801a7978c49level0_row6\" class=\"row_heading level0 row6\" >133</th> \n",
       "        <td id=\"T_bbc7c318_b375_11e9_b72b_9801a7978c49row6_col0\" class=\"data row6 col0\" >Laguardia</td> \n",
       "        <td id=\"T_bbc7c318_b375_11e9_b72b_9801a7978c49row6_col1\" class=\"data row6 col1\" >36</td> \n",
       "        <td id=\"T_bbc7c318_b375_11e9_b72b_9801a7978c49row6_col2\" class=\"data row6 col2\" >170</td> \n",
       "        <td id=\"T_bbc7c318_b375_11e9_b72b_9801a7978c49row6_col3\" class=\"data row6 col3\" >3.39M</td> \n",
       "        <td id=\"T_bbc7c318_b375_11e9_b72b_9801a7978c49row6_col4\" class=\"data row6 col4\" >12</td> \n",
       "        <td id=\"T_bbc7c318_b375_11e9_b72b_9801a7978c49row6_col5\" class=\"data row6 col5\" >50.15</td> \n",
       "        <td id=\"T_bbc7c318_b375_11e9_b72b_9801a7978c49row6_col6\" class=\"data row6 col6\" >4.72</td> \n",
       "        <td id=\"T_bbc7c318_b375_11e9_b72b_9801a7978c49row6_col7\" class=\"data row6 col7\" >9.2</td> \n",
       "    </tr>    <tr> \n",
       "        <th id=\"T_bbc7c318_b375_11e9_b72b_9801a7978c49level0_row7\" class=\"row_heading level0 row7\" >143</th> \n",
       "        <td id=\"T_bbc7c318_b375_11e9_b72b_9801a7978c49row7_col0\" class=\"data row7 col0\" >Mandi</td> \n",
       "        <td id=\"T_bbc7c318_b375_11e9_b72b_9801a7978c49row7_col1\" class=\"data row7 col1\" >35</td> \n",
       "        <td id=\"T_bbc7c318_b375_11e9_b72b_9801a7978c49row7_col2\" class=\"data row7 col2\" >158</td> \n",
       "        <td id=\"T_bbc7c318_b375_11e9_b72b_9801a7978c49row7_col3\" class=\"data row7 col3\" >2.56M</td> \n",
       "        <td id=\"T_bbc7c318_b375_11e9_b72b_9801a7978c49row7_col4\" class=\"data row7 col4\" >10</td> \n",
       "        <td id=\"T_bbc7c318_b375_11e9_b72b_9801a7978c49row7_col5\" class=\"data row7 col5\" >61.72</td> \n",
       "        <td id=\"T_bbc7c318_b375_11e9_b72b_9801a7978c49row7_col6\" class=\"data row7 col6\" >4.51</td> \n",
       "        <td id=\"T_bbc7c318_b375_11e9_b72b_9801a7978c49row7_col7\" class=\"data row7 col7\" >8.8</td> \n",
       "    </tr>    <tr> \n",
       "        <th id=\"T_bbc7c318_b375_11e9_b72b_9801a7978c49level0_row8\" class=\"row_heading level0 row8\" >117</th> \n",
       "        <td id=\"T_bbc7c318_b375_11e9_b72b_9801a7978c49row8_col0\" class=\"data row8 col0\" >Jesús Navas</td> \n",
       "        <td id=\"T_bbc7c318_b375_11e9_b72b_9801a7978c49row8_col1\" class=\"data row8 col1\" >32</td> \n",
       "        <td id=\"T_bbc7c318_b375_11e9_b72b_9801a7978c49row8_col2\" class=\"data row8 col2\" >193</td> \n",
       "        <td id=\"T_bbc7c318_b375_11e9_b72b_9801a7978c49row8_col3\" class=\"data row8 col3\" >6.46M</td> \n",
       "        <td id=\"T_bbc7c318_b375_11e9_b72b_9801a7978c49row8_col4\" class=\"data row8 col4\" >8</td> \n",
       "        <td id=\"T_bbc7c318_b375_11e9_b72b_9801a7978c49row8_col5\" class=\"data row8 col5\" >29.88</td> \n",
       "        <td id=\"T_bbc7c318_b375_11e9_b72b_9801a7978c49row8_col6\" class=\"data row8 col6\" >6.03</td> \n",
       "        <td id=\"T_bbc7c318_b375_11e9_b72b_9801a7978c49row8_col7\" class=\"data row8 col7\" >8.8</td> \n",
       "    </tr>    <tr> \n",
       "        <th id=\"T_bbc7c318_b375_11e9_b72b_9801a7978c49level0_row9\" class=\"row_heading level0 row9\" >103</th> \n",
       "        <td id=\"T_bbc7c318_b375_11e9_b72b_9801a7978c49row9_col0\" class=\"data row9 col0\" >Hugo Mallo</td> \n",
       "        <td id=\"T_bbc7c318_b375_11e9_b72b_9801a7978c49row9_col1\" class=\"data row9 col1\" >35</td> \n",
       "        <td id=\"T_bbc7c318_b375_11e9_b72b_9801a7978c49row9_col2\" class=\"data row9 col2\" >154</td> \n",
       "        <td id=\"T_bbc7c318_b375_11e9_b72b_9801a7978c49row9_col3\" class=\"data row9 col3\" >3.2M</td> \n",
       "        <td id=\"T_bbc7c318_b375_11e9_b72b_9801a7978c49row9_col4\" class=\"data row9 col4\" >11</td> \n",
       "        <td id=\"T_bbc7c318_b375_11e9_b72b_9801a7978c49row9_col5\" class=\"data row9 col5\" >48.12</td> \n",
       "        <td id=\"T_bbc7c318_b375_11e9_b72b_9801a7978c49row9_col6\" class=\"data row9 col6\" >4.4</td> \n",
       "        <td id=\"T_bbc7c318_b375_11e9_b72b_9801a7978c49row9_col7\" class=\"data row9 col7\" >8.6</td> \n",
       "    </tr>    <tr> \n",
       "        <th id=\"T_bbc7c318_b375_11e9_b72b_9801a7978c49level0_row10\" class=\"row_heading level0 row10\" >217</th> \n",
       "        <td id=\"T_bbc7c318_b375_11e9_b72b_9801a7978c49row10_col0\" class=\"data row10 col0\" >Siovas</td> \n",
       "        <td id=\"T_bbc7c318_b375_11e9_b72b_9801a7978c49row10_col1\" class=\"data row10 col1\" >34</td> \n",
       "        <td id=\"T_bbc7c318_b375_11e9_b72b_9801a7978c49row10_col2\" class=\"data row10 col2\" >158</td> \n",
       "        <td id=\"T_bbc7c318_b375_11e9_b72b_9801a7978c49row10_col3\" class=\"data row10 col3\" >3.03M</td> \n",
       "        <td id=\"T_bbc7c318_b375_11e9_b72b_9801a7978c49row10_col4\" class=\"data row10 col4\" >5</td> \n",
       "        <td id=\"T_bbc7c318_b375_11e9_b72b_9801a7978c49row10_col5\" class=\"data row10 col5\" >52.15</td> \n",
       "        <td id=\"T_bbc7c318_b375_11e9_b72b_9801a7978c49row10_col6\" class=\"data row10 col6\" >4.65</td> \n",
       "        <td id=\"T_bbc7c318_b375_11e9_b72b_9801a7978c49row10_col7\" class=\"data row10 col7\" >8.5</td> \n",
       "    </tr>    <tr> \n",
       "        <th id=\"T_bbc7c318_b375_11e9_b72b_9801a7978c49level0_row11\" class=\"row_heading level0 row11\" >9</th> \n",
       "        <td id=\"T_bbc7c318_b375_11e9_b72b_9801a7978c49row11_col0\" class=\"data row11 col0\" >Araujo</td> \n",
       "        <td id=\"T_bbc7c318_b375_11e9_b72b_9801a7978c49row11_col1\" class=\"data row11 col1\" >32</td> \n",
       "        <td id=\"T_bbc7c318_b375_11e9_b72b_9801a7978c49row11_col2\" class=\"data row11 col2\" >141</td> \n",
       "        <td id=\"T_bbc7c318_b375_11e9_b72b_9801a7978c49row11_col3\" class=\"data row11 col3\" >1.63M</td> \n",
       "        <td id=\"T_bbc7c318_b375_11e9_b72b_9801a7978c49row11_col4\" class=\"data row11 col4\" >3</td> \n",
       "        <td id=\"T_bbc7c318_b375_11e9_b72b_9801a7978c49row11_col5\" class=\"data row11 col5\" >86.5</td> \n",
       "        <td id=\"T_bbc7c318_b375_11e9_b72b_9801a7978c49row11_col6\" class=\"data row11 col6\" >4.41</td> \n",
       "        <td id=\"T_bbc7c318_b375_11e9_b72b_9801a7978c49row11_col7\" class=\"data row11 col7\" >8.4</td> \n",
       "    </tr>    <tr> \n",
       "        <th id=\"T_bbc7c318_b375_11e9_b72b_9801a7978c49level0_row12\" class=\"row_heading level0 row12\" >58</th> \n",
       "        <td id=\"T_bbc7c318_b375_11e9_b72b_9801a7978c49row12_col0\" class=\"data row12 col0\" >Damián Suárez</td> \n",
       "        <td id=\"T_bbc7c318_b375_11e9_b72b_9801a7978c49row12_col1\" class=\"data row12 col1\" >36</td> \n",
       "        <td id=\"T_bbc7c318_b375_11e9_b72b_9801a7978c49row12_col2\" class=\"data row12 col2\" >152</td> \n",
       "        <td id=\"T_bbc7c318_b375_11e9_b72b_9801a7978c49row12_col3\" class=\"data row12 col3\" >2.69M</td> \n",
       "        <td id=\"T_bbc7c318_b375_11e9_b72b_9801a7978c49row12_col4\" class=\"data row12 col4\" >12</td> \n",
       "        <td id=\"T_bbc7c318_b375_11e9_b72b_9801a7978c49row12_col5\" class=\"data row12 col5\" >56.51</td> \n",
       "        <td id=\"T_bbc7c318_b375_11e9_b72b_9801a7978c49row12_col6\" class=\"data row12 col6\" >4.22</td> \n",
       "        <td id=\"T_bbc7c318_b375_11e9_b72b_9801a7978c49row12_col7\" class=\"data row12 col7\" >8</td> \n",
       "    </tr>    <tr> \n",
       "        <th id=\"T_bbc7c318_b375_11e9_b72b_9801a7978c49level0_row13\" class=\"row_heading level0 row13\" >91</th> \n",
       "        <td id=\"T_bbc7c318_b375_11e9_b72b_9801a7978c49row13_col0\" class=\"data row13 col0\" >Gayà</td> \n",
       "        <td id=\"T_bbc7c318_b375_11e9_b72b_9801a7978c49row13_col1\" class=\"data row13 col1\" >35</td> \n",
       "        <td id=\"T_bbc7c318_b375_11e9_b72b_9801a7978c49row13_col2\" class=\"data row13 col2\" >169</td> \n",
       "        <td id=\"T_bbc7c318_b375_11e9_b72b_9801a7978c49row13_col3\" class=\"data row13 col3\" >4.56M</td> \n",
       "        <td id=\"T_bbc7c318_b375_11e9_b72b_9801a7978c49row13_col4\" class=\"data row13 col4\" >10</td> \n",
       "        <td id=\"T_bbc7c318_b375_11e9_b72b_9801a7978c49row13_col5\" class=\"data row13 col5\" >37.06</td> \n",
       "        <td id=\"T_bbc7c318_b375_11e9_b72b_9801a7978c49row13_col6\" class=\"data row13 col6\" >4.83</td> \n",
       "        <td id=\"T_bbc7c318_b375_11e9_b72b_9801a7978c49row13_col7\" class=\"data row13 col7\" >7.5</td> \n",
       "    </tr>    <tr> \n",
       "        <th id=\"T_bbc7c318_b375_11e9_b72b_9801a7978c49level0_row14\" class=\"row_heading level0 row14\" >33</th> \n",
       "        <td id=\"T_bbc7c318_b375_11e9_b72b_9801a7978c49row14_col0\" class=\"data row14 col0\" >Cabrera</td> \n",
       "        <td id=\"T_bbc7c318_b375_11e9_b72b_9801a7978c49row14_col1\" class=\"data row14 col1\" >32</td> \n",
       "        <td id=\"T_bbc7c318_b375_11e9_b72b_9801a7978c49row14_col2\" class=\"data row14 col2\" >153</td> \n",
       "        <td id=\"T_bbc7c318_b375_11e9_b72b_9801a7978c49row14_col3\" class=\"data row14 col3\" >2.84M</td> \n",
       "        <td id=\"T_bbc7c318_b375_11e9_b72b_9801a7978c49row14_col4\" class=\"data row14 col4\" >11</td> \n",
       "        <td id=\"T_bbc7c318_b375_11e9_b72b_9801a7978c49row14_col5\" class=\"data row14 col5\" >53.87</td> \n",
       "        <td id=\"T_bbc7c318_b375_11e9_b72b_9801a7978c49row14_col6\" class=\"data row14 col6\" >4.78</td> \n",
       "        <td id=\"T_bbc7c318_b375_11e9_b72b_9801a7978c49row14_col7\" class=\"data row14 col7\" >7.4</td> \n",
       "    </tr>    <tr> \n",
       "        <th id=\"T_bbc7c318_b375_11e9_b72b_9801a7978c49level0_row15\" class=\"row_heading level0 row15\" >244</th> \n",
       "        <td id=\"T_bbc7c318_b375_11e9_b72b_9801a7978c49row15_col0\" class=\"data row15 col0\" >Yuri</td> \n",
       "        <td id=\"T_bbc7c318_b375_11e9_b72b_9801a7978c49row15_col1\" class=\"data row15 col1\" >35</td> \n",
       "        <td id=\"T_bbc7c318_b375_11e9_b72b_9801a7978c49row15_col2\" class=\"data row15 col2\" >148</td> \n",
       "        <td id=\"T_bbc7c318_b375_11e9_b72b_9801a7978c49row15_col3\" class=\"data row15 col3\" >2.57M</td> \n",
       "        <td id=\"T_bbc7c318_b375_11e9_b72b_9801a7978c49row15_col4\" class=\"data row15 col4\" >10</td> \n",
       "        <td id=\"T_bbc7c318_b375_11e9_b72b_9801a7978c49row15_col5\" class=\"data row15 col5\" >57.59</td> \n",
       "        <td id=\"T_bbc7c318_b375_11e9_b72b_9801a7978c49row15_col6\" class=\"data row15 col6\" >4.23</td> \n",
       "        <td id=\"T_bbc7c318_b375_11e9_b72b_9801a7978c49row15_col7\" class=\"data row15 col7\" >7</td> \n",
       "    </tr>    <tr> \n",
       "        <th id=\"T_bbc7c318_b375_11e9_b72b_9801a7978c49level0_row16\" class=\"row_heading level0 row16\" >119</th> \n",
       "        <td id=\"T_bbc7c318_b375_11e9_b72b_9801a7978c49row16_col0\" class=\"data row16 col0\" >Jonathan Silva</td> \n",
       "        <td id=\"T_bbc7c318_b375_11e9_b72b_9801a7978c49row16_col1\" class=\"data row16 col1\" >30</td> \n",
       "        <td id=\"T_bbc7c318_b375_11e9_b72b_9801a7978c49row16_col2\" class=\"data row16 col2\" >150</td> \n",
       "        <td id=\"T_bbc7c318_b375_11e9_b72b_9801a7978c49row16_col3\" class=\"data row16 col3\" >2.19M</td> \n",
       "        <td id=\"T_bbc7c318_b375_11e9_b72b_9801a7978c49row16_col4\" class=\"data row16 col4\" >9</td> \n",
       "        <td id=\"T_bbc7c318_b375_11e9_b72b_9801a7978c49row16_col5\" class=\"data row16 col5\" >68.49</td> \n",
       "        <td id=\"T_bbc7c318_b375_11e9_b72b_9801a7978c49row16_col6\" class=\"data row16 col6\" >5.0</td> \n",
       "        <td id=\"T_bbc7c318_b375_11e9_b72b_9801a7978c49row16_col7\" class=\"data row16 col7\" >6.9</td> \n",
       "    </tr>    <tr> \n",
       "        <th id=\"T_bbc7c318_b375_11e9_b72b_9801a7978c49level0_row17\" class=\"row_heading level0 row17\" >160</th> \n",
       "        <td id=\"T_bbc7c318_b375_11e9_b72b_9801a7978c49row17_col0\" class=\"data row17 col0\" >Miramón</td> \n",
       "        <td id=\"T_bbc7c318_b375_11e9_b72b_9801a7978c49row17_col1\" class=\"data row17 col1\" >30</td> \n",
       "        <td id=\"T_bbc7c318_b375_11e9_b72b_9801a7978c49row17_col2\" class=\"data row17 col2\" >143</td> \n",
       "        <td id=\"T_bbc7c318_b375_11e9_b72b_9801a7978c49row17_col3\" class=\"data row17 col3\" >2.15M</td> \n",
       "        <td id=\"T_bbc7c318_b375_11e9_b72b_9801a7978c49row17_col4\" class=\"data row17 col4\" >5</td> \n",
       "        <td id=\"T_bbc7c318_b375_11e9_b72b_9801a7978c49row17_col5\" class=\"data row17 col5\" >66.51</td> \n",
       "        <td id=\"T_bbc7c318_b375_11e9_b72b_9801a7978c49row17_col6\" class=\"data row17 col6\" >4.77</td> \n",
       "        <td id=\"T_bbc7c318_b375_11e9_b72b_9801a7978c49row17_col7\" class=\"data row17 col7\" >6.5</td> \n",
       "    </tr>    <tr> \n",
       "        <th id=\"T_bbc7c318_b375_11e9_b72b_9801a7978c49level0_row18\" class=\"row_heading level0 row18\" >87</th> \n",
       "        <td id=\"T_bbc7c318_b375_11e9_b72b_9801a7978c49row18_col0\" class=\"data row18 col0\" >Funes Mori</td> \n",
       "        <td id=\"T_bbc7c318_b375_11e9_b72b_9801a7978c49row18_col1\" class=\"data row18 col1\" >31</td> \n",
       "        <td id=\"T_bbc7c318_b375_11e9_b72b_9801a7978c49row18_col2\" class=\"data row18 col2\" >133</td> \n",
       "        <td id=\"T_bbc7c318_b375_11e9_b72b_9801a7978c49row18_col3\" class=\"data row18 col3\" >1.97M</td> \n",
       "        <td id=\"T_bbc7c318_b375_11e9_b72b_9801a7978c49row18_col4\" class=\"data row18 col4\" >14</td> \n",
       "        <td id=\"T_bbc7c318_b375_11e9_b72b_9801a7978c49row18_col5\" class=\"data row18 col5\" >67.51</td> \n",
       "        <td id=\"T_bbc7c318_b375_11e9_b72b_9801a7978c49row18_col6\" class=\"data row18 col6\" >4.29</td> \n",
       "        <td id=\"T_bbc7c318_b375_11e9_b72b_9801a7978c49row18_col7\" class=\"data row18 col7\" >6.1</td> \n",
       "    </tr>    <tr> \n",
       "        <th id=\"T_bbc7c318_b375_11e9_b72b_9801a7978c49level0_row19\" class=\"row_heading level0 row19\" >100</th> \n",
       "        <td id=\"T_bbc7c318_b375_11e9_b72b_9801a7978c49row19_col0\" class=\"data row19 col0\" >Hermoso</td> \n",
       "        <td id=\"T_bbc7c318_b375_11e9_b72b_9801a7978c49row19_col1\" class=\"data row19 col1\" >32</td> \n",
       "        <td id=\"T_bbc7c318_b375_11e9_b72b_9801a7978c49row19_col2\" class=\"data row19 col2\" >178</td> \n",
       "        <td id=\"T_bbc7c318_b375_11e9_b72b_9801a7978c49row19_col3\" class=\"data row19 col3\" >5.81M</td> \n",
       "        <td id=\"T_bbc7c318_b375_11e9_b72b_9801a7978c49row19_col4\" class=\"data row19 col4\" >7</td> \n",
       "        <td id=\"T_bbc7c318_b375_11e9_b72b_9801a7978c49row19_col5\" class=\"data row19 col5\" >30.64</td> \n",
       "        <td id=\"T_bbc7c318_b375_11e9_b72b_9801a7978c49row19_col6\" class=\"data row19 col6\" >5.56</td> \n",
       "        <td id=\"T_bbc7c318_b375_11e9_b72b_9801a7978c49row19_col7\" class=\"data row19 col7\" >5.7</td> \n",
       "    </tr></tbody> \n",
       "</table> "
      ],
      "text/plain": [
       "<pandas.io.formats.style.Styler at 0x11c7ef240>"
      ]
     },
     "execution_count": 31,
     "metadata": {},
     "output_type": "execute_result"
    }
   ],
   "source": [
    "top_players_table(players, \"Defender\", k=20)"
   ]
  },
  {
   "cell_type": "code",
   "execution_count": 32,
   "metadata": {},
   "outputs": [
    {
     "data": {
      "application/vnd.plotly.v1+json": {
       "config": {
        "plotlyServerURL": "https://plot.ly"
       },
       "data": [
        {
         "hoverlabel": {
          "namelength": 0
         },
         "hovertemplate": "<b>%{hovertext}</b><br><br>points_per_game=%{x}<br>points_per_million=%{y}<br>pct_lineup=%{marker.size}<br>value=%{marker.color}",
         "hovertext": [
          "Araujo",
          "Aritz Elustondo",
          "Bartra",
          "Bernardo",
          "Bustinza",
          "Cabrera",
          "Calero",
          "Capa",
          "Carriço",
          "Carvajal",
          "Coke",
          "Cote",
          "Damián Suárez",
          "De Marcos",
          "Diego Llorente",
          "Djené",
          "Escudero",
          "Feddal",
          "Funes Mori",
          "Gabriel Paulista",
          "Garay",
          "Gayà",
          "Giménez",
          "Hermoso",
          "Hugo Mallo",
          "Iñigo Martínez",
          "Jason",
          "Jesús Navas",
          "Jonathan Silva",
          "Jordi Alba",
          "Junior Firpo",
          "Kiko Olivas",
          "Laguardia",
          "Lenglet",
          "Mandi",
          "Marcelo",
          "Mario Gaspar",
          "Maripán",
          "Martín Aguirregabiria",
          "Miramón",
          "Nacho Martínez",
          "Naldo",
          "Nelson Semedo",
          "Pedraza",
          "Piccini",
          "Piqué",
          "Rubén Duarte",
          "Rubén Peña",
          "Santiago Arias",
          "Savic",
          "Sergi Gómez",
          "Sergi Roberto",
          "Sergio Ramos",
          "Sidnei",
          "Siovas",
          "Varane",
          "Vezo",
          "Wass",
          "Ximo Navarro",
          "Yeray",
          "Yuri",
          "Zaldua"
         ],
         "legendgroup": "",
         "marker": {
          "color": [
           1630000,
           1390000,
           3290000,
           1950000,
           1030000,
           2840000,
           3100000,
           1070000,
           1430000,
           4150000,
           1370000,
           3230000,
           2690000,
           1000000,
           1970000,
           3290000,
           1150000,
           870000,
           1970000,
           3020000,
           3110000,
           4560000,
           3590000,
           5810000,
           3200000,
           3410000,
           960000,
           6460000,
           2190000,
           7260000,
           3320000,
           1820000,
           3390000,
           3370000,
           2560000,
           3570000,
           810000,
           1740000,
           670000,
           2150000,
           2410000,
           1250000,
           2050000,
           2610000,
           1090000,
           8500000,
           900000,
           2700000,
           800000,
           870000,
           830000,
           3300000,
           5440000,
           750000,
           3030000,
           3560000,
           1500000,
           2990000,
           1160000,
           2150000,
           2570000,
           1460000
          ],
          "coloraxis": "coloraxis",
          "size": [
           8.4,
           4.7,
           5.1,
           3.2,
           3.4000000000000004,
           7.3999999999999995,
           9.3,
           2.3,
           5.6000000000000005,
           3.6999999999999997,
           4.5,
           12.2,
           8,
           4.3,
           2.9000000000000004,
           5.5,
           1.0999999999999999,
           2.4,
           6.1,
           5.4,
           3.6999999999999997,
           7.5,
           2.9000000000000004,
           5.7,
           8.6,
           4.3,
           5,
           8.799999999999999,
           6.9,
           9.6,
           2.9000000000000004,
           5.7,
           9.2,
           2.5,
           8.799999999999999,
           1.9,
           3.5000000000000004,
           5.1,
           2.5,
           6.5,
           9.4,
           1.7000000000000002,
           2.8000000000000003,
           5.1,
           2.7,
           11.200000000000001,
           5.2,
           10.299999999999999,
           3.1,
           1.0999999999999999,
           4.5,
           3.1,
           4.9,
           3.2,
           8.5,
           3.3000000000000003,
           2.7,
           4.9,
           5.3,
           4.7,
           7.000000000000001,
           4.1000000000000005
          ],
          "sizemode": "area",
          "sizeref": 0.0305,
          "symbol": "circle"
         },
         "mode": "markers",
         "name": "",
         "showlegend": false,
         "type": "scatter",
         "x": [
          4.40625,
          4.333333333333333,
          3.9393939393939394,
          4,
          4.32,
          4.78125,
          4.611111111111111,
          3.28,
          5.208333333333333,
          5.291666666666667,
          4.037037037037037,
          5.114285714285714,
          4.222222222222222,
          3.3666666666666667,
          4.476190476190476,
          4.264705882352941,
          3.380952380952381,
          4.190476190476191,
          4.290322580645161,
          4.466666666666667,
          5.166666666666667,
          4.828571428571428,
          5.285714285714286,
          5.5625,
          4.4,
          4.03030303030303,
          3.7666666666666666,
          6.03125,
          5,
          5.555555555555555,
          4.916666666666667,
          3.8857142857142857,
          4.722222222222222,
          5,
          4.514285714285714,
          3.4347826086956523,
          3.5806451612903225,
          5.782608695652174,
          2.925925925925926,
          4.766666666666667,
          4.742857142857143,
          5.375,
          3.9615384615384617,
          3.8529411764705883,
          3.869565217391304,
          6.485714285714286,
          3.4545454545454546,
          5.612903225806452,
          4,
          3.4444444444444446,
          3.71875,
          4.241379310344827,
          5.392857142857143,
          4.125,
          4.647058823529412,
          3.8125,
          4.7368421052631575,
          4.21875,
          3.935483870967742,
          4,
          4.228571428571429,
          4.3076923076923075
         ],
         "xaxis": "x",
         "y": [
          86.50306748466258,
          84.1726618705036,
          39.51367781155015,
          63.58974358974359,
          104.85436893203884,
          53.87323943661972,
          53.54838709677419,
          76.63551401869158,
          87.41258741258741,
          30.602409638554214,
          79.56204379562043,
          55.41795665634675,
          56.50557620817844,
          101,
          47.71573604060914,
          44.07294832826748,
          61.7391304347826,
          101.14942528735632,
          67.51269035532995,
          44.37086092715232,
          39.871382636655945,
          37.06140350877193,
          30.91922005571031,
          30.636833046471605,
          48.125,
          39.00293255131965,
          117.70833333333334,
          29.876160990712073,
          68.4931506849315,
          27.548209366391184,
          35.54216867469879,
          74.72527472527473,
          50.147492625368734,
          34.124629080118694,
          61.71875000000001,
          22.128851540616246,
          137.03703703703704,
          76.4367816091954,
          117.91044776119404,
          66.51162790697674,
          68.87966804979253,
          68.80000000000001,
          50.24390243902439,
          50.191570881226056,
          81.65137614678899,
          26.705882352941174,
          126.66666666666667,
          64.44444444444444,
          125,
          71.26436781609196,
          143.3734939759036,
          37.27272727272727,
          27.75735294117647,
          132,
          52.14521452145215,
          34.26966292134831,
          60,
          45.15050167224081,
          105.17241379310344,
          55.81395348837209,
          57.5875486381323,
          76.71232876712328
         ],
         "yaxis": "y"
        }
       ],
       "layout": {
        "coloraxis": {
         "colorbar": {
          "title": {
           "text": "value"
          }
         },
         "colorscale": [
          [
           0,
           "#0d0887"
          ],
          [
           0.1111111111111111,
           "#46039f"
          ],
          [
           0.2222222222222222,
           "#7201a8"
          ],
          [
           0.3333333333333333,
           "#9c179e"
          ],
          [
           0.4444444444444444,
           "#bd3786"
          ],
          [
           0.5555555555555556,
           "#d8576b"
          ],
          [
           0.6666666666666666,
           "#ed7953"
          ],
          [
           0.7777777777777778,
           "#fb9f3a"
          ],
          [
           0.8888888888888888,
           "#fdca26"
          ],
          [
           1,
           "#f0f921"
          ]
         ]
        },
        "height": 600,
        "legend": {
         "itemsizing": "constant",
         "tracegroupgap": 0
        },
        "margin": {
         "t": 60
        },
        "template": {
         "data": {
          "bar": [
           {
            "error_x": {
             "color": "#2a3f5f"
            },
            "error_y": {
             "color": "#2a3f5f"
            },
            "marker": {
             "line": {
              "color": "#E5ECF6",
              "width": 0.5
             }
            },
            "type": "bar"
           }
          ],
          "barpolar": [
           {
            "marker": {
             "line": {
              "color": "#E5ECF6",
              "width": 0.5
             }
            },
            "type": "barpolar"
           }
          ],
          "carpet": [
           {
            "aaxis": {
             "endlinecolor": "#2a3f5f",
             "gridcolor": "white",
             "linecolor": "white",
             "minorgridcolor": "white",
             "startlinecolor": "#2a3f5f"
            },
            "baxis": {
             "endlinecolor": "#2a3f5f",
             "gridcolor": "white",
             "linecolor": "white",
             "minorgridcolor": "white",
             "startlinecolor": "#2a3f5f"
            },
            "type": "carpet"
           }
          ],
          "choropleth": [
           {
            "colorbar": {
             "outlinewidth": 0,
             "ticks": ""
            },
            "type": "choropleth"
           }
          ],
          "contour": [
           {
            "colorbar": {
             "outlinewidth": 0,
             "ticks": ""
            },
            "colorscale": [
             [
              0,
              "#0d0887"
             ],
             [
              0.1111111111111111,
              "#46039f"
             ],
             [
              0.2222222222222222,
              "#7201a8"
             ],
             [
              0.3333333333333333,
              "#9c179e"
             ],
             [
              0.4444444444444444,
              "#bd3786"
             ],
             [
              0.5555555555555556,
              "#d8576b"
             ],
             [
              0.6666666666666666,
              "#ed7953"
             ],
             [
              0.7777777777777778,
              "#fb9f3a"
             ],
             [
              0.8888888888888888,
              "#fdca26"
             ],
             [
              1,
              "#f0f921"
             ]
            ],
            "type": "contour"
           }
          ],
          "contourcarpet": [
           {
            "colorbar": {
             "outlinewidth": 0,
             "ticks": ""
            },
            "type": "contourcarpet"
           }
          ],
          "heatmap": [
           {
            "colorbar": {
             "outlinewidth": 0,
             "ticks": ""
            },
            "colorscale": [
             [
              0,
              "#0d0887"
             ],
             [
              0.1111111111111111,
              "#46039f"
             ],
             [
              0.2222222222222222,
              "#7201a8"
             ],
             [
              0.3333333333333333,
              "#9c179e"
             ],
             [
              0.4444444444444444,
              "#bd3786"
             ],
             [
              0.5555555555555556,
              "#d8576b"
             ],
             [
              0.6666666666666666,
              "#ed7953"
             ],
             [
              0.7777777777777778,
              "#fb9f3a"
             ],
             [
              0.8888888888888888,
              "#fdca26"
             ],
             [
              1,
              "#f0f921"
             ]
            ],
            "type": "heatmap"
           }
          ],
          "heatmapgl": [
           {
            "colorbar": {
             "outlinewidth": 0,
             "ticks": ""
            },
            "colorscale": [
             [
              0,
              "#0d0887"
             ],
             [
              0.1111111111111111,
              "#46039f"
             ],
             [
              0.2222222222222222,
              "#7201a8"
             ],
             [
              0.3333333333333333,
              "#9c179e"
             ],
             [
              0.4444444444444444,
              "#bd3786"
             ],
             [
              0.5555555555555556,
              "#d8576b"
             ],
             [
              0.6666666666666666,
              "#ed7953"
             ],
             [
              0.7777777777777778,
              "#fb9f3a"
             ],
             [
              0.8888888888888888,
              "#fdca26"
             ],
             [
              1,
              "#f0f921"
             ]
            ],
            "type": "heatmapgl"
           }
          ],
          "histogram": [
           {
            "marker": {
             "colorbar": {
              "outlinewidth": 0,
              "ticks": ""
             }
            },
            "type": "histogram"
           }
          ],
          "histogram2d": [
           {
            "colorbar": {
             "outlinewidth": 0,
             "ticks": ""
            },
            "colorscale": [
             [
              0,
              "#0d0887"
             ],
             [
              0.1111111111111111,
              "#46039f"
             ],
             [
              0.2222222222222222,
              "#7201a8"
             ],
             [
              0.3333333333333333,
              "#9c179e"
             ],
             [
              0.4444444444444444,
              "#bd3786"
             ],
             [
              0.5555555555555556,
              "#d8576b"
             ],
             [
              0.6666666666666666,
              "#ed7953"
             ],
             [
              0.7777777777777778,
              "#fb9f3a"
             ],
             [
              0.8888888888888888,
              "#fdca26"
             ],
             [
              1,
              "#f0f921"
             ]
            ],
            "type": "histogram2d"
           }
          ],
          "histogram2dcontour": [
           {
            "colorbar": {
             "outlinewidth": 0,
             "ticks": ""
            },
            "colorscale": [
             [
              0,
              "#0d0887"
             ],
             [
              0.1111111111111111,
              "#46039f"
             ],
             [
              0.2222222222222222,
              "#7201a8"
             ],
             [
              0.3333333333333333,
              "#9c179e"
             ],
             [
              0.4444444444444444,
              "#bd3786"
             ],
             [
              0.5555555555555556,
              "#d8576b"
             ],
             [
              0.6666666666666666,
              "#ed7953"
             ],
             [
              0.7777777777777778,
              "#fb9f3a"
             ],
             [
              0.8888888888888888,
              "#fdca26"
             ],
             [
              1,
              "#f0f921"
             ]
            ],
            "type": "histogram2dcontour"
           }
          ],
          "mesh3d": [
           {
            "colorbar": {
             "outlinewidth": 0,
             "ticks": ""
            },
            "type": "mesh3d"
           }
          ],
          "parcoords": [
           {
            "line": {
             "colorbar": {
              "outlinewidth": 0,
              "ticks": ""
             }
            },
            "type": "parcoords"
           }
          ],
          "scatter": [
           {
            "marker": {
             "colorbar": {
              "outlinewidth": 0,
              "ticks": ""
             }
            },
            "type": "scatter"
           }
          ],
          "scatter3d": [
           {
            "line": {
             "colorbar": {
              "outlinewidth": 0,
              "ticks": ""
             }
            },
            "marker": {
             "colorbar": {
              "outlinewidth": 0,
              "ticks": ""
             }
            },
            "type": "scatter3d"
           }
          ],
          "scattercarpet": [
           {
            "marker": {
             "colorbar": {
              "outlinewidth": 0,
              "ticks": ""
             }
            },
            "type": "scattercarpet"
           }
          ],
          "scattergeo": [
           {
            "marker": {
             "colorbar": {
              "outlinewidth": 0,
              "ticks": ""
             }
            },
            "type": "scattergeo"
           }
          ],
          "scattergl": [
           {
            "marker": {
             "colorbar": {
              "outlinewidth": 0,
              "ticks": ""
             }
            },
            "type": "scattergl"
           }
          ],
          "scattermapbox": [
           {
            "marker": {
             "colorbar": {
              "outlinewidth": 0,
              "ticks": ""
             }
            },
            "type": "scattermapbox"
           }
          ],
          "scatterpolar": [
           {
            "marker": {
             "colorbar": {
              "outlinewidth": 0,
              "ticks": ""
             }
            },
            "type": "scatterpolar"
           }
          ],
          "scatterpolargl": [
           {
            "marker": {
             "colorbar": {
              "outlinewidth": 0,
              "ticks": ""
             }
            },
            "type": "scatterpolargl"
           }
          ],
          "scatterternary": [
           {
            "marker": {
             "colorbar": {
              "outlinewidth": 0,
              "ticks": ""
             }
            },
            "type": "scatterternary"
           }
          ],
          "surface": [
           {
            "colorbar": {
             "outlinewidth": 0,
             "ticks": ""
            },
            "colorscale": [
             [
              0,
              "#0d0887"
             ],
             [
              0.1111111111111111,
              "#46039f"
             ],
             [
              0.2222222222222222,
              "#7201a8"
             ],
             [
              0.3333333333333333,
              "#9c179e"
             ],
             [
              0.4444444444444444,
              "#bd3786"
             ],
             [
              0.5555555555555556,
              "#d8576b"
             ],
             [
              0.6666666666666666,
              "#ed7953"
             ],
             [
              0.7777777777777778,
              "#fb9f3a"
             ],
             [
              0.8888888888888888,
              "#fdca26"
             ],
             [
              1,
              "#f0f921"
             ]
            ],
            "type": "surface"
           }
          ],
          "table": [
           {
            "cells": {
             "fill": {
              "color": "#EBF0F8"
             },
             "line": {
              "color": "white"
             }
            },
            "header": {
             "fill": {
              "color": "#C8D4E3"
             },
             "line": {
              "color": "white"
             }
            },
            "type": "table"
           }
          ]
         },
         "layout": {
          "annotationdefaults": {
           "arrowcolor": "#2a3f5f",
           "arrowhead": 0,
           "arrowwidth": 1
          },
          "colorscale": {
           "diverging": [
            [
             0,
             "#8e0152"
            ],
            [
             0.1,
             "#c51b7d"
            ],
            [
             0.2,
             "#de77ae"
            ],
            [
             0.3,
             "#f1b6da"
            ],
            [
             0.4,
             "#fde0ef"
            ],
            [
             0.5,
             "#f7f7f7"
            ],
            [
             0.6,
             "#e6f5d0"
            ],
            [
             0.7,
             "#b8e186"
            ],
            [
             0.8,
             "#7fbc41"
            ],
            [
             0.9,
             "#4d9221"
            ],
            [
             1,
             "#276419"
            ]
           ],
           "sequential": [
            [
             0,
             "#0d0887"
            ],
            [
             0.1111111111111111,
             "#46039f"
            ],
            [
             0.2222222222222222,
             "#7201a8"
            ],
            [
             0.3333333333333333,
             "#9c179e"
            ],
            [
             0.4444444444444444,
             "#bd3786"
            ],
            [
             0.5555555555555556,
             "#d8576b"
            ],
            [
             0.6666666666666666,
             "#ed7953"
            ],
            [
             0.7777777777777778,
             "#fb9f3a"
            ],
            [
             0.8888888888888888,
             "#fdca26"
            ],
            [
             1,
             "#f0f921"
            ]
           ],
           "sequentialminus": [
            [
             0,
             "#0d0887"
            ],
            [
             0.1111111111111111,
             "#46039f"
            ],
            [
             0.2222222222222222,
             "#7201a8"
            ],
            [
             0.3333333333333333,
             "#9c179e"
            ],
            [
             0.4444444444444444,
             "#bd3786"
            ],
            [
             0.5555555555555556,
             "#d8576b"
            ],
            [
             0.6666666666666666,
             "#ed7953"
            ],
            [
             0.7777777777777778,
             "#fb9f3a"
            ],
            [
             0.8888888888888888,
             "#fdca26"
            ],
            [
             1,
             "#f0f921"
            ]
           ]
          },
          "colorway": [
           "#636efa",
           "#EF553B",
           "#00cc96",
           "#ab63fa",
           "#FFA15A",
           "#19d3f3",
           "#FF6692",
           "#B6E880",
           "#FF97FF",
           "#FECB52"
          ],
          "font": {
           "color": "#2a3f5f"
          },
          "geo": {
           "bgcolor": "white",
           "lakecolor": "white",
           "landcolor": "#E5ECF6",
           "showlakes": true,
           "showland": true,
           "subunitcolor": "white"
          },
          "hoverlabel": {
           "align": "left"
          },
          "hovermode": "closest",
          "mapbox": {
           "style": "light"
          },
          "paper_bgcolor": "white",
          "plot_bgcolor": "#E5ECF6",
          "polar": {
           "angularaxis": {
            "gridcolor": "white",
            "linecolor": "white",
            "ticks": ""
           },
           "bgcolor": "#E5ECF6",
           "radialaxis": {
            "gridcolor": "white",
            "linecolor": "white",
            "ticks": ""
           }
          },
          "scene": {
           "xaxis": {
            "backgroundcolor": "#E5ECF6",
            "gridcolor": "white",
            "gridwidth": 2,
            "linecolor": "white",
            "showbackground": true,
            "ticks": "",
            "zerolinecolor": "white"
           },
           "yaxis": {
            "backgroundcolor": "#E5ECF6",
            "gridcolor": "white",
            "gridwidth": 2,
            "linecolor": "white",
            "showbackground": true,
            "ticks": "",
            "zerolinecolor": "white"
           },
           "zaxis": {
            "backgroundcolor": "#E5ECF6",
            "gridcolor": "white",
            "gridwidth": 2,
            "linecolor": "white",
            "showbackground": true,
            "ticks": "",
            "zerolinecolor": "white"
           }
          },
          "shapedefaults": {
           "line": {
            "color": "#2a3f5f"
           }
          },
          "ternary": {
           "aaxis": {
            "gridcolor": "white",
            "linecolor": "white",
            "ticks": ""
           },
           "baxis": {
            "gridcolor": "white",
            "linecolor": "white",
            "ticks": ""
           },
           "bgcolor": "#E5ECF6",
           "caxis": {
            "gridcolor": "white",
            "linecolor": "white",
            "ticks": ""
           }
          },
          "title": {
           "x": 0.05
          },
          "xaxis": {
           "automargin": true,
           "gridcolor": "white",
           "linecolor": "white",
           "ticks": "",
           "zerolinecolor": "white",
           "zerolinewidth": 2
          },
          "yaxis": {
           "automargin": true,
           "gridcolor": "white",
           "linecolor": "white",
           "ticks": "",
           "zerolinecolor": "white",
           "zerolinewidth": 2
          }
         }
        },
        "xaxis": {
         "anchor": "y",
         "domain": [
          0,
          0.98
         ],
         "title": {
          "text": "Points per Game"
         }
        },
        "yaxis": {
         "anchor": "x",
         "domain": [
          0,
          1
         ],
         "title": {
          "text": "Points per Million"
         }
        }
       }
      },
      "text/html": [
       "<div>\n",
       "        \n",
       "        \n",
       "            <div id=\"8a599e3b-8fc0-4722-bc6e-331706d7bd10\" class=\"plotly-graph-div\" style=\"height:600px; width:100%;\"></div>\n",
       "            <script type=\"text/javascript\">\n",
       "                require([\"plotly\"], function(Plotly) {\n",
       "                    window.PLOTLYENV=window.PLOTLYENV || {};\n",
       "                    \n",
       "                if (document.getElementById(\"8a599e3b-8fc0-4722-bc6e-331706d7bd10\")) {\n",
       "                    Plotly.newPlot(\n",
       "                        '8a599e3b-8fc0-4722-bc6e-331706d7bd10',\n",
       "                        [{\"hoverlabel\": {\"namelength\": 0}, \"hovertemplate\": \"<b>%{hovertext}</b><br><br>points_per_game=%{x}<br>points_per_million=%{y}<br>pct_lineup=%{marker.size}<br>value=%{marker.color}\", \"hovertext\": [\"Araujo\", \"Aritz Elustondo\", \"Bartra\", \"Bernardo\", \"Bustinza\", \"Cabrera\", \"Calero\", \"Capa\", \"Carri\\u00e7o\", \"Carvajal\", \"Coke\", \"Cote\", \"Dami\\u00e1n Su\\u00e1rez\", \"De Marcos\", \"Diego Llorente\", \"Djen\\u00e9\", \"Escudero\", \"Feddal\", \"Funes Mori\", \"Gabriel Paulista\", \"Garay\", \"Gay\\u00e0\", \"Gim\\u00e9nez\", \"Hermoso\", \"Hugo Mallo\", \"I\\u00f1igo Mart\\u00ednez\", \"Jason\", \"Jes\\u00fas Navas\", \"Jonathan Silva\", \"Jordi Alba\", \"Junior Firpo\", \"Kiko Olivas\", \"Laguardia\", \"Lenglet\", \"Mandi\", \"Marcelo\", \"Mario Gaspar\", \"Marip\\u00e1n\", \"Mart\\u00edn Aguirregabiria\", \"Miram\\u00f3n\", \"Nacho Mart\\u00ednez\", \"Naldo\", \"Nelson Semedo\", \"Pedraza\", \"Piccini\", \"Piqu\\u00e9\", \"Rub\\u00e9n Duarte\", \"Rub\\u00e9n Pe\\u00f1a\", \"Santiago Arias\", \"Savic\", \"Sergi G\\u00f3mez\", \"Sergi Roberto\", \"Sergio Ramos\", \"Sidnei\", \"Siovas\", \"Varane\", \"Vezo\", \"Wass\", \"Ximo Navarro\", \"Yeray\", \"Yuri\", \"Zaldua\"], \"legendgroup\": \"\", \"marker\": {\"color\": [1630000.0, 1390000.0, 3290000.0, 1950000.0, 1030000.0, 2840000.0, 3100000.0, 1070000.0, 1430000.0, 4150000.0, 1370000.0, 3230000.0, 2690000.0, 1000000.0, 1970000.0, 3290000.0, 1150000.0, 870000.0, 1970000.0, 3020000.0, 3110000.0, 4560000.0, 3590000.0, 5810000.0, 3200000.0, 3410000.0, 960000.0, 6460000.0, 2190000.0, 7260000.0, 3320000.0, 1820000.0, 3390000.0, 3370000.0, 2560000.0, 3570000.0, 810000.0, 1740000.0, 670000.0, 2150000.0, 2410000.0, 1250000.0, 2050000.0, 2610000.0, 1090000.0, 8500000.0, 900000.0, 2700000.0, 800000.0, 870000.0, 830000.0, 3300000.0, 5440000.0, 750000.0, 3030000.0, 3560000.0, 1500000.0, 2990000.0, 1160000.0, 2150000.0, 2570000.0, 1460000.0], \"coloraxis\": \"coloraxis\", \"size\": [8.4, 4.7, 5.1, 3.2, 3.4000000000000004, 7.3999999999999995, 9.3, 2.3, 5.6000000000000005, 3.6999999999999997, 4.5, 12.2, 8.0, 4.3, 2.9000000000000004, 5.5, 1.0999999999999999, 2.4, 6.1, 5.4, 3.6999999999999997, 7.5, 2.9000000000000004, 5.7, 8.6, 4.3, 5.0, 8.799999999999999, 6.9, 9.6, 2.9000000000000004, 5.7, 9.2, 2.5, 8.799999999999999, 1.9, 3.5000000000000004, 5.1, 2.5, 6.5, 9.4, 1.7000000000000002, 2.8000000000000003, 5.1, 2.7, 11.200000000000001, 5.2, 10.299999999999999, 3.1, 1.0999999999999999, 4.5, 3.1, 4.9, 3.2, 8.5, 3.3000000000000003, 2.7, 4.9, 5.3, 4.7, 7.000000000000001, 4.1000000000000005], \"sizemode\": \"area\", \"sizeref\": 0.0305, \"symbol\": \"circle\"}, \"mode\": \"markers\", \"name\": \"\", \"showlegend\": false, \"type\": \"scatter\", \"x\": [4.40625, 4.333333333333333, 3.9393939393939394, 4.0, 4.32, 4.78125, 4.611111111111111, 3.28, 5.208333333333333, 5.291666666666667, 4.037037037037037, 5.114285714285714, 4.222222222222222, 3.3666666666666667, 4.476190476190476, 4.264705882352941, 3.380952380952381, 4.190476190476191, 4.290322580645161, 4.466666666666667, 5.166666666666667, 4.828571428571428, 5.285714285714286, 5.5625, 4.4, 4.03030303030303, 3.7666666666666666, 6.03125, 5.0, 5.555555555555555, 4.916666666666667, 3.8857142857142857, 4.722222222222222, 5.0, 4.514285714285714, 3.4347826086956523, 3.5806451612903225, 5.782608695652174, 2.925925925925926, 4.766666666666667, 4.742857142857143, 5.375, 3.9615384615384617, 3.8529411764705883, 3.869565217391304, 6.485714285714286, 3.4545454545454546, 5.612903225806452, 4.0, 3.4444444444444446, 3.71875, 4.241379310344827, 5.392857142857143, 4.125, 4.647058823529412, 3.8125, 4.7368421052631575, 4.21875, 3.935483870967742, 4.0, 4.228571428571429, 4.3076923076923075], \"xaxis\": \"x\", \"y\": [86.50306748466258, 84.1726618705036, 39.51367781155015, 63.58974358974359, 104.85436893203884, 53.87323943661972, 53.54838709677419, 76.63551401869158, 87.41258741258741, 30.602409638554214, 79.56204379562043, 55.41795665634675, 56.50557620817844, 101.0, 47.71573604060914, 44.07294832826748, 61.7391304347826, 101.14942528735632, 67.51269035532995, 44.37086092715232, 39.871382636655945, 37.06140350877193, 30.91922005571031, 30.636833046471605, 48.125, 39.00293255131965, 117.70833333333334, 29.876160990712073, 68.4931506849315, 27.548209366391184, 35.54216867469879, 74.72527472527473, 50.147492625368734, 34.124629080118694, 61.71875000000001, 22.128851540616246, 137.03703703703704, 76.4367816091954, 117.91044776119404, 66.51162790697674, 68.87966804979253, 68.80000000000001, 50.24390243902439, 50.191570881226056, 81.65137614678899, 26.705882352941174, 126.66666666666667, 64.44444444444444, 125.0, 71.26436781609196, 143.3734939759036, 37.27272727272727, 27.75735294117647, 132.0, 52.14521452145215, 34.26966292134831, 60.0, 45.15050167224081, 105.17241379310344, 55.81395348837209, 57.5875486381323, 76.71232876712328], \"yaxis\": \"y\"}],\n",
       "                        {\"coloraxis\": {\"colorbar\": {\"title\": {\"text\": \"value\"}}, \"colorscale\": [[0.0, \"#0d0887\"], [0.1111111111111111, \"#46039f\"], [0.2222222222222222, \"#7201a8\"], [0.3333333333333333, \"#9c179e\"], [0.4444444444444444, \"#bd3786\"], [0.5555555555555556, \"#d8576b\"], [0.6666666666666666, \"#ed7953\"], [0.7777777777777778, \"#fb9f3a\"], [0.8888888888888888, \"#fdca26\"], [1.0, \"#f0f921\"]]}, \"height\": 600, \"legend\": {\"itemsizing\": \"constant\", \"tracegroupgap\": 0}, \"margin\": {\"t\": 60}, \"template\": {\"data\": {\"bar\": [{\"error_x\": {\"color\": \"#2a3f5f\"}, \"error_y\": {\"color\": \"#2a3f5f\"}, \"marker\": {\"line\": {\"color\": \"#E5ECF6\", \"width\": 0.5}}, \"type\": \"bar\"}], \"barpolar\": [{\"marker\": {\"line\": {\"color\": \"#E5ECF6\", \"width\": 0.5}}, \"type\": \"barpolar\"}], \"carpet\": [{\"aaxis\": {\"endlinecolor\": \"#2a3f5f\", \"gridcolor\": \"white\", \"linecolor\": \"white\", \"minorgridcolor\": \"white\", \"startlinecolor\": \"#2a3f5f\"}, \"baxis\": {\"endlinecolor\": \"#2a3f5f\", \"gridcolor\": \"white\", \"linecolor\": \"white\", \"minorgridcolor\": \"white\", \"startlinecolor\": \"#2a3f5f\"}, \"type\": \"carpet\"}], \"choropleth\": [{\"colorbar\": {\"outlinewidth\": 0, \"ticks\": \"\"}, \"type\": \"choropleth\"}], \"contour\": [{\"colorbar\": {\"outlinewidth\": 0, \"ticks\": \"\"}, \"colorscale\": [[0.0, \"#0d0887\"], [0.1111111111111111, \"#46039f\"], [0.2222222222222222, \"#7201a8\"], [0.3333333333333333, \"#9c179e\"], [0.4444444444444444, \"#bd3786\"], [0.5555555555555556, \"#d8576b\"], [0.6666666666666666, \"#ed7953\"], [0.7777777777777778, \"#fb9f3a\"], [0.8888888888888888, \"#fdca26\"], [1.0, \"#f0f921\"]], \"type\": \"contour\"}], \"contourcarpet\": [{\"colorbar\": {\"outlinewidth\": 0, \"ticks\": \"\"}, \"type\": \"contourcarpet\"}], \"heatmap\": [{\"colorbar\": {\"outlinewidth\": 0, \"ticks\": \"\"}, \"colorscale\": [[0.0, \"#0d0887\"], [0.1111111111111111, \"#46039f\"], [0.2222222222222222, \"#7201a8\"], [0.3333333333333333, \"#9c179e\"], [0.4444444444444444, \"#bd3786\"], [0.5555555555555556, \"#d8576b\"], [0.6666666666666666, \"#ed7953\"], [0.7777777777777778, \"#fb9f3a\"], [0.8888888888888888, \"#fdca26\"], [1.0, \"#f0f921\"]], \"type\": \"heatmap\"}], \"heatmapgl\": [{\"colorbar\": {\"outlinewidth\": 0, \"ticks\": \"\"}, \"colorscale\": [[0.0, \"#0d0887\"], [0.1111111111111111, \"#46039f\"], [0.2222222222222222, \"#7201a8\"], [0.3333333333333333, \"#9c179e\"], [0.4444444444444444, \"#bd3786\"], [0.5555555555555556, \"#d8576b\"], [0.6666666666666666, \"#ed7953\"], [0.7777777777777778, \"#fb9f3a\"], [0.8888888888888888, \"#fdca26\"], [1.0, \"#f0f921\"]], \"type\": \"heatmapgl\"}], \"histogram\": [{\"marker\": {\"colorbar\": {\"outlinewidth\": 0, \"ticks\": \"\"}}, \"type\": \"histogram\"}], \"histogram2d\": [{\"colorbar\": {\"outlinewidth\": 0, \"ticks\": \"\"}, \"colorscale\": [[0.0, \"#0d0887\"], [0.1111111111111111, \"#46039f\"], [0.2222222222222222, \"#7201a8\"], [0.3333333333333333, \"#9c179e\"], [0.4444444444444444, \"#bd3786\"], [0.5555555555555556, \"#d8576b\"], [0.6666666666666666, \"#ed7953\"], [0.7777777777777778, \"#fb9f3a\"], [0.8888888888888888, \"#fdca26\"], [1.0, \"#f0f921\"]], \"type\": \"histogram2d\"}], \"histogram2dcontour\": [{\"colorbar\": {\"outlinewidth\": 0, \"ticks\": \"\"}, \"colorscale\": [[0.0, \"#0d0887\"], [0.1111111111111111, \"#46039f\"], [0.2222222222222222, \"#7201a8\"], [0.3333333333333333, \"#9c179e\"], [0.4444444444444444, \"#bd3786\"], [0.5555555555555556, \"#d8576b\"], [0.6666666666666666, \"#ed7953\"], [0.7777777777777778, \"#fb9f3a\"], [0.8888888888888888, \"#fdca26\"], [1.0, \"#f0f921\"]], \"type\": \"histogram2dcontour\"}], \"mesh3d\": [{\"colorbar\": {\"outlinewidth\": 0, \"ticks\": \"\"}, \"type\": \"mesh3d\"}], \"parcoords\": [{\"line\": {\"colorbar\": {\"outlinewidth\": 0, \"ticks\": \"\"}}, \"type\": \"parcoords\"}], \"scatter\": [{\"marker\": {\"colorbar\": {\"outlinewidth\": 0, \"ticks\": \"\"}}, \"type\": \"scatter\"}], \"scatter3d\": [{\"line\": {\"colorbar\": {\"outlinewidth\": 0, \"ticks\": \"\"}}, \"marker\": {\"colorbar\": {\"outlinewidth\": 0, \"ticks\": \"\"}}, \"type\": \"scatter3d\"}], \"scattercarpet\": [{\"marker\": {\"colorbar\": {\"outlinewidth\": 0, \"ticks\": \"\"}}, \"type\": \"scattercarpet\"}], \"scattergeo\": [{\"marker\": {\"colorbar\": {\"outlinewidth\": 0, \"ticks\": \"\"}}, \"type\": \"scattergeo\"}], \"scattergl\": [{\"marker\": {\"colorbar\": {\"outlinewidth\": 0, \"ticks\": \"\"}}, \"type\": \"scattergl\"}], \"scattermapbox\": [{\"marker\": {\"colorbar\": {\"outlinewidth\": 0, \"ticks\": \"\"}}, \"type\": \"scattermapbox\"}], \"scatterpolar\": [{\"marker\": {\"colorbar\": {\"outlinewidth\": 0, \"ticks\": \"\"}}, \"type\": \"scatterpolar\"}], \"scatterpolargl\": [{\"marker\": {\"colorbar\": {\"outlinewidth\": 0, \"ticks\": \"\"}}, \"type\": \"scatterpolargl\"}], \"scatterternary\": [{\"marker\": {\"colorbar\": {\"outlinewidth\": 0, \"ticks\": \"\"}}, \"type\": \"scatterternary\"}], \"surface\": [{\"colorbar\": {\"outlinewidth\": 0, \"ticks\": \"\"}, \"colorscale\": [[0.0, \"#0d0887\"], [0.1111111111111111, \"#46039f\"], [0.2222222222222222, \"#7201a8\"], [0.3333333333333333, \"#9c179e\"], [0.4444444444444444, \"#bd3786\"], [0.5555555555555556, \"#d8576b\"], [0.6666666666666666, \"#ed7953\"], [0.7777777777777778, \"#fb9f3a\"], [0.8888888888888888, \"#fdca26\"], [1.0, \"#f0f921\"]], \"type\": \"surface\"}], \"table\": [{\"cells\": {\"fill\": {\"color\": \"#EBF0F8\"}, \"line\": {\"color\": \"white\"}}, \"header\": {\"fill\": {\"color\": \"#C8D4E3\"}, \"line\": {\"color\": \"white\"}}, \"type\": \"table\"}]}, \"layout\": {\"annotationdefaults\": {\"arrowcolor\": \"#2a3f5f\", \"arrowhead\": 0, \"arrowwidth\": 1}, \"colorscale\": {\"diverging\": [[0, \"#8e0152\"], [0.1, \"#c51b7d\"], [0.2, \"#de77ae\"], [0.3, \"#f1b6da\"], [0.4, \"#fde0ef\"], [0.5, \"#f7f7f7\"], [0.6, \"#e6f5d0\"], [0.7, \"#b8e186\"], [0.8, \"#7fbc41\"], [0.9, \"#4d9221\"], [1, \"#276419\"]], \"sequential\": [[0.0, \"#0d0887\"], [0.1111111111111111, \"#46039f\"], [0.2222222222222222, \"#7201a8\"], [0.3333333333333333, \"#9c179e\"], [0.4444444444444444, \"#bd3786\"], [0.5555555555555556, \"#d8576b\"], [0.6666666666666666, \"#ed7953\"], [0.7777777777777778, \"#fb9f3a\"], [0.8888888888888888, \"#fdca26\"], [1.0, \"#f0f921\"]], \"sequentialminus\": [[0.0, \"#0d0887\"], [0.1111111111111111, \"#46039f\"], [0.2222222222222222, \"#7201a8\"], [0.3333333333333333, \"#9c179e\"], [0.4444444444444444, \"#bd3786\"], [0.5555555555555556, \"#d8576b\"], [0.6666666666666666, \"#ed7953\"], [0.7777777777777778, \"#fb9f3a\"], [0.8888888888888888, \"#fdca26\"], [1.0, \"#f0f921\"]]}, \"colorway\": [\"#636efa\", \"#EF553B\", \"#00cc96\", \"#ab63fa\", \"#FFA15A\", \"#19d3f3\", \"#FF6692\", \"#B6E880\", \"#FF97FF\", \"#FECB52\"], \"font\": {\"color\": \"#2a3f5f\"}, \"geo\": {\"bgcolor\": \"white\", \"lakecolor\": \"white\", \"landcolor\": \"#E5ECF6\", \"showlakes\": true, \"showland\": true, \"subunitcolor\": \"white\"}, \"hoverlabel\": {\"align\": \"left\"}, \"hovermode\": \"closest\", \"mapbox\": {\"style\": \"light\"}, \"paper_bgcolor\": \"white\", \"plot_bgcolor\": \"#E5ECF6\", \"polar\": {\"angularaxis\": {\"gridcolor\": \"white\", \"linecolor\": \"white\", \"ticks\": \"\"}, \"bgcolor\": \"#E5ECF6\", \"radialaxis\": {\"gridcolor\": \"white\", \"linecolor\": \"white\", \"ticks\": \"\"}}, \"scene\": {\"xaxis\": {\"backgroundcolor\": \"#E5ECF6\", \"gridcolor\": \"white\", \"gridwidth\": 2, \"linecolor\": \"white\", \"showbackground\": true, \"ticks\": \"\", \"zerolinecolor\": \"white\"}, \"yaxis\": {\"backgroundcolor\": \"#E5ECF6\", \"gridcolor\": \"white\", \"gridwidth\": 2, \"linecolor\": \"white\", \"showbackground\": true, \"ticks\": \"\", \"zerolinecolor\": \"white\"}, \"zaxis\": {\"backgroundcolor\": \"#E5ECF6\", \"gridcolor\": \"white\", \"gridwidth\": 2, \"linecolor\": \"white\", \"showbackground\": true, \"ticks\": \"\", \"zerolinecolor\": \"white\"}}, \"shapedefaults\": {\"line\": {\"color\": \"#2a3f5f\"}}, \"ternary\": {\"aaxis\": {\"gridcolor\": \"white\", \"linecolor\": \"white\", \"ticks\": \"\"}, \"baxis\": {\"gridcolor\": \"white\", \"linecolor\": \"white\", \"ticks\": \"\"}, \"bgcolor\": \"#E5ECF6\", \"caxis\": {\"gridcolor\": \"white\", \"linecolor\": \"white\", \"ticks\": \"\"}}, \"title\": {\"x\": 0.05}, \"xaxis\": {\"automargin\": true, \"gridcolor\": \"white\", \"linecolor\": \"white\", \"ticks\": \"\", \"zerolinecolor\": \"white\", \"zerolinewidth\": 2}, \"yaxis\": {\"automargin\": true, \"gridcolor\": \"white\", \"linecolor\": \"white\", \"ticks\": \"\", \"zerolinecolor\": \"white\", \"zerolinewidth\": 2}}}, \"xaxis\": {\"anchor\": \"y\", \"domain\": [0.0, 0.98], \"title\": {\"text\": \"Points per Game\"}}, \"yaxis\": {\"anchor\": \"x\", \"domain\": [0.0, 1.0], \"title\": {\"text\": \"Points per Million\"}}},\n",
       "                        {\"responsive\": true}\n",
       "                    ).then(function(){\n",
       "                            \n",
       "var gd = document.getElementById('8a599e3b-8fc0-4722-bc6e-331706d7bd10');\n",
       "var x = new MutationObserver(function (mutations, observer) {{\n",
       "        var display = window.getComputedStyle(gd).display;\n",
       "        if (!display || display === 'none') {{\n",
       "            console.log([gd, 'removed!']);\n",
       "            Plotly.purge(gd);\n",
       "            observer.disconnect();\n",
       "        }}\n",
       "}});\n",
       "\n",
       "// Listen for the removal of the full notebook cells\n",
       "var notebookContainer = gd.closest('#notebook-container');\n",
       "if (notebookContainer) {{\n",
       "    x.observe(notebookContainer, {childList: true});\n",
       "}}\n",
       "\n",
       "// Listen for the clearing of the current output cell\n",
       "var outputEl = gd.closest('.output');\n",
       "if (outputEl) {{\n",
       "    x.observe(outputEl, {childList: true});\n",
       "}}\n",
       "\n",
       "                        })\n",
       "                };\n",
       "                });\n",
       "            </script>\n",
       "        </div>"
      ]
     },
     "metadata": {},
     "output_type": "display_data"
    }
   ],
   "source": [
    "bubble_chart(players, \"Defender\")"
   ]
  },
  {
   "cell_type": "markdown",
   "metadata": {},
   "source": [
    "## Midfielders"
   ]
  },
  {
   "cell_type": "code",
   "execution_count": 33,
   "metadata": {},
   "outputs": [
    {
     "data": {
      "text/html": [
       "<style  type=\"text/css\" >\n",
       "    #T_bc7b39b6_b375_11e9_b72b_9801a7978c49 th {\n",
       "          font-size: 11px;\n",
       "          text-align: center;\n",
       "          font-weight: bold;\n",
       "          color: #6d6d6d;\n",
       "          background-color: #f7f7f9;\n",
       "    }    #T_bc7b39b6_b375_11e9_b72b_9801a7978c49 td {\n",
       "          font-size: 11px;\n",
       "    }    #T_bc7b39b6_b375_11e9_b72b_9801a7978c49row0_col0 {\n",
       "            font-weight:  bold;\n",
       "        }    #T_bc7b39b6_b375_11e9_b72b_9801a7978c49row0_col4 {\n",
       "            color:  black;\n",
       "        }    #T_bc7b39b6_b375_11e9_b72b_9801a7978c49row0_col5 {\n",
       "            color:  black;\n",
       "        }    #T_bc7b39b6_b375_11e9_b72b_9801a7978c49row0_col6 {\n",
       "            color:  green;\n",
       "        }    #T_bc7b39b6_b375_11e9_b72b_9801a7978c49row0_col7 {\n",
       "            background-color:  #44ab42;\n",
       "        }    #T_bc7b39b6_b375_11e9_b72b_9801a7978c49row1_col0 {\n",
       "            font-weight:  bold;\n",
       "        }    #T_bc7b39b6_b375_11e9_b72b_9801a7978c49row1_col4 {\n",
       "            color:  black;\n",
       "        }    #T_bc7b39b6_b375_11e9_b72b_9801a7978c49row1_col5 {\n",
       "            color:  black;\n",
       "        }    #T_bc7b39b6_b375_11e9_b72b_9801a7978c49row1_col6 {\n",
       "            color:  black;\n",
       "        }    #T_bc7b39b6_b375_11e9_b72b_9801a7978c49row1_col7 {\n",
       "            background-color:  #5cb65b;\n",
       "        }    #T_bc7b39b6_b375_11e9_b72b_9801a7978c49row2_col0 {\n",
       "            font-weight:  bold;\n",
       "        }    #T_bc7b39b6_b375_11e9_b72b_9801a7978c49row2_col4 {\n",
       "            color:  black;\n",
       "        }    #T_bc7b39b6_b375_11e9_b72b_9801a7978c49row2_col5 {\n",
       "            color:  black;\n",
       "        }    #T_bc7b39b6_b375_11e9_b72b_9801a7978c49row2_col6 {\n",
       "            color:  green;\n",
       "        }    #T_bc7b39b6_b375_11e9_b72b_9801a7978c49row2_col7 {\n",
       "            background-color:  #67bb65;\n",
       "        }    #T_bc7b39b6_b375_11e9_b72b_9801a7978c49row3_col0 {\n",
       "            font-weight:  bold;\n",
       "        }    #T_bc7b39b6_b375_11e9_b72b_9801a7978c49row3_col4 {\n",
       "            color:  black;\n",
       "        }    #T_bc7b39b6_b375_11e9_b72b_9801a7978c49row3_col5 {\n",
       "            color:  black;\n",
       "        }    #T_bc7b39b6_b375_11e9_b72b_9801a7978c49row3_col6 {\n",
       "            color:  black;\n",
       "        }    #T_bc7b39b6_b375_11e9_b72b_9801a7978c49row3_col7 {\n",
       "            background-color:  #6ebe6c;\n",
       "        }    #T_bc7b39b6_b375_11e9_b72b_9801a7978c49row4_col0 {\n",
       "            font-weight:  bold;\n",
       "        }    #T_bc7b39b6_b375_11e9_b72b_9801a7978c49row4_col4 {\n",
       "            color:  black;\n",
       "        }    #T_bc7b39b6_b375_11e9_b72b_9801a7978c49row4_col5 {\n",
       "            color:  black;\n",
       "        }    #T_bc7b39b6_b375_11e9_b72b_9801a7978c49row4_col6 {\n",
       "            color:  green;\n",
       "        }    #T_bc7b39b6_b375_11e9_b72b_9801a7978c49row4_col7 {\n",
       "            background-color:  #78c377;\n",
       "        }    #T_bc7b39b6_b375_11e9_b72b_9801a7978c49row5_col0 {\n",
       "            font-weight:  bold;\n",
       "        }    #T_bc7b39b6_b375_11e9_b72b_9801a7978c49row5_col4 {\n",
       "            color:  black;\n",
       "        }    #T_bc7b39b6_b375_11e9_b72b_9801a7978c49row5_col5 {\n",
       "            color:  black;\n",
       "        }    #T_bc7b39b6_b375_11e9_b72b_9801a7978c49row5_col6 {\n",
       "            color:  black;\n",
       "        }    #T_bc7b39b6_b375_11e9_b72b_9801a7978c49row5_col7 {\n",
       "            background-color:  #9cd39b;\n",
       "        }    #T_bc7b39b6_b375_11e9_b72b_9801a7978c49row6_col0 {\n",
       "            font-weight:  bold;\n",
       "        }    #T_bc7b39b6_b375_11e9_b72b_9801a7978c49row6_col4 {\n",
       "            color:  black;\n",
       "        }    #T_bc7b39b6_b375_11e9_b72b_9801a7978c49row6_col5 {\n",
       "            color:  black;\n",
       "        }    #T_bc7b39b6_b375_11e9_b72b_9801a7978c49row6_col6 {\n",
       "            color:  black;\n",
       "        }    #T_bc7b39b6_b375_11e9_b72b_9801a7978c49row6_col7 {\n",
       "            background-color:  #aad9a9;\n",
       "        }    #T_bc7b39b6_b375_11e9_b72b_9801a7978c49row7_col0 {\n",
       "            font-weight:  bold;\n",
       "        }    #T_bc7b39b6_b375_11e9_b72b_9801a7978c49row7_col4 {\n",
       "            color:  black;\n",
       "        }    #T_bc7b39b6_b375_11e9_b72b_9801a7978c49row7_col5 {\n",
       "            color:  black;\n",
       "        }    #T_bc7b39b6_b375_11e9_b72b_9801a7978c49row7_col6 {\n",
       "            color:  black;\n",
       "        }    #T_bc7b39b6_b375_11e9_b72b_9801a7978c49row7_col7 {\n",
       "            background-color:  #aad9a9;\n",
       "        }    #T_bc7b39b6_b375_11e9_b72b_9801a7978c49row8_col0 {\n",
       "            font-weight:  bold;\n",
       "        }    #T_bc7b39b6_b375_11e9_b72b_9801a7978c49row8_col4 {\n",
       "            color:  red;\n",
       "        }    #T_bc7b39b6_b375_11e9_b72b_9801a7978c49row8_col5 {\n",
       "            color:  black;\n",
       "        }    #T_bc7b39b6_b375_11e9_b72b_9801a7978c49row8_col6 {\n",
       "            color:  black;\n",
       "        }    #T_bc7b39b6_b375_11e9_b72b_9801a7978c49row8_col7 {\n",
       "            background-color:  #acdaab;\n",
       "        }    #T_bc7b39b6_b375_11e9_b72b_9801a7978c49row9_col0 {\n",
       "            font-weight:  bold;\n",
       "        }    #T_bc7b39b6_b375_11e9_b72b_9801a7978c49row9_col4 {\n",
       "            color:  black;\n",
       "        }    #T_bc7b39b6_b375_11e9_b72b_9801a7978c49row9_col5 {\n",
       "            color:  black;\n",
       "        }    #T_bc7b39b6_b375_11e9_b72b_9801a7978c49row9_col6 {\n",
       "            color:  black;\n",
       "        }    #T_bc7b39b6_b375_11e9_b72b_9801a7978c49row9_col7 {\n",
       "            background-color:  #acdaab;\n",
       "        }    #T_bc7b39b6_b375_11e9_b72b_9801a7978c49row10_col0 {\n",
       "            font-weight:  bold;\n",
       "        }    #T_bc7b39b6_b375_11e9_b72b_9801a7978c49row10_col4 {\n",
       "            color:  black;\n",
       "        }    #T_bc7b39b6_b375_11e9_b72b_9801a7978c49row10_col5 {\n",
       "            color:  black;\n",
       "        }    #T_bc7b39b6_b375_11e9_b72b_9801a7978c49row10_col6 {\n",
       "            color:  green;\n",
       "        }    #T_bc7b39b6_b375_11e9_b72b_9801a7978c49row10_col7 {\n",
       "            background-color:  #c2e5c2;\n",
       "        }    #T_bc7b39b6_b375_11e9_b72b_9801a7978c49row11_col0 {\n",
       "            font-weight:  bold;\n",
       "        }    #T_bc7b39b6_b375_11e9_b72b_9801a7978c49row11_col4 {\n",
       "            color:  red;\n",
       "        }    #T_bc7b39b6_b375_11e9_b72b_9801a7978c49row11_col5 {\n",
       "            color:  black;\n",
       "        }    #T_bc7b39b6_b375_11e9_b72b_9801a7978c49row11_col6 {\n",
       "            color:  black;\n",
       "        }    #T_bc7b39b6_b375_11e9_b72b_9801a7978c49row11_col7 {\n",
       "            background-color:  #cae8c9;\n",
       "        }    #T_bc7b39b6_b375_11e9_b72b_9801a7978c49row12_col0 {\n",
       "            font-weight:  bold;\n",
       "        }    #T_bc7b39b6_b375_11e9_b72b_9801a7978c49row12_col4 {\n",
       "            color:  black;\n",
       "        }    #T_bc7b39b6_b375_11e9_b72b_9801a7978c49row12_col5 {\n",
       "            color:  black;\n",
       "        }    #T_bc7b39b6_b375_11e9_b72b_9801a7978c49row12_col6 {\n",
       "            color:  black;\n",
       "        }    #T_bc7b39b6_b375_11e9_b72b_9801a7978c49row12_col7 {\n",
       "            background-color:  #d1ebd1;\n",
       "        }    #T_bc7b39b6_b375_11e9_b72b_9801a7978c49row13_col0 {\n",
       "            font-weight:  bold;\n",
       "        }    #T_bc7b39b6_b375_11e9_b72b_9801a7978c49row13_col4 {\n",
       "            color:  black;\n",
       "        }    #T_bc7b39b6_b375_11e9_b72b_9801a7978c49row13_col5 {\n",
       "            color:  black;\n",
       "        }    #T_bc7b39b6_b375_11e9_b72b_9801a7978c49row13_col6 {\n",
       "            color:  black;\n",
       "        }    #T_bc7b39b6_b375_11e9_b72b_9801a7978c49row13_col7 {\n",
       "            background-color:  #d2ecd2;\n",
       "        }    #T_bc7b39b6_b375_11e9_b72b_9801a7978c49row14_col0 {\n",
       "            font-weight:  bold;\n",
       "        }    #T_bc7b39b6_b375_11e9_b72b_9801a7978c49row14_col4 {\n",
       "            color:  black;\n",
       "        }    #T_bc7b39b6_b375_11e9_b72b_9801a7978c49row14_col5 {\n",
       "            color:  black;\n",
       "        }    #T_bc7b39b6_b375_11e9_b72b_9801a7978c49row14_col6 {\n",
       "            color:  black;\n",
       "        }    #T_bc7b39b6_b375_11e9_b72b_9801a7978c49row14_col7 {\n",
       "            background-color:  #d8eed7;\n",
       "        }    #T_bc7b39b6_b375_11e9_b72b_9801a7978c49row15_col0 {\n",
       "            font-weight:  bold;\n",
       "        }    #T_bc7b39b6_b375_11e9_b72b_9801a7978c49row15_col4 {\n",
       "            color:  black;\n",
       "        }    #T_bc7b39b6_b375_11e9_b72b_9801a7978c49row15_col5 {\n",
       "            color:  black;\n",
       "        }    #T_bc7b39b6_b375_11e9_b72b_9801a7978c49row15_col6 {\n",
       "            color:  black;\n",
       "        }    #T_bc7b39b6_b375_11e9_b72b_9801a7978c49row15_col7 {\n",
       "            background-color:  #e1f2e1;\n",
       "        }    #T_bc7b39b6_b375_11e9_b72b_9801a7978c49row16_col0 {\n",
       "            font-weight:  bold;\n",
       "        }    #T_bc7b39b6_b375_11e9_b72b_9801a7978c49row16_col4 {\n",
       "            color:  black;\n",
       "        }    #T_bc7b39b6_b375_11e9_b72b_9801a7978c49row16_col5 {\n",
       "            color:  black;\n",
       "        }    #T_bc7b39b6_b375_11e9_b72b_9801a7978c49row16_col6 {\n",
       "            color:  black;\n",
       "        }    #T_bc7b39b6_b375_11e9_b72b_9801a7978c49row16_col7 {\n",
       "            background-color:  #e1f2e1;\n",
       "        }    #T_bc7b39b6_b375_11e9_b72b_9801a7978c49row17_col0 {\n",
       "            font-weight:  bold;\n",
       "        }    #T_bc7b39b6_b375_11e9_b72b_9801a7978c49row17_col4 {\n",
       "            color:  black;\n",
       "        }    #T_bc7b39b6_b375_11e9_b72b_9801a7978c49row17_col5 {\n",
       "            color:  black;\n",
       "        }    #T_bc7b39b6_b375_11e9_b72b_9801a7978c49row17_col6 {\n",
       "            color:  black;\n",
       "        }    #T_bc7b39b6_b375_11e9_b72b_9801a7978c49row17_col7 {\n",
       "            background-color:  #e2f3e2;\n",
       "        }    #T_bc7b39b6_b375_11e9_b72b_9801a7978c49row18_col0 {\n",
       "            font-weight:  bold;\n",
       "        }    #T_bc7b39b6_b375_11e9_b72b_9801a7978c49row18_col4 {\n",
       "            color:  black;\n",
       "        }    #T_bc7b39b6_b375_11e9_b72b_9801a7978c49row18_col5 {\n",
       "            color:  black;\n",
       "        }    #T_bc7b39b6_b375_11e9_b72b_9801a7978c49row18_col6 {\n",
       "            color:  black;\n",
       "        }    #T_bc7b39b6_b375_11e9_b72b_9801a7978c49row18_col7 {\n",
       "            background-color:  #ebf7eb;\n",
       "        }    #T_bc7b39b6_b375_11e9_b72b_9801a7978c49row19_col0 {\n",
       "            font-weight:  bold;\n",
       "        }    #T_bc7b39b6_b375_11e9_b72b_9801a7978c49row19_col4 {\n",
       "            color:  black;\n",
       "        }    #T_bc7b39b6_b375_11e9_b72b_9801a7978c49row19_col5 {\n",
       "            color:  black;\n",
       "        }    #T_bc7b39b6_b375_11e9_b72b_9801a7978c49row19_col6 {\n",
       "            color:  black;\n",
       "        }    #T_bc7b39b6_b375_11e9_b72b_9801a7978c49row19_col7 {\n",
       "            background-color:  #edf8ed;\n",
       "        }</style>  \n",
       "<table id=\"T_bc7b39b6_b375_11e9_b72b_9801a7978c49\" ><caption>Top Midfielders:</caption> \n",
       "<thead>    <tr> \n",
       "        <th class=\"blank level0\" ></th> \n",
       "        <th class=\"col_heading level0 col0\" >name</th> \n",
       "        <th class=\"col_heading level0 col1\" >games</th> \n",
       "        <th class=\"col_heading level0 col2\" >points</th> \n",
       "        <th class=\"col_heading level0 col3\" >value</th> \n",
       "        <th class=\"col_heading level0 col4\" >cards</th> \n",
       "        <th class=\"col_heading level0 col5\" >points_per_million</th> \n",
       "        <th class=\"col_heading level0 col6\" >points_per_game</th> \n",
       "        <th class=\"col_heading level0 col7\" >pct_lineup</th> \n",
       "    </tr></thead> \n",
       "<tbody>    <tr> \n",
       "        <th id=\"T_bc7b39b6_b375_11e9_b72b_9801a7978c49level0_row0\" class=\"row_heading level0 row0\" >36</th> \n",
       "        <td id=\"T_bc7b39b6_b375_11e9_b72b_9801a7978c49row0_col0\" class=\"data row0 col0\" >Canales</td> \n",
       "        <td id=\"T_bc7b39b6_b375_11e9_b72b_9801a7978c49row0_col1\" class=\"data row0 col1\" >32</td> \n",
       "        <td id=\"T_bc7b39b6_b375_11e9_b72b_9801a7978c49row0_col2\" class=\"data row0 col2\" >214</td> \n",
       "        <td id=\"T_bc7b39b6_b375_11e9_b72b_9801a7978c49row0_col3\" class=\"data row0 col3\" >7.21M</td> \n",
       "        <td id=\"T_bc7b39b6_b375_11e9_b72b_9801a7978c49row0_col4\" class=\"data row0 col4\" >7</td> \n",
       "        <td id=\"T_bc7b39b6_b375_11e9_b72b_9801a7978c49row0_col5\" class=\"data row0 col5\" >29.68</td> \n",
       "        <td id=\"T_bc7b39b6_b375_11e9_b72b_9801a7978c49row0_col6\" class=\"data row0 col6\" >6.69</td> \n",
       "        <td id=\"T_bc7b39b6_b375_11e9_b72b_9801a7978c49row0_col7\" class=\"data row0 col7\" >18.4</td> \n",
       "    </tr>    <tr> \n",
       "        <th id=\"T_bc7b39b6_b375_11e9_b72b_9801a7978c49level0_row1\" class=\"row_heading level0 row1\" >120</th> \n",
       "        <td id=\"T_bc7b39b6_b375_11e9_b72b_9801a7978c49row1_col0\" class=\"data row1 col0\" >Jordan</td> \n",
       "        <td id=\"T_bc7b39b6_b375_11e9_b72b_9801a7978c49row1_col1\" class=\"data row1 col1\" >36</td> \n",
       "        <td id=\"T_bc7b39b6_b375_11e9_b72b_9801a7978c49row1_col2\" class=\"data row1 col2\" >201</td> \n",
       "        <td id=\"T_bc7b39b6_b375_11e9_b72b_9801a7978c49row1_col3\" class=\"data row1 col3\" >4.85M</td> \n",
       "        <td id=\"T_bc7b39b6_b375_11e9_b72b_9801a7978c49row1_col4\" class=\"data row1 col4\" >10</td> \n",
       "        <td id=\"T_bc7b39b6_b375_11e9_b72b_9801a7978c49row1_col5\" class=\"data row1 col5\" >41.44</td> \n",
       "        <td id=\"T_bc7b39b6_b375_11e9_b72b_9801a7978c49row1_col6\" class=\"data row1 col6\" >5.58</td> \n",
       "        <td id=\"T_bc7b39b6_b375_11e9_b72b_9801a7978c49row1_col7\" class=\"data row1 col7\" >17</td> \n",
       "    </tr>    <tr> \n",
       "        <th id=\"T_bc7b39b6_b375_11e9_b72b_9801a7978c49level0_row2\" class=\"row_heading level0 row2\" >42</th> \n",
       "        <td id=\"T_bc7b39b6_b375_11e9_b72b_9801a7978c49row2_col0\" class=\"data row2 col0\" >Cazorla</td> \n",
       "        <td id=\"T_bc7b39b6_b375_11e9_b72b_9801a7978c49row2_col1\" class=\"data row2 col1\" >35</td> \n",
       "        <td id=\"T_bc7b39b6_b375_11e9_b72b_9801a7978c49row2_col2\" class=\"data row2 col2\" >215</td> \n",
       "        <td id=\"T_bc7b39b6_b375_11e9_b72b_9801a7978c49row2_col3\" class=\"data row2 col3\" >6.94M</td> \n",
       "        <td id=\"T_bc7b39b6_b375_11e9_b72b_9801a7978c49row2_col4\" class=\"data row2 col4\" >2</td> \n",
       "        <td id=\"T_bc7b39b6_b375_11e9_b72b_9801a7978c49row2_col5\" class=\"data row2 col5\" >30.98</td> \n",
       "        <td id=\"T_bc7b39b6_b375_11e9_b72b_9801a7978c49row2_col6\" class=\"data row2 col6\" >6.14</td> \n",
       "        <td id=\"T_bc7b39b6_b375_11e9_b72b_9801a7978c49row2_col7\" class=\"data row2 col7\" >16.4</td> \n",
       "    </tr>    <tr> \n",
       "        <th id=\"T_bc7b39b6_b375_11e9_b72b_9801a7978c49level0_row3\" class=\"row_heading level0 row3\" >35</th> \n",
       "        <td id=\"T_bc7b39b6_b375_11e9_b72b_9801a7978c49row3_col0\" class=\"data row3 col0\" >Campaña</td> \n",
       "        <td id=\"T_bc7b39b6_b375_11e9_b72b_9801a7978c49row3_col1\" class=\"data row3 col1\" >36</td> \n",
       "        <td id=\"T_bc7b39b6_b375_11e9_b72b_9801a7978c49row3_col2\" class=\"data row3 col2\" >194</td> \n",
       "        <td id=\"T_bc7b39b6_b375_11e9_b72b_9801a7978c49row3_col3\" class=\"data row3 col3\" >4.24M</td> \n",
       "        <td id=\"T_bc7b39b6_b375_11e9_b72b_9801a7978c49row3_col4\" class=\"data row3 col4\" >12</td> \n",
       "        <td id=\"T_bc7b39b6_b375_11e9_b72b_9801a7978c49row3_col5\" class=\"data row3 col5\" >45.75</td> \n",
       "        <td id=\"T_bc7b39b6_b375_11e9_b72b_9801a7978c49row3_col6\" class=\"data row3 col6\" >5.39</td> \n",
       "        <td id=\"T_bc7b39b6_b375_11e9_b72b_9801a7978c49row3_col7\" class=\"data row3 col7\" >16</td> \n",
       "    </tr>    <tr> \n",
       "        <th id=\"T_bc7b39b6_b375_11e9_b72b_9801a7978c49level0_row4\" class=\"row_heading level0 row4\" >176</th> \n",
       "        <td id=\"T_bc7b39b6_b375_11e9_b72b_9801a7978c49row4_col0\" class=\"data row4 col0\" >Parejo</td> \n",
       "        <td id=\"T_bc7b39b6_b375_11e9_b72b_9801a7978c49row4_col1\" class=\"data row4 col1\" >36</td> \n",
       "        <td id=\"T_bc7b39b6_b375_11e9_b72b_9801a7978c49row4_col2\" class=\"data row4 col2\" >255</td> \n",
       "        <td id=\"T_bc7b39b6_b375_11e9_b72b_9801a7978c49row4_col3\" class=\"data row4 col3\" >11.2M</td> \n",
       "        <td id=\"T_bc7b39b6_b375_11e9_b72b_9801a7978c49row4_col4\" class=\"data row4 col4\" >6</td> \n",
       "        <td id=\"T_bc7b39b6_b375_11e9_b72b_9801a7978c49row4_col5\" class=\"data row4 col5\" >22.81</td> \n",
       "        <td id=\"T_bc7b39b6_b375_11e9_b72b_9801a7978c49row4_col6\" class=\"data row4 col6\" >7.08</td> \n",
       "        <td id=\"T_bc7b39b6_b375_11e9_b72b_9801a7978c49row4_col7\" class=\"data row4 col7\" >15.4</td> \n",
       "    </tr>    <tr> \n",
       "        <th id=\"T_bc7b39b6_b375_11e9_b72b_9801a7978c49level0_row5\" class=\"row_heading level0 row5\" >186</th> \n",
       "        <td id=\"T_bc7b39b6_b375_11e9_b72b_9801a7978c49row5_col0\" class=\"data row5 col0\" >Rakitic</td> \n",
       "        <td id=\"T_bc7b39b6_b375_11e9_b72b_9801a7978c49row5_col1\" class=\"data row5 col1\" >34</td> \n",
       "        <td id=\"T_bc7b39b6_b375_11e9_b72b_9801a7978c49row5_col2\" class=\"data row5 col2\" >195</td> \n",
       "        <td id=\"T_bc7b39b6_b375_11e9_b72b_9801a7978c49row5_col3\" class=\"data row5 col3\" >5.58M</td> \n",
       "        <td id=\"T_bc7b39b6_b375_11e9_b72b_9801a7978c49row5_col4\" class=\"data row5 col4\" >7</td> \n",
       "        <td id=\"T_bc7b39b6_b375_11e9_b72b_9801a7978c49row5_col5\" class=\"data row5 col5\" >34.95</td> \n",
       "        <td id=\"T_bc7b39b6_b375_11e9_b72b_9801a7978c49row5_col6\" class=\"data row5 col6\" >5.74</td> \n",
       "        <td id=\"T_bc7b39b6_b375_11e9_b72b_9801a7978c49row5_col7\" class=\"data row5 col7\" >13.4</td> \n",
       "    </tr>    <tr> \n",
       "        <th id=\"T_bc7b39b6_b375_11e9_b72b_9801a7978c49level0_row6\" class=\"row_heading level0 row6\" >230</th> \n",
       "        <td id=\"T_bc7b39b6_b375_11e9_b72b_9801a7978c49row6_col0\" class=\"data row6 col0\" >Vidal</td> \n",
       "        <td id=\"T_bc7b39b6_b375_11e9_b72b_9801a7978c49row6_col1\" class=\"data row6 col1\" >33</td> \n",
       "        <td id=\"T_bc7b39b6_b375_11e9_b72b_9801a7978c49row6_col2\" class=\"data row6 col2\" >174</td> \n",
       "        <td id=\"T_bc7b39b6_b375_11e9_b72b_9801a7978c49row6_col3\" class=\"data row6 col3\" >2.53M</td> \n",
       "        <td id=\"T_bc7b39b6_b375_11e9_b72b_9801a7978c49row6_col4\" class=\"data row6 col4\" >7</td> \n",
       "        <td id=\"T_bc7b39b6_b375_11e9_b72b_9801a7978c49row6_col5\" class=\"data row6 col5\" >68.77</td> \n",
       "        <td id=\"T_bc7b39b6_b375_11e9_b72b_9801a7978c49row6_col6\" class=\"data row6 col6\" >5.27</td> \n",
       "        <td id=\"T_bc7b39b6_b375_11e9_b72b_9801a7978c49row6_col7\" class=\"data row6 col7\" >12.6</td> \n",
       "    </tr>    <tr> \n",
       "        <th id=\"T_bc7b39b6_b375_11e9_b72b_9801a7978c49level0_row7\" class=\"row_heading level0 row7\" >118</th> \n",
       "        <td id=\"T_bc7b39b6_b375_11e9_b72b_9801a7978c49row7_col0\" class=\"data row7 col0\" >Joaquín</td> \n",
       "        <td id=\"T_bc7b39b6_b375_11e9_b72b_9801a7978c49row7_col1\" class=\"data row7 col1\" >30</td> \n",
       "        <td id=\"T_bc7b39b6_b375_11e9_b72b_9801a7978c49row7_col2\" class=\"data row7 col2\" >175</td> \n",
       "        <td id=\"T_bc7b39b6_b375_11e9_b72b_9801a7978c49row7_col3\" class=\"data row7 col3\" >2.79M</td> \n",
       "        <td id=\"T_bc7b39b6_b375_11e9_b72b_9801a7978c49row7_col4\" class=\"data row7 col4\" >5</td> \n",
       "        <td id=\"T_bc7b39b6_b375_11e9_b72b_9801a7978c49row7_col5\" class=\"data row7 col5\" >62.72</td> \n",
       "        <td id=\"T_bc7b39b6_b375_11e9_b72b_9801a7978c49row7_col6\" class=\"data row7 col6\" >5.83</td> \n",
       "        <td id=\"T_bc7b39b6_b375_11e9_b72b_9801a7978c49row7_col7\" class=\"data row7 col7\" >12.6</td> \n",
       "    </tr>    <tr> \n",
       "        <th id=\"T_bc7b39b6_b375_11e9_b72b_9801a7978c49level0_row8\" class=\"row_heading level0 row8\" >2</th> \n",
       "        <td id=\"T_bc7b39b6_b375_11e9_b72b_9801a7978c49row8_col0\" class=\"data row8 col0\" >Alcaraz</td> \n",
       "        <td id=\"T_bc7b39b6_b375_11e9_b72b_9801a7978c49row8_col1\" class=\"data row8 col1\" >34</td> \n",
       "        <td id=\"T_bc7b39b6_b375_11e9_b72b_9801a7978c49row8_col2\" class=\"data row8 col2\" >176</td> \n",
       "        <td id=\"T_bc7b39b6_b375_11e9_b72b_9801a7978c49row8_col3\" class=\"data row8 col3\" >3.32M</td> \n",
       "        <td id=\"T_bc7b39b6_b375_11e9_b72b_9801a7978c49row8_col4\" class=\"data row8 col4\" >13</td> \n",
       "        <td id=\"T_bc7b39b6_b375_11e9_b72b_9801a7978c49row8_col5\" class=\"data row8 col5\" >53.01</td> \n",
       "        <td id=\"T_bc7b39b6_b375_11e9_b72b_9801a7978c49row8_col6\" class=\"data row8 col6\" >5.18</td> \n",
       "        <td id=\"T_bc7b39b6_b375_11e9_b72b_9801a7978c49row8_col7\" class=\"data row8 col7\" >12.5</td> \n",
       "    </tr>    <tr> \n",
       "        <th id=\"T_bc7b39b6_b375_11e9_b72b_9801a7978c49level0_row9\" class=\"row_heading level0 row9\" >146</th> \n",
       "        <td id=\"T_bc7b39b6_b375_11e9_b72b_9801a7978c49row9_col0\" class=\"data row9 col0\" >Marc Roca</td> \n",
       "        <td id=\"T_bc7b39b6_b375_11e9_b72b_9801a7978c49row9_col1\" class=\"data row9 col1\" >35</td> \n",
       "        <td id=\"T_bc7b39b6_b375_11e9_b72b_9801a7978c49row9_col2\" class=\"data row9 col2\" >173</td> \n",
       "        <td id=\"T_bc7b39b6_b375_11e9_b72b_9801a7978c49row9_col3\" class=\"data row9 col3\" >3.76M</td> \n",
       "        <td id=\"T_bc7b39b6_b375_11e9_b72b_9801a7978c49row9_col4\" class=\"data row9 col4\" >9</td> \n",
       "        <td id=\"T_bc7b39b6_b375_11e9_b72b_9801a7978c49row9_col5\" class=\"data row9 col5\" >46.01</td> \n",
       "        <td id=\"T_bc7b39b6_b375_11e9_b72b_9801a7978c49row9_col6\" class=\"data row9 col6\" >4.94</td> \n",
       "        <td id=\"T_bc7b39b6_b375_11e9_b72b_9801a7978c49row9_col7\" class=\"data row9 col7\" >12.5</td> \n",
       "    </tr>    <tr> \n",
       "        <th id=\"T_bc7b39b6_b375_11e9_b72b_9801a7978c49level0_row10\" class=\"row_heading level0 row10\" >163</th> \n",
       "        <td id=\"T_bc7b39b6_b375_11e9_b72b_9801a7978c49row10_col0\" class=\"data row10 col0\" >Morales</td> \n",
       "        <td id=\"T_bc7b39b6_b375_11e9_b72b_9801a7978c49row10_col1\" class=\"data row10 col1\" >37</td> \n",
       "        <td id=\"T_bc7b39b6_b375_11e9_b72b_9801a7978c49row10_col2\" class=\"data row10 col2\" >221</td> \n",
       "        <td id=\"T_bc7b39b6_b375_11e9_b72b_9801a7978c49row10_col3\" class=\"data row10 col3\" >9.72M</td> \n",
       "        <td id=\"T_bc7b39b6_b375_11e9_b72b_9801a7978c49row10_col4\" class=\"data row10 col4\" >7</td> \n",
       "        <td id=\"T_bc7b39b6_b375_11e9_b72b_9801a7978c49row10_col5\" class=\"data row10 col5\" >22.74</td> \n",
       "        <td id=\"T_bc7b39b6_b375_11e9_b72b_9801a7978c49row10_col6\" class=\"data row10 col6\" >5.97</td> \n",
       "        <td id=\"T_bc7b39b6_b375_11e9_b72b_9801a7978c49row10_col7\" class=\"data row10 col7\" >11.2</td> \n",
       "    </tr>    <tr> \n",
       "        <th id=\"T_bc7b39b6_b375_11e9_b72b_9801a7978c49level0_row11\" class=\"row_heading level0 row11\" >188</th> \n",
       "        <td id=\"T_bc7b39b6_b375_11e9_b72b_9801a7978c49row11_col0\" class=\"data row11 col0\" >Raúl García</td> \n",
       "        <td id=\"T_bc7b39b6_b375_11e9_b72b_9801a7978c49row11_col1\" class=\"data row11 col1\" >33</td> \n",
       "        <td id=\"T_bc7b39b6_b375_11e9_b72b_9801a7978c49row11_col2\" class=\"data row11 col2\" >178</td> \n",
       "        <td id=\"T_bc7b39b6_b375_11e9_b72b_9801a7978c49row11_col3\" class=\"data row11 col3\" >4.9M</td> \n",
       "        <td id=\"T_bc7b39b6_b375_11e9_b72b_9801a7978c49row11_col4\" class=\"data row11 col4\" >13</td> \n",
       "        <td id=\"T_bc7b39b6_b375_11e9_b72b_9801a7978c49row11_col5\" class=\"data row11 col5\" >36.33</td> \n",
       "        <td id=\"T_bc7b39b6_b375_11e9_b72b_9801a7978c49row11_col6\" class=\"data row11 col6\" >5.39</td> \n",
       "        <td id=\"T_bc7b39b6_b375_11e9_b72b_9801a7978c49row11_col7\" class=\"data row11 col7\" >10.8</td> \n",
       "    </tr>    <tr> \n",
       "        <th id=\"T_bc7b39b6_b375_11e9_b72b_9801a7978c49level0_row12\" class=\"row_heading level0 row12\" >136</th> \n",
       "        <td id=\"T_bc7b39b6_b375_11e9_b72b_9801a7978c49row12_col0\" class=\"data row12 col0\" >Lo Celso</td> \n",
       "        <td id=\"T_bc7b39b6_b375_11e9_b72b_9801a7978c49row12_col1\" class=\"data row12 col1\" >32</td> \n",
       "        <td id=\"T_bc7b39b6_b375_11e9_b72b_9801a7978c49row12_col2\" class=\"data row12 col2\" >184</td> \n",
       "        <td id=\"T_bc7b39b6_b375_11e9_b72b_9801a7978c49row12_col3\" class=\"data row12 col3\" >5.27M</td> \n",
       "        <td id=\"T_bc7b39b6_b375_11e9_b72b_9801a7978c49row12_col4\" class=\"data row12 col4\" >5</td> \n",
       "        <td id=\"T_bc7b39b6_b375_11e9_b72b_9801a7978c49row12_col5\" class=\"data row12 col5\" >34.91</td> \n",
       "        <td id=\"T_bc7b39b6_b375_11e9_b72b_9801a7978c49row12_col6\" class=\"data row12 col6\" >5.75</td> \n",
       "        <td id=\"T_bc7b39b6_b375_11e9_b72b_9801a7978c49row12_col7\" class=\"data row12 col7\" >10.4</td> \n",
       "    </tr>    <tr> \n",
       "        <th id=\"T_bc7b39b6_b375_11e9_b72b_9801a7978c49level0_row13\" class=\"row_heading level0 row13\" >60</th> \n",
       "        <td id=\"T_bc7b39b6_b375_11e9_b72b_9801a7978c49row13_col0\" class=\"data row13 col0\" >Darder</td> \n",
       "        <td id=\"T_bc7b39b6_b375_11e9_b72b_9801a7978c49row13_col1\" class=\"data row13 col1\" >34</td> \n",
       "        <td id=\"T_bc7b39b6_b375_11e9_b72b_9801a7978c49row13_col2\" class=\"data row13 col2\" >171</td> \n",
       "        <td id=\"T_bc7b39b6_b375_11e9_b72b_9801a7978c49row13_col3\" class=\"data row13 col3\" >3.98M</td> \n",
       "        <td id=\"T_bc7b39b6_b375_11e9_b72b_9801a7978c49row13_col4\" class=\"data row13 col4\" >8</td> \n",
       "        <td id=\"T_bc7b39b6_b375_11e9_b72b_9801a7978c49row13_col5\" class=\"data row13 col5\" >42.96</td> \n",
       "        <td id=\"T_bc7b39b6_b375_11e9_b72b_9801a7978c49row13_col6\" class=\"data row13 col6\" >5.03</td> \n",
       "        <td id=\"T_bc7b39b6_b375_11e9_b72b_9801a7978c49row13_col7\" class=\"data row13 col7\" >10.3</td> \n",
       "    </tr>    <tr> \n",
       "        <th id=\"T_bc7b39b6_b375_11e9_b72b_9801a7978c49level0_row14\" class=\"row_heading level0 row14\" >130</th> \n",
       "        <td id=\"T_bc7b39b6_b375_11e9_b72b_9801a7978c49row14_col0\" class=\"data row14 col0\" >Koke</td> \n",
       "        <td id=\"T_bc7b39b6_b375_11e9_b72b_9801a7978c49row14_col1\" class=\"data row14 col1\" >30</td> \n",
       "        <td id=\"T_bc7b39b6_b375_11e9_b72b_9801a7978c49row14_col2\" class=\"data row14 col2\" >166</td> \n",
       "        <td id=\"T_bc7b39b6_b375_11e9_b72b_9801a7978c49row14_col3\" class=\"data row14 col3\" >4.98M</td> \n",
       "        <td id=\"T_bc7b39b6_b375_11e9_b72b_9801a7978c49row14_col4\" class=\"data row14 col4\" >10</td> \n",
       "        <td id=\"T_bc7b39b6_b375_11e9_b72b_9801a7978c49row14_col5\" class=\"data row14 col5\" >33.33</td> \n",
       "        <td id=\"T_bc7b39b6_b375_11e9_b72b_9801a7978c49row14_col6\" class=\"data row14 col6\" >5.53</td> \n",
       "        <td id=\"T_bc7b39b6_b375_11e9_b72b_9801a7978c49row14_col7\" class=\"data row14 col7\" >10</td> \n",
       "    </tr>    <tr> \n",
       "        <th id=\"T_bc7b39b6_b375_11e9_b72b_9801a7978c49level0_row15\" class=\"row_heading level0 row15\" >53</th> \n",
       "        <td id=\"T_bc7b39b6_b375_11e9_b72b_9801a7978c49row15_col0\" class=\"data row15 col0\" >Coutinho</td> \n",
       "        <td id=\"T_bc7b39b6_b375_11e9_b72b_9801a7978c49row15_col1\" class=\"data row15 col1\" >34</td> \n",
       "        <td id=\"T_bc7b39b6_b375_11e9_b72b_9801a7978c49row15_col2\" class=\"data row15 col2\" >164</td> \n",
       "        <td id=\"T_bc7b39b6_b375_11e9_b72b_9801a7978c49row15_col3\" class=\"data row15 col3\" >3.05M</td> \n",
       "        <td id=\"T_bc7b39b6_b375_11e9_b72b_9801a7978c49row15_col4\" class=\"data row15 col4\" >2</td> \n",
       "        <td id=\"T_bc7b39b6_b375_11e9_b72b_9801a7978c49row15_col5\" class=\"data row15 col5\" >53.77</td> \n",
       "        <td id=\"T_bc7b39b6_b375_11e9_b72b_9801a7978c49row15_col6\" class=\"data row15 col6\" >4.82</td> \n",
       "        <td id=\"T_bc7b39b6_b375_11e9_b72b_9801a7978c49row15_col7\" class=\"data row15 col7\" >9.5</td> \n",
       "    </tr>    <tr> \n",
       "        <th id=\"T_bc7b39b6_b375_11e9_b72b_9801a7978c49level0_row16\" class=\"row_heading level0 row16\" >250</th> \n",
       "        <td id=\"T_bc7b39b6_b375_11e9_b72b_9801a7978c49row16_col0\" class=\"data row16 col0\" >Óscar Rodríguez</td> \n",
       "        <td id=\"T_bc7b39b6_b375_11e9_b72b_9801a7978c49row16_col1\" class=\"data row16 col1\" >31</td> \n",
       "        <td id=\"T_bc7b39b6_b375_11e9_b72b_9801a7978c49row16_col2\" class=\"data row16 col2\" >148</td> \n",
       "        <td id=\"T_bc7b39b6_b375_11e9_b72b_9801a7978c49row16_col3\" class=\"data row16 col3\" >2.58M</td> \n",
       "        <td id=\"T_bc7b39b6_b375_11e9_b72b_9801a7978c49row16_col4\" class=\"data row16 col4\" >5</td> \n",
       "        <td id=\"T_bc7b39b6_b375_11e9_b72b_9801a7978c49row16_col5\" class=\"data row16 col5\" >57.36</td> \n",
       "        <td id=\"T_bc7b39b6_b375_11e9_b72b_9801a7978c49row16_col6\" class=\"data row16 col6\" >4.77</td> \n",
       "        <td id=\"T_bc7b39b6_b375_11e9_b72b_9801a7978c49row16_col7\" class=\"data row16 col7\" >9.5</td> \n",
       "    </tr>    <tr> \n",
       "        <th id=\"T_bc7b39b6_b375_11e9_b72b_9801a7978c49level0_row17\" class=\"row_heading level0 row17\" >221</th> \n",
       "        <td id=\"T_bc7b39b6_b375_11e9_b72b_9801a7978c49row17_col0\" class=\"data row17 col0\" >Thomas</td> \n",
       "        <td id=\"T_bc7b39b6_b375_11e9_b72b_9801a7978c49row17_col1\" class=\"data row17 col1\" >32</td> \n",
       "        <td id=\"T_bc7b39b6_b375_11e9_b72b_9801a7978c49row17_col2\" class=\"data row17 col2\" >152</td> \n",
       "        <td id=\"T_bc7b39b6_b375_11e9_b72b_9801a7978c49row17_col3\" class=\"data row17 col3\" >2.58M</td> \n",
       "        <td id=\"T_bc7b39b6_b375_11e9_b72b_9801a7978c49row17_col4\" class=\"data row17 col4\" >9</td> \n",
       "        <td id=\"T_bc7b39b6_b375_11e9_b72b_9801a7978c49row17_col5\" class=\"data row17 col5\" >58.91</td> \n",
       "        <td id=\"T_bc7b39b6_b375_11e9_b72b_9801a7978c49row17_col6\" class=\"data row17 col6\" >4.75</td> \n",
       "        <td id=\"T_bc7b39b6_b375_11e9_b72b_9801a7978c49row17_col7\" class=\"data row17 col7\" >9.4</td> \n",
       "    </tr>    <tr> \n",
       "        <th id=\"T_bc7b39b6_b375_11e9_b72b_9801a7978c49level0_row18\" class=\"row_heading level0 row18\" >219</th> \n",
       "        <td id=\"T_bc7b39b6_b375_11e9_b72b_9801a7978c49row18_col0\" class=\"data row18 col0\" >Tello</td> \n",
       "        <td id=\"T_bc7b39b6_b375_11e9_b72b_9801a7978c49row18_col1\" class=\"data row18 col1\" >29</td> \n",
       "        <td id=\"T_bc7b39b6_b375_11e9_b72b_9801a7978c49row18_col2\" class=\"data row18 col2\" >156</td> \n",
       "        <td id=\"T_bc7b39b6_b375_11e9_b72b_9801a7978c49row18_col3\" class=\"data row18 col3\" >2.9M</td> \n",
       "        <td id=\"T_bc7b39b6_b375_11e9_b72b_9801a7978c49row18_col4\" class=\"data row18 col4\" >4</td> \n",
       "        <td id=\"T_bc7b39b6_b375_11e9_b72b_9801a7978c49row18_col5\" class=\"data row18 col5\" >53.79</td> \n",
       "        <td id=\"T_bc7b39b6_b375_11e9_b72b_9801a7978c49row18_col6\" class=\"data row18 col6\" >5.38</td> \n",
       "        <td id=\"T_bc7b39b6_b375_11e9_b72b_9801a7978c49row18_col7\" class=\"data row18 col7\" >8.9</td> \n",
       "    </tr>    <tr> \n",
       "        <th id=\"T_bc7b39b6_b375_11e9_b72b_9801a7978c49level0_row19\" class=\"row_heading level0 row19\" >158</th> \n",
       "        <td id=\"T_bc7b39b6_b375_11e9_b72b_9801a7978c49row19_col0\" class=\"data row19 col0\" >Michel Herrero</td> \n",
       "        <td id=\"T_bc7b39b6_b375_11e9_b72b_9801a7978c49row19_col1\" class=\"data row19 col1\" >35</td> \n",
       "        <td id=\"T_bc7b39b6_b375_11e9_b72b_9801a7978c49row19_col2\" class=\"data row19 col2\" >151</td> \n",
       "        <td id=\"T_bc7b39b6_b375_11e9_b72b_9801a7978c49row19_col3\" class=\"data row19 col3\" >1.93M</td> \n",
       "        <td id=\"T_bc7b39b6_b375_11e9_b72b_9801a7978c49row19_col4\" class=\"data row19 col4\" >9</td> \n",
       "        <td id=\"T_bc7b39b6_b375_11e9_b72b_9801a7978c49row19_col5\" class=\"data row19 col5\" >78.24</td> \n",
       "        <td id=\"T_bc7b39b6_b375_11e9_b72b_9801a7978c49row19_col6\" class=\"data row19 col6\" >4.31</td> \n",
       "        <td id=\"T_bc7b39b6_b375_11e9_b72b_9801a7978c49row19_col7\" class=\"data row19 col7\" >8.8</td> \n",
       "    </tr></tbody> \n",
       "</table> "
      ],
      "text/plain": [
       "<pandas.io.formats.style.Styler at 0x11b46a6d8>"
      ]
     },
     "execution_count": 33,
     "metadata": {},
     "output_type": "execute_result"
    }
   ],
   "source": [
    "top_players_table(players, \"Midfielder\", k=20)"
   ]
  },
  {
   "cell_type": "code",
   "execution_count": 34,
   "metadata": {},
   "outputs": [
    {
     "data": {
      "application/vnd.plotly.v1+json": {
       "config": {
        "plotlyServerURL": "https://plot.ly"
       },
       "data": [
        {
         "hoverlabel": {
          "namelength": 0
         },
         "hovertemplate": "<b>%{hovertext}</b><br><br>points_per_game=%{x}<br>points_per_million=%{y}<br>pct_lineup=%{marker.size}<br>value=%{marker.color}",
         "hovertext": [
          "Alcaraz",
          "Arambarri",
          "Arthur",
          "Banega",
          "Bardhi",
          "Beñat",
          "Brais Méndez",
          "Busquets",
          "Campaña",
          "Canales",
          "Carlos Soler",
          "Casemiro",
          "Cazorla",
          "Cheryshev",
          "Chukwueze",
          "Coquelin",
          "Coutinho",
          "Cucurella",
          "Dani García",
          "Darder",
          "Diop",
          "Escalante",
          "Franco Vázquez",
          "Granero",
          "Guardado",
          "Guedes",
          "Ibai Gómez",
          "Iborra",
          "Illarramendi",
          "Inui",
          "Isco",
          "Januzaj",
          "Joaquín",
          "Jordan",
          "Koke",
          "Kondogbia",
          "Kroos",
          "Lemar",
          "Lo Celso",
          "Lobotka",
          "Lucas Vázquez",
          "Maksimovic",
          "Manu García",
          "Marc Roca",
          "Melendo",
          "Melero",
          "Michel Herrero",
          "Mikel Merino",
          "Modric",
          "Morales",
          "Muniain",
          "Orellana",
          "Parejo",
          "Pere Pons",
          "Portillo",
          "Rakitic",
          "Raúl García",
          "Rochina",
          "Rubén Pérez",
          "Saúl",
          "Tello",
          "Thomas",
          "Tomás Pina",
          "Toni Villa",
          "Trigueros",
          "Vidal",
          "Vitolo",
          "William Carvalho",
          "Yokuslu",
          "Zubeldia",
          "Óscar Rodríguez"
         ],
         "legendgroup": "",
         "marker": {
          "color": [
           3320000,
           2320000,
           3260000,
           3060000,
           3210000,
           830000,
           3430000,
           3730000,
           4240000,
           7210000,
           3520000,
           3240000,
           6940000,
           940000,
           5240000,
           2130000,
           3050000,
           3480000,
           1190000,
           3980000,
           850000,
           1670000,
           2790000,
           1720000,
           1490000,
           8220000,
           2100000,
           2400000,
           3650000,
           1500000,
           3280000,
           2860000,
           2790000,
           4850000,
           4980000,
           3350000,
           4020000,
           3220000,
           5270000,
           1460000,
           940000,
           2510000,
           690000,
           3760000,
           3320000,
           1190000,
           1930000,
           3080000,
           6310000,
           9720000,
           4190000,
           3960000,
           11180000,
           2370000,
           720000,
           5580000,
           4900000,
           3070000,
           1660000,
           3890000,
           2900000,
           2580000,
           1830000,
           1370000,
           1610000,
           2530000,
           1100000,
           2560000,
           1130000,
           1230000,
           2580000
          ],
          "coloraxis": "coloraxis",
          "size": [
           12.5,
           7.3999999999999995,
           2.6,
           4.5,
           6.2,
           4.7,
           8.7,
           6.3,
           16,
           18.4,
           4.8,
           6.6000000000000005,
           16.400000000000002,
           6,
           5.1,
           5.5,
           9.5,
           7.3,
           5.1,
           10.299999999999999,
           6.3,
           6.7,
           7.000000000000001,
           7.199999999999999,
           5.3,
           2,
           5.8999999999999995,
           1.7999999999999998,
           3,
           1.7999999999999998,
           2.6,
           3.3000000000000003,
           12.6,
           17,
           10,
           1.2,
           7.1,
           4.9,
           10.4,
           4.5,
           5.8999999999999995,
           8.200000000000001,
           7.199999999999999,
           12.5,
           7.8,
           2.1999999999999997,
           8.799999999999999,
           3.9,
           6.800000000000001,
           11.200000000000001,
           8.1,
           7.7,
           15.4,
           4.3999999999999995,
           5.5,
           13.4,
           10.8,
           6.1,
           7.000000000000001,
           7.7,
           8.9,
           9.4,
           5.2,
           5.5,
           1.9,
           12.6,
           1.9,
           5.800000000000001,
           6.3,
           3.9,
           9.5
          ],
          "sizemode": "area",
          "sizeref": 0.046,
          "symbol": "circle"
         },
         "mode": "markers",
         "name": "",
         "showlegend": false,
         "type": "scatter",
         "x": [
          5.176470588235294,
          4.181818181818182,
          3.962962962962963,
          4.875,
          4.166666666666667,
          3.5555555555555554,
          4.967741935483871,
          4.257142857142857,
          5.388888888888889,
          6.6875,
          4.096774193548387,
          4.689655172413793,
          6.142857142857143,
          4.037037037037037,
          5.3076923076923075,
          4.730769230769231,
          4.823529411764706,
          4.516129032258065,
          3.7241379310344827,
          5.029411764705882,
          4.214285714285714,
          4.15625,
          4.029411764705882,
          4.75,
          3.6451612903225805,
          5.76,
          4.09375,
          4.421052631578948,
          4.695652173913044,
          3.6,
          3.7037037037037037,
          5.25,
          5.833333333333333,
          5.583333333333333,
          5.533333333333333,
          4.894736842105263,
          4.928571428571429,
          3.806451612903226,
          5.75,
          3.4838709677419355,
          3.3548387096774195,
          4.305555555555555,
          3.5,
          4.942857142857143,
          4.6875,
          3.409090909090909,
          4.314285714285714,
          4.448275862068965,
          4.794117647058823,
          5.972972972972973,
          4.764705882352941,
          4.636363636363637,
          7.083333333333333,
          3.4705882352941178,
          3.15625,
          5.735294117647059,
          5.393939393939394,
          5.185185185185185,
          4.096774193548387,
          4.666666666666667,
          5.379310344827586,
          4.75,
          4.464285714285714,
          4.1923076923076925,
          3.3333333333333335,
          5.2727272727272725,
          3.45,
          4.166666666666667,
          4.3,
          3.606060606060606,
          4.774193548387097
         ],
         "xaxis": "x",
         "y": [
          53.01204819277108,
          59.48275862068965,
          32.82208588957055,
          50.98039215686274,
          46.72897196261682,
          115.66265060240964,
          44.897959183673464,
          39.946380697050934,
          45.75471698113208,
          29.680998613037445,
          36.07954545454545,
          41.97530864197531,
          30.979827089337174,
          115.95744680851064,
          26.33587786259542,
          57.74647887323943,
          53.77049180327869,
          40.229885057471265,
          90.75630252100841,
          42.96482412060301,
          138.8235294117647,
          79.64071856287426,
          49.10394265232975,
          77.32558139534883,
          75.83892617449665,
          17.51824817518248,
          62.38095238095238,
          35,
          29.589041095890412,
          48,
          30.48780487804878,
          36.71328671328671,
          62.72401433691756,
          41.44329896907217,
          33.333333333333336,
          27.761194029850746,
          34.32835820895522,
          36.64596273291926,
          34.9146110056926,
          73.97260273972603,
          110.63829787234042,
          61.752988047808756,
          172.46376811594203,
          46.01063829787234,
          45.18072289156627,
          63.02521008403361,
          78.23834196891193,
          41.883116883116884,
          25.832012678288432,
          22.736625514403293,
          38.663484486873514,
          38.63636363636363,
          22.808586762075134,
          49.78902953586498,
          140.27777777777777,
          34.946236559139784,
          36.326530612244895,
          45.60260586319218,
          76.50602409638554,
          39.588688946015424,
          53.793103448275865,
          58.91472868217054,
          68.30601092896175,
          79.56204379562043,
          49.68944099378882,
          68.77470355731225,
          62.72727272727273,
          48.828125,
          114.15929203539822,
          96.7479674796748,
          57.36434108527131
         ],
         "yaxis": "y"
        }
       ],
       "layout": {
        "coloraxis": {
         "colorbar": {
          "title": {
           "text": "value"
          }
         },
         "colorscale": [
          [
           0,
           "#0d0887"
          ],
          [
           0.1111111111111111,
           "#46039f"
          ],
          [
           0.2222222222222222,
           "#7201a8"
          ],
          [
           0.3333333333333333,
           "#9c179e"
          ],
          [
           0.4444444444444444,
           "#bd3786"
          ],
          [
           0.5555555555555556,
           "#d8576b"
          ],
          [
           0.6666666666666666,
           "#ed7953"
          ],
          [
           0.7777777777777778,
           "#fb9f3a"
          ],
          [
           0.8888888888888888,
           "#fdca26"
          ],
          [
           1,
           "#f0f921"
          ]
         ]
        },
        "height": 600,
        "legend": {
         "itemsizing": "constant",
         "tracegroupgap": 0
        },
        "margin": {
         "t": 60
        },
        "template": {
         "data": {
          "bar": [
           {
            "error_x": {
             "color": "#2a3f5f"
            },
            "error_y": {
             "color": "#2a3f5f"
            },
            "marker": {
             "line": {
              "color": "#E5ECF6",
              "width": 0.5
             }
            },
            "type": "bar"
           }
          ],
          "barpolar": [
           {
            "marker": {
             "line": {
              "color": "#E5ECF6",
              "width": 0.5
             }
            },
            "type": "barpolar"
           }
          ],
          "carpet": [
           {
            "aaxis": {
             "endlinecolor": "#2a3f5f",
             "gridcolor": "white",
             "linecolor": "white",
             "minorgridcolor": "white",
             "startlinecolor": "#2a3f5f"
            },
            "baxis": {
             "endlinecolor": "#2a3f5f",
             "gridcolor": "white",
             "linecolor": "white",
             "minorgridcolor": "white",
             "startlinecolor": "#2a3f5f"
            },
            "type": "carpet"
           }
          ],
          "choropleth": [
           {
            "colorbar": {
             "outlinewidth": 0,
             "ticks": ""
            },
            "type": "choropleth"
           }
          ],
          "contour": [
           {
            "colorbar": {
             "outlinewidth": 0,
             "ticks": ""
            },
            "colorscale": [
             [
              0,
              "#0d0887"
             ],
             [
              0.1111111111111111,
              "#46039f"
             ],
             [
              0.2222222222222222,
              "#7201a8"
             ],
             [
              0.3333333333333333,
              "#9c179e"
             ],
             [
              0.4444444444444444,
              "#bd3786"
             ],
             [
              0.5555555555555556,
              "#d8576b"
             ],
             [
              0.6666666666666666,
              "#ed7953"
             ],
             [
              0.7777777777777778,
              "#fb9f3a"
             ],
             [
              0.8888888888888888,
              "#fdca26"
             ],
             [
              1,
              "#f0f921"
             ]
            ],
            "type": "contour"
           }
          ],
          "contourcarpet": [
           {
            "colorbar": {
             "outlinewidth": 0,
             "ticks": ""
            },
            "type": "contourcarpet"
           }
          ],
          "heatmap": [
           {
            "colorbar": {
             "outlinewidth": 0,
             "ticks": ""
            },
            "colorscale": [
             [
              0,
              "#0d0887"
             ],
             [
              0.1111111111111111,
              "#46039f"
             ],
             [
              0.2222222222222222,
              "#7201a8"
             ],
             [
              0.3333333333333333,
              "#9c179e"
             ],
             [
              0.4444444444444444,
              "#bd3786"
             ],
             [
              0.5555555555555556,
              "#d8576b"
             ],
             [
              0.6666666666666666,
              "#ed7953"
             ],
             [
              0.7777777777777778,
              "#fb9f3a"
             ],
             [
              0.8888888888888888,
              "#fdca26"
             ],
             [
              1,
              "#f0f921"
             ]
            ],
            "type": "heatmap"
           }
          ],
          "heatmapgl": [
           {
            "colorbar": {
             "outlinewidth": 0,
             "ticks": ""
            },
            "colorscale": [
             [
              0,
              "#0d0887"
             ],
             [
              0.1111111111111111,
              "#46039f"
             ],
             [
              0.2222222222222222,
              "#7201a8"
             ],
             [
              0.3333333333333333,
              "#9c179e"
             ],
             [
              0.4444444444444444,
              "#bd3786"
             ],
             [
              0.5555555555555556,
              "#d8576b"
             ],
             [
              0.6666666666666666,
              "#ed7953"
             ],
             [
              0.7777777777777778,
              "#fb9f3a"
             ],
             [
              0.8888888888888888,
              "#fdca26"
             ],
             [
              1,
              "#f0f921"
             ]
            ],
            "type": "heatmapgl"
           }
          ],
          "histogram": [
           {
            "marker": {
             "colorbar": {
              "outlinewidth": 0,
              "ticks": ""
             }
            },
            "type": "histogram"
           }
          ],
          "histogram2d": [
           {
            "colorbar": {
             "outlinewidth": 0,
             "ticks": ""
            },
            "colorscale": [
             [
              0,
              "#0d0887"
             ],
             [
              0.1111111111111111,
              "#46039f"
             ],
             [
              0.2222222222222222,
              "#7201a8"
             ],
             [
              0.3333333333333333,
              "#9c179e"
             ],
             [
              0.4444444444444444,
              "#bd3786"
             ],
             [
              0.5555555555555556,
              "#d8576b"
             ],
             [
              0.6666666666666666,
              "#ed7953"
             ],
             [
              0.7777777777777778,
              "#fb9f3a"
             ],
             [
              0.8888888888888888,
              "#fdca26"
             ],
             [
              1,
              "#f0f921"
             ]
            ],
            "type": "histogram2d"
           }
          ],
          "histogram2dcontour": [
           {
            "colorbar": {
             "outlinewidth": 0,
             "ticks": ""
            },
            "colorscale": [
             [
              0,
              "#0d0887"
             ],
             [
              0.1111111111111111,
              "#46039f"
             ],
             [
              0.2222222222222222,
              "#7201a8"
             ],
             [
              0.3333333333333333,
              "#9c179e"
             ],
             [
              0.4444444444444444,
              "#bd3786"
             ],
             [
              0.5555555555555556,
              "#d8576b"
             ],
             [
              0.6666666666666666,
              "#ed7953"
             ],
             [
              0.7777777777777778,
              "#fb9f3a"
             ],
             [
              0.8888888888888888,
              "#fdca26"
             ],
             [
              1,
              "#f0f921"
             ]
            ],
            "type": "histogram2dcontour"
           }
          ],
          "mesh3d": [
           {
            "colorbar": {
             "outlinewidth": 0,
             "ticks": ""
            },
            "type": "mesh3d"
           }
          ],
          "parcoords": [
           {
            "line": {
             "colorbar": {
              "outlinewidth": 0,
              "ticks": ""
             }
            },
            "type": "parcoords"
           }
          ],
          "scatter": [
           {
            "marker": {
             "colorbar": {
              "outlinewidth": 0,
              "ticks": ""
             }
            },
            "type": "scatter"
           }
          ],
          "scatter3d": [
           {
            "line": {
             "colorbar": {
              "outlinewidth": 0,
              "ticks": ""
             }
            },
            "marker": {
             "colorbar": {
              "outlinewidth": 0,
              "ticks": ""
             }
            },
            "type": "scatter3d"
           }
          ],
          "scattercarpet": [
           {
            "marker": {
             "colorbar": {
              "outlinewidth": 0,
              "ticks": ""
             }
            },
            "type": "scattercarpet"
           }
          ],
          "scattergeo": [
           {
            "marker": {
             "colorbar": {
              "outlinewidth": 0,
              "ticks": ""
             }
            },
            "type": "scattergeo"
           }
          ],
          "scattergl": [
           {
            "marker": {
             "colorbar": {
              "outlinewidth": 0,
              "ticks": ""
             }
            },
            "type": "scattergl"
           }
          ],
          "scattermapbox": [
           {
            "marker": {
             "colorbar": {
              "outlinewidth": 0,
              "ticks": ""
             }
            },
            "type": "scattermapbox"
           }
          ],
          "scatterpolar": [
           {
            "marker": {
             "colorbar": {
              "outlinewidth": 0,
              "ticks": ""
             }
            },
            "type": "scatterpolar"
           }
          ],
          "scatterpolargl": [
           {
            "marker": {
             "colorbar": {
              "outlinewidth": 0,
              "ticks": ""
             }
            },
            "type": "scatterpolargl"
           }
          ],
          "scatterternary": [
           {
            "marker": {
             "colorbar": {
              "outlinewidth": 0,
              "ticks": ""
             }
            },
            "type": "scatterternary"
           }
          ],
          "surface": [
           {
            "colorbar": {
             "outlinewidth": 0,
             "ticks": ""
            },
            "colorscale": [
             [
              0,
              "#0d0887"
             ],
             [
              0.1111111111111111,
              "#46039f"
             ],
             [
              0.2222222222222222,
              "#7201a8"
             ],
             [
              0.3333333333333333,
              "#9c179e"
             ],
             [
              0.4444444444444444,
              "#bd3786"
             ],
             [
              0.5555555555555556,
              "#d8576b"
             ],
             [
              0.6666666666666666,
              "#ed7953"
             ],
             [
              0.7777777777777778,
              "#fb9f3a"
             ],
             [
              0.8888888888888888,
              "#fdca26"
             ],
             [
              1,
              "#f0f921"
             ]
            ],
            "type": "surface"
           }
          ],
          "table": [
           {
            "cells": {
             "fill": {
              "color": "#EBF0F8"
             },
             "line": {
              "color": "white"
             }
            },
            "header": {
             "fill": {
              "color": "#C8D4E3"
             },
             "line": {
              "color": "white"
             }
            },
            "type": "table"
           }
          ]
         },
         "layout": {
          "annotationdefaults": {
           "arrowcolor": "#2a3f5f",
           "arrowhead": 0,
           "arrowwidth": 1
          },
          "colorscale": {
           "diverging": [
            [
             0,
             "#8e0152"
            ],
            [
             0.1,
             "#c51b7d"
            ],
            [
             0.2,
             "#de77ae"
            ],
            [
             0.3,
             "#f1b6da"
            ],
            [
             0.4,
             "#fde0ef"
            ],
            [
             0.5,
             "#f7f7f7"
            ],
            [
             0.6,
             "#e6f5d0"
            ],
            [
             0.7,
             "#b8e186"
            ],
            [
             0.8,
             "#7fbc41"
            ],
            [
             0.9,
             "#4d9221"
            ],
            [
             1,
             "#276419"
            ]
           ],
           "sequential": [
            [
             0,
             "#0d0887"
            ],
            [
             0.1111111111111111,
             "#46039f"
            ],
            [
             0.2222222222222222,
             "#7201a8"
            ],
            [
             0.3333333333333333,
             "#9c179e"
            ],
            [
             0.4444444444444444,
             "#bd3786"
            ],
            [
             0.5555555555555556,
             "#d8576b"
            ],
            [
             0.6666666666666666,
             "#ed7953"
            ],
            [
             0.7777777777777778,
             "#fb9f3a"
            ],
            [
             0.8888888888888888,
             "#fdca26"
            ],
            [
             1,
             "#f0f921"
            ]
           ],
           "sequentialminus": [
            [
             0,
             "#0d0887"
            ],
            [
             0.1111111111111111,
             "#46039f"
            ],
            [
             0.2222222222222222,
             "#7201a8"
            ],
            [
             0.3333333333333333,
             "#9c179e"
            ],
            [
             0.4444444444444444,
             "#bd3786"
            ],
            [
             0.5555555555555556,
             "#d8576b"
            ],
            [
             0.6666666666666666,
             "#ed7953"
            ],
            [
             0.7777777777777778,
             "#fb9f3a"
            ],
            [
             0.8888888888888888,
             "#fdca26"
            ],
            [
             1,
             "#f0f921"
            ]
           ]
          },
          "colorway": [
           "#636efa",
           "#EF553B",
           "#00cc96",
           "#ab63fa",
           "#FFA15A",
           "#19d3f3",
           "#FF6692",
           "#B6E880",
           "#FF97FF",
           "#FECB52"
          ],
          "font": {
           "color": "#2a3f5f"
          },
          "geo": {
           "bgcolor": "white",
           "lakecolor": "white",
           "landcolor": "#E5ECF6",
           "showlakes": true,
           "showland": true,
           "subunitcolor": "white"
          },
          "hoverlabel": {
           "align": "left"
          },
          "hovermode": "closest",
          "mapbox": {
           "style": "light"
          },
          "paper_bgcolor": "white",
          "plot_bgcolor": "#E5ECF6",
          "polar": {
           "angularaxis": {
            "gridcolor": "white",
            "linecolor": "white",
            "ticks": ""
           },
           "bgcolor": "#E5ECF6",
           "radialaxis": {
            "gridcolor": "white",
            "linecolor": "white",
            "ticks": ""
           }
          },
          "scene": {
           "xaxis": {
            "backgroundcolor": "#E5ECF6",
            "gridcolor": "white",
            "gridwidth": 2,
            "linecolor": "white",
            "showbackground": true,
            "ticks": "",
            "zerolinecolor": "white"
           },
           "yaxis": {
            "backgroundcolor": "#E5ECF6",
            "gridcolor": "white",
            "gridwidth": 2,
            "linecolor": "white",
            "showbackground": true,
            "ticks": "",
            "zerolinecolor": "white"
           },
           "zaxis": {
            "backgroundcolor": "#E5ECF6",
            "gridcolor": "white",
            "gridwidth": 2,
            "linecolor": "white",
            "showbackground": true,
            "ticks": "",
            "zerolinecolor": "white"
           }
          },
          "shapedefaults": {
           "line": {
            "color": "#2a3f5f"
           }
          },
          "ternary": {
           "aaxis": {
            "gridcolor": "white",
            "linecolor": "white",
            "ticks": ""
           },
           "baxis": {
            "gridcolor": "white",
            "linecolor": "white",
            "ticks": ""
           },
           "bgcolor": "#E5ECF6",
           "caxis": {
            "gridcolor": "white",
            "linecolor": "white",
            "ticks": ""
           }
          },
          "title": {
           "x": 0.05
          },
          "xaxis": {
           "automargin": true,
           "gridcolor": "white",
           "linecolor": "white",
           "ticks": "",
           "zerolinecolor": "white",
           "zerolinewidth": 2
          },
          "yaxis": {
           "automargin": true,
           "gridcolor": "white",
           "linecolor": "white",
           "ticks": "",
           "zerolinecolor": "white",
           "zerolinewidth": 2
          }
         }
        },
        "xaxis": {
         "anchor": "y",
         "domain": [
          0,
          0.98
         ],
         "title": {
          "text": "Points per Game"
         }
        },
        "yaxis": {
         "anchor": "x",
         "domain": [
          0,
          1
         ],
         "title": {
          "text": "Points per Million"
         }
        }
       }
      },
      "text/html": [
       "<div>\n",
       "        \n",
       "        \n",
       "            <div id=\"c38f247f-484a-4d5c-a25a-827d2a422995\" class=\"plotly-graph-div\" style=\"height:600px; width:100%;\"></div>\n",
       "            <script type=\"text/javascript\">\n",
       "                require([\"plotly\"], function(Plotly) {\n",
       "                    window.PLOTLYENV=window.PLOTLYENV || {};\n",
       "                    \n",
       "                if (document.getElementById(\"c38f247f-484a-4d5c-a25a-827d2a422995\")) {\n",
       "                    Plotly.newPlot(\n",
       "                        'c38f247f-484a-4d5c-a25a-827d2a422995',\n",
       "                        [{\"hoverlabel\": {\"namelength\": 0}, \"hovertemplate\": \"<b>%{hovertext}</b><br><br>points_per_game=%{x}<br>points_per_million=%{y}<br>pct_lineup=%{marker.size}<br>value=%{marker.color}\", \"hovertext\": [\"Alcaraz\", \"Arambarri\", \"Arthur\", \"Banega\", \"Bardhi\", \"Be\\u00f1at\", \"Brais M\\u00e9ndez\", \"Busquets\", \"Campa\\u00f1a\", \"Canales\", \"Carlos Soler\", \"Casemiro\", \"Cazorla\", \"Cheryshev\", \"Chukwueze\", \"Coquelin\", \"Coutinho\", \"Cucurella\", \"Dani Garc\\u00eda\", \"Darder\", \"Diop\", \"Escalante\", \"Franco V\\u00e1zquez\", \"Granero\", \"Guardado\", \"Guedes\", \"Ibai G\\u00f3mez\", \"Iborra\", \"Illarramendi\", \"Inui\", \"Isco\", \"Januzaj\", \"Joaqu\\u00edn\", \"Jordan\", \"Koke\", \"Kondogbia\", \"Kroos\", \"Lemar\", \"Lo Celso\", \"Lobotka\", \"Lucas V\\u00e1zquez\", \"Maksimovic\", \"Manu Garc\\u00eda\", \"Marc Roca\", \"Melendo\", \"Melero\", \"Michel Herrero\", \"Mikel Merino\", \"Modric\", \"Morales\", \"Muniain\", \"Orellana\", \"Parejo\", \"Pere Pons\", \"Portillo\", \"Rakitic\", \"Ra\\u00fal Garc\\u00eda\", \"Rochina\", \"Rub\\u00e9n P\\u00e9rez\", \"Sa\\u00fal\", \"Tello\", \"Thomas\", \"Tom\\u00e1s Pina\", \"Toni Villa\", \"Trigueros\", \"Vidal\", \"Vitolo\", \"William Carvalho\", \"Yokuslu\", \"Zubeldia\", \"\\u00d3scar Rodr\\u00edguez\"], \"legendgroup\": \"\", \"marker\": {\"color\": [3320000.0, 2320000.0, 3260000.0, 3060000.0, 3210000.0, 830000.0, 3430000.0, 3730000.0, 4240000.0, 7210000.0, 3520000.0, 3240000.0, 6940000.0, 940000.0, 5240000.0, 2130000.0, 3050000.0, 3480000.0, 1190000.0, 3980000.0, 850000.0, 1670000.0, 2790000.0, 1720000.0, 1490000.0, 8220000.0, 2100000.0, 2400000.0, 3650000.0, 1500000.0, 3280000.0, 2860000.0, 2790000.0, 4850000.0, 4980000.0, 3350000.0, 4020000.0, 3220000.0, 5270000.0, 1460000.0, 940000.0, 2510000.0, 690000.0, 3760000.0, 3320000.0, 1190000.0, 1930000.0, 3080000.0, 6310000.0, 9720000.0, 4190000.0, 3960000.0, 11180000.0, 2370000.0, 720000.0, 5580000.0, 4900000.0, 3070000.0, 1660000.0, 3890000.0, 2900000.0, 2580000.0, 1830000.0, 1370000.0, 1610000.0, 2530000.0, 1100000.0, 2560000.0, 1130000.0, 1230000.0, 2580000.0], \"coloraxis\": \"coloraxis\", \"size\": [12.5, 7.3999999999999995, 2.6, 4.5, 6.2, 4.7, 8.7, 6.3, 16.0, 18.4, 4.8, 6.6000000000000005, 16.400000000000002, 6.0, 5.1, 5.5, 9.5, 7.3, 5.1, 10.299999999999999, 6.3, 6.7, 7.000000000000001, 7.199999999999999, 5.3, 2.0, 5.8999999999999995, 1.7999999999999998, 3.0, 1.7999999999999998, 2.6, 3.3000000000000003, 12.6, 17.0, 10.0, 1.2, 7.1, 4.9, 10.4, 4.5, 5.8999999999999995, 8.200000000000001, 7.199999999999999, 12.5, 7.8, 2.1999999999999997, 8.799999999999999, 3.9, 6.800000000000001, 11.200000000000001, 8.1, 7.7, 15.4, 4.3999999999999995, 5.5, 13.4, 10.8, 6.1, 7.000000000000001, 7.7, 8.9, 9.4, 5.2, 5.5, 1.9, 12.6, 1.9, 5.800000000000001, 6.3, 3.9, 9.5], \"sizemode\": \"area\", \"sizeref\": 0.046, \"symbol\": \"circle\"}, \"mode\": \"markers\", \"name\": \"\", \"showlegend\": false, \"type\": \"scatter\", \"x\": [5.176470588235294, 4.181818181818182, 3.962962962962963, 4.875, 4.166666666666667, 3.5555555555555554, 4.967741935483871, 4.257142857142857, 5.388888888888889, 6.6875, 4.096774193548387, 4.689655172413793, 6.142857142857143, 4.037037037037037, 5.3076923076923075, 4.730769230769231, 4.823529411764706, 4.516129032258065, 3.7241379310344827, 5.029411764705882, 4.214285714285714, 4.15625, 4.029411764705882, 4.75, 3.6451612903225805, 5.76, 4.09375, 4.421052631578948, 4.695652173913044, 3.6, 3.7037037037037037, 5.25, 5.833333333333333, 5.583333333333333, 5.533333333333333, 4.894736842105263, 4.928571428571429, 3.806451612903226, 5.75, 3.4838709677419355, 3.3548387096774195, 4.305555555555555, 3.5, 4.942857142857143, 4.6875, 3.409090909090909, 4.314285714285714, 4.448275862068965, 4.794117647058823, 5.972972972972973, 4.764705882352941, 4.636363636363637, 7.083333333333333, 3.4705882352941178, 3.15625, 5.735294117647059, 5.393939393939394, 5.185185185185185, 4.096774193548387, 4.666666666666667, 5.379310344827586, 4.75, 4.464285714285714, 4.1923076923076925, 3.3333333333333335, 5.2727272727272725, 3.45, 4.166666666666667, 4.3, 3.606060606060606, 4.774193548387097], \"xaxis\": \"x\", \"y\": [53.01204819277108, 59.48275862068965, 32.82208588957055, 50.98039215686274, 46.72897196261682, 115.66265060240964, 44.897959183673464, 39.946380697050934, 45.75471698113208, 29.680998613037445, 36.07954545454545, 41.97530864197531, 30.979827089337174, 115.95744680851064, 26.33587786259542, 57.74647887323943, 53.77049180327869, 40.229885057471265, 90.75630252100841, 42.96482412060301, 138.8235294117647, 79.64071856287426, 49.10394265232975, 77.32558139534883, 75.83892617449665, 17.51824817518248, 62.38095238095238, 35.0, 29.589041095890412, 48.0, 30.48780487804878, 36.71328671328671, 62.72401433691756, 41.44329896907217, 33.333333333333336, 27.761194029850746, 34.32835820895522, 36.64596273291926, 34.9146110056926, 73.97260273972603, 110.63829787234042, 61.752988047808756, 172.46376811594203, 46.01063829787234, 45.18072289156627, 63.02521008403361, 78.23834196891193, 41.883116883116884, 25.832012678288432, 22.736625514403293, 38.663484486873514, 38.63636363636363, 22.808586762075134, 49.78902953586498, 140.27777777777777, 34.946236559139784, 36.326530612244895, 45.60260586319218, 76.50602409638554, 39.588688946015424, 53.793103448275865, 58.91472868217054, 68.30601092896175, 79.56204379562043, 49.68944099378882, 68.77470355731225, 62.72727272727273, 48.828125, 114.15929203539822, 96.7479674796748, 57.36434108527131], \"yaxis\": \"y\"}],\n",
       "                        {\"coloraxis\": {\"colorbar\": {\"title\": {\"text\": \"value\"}}, \"colorscale\": [[0.0, \"#0d0887\"], [0.1111111111111111, \"#46039f\"], [0.2222222222222222, \"#7201a8\"], [0.3333333333333333, \"#9c179e\"], [0.4444444444444444, \"#bd3786\"], [0.5555555555555556, \"#d8576b\"], [0.6666666666666666, \"#ed7953\"], [0.7777777777777778, \"#fb9f3a\"], [0.8888888888888888, \"#fdca26\"], [1.0, \"#f0f921\"]]}, \"height\": 600, \"legend\": {\"itemsizing\": \"constant\", \"tracegroupgap\": 0}, \"margin\": {\"t\": 60}, \"template\": {\"data\": {\"bar\": [{\"error_x\": {\"color\": \"#2a3f5f\"}, \"error_y\": {\"color\": \"#2a3f5f\"}, \"marker\": {\"line\": {\"color\": \"#E5ECF6\", \"width\": 0.5}}, \"type\": \"bar\"}], \"barpolar\": [{\"marker\": {\"line\": {\"color\": \"#E5ECF6\", \"width\": 0.5}}, \"type\": \"barpolar\"}], \"carpet\": [{\"aaxis\": {\"endlinecolor\": \"#2a3f5f\", \"gridcolor\": \"white\", \"linecolor\": \"white\", \"minorgridcolor\": \"white\", \"startlinecolor\": \"#2a3f5f\"}, \"baxis\": {\"endlinecolor\": \"#2a3f5f\", \"gridcolor\": \"white\", \"linecolor\": \"white\", \"minorgridcolor\": \"white\", \"startlinecolor\": \"#2a3f5f\"}, \"type\": \"carpet\"}], \"choropleth\": [{\"colorbar\": {\"outlinewidth\": 0, \"ticks\": \"\"}, \"type\": \"choropleth\"}], \"contour\": [{\"colorbar\": {\"outlinewidth\": 0, \"ticks\": \"\"}, \"colorscale\": [[0.0, \"#0d0887\"], [0.1111111111111111, \"#46039f\"], [0.2222222222222222, \"#7201a8\"], [0.3333333333333333, \"#9c179e\"], [0.4444444444444444, \"#bd3786\"], [0.5555555555555556, \"#d8576b\"], [0.6666666666666666, \"#ed7953\"], [0.7777777777777778, \"#fb9f3a\"], [0.8888888888888888, \"#fdca26\"], [1.0, \"#f0f921\"]], \"type\": \"contour\"}], \"contourcarpet\": [{\"colorbar\": {\"outlinewidth\": 0, \"ticks\": \"\"}, \"type\": \"contourcarpet\"}], \"heatmap\": [{\"colorbar\": {\"outlinewidth\": 0, \"ticks\": \"\"}, \"colorscale\": [[0.0, \"#0d0887\"], [0.1111111111111111, \"#46039f\"], [0.2222222222222222, \"#7201a8\"], [0.3333333333333333, \"#9c179e\"], [0.4444444444444444, \"#bd3786\"], [0.5555555555555556, \"#d8576b\"], [0.6666666666666666, \"#ed7953\"], [0.7777777777777778, \"#fb9f3a\"], [0.8888888888888888, \"#fdca26\"], [1.0, \"#f0f921\"]], \"type\": \"heatmap\"}], \"heatmapgl\": [{\"colorbar\": {\"outlinewidth\": 0, \"ticks\": \"\"}, \"colorscale\": [[0.0, \"#0d0887\"], [0.1111111111111111, \"#46039f\"], [0.2222222222222222, \"#7201a8\"], [0.3333333333333333, \"#9c179e\"], [0.4444444444444444, \"#bd3786\"], [0.5555555555555556, \"#d8576b\"], [0.6666666666666666, \"#ed7953\"], [0.7777777777777778, \"#fb9f3a\"], [0.8888888888888888, \"#fdca26\"], [1.0, \"#f0f921\"]], \"type\": \"heatmapgl\"}], \"histogram\": [{\"marker\": {\"colorbar\": {\"outlinewidth\": 0, \"ticks\": \"\"}}, \"type\": \"histogram\"}], \"histogram2d\": [{\"colorbar\": {\"outlinewidth\": 0, \"ticks\": \"\"}, \"colorscale\": [[0.0, \"#0d0887\"], [0.1111111111111111, \"#46039f\"], [0.2222222222222222, \"#7201a8\"], [0.3333333333333333, \"#9c179e\"], [0.4444444444444444, \"#bd3786\"], [0.5555555555555556, \"#d8576b\"], [0.6666666666666666, \"#ed7953\"], [0.7777777777777778, \"#fb9f3a\"], [0.8888888888888888, \"#fdca26\"], [1.0, \"#f0f921\"]], \"type\": \"histogram2d\"}], \"histogram2dcontour\": [{\"colorbar\": {\"outlinewidth\": 0, \"ticks\": \"\"}, \"colorscale\": [[0.0, \"#0d0887\"], [0.1111111111111111, \"#46039f\"], [0.2222222222222222, \"#7201a8\"], [0.3333333333333333, \"#9c179e\"], [0.4444444444444444, \"#bd3786\"], [0.5555555555555556, \"#d8576b\"], [0.6666666666666666, \"#ed7953\"], [0.7777777777777778, \"#fb9f3a\"], [0.8888888888888888, \"#fdca26\"], [1.0, \"#f0f921\"]], \"type\": \"histogram2dcontour\"}], \"mesh3d\": [{\"colorbar\": {\"outlinewidth\": 0, \"ticks\": \"\"}, \"type\": \"mesh3d\"}], \"parcoords\": [{\"line\": {\"colorbar\": {\"outlinewidth\": 0, \"ticks\": \"\"}}, \"type\": \"parcoords\"}], \"scatter\": [{\"marker\": {\"colorbar\": {\"outlinewidth\": 0, \"ticks\": \"\"}}, \"type\": \"scatter\"}], \"scatter3d\": [{\"line\": {\"colorbar\": {\"outlinewidth\": 0, \"ticks\": \"\"}}, \"marker\": {\"colorbar\": {\"outlinewidth\": 0, \"ticks\": \"\"}}, \"type\": \"scatter3d\"}], \"scattercarpet\": [{\"marker\": {\"colorbar\": {\"outlinewidth\": 0, \"ticks\": \"\"}}, \"type\": \"scattercarpet\"}], \"scattergeo\": [{\"marker\": {\"colorbar\": {\"outlinewidth\": 0, \"ticks\": \"\"}}, \"type\": \"scattergeo\"}], \"scattergl\": [{\"marker\": {\"colorbar\": {\"outlinewidth\": 0, \"ticks\": \"\"}}, \"type\": \"scattergl\"}], \"scattermapbox\": [{\"marker\": {\"colorbar\": {\"outlinewidth\": 0, \"ticks\": \"\"}}, \"type\": \"scattermapbox\"}], \"scatterpolar\": [{\"marker\": {\"colorbar\": {\"outlinewidth\": 0, \"ticks\": \"\"}}, \"type\": \"scatterpolar\"}], \"scatterpolargl\": [{\"marker\": {\"colorbar\": {\"outlinewidth\": 0, \"ticks\": \"\"}}, \"type\": \"scatterpolargl\"}], \"scatterternary\": [{\"marker\": {\"colorbar\": {\"outlinewidth\": 0, \"ticks\": \"\"}}, \"type\": \"scatterternary\"}], \"surface\": [{\"colorbar\": {\"outlinewidth\": 0, \"ticks\": \"\"}, \"colorscale\": [[0.0, \"#0d0887\"], [0.1111111111111111, \"#46039f\"], [0.2222222222222222, \"#7201a8\"], [0.3333333333333333, \"#9c179e\"], [0.4444444444444444, \"#bd3786\"], [0.5555555555555556, \"#d8576b\"], [0.6666666666666666, \"#ed7953\"], [0.7777777777777778, \"#fb9f3a\"], [0.8888888888888888, \"#fdca26\"], [1.0, \"#f0f921\"]], \"type\": \"surface\"}], \"table\": [{\"cells\": {\"fill\": {\"color\": \"#EBF0F8\"}, \"line\": {\"color\": \"white\"}}, \"header\": {\"fill\": {\"color\": \"#C8D4E3\"}, \"line\": {\"color\": \"white\"}}, \"type\": \"table\"}]}, \"layout\": {\"annotationdefaults\": {\"arrowcolor\": \"#2a3f5f\", \"arrowhead\": 0, \"arrowwidth\": 1}, \"colorscale\": {\"diverging\": [[0, \"#8e0152\"], [0.1, \"#c51b7d\"], [0.2, \"#de77ae\"], [0.3, \"#f1b6da\"], [0.4, \"#fde0ef\"], [0.5, \"#f7f7f7\"], [0.6, \"#e6f5d0\"], [0.7, \"#b8e186\"], [0.8, \"#7fbc41\"], [0.9, \"#4d9221\"], [1, \"#276419\"]], \"sequential\": [[0.0, \"#0d0887\"], [0.1111111111111111, \"#46039f\"], [0.2222222222222222, \"#7201a8\"], [0.3333333333333333, \"#9c179e\"], [0.4444444444444444, \"#bd3786\"], [0.5555555555555556, \"#d8576b\"], [0.6666666666666666, \"#ed7953\"], [0.7777777777777778, \"#fb9f3a\"], [0.8888888888888888, \"#fdca26\"], [1.0, \"#f0f921\"]], \"sequentialminus\": [[0.0, \"#0d0887\"], [0.1111111111111111, \"#46039f\"], [0.2222222222222222, \"#7201a8\"], [0.3333333333333333, \"#9c179e\"], [0.4444444444444444, \"#bd3786\"], [0.5555555555555556, \"#d8576b\"], [0.6666666666666666, \"#ed7953\"], [0.7777777777777778, \"#fb9f3a\"], [0.8888888888888888, \"#fdca26\"], [1.0, \"#f0f921\"]]}, \"colorway\": [\"#636efa\", \"#EF553B\", \"#00cc96\", \"#ab63fa\", \"#FFA15A\", \"#19d3f3\", \"#FF6692\", \"#B6E880\", \"#FF97FF\", \"#FECB52\"], \"font\": {\"color\": \"#2a3f5f\"}, \"geo\": {\"bgcolor\": \"white\", \"lakecolor\": \"white\", \"landcolor\": \"#E5ECF6\", \"showlakes\": true, \"showland\": true, \"subunitcolor\": \"white\"}, \"hoverlabel\": {\"align\": \"left\"}, \"hovermode\": \"closest\", \"mapbox\": {\"style\": \"light\"}, \"paper_bgcolor\": \"white\", \"plot_bgcolor\": \"#E5ECF6\", \"polar\": {\"angularaxis\": {\"gridcolor\": \"white\", \"linecolor\": \"white\", \"ticks\": \"\"}, \"bgcolor\": \"#E5ECF6\", \"radialaxis\": {\"gridcolor\": \"white\", \"linecolor\": \"white\", \"ticks\": \"\"}}, \"scene\": {\"xaxis\": {\"backgroundcolor\": \"#E5ECF6\", \"gridcolor\": \"white\", \"gridwidth\": 2, \"linecolor\": \"white\", \"showbackground\": true, \"ticks\": \"\", \"zerolinecolor\": \"white\"}, \"yaxis\": {\"backgroundcolor\": \"#E5ECF6\", \"gridcolor\": \"white\", \"gridwidth\": 2, \"linecolor\": \"white\", \"showbackground\": true, \"ticks\": \"\", \"zerolinecolor\": \"white\"}, \"zaxis\": {\"backgroundcolor\": \"#E5ECF6\", \"gridcolor\": \"white\", \"gridwidth\": 2, \"linecolor\": \"white\", \"showbackground\": true, \"ticks\": \"\", \"zerolinecolor\": \"white\"}}, \"shapedefaults\": {\"line\": {\"color\": \"#2a3f5f\"}}, \"ternary\": {\"aaxis\": {\"gridcolor\": \"white\", \"linecolor\": \"white\", \"ticks\": \"\"}, \"baxis\": {\"gridcolor\": \"white\", \"linecolor\": \"white\", \"ticks\": \"\"}, \"bgcolor\": \"#E5ECF6\", \"caxis\": {\"gridcolor\": \"white\", \"linecolor\": \"white\", \"ticks\": \"\"}}, \"title\": {\"x\": 0.05}, \"xaxis\": {\"automargin\": true, \"gridcolor\": \"white\", \"linecolor\": \"white\", \"ticks\": \"\", \"zerolinecolor\": \"white\", \"zerolinewidth\": 2}, \"yaxis\": {\"automargin\": true, \"gridcolor\": \"white\", \"linecolor\": \"white\", \"ticks\": \"\", \"zerolinecolor\": \"white\", \"zerolinewidth\": 2}}}, \"xaxis\": {\"anchor\": \"y\", \"domain\": [0.0, 0.98], \"title\": {\"text\": \"Points per Game\"}}, \"yaxis\": {\"anchor\": \"x\", \"domain\": [0.0, 1.0], \"title\": {\"text\": \"Points per Million\"}}},\n",
       "                        {\"responsive\": true}\n",
       "                    ).then(function(){\n",
       "                            \n",
       "var gd = document.getElementById('c38f247f-484a-4d5c-a25a-827d2a422995');\n",
       "var x = new MutationObserver(function (mutations, observer) {{\n",
       "        var display = window.getComputedStyle(gd).display;\n",
       "        if (!display || display === 'none') {{\n",
       "            console.log([gd, 'removed!']);\n",
       "            Plotly.purge(gd);\n",
       "            observer.disconnect();\n",
       "        }}\n",
       "}});\n",
       "\n",
       "// Listen for the removal of the full notebook cells\n",
       "var notebookContainer = gd.closest('#notebook-container');\n",
       "if (notebookContainer) {{\n",
       "    x.observe(notebookContainer, {childList: true});\n",
       "}}\n",
       "\n",
       "// Listen for the clearing of the current output cell\n",
       "var outputEl = gd.closest('.output');\n",
       "if (outputEl) {{\n",
       "    x.observe(outputEl, {childList: true});\n",
       "}}\n",
       "\n",
       "                        })\n",
       "                };\n",
       "                });\n",
       "            </script>\n",
       "        </div>"
      ]
     },
     "metadata": {},
     "output_type": "display_data"
    }
   ],
   "source": [
    "bubble_chart(players, \"Midfielder\")"
   ]
  },
  {
   "cell_type": "markdown",
   "metadata": {},
   "source": [
    "## Forwards"
   ]
  },
  {
   "cell_type": "code",
   "execution_count": 35,
   "metadata": {},
   "outputs": [
    {
     "data": {
      "text/html": [
       "<style  type=\"text/css\" >\n",
       "    #T_bd38e7cc_b375_11e9_b72b_9801a7978c49 th {\n",
       "          font-size: 11px;\n",
       "          text-align: center;\n",
       "          font-weight: bold;\n",
       "          color: #6d6d6d;\n",
       "          background-color: #f7f7f9;\n",
       "    }    #T_bd38e7cc_b375_11e9_b72b_9801a7978c49 td {\n",
       "          font-size: 11px;\n",
       "    }    #T_bd38e7cc_b375_11e9_b72b_9801a7978c49row0_col0 {\n",
       "            font-weight:  bold;\n",
       "        }    #T_bd38e7cc_b375_11e9_b72b_9801a7978c49row0_col4 {\n",
       "            color:  black;\n",
       "        }    #T_bd38e7cc_b375_11e9_b72b_9801a7978c49row0_col5 {\n",
       "            color:  black;\n",
       "        }    #T_bd38e7cc_b375_11e9_b72b_9801a7978c49row0_col6 {\n",
       "            color:  green;\n",
       "        }    #T_bd38e7cc_b375_11e9_b72b_9801a7978c49row0_col7 {\n",
       "            background-color:  #44ab42;\n",
       "        }    #T_bd38e7cc_b375_11e9_b72b_9801a7978c49row1_col0 {\n",
       "            font-weight:  bold;\n",
       "        }    #T_bd38e7cc_b375_11e9_b72b_9801a7978c49row1_col4 {\n",
       "            color:  black;\n",
       "        }    #T_bd38e7cc_b375_11e9_b72b_9801a7978c49row1_col5 {\n",
       "            color:  black;\n",
       "        }    #T_bd38e7cc_b375_11e9_b72b_9801a7978c49row1_col6 {\n",
       "            color:  black;\n",
       "        }    #T_bd38e7cc_b375_11e9_b72b_9801a7978c49row1_col7 {\n",
       "            background-color:  #b1ddb0;\n",
       "        }    #T_bd38e7cc_b375_11e9_b72b_9801a7978c49row2_col0 {\n",
       "            font-weight:  bold;\n",
       "        }    #T_bd38e7cc_b375_11e9_b72b_9801a7978c49row2_col4 {\n",
       "            color:  black;\n",
       "        }    #T_bd38e7cc_b375_11e9_b72b_9801a7978c49row2_col5 {\n",
       "            color:  black;\n",
       "        }    #T_bd38e7cc_b375_11e9_b72b_9801a7978c49row2_col6 {\n",
       "            color:  black;\n",
       "        }    #T_bd38e7cc_b375_11e9_b72b_9801a7978c49row2_col7 {\n",
       "            background-color:  #b9e0b8;\n",
       "        }    #T_bd38e7cc_b375_11e9_b72b_9801a7978c49row3_col0 {\n",
       "            font-weight:  bold;\n",
       "        }    #T_bd38e7cc_b375_11e9_b72b_9801a7978c49row3_col4 {\n",
       "            color:  black;\n",
       "        }    #T_bd38e7cc_b375_11e9_b72b_9801a7978c49row3_col5 {\n",
       "            color:  black;\n",
       "        }    #T_bd38e7cc_b375_11e9_b72b_9801a7978c49row3_col6 {\n",
       "            color:  black;\n",
       "        }    #T_bd38e7cc_b375_11e9_b72b_9801a7978c49row3_col7 {\n",
       "            background-color:  #c3e5c2;\n",
       "        }    #T_bd38e7cc_b375_11e9_b72b_9801a7978c49row4_col0 {\n",
       "            font-weight:  bold;\n",
       "        }    #T_bd38e7cc_b375_11e9_b72b_9801a7978c49row4_col4 {\n",
       "            color:  black;\n",
       "        }    #T_bd38e7cc_b375_11e9_b72b_9801a7978c49row4_col5 {\n",
       "            color:  black;\n",
       "        }    #T_bd38e7cc_b375_11e9_b72b_9801a7978c49row4_col6 {\n",
       "            color:  black;\n",
       "        }    #T_bd38e7cc_b375_11e9_b72b_9801a7978c49row4_col7 {\n",
       "            background-color:  #cae8ca;\n",
       "        }    #T_bd38e7cc_b375_11e9_b72b_9801a7978c49row5_col0 {\n",
       "            font-weight:  bold;\n",
       "        }    #T_bd38e7cc_b375_11e9_b72b_9801a7978c49row5_col4 {\n",
       "            color:  red;\n",
       "        }    #T_bd38e7cc_b375_11e9_b72b_9801a7978c49row5_col5 {\n",
       "            color:  black;\n",
       "        }    #T_bd38e7cc_b375_11e9_b72b_9801a7978c49row5_col6 {\n",
       "            color:  black;\n",
       "        }    #T_bd38e7cc_b375_11e9_b72b_9801a7978c49row5_col7 {\n",
       "            background-color:  #cde9cc;\n",
       "        }    #T_bd38e7cc_b375_11e9_b72b_9801a7978c49row6_col0 {\n",
       "            font-weight:  bold;\n",
       "        }    #T_bd38e7cc_b375_11e9_b72b_9801a7978c49row6_col4 {\n",
       "            color:  black;\n",
       "        }    #T_bd38e7cc_b375_11e9_b72b_9801a7978c49row6_col5 {\n",
       "            color:  black;\n",
       "        }    #T_bd38e7cc_b375_11e9_b72b_9801a7978c49row6_col6 {\n",
       "            color:  green;\n",
       "        }    #T_bd38e7cc_b375_11e9_b72b_9801a7978c49row6_col7 {\n",
       "            background-color:  #d0ebcf;\n",
       "        }    #T_bd38e7cc_b375_11e9_b72b_9801a7978c49row7_col0 {\n",
       "            font-weight:  bold;\n",
       "        }    #T_bd38e7cc_b375_11e9_b72b_9801a7978c49row7_col4 {\n",
       "            color:  black;\n",
       "        }    #T_bd38e7cc_b375_11e9_b72b_9801a7978c49row7_col5 {\n",
       "            color:  black;\n",
       "        }    #T_bd38e7cc_b375_11e9_b72b_9801a7978c49row7_col6 {\n",
       "            color:  black;\n",
       "        }    #T_bd38e7cc_b375_11e9_b72b_9801a7978c49row7_col7 {\n",
       "            background-color:  #dbf0db;\n",
       "        }    #T_bd38e7cc_b375_11e9_b72b_9801a7978c49row8_col0 {\n",
       "            font-weight:  bold;\n",
       "        }    #T_bd38e7cc_b375_11e9_b72b_9801a7978c49row8_col4 {\n",
       "            color:  black;\n",
       "        }    #T_bd38e7cc_b375_11e9_b72b_9801a7978c49row8_col5 {\n",
       "            color:  black;\n",
       "        }    #T_bd38e7cc_b375_11e9_b72b_9801a7978c49row8_col6 {\n",
       "            color:  black;\n",
       "        }    #T_bd38e7cc_b375_11e9_b72b_9801a7978c49row8_col7 {\n",
       "            background-color:  #dbf0db;\n",
       "        }    #T_bd38e7cc_b375_11e9_b72b_9801a7978c49row9_col0 {\n",
       "            font-weight:  bold;\n",
       "        }    #T_bd38e7cc_b375_11e9_b72b_9801a7978c49row9_col4 {\n",
       "            color:  black;\n",
       "        }    #T_bd38e7cc_b375_11e9_b72b_9801a7978c49row9_col5 {\n",
       "            color:  black;\n",
       "        }    #T_bd38e7cc_b375_11e9_b72b_9801a7978c49row9_col6 {\n",
       "            color:  black;\n",
       "        }    #T_bd38e7cc_b375_11e9_b72b_9801a7978c49row9_col7 {\n",
       "            background-color:  #e0f2e0;\n",
       "        }    #T_bd38e7cc_b375_11e9_b72b_9801a7978c49row10_col0 {\n",
       "            font-weight:  bold;\n",
       "        }    #T_bd38e7cc_b375_11e9_b72b_9801a7978c49row10_col4 {\n",
       "            color:  black;\n",
       "        }    #T_bd38e7cc_b375_11e9_b72b_9801a7978c49row10_col5 {\n",
       "            color:  black;\n",
       "        }    #T_bd38e7cc_b375_11e9_b72b_9801a7978c49row10_col6 {\n",
       "            color:  black;\n",
       "        }    #T_bd38e7cc_b375_11e9_b72b_9801a7978c49row10_col7 {\n",
       "            background-color:  #e4f4e3;\n",
       "        }    #T_bd38e7cc_b375_11e9_b72b_9801a7978c49row11_col0 {\n",
       "            font-weight:  bold;\n",
       "        }    #T_bd38e7cc_b375_11e9_b72b_9801a7978c49row11_col4 {\n",
       "            color:  black;\n",
       "        }    #T_bd38e7cc_b375_11e9_b72b_9801a7978c49row11_col5 {\n",
       "            color:  black;\n",
       "        }    #T_bd38e7cc_b375_11e9_b72b_9801a7978c49row11_col6 {\n",
       "            color:  black;\n",
       "        }    #T_bd38e7cc_b375_11e9_b72b_9801a7978c49row11_col7 {\n",
       "            background-color:  #e4f4e4;\n",
       "        }    #T_bd38e7cc_b375_11e9_b72b_9801a7978c49row12_col0 {\n",
       "            font-weight:  bold;\n",
       "        }    #T_bd38e7cc_b375_11e9_b72b_9801a7978c49row12_col4 {\n",
       "            color:  black;\n",
       "        }    #T_bd38e7cc_b375_11e9_b72b_9801a7978c49row12_col5 {\n",
       "            color:  black;\n",
       "        }    #T_bd38e7cc_b375_11e9_b72b_9801a7978c49row12_col6 {\n",
       "            color:  black;\n",
       "        }    #T_bd38e7cc_b375_11e9_b72b_9801a7978c49row12_col7 {\n",
       "            background-color:  #e4f4e4;\n",
       "        }    #T_bd38e7cc_b375_11e9_b72b_9801a7978c49row13_col0 {\n",
       "            font-weight:  bold;\n",
       "        }    #T_bd38e7cc_b375_11e9_b72b_9801a7978c49row13_col4 {\n",
       "            color:  black;\n",
       "        }    #T_bd38e7cc_b375_11e9_b72b_9801a7978c49row13_col5 {\n",
       "            color:  black;\n",
       "        }    #T_bd38e7cc_b375_11e9_b72b_9801a7978c49row13_col6 {\n",
       "            color:  black;\n",
       "        }    #T_bd38e7cc_b375_11e9_b72b_9801a7978c49row13_col7 {\n",
       "            background-color:  #e9f6e9;\n",
       "        }    #T_bd38e7cc_b375_11e9_b72b_9801a7978c49row14_col0 {\n",
       "            font-weight:  bold;\n",
       "        }    #T_bd38e7cc_b375_11e9_b72b_9801a7978c49row14_col4 {\n",
       "            color:  black;\n",
       "        }    #T_bd38e7cc_b375_11e9_b72b_9801a7978c49row14_col5 {\n",
       "            color:  black;\n",
       "        }    #T_bd38e7cc_b375_11e9_b72b_9801a7978c49row14_col6 {\n",
       "            color:  black;\n",
       "        }    #T_bd38e7cc_b375_11e9_b72b_9801a7978c49row14_col7 {\n",
       "            background-color:  #eaf6e9;\n",
       "        }    #T_bd38e7cc_b375_11e9_b72b_9801a7978c49row15_col0 {\n",
       "            font-weight:  bold;\n",
       "        }    #T_bd38e7cc_b375_11e9_b72b_9801a7978c49row15_col4 {\n",
       "            color:  black;\n",
       "        }    #T_bd38e7cc_b375_11e9_b72b_9801a7978c49row15_col5 {\n",
       "            color:  black;\n",
       "        }    #T_bd38e7cc_b375_11e9_b72b_9801a7978c49row15_col6 {\n",
       "            color:  black;\n",
       "        }    #T_bd38e7cc_b375_11e9_b72b_9801a7978c49row15_col7 {\n",
       "            background-color:  #eaf7ea;\n",
       "        }    #T_bd38e7cc_b375_11e9_b72b_9801a7978c49row16_col0 {\n",
       "            font-weight:  bold;\n",
       "        }    #T_bd38e7cc_b375_11e9_b72b_9801a7978c49row16_col4 {\n",
       "            color:  red;\n",
       "        }    #T_bd38e7cc_b375_11e9_b72b_9801a7978c49row16_col5 {\n",
       "            color:  black;\n",
       "        }    #T_bd38e7cc_b375_11e9_b72b_9801a7978c49row16_col6 {\n",
       "            color:  black;\n",
       "        }    #T_bd38e7cc_b375_11e9_b72b_9801a7978c49row16_col7 {\n",
       "            background-color:  #eaf7ea;\n",
       "        }    #T_bd38e7cc_b375_11e9_b72b_9801a7978c49row17_col0 {\n",
       "            font-weight:  bold;\n",
       "        }    #T_bd38e7cc_b375_11e9_b72b_9801a7978c49row17_col4 {\n",
       "            color:  black;\n",
       "        }    #T_bd38e7cc_b375_11e9_b72b_9801a7978c49row17_col5 {\n",
       "            color:  black;\n",
       "        }    #T_bd38e7cc_b375_11e9_b72b_9801a7978c49row17_col6 {\n",
       "            color:  black;\n",
       "        }    #T_bd38e7cc_b375_11e9_b72b_9801a7978c49row17_col7 {\n",
       "            background-color:  #ebf7eb;\n",
       "        }    #T_bd38e7cc_b375_11e9_b72b_9801a7978c49row18_col0 {\n",
       "            font-weight:  bold;\n",
       "        }    #T_bd38e7cc_b375_11e9_b72b_9801a7978c49row18_col4 {\n",
       "            color:  red;\n",
       "        }    #T_bd38e7cc_b375_11e9_b72b_9801a7978c49row18_col5 {\n",
       "            color:  green;\n",
       "        }    #T_bd38e7cc_b375_11e9_b72b_9801a7978c49row18_col6 {\n",
       "            color:  black;\n",
       "        }    #T_bd38e7cc_b375_11e9_b72b_9801a7978c49row18_col7 {\n",
       "            background-color:  #edf8ed;\n",
       "        }    #T_bd38e7cc_b375_11e9_b72b_9801a7978c49row19_col0 {\n",
       "            font-weight:  bold;\n",
       "        }    #T_bd38e7cc_b375_11e9_b72b_9801a7978c49row19_col4 {\n",
       "            color:  black;\n",
       "        }    #T_bd38e7cc_b375_11e9_b72b_9801a7978c49row19_col5 {\n",
       "            color:  black;\n",
       "        }    #T_bd38e7cc_b375_11e9_b72b_9801a7978c49row19_col6 {\n",
       "            color:  black;\n",
       "        }    #T_bd38e7cc_b375_11e9_b72b_9801a7978c49row19_col7 {\n",
       "            background-color:  #edf8ed;\n",
       "        }</style>  \n",
       "<table id=\"T_bd38e7cc_b375_11e9_b72b_9801a7978c49\" ><caption>Top Forwards:</caption> \n",
       "<thead>    <tr> \n",
       "        <th class=\"blank level0\" ></th> \n",
       "        <th class=\"col_heading level0 col0\" >name</th> \n",
       "        <th class=\"col_heading level0 col1\" >games</th> \n",
       "        <th class=\"col_heading level0 col2\" >points</th> \n",
       "        <th class=\"col_heading level0 col3\" >value</th> \n",
       "        <th class=\"col_heading level0 col4\" >cards</th> \n",
       "        <th class=\"col_heading level0 col5\" >points_per_million</th> \n",
       "        <th class=\"col_heading level0 col6\" >points_per_game</th> \n",
       "        <th class=\"col_heading level0 col7\" >pct_lineup</th> \n",
       "    </tr></thead> \n",
       "<tbody>    <tr> \n",
       "        <th id=\"T_bd38e7cc_b375_11e9_b72b_9801a7978c49level0_row0\" class=\"row_heading level0 row0\" >157</th> \n",
       "        <td id=\"T_bd38e7cc_b375_11e9_b72b_9801a7978c49row0_col0\" class=\"data row0 col0\" >Messi</td> \n",
       "        <td id=\"T_bd38e7cc_b375_11e9_b72b_9801a7978c49row0_col1\" class=\"data row0 col1\" >34</td> \n",
       "        <td id=\"T_bd38e7cc_b375_11e9_b72b_9801a7978c49row0_col2\" class=\"data row0 col2\" >428</td> \n",
       "        <td id=\"T_bd38e7cc_b375_11e9_b72b_9801a7978c49row0_col3\" class=\"data row0 col3\" >22.8M</td> \n",
       "        <td id=\"T_bd38e7cc_b375_11e9_b72b_9801a7978c49row0_col4\" class=\"data row0 col4\" >3</td> \n",
       "        <td id=\"T_bd38e7cc_b375_11e9_b72b_9801a7978c49row0_col5\" class=\"data row0 col5\" >18.76</td> \n",
       "        <td id=\"T_bd38e7cc_b375_11e9_b72b_9801a7978c49row0_col6\" class=\"data row0 col6\" >12.6</td> \n",
       "        <td id=\"T_bd38e7cc_b375_11e9_b72b_9801a7978c49row0_col7\" class=\"data row0 col7\" >42.6</td> \n",
       "    </tr>    <tr> \n",
       "        <th id=\"T_bd38e7cc_b375_11e9_b72b_9801a7978c49level0_row1\" class=\"row_heading level0 row1\" >122</th> \n",
       "        <td id=\"T_bd38e7cc_b375_11e9_b72b_9801a7978c49row1_col0\" class=\"data row1 col0\" >Jorge Molina</td> \n",
       "        <td id=\"T_bd38e7cc_b375_11e9_b72b_9801a7978c49row1_col1\" class=\"data row1 col1\" >38</td> \n",
       "        <td id=\"T_bd38e7cc_b375_11e9_b72b_9801a7978c49row1_col2\" class=\"data row1 col2\" >244</td> \n",
       "        <td id=\"T_bd38e7cc_b375_11e9_b72b_9801a7978c49row1_col3\" class=\"data row1 col3\" >6.49M</td> \n",
       "        <td id=\"T_bd38e7cc_b375_11e9_b72b_9801a7978c49row1_col4\" class=\"data row1 col4\" >2</td> \n",
       "        <td id=\"T_bd38e7cc_b375_11e9_b72b_9801a7978c49row1_col5\" class=\"data row1 col5\" >37.6</td> \n",
       "        <td id=\"T_bd38e7cc_b375_11e9_b72b_9801a7978c49row1_col6\" class=\"data row1 col6\" >6.42</td> \n",
       "        <td id=\"T_bd38e7cc_b375_11e9_b72b_9801a7978c49row1_col7\" class=\"data row1 col7\" >19</td> \n",
       "    </tr>    <tr> \n",
       "        <th id=\"T_bd38e7cc_b375_11e9_b72b_9801a7978c49level0_row2\" class=\"row_heading level0 row2\" >20</th> \n",
       "        <td id=\"T_bd38e7cc_b375_11e9_b72b_9801a7978c49row2_col0\" class=\"data row2 col0\" >Ben Yedder</td> \n",
       "        <td id=\"T_bd38e7cc_b375_11e9_b72b_9801a7978c49row2_col1\" class=\"data row2 col1\" >35</td> \n",
       "        <td id=\"T_bd38e7cc_b375_11e9_b72b_9801a7978c49row2_col2\" class=\"data row2 col2\" >246</td> \n",
       "        <td id=\"T_bd38e7cc_b375_11e9_b72b_9801a7978c49row2_col3\" class=\"data row2 col3\" >7.63M</td> \n",
       "        <td id=\"T_bd38e7cc_b375_11e9_b72b_9801a7978c49row2_col4\" class=\"data row2 col4\" >4</td> \n",
       "        <td id=\"T_bd38e7cc_b375_11e9_b72b_9801a7978c49row2_col5\" class=\"data row2 col5\" >32.24</td> \n",
       "        <td id=\"T_bd38e7cc_b375_11e9_b72b_9801a7978c49row2_col6\" class=\"data row2 col6\" >7.03</td> \n",
       "        <td id=\"T_bd38e7cc_b375_11e9_b72b_9801a7978c49row2_col7\" class=\"data row2 col7\" >17.4</td> \n",
       "    </tr>    <tr> \n",
       "        <th id=\"T_bd38e7cc_b375_11e9_b72b_9801a7978c49level0_row3\" class=\"row_heading level0 row3\" >21</th> \n",
       "        <td id=\"T_bd38e7cc_b375_11e9_b72b_9801a7978c49row3_col0\" class=\"data row3 col0\" >Benzema</td> \n",
       "        <td id=\"T_bd38e7cc_b375_11e9_b72b_9801a7978c49row3_col1\" class=\"data row3 col1\" >36</td> \n",
       "        <td id=\"T_bd38e7cc_b375_11e9_b72b_9801a7978c49row3_col2\" class=\"data row3 col2\" >263</td> \n",
       "        <td id=\"T_bd38e7cc_b375_11e9_b72b_9801a7978c49row3_col3\" class=\"data row3 col3\" >10.9M</td> \n",
       "        <td id=\"T_bd38e7cc_b375_11e9_b72b_9801a7978c49row3_col4\" class=\"data row3 col4\" >1</td> \n",
       "        <td id=\"T_bd38e7cc_b375_11e9_b72b_9801a7978c49row3_col5\" class=\"data row3 col5\" >24.08</td> \n",
       "        <td id=\"T_bd38e7cc_b375_11e9_b72b_9801a7978c49row3_col6\" class=\"data row3 col6\" >7.31</td> \n",
       "        <td id=\"T_bd38e7cc_b375_11e9_b72b_9801a7978c49row3_col7\" class=\"data row3 col7\" >15.1</td> \n",
       "    </tr>    <tr> \n",
       "        <th id=\"T_bd38e7cc_b375_11e9_b72b_9801a7978c49level0_row4\" class=\"row_heading level0 row4\" >44</th> \n",
       "        <td id=\"T_bd38e7cc_b375_11e9_b72b_9801a7978c49row4_col0\" class=\"data row4 col0\" >Charles</td> \n",
       "        <td id=\"T_bd38e7cc_b375_11e9_b72b_9801a7978c49row4_col1\" class=\"data row4 col1\" >34</td> \n",
       "        <td id=\"T_bd38e7cc_b375_11e9_b72b_9801a7978c49row4_col2\" class=\"data row4 col2\" >185</td> \n",
       "        <td id=\"T_bd38e7cc_b375_11e9_b72b_9801a7978c49row4_col3\" class=\"data row4 col3\" >2.62M</td> \n",
       "        <td id=\"T_bd38e7cc_b375_11e9_b72b_9801a7978c49row4_col4\" class=\"data row4 col4\" >4</td> \n",
       "        <td id=\"T_bd38e7cc_b375_11e9_b72b_9801a7978c49row4_col5\" class=\"data row4 col5\" >70.61</td> \n",
       "        <td id=\"T_bd38e7cc_b375_11e9_b72b_9801a7978c49row4_col6\" class=\"data row4 col6\" >5.44</td> \n",
       "        <td id=\"T_bd38e7cc_b375_11e9_b72b_9801a7978c49row4_col7\" class=\"data row4 col7\" >13.5</td> \n",
       "    </tr>    <tr> \n",
       "        <th id=\"T_bd38e7cc_b375_11e9_b72b_9801a7978c49level0_row5\" class=\"row_heading level0 row5\" >112</th> \n",
       "        <td id=\"T_bd38e7cc_b375_11e9_b72b_9801a7978c49row5_col0\" class=\"data row5 col0\" >Jaime Mata</td> \n",
       "        <td id=\"T_bd38e7cc_b375_11e9_b72b_9801a7978c49row5_col1\" class=\"data row5 col1\" >34</td> \n",
       "        <td id=\"T_bd38e7cc_b375_11e9_b72b_9801a7978c49row5_col2\" class=\"data row5 col2\" >209</td> \n",
       "        <td id=\"T_bd38e7cc_b375_11e9_b72b_9801a7978c49row5_col3\" class=\"data row5 col3\" >6.77M</td> \n",
       "        <td id=\"T_bd38e7cc_b375_11e9_b72b_9801a7978c49row5_col4\" class=\"data row5 col4\" >10</td> \n",
       "        <td id=\"T_bd38e7cc_b375_11e9_b72b_9801a7978c49row5_col5\" class=\"data row5 col5\" >30.87</td> \n",
       "        <td id=\"T_bd38e7cc_b375_11e9_b72b_9801a7978c49row5_col6\" class=\"data row5 col6\" >6.15</td> \n",
       "        <td id=\"T_bd38e7cc_b375_11e9_b72b_9801a7978c49row5_col7\" class=\"data row5 col7\" >12.9</td> \n",
       "    </tr>    <tr> \n",
       "        <th id=\"T_bd38e7cc_b375_11e9_b72b_9801a7978c49level0_row6\" class=\"row_heading level0 row6\" >140</th> \n",
       "        <td id=\"T_bd38e7cc_b375_11e9_b72b_9801a7978c49row6_col0\" class=\"data row6 col0\" >Luis Suárez</td> \n",
       "        <td id=\"T_bd38e7cc_b375_11e9_b72b_9801a7978c49row6_col1\" class=\"data row6 col1\" >33</td> \n",
       "        <td id=\"T_bd38e7cc_b375_11e9_b72b_9801a7978c49row6_col2\" class=\"data row6 col2\" >262</td> \n",
       "        <td id=\"T_bd38e7cc_b375_11e9_b72b_9801a7978c49row6_col3\" class=\"data row6 col3\" >11.8M</td> \n",
       "        <td id=\"T_bd38e7cc_b375_11e9_b72b_9801a7978c49row6_col4\" class=\"data row6 col4\" >5</td> \n",
       "        <td id=\"T_bd38e7cc_b375_11e9_b72b_9801a7978c49row6_col5\" class=\"data row6 col5\" >22.28</td> \n",
       "        <td id=\"T_bd38e7cc_b375_11e9_b72b_9801a7978c49row6_col6\" class=\"data row6 col6\" >7.94</td> \n",
       "        <td id=\"T_bd38e7cc_b375_11e9_b72b_9801a7978c49row6_col7\" class=\"data row6 col7\" >12.4</td> \n",
       "    </tr>    <tr> \n",
       "        <th id=\"T_bd38e7cc_b375_11e9_b72b_9801a7978c49level0_row7\" class=\"row_heading level0 row7\" >95</th> \n",
       "        <td id=\"T_bd38e7cc_b375_11e9_b72b_9801a7978c49row7_col0\" class=\"data row7 col0\" >Griezmann</td> \n",
       "        <td id=\"T_bd38e7cc_b375_11e9_b72b_9801a7978c49row7_col1\" class=\"data row7 col1\" >37</td> \n",
       "        <td id=\"T_bd38e7cc_b375_11e9_b72b_9801a7978c49row7_col2\" class=\"data row7 col2\" >244</td> \n",
       "        <td id=\"T_bd38e7cc_b375_11e9_b72b_9801a7978c49row7_col3\" class=\"data row7 col3\" >11.7M</td> \n",
       "        <td id=\"T_bd38e7cc_b375_11e9_b72b_9801a7978c49row7_col4\" class=\"data row7 col4\" >5</td> \n",
       "        <td id=\"T_bd38e7cc_b375_11e9_b72b_9801a7978c49row7_col5\" class=\"data row7 col5\" >20.84</td> \n",
       "        <td id=\"T_bd38e7cc_b375_11e9_b72b_9801a7978c49row7_col6\" class=\"data row7 col6\" >6.59</td> \n",
       "        <td id=\"T_bd38e7cc_b375_11e9_b72b_9801a7978c49row7_col7\" class=\"data row7 col7\" >9.9</td> \n",
       "    </tr>    <tr> \n",
       "        <th id=\"T_bd38e7cc_b375_11e9_b72b_9801a7978c49level0_row8\" class=\"row_heading level0 row8\" >24</th> \n",
       "        <td id=\"T_bd38e7cc_b375_11e9_b72b_9801a7978c49row8_col0\" class=\"data row8 col0\" >Borja Iglesias</td> \n",
       "        <td id=\"T_bd38e7cc_b375_11e9_b72b_9801a7978c49row8_col1\" class=\"data row8 col1\" >37</td> \n",
       "        <td id=\"T_bd38e7cc_b375_11e9_b72b_9801a7978c49row8_col2\" class=\"data row8 col2\" >239</td> \n",
       "        <td id=\"T_bd38e7cc_b375_11e9_b72b_9801a7978c49row8_col3\" class=\"data row8 col3\" >9.85M</td> \n",
       "        <td id=\"T_bd38e7cc_b375_11e9_b72b_9801a7978c49row8_col4\" class=\"data row8 col4\" >5</td> \n",
       "        <td id=\"T_bd38e7cc_b375_11e9_b72b_9801a7978c49row8_col5\" class=\"data row8 col5\" >24.26</td> \n",
       "        <td id=\"T_bd38e7cc_b375_11e9_b72b_9801a7978c49row8_col6\" class=\"data row8 col6\" >6.46</td> \n",
       "        <td id=\"T_bd38e7cc_b375_11e9_b72b_9801a7978c49row8_col7\" class=\"data row8 col7\" >9.9</td> \n",
       "    </tr>    <tr> \n",
       "        <th id=\"T_bd38e7cc_b375_11e9_b72b_9801a7978c49level0_row9\" class=\"row_heading level0 row9\" >65</th> \n",
       "        <td id=\"T_bd38e7cc_b375_11e9_b72b_9801a7978c49row9_col0\" class=\"data row9 col0\" >Dembélé</td> \n",
       "        <td id=\"T_bd38e7cc_b375_11e9_b72b_9801a7978c49row9_col1\" class=\"data row9 col1\" >29</td> \n",
       "        <td id=\"T_bd38e7cc_b375_11e9_b72b_9801a7978c49row9_col2\" class=\"data row9 col2\" >179</td> \n",
       "        <td id=\"T_bd38e7cc_b375_11e9_b72b_9801a7978c49row9_col3\" class=\"data row9 col3\" >4.2M</td> \n",
       "        <td id=\"T_bd38e7cc_b375_11e9_b72b_9801a7978c49row9_col4\" class=\"data row9 col4\" >1</td> \n",
       "        <td id=\"T_bd38e7cc_b375_11e9_b72b_9801a7978c49row9_col5\" class=\"data row9 col5\" >42.62</td> \n",
       "        <td id=\"T_bd38e7cc_b375_11e9_b72b_9801a7978c49row9_col6\" class=\"data row9 col6\" >6.17</td> \n",
       "        <td id=\"T_bd38e7cc_b375_11e9_b72b_9801a7978c49row9_col7\" class=\"data row9 col7\" >8.8</td> \n",
       "    </tr>    <tr> \n",
       "        <th id=\"T_bd38e7cc_b375_11e9_b72b_9801a7978c49level0_row10\" class=\"row_heading level0 row10\" >209</th> \n",
       "        <td id=\"T_bd38e7cc_b375_11e9_b72b_9801a7978c49row10_col0\" class=\"data row10 col0\" >Sergi Enrich</td> \n",
       "        <td id=\"T_bd38e7cc_b375_11e9_b72b_9801a7978c49row10_col1\" class=\"data row10 col1\" >35</td> \n",
       "        <td id=\"T_bd38e7cc_b375_11e9_b72b_9801a7978c49row10_col2\" class=\"data row10 col2\" >172</td> \n",
       "        <td id=\"T_bd38e7cc_b375_11e9_b72b_9801a7978c49row10_col3\" class=\"data row10 col3\" >3.32M</td> \n",
       "        <td id=\"T_bd38e7cc_b375_11e9_b72b_9801a7978c49row10_col4\" class=\"data row10 col4\" >4</td> \n",
       "        <td id=\"T_bd38e7cc_b375_11e9_b72b_9801a7978c49row10_col5\" class=\"data row10 col5\" >51.81</td> \n",
       "        <td id=\"T_bd38e7cc_b375_11e9_b72b_9801a7978c49row10_col6\" class=\"data row10 col6\" >4.91</td> \n",
       "        <td id=\"T_bd38e7cc_b375_11e9_b72b_9801a7978c49row10_col7\" class=\"data row10 col7\" >8.1</td> \n",
       "    </tr>    <tr> \n",
       "        <th id=\"T_bd38e7cc_b375_11e9_b72b_9801a7978c49level0_row11\" class=\"row_heading level0 row11\" >238</th> \n",
       "        <td id=\"T_bd38e7cc_b375_11e9_b72b_9801a7978c49row11_col0\" class=\"data row11 col0\" >Williams</td> \n",
       "        <td id=\"T_bd38e7cc_b375_11e9_b72b_9801a7978c49row11_col1\" class=\"data row11 col1\" >38</td> \n",
       "        <td id=\"T_bd38e7cc_b375_11e9_b72b_9801a7978c49row11_col2\" class=\"data row11 col2\" >209</td> \n",
       "        <td id=\"T_bd38e7cc_b375_11e9_b72b_9801a7978c49row11_col3\" class=\"data row11 col3\" >7.72M</td> \n",
       "        <td id=\"T_bd38e7cc_b375_11e9_b72b_9801a7978c49row11_col4\" class=\"data row11 col4\" >3</td> \n",
       "        <td id=\"T_bd38e7cc_b375_11e9_b72b_9801a7978c49row11_col5\" class=\"data row11 col5\" >27.07</td> \n",
       "        <td id=\"T_bd38e7cc_b375_11e9_b72b_9801a7978c49row11_col6\" class=\"data row11 col6\" >5.5</td> \n",
       "        <td id=\"T_bd38e7cc_b375_11e9_b72b_9801a7978c49row11_col7\" class=\"data row11 col7\" >8</td> \n",
       "    </tr>    <tr> \n",
       "        <th id=\"T_bd38e7cc_b375_11e9_b72b_9801a7978c49level0_row12\" class=\"row_heading level0 row12\" >248</th> \n",
       "        <td id=\"T_bd38e7cc_b375_11e9_b72b_9801a7978c49row12_col0\" class=\"data row12 col0\" >Ángel Rodríguez</td> \n",
       "        <td id=\"T_bd38e7cc_b375_11e9_b72b_9801a7978c49row12_col1\" class=\"data row12 col1\" >37</td> \n",
       "        <td id=\"T_bd38e7cc_b375_11e9_b72b_9801a7978c49row12_col2\" class=\"data row12 col2\" >172</td> \n",
       "        <td id=\"T_bd38e7cc_b375_11e9_b72b_9801a7978c49row12_col3\" class=\"data row12 col3\" >3.28M</td> \n",
       "        <td id=\"T_bd38e7cc_b375_11e9_b72b_9801a7978c49row12_col4\" class=\"data row12 col4\" >4</td> \n",
       "        <td id=\"T_bd38e7cc_b375_11e9_b72b_9801a7978c49row12_col5\" class=\"data row12 col5\" >52.44</td> \n",
       "        <td id=\"T_bd38e7cc_b375_11e9_b72b_9801a7978c49row12_col6\" class=\"data row12 col6\" >4.65</td> \n",
       "        <td id=\"T_bd38e7cc_b375_11e9_b72b_9801a7978c49row12_col7\" class=\"data row12 col7\" >7.9</td> \n",
       "    </tr>    <tr> \n",
       "        <th id=\"T_bd38e7cc_b375_11e9_b72b_9801a7978c49level0_row13\" class=\"row_heading level0 row13\" >194</th> \n",
       "        <td id=\"T_bd38e7cc_b375_11e9_b72b_9801a7978c49row13_col0\" class=\"data row13 col0\" >Roger</td> \n",
       "        <td id=\"T_bd38e7cc_b375_11e9_b72b_9801a7978c49row13_col1\" class=\"data row13 col1\" >31</td> \n",
       "        <td id=\"T_bd38e7cc_b375_11e9_b72b_9801a7978c49row13_col2\" class=\"data row13 col2\" >155</td> \n",
       "        <td id=\"T_bd38e7cc_b375_11e9_b72b_9801a7978c49row13_col3\" class=\"data row13 col3\" >2.09M</td> \n",
       "        <td id=\"T_bd38e7cc_b375_11e9_b72b_9801a7978c49row13_col4\" class=\"data row13 col4\" >4</td> \n",
       "        <td id=\"T_bd38e7cc_b375_11e9_b72b_9801a7978c49row13_col5\" class=\"data row13 col5\" >74.16</td> \n",
       "        <td id=\"T_bd38e7cc_b375_11e9_b72b_9801a7978c49row13_col6\" class=\"data row13 col6\" >5.0</td> \n",
       "        <td id=\"T_bd38e7cc_b375_11e9_b72b_9801a7978c49row13_col7\" class=\"data row13 col7\" >6.9</td> \n",
       "    </tr>    <tr> \n",
       "        <th id=\"T_bd38e7cc_b375_11e9_b72b_9801a7978c49level0_row14\" class=\"row_heading level0 row14\" >75</th> \n",
       "        <td id=\"T_bd38e7cc_b375_11e9_b72b_9801a7978c49row14_col0\" class=\"data row14 col0\" >En-Nesyri</td> \n",
       "        <td id=\"T_bd38e7cc_b375_11e9_b72b_9801a7978c49row14_col1\" class=\"data row14 col1\" >31</td> \n",
       "        <td id=\"T_bd38e7cc_b375_11e9_b72b_9801a7978c49row14_col2\" class=\"data row14 col2\" >161</td> \n",
       "        <td id=\"T_bd38e7cc_b375_11e9_b72b_9801a7978c49row14_col3\" class=\"data row14 col3\" >3.28M</td> \n",
       "        <td id=\"T_bd38e7cc_b375_11e9_b72b_9801a7978c49row14_col4\" class=\"data row14 col4\" >7</td> \n",
       "        <td id=\"T_bd38e7cc_b375_11e9_b72b_9801a7978c49row14_col5\" class=\"data row14 col5\" >49.09</td> \n",
       "        <td id=\"T_bd38e7cc_b375_11e9_b72b_9801a7978c49row14_col6\" class=\"data row14 col6\" >5.19</td> \n",
       "        <td id=\"T_bd38e7cc_b375_11e9_b72b_9801a7978c49row14_col7\" class=\"data row14 col7\" >6.8</td> \n",
       "    </tr>    <tr> \n",
       "        <th id=\"T_bd38e7cc_b375_11e9_b72b_9801a7978c49level0_row15\" class=\"row_heading level0 row15\" >152</th> \n",
       "        <td id=\"T_bd38e7cc_b375_11e9_b72b_9801a7978c49row15_col0\" class=\"data row15 col0\" >Maxi Gómez</td> \n",
       "        <td id=\"T_bd38e7cc_b375_11e9_b72b_9801a7978c49row15_col1\" class=\"data row15 col1\" >35</td> \n",
       "        <td id=\"T_bd38e7cc_b375_11e9_b72b_9801a7978c49row15_col2\" class=\"data row15 col2\" >195</td> \n",
       "        <td id=\"T_bd38e7cc_b375_11e9_b72b_9801a7978c49row15_col3\" class=\"data row15 col3\" >6.81M</td> \n",
       "        <td id=\"T_bd38e7cc_b375_11e9_b72b_9801a7978c49row15_col4\" class=\"data row15 col4\" >6</td> \n",
       "        <td id=\"T_bd38e7cc_b375_11e9_b72b_9801a7978c49row15_col5\" class=\"data row15 col5\" >28.63</td> \n",
       "        <td id=\"T_bd38e7cc_b375_11e9_b72b_9801a7978c49row15_col6\" class=\"data row15 col6\" >5.57</td> \n",
       "        <td id=\"T_bd38e7cc_b375_11e9_b72b_9801a7978c49row15_col7\" class=\"data row15 col7\" >6.7</td> \n",
       "    </tr>    <tr> \n",
       "        <th id=\"T_bd38e7cc_b375_11e9_b72b_9801a7978c49level0_row16\" class=\"row_heading level0 row16\" >80</th> \n",
       "        <td id=\"T_bd38e7cc_b375_11e9_b72b_9801a7978c49row16_col0\" class=\"data row16 col0\" >Ezequiel Ávila</td> \n",
       "        <td id=\"T_bd38e7cc_b375_11e9_b72b_9801a7978c49row16_col1\" class=\"data row16 col1\" >34</td> \n",
       "        <td id=\"T_bd38e7cc_b375_11e9_b72b_9801a7978c49row16_col2\" class=\"data row16 col2\" >179</td> \n",
       "        <td id=\"T_bd38e7cc_b375_11e9_b72b_9801a7978c49row16_col3\" class=\"data row16 col3\" >4.01M</td> \n",
       "        <td id=\"T_bd38e7cc_b375_11e9_b72b_9801a7978c49row16_col4\" class=\"data row16 col4\" >12</td> \n",
       "        <td id=\"T_bd38e7cc_b375_11e9_b72b_9801a7978c49row16_col5\" class=\"data row16 col5\" >44.64</td> \n",
       "        <td id=\"T_bd38e7cc_b375_11e9_b72b_9801a7978c49row16_col6\" class=\"data row16 col6\" >5.26</td> \n",
       "        <td id=\"T_bd38e7cc_b375_11e9_b72b_9801a7978c49row16_col7\" class=\"data row16 col7\" >6.7</td> \n",
       "    </tr>    <tr> \n",
       "        <th id=\"T_bd38e7cc_b375_11e9_b72b_9801a7978c49level0_row17\" class=\"row_heading level0 row17\" >92</th> \n",
       "        <td id=\"T_bd38e7cc_b375_11e9_b72b_9801a7978c49row17_col0\" class=\"data row17 col0\" >Gerard Moreno</td> \n",
       "        <td id=\"T_bd38e7cc_b375_11e9_b72b_9801a7978c49row17_col1\" class=\"data row17 col1\" >35</td> \n",
       "        <td id=\"T_bd38e7cc_b375_11e9_b72b_9801a7978c49row17_col2\" class=\"data row17 col2\" >157</td> \n",
       "        <td id=\"T_bd38e7cc_b375_11e9_b72b_9801a7978c49row17_col3\" class=\"data row17 col3\" >3.8M</td> \n",
       "        <td id=\"T_bd38e7cc_b375_11e9_b72b_9801a7978c49row17_col4\" class=\"data row17 col4\" >3</td> \n",
       "        <td id=\"T_bd38e7cc_b375_11e9_b72b_9801a7978c49row17_col5\" class=\"data row17 col5\" >41.32</td> \n",
       "        <td id=\"T_bd38e7cc_b375_11e9_b72b_9801a7978c49row17_col6\" class=\"data row17 col6\" >4.49</td> \n",
       "        <td id=\"T_bd38e7cc_b375_11e9_b72b_9801a7978c49row17_col7\" class=\"data row17 col7\" >6.3</td> \n",
       "    </tr>    <tr> \n",
       "        <th id=\"T_bd38e7cc_b375_11e9_b72b_9801a7978c49level0_row18\" class=\"row_heading level0 row18\" >249</th> \n",
       "        <td id=\"T_bd38e7cc_b375_11e9_b72b_9801a7978c49row18_col0\" class=\"data row18 col0\" >Óscar Plano</td> \n",
       "        <td id=\"T_bd38e7cc_b375_11e9_b72b_9801a7978c49row18_col1\" class=\"data row18 col1\" >33</td> \n",
       "        <td id=\"T_bd38e7cc_b375_11e9_b72b_9801a7978c49row18_col2\" class=\"data row18 col2\" >140</td> \n",
       "        <td id=\"T_bd38e7cc_b375_11e9_b72b_9801a7978c49row18_col3\" class=\"data row18 col3\" >1.27M</td> \n",
       "        <td id=\"T_bd38e7cc_b375_11e9_b72b_9801a7978c49row18_col4\" class=\"data row18 col4\" >8</td> \n",
       "        <td id=\"T_bd38e7cc_b375_11e9_b72b_9801a7978c49row18_col5\" class=\"data row18 col5\" >110.2</td> \n",
       "        <td id=\"T_bd38e7cc_b375_11e9_b72b_9801a7978c49row18_col6\" class=\"data row18 col6\" >4.24</td> \n",
       "        <td id=\"T_bd38e7cc_b375_11e9_b72b_9801a7978c49row18_col7\" class=\"data row18 col7\" >6.1</td> \n",
       "    </tr>    <tr> \n",
       "        <th id=\"T_bd38e7cc_b375_11e9_b72b_9801a7978c49level0_row19\" class=\"row_heading level0 row19\" >74</th> \n",
       "        <td id=\"T_bd38e7cc_b375_11e9_b72b_9801a7978c49row19_col0\" class=\"data row19 col0\" >Ekambi</td> \n",
       "        <td id=\"T_bd38e7cc_b375_11e9_b72b_9801a7978c49row19_col1\" class=\"data row19 col1\" >34</td> \n",
       "        <td id=\"T_bd38e7cc_b375_11e9_b72b_9801a7978c49row19_col2\" class=\"data row19 col2\" >169</td> \n",
       "        <td id=\"T_bd38e7cc_b375_11e9_b72b_9801a7978c49row19_col3\" class=\"data row19 col3\" >3.75M</td> \n",
       "        <td id=\"T_bd38e7cc_b375_11e9_b72b_9801a7978c49row19_col4\" class=\"data row19 col4\" >5</td> \n",
       "        <td id=\"T_bd38e7cc_b375_11e9_b72b_9801a7978c49row19_col5\" class=\"data row19 col5\" >45.07</td> \n",
       "        <td id=\"T_bd38e7cc_b375_11e9_b72b_9801a7978c49row19_col6\" class=\"data row19 col6\" >4.97</td> \n",
       "        <td id=\"T_bd38e7cc_b375_11e9_b72b_9801a7978c49row19_col7\" class=\"data row19 col7\" >6</td> \n",
       "    </tr></tbody> \n",
       "</table> "
      ],
      "text/plain": [
       "<pandas.io.formats.style.Styler at 0x11b3c0fd0>"
      ]
     },
     "execution_count": 35,
     "metadata": {},
     "output_type": "execute_result"
    }
   ],
   "source": [
    "top_players_table(players, \"Forward\", k=20)"
   ]
  },
  {
   "cell_type": "code",
   "execution_count": 36,
   "metadata": {},
   "outputs": [
    {
     "data": {
      "application/vnd.plotly.v1+json": {
       "config": {
        "plotlyServerURL": "https://plot.ly"
       },
       "data": [
        {
         "hoverlabel": {
          "namelength": 0
         },
         "hovertemplate": "<b>%{hovertext}</b><br><br>points_per_game=%{x}<br>points_per_million=%{y}<br>pct_lineup=%{marker.size}<br>value=%{marker.color}",
         "hovertext": [
          "Aduriz",
          "Asensio",
          "Bacca",
          "Bale",
          "Ben Yedder",
          "Benzema",
          "Borja Iglesias",
          "Charles",
          "Dembélé",
          "Diego Costa",
          "Ekambi",
          "En-Nesyri",
          "Enes Ünal",
          "Enric Gallego",
          "Ezequiel Ávila",
          "Gameiro",
          "Gerard Moreno",
          "Griezmann",
          "Iago Aspas",
          "Jaime Mata",
          "Jorge Molina",
          "Juanmi",
          "Loren",
          "Luis Suárez",
          "Marc Cardona",
          "Maxi Gómez",
          "Mayoral",
          "Messi",
          "Munir",
          "Oyarzabal",
          "Portu",
          "Rodrigo",
          "Roger",
          "Sandro",
          "Santi Mina",
          "Sergi Enrich",
          "Sergi Guardiola",
          "Sergio León",
          "Vinícius",
          "Williams",
          "Willian José",
          "Wu Lei",
          "Ángel Rodríguez",
          "Óscar Plano"
         ],
         "legendgroup": "",
         "marker": {
          "color": [
           720000,
           1740000,
           1700000,
           1310000,
           7630000,
           10920000,
           9850000,
           2620000,
           4200000,
           3310000,
           3750000,
           3280000,
           1440000,
           3830000,
           4010000,
           3220000,
           3800000,
           11710000,
           14710000,
           6770000,
           6490000,
           3280000,
           1390000,
           11760000,
           850000,
           6810000,
           1200000,
           22820000,
           3140000,
           8520000,
           5470000,
           8210000,
           2090000,
           1950000,
           4430000,
           3320000,
           1960000,
           1540000,
           7320000,
           7720000,
           5380000,
           3300000,
           3280000,
           1270000
          ],
          "coloraxis": "coloraxis",
          "size": [
           0.2,
           2.5,
           3.6999999999999997,
           4.1000000000000005,
           17.4,
           15.1,
           9.9,
           13.5,
           8.799999999999999,
           0.3,
           6,
           6.800000000000001,
           4.3999999999999995,
           0.7000000000000001,
           6.7,
           3.8,
           6.3,
           9.9,
           4.5,
           12.9,
           19,
           2.1999999999999997,
           3.5999999999999996,
           12.4,
           0.5,
           6.7,
           2,
           42.6,
           2.1,
           5.800000000000001,
           3.9,
           4.3999999999999995,
           6.9,
           1,
           2.5,
           8.1,
           1.5,
           0.3,
           0.3,
           8,
           4.8,
           1.0999999999999999,
           7.9,
           6.1
          ],
          "sizemode": "area",
          "sizeref": 0.1065,
          "symbol": "circle"
         },
         "mode": "markers",
         "name": "",
         "showlegend": false,
         "type": "scatter",
         "x": [
          2.75,
          3.9,
          3.5757575757575757,
          4.344827586206897,
          7.0285714285714285,
          7.305555555555555,
          6.45945945945946,
          5.4411764705882355,
          6.172413793103448,
          2.4375,
          4.970588235294118,
          5.193548387096774,
          4.0606060606060606,
          5.578947368421052,
          5.264705882352941,
          4.121212121212121,
          4.485714285714286,
          6.594594594594595,
          9.11111111111111,
          6.147058823529412,
          6.421052631578948,
          3.6666666666666665,
          3.8181818181818183,
          7.9393939393939394,
          3.588235294117647,
          5.571428571428571,
          3.413793103448276,
          12.588235294117647,
          4.521739130434782,
          5.675675675675675,
          4.882352941176471,
          5.696969696969697,
          5,
          3.0833333333333335,
          4.533333333333333,
          4.914285714285715,
          4.1,
          2.125,
          4.833333333333333,
          5.5,
          5.32258064516129,
          4.75,
          4.648648648648648,
          4.242424242424242
         ],
         "xaxis": "x",
         "y": [
          76.38888888888889,
          67.24137931034483,
          69.41176470588235,
          96.18320610687023,
          32.241153342070774,
          24.084249084249084,
          24.263959390862944,
          70.61068702290076,
          42.61904761904762,
          11.782477341389727,
          45.06666666666667,
          49.08536585365854,
          93.05555555555556,
          27.676240208877285,
          44.63840399002494,
          42.2360248447205,
          41.315789473684205,
          20.836891545687447,
          16.72331747110809,
          30.871491875923187,
          37.59630200308167,
          33.53658536585366,
          90.64748201438849,
          22.27891156462585,
          71.76470588235293,
          28.634361233480174,
          82.5,
          18.755477651183174,
          33.12101910828026,
          24.64788732394366,
          30.347349177330894,
          22.89890377588307,
          74.16267942583733,
          37.94871794871795,
          30.699774266365687,
          51.80722891566265,
          41.83673469387755,
          22.07792207792208,
          11.885245901639344,
          27.072538860103627,
          30.66914498141264,
          23.03030303030303,
          52.4390243902439,
          110.23622047244095
         ],
         "yaxis": "y"
        }
       ],
       "layout": {
        "coloraxis": {
         "colorbar": {
          "title": {
           "text": "value"
          }
         },
         "colorscale": [
          [
           0,
           "#0d0887"
          ],
          [
           0.1111111111111111,
           "#46039f"
          ],
          [
           0.2222222222222222,
           "#7201a8"
          ],
          [
           0.3333333333333333,
           "#9c179e"
          ],
          [
           0.4444444444444444,
           "#bd3786"
          ],
          [
           0.5555555555555556,
           "#d8576b"
          ],
          [
           0.6666666666666666,
           "#ed7953"
          ],
          [
           0.7777777777777778,
           "#fb9f3a"
          ],
          [
           0.8888888888888888,
           "#fdca26"
          ],
          [
           1,
           "#f0f921"
          ]
         ]
        },
        "height": 600,
        "legend": {
         "itemsizing": "constant",
         "tracegroupgap": 0
        },
        "margin": {
         "t": 60
        },
        "template": {
         "data": {
          "bar": [
           {
            "error_x": {
             "color": "#2a3f5f"
            },
            "error_y": {
             "color": "#2a3f5f"
            },
            "marker": {
             "line": {
              "color": "#E5ECF6",
              "width": 0.5
             }
            },
            "type": "bar"
           }
          ],
          "barpolar": [
           {
            "marker": {
             "line": {
              "color": "#E5ECF6",
              "width": 0.5
             }
            },
            "type": "barpolar"
           }
          ],
          "carpet": [
           {
            "aaxis": {
             "endlinecolor": "#2a3f5f",
             "gridcolor": "white",
             "linecolor": "white",
             "minorgridcolor": "white",
             "startlinecolor": "#2a3f5f"
            },
            "baxis": {
             "endlinecolor": "#2a3f5f",
             "gridcolor": "white",
             "linecolor": "white",
             "minorgridcolor": "white",
             "startlinecolor": "#2a3f5f"
            },
            "type": "carpet"
           }
          ],
          "choropleth": [
           {
            "colorbar": {
             "outlinewidth": 0,
             "ticks": ""
            },
            "type": "choropleth"
           }
          ],
          "contour": [
           {
            "colorbar": {
             "outlinewidth": 0,
             "ticks": ""
            },
            "colorscale": [
             [
              0,
              "#0d0887"
             ],
             [
              0.1111111111111111,
              "#46039f"
             ],
             [
              0.2222222222222222,
              "#7201a8"
             ],
             [
              0.3333333333333333,
              "#9c179e"
             ],
             [
              0.4444444444444444,
              "#bd3786"
             ],
             [
              0.5555555555555556,
              "#d8576b"
             ],
             [
              0.6666666666666666,
              "#ed7953"
             ],
             [
              0.7777777777777778,
              "#fb9f3a"
             ],
             [
              0.8888888888888888,
              "#fdca26"
             ],
             [
              1,
              "#f0f921"
             ]
            ],
            "type": "contour"
           }
          ],
          "contourcarpet": [
           {
            "colorbar": {
             "outlinewidth": 0,
             "ticks": ""
            },
            "type": "contourcarpet"
           }
          ],
          "heatmap": [
           {
            "colorbar": {
             "outlinewidth": 0,
             "ticks": ""
            },
            "colorscale": [
             [
              0,
              "#0d0887"
             ],
             [
              0.1111111111111111,
              "#46039f"
             ],
             [
              0.2222222222222222,
              "#7201a8"
             ],
             [
              0.3333333333333333,
              "#9c179e"
             ],
             [
              0.4444444444444444,
              "#bd3786"
             ],
             [
              0.5555555555555556,
              "#d8576b"
             ],
             [
              0.6666666666666666,
              "#ed7953"
             ],
             [
              0.7777777777777778,
              "#fb9f3a"
             ],
             [
              0.8888888888888888,
              "#fdca26"
             ],
             [
              1,
              "#f0f921"
             ]
            ],
            "type": "heatmap"
           }
          ],
          "heatmapgl": [
           {
            "colorbar": {
             "outlinewidth": 0,
             "ticks": ""
            },
            "colorscale": [
             [
              0,
              "#0d0887"
             ],
             [
              0.1111111111111111,
              "#46039f"
             ],
             [
              0.2222222222222222,
              "#7201a8"
             ],
             [
              0.3333333333333333,
              "#9c179e"
             ],
             [
              0.4444444444444444,
              "#bd3786"
             ],
             [
              0.5555555555555556,
              "#d8576b"
             ],
             [
              0.6666666666666666,
              "#ed7953"
             ],
             [
              0.7777777777777778,
              "#fb9f3a"
             ],
             [
              0.8888888888888888,
              "#fdca26"
             ],
             [
              1,
              "#f0f921"
             ]
            ],
            "type": "heatmapgl"
           }
          ],
          "histogram": [
           {
            "marker": {
             "colorbar": {
              "outlinewidth": 0,
              "ticks": ""
             }
            },
            "type": "histogram"
           }
          ],
          "histogram2d": [
           {
            "colorbar": {
             "outlinewidth": 0,
             "ticks": ""
            },
            "colorscale": [
             [
              0,
              "#0d0887"
             ],
             [
              0.1111111111111111,
              "#46039f"
             ],
             [
              0.2222222222222222,
              "#7201a8"
             ],
             [
              0.3333333333333333,
              "#9c179e"
             ],
             [
              0.4444444444444444,
              "#bd3786"
             ],
             [
              0.5555555555555556,
              "#d8576b"
             ],
             [
              0.6666666666666666,
              "#ed7953"
             ],
             [
              0.7777777777777778,
              "#fb9f3a"
             ],
             [
              0.8888888888888888,
              "#fdca26"
             ],
             [
              1,
              "#f0f921"
             ]
            ],
            "type": "histogram2d"
           }
          ],
          "histogram2dcontour": [
           {
            "colorbar": {
             "outlinewidth": 0,
             "ticks": ""
            },
            "colorscale": [
             [
              0,
              "#0d0887"
             ],
             [
              0.1111111111111111,
              "#46039f"
             ],
             [
              0.2222222222222222,
              "#7201a8"
             ],
             [
              0.3333333333333333,
              "#9c179e"
             ],
             [
              0.4444444444444444,
              "#bd3786"
             ],
             [
              0.5555555555555556,
              "#d8576b"
             ],
             [
              0.6666666666666666,
              "#ed7953"
             ],
             [
              0.7777777777777778,
              "#fb9f3a"
             ],
             [
              0.8888888888888888,
              "#fdca26"
             ],
             [
              1,
              "#f0f921"
             ]
            ],
            "type": "histogram2dcontour"
           }
          ],
          "mesh3d": [
           {
            "colorbar": {
             "outlinewidth": 0,
             "ticks": ""
            },
            "type": "mesh3d"
           }
          ],
          "parcoords": [
           {
            "line": {
             "colorbar": {
              "outlinewidth": 0,
              "ticks": ""
             }
            },
            "type": "parcoords"
           }
          ],
          "scatter": [
           {
            "marker": {
             "colorbar": {
              "outlinewidth": 0,
              "ticks": ""
             }
            },
            "type": "scatter"
           }
          ],
          "scatter3d": [
           {
            "line": {
             "colorbar": {
              "outlinewidth": 0,
              "ticks": ""
             }
            },
            "marker": {
             "colorbar": {
              "outlinewidth": 0,
              "ticks": ""
             }
            },
            "type": "scatter3d"
           }
          ],
          "scattercarpet": [
           {
            "marker": {
             "colorbar": {
              "outlinewidth": 0,
              "ticks": ""
             }
            },
            "type": "scattercarpet"
           }
          ],
          "scattergeo": [
           {
            "marker": {
             "colorbar": {
              "outlinewidth": 0,
              "ticks": ""
             }
            },
            "type": "scattergeo"
           }
          ],
          "scattergl": [
           {
            "marker": {
             "colorbar": {
              "outlinewidth": 0,
              "ticks": ""
             }
            },
            "type": "scattergl"
           }
          ],
          "scattermapbox": [
           {
            "marker": {
             "colorbar": {
              "outlinewidth": 0,
              "ticks": ""
             }
            },
            "type": "scattermapbox"
           }
          ],
          "scatterpolar": [
           {
            "marker": {
             "colorbar": {
              "outlinewidth": 0,
              "ticks": ""
             }
            },
            "type": "scatterpolar"
           }
          ],
          "scatterpolargl": [
           {
            "marker": {
             "colorbar": {
              "outlinewidth": 0,
              "ticks": ""
             }
            },
            "type": "scatterpolargl"
           }
          ],
          "scatterternary": [
           {
            "marker": {
             "colorbar": {
              "outlinewidth": 0,
              "ticks": ""
             }
            },
            "type": "scatterternary"
           }
          ],
          "surface": [
           {
            "colorbar": {
             "outlinewidth": 0,
             "ticks": ""
            },
            "colorscale": [
             [
              0,
              "#0d0887"
             ],
             [
              0.1111111111111111,
              "#46039f"
             ],
             [
              0.2222222222222222,
              "#7201a8"
             ],
             [
              0.3333333333333333,
              "#9c179e"
             ],
             [
              0.4444444444444444,
              "#bd3786"
             ],
             [
              0.5555555555555556,
              "#d8576b"
             ],
             [
              0.6666666666666666,
              "#ed7953"
             ],
             [
              0.7777777777777778,
              "#fb9f3a"
             ],
             [
              0.8888888888888888,
              "#fdca26"
             ],
             [
              1,
              "#f0f921"
             ]
            ],
            "type": "surface"
           }
          ],
          "table": [
           {
            "cells": {
             "fill": {
              "color": "#EBF0F8"
             },
             "line": {
              "color": "white"
             }
            },
            "header": {
             "fill": {
              "color": "#C8D4E3"
             },
             "line": {
              "color": "white"
             }
            },
            "type": "table"
           }
          ]
         },
         "layout": {
          "annotationdefaults": {
           "arrowcolor": "#2a3f5f",
           "arrowhead": 0,
           "arrowwidth": 1
          },
          "colorscale": {
           "diverging": [
            [
             0,
             "#8e0152"
            ],
            [
             0.1,
             "#c51b7d"
            ],
            [
             0.2,
             "#de77ae"
            ],
            [
             0.3,
             "#f1b6da"
            ],
            [
             0.4,
             "#fde0ef"
            ],
            [
             0.5,
             "#f7f7f7"
            ],
            [
             0.6,
             "#e6f5d0"
            ],
            [
             0.7,
             "#b8e186"
            ],
            [
             0.8,
             "#7fbc41"
            ],
            [
             0.9,
             "#4d9221"
            ],
            [
             1,
             "#276419"
            ]
           ],
           "sequential": [
            [
             0,
             "#0d0887"
            ],
            [
             0.1111111111111111,
             "#46039f"
            ],
            [
             0.2222222222222222,
             "#7201a8"
            ],
            [
             0.3333333333333333,
             "#9c179e"
            ],
            [
             0.4444444444444444,
             "#bd3786"
            ],
            [
             0.5555555555555556,
             "#d8576b"
            ],
            [
             0.6666666666666666,
             "#ed7953"
            ],
            [
             0.7777777777777778,
             "#fb9f3a"
            ],
            [
             0.8888888888888888,
             "#fdca26"
            ],
            [
             1,
             "#f0f921"
            ]
           ],
           "sequentialminus": [
            [
             0,
             "#0d0887"
            ],
            [
             0.1111111111111111,
             "#46039f"
            ],
            [
             0.2222222222222222,
             "#7201a8"
            ],
            [
             0.3333333333333333,
             "#9c179e"
            ],
            [
             0.4444444444444444,
             "#bd3786"
            ],
            [
             0.5555555555555556,
             "#d8576b"
            ],
            [
             0.6666666666666666,
             "#ed7953"
            ],
            [
             0.7777777777777778,
             "#fb9f3a"
            ],
            [
             0.8888888888888888,
             "#fdca26"
            ],
            [
             1,
             "#f0f921"
            ]
           ]
          },
          "colorway": [
           "#636efa",
           "#EF553B",
           "#00cc96",
           "#ab63fa",
           "#FFA15A",
           "#19d3f3",
           "#FF6692",
           "#B6E880",
           "#FF97FF",
           "#FECB52"
          ],
          "font": {
           "color": "#2a3f5f"
          },
          "geo": {
           "bgcolor": "white",
           "lakecolor": "white",
           "landcolor": "#E5ECF6",
           "showlakes": true,
           "showland": true,
           "subunitcolor": "white"
          },
          "hoverlabel": {
           "align": "left"
          },
          "hovermode": "closest",
          "mapbox": {
           "style": "light"
          },
          "paper_bgcolor": "white",
          "plot_bgcolor": "#E5ECF6",
          "polar": {
           "angularaxis": {
            "gridcolor": "white",
            "linecolor": "white",
            "ticks": ""
           },
           "bgcolor": "#E5ECF6",
           "radialaxis": {
            "gridcolor": "white",
            "linecolor": "white",
            "ticks": ""
           }
          },
          "scene": {
           "xaxis": {
            "backgroundcolor": "#E5ECF6",
            "gridcolor": "white",
            "gridwidth": 2,
            "linecolor": "white",
            "showbackground": true,
            "ticks": "",
            "zerolinecolor": "white"
           },
           "yaxis": {
            "backgroundcolor": "#E5ECF6",
            "gridcolor": "white",
            "gridwidth": 2,
            "linecolor": "white",
            "showbackground": true,
            "ticks": "",
            "zerolinecolor": "white"
           },
           "zaxis": {
            "backgroundcolor": "#E5ECF6",
            "gridcolor": "white",
            "gridwidth": 2,
            "linecolor": "white",
            "showbackground": true,
            "ticks": "",
            "zerolinecolor": "white"
           }
          },
          "shapedefaults": {
           "line": {
            "color": "#2a3f5f"
           }
          },
          "ternary": {
           "aaxis": {
            "gridcolor": "white",
            "linecolor": "white",
            "ticks": ""
           },
           "baxis": {
            "gridcolor": "white",
            "linecolor": "white",
            "ticks": ""
           },
           "bgcolor": "#E5ECF6",
           "caxis": {
            "gridcolor": "white",
            "linecolor": "white",
            "ticks": ""
           }
          },
          "title": {
           "x": 0.05
          },
          "xaxis": {
           "automargin": true,
           "gridcolor": "white",
           "linecolor": "white",
           "ticks": "",
           "zerolinecolor": "white",
           "zerolinewidth": 2
          },
          "yaxis": {
           "automargin": true,
           "gridcolor": "white",
           "linecolor": "white",
           "ticks": "",
           "zerolinecolor": "white",
           "zerolinewidth": 2
          }
         }
        },
        "xaxis": {
         "anchor": "y",
         "domain": [
          0,
          0.98
         ],
         "title": {
          "text": "Points per Game"
         }
        },
        "yaxis": {
         "anchor": "x",
         "domain": [
          0,
          1
         ],
         "title": {
          "text": "Points per Million"
         }
        }
       }
      },
      "text/html": [
       "<div>\n",
       "        \n",
       "        \n",
       "            <div id=\"4734b0d4-36e1-4363-aef3-4673ab3dc998\" class=\"plotly-graph-div\" style=\"height:600px; width:100%;\"></div>\n",
       "            <script type=\"text/javascript\">\n",
       "                require([\"plotly\"], function(Plotly) {\n",
       "                    window.PLOTLYENV=window.PLOTLYENV || {};\n",
       "                    \n",
       "                if (document.getElementById(\"4734b0d4-36e1-4363-aef3-4673ab3dc998\")) {\n",
       "                    Plotly.newPlot(\n",
       "                        '4734b0d4-36e1-4363-aef3-4673ab3dc998',\n",
       "                        [{\"hoverlabel\": {\"namelength\": 0}, \"hovertemplate\": \"<b>%{hovertext}</b><br><br>points_per_game=%{x}<br>points_per_million=%{y}<br>pct_lineup=%{marker.size}<br>value=%{marker.color}\", \"hovertext\": [\"Aduriz\", \"Asensio\", \"Bacca\", \"Bale\", \"Ben Yedder\", \"Benzema\", \"Borja Iglesias\", \"Charles\", \"Demb\\u00e9l\\u00e9\", \"Diego Costa\", \"Ekambi\", \"En-Nesyri\", \"Enes \\u00dcnal\", \"Enric Gallego\", \"Ezequiel \\u00c1vila\", \"Gameiro\", \"Gerard Moreno\", \"Griezmann\", \"Iago Aspas\", \"Jaime Mata\", \"Jorge Molina\", \"Juanmi\", \"Loren\", \"Luis Su\\u00e1rez\", \"Marc Cardona\", \"Maxi G\\u00f3mez\", \"Mayoral\", \"Messi\", \"Munir\", \"Oyarzabal\", \"Portu\", \"Rodrigo\", \"Roger\", \"Sandro\", \"Santi Mina\", \"Sergi Enrich\", \"Sergi Guardiola\", \"Sergio Le\\u00f3n\", \"Vin\\u00edcius\", \"Williams\", \"Willian Jos\\u00e9\", \"Wu Lei\", \"\\u00c1ngel Rodr\\u00edguez\", \"\\u00d3scar Plano\"], \"legendgroup\": \"\", \"marker\": {\"color\": [720000.0, 1740000.0, 1700000.0, 1310000.0, 7630000.0, 10920000.0, 9850000.0, 2620000.0, 4200000.0, 3310000.0, 3750000.0, 3280000.0, 1440000.0, 3830000.0, 4010000.0, 3220000.0, 3800000.0, 11710000.0, 14710000.0, 6770000.0, 6490000.0, 3280000.0, 1390000.0, 11760000.0, 850000.0, 6810000.0, 1200000.0, 22820000.0, 3140000.0, 8520000.0, 5470000.0, 8210000.0, 2090000.0, 1950000.0, 4430000.0, 3320000.0, 1960000.0, 1540000.0, 7320000.0, 7720000.0, 5380000.0, 3300000.0, 3280000.0, 1270000.0], \"coloraxis\": \"coloraxis\", \"size\": [0.2, 2.5, 3.6999999999999997, 4.1000000000000005, 17.4, 15.1, 9.9, 13.5, 8.799999999999999, 0.3, 6.0, 6.800000000000001, 4.3999999999999995, 0.7000000000000001, 6.7, 3.8, 6.3, 9.9, 4.5, 12.9, 19.0, 2.1999999999999997, 3.5999999999999996, 12.4, 0.5, 6.7, 2.0, 42.6, 2.1, 5.800000000000001, 3.9, 4.3999999999999995, 6.9, 1.0, 2.5, 8.1, 1.5, 0.3, 0.3, 8.0, 4.8, 1.0999999999999999, 7.9, 6.1], \"sizemode\": \"area\", \"sizeref\": 0.1065, \"symbol\": \"circle\"}, \"mode\": \"markers\", \"name\": \"\", \"showlegend\": false, \"type\": \"scatter\", \"x\": [2.75, 3.9, 3.5757575757575757, 4.344827586206897, 7.0285714285714285, 7.305555555555555, 6.45945945945946, 5.4411764705882355, 6.172413793103448, 2.4375, 4.970588235294118, 5.193548387096774, 4.0606060606060606, 5.578947368421052, 5.264705882352941, 4.121212121212121, 4.485714285714286, 6.594594594594595, 9.11111111111111, 6.147058823529412, 6.421052631578948, 3.6666666666666665, 3.8181818181818183, 7.9393939393939394, 3.588235294117647, 5.571428571428571, 3.413793103448276, 12.588235294117647, 4.521739130434782, 5.675675675675675, 4.882352941176471, 5.696969696969697, 5.0, 3.0833333333333335, 4.533333333333333, 4.914285714285715, 4.1, 2.125, 4.833333333333333, 5.5, 5.32258064516129, 4.75, 4.648648648648648, 4.242424242424242], \"xaxis\": \"x\", \"y\": [76.38888888888889, 67.24137931034483, 69.41176470588235, 96.18320610687023, 32.241153342070774, 24.084249084249084, 24.263959390862944, 70.61068702290076, 42.61904761904762, 11.782477341389727, 45.06666666666667, 49.08536585365854, 93.05555555555556, 27.676240208877285, 44.63840399002494, 42.2360248447205, 41.315789473684205, 20.836891545687447, 16.72331747110809, 30.871491875923187, 37.59630200308167, 33.53658536585366, 90.64748201438849, 22.27891156462585, 71.76470588235293, 28.634361233480174, 82.5, 18.755477651183174, 33.12101910828026, 24.64788732394366, 30.347349177330894, 22.89890377588307, 74.16267942583733, 37.94871794871795, 30.699774266365687, 51.80722891566265, 41.83673469387755, 22.07792207792208, 11.885245901639344, 27.072538860103627, 30.66914498141264, 23.03030303030303, 52.4390243902439, 110.23622047244095], \"yaxis\": \"y\"}],\n",
       "                        {\"coloraxis\": {\"colorbar\": {\"title\": {\"text\": \"value\"}}, \"colorscale\": [[0.0, \"#0d0887\"], [0.1111111111111111, \"#46039f\"], [0.2222222222222222, \"#7201a8\"], [0.3333333333333333, \"#9c179e\"], [0.4444444444444444, \"#bd3786\"], [0.5555555555555556, \"#d8576b\"], [0.6666666666666666, \"#ed7953\"], [0.7777777777777778, \"#fb9f3a\"], [0.8888888888888888, \"#fdca26\"], [1.0, \"#f0f921\"]]}, \"height\": 600, \"legend\": {\"itemsizing\": \"constant\", \"tracegroupgap\": 0}, \"margin\": {\"t\": 60}, \"template\": {\"data\": {\"bar\": [{\"error_x\": {\"color\": \"#2a3f5f\"}, \"error_y\": {\"color\": \"#2a3f5f\"}, \"marker\": {\"line\": {\"color\": \"#E5ECF6\", \"width\": 0.5}}, \"type\": \"bar\"}], \"barpolar\": [{\"marker\": {\"line\": {\"color\": \"#E5ECF6\", \"width\": 0.5}}, \"type\": \"barpolar\"}], \"carpet\": [{\"aaxis\": {\"endlinecolor\": \"#2a3f5f\", \"gridcolor\": \"white\", \"linecolor\": \"white\", \"minorgridcolor\": \"white\", \"startlinecolor\": \"#2a3f5f\"}, \"baxis\": {\"endlinecolor\": \"#2a3f5f\", \"gridcolor\": \"white\", \"linecolor\": \"white\", \"minorgridcolor\": \"white\", \"startlinecolor\": \"#2a3f5f\"}, \"type\": \"carpet\"}], \"choropleth\": [{\"colorbar\": {\"outlinewidth\": 0, \"ticks\": \"\"}, \"type\": \"choropleth\"}], \"contour\": [{\"colorbar\": {\"outlinewidth\": 0, \"ticks\": \"\"}, \"colorscale\": [[0.0, \"#0d0887\"], [0.1111111111111111, \"#46039f\"], [0.2222222222222222, \"#7201a8\"], [0.3333333333333333, \"#9c179e\"], [0.4444444444444444, \"#bd3786\"], [0.5555555555555556, \"#d8576b\"], [0.6666666666666666, \"#ed7953\"], [0.7777777777777778, \"#fb9f3a\"], [0.8888888888888888, \"#fdca26\"], [1.0, \"#f0f921\"]], \"type\": \"contour\"}], \"contourcarpet\": [{\"colorbar\": {\"outlinewidth\": 0, \"ticks\": \"\"}, \"type\": \"contourcarpet\"}], \"heatmap\": [{\"colorbar\": {\"outlinewidth\": 0, \"ticks\": \"\"}, \"colorscale\": [[0.0, \"#0d0887\"], [0.1111111111111111, \"#46039f\"], [0.2222222222222222, \"#7201a8\"], [0.3333333333333333, \"#9c179e\"], [0.4444444444444444, \"#bd3786\"], [0.5555555555555556, \"#d8576b\"], [0.6666666666666666, \"#ed7953\"], [0.7777777777777778, \"#fb9f3a\"], [0.8888888888888888, \"#fdca26\"], [1.0, \"#f0f921\"]], \"type\": \"heatmap\"}], \"heatmapgl\": [{\"colorbar\": {\"outlinewidth\": 0, \"ticks\": \"\"}, \"colorscale\": [[0.0, \"#0d0887\"], [0.1111111111111111, \"#46039f\"], [0.2222222222222222, \"#7201a8\"], [0.3333333333333333, \"#9c179e\"], [0.4444444444444444, \"#bd3786\"], [0.5555555555555556, \"#d8576b\"], [0.6666666666666666, \"#ed7953\"], [0.7777777777777778, \"#fb9f3a\"], [0.8888888888888888, \"#fdca26\"], [1.0, \"#f0f921\"]], \"type\": \"heatmapgl\"}], \"histogram\": [{\"marker\": {\"colorbar\": {\"outlinewidth\": 0, \"ticks\": \"\"}}, \"type\": \"histogram\"}], \"histogram2d\": [{\"colorbar\": {\"outlinewidth\": 0, \"ticks\": \"\"}, \"colorscale\": [[0.0, \"#0d0887\"], [0.1111111111111111, \"#46039f\"], [0.2222222222222222, \"#7201a8\"], [0.3333333333333333, \"#9c179e\"], [0.4444444444444444, \"#bd3786\"], [0.5555555555555556, \"#d8576b\"], [0.6666666666666666, \"#ed7953\"], [0.7777777777777778, \"#fb9f3a\"], [0.8888888888888888, \"#fdca26\"], [1.0, \"#f0f921\"]], \"type\": \"histogram2d\"}], \"histogram2dcontour\": [{\"colorbar\": {\"outlinewidth\": 0, \"ticks\": \"\"}, \"colorscale\": [[0.0, \"#0d0887\"], [0.1111111111111111, \"#46039f\"], [0.2222222222222222, \"#7201a8\"], [0.3333333333333333, \"#9c179e\"], [0.4444444444444444, \"#bd3786\"], [0.5555555555555556, \"#d8576b\"], [0.6666666666666666, \"#ed7953\"], [0.7777777777777778, \"#fb9f3a\"], [0.8888888888888888, \"#fdca26\"], [1.0, \"#f0f921\"]], \"type\": \"histogram2dcontour\"}], \"mesh3d\": [{\"colorbar\": {\"outlinewidth\": 0, \"ticks\": \"\"}, \"type\": \"mesh3d\"}], \"parcoords\": [{\"line\": {\"colorbar\": {\"outlinewidth\": 0, \"ticks\": \"\"}}, \"type\": \"parcoords\"}], \"scatter\": [{\"marker\": {\"colorbar\": {\"outlinewidth\": 0, \"ticks\": \"\"}}, \"type\": \"scatter\"}], \"scatter3d\": [{\"line\": {\"colorbar\": {\"outlinewidth\": 0, \"ticks\": \"\"}}, \"marker\": {\"colorbar\": {\"outlinewidth\": 0, \"ticks\": \"\"}}, \"type\": \"scatter3d\"}], \"scattercarpet\": [{\"marker\": {\"colorbar\": {\"outlinewidth\": 0, \"ticks\": \"\"}}, \"type\": \"scattercarpet\"}], \"scattergeo\": [{\"marker\": {\"colorbar\": {\"outlinewidth\": 0, \"ticks\": \"\"}}, \"type\": \"scattergeo\"}], \"scattergl\": [{\"marker\": {\"colorbar\": {\"outlinewidth\": 0, \"ticks\": \"\"}}, \"type\": \"scattergl\"}], \"scattermapbox\": [{\"marker\": {\"colorbar\": {\"outlinewidth\": 0, \"ticks\": \"\"}}, \"type\": \"scattermapbox\"}], \"scatterpolar\": [{\"marker\": {\"colorbar\": {\"outlinewidth\": 0, \"ticks\": \"\"}}, \"type\": \"scatterpolar\"}], \"scatterpolargl\": [{\"marker\": {\"colorbar\": {\"outlinewidth\": 0, \"ticks\": \"\"}}, \"type\": \"scatterpolargl\"}], \"scatterternary\": [{\"marker\": {\"colorbar\": {\"outlinewidth\": 0, \"ticks\": \"\"}}, \"type\": \"scatterternary\"}], \"surface\": [{\"colorbar\": {\"outlinewidth\": 0, \"ticks\": \"\"}, \"colorscale\": [[0.0, \"#0d0887\"], [0.1111111111111111, \"#46039f\"], [0.2222222222222222, \"#7201a8\"], [0.3333333333333333, \"#9c179e\"], [0.4444444444444444, \"#bd3786\"], [0.5555555555555556, \"#d8576b\"], [0.6666666666666666, \"#ed7953\"], [0.7777777777777778, \"#fb9f3a\"], [0.8888888888888888, \"#fdca26\"], [1.0, \"#f0f921\"]], \"type\": \"surface\"}], \"table\": [{\"cells\": {\"fill\": {\"color\": \"#EBF0F8\"}, \"line\": {\"color\": \"white\"}}, \"header\": {\"fill\": {\"color\": \"#C8D4E3\"}, \"line\": {\"color\": \"white\"}}, \"type\": \"table\"}]}, \"layout\": {\"annotationdefaults\": {\"arrowcolor\": \"#2a3f5f\", \"arrowhead\": 0, \"arrowwidth\": 1}, \"colorscale\": {\"diverging\": [[0, \"#8e0152\"], [0.1, \"#c51b7d\"], [0.2, \"#de77ae\"], [0.3, \"#f1b6da\"], [0.4, \"#fde0ef\"], [0.5, \"#f7f7f7\"], [0.6, \"#e6f5d0\"], [0.7, \"#b8e186\"], [0.8, \"#7fbc41\"], [0.9, \"#4d9221\"], [1, \"#276419\"]], \"sequential\": [[0.0, \"#0d0887\"], [0.1111111111111111, \"#46039f\"], [0.2222222222222222, \"#7201a8\"], [0.3333333333333333, \"#9c179e\"], [0.4444444444444444, \"#bd3786\"], [0.5555555555555556, \"#d8576b\"], [0.6666666666666666, \"#ed7953\"], [0.7777777777777778, \"#fb9f3a\"], [0.8888888888888888, \"#fdca26\"], [1.0, \"#f0f921\"]], \"sequentialminus\": [[0.0, \"#0d0887\"], [0.1111111111111111, \"#46039f\"], [0.2222222222222222, \"#7201a8\"], [0.3333333333333333, \"#9c179e\"], [0.4444444444444444, \"#bd3786\"], [0.5555555555555556, \"#d8576b\"], [0.6666666666666666, \"#ed7953\"], [0.7777777777777778, \"#fb9f3a\"], [0.8888888888888888, \"#fdca26\"], [1.0, \"#f0f921\"]]}, \"colorway\": [\"#636efa\", \"#EF553B\", \"#00cc96\", \"#ab63fa\", \"#FFA15A\", \"#19d3f3\", \"#FF6692\", \"#B6E880\", \"#FF97FF\", \"#FECB52\"], \"font\": {\"color\": \"#2a3f5f\"}, \"geo\": {\"bgcolor\": \"white\", \"lakecolor\": \"white\", \"landcolor\": \"#E5ECF6\", \"showlakes\": true, \"showland\": true, \"subunitcolor\": \"white\"}, \"hoverlabel\": {\"align\": \"left\"}, \"hovermode\": \"closest\", \"mapbox\": {\"style\": \"light\"}, \"paper_bgcolor\": \"white\", \"plot_bgcolor\": \"#E5ECF6\", \"polar\": {\"angularaxis\": {\"gridcolor\": \"white\", \"linecolor\": \"white\", \"ticks\": \"\"}, \"bgcolor\": \"#E5ECF6\", \"radialaxis\": {\"gridcolor\": \"white\", \"linecolor\": \"white\", \"ticks\": \"\"}}, \"scene\": {\"xaxis\": {\"backgroundcolor\": \"#E5ECF6\", \"gridcolor\": \"white\", \"gridwidth\": 2, \"linecolor\": \"white\", \"showbackground\": true, \"ticks\": \"\", \"zerolinecolor\": \"white\"}, \"yaxis\": {\"backgroundcolor\": \"#E5ECF6\", \"gridcolor\": \"white\", \"gridwidth\": 2, \"linecolor\": \"white\", \"showbackground\": true, \"ticks\": \"\", \"zerolinecolor\": \"white\"}, \"zaxis\": {\"backgroundcolor\": \"#E5ECF6\", \"gridcolor\": \"white\", \"gridwidth\": 2, \"linecolor\": \"white\", \"showbackground\": true, \"ticks\": \"\", \"zerolinecolor\": \"white\"}}, \"shapedefaults\": {\"line\": {\"color\": \"#2a3f5f\"}}, \"ternary\": {\"aaxis\": {\"gridcolor\": \"white\", \"linecolor\": \"white\", \"ticks\": \"\"}, \"baxis\": {\"gridcolor\": \"white\", \"linecolor\": \"white\", \"ticks\": \"\"}, \"bgcolor\": \"#E5ECF6\", \"caxis\": {\"gridcolor\": \"white\", \"linecolor\": \"white\", \"ticks\": \"\"}}, \"title\": {\"x\": 0.05}, \"xaxis\": {\"automargin\": true, \"gridcolor\": \"white\", \"linecolor\": \"white\", \"ticks\": \"\", \"zerolinecolor\": \"white\", \"zerolinewidth\": 2}, \"yaxis\": {\"automargin\": true, \"gridcolor\": \"white\", \"linecolor\": \"white\", \"ticks\": \"\", \"zerolinecolor\": \"white\", \"zerolinewidth\": 2}}}, \"xaxis\": {\"anchor\": \"y\", \"domain\": [0.0, 0.98], \"title\": {\"text\": \"Points per Game\"}}, \"yaxis\": {\"anchor\": \"x\", \"domain\": [0.0, 1.0], \"title\": {\"text\": \"Points per Million\"}}},\n",
       "                        {\"responsive\": true}\n",
       "                    ).then(function(){\n",
       "                            \n",
       "var gd = document.getElementById('4734b0d4-36e1-4363-aef3-4673ab3dc998');\n",
       "var x = new MutationObserver(function (mutations, observer) {{\n",
       "        var display = window.getComputedStyle(gd).display;\n",
       "        if (!display || display === 'none') {{\n",
       "            console.log([gd, 'removed!']);\n",
       "            Plotly.purge(gd);\n",
       "            observer.disconnect();\n",
       "        }}\n",
       "}});\n",
       "\n",
       "// Listen for the removal of the full notebook cells\n",
       "var notebookContainer = gd.closest('#notebook-container');\n",
       "if (notebookContainer) {{\n",
       "    x.observe(notebookContainer, {childList: true});\n",
       "}}\n",
       "\n",
       "// Listen for the clearing of the current output cell\n",
       "var outputEl = gd.closest('.output');\n",
       "if (outputEl) {{\n",
       "    x.observe(outputEl, {childList: true});\n",
       "}}\n",
       "\n",
       "                        })\n",
       "                };\n",
       "                });\n",
       "            </script>\n",
       "        </div>"
      ]
     },
     "metadata": {},
     "output_type": "display_data"
    }
   ],
   "source": [
    "bubble_chart(players, \"Forward\")"
   ]
  }
 ],
 "metadata": {
  "kernelspec": {
   "display_name": "Python 3",
   "language": "python",
   "name": "python3"
  },
  "language_info": {
   "codemirror_mode": {
    "name": "ipython",
    "version": 3
   },
   "file_extension": ".py",
   "mimetype": "text/x-python",
   "name": "python",
   "nbconvert_exporter": "python",
   "pygments_lexer": "ipython3",
   "version": "3.7.1"
  }
 },
 "nbformat": 4,
 "nbformat_minor": 2
}

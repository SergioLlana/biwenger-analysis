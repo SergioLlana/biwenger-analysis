{
 "cells": [
  {
   "cell_type": "code",
   "execution_count": 49,
   "metadata": {},
   "outputs": [],
   "source": [
    "import plotly.express as px\n",
    "import matplotlib as plt\n",
    "import seaborn as sns\n",
    "import pandas as pd\n",
    "import numpy as np\n",
    "import ast\n",
    "\n",
    "\n",
    "biwenger = pd.read_csv(\"../data/biwenger.csv\", index_col=[0])\n",
    "biwenger[\"value\"] = biwenger.value.str.replace(',', '').astype(int)\n",
    "lineups = pd.read_csv(\"../data/lineups.csv\", sep=\";\", index_col=[0])\n",
    "positions = [\"Goalkeeper\", \"Defender\", \"Midfielder\", \"Forward\"]"
   ]
  },
  {
   "cell_type": "code",
   "execution_count": 83,
   "metadata": {},
   "outputs": [],
   "source": [
    "th_props = [\n",
    "  ('font-size', '11px'),\n",
    "  ('text-align', 'center'),\n",
    "  ('font-weight', 'bold'),\n",
    "  ('color', '#6d6d6d'),\n",
    "  ('background-color', '#f7f7f9')\n",
    "]\n",
    "\n",
    "td_props = [\n",
    "  ('font-size', '11px')\n",
    "]\n",
    "\n",
    "styles = [\n",
    "  dict(selector=\"th\", props=th_props),\n",
    "  dict(selector=\"td\", props=td_props)\n",
    "]\n",
    "\n",
    "green_cm = sns.light_palette(\"#44ab42\", as_cmap=True)\n",
    "\n",
    "def color_text_distribution(value, mean, std, positive=True):\n",
    "    if value <= mean-(1.5*std):\n",
    "        color = 'red' if positive else 'green'\n",
    "    elif value >= mean+(1.5*std):\n",
    "        color = 'green' if positive else 'red'\n",
    "    else:\n",
    "        color = 'black'\n",
    "    return 'color: %s' % color\n",
    "\n",
    "def top_players_table(players, position, k=15):\n",
    "    selected_columns = [\"name\", \"games\", \"points\", \"value\", \"cards\", \"points_per_million\", \"points_per_game\", \"pct_lineup\"]\n",
    "    top = players.loc[players.position == position, selected_columns].sort_values(\"pct_lineup\", ascending=False).head(k)\n",
    "\n",
    "    card_stats = players.loc[players.position == position, \"cards\"].describe()\n",
    "    ppg_stats = players.loc[players.position == position, \"points_per_game\"].describe()\n",
    "    ppm_stats = players.loc[players.position == position, \"points_per_million\"].describe()\n",
    "\n",
    "    return (top.style\n",
    "               .applymap(lambda x: \"font-weight: bold\", subset=['name'])\n",
    "               .background_gradient(cmap=green_cm, subset=['pct_lineup'])\n",
    "               .applymap(lambda x: color_text_distribution(x, card_stats[\"mean\"], card_stats[\"std\"], positive=False), subset=['cards'])\n",
    "               .applymap(lambda x: color_text_distribution(x, ppg_stats[\"mean\"], ppg_stats[\"std\"]), subset=['points_per_game'])\n",
    "               .applymap(lambda x: color_text_distribution(x, ppm_stats[\"mean\"], ppm_stats[\"std\"]), subset=['points_per_million'])\n",
    "               .set_caption('Top {0}s:'.format(position))\n",
    "               .format({'points_per_game': \"{:.3}\", 'points_per_million': \"{:.4}\"})\n",
    "               .set_table_styles(styles))\n",
    "\n",
    "def bubble_chart(players, position):\n",
    "    top = players.loc[players.position == position]\n",
    "    fig = px.scatter(top, x=\"points_per_game\", y=\"points_per_million\", size=\"pct_lineup\", color=\"value\", hover_name=\"name\")\n",
    "    fig.update_xaxes(title_text='Points per Game')\n",
    "    fig.update_yaxes(title_text='Points per Million')\n",
    "    fig.show()"
   ]
  },
  {
   "cell_type": "markdown",
   "metadata": {},
   "source": [
    "# Position Analysis"
   ]
  },
  {
   "cell_type": "code",
   "execution_count": 84,
   "metadata": {},
   "outputs": [
    {
     "data": {
      "text/html": [
       "<div>\n",
       "<style scoped>\n",
       "    .dataframe tbody tr th:only-of-type {\n",
       "        vertical-align: middle;\n",
       "    }\n",
       "\n",
       "    .dataframe tbody tr th {\n",
       "        vertical-align: top;\n",
       "    }\n",
       "\n",
       "    .dataframe thead th {\n",
       "        text-align: right;\n",
       "    }\n",
       "</style>\n",
       "<table border=\"1\" class=\"dataframe\">\n",
       "  <thead>\n",
       "    <tr style=\"text-align: right;\">\n",
       "      <th></th>\n",
       "      <th>avg_points</th>\n",
       "      <th>avg_value</th>\n",
       "      <th>pct_value</th>\n",
       "      <th>position</th>\n",
       "      <th>sum_points</th>\n",
       "      <th>sum_value</th>\n",
       "    </tr>\n",
       "  </thead>\n",
       "  <tbody>\n",
       "    <tr>\n",
       "      <th>0</th>\n",
       "      <td>155.790</td>\n",
       "      <td>3.425900e+06</td>\n",
       "      <td>0.061241</td>\n",
       "      <td>Goalkeeper</td>\n",
       "      <td>155.79</td>\n",
       "      <td>3425900.0</td>\n",
       "    </tr>\n",
       "    <tr>\n",
       "      <th>1</th>\n",
       "      <td>133.935</td>\n",
       "      <td>2.334600e+06</td>\n",
       "      <td>0.166933</td>\n",
       "      <td>Defender</td>\n",
       "      <td>535.74</td>\n",
       "      <td>9338400.0</td>\n",
       "    </tr>\n",
       "    <tr>\n",
       "      <th>2</th>\n",
       "      <td>148.975</td>\n",
       "      <td>3.243717e+06</td>\n",
       "      <td>0.347907</td>\n",
       "      <td>Midfielder</td>\n",
       "      <td>893.85</td>\n",
       "      <td>19462300.0</td>\n",
       "    </tr>\n",
       "    <tr>\n",
       "      <th>3</th>\n",
       "      <td>222.840</td>\n",
       "      <td>7.979200e+06</td>\n",
       "      <td>0.427907</td>\n",
       "      <td>Forward</td>\n",
       "      <td>668.52</td>\n",
       "      <td>23937600.0</td>\n",
       "    </tr>\n",
       "  </tbody>\n",
       "</table>\n",
       "</div>"
      ],
      "text/plain": [
       "   avg_points     avg_value  pct_value    position  sum_points   sum_value\n",
       "0     155.790  3.425900e+06   0.061241  Goalkeeper      155.79   3425900.0\n",
       "1     133.935  2.334600e+06   0.166933    Defender      535.74   9338400.0\n",
       "2     148.975  3.243717e+06   0.347907  Midfielder      893.85  19462300.0\n",
       "3     222.840  7.979200e+06   0.427907     Forward      668.52  23937600.0"
      ]
     },
     "execution_count": 84,
     "metadata": {},
     "output_type": "execute_result"
    }
   ],
   "source": [
    "position_stats = []\n",
    "for position in positions:\n",
    "    # Points average and sum\n",
    "    str_points = lineups[\"{0}_points\".format(position.lower())]\n",
    "    point_sum = str_points.apply(ast.literal_eval).apply(np.sum).mean()\n",
    "    point_avg = str_points.apply(ast.literal_eval).apply(np.mean).mean()\n",
    "    \n",
    "    # Value average and sum\n",
    "    str_value = lineups[\"{0}_values\".format(position.lower())]\n",
    "    value_sum = str_value.apply(ast.literal_eval).apply(np.sum).mean()\n",
    "    value_avg = str_value.apply(ast.literal_eval).apply(np.mean).mean()\n",
    "    value_pct = value_sum/lineups[\"total_value\"]\n",
    "    \n",
    "    position_stats.append({\n",
    "        \"position\": position,\n",
    "        \"sum_points\": point_sum,\n",
    "        \"avg_points\": point_avg,\n",
    "        \"sum_value\": value_sum,\n",
    "        \"avg_value\": value_avg,\n",
    "        \"pct_value\": value_pct.mean()\n",
    "    })\n",
    "    \n",
    "position_stats = pd.DataFrame(position_stats)\n",
    "position_stats"
   ]
  },
  {
   "cell_type": "markdown",
   "metadata": {},
   "source": [
    "# Player Analysis"
   ]
  },
  {
   "cell_type": "code",
   "execution_count": 85,
   "metadata": {},
   "outputs": [],
   "source": [
    "player_appearances = []\n",
    "for _, row in lineups.iterrows():\n",
    "    for position in positions:\n",
    "        str_players = row[\"{0}s\".format(position.lower())]\n",
    "        for player in ast.literal_eval(str_players):\n",
    "            player_appearances.append({\"name\": player})\n",
    "\n",
    "player_counts = pd.DataFrame(player_appearances).groupby(\"name\").size().reset_index(name='lineups')\n",
    "players = pd.merge(player_counts, biwenger, how='left', on='name')\n",
    "\n",
    "players[\"points_per_million\"] = players[\"points\"] / players[\"value\"] * 1000000\n",
    "players[\"pct_lineup\"] = players[\"lineups\"] / lineups.shape[0] * 100\n",
    "players[\"points_per_game\"] = players[\"points\"] / players[\"games\"]"
   ]
  },
  {
   "cell_type": "markdown",
   "metadata": {},
   "source": [
    "## Goalkeepers"
   ]
  },
  {
   "cell_type": "code",
   "execution_count": 86,
   "metadata": {},
   "outputs": [
    {
     "data": {
      "text/html": [
       "<style  type=\"text/css\" >\n",
       "    #T_f88b0a5c_aeb7_11e9_bf15_8c1645dd14fe th {\n",
       "          font-size: 11px;\n",
       "          text-align: center;\n",
       "          font-weight: bold;\n",
       "          color: #6d6d6d;\n",
       "          background-color: #f7f7f9;\n",
       "    }    #T_f88b0a5c_aeb7_11e9_bf15_8c1645dd14fe td {\n",
       "          font-size: 11px;\n",
       "    }    #T_f88b0a5c_aeb7_11e9_bf15_8c1645dd14ferow0_col0 {\n",
       "            font-weight:  bold;\n",
       "        }    #T_f88b0a5c_aeb7_11e9_bf15_8c1645dd14ferow0_col4 {\n",
       "            color:  black;\n",
       "        }    #T_f88b0a5c_aeb7_11e9_bf15_8c1645dd14ferow0_col5 {\n",
       "            color:  black;\n",
       "        }    #T_f88b0a5c_aeb7_11e9_bf15_8c1645dd14ferow0_col6 {\n",
       "            color:  black;\n",
       "        }    #T_f88b0a5c_aeb7_11e9_bf15_8c1645dd14ferow0_col7 {\n",
       "            background-color:  #44ab42;\n",
       "            color:  #000000;\n",
       "        }    #T_f88b0a5c_aeb7_11e9_bf15_8c1645dd14ferow1_col0 {\n",
       "            font-weight:  bold;\n",
       "        }    #T_f88b0a5c_aeb7_11e9_bf15_8c1645dd14ferow1_col4 {\n",
       "            color:  black;\n",
       "        }    #T_f88b0a5c_aeb7_11e9_bf15_8c1645dd14ferow1_col5 {\n",
       "            color:  black;\n",
       "        }    #T_f88b0a5c_aeb7_11e9_bf15_8c1645dd14ferow1_col6 {\n",
       "            color:  black;\n",
       "        }    #T_f88b0a5c_aeb7_11e9_bf15_8c1645dd14ferow1_col7 {\n",
       "            background-color:  #52b150;\n",
       "            color:  #000000;\n",
       "        }    #T_f88b0a5c_aeb7_11e9_bf15_8c1645dd14ferow2_col0 {\n",
       "            font-weight:  bold;\n",
       "        }    #T_f88b0a5c_aeb7_11e9_bf15_8c1645dd14ferow2_col4 {\n",
       "            color:  red;\n",
       "        }    #T_f88b0a5c_aeb7_11e9_bf15_8c1645dd14ferow2_col5 {\n",
       "            color:  black;\n",
       "        }    #T_f88b0a5c_aeb7_11e9_bf15_8c1645dd14ferow2_col6 {\n",
       "            color:  black;\n",
       "        }    #T_f88b0a5c_aeb7_11e9_bf15_8c1645dd14ferow2_col7 {\n",
       "            background-color:  #60b85e;\n",
       "            color:  #000000;\n",
       "        }    #T_f88b0a5c_aeb7_11e9_bf15_8c1645dd14ferow3_col0 {\n",
       "            font-weight:  bold;\n",
       "        }    #T_f88b0a5c_aeb7_11e9_bf15_8c1645dd14ferow3_col4 {\n",
       "            color:  black;\n",
       "        }    #T_f88b0a5c_aeb7_11e9_bf15_8c1645dd14ferow3_col5 {\n",
       "            color:  red;\n",
       "        }    #T_f88b0a5c_aeb7_11e9_bf15_8c1645dd14ferow3_col6 {\n",
       "            color:  green;\n",
       "        }    #T_f88b0a5c_aeb7_11e9_bf15_8c1645dd14ferow3_col7 {\n",
       "            background-color:  #60b85e;\n",
       "            color:  #000000;\n",
       "        }    #T_f88b0a5c_aeb7_11e9_bf15_8c1645dd14ferow4_col0 {\n",
       "            font-weight:  bold;\n",
       "        }    #T_f88b0a5c_aeb7_11e9_bf15_8c1645dd14ferow4_col4 {\n",
       "            color:  black;\n",
       "        }    #T_f88b0a5c_aeb7_11e9_bf15_8c1645dd14ferow4_col5 {\n",
       "            color:  black;\n",
       "        }    #T_f88b0a5c_aeb7_11e9_bf15_8c1645dd14ferow4_col6 {\n",
       "            color:  black;\n",
       "        }    #T_f88b0a5c_aeb7_11e9_bf15_8c1645dd14ferow4_col7 {\n",
       "            background-color:  #60b85e;\n",
       "            color:  #000000;\n",
       "        }    #T_f88b0a5c_aeb7_11e9_bf15_8c1645dd14ferow5_col0 {\n",
       "            font-weight:  bold;\n",
       "        }    #T_f88b0a5c_aeb7_11e9_bf15_8c1645dd14ferow5_col4 {\n",
       "            color:  black;\n",
       "        }    #T_f88b0a5c_aeb7_11e9_bf15_8c1645dd14ferow5_col5 {\n",
       "            color:  black;\n",
       "        }    #T_f88b0a5c_aeb7_11e9_bf15_8c1645dd14ferow5_col6 {\n",
       "            color:  black;\n",
       "        }    #T_f88b0a5c_aeb7_11e9_bf15_8c1645dd14ferow5_col7 {\n",
       "            background-color:  #7cc57b;\n",
       "            color:  #000000;\n",
       "        }    #T_f88b0a5c_aeb7_11e9_bf15_8c1645dd14ferow6_col0 {\n",
       "            font-weight:  bold;\n",
       "        }    #T_f88b0a5c_aeb7_11e9_bf15_8c1645dd14ferow6_col4 {\n",
       "            color:  black;\n",
       "        }    #T_f88b0a5c_aeb7_11e9_bf15_8c1645dd14ferow6_col5 {\n",
       "            color:  black;\n",
       "        }    #T_f88b0a5c_aeb7_11e9_bf15_8c1645dd14ferow6_col6 {\n",
       "            color:  black;\n",
       "        }    #T_f88b0a5c_aeb7_11e9_bf15_8c1645dd14ferow6_col7 {\n",
       "            background-color:  #8acb89;\n",
       "            color:  #000000;\n",
       "        }    #T_f88b0a5c_aeb7_11e9_bf15_8c1645dd14ferow7_col0 {\n",
       "            font-weight:  bold;\n",
       "        }    #T_f88b0a5c_aeb7_11e9_bf15_8c1645dd14ferow7_col4 {\n",
       "            color:  black;\n",
       "        }    #T_f88b0a5c_aeb7_11e9_bf15_8c1645dd14ferow7_col5 {\n",
       "            color:  black;\n",
       "        }    #T_f88b0a5c_aeb7_11e9_bf15_8c1645dd14ferow7_col6 {\n",
       "            color:  black;\n",
       "        }    #T_f88b0a5c_aeb7_11e9_bf15_8c1645dd14ferow7_col7 {\n",
       "            background-color:  #a7d8a6;\n",
       "            color:  #000000;\n",
       "        }    #T_f88b0a5c_aeb7_11e9_bf15_8c1645dd14ferow8_col0 {\n",
       "            font-weight:  bold;\n",
       "        }    #T_f88b0a5c_aeb7_11e9_bf15_8c1645dd14ferow8_col4 {\n",
       "            color:  black;\n",
       "        }    #T_f88b0a5c_aeb7_11e9_bf15_8c1645dd14ferow8_col5 {\n",
       "            color:  green;\n",
       "        }    #T_f88b0a5c_aeb7_11e9_bf15_8c1645dd14ferow8_col6 {\n",
       "            color:  red;\n",
       "        }    #T_f88b0a5c_aeb7_11e9_bf15_8c1645dd14ferow8_col7 {\n",
       "            background-color:  #b5deb4;\n",
       "            color:  #000000;\n",
       "        }    #T_f88b0a5c_aeb7_11e9_bf15_8c1645dd14ferow9_col0 {\n",
       "            font-weight:  bold;\n",
       "        }    #T_f88b0a5c_aeb7_11e9_bf15_8c1645dd14ferow9_col4 {\n",
       "            color:  black;\n",
       "        }    #T_f88b0a5c_aeb7_11e9_bf15_8c1645dd14ferow9_col5 {\n",
       "            color:  black;\n",
       "        }    #T_f88b0a5c_aeb7_11e9_bf15_8c1645dd14ferow9_col6 {\n",
       "            color:  black;\n",
       "        }    #T_f88b0a5c_aeb7_11e9_bf15_8c1645dd14ferow9_col7 {\n",
       "            background-color:  #c2e5c2;\n",
       "            color:  #000000;\n",
       "        }    #T_f88b0a5c_aeb7_11e9_bf15_8c1645dd14ferow10_col0 {\n",
       "            font-weight:  bold;\n",
       "        }    #T_f88b0a5c_aeb7_11e9_bf15_8c1645dd14ferow10_col4 {\n",
       "            color:  black;\n",
       "        }    #T_f88b0a5c_aeb7_11e9_bf15_8c1645dd14ferow10_col5 {\n",
       "            color:  black;\n",
       "        }    #T_f88b0a5c_aeb7_11e9_bf15_8c1645dd14ferow10_col6 {\n",
       "            color:  black;\n",
       "        }    #T_f88b0a5c_aeb7_11e9_bf15_8c1645dd14ferow10_col7 {\n",
       "            background-color:  #c2e5c2;\n",
       "            color:  #000000;\n",
       "        }    #T_f88b0a5c_aeb7_11e9_bf15_8c1645dd14ferow11_col0 {\n",
       "            font-weight:  bold;\n",
       "        }    #T_f88b0a5c_aeb7_11e9_bf15_8c1645dd14ferow11_col4 {\n",
       "            color:  black;\n",
       "        }    #T_f88b0a5c_aeb7_11e9_bf15_8c1645dd14ferow11_col5 {\n",
       "            color:  red;\n",
       "        }    #T_f88b0a5c_aeb7_11e9_bf15_8c1645dd14ferow11_col6 {\n",
       "            color:  black;\n",
       "        }    #T_f88b0a5c_aeb7_11e9_bf15_8c1645dd14ferow11_col7 {\n",
       "            background-color:  #d1ebd1;\n",
       "            color:  #000000;\n",
       "        }    #T_f88b0a5c_aeb7_11e9_bf15_8c1645dd14ferow12_col0 {\n",
       "            font-weight:  bold;\n",
       "        }    #T_f88b0a5c_aeb7_11e9_bf15_8c1645dd14ferow12_col4 {\n",
       "            color:  black;\n",
       "        }    #T_f88b0a5c_aeb7_11e9_bf15_8c1645dd14ferow12_col5 {\n",
       "            color:  black;\n",
       "        }    #T_f88b0a5c_aeb7_11e9_bf15_8c1645dd14ferow12_col6 {\n",
       "            color:  black;\n",
       "        }    #T_f88b0a5c_aeb7_11e9_bf15_8c1645dd14ferow12_col7 {\n",
       "            background-color:  #dff2df;\n",
       "            color:  #000000;\n",
       "        }    #T_f88b0a5c_aeb7_11e9_bf15_8c1645dd14ferow13_col0 {\n",
       "            font-weight:  bold;\n",
       "        }    #T_f88b0a5c_aeb7_11e9_bf15_8c1645dd14ferow13_col4 {\n",
       "            color:  black;\n",
       "        }    #T_f88b0a5c_aeb7_11e9_bf15_8c1645dd14ferow13_col5 {\n",
       "            color:  black;\n",
       "        }    #T_f88b0a5c_aeb7_11e9_bf15_8c1645dd14ferow13_col6 {\n",
       "            color:  black;\n",
       "        }    #T_f88b0a5c_aeb7_11e9_bf15_8c1645dd14ferow13_col7 {\n",
       "            background-color:  #edf8ed;\n",
       "            color:  #000000;\n",
       "        }</style><table id=\"T_f88b0a5c_aeb7_11e9_bf15_8c1645dd14fe\" ><caption>Top Goalkeepers:</caption><thead>    <tr>        <th class=\"blank level0\" ></th>        <th class=\"col_heading level0 col0\" >name</th>        <th class=\"col_heading level0 col1\" >games</th>        <th class=\"col_heading level0 col2\" >points</th>        <th class=\"col_heading level0 col3\" >value</th>        <th class=\"col_heading level0 col4\" >cards</th>        <th class=\"col_heading level0 col5\" >points_per_million</th>        <th class=\"col_heading level0 col6\" >points_per_game</th>        <th class=\"col_heading level0 col7\" >pct_lineup</th>    </tr></thead><tbody>\n",
       "                <tr>\n",
       "                        <th id=\"T_f88b0a5c_aeb7_11e9_bf15_8c1645dd14felevel0_row0\" class=\"row_heading level0 row0\" >56</th>\n",
       "                        <td id=\"T_f88b0a5c_aeb7_11e9_bf15_8c1645dd14ferow0_col0\" class=\"data row0 col0\" >David Soria</td>\n",
       "                        <td id=\"T_f88b0a5c_aeb7_11e9_bf15_8c1645dd14ferow0_col1\" class=\"data row0 col1\" >37</td>\n",
       "                        <td id=\"T_f88b0a5c_aeb7_11e9_bf15_8c1645dd14ferow0_col2\" class=\"data row0 col2\" >178</td>\n",
       "                        <td id=\"T_f88b0a5c_aeb7_11e9_bf15_8c1645dd14ferow0_col3\" class=\"data row0 col3\" >3580000</td>\n",
       "                        <td id=\"T_f88b0a5c_aeb7_11e9_bf15_8c1645dd14ferow0_col4\" class=\"data row0 col4\" >0</td>\n",
       "                        <td id=\"T_f88b0a5c_aeb7_11e9_bf15_8c1645dd14ferow0_col5\" class=\"data row0 col5\" >49.72</td>\n",
       "                        <td id=\"T_f88b0a5c_aeb7_11e9_bf15_8c1645dd14ferow0_col6\" class=\"data row0 col6\" >4.81</td>\n",
       "                        <td id=\"T_f88b0a5c_aeb7_11e9_bf15_8c1645dd14ferow0_col7\" class=\"data row0 col7\" >13</td>\n",
       "            </tr>\n",
       "            <tr>\n",
       "                        <th id=\"T_f88b0a5c_aeb7_11e9_bf15_8c1645dd14felevel0_row1\" class=\"row_heading level0 row1\" >161</th>\n",
       "                        <td id=\"T_f88b0a5c_aeb7_11e9_bf15_8c1645dd14ferow1_col0\" class=\"data row1 col0\" >Pacheco</td>\n",
       "                        <td id=\"T_f88b0a5c_aeb7_11e9_bf15_8c1645dd14ferow1_col1\" class=\"data row1 col1\" >35</td>\n",
       "                        <td id=\"T_f88b0a5c_aeb7_11e9_bf15_8c1645dd14ferow1_col2\" class=\"data row1 col2\" >173</td>\n",
       "                        <td id=\"T_f88b0a5c_aeb7_11e9_bf15_8c1645dd14ferow1_col3\" class=\"data row1 col3\" >3610000</td>\n",
       "                        <td id=\"T_f88b0a5c_aeb7_11e9_bf15_8c1645dd14ferow1_col4\" class=\"data row1 col4\" >3</td>\n",
       "                        <td id=\"T_f88b0a5c_aeb7_11e9_bf15_8c1645dd14ferow1_col5\" class=\"data row1 col5\" >47.92</td>\n",
       "                        <td id=\"T_f88b0a5c_aeb7_11e9_bf15_8c1645dd14ferow1_col6\" class=\"data row1 col6\" >4.94</td>\n",
       "                        <td id=\"T_f88b0a5c_aeb7_11e9_bf15_8c1645dd14ferow1_col7\" class=\"data row1 col7\" >12</td>\n",
       "            </tr>\n",
       "            <tr>\n",
       "                        <th id=\"T_f88b0a5c_aeb7_11e9_bf15_8c1645dd14felevel0_row2\" class=\"row_heading level0 row2\" >50</th>\n",
       "                        <td id=\"T_f88b0a5c_aeb7_11e9_bf15_8c1645dd14ferow2_col0\" class=\"data row2 col0\" >Cuéllar</td>\n",
       "                        <td id=\"T_f88b0a5c_aeb7_11e9_bf15_8c1645dd14ferow2_col1\" class=\"data row2 col1\" >34</td>\n",
       "                        <td id=\"T_f88b0a5c_aeb7_11e9_bf15_8c1645dd14ferow2_col2\" class=\"data row2 col2\" >148</td>\n",
       "                        <td id=\"T_f88b0a5c_aeb7_11e9_bf15_8c1645dd14ferow2_col3\" class=\"data row2 col3\" >2200000</td>\n",
       "                        <td id=\"T_f88b0a5c_aeb7_11e9_bf15_8c1645dd14ferow2_col4\" class=\"data row2 col4\" >5</td>\n",
       "                        <td id=\"T_f88b0a5c_aeb7_11e9_bf15_8c1645dd14ferow2_col5\" class=\"data row2 col5\" >67.27</td>\n",
       "                        <td id=\"T_f88b0a5c_aeb7_11e9_bf15_8c1645dd14ferow2_col6\" class=\"data row2 col6\" >4.35</td>\n",
       "                        <td id=\"T_f88b0a5c_aeb7_11e9_bf15_8c1645dd14ferow2_col7\" class=\"data row2 col7\" >11</td>\n",
       "            </tr>\n",
       "            <tr>\n",
       "                        <th id=\"T_f88b0a5c_aeb7_11e9_bf15_8c1645dd14felevel0_row3\" class=\"row_heading level0 row3\" >158</th>\n",
       "                        <td id=\"T_f88b0a5c_aeb7_11e9_bf15_8c1645dd14ferow3_col0\" class=\"data row3 col0\" >Oblak</td>\n",
       "                        <td id=\"T_f88b0a5c_aeb7_11e9_bf15_8c1645dd14ferow3_col1\" class=\"data row3 col1\" >37</td>\n",
       "                        <td id=\"T_f88b0a5c_aeb7_11e9_bf15_8c1645dd14ferow3_col2\" class=\"data row3 col2\" >196</td>\n",
       "                        <td id=\"T_f88b0a5c_aeb7_11e9_bf15_8c1645dd14ferow3_col3\" class=\"data row3 col3\" >6480000</td>\n",
       "                        <td id=\"T_f88b0a5c_aeb7_11e9_bf15_8c1645dd14ferow3_col4\" class=\"data row3 col4\" >0</td>\n",
       "                        <td id=\"T_f88b0a5c_aeb7_11e9_bf15_8c1645dd14ferow3_col5\" class=\"data row3 col5\" >30.25</td>\n",
       "                        <td id=\"T_f88b0a5c_aeb7_11e9_bf15_8c1645dd14ferow3_col6\" class=\"data row3 col6\" >5.3</td>\n",
       "                        <td id=\"T_f88b0a5c_aeb7_11e9_bf15_8c1645dd14ferow3_col7\" class=\"data row3 col7\" >11</td>\n",
       "            </tr>\n",
       "            <tr>\n",
       "                        <th id=\"T_f88b0a5c_aeb7_11e9_bf15_8c1645dd14felevel0_row4\" class=\"row_heading level0 row4\" >203</th>\n",
       "                        <td id=\"T_f88b0a5c_aeb7_11e9_bf15_8c1645dd14ferow4_col0\" class=\"data row4 col0\" >Ter Stegen</td>\n",
       "                        <td id=\"T_f88b0a5c_aeb7_11e9_bf15_8c1645dd14ferow4_col1\" class=\"data row4 col1\" >35</td>\n",
       "                        <td id=\"T_f88b0a5c_aeb7_11e9_bf15_8c1645dd14ferow4_col2\" class=\"data row4 col2\" >167</td>\n",
       "                        <td id=\"T_f88b0a5c_aeb7_11e9_bf15_8c1645dd14ferow4_col3\" class=\"data row4 col3\" >4720000</td>\n",
       "                        <td id=\"T_f88b0a5c_aeb7_11e9_bf15_8c1645dd14ferow4_col4\" class=\"data row4 col4\" >0</td>\n",
       "                        <td id=\"T_f88b0a5c_aeb7_11e9_bf15_8c1645dd14ferow4_col5\" class=\"data row4 col5\" >35.38</td>\n",
       "                        <td id=\"T_f88b0a5c_aeb7_11e9_bf15_8c1645dd14ferow4_col6\" class=\"data row4 col6\" >4.77</td>\n",
       "                        <td id=\"T_f88b0a5c_aeb7_11e9_bf15_8c1645dd14ferow4_col7\" class=\"data row4 col7\" >11</td>\n",
       "            </tr>\n",
       "            <tr>\n",
       "                        <th id=\"T_f88b0a5c_aeb7_11e9_bf15_8c1645dd14felevel0_row5\" class=\"row_heading level0 row5\" >62</th>\n",
       "                        <td id=\"T_f88b0a5c_aeb7_11e9_bf15_8c1645dd14ferow5_col0\" class=\"data row5 col0\" >Diego López</td>\n",
       "                        <td id=\"T_f88b0a5c_aeb7_11e9_bf15_8c1645dd14ferow5_col1\" class=\"data row5 col1\" >38</td>\n",
       "                        <td id=\"T_f88b0a5c_aeb7_11e9_bf15_8c1645dd14ferow5_col2\" class=\"data row5 col2\" >160</td>\n",
       "                        <td id=\"T_f88b0a5c_aeb7_11e9_bf15_8c1645dd14ferow5_col3\" class=\"data row5 col3\" >2980000</td>\n",
       "                        <td id=\"T_f88b0a5c_aeb7_11e9_bf15_8c1645dd14ferow5_col4\" class=\"data row5 col4\" >1</td>\n",
       "                        <td id=\"T_f88b0a5c_aeb7_11e9_bf15_8c1645dd14ferow5_col5\" class=\"data row5 col5\" >53.69</td>\n",
       "                        <td id=\"T_f88b0a5c_aeb7_11e9_bf15_8c1645dd14ferow5_col6\" class=\"data row5 col6\" >4.21</td>\n",
       "                        <td id=\"T_f88b0a5c_aeb7_11e9_bf15_8c1645dd14ferow5_col7\" class=\"data row5 col7\" >9</td>\n",
       "            </tr>\n",
       "            <tr>\n",
       "                        <th id=\"T_f88b0a5c_aeb7_11e9_bf15_8c1645dd14felevel0_row6\" class=\"row_heading level0 row6\" >11</th>\n",
       "                        <td id=\"T_f88b0a5c_aeb7_11e9_bf15_8c1645dd14ferow6_col0\" class=\"data row6 col0\" >Asenjo</td>\n",
       "                        <td id=\"T_f88b0a5c_aeb7_11e9_bf15_8c1645dd14ferow6_col1\" class=\"data row6 col1\" >32</td>\n",
       "                        <td id=\"T_f88b0a5c_aeb7_11e9_bf15_8c1645dd14ferow6_col2\" class=\"data row6 col2\" >157</td>\n",
       "                        <td id=\"T_f88b0a5c_aeb7_11e9_bf15_8c1645dd14ferow6_col3\" class=\"data row6 col3\" >2560000</td>\n",
       "                        <td id=\"T_f88b0a5c_aeb7_11e9_bf15_8c1645dd14ferow6_col4\" class=\"data row6 col4\" >0</td>\n",
       "                        <td id=\"T_f88b0a5c_aeb7_11e9_bf15_8c1645dd14ferow6_col5\" class=\"data row6 col5\" >61.33</td>\n",
       "                        <td id=\"T_f88b0a5c_aeb7_11e9_bf15_8c1645dd14ferow6_col6\" class=\"data row6 col6\" >4.91</td>\n",
       "                        <td id=\"T_f88b0a5c_aeb7_11e9_bf15_8c1645dd14ferow6_col7\" class=\"data row6 col7\" >8</td>\n",
       "            </tr>\n",
       "            <tr>\n",
       "                        <th id=\"T_f88b0a5c_aeb7_11e9_bf15_8c1645dd14felevel0_row7\" class=\"row_heading level0 row7\" >139</th>\n",
       "                        <td id=\"T_f88b0a5c_aeb7_11e9_bf15_8c1645dd14ferow7_col0\" class=\"data row7 col0\" >Masip</td>\n",
       "                        <td id=\"T_f88b0a5c_aeb7_11e9_bf15_8c1645dd14ferow7_col1\" class=\"data row7 col1\" >35</td>\n",
       "                        <td id=\"T_f88b0a5c_aeb7_11e9_bf15_8c1645dd14ferow7_col2\" class=\"data row7 col2\" >150</td>\n",
       "                        <td id=\"T_f88b0a5c_aeb7_11e9_bf15_8c1645dd14ferow7_col3\" class=\"data row7 col3\" >2810000</td>\n",
       "                        <td id=\"T_f88b0a5c_aeb7_11e9_bf15_8c1645dd14ferow7_col4\" class=\"data row7 col4\" >1</td>\n",
       "                        <td id=\"T_f88b0a5c_aeb7_11e9_bf15_8c1645dd14ferow7_col5\" class=\"data row7 col5\" >53.38</td>\n",
       "                        <td id=\"T_f88b0a5c_aeb7_11e9_bf15_8c1645dd14ferow7_col6\" class=\"data row7 col6\" >4.29</td>\n",
       "                        <td id=\"T_f88b0a5c_aeb7_11e9_bf15_8c1645dd14ferow7_col7\" class=\"data row7 col7\" >6</td>\n",
       "            </tr>\n",
       "            <tr>\n",
       "                        <th id=\"T_f88b0a5c_aeb7_11e9_bf15_8c1645dd14felevel0_row8\" class=\"row_heading level0 row8\" >93</th>\n",
       "                        <td id=\"T_f88b0a5c_aeb7_11e9_bf15_8c1645dd14ferow8_col0\" class=\"data row8 col0\" >Herrerín</td>\n",
       "                        <td id=\"T_f88b0a5c_aeb7_11e9_bf15_8c1645dd14ferow8_col1\" class=\"data row8 col1\" >31</td>\n",
       "                        <td id=\"T_f88b0a5c_aeb7_11e9_bf15_8c1645dd14ferow8_col2\" class=\"data row8 col2\" >94</td>\n",
       "                        <td id=\"T_f88b0a5c_aeb7_11e9_bf15_8c1645dd14ferow8_col3\" class=\"data row8 col3\" >1290000</td>\n",
       "                        <td id=\"T_f88b0a5c_aeb7_11e9_bf15_8c1645dd14ferow8_col4\" class=\"data row8 col4\" >1</td>\n",
       "                        <td id=\"T_f88b0a5c_aeb7_11e9_bf15_8c1645dd14ferow8_col5\" class=\"data row8 col5\" >72.87</td>\n",
       "                        <td id=\"T_f88b0a5c_aeb7_11e9_bf15_8c1645dd14ferow8_col6\" class=\"data row8 col6\" >3.03</td>\n",
       "                        <td id=\"T_f88b0a5c_aeb7_11e9_bf15_8c1645dd14ferow8_col7\" class=\"data row8 col7\" >5</td>\n",
       "            </tr>\n",
       "            <tr>\n",
       "                        <th id=\"T_f88b0a5c_aeb7_11e9_bf15_8c1645dd14felevel0_row9\" class=\"row_heading level0 row9\" >65</th>\n",
       "                        <td id=\"T_f88b0a5c_aeb7_11e9_bf15_8c1645dd14ferow9_col0\" class=\"data row9 col0\" >Dmitrovic</td>\n",
       "                        <td id=\"T_f88b0a5c_aeb7_11e9_bf15_8c1645dd14ferow9_col1\" class=\"data row9 col1\" >24</td>\n",
       "                        <td id=\"T_f88b0a5c_aeb7_11e9_bf15_8c1645dd14ferow9_col2\" class=\"data row9 col2\" >106</td>\n",
       "                        <td id=\"T_f88b0a5c_aeb7_11e9_bf15_8c1645dd14ferow9_col3\" class=\"data row9 col3\" >2220000</td>\n",
       "                        <td id=\"T_f88b0a5c_aeb7_11e9_bf15_8c1645dd14ferow9_col4\" class=\"data row9 col4\" >3</td>\n",
       "                        <td id=\"T_f88b0a5c_aeb7_11e9_bf15_8c1645dd14ferow9_col5\" class=\"data row9 col5\" >47.75</td>\n",
       "                        <td id=\"T_f88b0a5c_aeb7_11e9_bf15_8c1645dd14ferow9_col6\" class=\"data row9 col6\" >4.42</td>\n",
       "                        <td id=\"T_f88b0a5c_aeb7_11e9_bf15_8c1645dd14ferow9_col7\" class=\"data row9 col7\" >4</td>\n",
       "            </tr>\n",
       "            <tr>\n",
       "                        <th id=\"T_f88b0a5c_aeb7_11e9_bf15_8c1645dd14felevel0_row10\" class=\"row_heading level0 row10\" >187</th>\n",
       "                        <td id=\"T_f88b0a5c_aeb7_11e9_bf15_8c1645dd14ferow10_col0\" class=\"data row10 col0\" >Rulli</td>\n",
       "                        <td id=\"T_f88b0a5c_aeb7_11e9_bf15_8c1645dd14ferow10_col1\" class=\"data row10 col1\" >27</td>\n",
       "                        <td id=\"T_f88b0a5c_aeb7_11e9_bf15_8c1645dd14ferow10_col2\" class=\"data row10 col2\" >117</td>\n",
       "                        <td id=\"T_f88b0a5c_aeb7_11e9_bf15_8c1645dd14ferow10_col3\" class=\"data row10 col3\" >1990000</td>\n",
       "                        <td id=\"T_f88b0a5c_aeb7_11e9_bf15_8c1645dd14ferow10_col4\" class=\"data row10 col4\" >3</td>\n",
       "                        <td id=\"T_f88b0a5c_aeb7_11e9_bf15_8c1645dd14ferow10_col5\" class=\"data row10 col5\" >58.79</td>\n",
       "                        <td id=\"T_f88b0a5c_aeb7_11e9_bf15_8c1645dd14ferow10_col6\" class=\"data row10 col6\" >4.33</td>\n",
       "                        <td id=\"T_f88b0a5c_aeb7_11e9_bf15_8c1645dd14ferow10_col7\" class=\"data row10 col7\" >4</td>\n",
       "            </tr>\n",
       "            <tr>\n",
       "                        <th id=\"T_f88b0a5c_aeb7_11e9_bf15_8c1645dd14felevel0_row11\" class=\"row_heading level0 row11\" >47</th>\n",
       "                        <td id=\"T_f88b0a5c_aeb7_11e9_bf15_8c1645dd14ferow11_col0\" class=\"data row11 col0\" >Courtois</td>\n",
       "                        <td id=\"T_f88b0a5c_aeb7_11e9_bf15_8c1645dd14ferow11_col1\" class=\"data row11 col1\" >27</td>\n",
       "                        <td id=\"T_f88b0a5c_aeb7_11e9_bf15_8c1645dd14ferow11_col2\" class=\"data row11 col2\" >114</td>\n",
       "                        <td id=\"T_f88b0a5c_aeb7_11e9_bf15_8c1645dd14ferow11_col3\" class=\"data row11 col3\" >4110000</td>\n",
       "                        <td id=\"T_f88b0a5c_aeb7_11e9_bf15_8c1645dd14ferow11_col4\" class=\"data row11 col4\" >2</td>\n",
       "                        <td id=\"T_f88b0a5c_aeb7_11e9_bf15_8c1645dd14ferow11_col5\" class=\"data row11 col5\" >27.74</td>\n",
       "                        <td id=\"T_f88b0a5c_aeb7_11e9_bf15_8c1645dd14ferow11_col6\" class=\"data row11 col6\" >4.22</td>\n",
       "                        <td id=\"T_f88b0a5c_aeb7_11e9_bf15_8c1645dd14ferow11_col7\" class=\"data row11 col7\" >3</td>\n",
       "            </tr>\n",
       "            <tr>\n",
       "                        <th id=\"T_f88b0a5c_aeb7_11e9_bf15_8c1645dd14felevel0_row12\" class=\"row_heading level0 row12\" >0</th>\n",
       "                        <td id=\"T_f88b0a5c_aeb7_11e9_bf15_8c1645dd14ferow12_col0\" class=\"data row12 col0\" >Aitor Fernández</td>\n",
       "                        <td id=\"T_f88b0a5c_aeb7_11e9_bf15_8c1645dd14ferow12_col1\" class=\"data row12 col1\" >16</td>\n",
       "                        <td id=\"T_f88b0a5c_aeb7_11e9_bf15_8c1645dd14ferow12_col2\" class=\"data row12 col2\" >70</td>\n",
       "                        <td id=\"T_f88b0a5c_aeb7_11e9_bf15_8c1645dd14ferow12_col3\" class=\"data row12 col3\" >1260000</td>\n",
       "                        <td id=\"T_f88b0a5c_aeb7_11e9_bf15_8c1645dd14ferow12_col4\" class=\"data row12 col4\" >0</td>\n",
       "                        <td id=\"T_f88b0a5c_aeb7_11e9_bf15_8c1645dd14ferow12_col5\" class=\"data row12 col5\" >55.56</td>\n",
       "                        <td id=\"T_f88b0a5c_aeb7_11e9_bf15_8c1645dd14ferow12_col6\" class=\"data row12 col6\" >4.38</td>\n",
       "                        <td id=\"T_f88b0a5c_aeb7_11e9_bf15_8c1645dd14ferow12_col7\" class=\"data row12 col7\" >2</td>\n",
       "            </tr>\n",
       "            <tr>\n",
       "                        <th id=\"T_f88b0a5c_aeb7_11e9_bf15_8c1645dd14felevel0_row13\" class=\"row_heading level0 row13\" >209</th>\n",
       "                        <td id=\"T_f88b0a5c_aeb7_11e9_bf15_8c1645dd14ferow13_col0\" class=\"data row13 col0\" >Vaclík</td>\n",
       "                        <td id=\"T_f88b0a5c_aeb7_11e9_bf15_8c1645dd14ferow13_col1\" class=\"data row13 col1\" >33</td>\n",
       "                        <td id=\"T_f88b0a5c_aeb7_11e9_bf15_8c1645dd14ferow13_col2\" class=\"data row13 col2\" >128</td>\n",
       "                        <td id=\"T_f88b0a5c_aeb7_11e9_bf15_8c1645dd14ferow13_col3\" class=\"data row13 col3\" >3030000</td>\n",
       "                        <td id=\"T_f88b0a5c_aeb7_11e9_bf15_8c1645dd14ferow13_col4\" class=\"data row13 col4\" >1</td>\n",
       "                        <td id=\"T_f88b0a5c_aeb7_11e9_bf15_8c1645dd14ferow13_col5\" class=\"data row13 col5\" >42.24</td>\n",
       "                        <td id=\"T_f88b0a5c_aeb7_11e9_bf15_8c1645dd14ferow13_col6\" class=\"data row13 col6\" >3.88</td>\n",
       "                        <td id=\"T_f88b0a5c_aeb7_11e9_bf15_8c1645dd14ferow13_col7\" class=\"data row13 col7\" >1</td>\n",
       "            </tr>\n",
       "    </tbody></table>"
      ],
      "text/plain": [
       "<pandas.io.formats.style.Styler at 0x7fe2e8c610f0>"
      ]
     },
     "execution_count": 86,
     "metadata": {},
     "output_type": "execute_result"
    }
   ],
   "source": [
    "top_players_table(players, \"Goalkeeper\")"
   ]
  },
  {
   "cell_type": "code",
   "execution_count": 87,
   "metadata": {},
   "outputs": [
    {
     "data": {
      "application/vnd.plotly.v1+json": {
       "config": {
        "plotlyServerURL": "https://plot.ly"
       },
       "data": [
        {
         "hoverlabel": {
          "namelength": 0
         },
         "hovertemplate": "<b>%{hovertext}</b><br><br>points_per_game=%{x}<br>points_per_million=%{y}<br>pct_lineup=%{marker.size}<br>value=%{marker.color}",
         "hovertext": [
          "Aitor Fernández",
          "Asenjo",
          "Courtois",
          "Cuéllar",
          "David Soria",
          "Diego López",
          "Dmitrovic",
          "Herrerín",
          "Masip",
          "Oblak",
          "Pacheco",
          "Rulli",
          "Ter Stegen",
          "Vaclík"
         ],
         "legendgroup": "",
         "marker": {
          "color": [
           1260000,
           2560000,
           4110000,
           2200000,
           3580000,
           2980000,
           2220000,
           1290000,
           2810000,
           6480000,
           3610000,
           1990000,
           4720000,
           3030000
          ],
          "coloraxis": "coloraxis",
          "size": [
           2,
           8,
           3,
           11,
           13,
           9,
           4,
           5,
           6,
           11,
           12,
           4,
           11,
           1
          ],
          "sizemode": "area",
          "sizeref": 0.0325,
          "symbol": "circle"
         },
         "mode": "markers",
         "name": "",
         "showlegend": false,
         "type": "scatter",
         "x": [
          4.375,
          4.90625,
          4.222222222222222,
          4.352941176470588,
          4.8108108108108105,
          4.2105263157894735,
          4.416666666666667,
          3.032258064516129,
          4.285714285714286,
          5.297297297297297,
          4.942857142857143,
          4.333333333333333,
          4.771428571428571,
          3.878787878787879
         ],
         "xaxis": "x",
         "y": [
          55.55555555555556,
          61.32812499999999,
          27.73722627737226,
          67.27272727272727,
          49.720670391061454,
          53.691275167785236,
          47.74774774774775,
          72.86821705426357,
          53.380782918149464,
          30.24691358024691,
          47.92243767313019,
          58.79396984924623,
          35.381355932203384,
          42.244224422442244
         ],
         "yaxis": "y"
        }
       ],
       "layout": {
        "coloraxis": {
         "colorbar": {
          "title": {
           "text": "value"
          }
         },
         "colorscale": [
          [
           0,
           "#0d0887"
          ],
          [
           0.1111111111111111,
           "#46039f"
          ],
          [
           0.2222222222222222,
           "#7201a8"
          ],
          [
           0.3333333333333333,
           "#9c179e"
          ],
          [
           0.4444444444444444,
           "#bd3786"
          ],
          [
           0.5555555555555556,
           "#d8576b"
          ],
          [
           0.6666666666666666,
           "#ed7953"
          ],
          [
           0.7777777777777778,
           "#fb9f3a"
          ],
          [
           0.8888888888888888,
           "#fdca26"
          ],
          [
           1,
           "#f0f921"
          ]
         ]
        },
        "height": 600,
        "legend": {
         "itemsizing": "constant",
         "tracegroupgap": 0
        },
        "margin": {
         "t": 60
        },
        "template": {
         "data": {
          "bar": [
           {
            "error_x": {
             "color": "#2a3f5f"
            },
            "error_y": {
             "color": "#2a3f5f"
            },
            "marker": {
             "line": {
              "color": "#E5ECF6",
              "width": 0.5
             }
            },
            "type": "bar"
           }
          ],
          "barpolar": [
           {
            "marker": {
             "line": {
              "color": "#E5ECF6",
              "width": 0.5
             }
            },
            "type": "barpolar"
           }
          ],
          "carpet": [
           {
            "aaxis": {
             "endlinecolor": "#2a3f5f",
             "gridcolor": "white",
             "linecolor": "white",
             "minorgridcolor": "white",
             "startlinecolor": "#2a3f5f"
            },
            "baxis": {
             "endlinecolor": "#2a3f5f",
             "gridcolor": "white",
             "linecolor": "white",
             "minorgridcolor": "white",
             "startlinecolor": "#2a3f5f"
            },
            "type": "carpet"
           }
          ],
          "choropleth": [
           {
            "colorbar": {
             "outlinewidth": 0,
             "ticks": ""
            },
            "type": "choropleth"
           }
          ],
          "contour": [
           {
            "colorbar": {
             "outlinewidth": 0,
             "ticks": ""
            },
            "colorscale": [
             [
              0,
              "#0d0887"
             ],
             [
              0.1111111111111111,
              "#46039f"
             ],
             [
              0.2222222222222222,
              "#7201a8"
             ],
             [
              0.3333333333333333,
              "#9c179e"
             ],
             [
              0.4444444444444444,
              "#bd3786"
             ],
             [
              0.5555555555555556,
              "#d8576b"
             ],
             [
              0.6666666666666666,
              "#ed7953"
             ],
             [
              0.7777777777777778,
              "#fb9f3a"
             ],
             [
              0.8888888888888888,
              "#fdca26"
             ],
             [
              1,
              "#f0f921"
             ]
            ],
            "type": "contour"
           }
          ],
          "contourcarpet": [
           {
            "colorbar": {
             "outlinewidth": 0,
             "ticks": ""
            },
            "type": "contourcarpet"
           }
          ],
          "heatmap": [
           {
            "colorbar": {
             "outlinewidth": 0,
             "ticks": ""
            },
            "colorscale": [
             [
              0,
              "#0d0887"
             ],
             [
              0.1111111111111111,
              "#46039f"
             ],
             [
              0.2222222222222222,
              "#7201a8"
             ],
             [
              0.3333333333333333,
              "#9c179e"
             ],
             [
              0.4444444444444444,
              "#bd3786"
             ],
             [
              0.5555555555555556,
              "#d8576b"
             ],
             [
              0.6666666666666666,
              "#ed7953"
             ],
             [
              0.7777777777777778,
              "#fb9f3a"
             ],
             [
              0.8888888888888888,
              "#fdca26"
             ],
             [
              1,
              "#f0f921"
             ]
            ],
            "type": "heatmap"
           }
          ],
          "heatmapgl": [
           {
            "colorbar": {
             "outlinewidth": 0,
             "ticks": ""
            },
            "colorscale": [
             [
              0,
              "#0d0887"
             ],
             [
              0.1111111111111111,
              "#46039f"
             ],
             [
              0.2222222222222222,
              "#7201a8"
             ],
             [
              0.3333333333333333,
              "#9c179e"
             ],
             [
              0.4444444444444444,
              "#bd3786"
             ],
             [
              0.5555555555555556,
              "#d8576b"
             ],
             [
              0.6666666666666666,
              "#ed7953"
             ],
             [
              0.7777777777777778,
              "#fb9f3a"
             ],
             [
              0.8888888888888888,
              "#fdca26"
             ],
             [
              1,
              "#f0f921"
             ]
            ],
            "type": "heatmapgl"
           }
          ],
          "histogram": [
           {
            "marker": {
             "colorbar": {
              "outlinewidth": 0,
              "ticks": ""
             }
            },
            "type": "histogram"
           }
          ],
          "histogram2d": [
           {
            "colorbar": {
             "outlinewidth": 0,
             "ticks": ""
            },
            "colorscale": [
             [
              0,
              "#0d0887"
             ],
             [
              0.1111111111111111,
              "#46039f"
             ],
             [
              0.2222222222222222,
              "#7201a8"
             ],
             [
              0.3333333333333333,
              "#9c179e"
             ],
             [
              0.4444444444444444,
              "#bd3786"
             ],
             [
              0.5555555555555556,
              "#d8576b"
             ],
             [
              0.6666666666666666,
              "#ed7953"
             ],
             [
              0.7777777777777778,
              "#fb9f3a"
             ],
             [
              0.8888888888888888,
              "#fdca26"
             ],
             [
              1,
              "#f0f921"
             ]
            ],
            "type": "histogram2d"
           }
          ],
          "histogram2dcontour": [
           {
            "colorbar": {
             "outlinewidth": 0,
             "ticks": ""
            },
            "colorscale": [
             [
              0,
              "#0d0887"
             ],
             [
              0.1111111111111111,
              "#46039f"
             ],
             [
              0.2222222222222222,
              "#7201a8"
             ],
             [
              0.3333333333333333,
              "#9c179e"
             ],
             [
              0.4444444444444444,
              "#bd3786"
             ],
             [
              0.5555555555555556,
              "#d8576b"
             ],
             [
              0.6666666666666666,
              "#ed7953"
             ],
             [
              0.7777777777777778,
              "#fb9f3a"
             ],
             [
              0.8888888888888888,
              "#fdca26"
             ],
             [
              1,
              "#f0f921"
             ]
            ],
            "type": "histogram2dcontour"
           }
          ],
          "mesh3d": [
           {
            "colorbar": {
             "outlinewidth": 0,
             "ticks": ""
            },
            "type": "mesh3d"
           }
          ],
          "parcoords": [
           {
            "line": {
             "colorbar": {
              "outlinewidth": 0,
              "ticks": ""
             }
            },
            "type": "parcoords"
           }
          ],
          "scatter": [
           {
            "marker": {
             "colorbar": {
              "outlinewidth": 0,
              "ticks": ""
             }
            },
            "type": "scatter"
           }
          ],
          "scatter3d": [
           {
            "line": {
             "colorbar": {
              "outlinewidth": 0,
              "ticks": ""
             }
            },
            "marker": {
             "colorbar": {
              "outlinewidth": 0,
              "ticks": ""
             }
            },
            "type": "scatter3d"
           }
          ],
          "scattercarpet": [
           {
            "marker": {
             "colorbar": {
              "outlinewidth": 0,
              "ticks": ""
             }
            },
            "type": "scattercarpet"
           }
          ],
          "scattergeo": [
           {
            "marker": {
             "colorbar": {
              "outlinewidth": 0,
              "ticks": ""
             }
            },
            "type": "scattergeo"
           }
          ],
          "scattergl": [
           {
            "marker": {
             "colorbar": {
              "outlinewidth": 0,
              "ticks": ""
             }
            },
            "type": "scattergl"
           }
          ],
          "scattermapbox": [
           {
            "marker": {
             "colorbar": {
              "outlinewidth": 0,
              "ticks": ""
             }
            },
            "type": "scattermapbox"
           }
          ],
          "scatterpolar": [
           {
            "marker": {
             "colorbar": {
              "outlinewidth": 0,
              "ticks": ""
             }
            },
            "type": "scatterpolar"
           }
          ],
          "scatterpolargl": [
           {
            "marker": {
             "colorbar": {
              "outlinewidth": 0,
              "ticks": ""
             }
            },
            "type": "scatterpolargl"
           }
          ],
          "scatterternary": [
           {
            "marker": {
             "colorbar": {
              "outlinewidth": 0,
              "ticks": ""
             }
            },
            "type": "scatterternary"
           }
          ],
          "surface": [
           {
            "colorbar": {
             "outlinewidth": 0,
             "ticks": ""
            },
            "colorscale": [
             [
              0,
              "#0d0887"
             ],
             [
              0.1111111111111111,
              "#46039f"
             ],
             [
              0.2222222222222222,
              "#7201a8"
             ],
             [
              0.3333333333333333,
              "#9c179e"
             ],
             [
              0.4444444444444444,
              "#bd3786"
             ],
             [
              0.5555555555555556,
              "#d8576b"
             ],
             [
              0.6666666666666666,
              "#ed7953"
             ],
             [
              0.7777777777777778,
              "#fb9f3a"
             ],
             [
              0.8888888888888888,
              "#fdca26"
             ],
             [
              1,
              "#f0f921"
             ]
            ],
            "type": "surface"
           }
          ],
          "table": [
           {
            "cells": {
             "fill": {
              "color": "#EBF0F8"
             },
             "line": {
              "color": "white"
             }
            },
            "header": {
             "fill": {
              "color": "#C8D4E3"
             },
             "line": {
              "color": "white"
             }
            },
            "type": "table"
           }
          ]
         },
         "layout": {
          "annotationdefaults": {
           "arrowcolor": "#2a3f5f",
           "arrowhead": 0,
           "arrowwidth": 1
          },
          "colorscale": {
           "diverging": [
            [
             0,
             "#8e0152"
            ],
            [
             0.1,
             "#c51b7d"
            ],
            [
             0.2,
             "#de77ae"
            ],
            [
             0.3,
             "#f1b6da"
            ],
            [
             0.4,
             "#fde0ef"
            ],
            [
             0.5,
             "#f7f7f7"
            ],
            [
             0.6,
             "#e6f5d0"
            ],
            [
             0.7,
             "#b8e186"
            ],
            [
             0.8,
             "#7fbc41"
            ],
            [
             0.9,
             "#4d9221"
            ],
            [
             1,
             "#276419"
            ]
           ],
           "sequential": [
            [
             0,
             "#0d0887"
            ],
            [
             0.1111111111111111,
             "#46039f"
            ],
            [
             0.2222222222222222,
             "#7201a8"
            ],
            [
             0.3333333333333333,
             "#9c179e"
            ],
            [
             0.4444444444444444,
             "#bd3786"
            ],
            [
             0.5555555555555556,
             "#d8576b"
            ],
            [
             0.6666666666666666,
             "#ed7953"
            ],
            [
             0.7777777777777778,
             "#fb9f3a"
            ],
            [
             0.8888888888888888,
             "#fdca26"
            ],
            [
             1,
             "#f0f921"
            ]
           ],
           "sequentialminus": [
            [
             0,
             "#0d0887"
            ],
            [
             0.1111111111111111,
             "#46039f"
            ],
            [
             0.2222222222222222,
             "#7201a8"
            ],
            [
             0.3333333333333333,
             "#9c179e"
            ],
            [
             0.4444444444444444,
             "#bd3786"
            ],
            [
             0.5555555555555556,
             "#d8576b"
            ],
            [
             0.6666666666666666,
             "#ed7953"
            ],
            [
             0.7777777777777778,
             "#fb9f3a"
            ],
            [
             0.8888888888888888,
             "#fdca26"
            ],
            [
             1,
             "#f0f921"
            ]
           ]
          },
          "colorway": [
           "#636efa",
           "#EF553B",
           "#00cc96",
           "#ab63fa",
           "#FFA15A",
           "#19d3f3",
           "#FF6692",
           "#B6E880",
           "#FF97FF",
           "#FECB52"
          ],
          "font": {
           "color": "#2a3f5f"
          },
          "geo": {
           "bgcolor": "white",
           "lakecolor": "white",
           "landcolor": "#E5ECF6",
           "showlakes": true,
           "showland": true,
           "subunitcolor": "white"
          },
          "hoverlabel": {
           "align": "left"
          },
          "hovermode": "closest",
          "mapbox": {
           "style": "light"
          },
          "paper_bgcolor": "white",
          "plot_bgcolor": "#E5ECF6",
          "polar": {
           "angularaxis": {
            "gridcolor": "white",
            "linecolor": "white",
            "ticks": ""
           },
           "bgcolor": "#E5ECF6",
           "radialaxis": {
            "gridcolor": "white",
            "linecolor": "white",
            "ticks": ""
           }
          },
          "scene": {
           "xaxis": {
            "backgroundcolor": "#E5ECF6",
            "gridcolor": "white",
            "gridwidth": 2,
            "linecolor": "white",
            "showbackground": true,
            "ticks": "",
            "zerolinecolor": "white"
           },
           "yaxis": {
            "backgroundcolor": "#E5ECF6",
            "gridcolor": "white",
            "gridwidth": 2,
            "linecolor": "white",
            "showbackground": true,
            "ticks": "",
            "zerolinecolor": "white"
           },
           "zaxis": {
            "backgroundcolor": "#E5ECF6",
            "gridcolor": "white",
            "gridwidth": 2,
            "linecolor": "white",
            "showbackground": true,
            "ticks": "",
            "zerolinecolor": "white"
           }
          },
          "shapedefaults": {
           "line": {
            "color": "#2a3f5f"
           }
          },
          "ternary": {
           "aaxis": {
            "gridcolor": "white",
            "linecolor": "white",
            "ticks": ""
           },
           "baxis": {
            "gridcolor": "white",
            "linecolor": "white",
            "ticks": ""
           },
           "bgcolor": "#E5ECF6",
           "caxis": {
            "gridcolor": "white",
            "linecolor": "white",
            "ticks": ""
           }
          },
          "title": {
           "x": 0.05
          },
          "xaxis": {
           "automargin": true,
           "gridcolor": "white",
           "linecolor": "white",
           "ticks": "",
           "zerolinecolor": "white",
           "zerolinewidth": 2
          },
          "yaxis": {
           "automargin": true,
           "gridcolor": "white",
           "linecolor": "white",
           "ticks": "",
           "zerolinecolor": "white",
           "zerolinewidth": 2
          }
         }
        },
        "xaxis": {
         "anchor": "y",
         "domain": [
          0,
          0.98
         ],
         "title": {
          "text": "Points per Game"
         }
        },
        "yaxis": {
         "anchor": "x",
         "domain": [
          0,
          1
         ],
         "title": {
          "text": "Points per Million"
         }
        }
       }
      },
      "text/html": [
       "<div>\n",
       "        \n",
       "        \n",
       "            <div id=\"cb40eacd-f9ac-42d6-aa8e-fde61f371b13\" class=\"plotly-graph-div\" style=\"height:600px; width:100%;\"></div>\n",
       "            <script type=\"text/javascript\">\n",
       "                require([\"plotly\"], function(Plotly) {\n",
       "                    window.PLOTLYENV=window.PLOTLYENV || {};\n",
       "                    \n",
       "                if (document.getElementById(\"cb40eacd-f9ac-42d6-aa8e-fde61f371b13\")) {\n",
       "                    Plotly.newPlot(\n",
       "                        'cb40eacd-f9ac-42d6-aa8e-fde61f371b13',\n",
       "                        [{\"hoverlabel\": {\"namelength\": 0}, \"hovertemplate\": \"<b>%{hovertext}</b><br><br>points_per_game=%{x}<br>points_per_million=%{y}<br>pct_lineup=%{marker.size}<br>value=%{marker.color}\", \"hovertext\": [\"Aitor Fern\\u00e1ndez\", \"Asenjo\", \"Courtois\", \"Cu\\u00e9llar\", \"David Soria\", \"Diego L\\u00f3pez\", \"Dmitrovic\", \"Herrer\\u00edn\", \"Masip\", \"Oblak\", \"Pacheco\", \"Rulli\", \"Ter Stegen\", \"Vacl\\u00edk\"], \"legendgroup\": \"\", \"marker\": {\"color\": [1260000, 2560000, 4110000, 2200000, 3580000, 2980000, 2220000, 1290000, 2810000, 6480000, 3610000, 1990000, 4720000, 3030000], \"coloraxis\": \"coloraxis\", \"size\": [2.0, 8.0, 3.0, 11.0, 13.0, 9.0, 4.0, 5.0, 6.0, 11.0, 12.0, 4.0, 11.0, 1.0], \"sizemode\": \"area\", \"sizeref\": 0.0325, \"symbol\": \"circle\"}, \"mode\": \"markers\", \"name\": \"\", \"showlegend\": false, \"type\": \"scatter\", \"x\": [4.375, 4.90625, 4.222222222222222, 4.352941176470588, 4.8108108108108105, 4.2105263157894735, 4.416666666666667, 3.032258064516129, 4.285714285714286, 5.297297297297297, 4.942857142857143, 4.333333333333333, 4.771428571428571, 3.878787878787879], \"xaxis\": \"x\", \"y\": [55.55555555555556, 61.32812499999999, 27.73722627737226, 67.27272727272727, 49.720670391061454, 53.691275167785236, 47.74774774774775, 72.86821705426357, 53.380782918149464, 30.24691358024691, 47.92243767313019, 58.79396984924623, 35.381355932203384, 42.244224422442244], \"yaxis\": \"y\"}],\n",
       "                        {\"coloraxis\": {\"colorbar\": {\"title\": {\"text\": \"value\"}}, \"colorscale\": [[0.0, \"#0d0887\"], [0.1111111111111111, \"#46039f\"], [0.2222222222222222, \"#7201a8\"], [0.3333333333333333, \"#9c179e\"], [0.4444444444444444, \"#bd3786\"], [0.5555555555555556, \"#d8576b\"], [0.6666666666666666, \"#ed7953\"], [0.7777777777777778, \"#fb9f3a\"], [0.8888888888888888, \"#fdca26\"], [1.0, \"#f0f921\"]]}, \"height\": 600, \"legend\": {\"itemsizing\": \"constant\", \"tracegroupgap\": 0}, \"margin\": {\"t\": 60}, \"template\": {\"data\": {\"bar\": [{\"error_x\": {\"color\": \"#2a3f5f\"}, \"error_y\": {\"color\": \"#2a3f5f\"}, \"marker\": {\"line\": {\"color\": \"#E5ECF6\", \"width\": 0.5}}, \"type\": \"bar\"}], \"barpolar\": [{\"marker\": {\"line\": {\"color\": \"#E5ECF6\", \"width\": 0.5}}, \"type\": \"barpolar\"}], \"carpet\": [{\"aaxis\": {\"endlinecolor\": \"#2a3f5f\", \"gridcolor\": \"white\", \"linecolor\": \"white\", \"minorgridcolor\": \"white\", \"startlinecolor\": \"#2a3f5f\"}, \"baxis\": {\"endlinecolor\": \"#2a3f5f\", \"gridcolor\": \"white\", \"linecolor\": \"white\", \"minorgridcolor\": \"white\", \"startlinecolor\": \"#2a3f5f\"}, \"type\": \"carpet\"}], \"choropleth\": [{\"colorbar\": {\"outlinewidth\": 0, \"ticks\": \"\"}, \"type\": \"choropleth\"}], \"contour\": [{\"colorbar\": {\"outlinewidth\": 0, \"ticks\": \"\"}, \"colorscale\": [[0.0, \"#0d0887\"], [0.1111111111111111, \"#46039f\"], [0.2222222222222222, \"#7201a8\"], [0.3333333333333333, \"#9c179e\"], [0.4444444444444444, \"#bd3786\"], [0.5555555555555556, \"#d8576b\"], [0.6666666666666666, \"#ed7953\"], [0.7777777777777778, \"#fb9f3a\"], [0.8888888888888888, \"#fdca26\"], [1.0, \"#f0f921\"]], \"type\": \"contour\"}], \"contourcarpet\": [{\"colorbar\": {\"outlinewidth\": 0, \"ticks\": \"\"}, \"type\": \"contourcarpet\"}], \"heatmap\": [{\"colorbar\": {\"outlinewidth\": 0, \"ticks\": \"\"}, \"colorscale\": [[0.0, \"#0d0887\"], [0.1111111111111111, \"#46039f\"], [0.2222222222222222, \"#7201a8\"], [0.3333333333333333, \"#9c179e\"], [0.4444444444444444, \"#bd3786\"], [0.5555555555555556, \"#d8576b\"], [0.6666666666666666, \"#ed7953\"], [0.7777777777777778, \"#fb9f3a\"], [0.8888888888888888, \"#fdca26\"], [1.0, \"#f0f921\"]], \"type\": \"heatmap\"}], \"heatmapgl\": [{\"colorbar\": {\"outlinewidth\": 0, \"ticks\": \"\"}, \"colorscale\": [[0.0, \"#0d0887\"], [0.1111111111111111, \"#46039f\"], [0.2222222222222222, \"#7201a8\"], [0.3333333333333333, \"#9c179e\"], [0.4444444444444444, \"#bd3786\"], [0.5555555555555556, \"#d8576b\"], [0.6666666666666666, \"#ed7953\"], [0.7777777777777778, \"#fb9f3a\"], [0.8888888888888888, \"#fdca26\"], [1.0, \"#f0f921\"]], \"type\": \"heatmapgl\"}], \"histogram\": [{\"marker\": {\"colorbar\": {\"outlinewidth\": 0, \"ticks\": \"\"}}, \"type\": \"histogram\"}], \"histogram2d\": [{\"colorbar\": {\"outlinewidth\": 0, \"ticks\": \"\"}, \"colorscale\": [[0.0, \"#0d0887\"], [0.1111111111111111, \"#46039f\"], [0.2222222222222222, \"#7201a8\"], [0.3333333333333333, \"#9c179e\"], [0.4444444444444444, \"#bd3786\"], [0.5555555555555556, \"#d8576b\"], [0.6666666666666666, \"#ed7953\"], [0.7777777777777778, \"#fb9f3a\"], [0.8888888888888888, \"#fdca26\"], [1.0, \"#f0f921\"]], \"type\": \"histogram2d\"}], \"histogram2dcontour\": [{\"colorbar\": {\"outlinewidth\": 0, \"ticks\": \"\"}, \"colorscale\": [[0.0, \"#0d0887\"], [0.1111111111111111, \"#46039f\"], [0.2222222222222222, \"#7201a8\"], [0.3333333333333333, \"#9c179e\"], [0.4444444444444444, \"#bd3786\"], [0.5555555555555556, \"#d8576b\"], [0.6666666666666666, \"#ed7953\"], [0.7777777777777778, \"#fb9f3a\"], [0.8888888888888888, \"#fdca26\"], [1.0, \"#f0f921\"]], \"type\": \"histogram2dcontour\"}], \"mesh3d\": [{\"colorbar\": {\"outlinewidth\": 0, \"ticks\": \"\"}, \"type\": \"mesh3d\"}], \"parcoords\": [{\"line\": {\"colorbar\": {\"outlinewidth\": 0, \"ticks\": \"\"}}, \"type\": \"parcoords\"}], \"scatter\": [{\"marker\": {\"colorbar\": {\"outlinewidth\": 0, \"ticks\": \"\"}}, \"type\": \"scatter\"}], \"scatter3d\": [{\"line\": {\"colorbar\": {\"outlinewidth\": 0, \"ticks\": \"\"}}, \"marker\": {\"colorbar\": {\"outlinewidth\": 0, \"ticks\": \"\"}}, \"type\": \"scatter3d\"}], \"scattercarpet\": [{\"marker\": {\"colorbar\": {\"outlinewidth\": 0, \"ticks\": \"\"}}, \"type\": \"scattercarpet\"}], \"scattergeo\": [{\"marker\": {\"colorbar\": {\"outlinewidth\": 0, \"ticks\": \"\"}}, \"type\": \"scattergeo\"}], \"scattergl\": [{\"marker\": {\"colorbar\": {\"outlinewidth\": 0, \"ticks\": \"\"}}, \"type\": \"scattergl\"}], \"scattermapbox\": [{\"marker\": {\"colorbar\": {\"outlinewidth\": 0, \"ticks\": \"\"}}, \"type\": \"scattermapbox\"}], \"scatterpolar\": [{\"marker\": {\"colorbar\": {\"outlinewidth\": 0, \"ticks\": \"\"}}, \"type\": \"scatterpolar\"}], \"scatterpolargl\": [{\"marker\": {\"colorbar\": {\"outlinewidth\": 0, \"ticks\": \"\"}}, \"type\": \"scatterpolargl\"}], \"scatterternary\": [{\"marker\": {\"colorbar\": {\"outlinewidth\": 0, \"ticks\": \"\"}}, \"type\": \"scatterternary\"}], \"surface\": [{\"colorbar\": {\"outlinewidth\": 0, \"ticks\": \"\"}, \"colorscale\": [[0.0, \"#0d0887\"], [0.1111111111111111, \"#46039f\"], [0.2222222222222222, \"#7201a8\"], [0.3333333333333333, \"#9c179e\"], [0.4444444444444444, \"#bd3786\"], [0.5555555555555556, \"#d8576b\"], [0.6666666666666666, \"#ed7953\"], [0.7777777777777778, \"#fb9f3a\"], [0.8888888888888888, \"#fdca26\"], [1.0, \"#f0f921\"]], \"type\": \"surface\"}], \"table\": [{\"cells\": {\"fill\": {\"color\": \"#EBF0F8\"}, \"line\": {\"color\": \"white\"}}, \"header\": {\"fill\": {\"color\": \"#C8D4E3\"}, \"line\": {\"color\": \"white\"}}, \"type\": \"table\"}]}, \"layout\": {\"annotationdefaults\": {\"arrowcolor\": \"#2a3f5f\", \"arrowhead\": 0, \"arrowwidth\": 1}, \"colorscale\": {\"diverging\": [[0, \"#8e0152\"], [0.1, \"#c51b7d\"], [0.2, \"#de77ae\"], [0.3, \"#f1b6da\"], [0.4, \"#fde0ef\"], [0.5, \"#f7f7f7\"], [0.6, \"#e6f5d0\"], [0.7, \"#b8e186\"], [0.8, \"#7fbc41\"], [0.9, \"#4d9221\"], [1, \"#276419\"]], \"sequential\": [[0.0, \"#0d0887\"], [0.1111111111111111, \"#46039f\"], [0.2222222222222222, \"#7201a8\"], [0.3333333333333333, \"#9c179e\"], [0.4444444444444444, \"#bd3786\"], [0.5555555555555556, \"#d8576b\"], [0.6666666666666666, \"#ed7953\"], [0.7777777777777778, \"#fb9f3a\"], [0.8888888888888888, \"#fdca26\"], [1.0, \"#f0f921\"]], \"sequentialminus\": [[0.0, \"#0d0887\"], [0.1111111111111111, \"#46039f\"], [0.2222222222222222, \"#7201a8\"], [0.3333333333333333, \"#9c179e\"], [0.4444444444444444, \"#bd3786\"], [0.5555555555555556, \"#d8576b\"], [0.6666666666666666, \"#ed7953\"], [0.7777777777777778, \"#fb9f3a\"], [0.8888888888888888, \"#fdca26\"], [1.0, \"#f0f921\"]]}, \"colorway\": [\"#636efa\", \"#EF553B\", \"#00cc96\", \"#ab63fa\", \"#FFA15A\", \"#19d3f3\", \"#FF6692\", \"#B6E880\", \"#FF97FF\", \"#FECB52\"], \"font\": {\"color\": \"#2a3f5f\"}, \"geo\": {\"bgcolor\": \"white\", \"lakecolor\": \"white\", \"landcolor\": \"#E5ECF6\", \"showlakes\": true, \"showland\": true, \"subunitcolor\": \"white\"}, \"hoverlabel\": {\"align\": \"left\"}, \"hovermode\": \"closest\", \"mapbox\": {\"style\": \"light\"}, \"paper_bgcolor\": \"white\", \"plot_bgcolor\": \"#E5ECF6\", \"polar\": {\"angularaxis\": {\"gridcolor\": \"white\", \"linecolor\": \"white\", \"ticks\": \"\"}, \"bgcolor\": \"#E5ECF6\", \"radialaxis\": {\"gridcolor\": \"white\", \"linecolor\": \"white\", \"ticks\": \"\"}}, \"scene\": {\"xaxis\": {\"backgroundcolor\": \"#E5ECF6\", \"gridcolor\": \"white\", \"gridwidth\": 2, \"linecolor\": \"white\", \"showbackground\": true, \"ticks\": \"\", \"zerolinecolor\": \"white\"}, \"yaxis\": {\"backgroundcolor\": \"#E5ECF6\", \"gridcolor\": \"white\", \"gridwidth\": 2, \"linecolor\": \"white\", \"showbackground\": true, \"ticks\": \"\", \"zerolinecolor\": \"white\"}, \"zaxis\": {\"backgroundcolor\": \"#E5ECF6\", \"gridcolor\": \"white\", \"gridwidth\": 2, \"linecolor\": \"white\", \"showbackground\": true, \"ticks\": \"\", \"zerolinecolor\": \"white\"}}, \"shapedefaults\": {\"line\": {\"color\": \"#2a3f5f\"}}, \"ternary\": {\"aaxis\": {\"gridcolor\": \"white\", \"linecolor\": \"white\", \"ticks\": \"\"}, \"baxis\": {\"gridcolor\": \"white\", \"linecolor\": \"white\", \"ticks\": \"\"}, \"bgcolor\": \"#E5ECF6\", \"caxis\": {\"gridcolor\": \"white\", \"linecolor\": \"white\", \"ticks\": \"\"}}, \"title\": {\"x\": 0.05}, \"xaxis\": {\"automargin\": true, \"gridcolor\": \"white\", \"linecolor\": \"white\", \"ticks\": \"\", \"zerolinecolor\": \"white\", \"zerolinewidth\": 2}, \"yaxis\": {\"automargin\": true, \"gridcolor\": \"white\", \"linecolor\": \"white\", \"ticks\": \"\", \"zerolinecolor\": \"white\", \"zerolinewidth\": 2}}}, \"xaxis\": {\"anchor\": \"y\", \"domain\": [0.0, 0.98], \"title\": {\"text\": \"Points per Game\"}}, \"yaxis\": {\"anchor\": \"x\", \"domain\": [0.0, 1.0], \"title\": {\"text\": \"Points per Million\"}}},\n",
       "                        {\"responsive\": true}\n",
       "                    ).then(function(){\n",
       "                            \n",
       "var gd = document.getElementById('cb40eacd-f9ac-42d6-aa8e-fde61f371b13');\n",
       "var x = new MutationObserver(function (mutations, observer) {{\n",
       "        var display = window.getComputedStyle(gd).display;\n",
       "        if (!display || display === 'none') {{\n",
       "            console.log([gd, 'removed!']);\n",
       "            Plotly.purge(gd);\n",
       "            observer.disconnect();\n",
       "        }}\n",
       "}});\n",
       "\n",
       "// Listen for the removal of the full notebook cells\n",
       "var notebookContainer = gd.closest('#notebook-container');\n",
       "if (notebookContainer) {{\n",
       "    x.observe(notebookContainer, {childList: true});\n",
       "}}\n",
       "\n",
       "// Listen for the clearing of the current output cell\n",
       "var outputEl = gd.closest('.output');\n",
       "if (outputEl) {{\n",
       "    x.observe(outputEl, {childList: true});\n",
       "}}\n",
       "\n",
       "                        })\n",
       "                };\n",
       "                });\n",
       "            </script>\n",
       "        </div>"
      ]
     },
     "metadata": {},
     "output_type": "display_data"
    }
   ],
   "source": [
    "bubble_chart(players, \"Goalkeeper\")"
   ]
  },
  {
   "cell_type": "markdown",
   "metadata": {},
   "source": [
    "## Defenders"
   ]
  },
  {
   "cell_type": "code",
   "execution_count": 88,
   "metadata": {},
   "outputs": [
    {
     "data": {
      "text/html": [
       "<style  type=\"text/css\" >\n",
       "    #T_f88b0a5d_aeb7_11e9_bf15_8c1645dd14fe th {\n",
       "          font-size: 11px;\n",
       "          text-align: center;\n",
       "          font-weight: bold;\n",
       "          color: #6d6d6d;\n",
       "          background-color: #f7f7f9;\n",
       "    }    #T_f88b0a5d_aeb7_11e9_bf15_8c1645dd14fe td {\n",
       "          font-size: 11px;\n",
       "    }    #T_f88b0a5d_aeb7_11e9_bf15_8c1645dd14ferow0_col0 {\n",
       "            font-weight:  bold;\n",
       "        }    #T_f88b0a5d_aeb7_11e9_bf15_8c1645dd14ferow0_col4 {\n",
       "            color:  black;\n",
       "        }    #T_f88b0a5d_aeb7_11e9_bf15_8c1645dd14ferow0_col5 {\n",
       "            color:  black;\n",
       "        }    #T_f88b0a5d_aeb7_11e9_bf15_8c1645dd14ferow0_col6 {\n",
       "            color:  green;\n",
       "        }    #T_f88b0a5d_aeb7_11e9_bf15_8c1645dd14ferow0_col7 {\n",
       "            background-color:  #44ab42;\n",
       "            color:  #000000;\n",
       "        }    #T_f88b0a5d_aeb7_11e9_bf15_8c1645dd14ferow1_col0 {\n",
       "            font-weight:  bold;\n",
       "        }    #T_f88b0a5d_aeb7_11e9_bf15_8c1645dd14ferow1_col4 {\n",
       "            color:  black;\n",
       "        }    #T_f88b0a5d_aeb7_11e9_bf15_8c1645dd14ferow1_col5 {\n",
       "            color:  black;\n",
       "        }    #T_f88b0a5d_aeb7_11e9_bf15_8c1645dd14ferow1_col6 {\n",
       "            color:  black;\n",
       "        }    #T_f88b0a5d_aeb7_11e9_bf15_8c1645dd14ferow1_col7 {\n",
       "            background-color:  #7cc57b;\n",
       "            color:  #000000;\n",
       "        }    #T_f88b0a5d_aeb7_11e9_bf15_8c1645dd14ferow2_col0 {\n",
       "            font-weight:  bold;\n",
       "        }    #T_f88b0a5d_aeb7_11e9_bf15_8c1645dd14ferow2_col4 {\n",
       "            color:  black;\n",
       "        }    #T_f88b0a5d_aeb7_11e9_bf15_8c1645dd14ferow2_col5 {\n",
       "            color:  black;\n",
       "        }    #T_f88b0a5d_aeb7_11e9_bf15_8c1645dd14ferow2_col6 {\n",
       "            color:  black;\n",
       "        }    #T_f88b0a5d_aeb7_11e9_bf15_8c1645dd14ferow2_col7 {\n",
       "            background-color:  #7cc57b;\n",
       "            color:  #000000;\n",
       "        }    #T_f88b0a5d_aeb7_11e9_bf15_8c1645dd14ferow3_col0 {\n",
       "            font-weight:  bold;\n",
       "        }    #T_f88b0a5d_aeb7_11e9_bf15_8c1645dd14ferow3_col4 {\n",
       "            color:  black;\n",
       "        }    #T_f88b0a5d_aeb7_11e9_bf15_8c1645dd14ferow3_col5 {\n",
       "            color:  black;\n",
       "        }    #T_f88b0a5d_aeb7_11e9_bf15_8c1645dd14ferow3_col6 {\n",
       "            color:  black;\n",
       "        }    #T_f88b0a5d_aeb7_11e9_bf15_8c1645dd14ferow3_col7 {\n",
       "            background-color:  #99d298;\n",
       "            color:  #000000;\n",
       "        }    #T_f88b0a5d_aeb7_11e9_bf15_8c1645dd14ferow4_col0 {\n",
       "            font-weight:  bold;\n",
       "        }    #T_f88b0a5d_aeb7_11e9_bf15_8c1645dd14ferow4_col4 {\n",
       "            color:  black;\n",
       "        }    #T_f88b0a5d_aeb7_11e9_bf15_8c1645dd14ferow4_col5 {\n",
       "            color:  green;\n",
       "        }    #T_f88b0a5d_aeb7_11e9_bf15_8c1645dd14ferow4_col6 {\n",
       "            color:  black;\n",
       "        }    #T_f88b0a5d_aeb7_11e9_bf15_8c1645dd14ferow4_col7 {\n",
       "            background-color:  #b5deb4;\n",
       "            color:  #000000;\n",
       "        }    #T_f88b0a5d_aeb7_11e9_bf15_8c1645dd14ferow5_col0 {\n",
       "            font-weight:  bold;\n",
       "        }    #T_f88b0a5d_aeb7_11e9_bf15_8c1645dd14ferow5_col4 {\n",
       "            color:  black;\n",
       "        }    #T_f88b0a5d_aeb7_11e9_bf15_8c1645dd14ferow5_col5 {\n",
       "            color:  black;\n",
       "        }    #T_f88b0a5d_aeb7_11e9_bf15_8c1645dd14ferow5_col6 {\n",
       "            color:  green;\n",
       "        }    #T_f88b0a5d_aeb7_11e9_bf15_8c1645dd14ferow5_col7 {\n",
       "            background-color:  #b5deb4;\n",
       "            color:  #000000;\n",
       "        }    #T_f88b0a5d_aeb7_11e9_bf15_8c1645dd14ferow6_col0 {\n",
       "            font-weight:  bold;\n",
       "        }    #T_f88b0a5d_aeb7_11e9_bf15_8c1645dd14ferow6_col4 {\n",
       "            color:  red;\n",
       "        }    #T_f88b0a5d_aeb7_11e9_bf15_8c1645dd14ferow6_col5 {\n",
       "            color:  black;\n",
       "        }    #T_f88b0a5d_aeb7_11e9_bf15_8c1645dd14ferow6_col6 {\n",
       "            color:  black;\n",
       "        }    #T_f88b0a5d_aeb7_11e9_bf15_8c1645dd14ferow6_col7 {\n",
       "            background-color:  #b5deb4;\n",
       "            color:  #000000;\n",
       "        }    #T_f88b0a5d_aeb7_11e9_bf15_8c1645dd14ferow7_col0 {\n",
       "            font-weight:  bold;\n",
       "        }    #T_f88b0a5d_aeb7_11e9_bf15_8c1645dd14ferow7_col4 {\n",
       "            color:  red;\n",
       "        }    #T_f88b0a5d_aeb7_11e9_bf15_8c1645dd14ferow7_col5 {\n",
       "            color:  black;\n",
       "        }    #T_f88b0a5d_aeb7_11e9_bf15_8c1645dd14ferow7_col6 {\n",
       "            color:  black;\n",
       "        }    #T_f88b0a5d_aeb7_11e9_bf15_8c1645dd14ferow7_col7 {\n",
       "            background-color:  #b5deb4;\n",
       "            color:  #000000;\n",
       "        }    #T_f88b0a5d_aeb7_11e9_bf15_8c1645dd14ferow8_col0 {\n",
       "            font-weight:  bold;\n",
       "        }    #T_f88b0a5d_aeb7_11e9_bf15_8c1645dd14ferow8_col4 {\n",
       "            color:  black;\n",
       "        }    #T_f88b0a5d_aeb7_11e9_bf15_8c1645dd14ferow8_col5 {\n",
       "            color:  black;\n",
       "        }    #T_f88b0a5d_aeb7_11e9_bf15_8c1645dd14ferow8_col6 {\n",
       "            color:  black;\n",
       "        }    #T_f88b0a5d_aeb7_11e9_bf15_8c1645dd14ferow8_col7 {\n",
       "            background-color:  #b5deb4;\n",
       "            color:  #000000;\n",
       "        }    #T_f88b0a5d_aeb7_11e9_bf15_8c1645dd14ferow9_col0 {\n",
       "            font-weight:  bold;\n",
       "        }    #T_f88b0a5d_aeb7_11e9_bf15_8c1645dd14ferow9_col4 {\n",
       "            color:  black;\n",
       "        }    #T_f88b0a5d_aeb7_11e9_bf15_8c1645dd14ferow9_col5 {\n",
       "            color:  black;\n",
       "        }    #T_f88b0a5d_aeb7_11e9_bf15_8c1645dd14ferow9_col6 {\n",
       "            color:  green;\n",
       "        }    #T_f88b0a5d_aeb7_11e9_bf15_8c1645dd14ferow9_col7 {\n",
       "            background-color:  #d1ebd1;\n",
       "            color:  #000000;\n",
       "        }    #T_f88b0a5d_aeb7_11e9_bf15_8c1645dd14ferow10_col0 {\n",
       "            font-weight:  bold;\n",
       "        }    #T_f88b0a5d_aeb7_11e9_bf15_8c1645dd14ferow10_col4 {\n",
       "            color:  black;\n",
       "        }    #T_f88b0a5d_aeb7_11e9_bf15_8c1645dd14ferow10_col5 {\n",
       "            color:  black;\n",
       "        }    #T_f88b0a5d_aeb7_11e9_bf15_8c1645dd14ferow10_col6 {\n",
       "            color:  black;\n",
       "        }    #T_f88b0a5d_aeb7_11e9_bf15_8c1645dd14ferow10_col7 {\n",
       "            background-color:  #d1ebd1;\n",
       "            color:  #000000;\n",
       "        }    #T_f88b0a5d_aeb7_11e9_bf15_8c1645dd14ferow11_col0 {\n",
       "            font-weight:  bold;\n",
       "        }    #T_f88b0a5d_aeb7_11e9_bf15_8c1645dd14ferow11_col4 {\n",
       "            color:  black;\n",
       "        }    #T_f88b0a5d_aeb7_11e9_bf15_8c1645dd14ferow11_col5 {\n",
       "            color:  black;\n",
       "        }    #T_f88b0a5d_aeb7_11e9_bf15_8c1645dd14ferow11_col6 {\n",
       "            color:  black;\n",
       "        }    #T_f88b0a5d_aeb7_11e9_bf15_8c1645dd14ferow11_col7 {\n",
       "            background-color:  #d1ebd1;\n",
       "            color:  #000000;\n",
       "        }    #T_f88b0a5d_aeb7_11e9_bf15_8c1645dd14ferow12_col0 {\n",
       "            font-weight:  bold;\n",
       "        }    #T_f88b0a5d_aeb7_11e9_bf15_8c1645dd14ferow12_col4 {\n",
       "            color:  black;\n",
       "        }    #T_f88b0a5d_aeb7_11e9_bf15_8c1645dd14ferow12_col5 {\n",
       "            color:  black;\n",
       "        }    #T_f88b0a5d_aeb7_11e9_bf15_8c1645dd14ferow12_col6 {\n",
       "            color:  black;\n",
       "        }    #T_f88b0a5d_aeb7_11e9_bf15_8c1645dd14ferow12_col7 {\n",
       "            background-color:  #d1ebd1;\n",
       "            color:  #000000;\n",
       "        }    #T_f88b0a5d_aeb7_11e9_bf15_8c1645dd14ferow13_col0 {\n",
       "            font-weight:  bold;\n",
       "        }    #T_f88b0a5d_aeb7_11e9_bf15_8c1645dd14ferow13_col4 {\n",
       "            color:  black;\n",
       "        }    #T_f88b0a5d_aeb7_11e9_bf15_8c1645dd14ferow13_col5 {\n",
       "            color:  black;\n",
       "        }    #T_f88b0a5d_aeb7_11e9_bf15_8c1645dd14ferow13_col6 {\n",
       "            color:  black;\n",
       "        }    #T_f88b0a5d_aeb7_11e9_bf15_8c1645dd14ferow13_col7 {\n",
       "            background-color:  #edf8ed;\n",
       "            color:  #000000;\n",
       "        }    #T_f88b0a5d_aeb7_11e9_bf15_8c1645dd14ferow14_col0 {\n",
       "            font-weight:  bold;\n",
       "        }    #T_f88b0a5d_aeb7_11e9_bf15_8c1645dd14ferow14_col4 {\n",
       "            color:  black;\n",
       "        }    #T_f88b0a5d_aeb7_11e9_bf15_8c1645dd14ferow14_col5 {\n",
       "            color:  black;\n",
       "        }    #T_f88b0a5d_aeb7_11e9_bf15_8c1645dd14ferow14_col6 {\n",
       "            color:  black;\n",
       "        }    #T_f88b0a5d_aeb7_11e9_bf15_8c1645dd14ferow14_col7 {\n",
       "            background-color:  #edf8ed;\n",
       "            color:  #000000;\n",
       "        }</style><table id=\"T_f88b0a5d_aeb7_11e9_bf15_8c1645dd14fe\" ><caption>Top Defenders:</caption><thead>    <tr>        <th class=\"blank level0\" ></th>        <th class=\"col_heading level0 col0\" >name</th>        <th class=\"col_heading level0 col1\" >games</th>        <th class=\"col_heading level0 col2\" >points</th>        <th class=\"col_heading level0 col3\" >value</th>        <th class=\"col_heading level0 col4\" >cards</th>        <th class=\"col_heading level0 col5\" >points_per_million</th>        <th class=\"col_heading level0 col6\" >points_per_game</th>        <th class=\"col_heading level0 col7\" >pct_lineup</th>    </tr></thead><tbody>\n",
       "                <tr>\n",
       "                        <th id=\"T_f88b0a5d_aeb7_11e9_bf15_8c1645dd14felevel0_row0\" class=\"row_heading level0 row0\" >185</th>\n",
       "                        <td id=\"T_f88b0a5d_aeb7_11e9_bf15_8c1645dd14ferow0_col0\" class=\"data row0 col0\" >Rubén Peña</td>\n",
       "                        <td id=\"T_f88b0a5d_aeb7_11e9_bf15_8c1645dd14ferow0_col1\" class=\"data row0 col1\" >31</td>\n",
       "                        <td id=\"T_f88b0a5d_aeb7_11e9_bf15_8c1645dd14ferow0_col2\" class=\"data row0 col2\" >174</td>\n",
       "                        <td id=\"T_f88b0a5d_aeb7_11e9_bf15_8c1645dd14ferow0_col3\" class=\"data row0 col3\" >2440000</td>\n",
       "                        <td id=\"T_f88b0a5d_aeb7_11e9_bf15_8c1645dd14ferow0_col4\" class=\"data row0 col4\" >4</td>\n",
       "                        <td id=\"T_f88b0a5d_aeb7_11e9_bf15_8c1645dd14ferow0_col5\" class=\"data row0 col5\" >71.31</td>\n",
       "                        <td id=\"T_f88b0a5d_aeb7_11e9_bf15_8c1645dd14ferow0_col6\" class=\"data row0 col6\" >5.61</td>\n",
       "                        <td id=\"T_f88b0a5d_aeb7_11e9_bf15_8c1645dd14ferow0_col7\" class=\"data row0 col7\" >14</td>\n",
       "            </tr>\n",
       "            <tr>\n",
       "                        <th id=\"T_f88b0a5d_aeb7_11e9_bf15_8c1645dd14felevel0_row1\" class=\"row_heading level0 row1\" >20</th>\n",
       "                        <td id=\"T_f88b0a5d_aeb7_11e9_bf15_8c1645dd14ferow1_col0\" class=\"data row1 col0\" >Bernardo</td>\n",
       "                        <td id=\"T_f88b0a5d_aeb7_11e9_bf15_8c1645dd14ferow1_col1\" class=\"data row1 col1\" >31</td>\n",
       "                        <td id=\"T_f88b0a5d_aeb7_11e9_bf15_8c1645dd14ferow1_col2\" class=\"data row1 col2\" >124</td>\n",
       "                        <td id=\"T_f88b0a5d_aeb7_11e9_bf15_8c1645dd14ferow1_col3\" class=\"data row1 col3\" >1850000</td>\n",
       "                        <td id=\"T_f88b0a5d_aeb7_11e9_bf15_8c1645dd14ferow1_col4\" class=\"data row1 col4\" >6</td>\n",
       "                        <td id=\"T_f88b0a5d_aeb7_11e9_bf15_8c1645dd14ferow1_col5\" class=\"data row1 col5\" >67.03</td>\n",
       "                        <td id=\"T_f88b0a5d_aeb7_11e9_bf15_8c1645dd14ferow1_col6\" class=\"data row1 col6\" >4.0</td>\n",
       "                        <td id=\"T_f88b0a5d_aeb7_11e9_bf15_8c1645dd14ferow1_col7\" class=\"data row1 col7\" >12</td>\n",
       "            </tr>\n",
       "            <tr>\n",
       "                        <th id=\"T_f88b0a5d_aeb7_11e9_bf15_8c1645dd14felevel0_row2\" class=\"row_heading level0 row2\" >132</th>\n",
       "                        <td id=\"T_f88b0a5d_aeb7_11e9_bf15_8c1645dd14ferow2_col0\" class=\"data row2 col0\" >Mandi</td>\n",
       "                        <td id=\"T_f88b0a5d_aeb7_11e9_bf15_8c1645dd14ferow2_col1\" class=\"data row2 col1\" >35</td>\n",
       "                        <td id=\"T_f88b0a5d_aeb7_11e9_bf15_8c1645dd14ferow2_col2\" class=\"data row2 col2\" >158</td>\n",
       "                        <td id=\"T_f88b0a5d_aeb7_11e9_bf15_8c1645dd14ferow2_col3\" class=\"data row2 col3\" >2340000</td>\n",
       "                        <td id=\"T_f88b0a5d_aeb7_11e9_bf15_8c1645dd14ferow2_col4\" class=\"data row2 col4\" >10</td>\n",
       "                        <td id=\"T_f88b0a5d_aeb7_11e9_bf15_8c1645dd14ferow2_col5\" class=\"data row2 col5\" >67.52</td>\n",
       "                        <td id=\"T_f88b0a5d_aeb7_11e9_bf15_8c1645dd14ferow2_col6\" class=\"data row2 col6\" >4.51</td>\n",
       "                        <td id=\"T_f88b0a5d_aeb7_11e9_bf15_8c1645dd14ferow2_col7\" class=\"data row2 col7\" >12</td>\n",
       "            </tr>\n",
       "            <tr>\n",
       "                        <th id=\"T_f88b0a5d_aeb7_11e9_bf15_8c1645dd14felevel0_row3\" class=\"row_heading level0 row3\" >109</th>\n",
       "                        <td id=\"T_f88b0a5d_aeb7_11e9_bf15_8c1645dd14ferow3_col0\" class=\"data row3 col0\" >Jonathan Silva</td>\n",
       "                        <td id=\"T_f88b0a5d_aeb7_11e9_bf15_8c1645dd14ferow3_col1\" class=\"data row3 col1\" >30</td>\n",
       "                        <td id=\"T_f88b0a5d_aeb7_11e9_bf15_8c1645dd14ferow3_col2\" class=\"data row3 col2\" >150</td>\n",
       "                        <td id=\"T_f88b0a5d_aeb7_11e9_bf15_8c1645dd14ferow3_col3\" class=\"data row3 col3\" >1890000</td>\n",
       "                        <td id=\"T_f88b0a5d_aeb7_11e9_bf15_8c1645dd14ferow3_col4\" class=\"data row3 col4\" >9</td>\n",
       "                        <td id=\"T_f88b0a5d_aeb7_11e9_bf15_8c1645dd14ferow3_col5\" class=\"data row3 col5\" >79.37</td>\n",
       "                        <td id=\"T_f88b0a5d_aeb7_11e9_bf15_8c1645dd14ferow3_col6\" class=\"data row3 col6\" >5.0</td>\n",
       "                        <td id=\"T_f88b0a5d_aeb7_11e9_bf15_8c1645dd14ferow3_col7\" class=\"data row3 col7\" >11</td>\n",
       "            </tr>\n",
       "            <tr>\n",
       "                        <th id=\"T_f88b0a5d_aeb7_11e9_bf15_8c1645dd14felevel0_row4\" class=\"row_heading level0 row4\" >4</th>\n",
       "                        <td id=\"T_f88b0a5d_aeb7_11e9_bf15_8c1645dd14ferow4_col0\" class=\"data row4 col0\" >Antunes</td>\n",
       "                        <td id=\"T_f88b0a5d_aeb7_11e9_bf15_8c1645dd14ferow4_col1\" class=\"data row4 col1\" >28</td>\n",
       "                        <td id=\"T_f88b0a5d_aeb7_11e9_bf15_8c1645dd14ferow4_col2\" class=\"data row4 col2\" >126</td>\n",
       "                        <td id=\"T_f88b0a5d_aeb7_11e9_bf15_8c1645dd14ferow4_col3\" class=\"data row4 col3\" >370000</td>\n",
       "                        <td id=\"T_f88b0a5d_aeb7_11e9_bf15_8c1645dd14ferow4_col4\" class=\"data row4 col4\" >5</td>\n",
       "                        <td id=\"T_f88b0a5d_aeb7_11e9_bf15_8c1645dd14ferow4_col5\" class=\"data row4 col5\" >340.5</td>\n",
       "                        <td id=\"T_f88b0a5d_aeb7_11e9_bf15_8c1645dd14ferow4_col6\" class=\"data row4 col6\" >4.5</td>\n",
       "                        <td id=\"T_f88b0a5d_aeb7_11e9_bf15_8c1645dd14ferow4_col7\" class=\"data row4 col7\" >10</td>\n",
       "            </tr>\n",
       "            <tr>\n",
       "                        <th id=\"T_f88b0a5d_aeb7_11e9_bf15_8c1645dd14felevel0_row5\" class=\"row_heading level0 row5\" >91</th>\n",
       "                        <td id=\"T_f88b0a5d_aeb7_11e9_bf15_8c1645dd14ferow5_col0\" class=\"data row5 col0\" >Hermoso</td>\n",
       "                        <td id=\"T_f88b0a5d_aeb7_11e9_bf15_8c1645dd14ferow5_col1\" class=\"data row5 col1\" >32</td>\n",
       "                        <td id=\"T_f88b0a5d_aeb7_11e9_bf15_8c1645dd14ferow5_col2\" class=\"data row5 col2\" >178</td>\n",
       "                        <td id=\"T_f88b0a5d_aeb7_11e9_bf15_8c1645dd14ferow5_col3\" class=\"data row5 col3\" >5620000</td>\n",
       "                        <td id=\"T_f88b0a5d_aeb7_11e9_bf15_8c1645dd14ferow5_col4\" class=\"data row5 col4\" >7</td>\n",
       "                        <td id=\"T_f88b0a5d_aeb7_11e9_bf15_8c1645dd14ferow5_col5\" class=\"data row5 col5\" >31.67</td>\n",
       "                        <td id=\"T_f88b0a5d_aeb7_11e9_bf15_8c1645dd14ferow5_col6\" class=\"data row5 col6\" >5.56</td>\n",
       "                        <td id=\"T_f88b0a5d_aeb7_11e9_bf15_8c1645dd14ferow5_col7\" class=\"data row5 col7\" >10</td>\n",
       "            </tr>\n",
       "            <tr>\n",
       "                        <th id=\"T_f88b0a5d_aeb7_11e9_bf15_8c1645dd14felevel0_row6\" class=\"row_heading level0 row6\" >122</th>\n",
       "                        <td id=\"T_f88b0a5d_aeb7_11e9_bf15_8c1645dd14ferow6_col0\" class=\"data row6 col0\" >Laguardia</td>\n",
       "                        <td id=\"T_f88b0a5d_aeb7_11e9_bf15_8c1645dd14ferow6_col1\" class=\"data row6 col1\" >36</td>\n",
       "                        <td id=\"T_f88b0a5d_aeb7_11e9_bf15_8c1645dd14ferow6_col2\" class=\"data row6 col2\" >170</td>\n",
       "                        <td id=\"T_f88b0a5d_aeb7_11e9_bf15_8c1645dd14ferow6_col3\" class=\"data row6 col3\" >3330000</td>\n",
       "                        <td id=\"T_f88b0a5d_aeb7_11e9_bf15_8c1645dd14ferow6_col4\" class=\"data row6 col4\" >12</td>\n",
       "                        <td id=\"T_f88b0a5d_aeb7_11e9_bf15_8c1645dd14ferow6_col5\" class=\"data row6 col5\" >51.05</td>\n",
       "                        <td id=\"T_f88b0a5d_aeb7_11e9_bf15_8c1645dd14ferow6_col6\" class=\"data row6 col6\" >4.72</td>\n",
       "                        <td id=\"T_f88b0a5d_aeb7_11e9_bf15_8c1645dd14ferow6_col7\" class=\"data row6 col7\" >10</td>\n",
       "            </tr>\n",
       "            <tr>\n",
       "                        <th id=\"T_f88b0a5d_aeb7_11e9_bf15_8c1645dd14felevel0_row7\" class=\"row_heading level0 row7\" >53</th>\n",
       "                        <td id=\"T_f88b0a5d_aeb7_11e9_bf15_8c1645dd14ferow7_col0\" class=\"data row7 col0\" >Damián Suárez</td>\n",
       "                        <td id=\"T_f88b0a5d_aeb7_11e9_bf15_8c1645dd14ferow7_col1\" class=\"data row7 col1\" >36</td>\n",
       "                        <td id=\"T_f88b0a5d_aeb7_11e9_bf15_8c1645dd14ferow7_col2\" class=\"data row7 col2\" >152</td>\n",
       "                        <td id=\"T_f88b0a5d_aeb7_11e9_bf15_8c1645dd14ferow7_col3\" class=\"data row7 col3\" >2550000</td>\n",
       "                        <td id=\"T_f88b0a5d_aeb7_11e9_bf15_8c1645dd14ferow7_col4\" class=\"data row7 col4\" >12</td>\n",
       "                        <td id=\"T_f88b0a5d_aeb7_11e9_bf15_8c1645dd14ferow7_col5\" class=\"data row7 col5\" >59.61</td>\n",
       "                        <td id=\"T_f88b0a5d_aeb7_11e9_bf15_8c1645dd14ferow7_col6\" class=\"data row7 col6\" >4.22</td>\n",
       "                        <td id=\"T_f88b0a5d_aeb7_11e9_bf15_8c1645dd14ferow7_col7\" class=\"data row7 col7\" >10</td>\n",
       "            </tr>\n",
       "            <tr>\n",
       "                        <th id=\"T_f88b0a5d_aeb7_11e9_bf15_8c1645dd14felevel0_row8\" class=\"row_heading level0 row8\" >35</th>\n",
       "                        <td id=\"T_f88b0a5d_aeb7_11e9_bf15_8c1645dd14ferow8_col0\" class=\"data row8 col0\" >Carriço</td>\n",
       "                        <td id=\"T_f88b0a5d_aeb7_11e9_bf15_8c1645dd14ferow8_col1\" class=\"data row8 col1\" >24</td>\n",
       "                        <td id=\"T_f88b0a5d_aeb7_11e9_bf15_8c1645dd14ferow8_col2\" class=\"data row8 col2\" >125</td>\n",
       "                        <td id=\"T_f88b0a5d_aeb7_11e9_bf15_8c1645dd14ferow8_col3\" class=\"data row8 col3\" >1190000</td>\n",
       "                        <td id=\"T_f88b0a5d_aeb7_11e9_bf15_8c1645dd14ferow8_col4\" class=\"data row8 col4\" >10</td>\n",
       "                        <td id=\"T_f88b0a5d_aeb7_11e9_bf15_8c1645dd14ferow8_col5\" class=\"data row8 col5\" >105.0</td>\n",
       "                        <td id=\"T_f88b0a5d_aeb7_11e9_bf15_8c1645dd14ferow8_col6\" class=\"data row8 col6\" >5.21</td>\n",
       "                        <td id=\"T_f88b0a5d_aeb7_11e9_bf15_8c1645dd14ferow8_col7\" class=\"data row8 col7\" >10</td>\n",
       "            </tr>\n",
       "            <tr>\n",
       "                        <th id=\"T_f88b0a5d_aeb7_11e9_bf15_8c1645dd14felevel0_row9\" class=\"row_heading level0 row9\" >111</th>\n",
       "                        <td id=\"T_f88b0a5d_aeb7_11e9_bf15_8c1645dd14ferow9_col0\" class=\"data row9 col0\" >Jordi Alba</td>\n",
       "                        <td id=\"T_f88b0a5d_aeb7_11e9_bf15_8c1645dd14ferow9_col1\" class=\"data row9 col1\" >36</td>\n",
       "                        <td id=\"T_f88b0a5d_aeb7_11e9_bf15_8c1645dd14ferow9_col2\" class=\"data row9 col2\" >200</td>\n",
       "                        <td id=\"T_f88b0a5d_aeb7_11e9_bf15_8c1645dd14ferow9_col3\" class=\"data row9 col3\" >6880000</td>\n",
       "                        <td id=\"T_f88b0a5d_aeb7_11e9_bf15_8c1645dd14ferow9_col4\" class=\"data row9 col4\" >6</td>\n",
       "                        <td id=\"T_f88b0a5d_aeb7_11e9_bf15_8c1645dd14ferow9_col5\" class=\"data row9 col5\" >29.07</td>\n",
       "                        <td id=\"T_f88b0a5d_aeb7_11e9_bf15_8c1645dd14ferow9_col6\" class=\"data row9 col6\" >5.56</td>\n",
       "                        <td id=\"T_f88b0a5d_aeb7_11e9_bf15_8c1645dd14ferow9_col7\" class=\"data row9 col7\" >9</td>\n",
       "            </tr>\n",
       "            <tr>\n",
       "                        <th id=\"T_f88b0a5d_aeb7_11e9_bf15_8c1645dd14felevel0_row10\" class=\"row_heading level0 row10\" >148</th>\n",
       "                        <td id=\"T_f88b0a5d_aeb7_11e9_bf15_8c1645dd14ferow10_col0\" class=\"data row10 col0\" >Miramón</td>\n",
       "                        <td id=\"T_f88b0a5d_aeb7_11e9_bf15_8c1645dd14ferow10_col1\" class=\"data row10 col1\" >30</td>\n",
       "                        <td id=\"T_f88b0a5d_aeb7_11e9_bf15_8c1645dd14ferow10_col2\" class=\"data row10 col2\" >143</td>\n",
       "                        <td id=\"T_f88b0a5d_aeb7_11e9_bf15_8c1645dd14ferow10_col3\" class=\"data row10 col3\" >1990000</td>\n",
       "                        <td id=\"T_f88b0a5d_aeb7_11e9_bf15_8c1645dd14ferow10_col4\" class=\"data row10 col4\" >5</td>\n",
       "                        <td id=\"T_f88b0a5d_aeb7_11e9_bf15_8c1645dd14ferow10_col5\" class=\"data row10 col5\" >71.86</td>\n",
       "                        <td id=\"T_f88b0a5d_aeb7_11e9_bf15_8c1645dd14ferow10_col6\" class=\"data row10 col6\" >4.77</td>\n",
       "                        <td id=\"T_f88b0a5d_aeb7_11e9_bf15_8c1645dd14ferow10_col7\" class=\"data row10 col7\" >9</td>\n",
       "            </tr>\n",
       "            <tr>\n",
       "                        <th id=\"T_f88b0a5d_aeb7_11e9_bf15_8c1645dd14felevel0_row11\" class=\"row_heading level0 row11\" >30</th>\n",
       "                        <td id=\"T_f88b0a5d_aeb7_11e9_bf15_8c1645dd14ferow11_col0\" class=\"data row11 col0\" >Calero</td>\n",
       "                        <td id=\"T_f88b0a5d_aeb7_11e9_bf15_8c1645dd14ferow11_col1\" class=\"data row11 col1\" >36</td>\n",
       "                        <td id=\"T_f88b0a5d_aeb7_11e9_bf15_8c1645dd14ferow11_col2\" class=\"data row11 col2\" >166</td>\n",
       "                        <td id=\"T_f88b0a5d_aeb7_11e9_bf15_8c1645dd14ferow11_col3\" class=\"data row11 col3\" >3040000</td>\n",
       "                        <td id=\"T_f88b0a5d_aeb7_11e9_bf15_8c1645dd14ferow11_col4\" class=\"data row11 col4\" >7</td>\n",
       "                        <td id=\"T_f88b0a5d_aeb7_11e9_bf15_8c1645dd14ferow11_col5\" class=\"data row11 col5\" >54.61</td>\n",
       "                        <td id=\"T_f88b0a5d_aeb7_11e9_bf15_8c1645dd14ferow11_col6\" class=\"data row11 col6\" >4.61</td>\n",
       "                        <td id=\"T_f88b0a5d_aeb7_11e9_bf15_8c1645dd14ferow11_col7\" class=\"data row11 col7\" >9</td>\n",
       "            </tr>\n",
       "            <tr>\n",
       "                        <th id=\"T_f88b0a5d_aeb7_11e9_bf15_8c1645dd14felevel0_row12\" class=\"row_heading level0 row12\" >83</th>\n",
       "                        <td id=\"T_f88b0a5d_aeb7_11e9_bf15_8c1645dd14ferow12_col0\" class=\"data row12 col0\" >Gayà</td>\n",
       "                        <td id=\"T_f88b0a5d_aeb7_11e9_bf15_8c1645dd14ferow12_col1\" class=\"data row12 col1\" >35</td>\n",
       "                        <td id=\"T_f88b0a5d_aeb7_11e9_bf15_8c1645dd14ferow12_col2\" class=\"data row12 col2\" >169</td>\n",
       "                        <td id=\"T_f88b0a5d_aeb7_11e9_bf15_8c1645dd14ferow12_col3\" class=\"data row12 col3\" >4540000</td>\n",
       "                        <td id=\"T_f88b0a5d_aeb7_11e9_bf15_8c1645dd14ferow12_col4\" class=\"data row12 col4\" >10</td>\n",
       "                        <td id=\"T_f88b0a5d_aeb7_11e9_bf15_8c1645dd14ferow12_col5\" class=\"data row12 col5\" >37.22</td>\n",
       "                        <td id=\"T_f88b0a5d_aeb7_11e9_bf15_8c1645dd14ferow12_col6\" class=\"data row12 col6\" >4.83</td>\n",
       "                        <td id=\"T_f88b0a5d_aeb7_11e9_bf15_8c1645dd14ferow12_col7\" class=\"data row12 col7\" >9</td>\n",
       "            </tr>\n",
       "            <tr>\n",
       "                        <th id=\"T_f88b0a5d_aeb7_11e9_bf15_8c1645dd14felevel0_row13\" class=\"row_heading level0 row13\" >29</th>\n",
       "                        <td id=\"T_f88b0a5d_aeb7_11e9_bf15_8c1645dd14ferow13_col0\" class=\"data row13 col0\" >Cabrera</td>\n",
       "                        <td id=\"T_f88b0a5d_aeb7_11e9_bf15_8c1645dd14ferow13_col1\" class=\"data row13 col1\" >32</td>\n",
       "                        <td id=\"T_f88b0a5d_aeb7_11e9_bf15_8c1645dd14ferow13_col2\" class=\"data row13 col2\" >153</td>\n",
       "                        <td id=\"T_f88b0a5d_aeb7_11e9_bf15_8c1645dd14ferow13_col3\" class=\"data row13 col3\" >2690000</td>\n",
       "                        <td id=\"T_f88b0a5d_aeb7_11e9_bf15_8c1645dd14ferow13_col4\" class=\"data row13 col4\" >11</td>\n",
       "                        <td id=\"T_f88b0a5d_aeb7_11e9_bf15_8c1645dd14ferow13_col5\" class=\"data row13 col5\" >56.88</td>\n",
       "                        <td id=\"T_f88b0a5d_aeb7_11e9_bf15_8c1645dd14ferow13_col6\" class=\"data row13 col6\" >4.78</td>\n",
       "                        <td id=\"T_f88b0a5d_aeb7_11e9_bf15_8c1645dd14ferow13_col7\" class=\"data row13 col7\" >8</td>\n",
       "            </tr>\n",
       "            <tr>\n",
       "                        <th id=\"T_f88b0a5d_aeb7_11e9_bf15_8c1645dd14felevel0_row14\" class=\"row_heading level0 row14\" >94</th>\n",
       "                        <td id=\"T_f88b0a5d_aeb7_11e9_bf15_8c1645dd14ferow14_col0\" class=\"data row14 col0\" >Hugo Mallo</td>\n",
       "                        <td id=\"T_f88b0a5d_aeb7_11e9_bf15_8c1645dd14ferow14_col1\" class=\"data row14 col1\" >35</td>\n",
       "                        <td id=\"T_f88b0a5d_aeb7_11e9_bf15_8c1645dd14ferow14_col2\" class=\"data row14 col2\" >154</td>\n",
       "                        <td id=\"T_f88b0a5d_aeb7_11e9_bf15_8c1645dd14ferow14_col3\" class=\"data row14 col3\" >3130000</td>\n",
       "                        <td id=\"T_f88b0a5d_aeb7_11e9_bf15_8c1645dd14ferow14_col4\" class=\"data row14 col4\" >11</td>\n",
       "                        <td id=\"T_f88b0a5d_aeb7_11e9_bf15_8c1645dd14ferow14_col5\" class=\"data row14 col5\" >49.2</td>\n",
       "                        <td id=\"T_f88b0a5d_aeb7_11e9_bf15_8c1645dd14ferow14_col6\" class=\"data row14 col6\" >4.4</td>\n",
       "                        <td id=\"T_f88b0a5d_aeb7_11e9_bf15_8c1645dd14ferow14_col7\" class=\"data row14 col7\" >8</td>\n",
       "            </tr>\n",
       "    </tbody></table>"
      ],
      "text/plain": [
       "<pandas.io.formats.style.Styler at 0x7fe2e9094828>"
      ]
     },
     "execution_count": 88,
     "metadata": {},
     "output_type": "execute_result"
    }
   ],
   "source": [
    "top_players_table(players, \"Defender\")"
   ]
  },
  {
   "cell_type": "code",
   "execution_count": 89,
   "metadata": {},
   "outputs": [
    {
     "data": {
      "application/vnd.plotly.v1+json": {
       "config": {
        "plotlyServerURL": "https://plot.ly"
       },
       "data": [
        {
         "hoverlabel": {
          "namelength": 0
         },
         "hovertemplate": "<b>%{hovertext}</b><br><br>points_per_game=%{x}<br>points_per_million=%{y}<br>pct_lineup=%{marker.size}<br>value=%{marker.color}",
         "hovertext": [
          "Antoñito",
          "Antunes",
          "Araujo",
          "Arbilla",
          "Aritz Elustondo",
          "Bartra",
          "Bernardo",
          "Bruno González",
          "Bustinza",
          "Cabrera",
          "Calero",
          "Capa",
          "Carriço",
          "Carvajal",
          "Coke",
          "Cote",
          "Damián Suárez",
          "De Marcos",
          "Diakhaby",
          "Diego Llorente",
          "Djené",
          "Dídac Vilà",
          "Escudero",
          "Feddal",
          "Funes Mori",
          "Gabriel Paulista",
          "Garay",
          "Gayà",
          "Giménez",
          "Hermoso",
          "Hugo Mallo",
          "Héctor Moreno",
          "Iñigo Martínez",
          "Jason",
          "Jaume Costa",
          "Javi López",
          "Jesús Navas",
          "Jonathan Silva",
          "Jordi Alba",
          "Juncà",
          "Junior Firpo",
          "Kiko Olivas",
          "Kjaer",
          "Laguardia",
          "Lenglet",
          "Luna",
          "Mandi",
          "Marcelo",
          "Mario Gaspar",
          "Maripán",
          "Martín Aguirregabiria",
          "Miramón",
          "Nacho",
          "Nacho Martínez",
          "Naldo",
          "Nelson Semedo",
          "Pedraza",
          "Piccini",
          "Piqué",
          "Postigo",
          "Ramis",
          "Raúl Navas",
          "Rodrigo Tarín",
          "Roncaglia",
          "Rubén Duarte",
          "Rubén Peña",
          "Santiago Arias",
          "Savic",
          "Sergi Gómez",
          "Sergi Roberto",
          "Sergio Ramos",
          "Sidnei",
          "Siovas",
          "Toño García",
          "Varane",
          "Vezo",
          "Víctor Ruiz",
          "Wass",
          "Ximo Navarro",
          "Yeray",
          "Yuri",
          "Zaldua"
         ],
         "legendgroup": "",
         "marker": {
          "color": [
           180000,
           370000,
           1450000,
           290000,
           1550000,
           2800000,
           1850000,
           220000,
           790000,
           2690000,
           3040000,
           720000,
           1190000,
           4020000,
           1280000,
           3200000,
           2550000,
           850000,
           250000,
           1800000,
           3070000,
           390000,
           830000,
           770000,
           1840000,
           2870000,
           2980000,
           4540000,
           3330000,
           5620000,
           3130000,
           770000,
           3220000,
           920000,
           330000,
           480000,
           6390000,
           1890000,
           6880000,
           150000,
           3150000,
           1670000,
           510000,
           3330000,
           3230000,
           150000,
           2340000,
           3250000,
           690000,
           1480000,
           500000,
           1990000,
           460000,
           2240000,
           1160000,
           1830000,
           1940000,
           730000,
           8360000,
           150000,
           390000,
           230000,
           180000,
           150000,
           750000,
           2440000,
           950000,
           660000,
           900000,
           3210000,
           4960000,
           630000,
           2980000,
           270000,
           3240000,
           1340000,
           200000,
           2900000,
           1100000,
           1820000,
           2240000,
           1300000
          ],
          "coloraxis": "coloraxis",
          "size": [
           3,
           10,
           6,
           3,
           5,
           4,
           12,
           4,
           1,
           8,
           9,
           2,
           10,
           7.000000000000001,
           1,
           7.000000000000001,
           10,
           6,
           2,
           3,
           5,
           4,
           2,
           3,
           7.000000000000001,
           2,
           2,
           9,
           3,
           10,
           8,
           3,
           3,
           6,
           4,
           2,
           7.000000000000001,
           11,
           9,
           1,
           3,
           7.000000000000001,
           4,
           10,
           4,
           1,
           12,
           2,
           2,
           5,
           1,
           9,
           3,
           6,
           2,
           4,
           4,
           3,
           7.000000000000001,
           1,
           2,
           1,
           3,
           3,
           2,
           14.000000000000002,
           3,
           1,
           6,
           3,
           5,
           5,
           7.000000000000001,
           3,
           5,
           4,
           2,
           4,
           6,
           7.000000000000001,
           6,
           4
          ],
          "sizemode": "area",
          "sizeref": 0.035,
          "symbol": "circle"
         },
         "mode": "markers",
         "name": "",
         "showlegend": false,
         "type": "scatter",
         "x": [
          3.066666666666667,
          4.5,
          4.40625,
          4.16,
          4.333333333333333,
          3.9393939393939394,
          4,
          3.347826086956522,
          4.32,
          4.78125,
          4.611111111111111,
          3.28,
          5.208333333333333,
          5.291666666666667,
          4.037037037037037,
          5.114285714285714,
          4.222222222222222,
          3.1666666666666665,
          3.6818181818181817,
          4.476190476190476,
          4.264705882352941,
          3.925925925925926,
          3.380952380952381,
          4.190476190476191,
          4.290322580645161,
          4.466666666666667,
          4.75,
          4.828571428571428,
          5.285714285714286,
          5.5625,
          4.4,
          3.96,
          4.03030303030303,
          3.7666666666666666,
          3.619047619047619,
          3.6956521739130435,
          6.03125,
          5,
          5.555555555555555,
          2.9523809523809526,
          4.916666666666667,
          3.8857142857142857,
          4.038461538461538,
          4.722222222222222,
          5,
          3.1875,
          4.514285714285714,
          3.4347826086956523,
          3.5806451612903225,
          5.782608695652174,
          2.925925925925926,
          4.766666666666667,
          3.35,
          4.742857142857143,
          5.375,
          3.9615384615384617,
          3.8529411764705883,
          3.869565217391304,
          6.485714285714286,
          3.238095238095238,
          4.142857142857143,
          4.25,
          4.333333333333333,
          2.8947368421052633,
          3.4545454545454546,
          5.612903225806452,
          4,
          3.4444444444444446,
          3.71875,
          4.241379310344827,
          5.392857142857143,
          4.125,
          4.647058823529412,
          4,
          3.8125,
          4.7368421052631575,
          3.3181818181818183,
          4.21875,
          3.935483870967742,
          4,
          4.228571428571429,
          4.3076923076923075
         ],
         "xaxis": "x",
         "y": [
          511.11111111111114,
          340.5405405405406,
          97.24137931034483,
          358.6206896551724,
          75.48387096774194,
          46.42857142857143,
          67.02702702702703,
          350,
          136.70886075949366,
          56.87732342007435,
          54.60526315789474,
          113.88888888888889,
          105.0420168067227,
          31.592039800995025,
          85.15625,
          55.9375,
          59.607843137254896,
          111.76470588235294,
          324,
          52.22222222222222,
          47.23127035830618,
          271.7948717948718,
          85.54216867469879,
          114.28571428571428,
          72.28260869565217,
          46.68989547038328,
          38.25503355704698,
          37.22466960352423,
          33.333333333333336,
          31.672597864768683,
          49.201277955271564,
          128.57142857142858,
          41.30434782608696,
          122.82608695652175,
          230.3030303030303,
          177.08333333333334,
          30.203442879499217,
          79.36507936507937,
          29.069767441860467,
          413.3333333333333,
          37.460317460317455,
          81.43712574850301,
          205.8823529411765,
          51.051051051051054,
          35.60371517027864,
          340,
          67.52136752136752,
          24.307692307692307,
          160.8695652173913,
          89.86486486486487,
          158,
          71.85929648241206,
          145.65217391304347,
          74.10714285714286,
          74.13793103448276,
          56.284153005464475,
          67.5257731958763,
          121.91780821917808,
          27.153110047846887,
          453.3333333333333,
          223.0769230769231,
          295.65217391304344,
          433.3333333333333,
          366.6666666666667,
          152,
          71.31147540983606,
          105.26315789473685,
          93.93939393939394,
          132.2222222222222,
          38.31775700934579,
          30.443548387096772,
          157.14285714285714,
          53.02013422818792,
          311.11111111111114,
          37.654320987654316,
          67.16417910447761,
          365,
          46.55172413793104,
          110.90909090909092,
          65.93406593406593,
          66.07142857142857,
          86.15384615384616
         ],
         "yaxis": "y"
        }
       ],
       "layout": {
        "coloraxis": {
         "colorbar": {
          "title": {
           "text": "value"
          }
         },
         "colorscale": [
          [
           0,
           "#0d0887"
          ],
          [
           0.1111111111111111,
           "#46039f"
          ],
          [
           0.2222222222222222,
           "#7201a8"
          ],
          [
           0.3333333333333333,
           "#9c179e"
          ],
          [
           0.4444444444444444,
           "#bd3786"
          ],
          [
           0.5555555555555556,
           "#d8576b"
          ],
          [
           0.6666666666666666,
           "#ed7953"
          ],
          [
           0.7777777777777778,
           "#fb9f3a"
          ],
          [
           0.8888888888888888,
           "#fdca26"
          ],
          [
           1,
           "#f0f921"
          ]
         ]
        },
        "height": 600,
        "legend": {
         "itemsizing": "constant",
         "tracegroupgap": 0
        },
        "margin": {
         "t": 60
        },
        "template": {
         "data": {
          "bar": [
           {
            "error_x": {
             "color": "#2a3f5f"
            },
            "error_y": {
             "color": "#2a3f5f"
            },
            "marker": {
             "line": {
              "color": "#E5ECF6",
              "width": 0.5
             }
            },
            "type": "bar"
           }
          ],
          "barpolar": [
           {
            "marker": {
             "line": {
              "color": "#E5ECF6",
              "width": 0.5
             }
            },
            "type": "barpolar"
           }
          ],
          "carpet": [
           {
            "aaxis": {
             "endlinecolor": "#2a3f5f",
             "gridcolor": "white",
             "linecolor": "white",
             "minorgridcolor": "white",
             "startlinecolor": "#2a3f5f"
            },
            "baxis": {
             "endlinecolor": "#2a3f5f",
             "gridcolor": "white",
             "linecolor": "white",
             "minorgridcolor": "white",
             "startlinecolor": "#2a3f5f"
            },
            "type": "carpet"
           }
          ],
          "choropleth": [
           {
            "colorbar": {
             "outlinewidth": 0,
             "ticks": ""
            },
            "type": "choropleth"
           }
          ],
          "contour": [
           {
            "colorbar": {
             "outlinewidth": 0,
             "ticks": ""
            },
            "colorscale": [
             [
              0,
              "#0d0887"
             ],
             [
              0.1111111111111111,
              "#46039f"
             ],
             [
              0.2222222222222222,
              "#7201a8"
             ],
             [
              0.3333333333333333,
              "#9c179e"
             ],
             [
              0.4444444444444444,
              "#bd3786"
             ],
             [
              0.5555555555555556,
              "#d8576b"
             ],
             [
              0.6666666666666666,
              "#ed7953"
             ],
             [
              0.7777777777777778,
              "#fb9f3a"
             ],
             [
              0.8888888888888888,
              "#fdca26"
             ],
             [
              1,
              "#f0f921"
             ]
            ],
            "type": "contour"
           }
          ],
          "contourcarpet": [
           {
            "colorbar": {
             "outlinewidth": 0,
             "ticks": ""
            },
            "type": "contourcarpet"
           }
          ],
          "heatmap": [
           {
            "colorbar": {
             "outlinewidth": 0,
             "ticks": ""
            },
            "colorscale": [
             [
              0,
              "#0d0887"
             ],
             [
              0.1111111111111111,
              "#46039f"
             ],
             [
              0.2222222222222222,
              "#7201a8"
             ],
             [
              0.3333333333333333,
              "#9c179e"
             ],
             [
              0.4444444444444444,
              "#bd3786"
             ],
             [
              0.5555555555555556,
              "#d8576b"
             ],
             [
              0.6666666666666666,
              "#ed7953"
             ],
             [
              0.7777777777777778,
              "#fb9f3a"
             ],
             [
              0.8888888888888888,
              "#fdca26"
             ],
             [
              1,
              "#f0f921"
             ]
            ],
            "type": "heatmap"
           }
          ],
          "heatmapgl": [
           {
            "colorbar": {
             "outlinewidth": 0,
             "ticks": ""
            },
            "colorscale": [
             [
              0,
              "#0d0887"
             ],
             [
              0.1111111111111111,
              "#46039f"
             ],
             [
              0.2222222222222222,
              "#7201a8"
             ],
             [
              0.3333333333333333,
              "#9c179e"
             ],
             [
              0.4444444444444444,
              "#bd3786"
             ],
             [
              0.5555555555555556,
              "#d8576b"
             ],
             [
              0.6666666666666666,
              "#ed7953"
             ],
             [
              0.7777777777777778,
              "#fb9f3a"
             ],
             [
              0.8888888888888888,
              "#fdca26"
             ],
             [
              1,
              "#f0f921"
             ]
            ],
            "type": "heatmapgl"
           }
          ],
          "histogram": [
           {
            "marker": {
             "colorbar": {
              "outlinewidth": 0,
              "ticks": ""
             }
            },
            "type": "histogram"
           }
          ],
          "histogram2d": [
           {
            "colorbar": {
             "outlinewidth": 0,
             "ticks": ""
            },
            "colorscale": [
             [
              0,
              "#0d0887"
             ],
             [
              0.1111111111111111,
              "#46039f"
             ],
             [
              0.2222222222222222,
              "#7201a8"
             ],
             [
              0.3333333333333333,
              "#9c179e"
             ],
             [
              0.4444444444444444,
              "#bd3786"
             ],
             [
              0.5555555555555556,
              "#d8576b"
             ],
             [
              0.6666666666666666,
              "#ed7953"
             ],
             [
              0.7777777777777778,
              "#fb9f3a"
             ],
             [
              0.8888888888888888,
              "#fdca26"
             ],
             [
              1,
              "#f0f921"
             ]
            ],
            "type": "histogram2d"
           }
          ],
          "histogram2dcontour": [
           {
            "colorbar": {
             "outlinewidth": 0,
             "ticks": ""
            },
            "colorscale": [
             [
              0,
              "#0d0887"
             ],
             [
              0.1111111111111111,
              "#46039f"
             ],
             [
              0.2222222222222222,
              "#7201a8"
             ],
             [
              0.3333333333333333,
              "#9c179e"
             ],
             [
              0.4444444444444444,
              "#bd3786"
             ],
             [
              0.5555555555555556,
              "#d8576b"
             ],
             [
              0.6666666666666666,
              "#ed7953"
             ],
             [
              0.7777777777777778,
              "#fb9f3a"
             ],
             [
              0.8888888888888888,
              "#fdca26"
             ],
             [
              1,
              "#f0f921"
             ]
            ],
            "type": "histogram2dcontour"
           }
          ],
          "mesh3d": [
           {
            "colorbar": {
             "outlinewidth": 0,
             "ticks": ""
            },
            "type": "mesh3d"
           }
          ],
          "parcoords": [
           {
            "line": {
             "colorbar": {
              "outlinewidth": 0,
              "ticks": ""
             }
            },
            "type": "parcoords"
           }
          ],
          "scatter": [
           {
            "marker": {
             "colorbar": {
              "outlinewidth": 0,
              "ticks": ""
             }
            },
            "type": "scatter"
           }
          ],
          "scatter3d": [
           {
            "line": {
             "colorbar": {
              "outlinewidth": 0,
              "ticks": ""
             }
            },
            "marker": {
             "colorbar": {
              "outlinewidth": 0,
              "ticks": ""
             }
            },
            "type": "scatter3d"
           }
          ],
          "scattercarpet": [
           {
            "marker": {
             "colorbar": {
              "outlinewidth": 0,
              "ticks": ""
             }
            },
            "type": "scattercarpet"
           }
          ],
          "scattergeo": [
           {
            "marker": {
             "colorbar": {
              "outlinewidth": 0,
              "ticks": ""
             }
            },
            "type": "scattergeo"
           }
          ],
          "scattergl": [
           {
            "marker": {
             "colorbar": {
              "outlinewidth": 0,
              "ticks": ""
             }
            },
            "type": "scattergl"
           }
          ],
          "scattermapbox": [
           {
            "marker": {
             "colorbar": {
              "outlinewidth": 0,
              "ticks": ""
             }
            },
            "type": "scattermapbox"
           }
          ],
          "scatterpolar": [
           {
            "marker": {
             "colorbar": {
              "outlinewidth": 0,
              "ticks": ""
             }
            },
            "type": "scatterpolar"
           }
          ],
          "scatterpolargl": [
           {
            "marker": {
             "colorbar": {
              "outlinewidth": 0,
              "ticks": ""
             }
            },
            "type": "scatterpolargl"
           }
          ],
          "scatterternary": [
           {
            "marker": {
             "colorbar": {
              "outlinewidth": 0,
              "ticks": ""
             }
            },
            "type": "scatterternary"
           }
          ],
          "surface": [
           {
            "colorbar": {
             "outlinewidth": 0,
             "ticks": ""
            },
            "colorscale": [
             [
              0,
              "#0d0887"
             ],
             [
              0.1111111111111111,
              "#46039f"
             ],
             [
              0.2222222222222222,
              "#7201a8"
             ],
             [
              0.3333333333333333,
              "#9c179e"
             ],
             [
              0.4444444444444444,
              "#bd3786"
             ],
             [
              0.5555555555555556,
              "#d8576b"
             ],
             [
              0.6666666666666666,
              "#ed7953"
             ],
             [
              0.7777777777777778,
              "#fb9f3a"
             ],
             [
              0.8888888888888888,
              "#fdca26"
             ],
             [
              1,
              "#f0f921"
             ]
            ],
            "type": "surface"
           }
          ],
          "table": [
           {
            "cells": {
             "fill": {
              "color": "#EBF0F8"
             },
             "line": {
              "color": "white"
             }
            },
            "header": {
             "fill": {
              "color": "#C8D4E3"
             },
             "line": {
              "color": "white"
             }
            },
            "type": "table"
           }
          ]
         },
         "layout": {
          "annotationdefaults": {
           "arrowcolor": "#2a3f5f",
           "arrowhead": 0,
           "arrowwidth": 1
          },
          "colorscale": {
           "diverging": [
            [
             0,
             "#8e0152"
            ],
            [
             0.1,
             "#c51b7d"
            ],
            [
             0.2,
             "#de77ae"
            ],
            [
             0.3,
             "#f1b6da"
            ],
            [
             0.4,
             "#fde0ef"
            ],
            [
             0.5,
             "#f7f7f7"
            ],
            [
             0.6,
             "#e6f5d0"
            ],
            [
             0.7,
             "#b8e186"
            ],
            [
             0.8,
             "#7fbc41"
            ],
            [
             0.9,
             "#4d9221"
            ],
            [
             1,
             "#276419"
            ]
           ],
           "sequential": [
            [
             0,
             "#0d0887"
            ],
            [
             0.1111111111111111,
             "#46039f"
            ],
            [
             0.2222222222222222,
             "#7201a8"
            ],
            [
             0.3333333333333333,
             "#9c179e"
            ],
            [
             0.4444444444444444,
             "#bd3786"
            ],
            [
             0.5555555555555556,
             "#d8576b"
            ],
            [
             0.6666666666666666,
             "#ed7953"
            ],
            [
             0.7777777777777778,
             "#fb9f3a"
            ],
            [
             0.8888888888888888,
             "#fdca26"
            ],
            [
             1,
             "#f0f921"
            ]
           ],
           "sequentialminus": [
            [
             0,
             "#0d0887"
            ],
            [
             0.1111111111111111,
             "#46039f"
            ],
            [
             0.2222222222222222,
             "#7201a8"
            ],
            [
             0.3333333333333333,
             "#9c179e"
            ],
            [
             0.4444444444444444,
             "#bd3786"
            ],
            [
             0.5555555555555556,
             "#d8576b"
            ],
            [
             0.6666666666666666,
             "#ed7953"
            ],
            [
             0.7777777777777778,
             "#fb9f3a"
            ],
            [
             0.8888888888888888,
             "#fdca26"
            ],
            [
             1,
             "#f0f921"
            ]
           ]
          },
          "colorway": [
           "#636efa",
           "#EF553B",
           "#00cc96",
           "#ab63fa",
           "#FFA15A",
           "#19d3f3",
           "#FF6692",
           "#B6E880",
           "#FF97FF",
           "#FECB52"
          ],
          "font": {
           "color": "#2a3f5f"
          },
          "geo": {
           "bgcolor": "white",
           "lakecolor": "white",
           "landcolor": "#E5ECF6",
           "showlakes": true,
           "showland": true,
           "subunitcolor": "white"
          },
          "hoverlabel": {
           "align": "left"
          },
          "hovermode": "closest",
          "mapbox": {
           "style": "light"
          },
          "paper_bgcolor": "white",
          "plot_bgcolor": "#E5ECF6",
          "polar": {
           "angularaxis": {
            "gridcolor": "white",
            "linecolor": "white",
            "ticks": ""
           },
           "bgcolor": "#E5ECF6",
           "radialaxis": {
            "gridcolor": "white",
            "linecolor": "white",
            "ticks": ""
           }
          },
          "scene": {
           "xaxis": {
            "backgroundcolor": "#E5ECF6",
            "gridcolor": "white",
            "gridwidth": 2,
            "linecolor": "white",
            "showbackground": true,
            "ticks": "",
            "zerolinecolor": "white"
           },
           "yaxis": {
            "backgroundcolor": "#E5ECF6",
            "gridcolor": "white",
            "gridwidth": 2,
            "linecolor": "white",
            "showbackground": true,
            "ticks": "",
            "zerolinecolor": "white"
           },
           "zaxis": {
            "backgroundcolor": "#E5ECF6",
            "gridcolor": "white",
            "gridwidth": 2,
            "linecolor": "white",
            "showbackground": true,
            "ticks": "",
            "zerolinecolor": "white"
           }
          },
          "shapedefaults": {
           "line": {
            "color": "#2a3f5f"
           }
          },
          "ternary": {
           "aaxis": {
            "gridcolor": "white",
            "linecolor": "white",
            "ticks": ""
           },
           "baxis": {
            "gridcolor": "white",
            "linecolor": "white",
            "ticks": ""
           },
           "bgcolor": "#E5ECF6",
           "caxis": {
            "gridcolor": "white",
            "linecolor": "white",
            "ticks": ""
           }
          },
          "title": {
           "x": 0.05
          },
          "xaxis": {
           "automargin": true,
           "gridcolor": "white",
           "linecolor": "white",
           "ticks": "",
           "zerolinecolor": "white",
           "zerolinewidth": 2
          },
          "yaxis": {
           "automargin": true,
           "gridcolor": "white",
           "linecolor": "white",
           "ticks": "",
           "zerolinecolor": "white",
           "zerolinewidth": 2
          }
         }
        },
        "xaxis": {
         "anchor": "y",
         "domain": [
          0,
          0.98
         ],
         "title": {
          "text": "Points per Game"
         }
        },
        "yaxis": {
         "anchor": "x",
         "domain": [
          0,
          1
         ],
         "title": {
          "text": "Points per Million"
         }
        }
       }
      },
      "text/html": [
       "<div>\n",
       "        \n",
       "        \n",
       "            <div id=\"1a52f235-9080-4289-9934-391c6d8b839b\" class=\"plotly-graph-div\" style=\"height:600px; width:100%;\"></div>\n",
       "            <script type=\"text/javascript\">\n",
       "                require([\"plotly\"], function(Plotly) {\n",
       "                    window.PLOTLYENV=window.PLOTLYENV || {};\n",
       "                    \n",
       "                if (document.getElementById(\"1a52f235-9080-4289-9934-391c6d8b839b\")) {\n",
       "                    Plotly.newPlot(\n",
       "                        '1a52f235-9080-4289-9934-391c6d8b839b',\n",
       "                        [{\"hoverlabel\": {\"namelength\": 0}, \"hovertemplate\": \"<b>%{hovertext}</b><br><br>points_per_game=%{x}<br>points_per_million=%{y}<br>pct_lineup=%{marker.size}<br>value=%{marker.color}\", \"hovertext\": [\"Anto\\u00f1ito\", \"Antunes\", \"Araujo\", \"Arbilla\", \"Aritz Elustondo\", \"Bartra\", \"Bernardo\", \"Bruno Gonz\\u00e1lez\", \"Bustinza\", \"Cabrera\", \"Calero\", \"Capa\", \"Carri\\u00e7o\", \"Carvajal\", \"Coke\", \"Cote\", \"Dami\\u00e1n Su\\u00e1rez\", \"De Marcos\", \"Diakhaby\", \"Diego Llorente\", \"Djen\\u00e9\", \"D\\u00eddac Vil\\u00e0\", \"Escudero\", \"Feddal\", \"Funes Mori\", \"Gabriel Paulista\", \"Garay\", \"Gay\\u00e0\", \"Gim\\u00e9nez\", \"Hermoso\", \"Hugo Mallo\", \"H\\u00e9ctor Moreno\", \"I\\u00f1igo Mart\\u00ednez\", \"Jason\", \"Jaume Costa\", \"Javi L\\u00f3pez\", \"Jes\\u00fas Navas\", \"Jonathan Silva\", \"Jordi Alba\", \"Junc\\u00e0\", \"Junior Firpo\", \"Kiko Olivas\", \"Kjaer\", \"Laguardia\", \"Lenglet\", \"Luna\", \"Mandi\", \"Marcelo\", \"Mario Gaspar\", \"Marip\\u00e1n\", \"Mart\\u00edn Aguirregabiria\", \"Miram\\u00f3n\", \"Nacho\", \"Nacho Mart\\u00ednez\", \"Naldo\", \"Nelson Semedo\", \"Pedraza\", \"Piccini\", \"Piqu\\u00e9\", \"Postigo\", \"Ramis\", \"Ra\\u00fal Navas\", \"Rodrigo Tar\\u00edn\", \"Roncaglia\", \"Rub\\u00e9n Duarte\", \"Rub\\u00e9n Pe\\u00f1a\", \"Santiago Arias\", \"Savic\", \"Sergi G\\u00f3mez\", \"Sergi Roberto\", \"Sergio Ramos\", \"Sidnei\", \"Siovas\", \"To\\u00f1o Garc\\u00eda\", \"Varane\", \"Vezo\", \"V\\u00edctor Ruiz\", \"Wass\", \"Ximo Navarro\", \"Yeray\", \"Yuri\", \"Zaldua\"], \"legendgroup\": \"\", \"marker\": {\"color\": [180000, 370000, 1450000, 290000, 1550000, 2800000, 1850000, 220000, 790000, 2690000, 3040000, 720000, 1190000, 4020000, 1280000, 3200000, 2550000, 850000, 250000, 1800000, 3070000, 390000, 830000, 770000, 1840000, 2870000, 2980000, 4540000, 3330000, 5620000, 3130000, 770000, 3220000, 920000, 330000, 480000, 6390000, 1890000, 6880000, 150000, 3150000, 1670000, 510000, 3330000, 3230000, 150000, 2340000, 3250000, 690000, 1480000, 500000, 1990000, 460000, 2240000, 1160000, 1830000, 1940000, 730000, 8360000, 150000, 390000, 230000, 180000, 150000, 750000, 2440000, 950000, 660000, 900000, 3210000, 4960000, 630000, 2980000, 270000, 3240000, 1340000, 200000, 2900000, 1100000, 1820000, 2240000, 1300000], \"coloraxis\": \"coloraxis\", \"size\": [3.0, 10.0, 6.0, 3.0, 5.0, 4.0, 12.0, 4.0, 1.0, 8.0, 9.0, 2.0, 10.0, 7.000000000000001, 1.0, 7.000000000000001, 10.0, 6.0, 2.0, 3.0, 5.0, 4.0, 2.0, 3.0, 7.000000000000001, 2.0, 2.0, 9.0, 3.0, 10.0, 8.0, 3.0, 3.0, 6.0, 4.0, 2.0, 7.000000000000001, 11.0, 9.0, 1.0, 3.0, 7.000000000000001, 4.0, 10.0, 4.0, 1.0, 12.0, 2.0, 2.0, 5.0, 1.0, 9.0, 3.0, 6.0, 2.0, 4.0, 4.0, 3.0, 7.000000000000001, 1.0, 2.0, 1.0, 3.0, 3.0, 2.0, 14.000000000000002, 3.0, 1.0, 6.0, 3.0, 5.0, 5.0, 7.000000000000001, 3.0, 5.0, 4.0, 2.0, 4.0, 6.0, 7.000000000000001, 6.0, 4.0], \"sizemode\": \"area\", \"sizeref\": 0.035, \"symbol\": \"circle\"}, \"mode\": \"markers\", \"name\": \"\", \"showlegend\": false, \"type\": \"scatter\", \"x\": [3.066666666666667, 4.5, 4.40625, 4.16, 4.333333333333333, 3.9393939393939394, 4.0, 3.347826086956522, 4.32, 4.78125, 4.611111111111111, 3.28, 5.208333333333333, 5.291666666666667, 4.037037037037037, 5.114285714285714, 4.222222222222222, 3.1666666666666665, 3.6818181818181817, 4.476190476190476, 4.264705882352941, 3.925925925925926, 3.380952380952381, 4.190476190476191, 4.290322580645161, 4.466666666666667, 4.75, 4.828571428571428, 5.285714285714286, 5.5625, 4.4, 3.96, 4.03030303030303, 3.7666666666666666, 3.619047619047619, 3.6956521739130435, 6.03125, 5.0, 5.555555555555555, 2.9523809523809526, 4.916666666666667, 3.8857142857142857, 4.038461538461538, 4.722222222222222, 5.0, 3.1875, 4.514285714285714, 3.4347826086956523, 3.5806451612903225, 5.782608695652174, 2.925925925925926, 4.766666666666667, 3.35, 4.742857142857143, 5.375, 3.9615384615384617, 3.8529411764705883, 3.869565217391304, 6.485714285714286, 3.238095238095238, 4.142857142857143, 4.25, 4.333333333333333, 2.8947368421052633, 3.4545454545454546, 5.612903225806452, 4.0, 3.4444444444444446, 3.71875, 4.241379310344827, 5.392857142857143, 4.125, 4.647058823529412, 4.0, 3.8125, 4.7368421052631575, 3.3181818181818183, 4.21875, 3.935483870967742, 4.0, 4.228571428571429, 4.3076923076923075], \"xaxis\": \"x\", \"y\": [511.11111111111114, 340.5405405405406, 97.24137931034483, 358.6206896551724, 75.48387096774194, 46.42857142857143, 67.02702702702703, 350.0, 136.70886075949366, 56.87732342007435, 54.60526315789474, 113.88888888888889, 105.0420168067227, 31.592039800995025, 85.15625, 55.9375, 59.607843137254896, 111.76470588235294, 324.0, 52.22222222222222, 47.23127035830618, 271.7948717948718, 85.54216867469879, 114.28571428571428, 72.28260869565217, 46.68989547038328, 38.25503355704698, 37.22466960352423, 33.333333333333336, 31.672597864768683, 49.201277955271564, 128.57142857142858, 41.30434782608696, 122.82608695652175, 230.3030303030303, 177.08333333333334, 30.203442879499217, 79.36507936507937, 29.069767441860467, 413.3333333333333, 37.460317460317455, 81.43712574850301, 205.8823529411765, 51.051051051051054, 35.60371517027864, 340.0, 67.52136752136752, 24.307692307692307, 160.8695652173913, 89.86486486486487, 158.0, 71.85929648241206, 145.65217391304347, 74.10714285714286, 74.13793103448276, 56.284153005464475, 67.5257731958763, 121.91780821917808, 27.153110047846887, 453.3333333333333, 223.0769230769231, 295.65217391304344, 433.3333333333333, 366.6666666666667, 152.0, 71.31147540983606, 105.26315789473685, 93.93939393939394, 132.2222222222222, 38.31775700934579, 30.443548387096772, 157.14285714285714, 53.02013422818792, 311.11111111111114, 37.654320987654316, 67.16417910447761, 365.0, 46.55172413793104, 110.90909090909092, 65.93406593406593, 66.07142857142857, 86.15384615384616], \"yaxis\": \"y\"}],\n",
       "                        {\"coloraxis\": {\"colorbar\": {\"title\": {\"text\": \"value\"}}, \"colorscale\": [[0.0, \"#0d0887\"], [0.1111111111111111, \"#46039f\"], [0.2222222222222222, \"#7201a8\"], [0.3333333333333333, \"#9c179e\"], [0.4444444444444444, \"#bd3786\"], [0.5555555555555556, \"#d8576b\"], [0.6666666666666666, \"#ed7953\"], [0.7777777777777778, \"#fb9f3a\"], [0.8888888888888888, \"#fdca26\"], [1.0, \"#f0f921\"]]}, \"height\": 600, \"legend\": {\"itemsizing\": \"constant\", \"tracegroupgap\": 0}, \"margin\": {\"t\": 60}, \"template\": {\"data\": {\"bar\": [{\"error_x\": {\"color\": \"#2a3f5f\"}, \"error_y\": {\"color\": \"#2a3f5f\"}, \"marker\": {\"line\": {\"color\": \"#E5ECF6\", \"width\": 0.5}}, \"type\": \"bar\"}], \"barpolar\": [{\"marker\": {\"line\": {\"color\": \"#E5ECF6\", \"width\": 0.5}}, \"type\": \"barpolar\"}], \"carpet\": [{\"aaxis\": {\"endlinecolor\": \"#2a3f5f\", \"gridcolor\": \"white\", \"linecolor\": \"white\", \"minorgridcolor\": \"white\", \"startlinecolor\": \"#2a3f5f\"}, \"baxis\": {\"endlinecolor\": \"#2a3f5f\", \"gridcolor\": \"white\", \"linecolor\": \"white\", \"minorgridcolor\": \"white\", \"startlinecolor\": \"#2a3f5f\"}, \"type\": \"carpet\"}], \"choropleth\": [{\"colorbar\": {\"outlinewidth\": 0, \"ticks\": \"\"}, \"type\": \"choropleth\"}], \"contour\": [{\"colorbar\": {\"outlinewidth\": 0, \"ticks\": \"\"}, \"colorscale\": [[0.0, \"#0d0887\"], [0.1111111111111111, \"#46039f\"], [0.2222222222222222, \"#7201a8\"], [0.3333333333333333, \"#9c179e\"], [0.4444444444444444, \"#bd3786\"], [0.5555555555555556, \"#d8576b\"], [0.6666666666666666, \"#ed7953\"], [0.7777777777777778, \"#fb9f3a\"], [0.8888888888888888, \"#fdca26\"], [1.0, \"#f0f921\"]], \"type\": \"contour\"}], \"contourcarpet\": [{\"colorbar\": {\"outlinewidth\": 0, \"ticks\": \"\"}, \"type\": \"contourcarpet\"}], \"heatmap\": [{\"colorbar\": {\"outlinewidth\": 0, \"ticks\": \"\"}, \"colorscale\": [[0.0, \"#0d0887\"], [0.1111111111111111, \"#46039f\"], [0.2222222222222222, \"#7201a8\"], [0.3333333333333333, \"#9c179e\"], [0.4444444444444444, \"#bd3786\"], [0.5555555555555556, \"#d8576b\"], [0.6666666666666666, \"#ed7953\"], [0.7777777777777778, \"#fb9f3a\"], [0.8888888888888888, \"#fdca26\"], [1.0, \"#f0f921\"]], \"type\": \"heatmap\"}], \"heatmapgl\": [{\"colorbar\": {\"outlinewidth\": 0, \"ticks\": \"\"}, \"colorscale\": [[0.0, \"#0d0887\"], [0.1111111111111111, \"#46039f\"], [0.2222222222222222, \"#7201a8\"], [0.3333333333333333, \"#9c179e\"], [0.4444444444444444, \"#bd3786\"], [0.5555555555555556, \"#d8576b\"], [0.6666666666666666, \"#ed7953\"], [0.7777777777777778, \"#fb9f3a\"], [0.8888888888888888, \"#fdca26\"], [1.0, \"#f0f921\"]], \"type\": \"heatmapgl\"}], \"histogram\": [{\"marker\": {\"colorbar\": {\"outlinewidth\": 0, \"ticks\": \"\"}}, \"type\": \"histogram\"}], \"histogram2d\": [{\"colorbar\": {\"outlinewidth\": 0, \"ticks\": \"\"}, \"colorscale\": [[0.0, \"#0d0887\"], [0.1111111111111111, \"#46039f\"], [0.2222222222222222, \"#7201a8\"], [0.3333333333333333, \"#9c179e\"], [0.4444444444444444, \"#bd3786\"], [0.5555555555555556, \"#d8576b\"], [0.6666666666666666, \"#ed7953\"], [0.7777777777777778, \"#fb9f3a\"], [0.8888888888888888, \"#fdca26\"], [1.0, \"#f0f921\"]], \"type\": \"histogram2d\"}], \"histogram2dcontour\": [{\"colorbar\": {\"outlinewidth\": 0, \"ticks\": \"\"}, \"colorscale\": [[0.0, \"#0d0887\"], [0.1111111111111111, \"#46039f\"], [0.2222222222222222, \"#7201a8\"], [0.3333333333333333, \"#9c179e\"], [0.4444444444444444, \"#bd3786\"], [0.5555555555555556, \"#d8576b\"], [0.6666666666666666, \"#ed7953\"], [0.7777777777777778, \"#fb9f3a\"], [0.8888888888888888, \"#fdca26\"], [1.0, \"#f0f921\"]], \"type\": \"histogram2dcontour\"}], \"mesh3d\": [{\"colorbar\": {\"outlinewidth\": 0, \"ticks\": \"\"}, \"type\": \"mesh3d\"}], \"parcoords\": [{\"line\": {\"colorbar\": {\"outlinewidth\": 0, \"ticks\": \"\"}}, \"type\": \"parcoords\"}], \"scatter\": [{\"marker\": {\"colorbar\": {\"outlinewidth\": 0, \"ticks\": \"\"}}, \"type\": \"scatter\"}], \"scatter3d\": [{\"line\": {\"colorbar\": {\"outlinewidth\": 0, \"ticks\": \"\"}}, \"marker\": {\"colorbar\": {\"outlinewidth\": 0, \"ticks\": \"\"}}, \"type\": \"scatter3d\"}], \"scattercarpet\": [{\"marker\": {\"colorbar\": {\"outlinewidth\": 0, \"ticks\": \"\"}}, \"type\": \"scattercarpet\"}], \"scattergeo\": [{\"marker\": {\"colorbar\": {\"outlinewidth\": 0, \"ticks\": \"\"}}, \"type\": \"scattergeo\"}], \"scattergl\": [{\"marker\": {\"colorbar\": {\"outlinewidth\": 0, \"ticks\": \"\"}}, \"type\": \"scattergl\"}], \"scattermapbox\": [{\"marker\": {\"colorbar\": {\"outlinewidth\": 0, \"ticks\": \"\"}}, \"type\": \"scattermapbox\"}], \"scatterpolar\": [{\"marker\": {\"colorbar\": {\"outlinewidth\": 0, \"ticks\": \"\"}}, \"type\": \"scatterpolar\"}], \"scatterpolargl\": [{\"marker\": {\"colorbar\": {\"outlinewidth\": 0, \"ticks\": \"\"}}, \"type\": \"scatterpolargl\"}], \"scatterternary\": [{\"marker\": {\"colorbar\": {\"outlinewidth\": 0, \"ticks\": \"\"}}, \"type\": \"scatterternary\"}], \"surface\": [{\"colorbar\": {\"outlinewidth\": 0, \"ticks\": \"\"}, \"colorscale\": [[0.0, \"#0d0887\"], [0.1111111111111111, \"#46039f\"], [0.2222222222222222, \"#7201a8\"], [0.3333333333333333, \"#9c179e\"], [0.4444444444444444, \"#bd3786\"], [0.5555555555555556, \"#d8576b\"], [0.6666666666666666, \"#ed7953\"], [0.7777777777777778, \"#fb9f3a\"], [0.8888888888888888, \"#fdca26\"], [1.0, \"#f0f921\"]], \"type\": \"surface\"}], \"table\": [{\"cells\": {\"fill\": {\"color\": \"#EBF0F8\"}, \"line\": {\"color\": \"white\"}}, \"header\": {\"fill\": {\"color\": \"#C8D4E3\"}, \"line\": {\"color\": \"white\"}}, \"type\": \"table\"}]}, \"layout\": {\"annotationdefaults\": {\"arrowcolor\": \"#2a3f5f\", \"arrowhead\": 0, \"arrowwidth\": 1}, \"colorscale\": {\"diverging\": [[0, \"#8e0152\"], [0.1, \"#c51b7d\"], [0.2, \"#de77ae\"], [0.3, \"#f1b6da\"], [0.4, \"#fde0ef\"], [0.5, \"#f7f7f7\"], [0.6, \"#e6f5d0\"], [0.7, \"#b8e186\"], [0.8, \"#7fbc41\"], [0.9, \"#4d9221\"], [1, \"#276419\"]], \"sequential\": [[0.0, \"#0d0887\"], [0.1111111111111111, \"#46039f\"], [0.2222222222222222, \"#7201a8\"], [0.3333333333333333, \"#9c179e\"], [0.4444444444444444, \"#bd3786\"], [0.5555555555555556, \"#d8576b\"], [0.6666666666666666, \"#ed7953\"], [0.7777777777777778, \"#fb9f3a\"], [0.8888888888888888, \"#fdca26\"], [1.0, \"#f0f921\"]], \"sequentialminus\": [[0.0, \"#0d0887\"], [0.1111111111111111, \"#46039f\"], [0.2222222222222222, \"#7201a8\"], [0.3333333333333333, \"#9c179e\"], [0.4444444444444444, \"#bd3786\"], [0.5555555555555556, \"#d8576b\"], [0.6666666666666666, \"#ed7953\"], [0.7777777777777778, \"#fb9f3a\"], [0.8888888888888888, \"#fdca26\"], [1.0, \"#f0f921\"]]}, \"colorway\": [\"#636efa\", \"#EF553B\", \"#00cc96\", \"#ab63fa\", \"#FFA15A\", \"#19d3f3\", \"#FF6692\", \"#B6E880\", \"#FF97FF\", \"#FECB52\"], \"font\": {\"color\": \"#2a3f5f\"}, \"geo\": {\"bgcolor\": \"white\", \"lakecolor\": \"white\", \"landcolor\": \"#E5ECF6\", \"showlakes\": true, \"showland\": true, \"subunitcolor\": \"white\"}, \"hoverlabel\": {\"align\": \"left\"}, \"hovermode\": \"closest\", \"mapbox\": {\"style\": \"light\"}, \"paper_bgcolor\": \"white\", \"plot_bgcolor\": \"#E5ECF6\", \"polar\": {\"angularaxis\": {\"gridcolor\": \"white\", \"linecolor\": \"white\", \"ticks\": \"\"}, \"bgcolor\": \"#E5ECF6\", \"radialaxis\": {\"gridcolor\": \"white\", \"linecolor\": \"white\", \"ticks\": \"\"}}, \"scene\": {\"xaxis\": {\"backgroundcolor\": \"#E5ECF6\", \"gridcolor\": \"white\", \"gridwidth\": 2, \"linecolor\": \"white\", \"showbackground\": true, \"ticks\": \"\", \"zerolinecolor\": \"white\"}, \"yaxis\": {\"backgroundcolor\": \"#E5ECF6\", \"gridcolor\": \"white\", \"gridwidth\": 2, \"linecolor\": \"white\", \"showbackground\": true, \"ticks\": \"\", \"zerolinecolor\": \"white\"}, \"zaxis\": {\"backgroundcolor\": \"#E5ECF6\", \"gridcolor\": \"white\", \"gridwidth\": 2, \"linecolor\": \"white\", \"showbackground\": true, \"ticks\": \"\", \"zerolinecolor\": \"white\"}}, \"shapedefaults\": {\"line\": {\"color\": \"#2a3f5f\"}}, \"ternary\": {\"aaxis\": {\"gridcolor\": \"white\", \"linecolor\": \"white\", \"ticks\": \"\"}, \"baxis\": {\"gridcolor\": \"white\", \"linecolor\": \"white\", \"ticks\": \"\"}, \"bgcolor\": \"#E5ECF6\", \"caxis\": {\"gridcolor\": \"white\", \"linecolor\": \"white\", \"ticks\": \"\"}}, \"title\": {\"x\": 0.05}, \"xaxis\": {\"automargin\": true, \"gridcolor\": \"white\", \"linecolor\": \"white\", \"ticks\": \"\", \"zerolinecolor\": \"white\", \"zerolinewidth\": 2}, \"yaxis\": {\"automargin\": true, \"gridcolor\": \"white\", \"linecolor\": \"white\", \"ticks\": \"\", \"zerolinecolor\": \"white\", \"zerolinewidth\": 2}}}, \"xaxis\": {\"anchor\": \"y\", \"domain\": [0.0, 0.98], \"title\": {\"text\": \"Points per Game\"}}, \"yaxis\": {\"anchor\": \"x\", \"domain\": [0.0, 1.0], \"title\": {\"text\": \"Points per Million\"}}},\n",
       "                        {\"responsive\": true}\n",
       "                    ).then(function(){\n",
       "                            \n",
       "var gd = document.getElementById('1a52f235-9080-4289-9934-391c6d8b839b');\n",
       "var x = new MutationObserver(function (mutations, observer) {{\n",
       "        var display = window.getComputedStyle(gd).display;\n",
       "        if (!display || display === 'none') {{\n",
       "            console.log([gd, 'removed!']);\n",
       "            Plotly.purge(gd);\n",
       "            observer.disconnect();\n",
       "        }}\n",
       "}});\n",
       "\n",
       "// Listen for the removal of the full notebook cells\n",
       "var notebookContainer = gd.closest('#notebook-container');\n",
       "if (notebookContainer) {{\n",
       "    x.observe(notebookContainer, {childList: true});\n",
       "}}\n",
       "\n",
       "// Listen for the clearing of the current output cell\n",
       "var outputEl = gd.closest('.output');\n",
       "if (outputEl) {{\n",
       "    x.observe(outputEl, {childList: true});\n",
       "}}\n",
       "\n",
       "                        })\n",
       "                };\n",
       "                });\n",
       "            </script>\n",
       "        </div>"
      ]
     },
     "metadata": {},
     "output_type": "display_data"
    }
   ],
   "source": [
    "bubble_chart(players, \"Defender\")"
   ]
  },
  {
   "cell_type": "markdown",
   "metadata": {},
   "source": [
    "## Midfielders"
   ]
  },
  {
   "cell_type": "code",
   "execution_count": 90,
   "metadata": {},
   "outputs": [
    {
     "data": {
      "text/html": [
       "<style  type=\"text/css\" >\n",
       "    #T_f88b0a5e_aeb7_11e9_bf15_8c1645dd14fe th {\n",
       "          font-size: 11px;\n",
       "          text-align: center;\n",
       "          font-weight: bold;\n",
       "          color: #6d6d6d;\n",
       "          background-color: #f7f7f9;\n",
       "    }    #T_f88b0a5e_aeb7_11e9_bf15_8c1645dd14fe td {\n",
       "          font-size: 11px;\n",
       "    }    #T_f88b0a5e_aeb7_11e9_bf15_8c1645dd14ferow0_col0 {\n",
       "            font-weight:  bold;\n",
       "        }    #T_f88b0a5e_aeb7_11e9_bf15_8c1645dd14ferow0_col4 {\n",
       "            color:  black;\n",
       "        }    #T_f88b0a5e_aeb7_11e9_bf15_8c1645dd14ferow0_col5 {\n",
       "            color:  black;\n",
       "        }    #T_f88b0a5e_aeb7_11e9_bf15_8c1645dd14ferow0_col6 {\n",
       "            color:  green;\n",
       "        }    #T_f88b0a5e_aeb7_11e9_bf15_8c1645dd14ferow0_col7 {\n",
       "            background-color:  #44ab42;\n",
       "            color:  #000000;\n",
       "        }    #T_f88b0a5e_aeb7_11e9_bf15_8c1645dd14ferow1_col0 {\n",
       "            font-weight:  bold;\n",
       "        }    #T_f88b0a5e_aeb7_11e9_bf15_8c1645dd14ferow1_col4 {\n",
       "            color:  red;\n",
       "        }    #T_f88b0a5e_aeb7_11e9_bf15_8c1645dd14ferow1_col5 {\n",
       "            color:  black;\n",
       "        }    #T_f88b0a5e_aeb7_11e9_bf15_8c1645dd14ferow1_col6 {\n",
       "            color:  black;\n",
       "        }    #T_f88b0a5e_aeb7_11e9_bf15_8c1645dd14ferow1_col7 {\n",
       "            background-color:  #72c070;\n",
       "            color:  #000000;\n",
       "        }    #T_f88b0a5e_aeb7_11e9_bf15_8c1645dd14ferow2_col0 {\n",
       "            font-weight:  bold;\n",
       "        }    #T_f88b0a5e_aeb7_11e9_bf15_8c1645dd14ferow2_col4 {\n",
       "            color:  black;\n",
       "        }    #T_f88b0a5e_aeb7_11e9_bf15_8c1645dd14ferow2_col5 {\n",
       "            color:  black;\n",
       "        }    #T_f88b0a5e_aeb7_11e9_bf15_8c1645dd14ferow2_col6 {\n",
       "            color:  black;\n",
       "        }    #T_f88b0a5e_aeb7_11e9_bf15_8c1645dd14ferow2_col7 {\n",
       "            background-color:  #72c070;\n",
       "            color:  #000000;\n",
       "        }    #T_f88b0a5e_aeb7_11e9_bf15_8c1645dd14ferow3_col0 {\n",
       "            font-weight:  bold;\n",
       "        }    #T_f88b0a5e_aeb7_11e9_bf15_8c1645dd14ferow3_col4 {\n",
       "            color:  black;\n",
       "        }    #T_f88b0a5e_aeb7_11e9_bf15_8c1645dd14ferow3_col5 {\n",
       "            color:  black;\n",
       "        }    #T_f88b0a5e_aeb7_11e9_bf15_8c1645dd14ferow3_col6 {\n",
       "            color:  green;\n",
       "        }    #T_f88b0a5e_aeb7_11e9_bf15_8c1645dd14ferow3_col7 {\n",
       "            background-color:  #82c780;\n",
       "            color:  #000000;\n",
       "        }    #T_f88b0a5e_aeb7_11e9_bf15_8c1645dd14ferow4_col0 {\n",
       "            font-weight:  bold;\n",
       "        }    #T_f88b0a5e_aeb7_11e9_bf15_8c1645dd14ferow4_col4 {\n",
       "            color:  black;\n",
       "        }    #T_f88b0a5e_aeb7_11e9_bf15_8c1645dd14ferow4_col5 {\n",
       "            color:  black;\n",
       "        }    #T_f88b0a5e_aeb7_11e9_bf15_8c1645dd14ferow4_col6 {\n",
       "            color:  green;\n",
       "        }    #T_f88b0a5e_aeb7_11e9_bf15_8c1645dd14ferow4_col7 {\n",
       "            background-color:  #a0d59f;\n",
       "            color:  #000000;\n",
       "        }    #T_f88b0a5e_aeb7_11e9_bf15_8c1645dd14ferow5_col0 {\n",
       "            font-weight:  bold;\n",
       "        }    #T_f88b0a5e_aeb7_11e9_bf15_8c1645dd14ferow5_col4 {\n",
       "            color:  black;\n",
       "        }    #T_f88b0a5e_aeb7_11e9_bf15_8c1645dd14ferow5_col5 {\n",
       "            color:  black;\n",
       "        }    #T_f88b0a5e_aeb7_11e9_bf15_8c1645dd14ferow5_col6 {\n",
       "            color:  green;\n",
       "        }    #T_f88b0a5e_aeb7_11e9_bf15_8c1645dd14ferow5_col7 {\n",
       "            background-color:  #a0d59f;\n",
       "            color:  #000000;\n",
       "        }    #T_f88b0a5e_aeb7_11e9_bf15_8c1645dd14ferow6_col0 {\n",
       "            font-weight:  bold;\n",
       "        }    #T_f88b0a5e_aeb7_11e9_bf15_8c1645dd14ferow6_col4 {\n",
       "            color:  black;\n",
       "        }    #T_f88b0a5e_aeb7_11e9_bf15_8c1645dd14ferow6_col5 {\n",
       "            color:  black;\n",
       "        }    #T_f88b0a5e_aeb7_11e9_bf15_8c1645dd14ferow6_col6 {\n",
       "            color:  black;\n",
       "        }    #T_f88b0a5e_aeb7_11e9_bf15_8c1645dd14ferow6_col7 {\n",
       "            background-color:  #a0d59f;\n",
       "            color:  #000000;\n",
       "        }    #T_f88b0a5e_aeb7_11e9_bf15_8c1645dd14ferow7_col0 {\n",
       "            font-weight:  bold;\n",
       "        }    #T_f88b0a5e_aeb7_11e9_bf15_8c1645dd14ferow7_col4 {\n",
       "            color:  black;\n",
       "        }    #T_f88b0a5e_aeb7_11e9_bf15_8c1645dd14ferow7_col5 {\n",
       "            color:  black;\n",
       "        }    #T_f88b0a5e_aeb7_11e9_bf15_8c1645dd14ferow7_col6 {\n",
       "            color:  green;\n",
       "        }    #T_f88b0a5e_aeb7_11e9_bf15_8c1645dd14ferow7_col7 {\n",
       "            background-color:  #afdcae;\n",
       "            color:  #000000;\n",
       "        }    #T_f88b0a5e_aeb7_11e9_bf15_8c1645dd14ferow8_col0 {\n",
       "            font-weight:  bold;\n",
       "        }    #T_f88b0a5e_aeb7_11e9_bf15_8c1645dd14ferow8_col4 {\n",
       "            color:  red;\n",
       "        }    #T_f88b0a5e_aeb7_11e9_bf15_8c1645dd14ferow8_col5 {\n",
       "            color:  black;\n",
       "        }    #T_f88b0a5e_aeb7_11e9_bf15_8c1645dd14ferow8_col6 {\n",
       "            color:  black;\n",
       "        }    #T_f88b0a5e_aeb7_11e9_bf15_8c1645dd14ferow8_col7 {\n",
       "            background-color:  #afdcae;\n",
       "            color:  #000000;\n",
       "        }    #T_f88b0a5e_aeb7_11e9_bf15_8c1645dd14ferow9_col0 {\n",
       "            font-weight:  bold;\n",
       "        }    #T_f88b0a5e_aeb7_11e9_bf15_8c1645dd14ferow9_col4 {\n",
       "            color:  black;\n",
       "        }    #T_f88b0a5e_aeb7_11e9_bf15_8c1645dd14ferow9_col5 {\n",
       "            color:  black;\n",
       "        }    #T_f88b0a5e_aeb7_11e9_bf15_8c1645dd14ferow9_col6 {\n",
       "            color:  black;\n",
       "        }    #T_f88b0a5e_aeb7_11e9_bf15_8c1645dd14ferow9_col7 {\n",
       "            background-color:  #bfe3be;\n",
       "            color:  #000000;\n",
       "        }    #T_f88b0a5e_aeb7_11e9_bf15_8c1645dd14ferow10_col0 {\n",
       "            font-weight:  bold;\n",
       "        }    #T_f88b0a5e_aeb7_11e9_bf15_8c1645dd14ferow10_col4 {\n",
       "            color:  black;\n",
       "        }    #T_f88b0a5e_aeb7_11e9_bf15_8c1645dd14ferow10_col5 {\n",
       "            color:  black;\n",
       "        }    #T_f88b0a5e_aeb7_11e9_bf15_8c1645dd14ferow10_col6 {\n",
       "            color:  black;\n",
       "        }    #T_f88b0a5e_aeb7_11e9_bf15_8c1645dd14ferow10_col7 {\n",
       "            background-color:  #bfe3be;\n",
       "            color:  #000000;\n",
       "        }    #T_f88b0a5e_aeb7_11e9_bf15_8c1645dd14ferow11_col0 {\n",
       "            font-weight:  bold;\n",
       "        }    #T_f88b0a5e_aeb7_11e9_bf15_8c1645dd14ferow11_col4 {\n",
       "            color:  black;\n",
       "        }    #T_f88b0a5e_aeb7_11e9_bf15_8c1645dd14ferow11_col5 {\n",
       "            color:  black;\n",
       "        }    #T_f88b0a5e_aeb7_11e9_bf15_8c1645dd14ferow11_col6 {\n",
       "            color:  green;\n",
       "        }    #T_f88b0a5e_aeb7_11e9_bf15_8c1645dd14ferow11_col7 {\n",
       "            background-color:  #edf8ed;\n",
       "            color:  #000000;\n",
       "        }    #T_f88b0a5e_aeb7_11e9_bf15_8c1645dd14ferow12_col0 {\n",
       "            font-weight:  bold;\n",
       "        }    #T_f88b0a5e_aeb7_11e9_bf15_8c1645dd14ferow12_col4 {\n",
       "            color:  black;\n",
       "        }    #T_f88b0a5e_aeb7_11e9_bf15_8c1645dd14ferow12_col5 {\n",
       "            color:  black;\n",
       "        }    #T_f88b0a5e_aeb7_11e9_bf15_8c1645dd14ferow12_col6 {\n",
       "            color:  black;\n",
       "        }    #T_f88b0a5e_aeb7_11e9_bf15_8c1645dd14ferow12_col7 {\n",
       "            background-color:  #edf8ed;\n",
       "            color:  #000000;\n",
       "        }    #T_f88b0a5e_aeb7_11e9_bf15_8c1645dd14ferow13_col0 {\n",
       "            font-weight:  bold;\n",
       "        }    #T_f88b0a5e_aeb7_11e9_bf15_8c1645dd14ferow13_col4 {\n",
       "            color:  black;\n",
       "        }    #T_f88b0a5e_aeb7_11e9_bf15_8c1645dd14ferow13_col5 {\n",
       "            color:  black;\n",
       "        }    #T_f88b0a5e_aeb7_11e9_bf15_8c1645dd14ferow13_col6 {\n",
       "            color:  black;\n",
       "        }    #T_f88b0a5e_aeb7_11e9_bf15_8c1645dd14ferow13_col7 {\n",
       "            background-color:  #edf8ed;\n",
       "            color:  #000000;\n",
       "        }    #T_f88b0a5e_aeb7_11e9_bf15_8c1645dd14ferow14_col0 {\n",
       "            font-weight:  bold;\n",
       "        }    #T_f88b0a5e_aeb7_11e9_bf15_8c1645dd14ferow14_col4 {\n",
       "            color:  black;\n",
       "        }    #T_f88b0a5e_aeb7_11e9_bf15_8c1645dd14ferow14_col5 {\n",
       "            color:  black;\n",
       "        }    #T_f88b0a5e_aeb7_11e9_bf15_8c1645dd14ferow14_col6 {\n",
       "            color:  black;\n",
       "        }    #T_f88b0a5e_aeb7_11e9_bf15_8c1645dd14ferow14_col7 {\n",
       "            background-color:  #edf8ed;\n",
       "            color:  #000000;\n",
       "        }</style><table id=\"T_f88b0a5e_aeb7_11e9_bf15_8c1645dd14fe\" ><caption>Top Midfielders:</caption><thead>    <tr>        <th class=\"blank level0\" ></th>        <th class=\"col_heading level0 col0\" >name</th>        <th class=\"col_heading level0 col1\" >games</th>        <th class=\"col_heading level0 col2\" >points</th>        <th class=\"col_heading level0 col3\" >value</th>        <th class=\"col_heading level0 col4\" >cards</th>        <th class=\"col_heading level0 col5\" >points_per_million</th>        <th class=\"col_heading level0 col6\" >points_per_game</th>        <th class=\"col_heading level0 col7\" >pct_lineup</th>    </tr></thead><tbody>\n",
       "                <tr>\n",
       "                        <th id=\"T_f88b0a5e_aeb7_11e9_bf15_8c1645dd14felevel0_row0\" class=\"row_heading level0 row0\" >162</th>\n",
       "                        <td id=\"T_f88b0a5e_aeb7_11e9_bf15_8c1645dd14ferow0_col0\" class=\"data row0 col0\" >Parejo</td>\n",
       "                        <td id=\"T_f88b0a5e_aeb7_11e9_bf15_8c1645dd14ferow0_col1\" class=\"data row0 col1\" >36</td>\n",
       "                        <td id=\"T_f88b0a5e_aeb7_11e9_bf15_8c1645dd14ferow0_col2\" class=\"data row0 col2\" >255</td>\n",
       "                        <td id=\"T_f88b0a5e_aeb7_11e9_bf15_8c1645dd14ferow0_col3\" class=\"data row0 col3\" >11420000</td>\n",
       "                        <td id=\"T_f88b0a5e_aeb7_11e9_bf15_8c1645dd14ferow0_col4\" class=\"data row0 col4\" >6</td>\n",
       "                        <td id=\"T_f88b0a5e_aeb7_11e9_bf15_8c1645dd14ferow0_col5\" class=\"data row0 col5\" >22.33</td>\n",
       "                        <td id=\"T_f88b0a5e_aeb7_11e9_bf15_8c1645dd14ferow0_col6\" class=\"data row0 col6\" >7.08</td>\n",
       "                        <td id=\"T_f88b0a5e_aeb7_11e9_bf15_8c1645dd14ferow0_col7\" class=\"data row0 col7\" >22</td>\n",
       "            </tr>\n",
       "            <tr>\n",
       "                        <th id=\"T_f88b0a5e_aeb7_11e9_bf15_8c1645dd14felevel0_row1\" class=\"row_heading level0 row1\" >1</th>\n",
       "                        <td id=\"T_f88b0a5e_aeb7_11e9_bf15_8c1645dd14ferow1_col0\" class=\"data row1 col0\" >Alcaraz</td>\n",
       "                        <td id=\"T_f88b0a5e_aeb7_11e9_bf15_8c1645dd14ferow1_col1\" class=\"data row1 col1\" >34</td>\n",
       "                        <td id=\"T_f88b0a5e_aeb7_11e9_bf15_8c1645dd14ferow1_col2\" class=\"data row1 col2\" >176</td>\n",
       "                        <td id=\"T_f88b0a5e_aeb7_11e9_bf15_8c1645dd14ferow1_col3\" class=\"data row1 col3\" >3210000</td>\n",
       "                        <td id=\"T_f88b0a5e_aeb7_11e9_bf15_8c1645dd14ferow1_col4\" class=\"data row1 col4\" >13</td>\n",
       "                        <td id=\"T_f88b0a5e_aeb7_11e9_bf15_8c1645dd14ferow1_col5\" class=\"data row1 col5\" >54.83</td>\n",
       "                        <td id=\"T_f88b0a5e_aeb7_11e9_bf15_8c1645dd14ferow1_col6\" class=\"data row1 col6\" >5.18</td>\n",
       "                        <td id=\"T_f88b0a5e_aeb7_11e9_bf15_8c1645dd14ferow1_col7\" class=\"data row1 col7\" >19</td>\n",
       "            </tr>\n",
       "            <tr>\n",
       "                        <th id=\"T_f88b0a5e_aeb7_11e9_bf15_8c1645dd14felevel0_row2\" class=\"row_heading level0 row2\" >110</th>\n",
       "                        <td id=\"T_f88b0a5e_aeb7_11e9_bf15_8c1645dd14ferow2_col0\" class=\"data row2 col0\" >Jordan</td>\n",
       "                        <td id=\"T_f88b0a5e_aeb7_11e9_bf15_8c1645dd14ferow2_col1\" class=\"data row2 col1\" >36</td>\n",
       "                        <td id=\"T_f88b0a5e_aeb7_11e9_bf15_8c1645dd14ferow2_col2\" class=\"data row2 col2\" >201</td>\n",
       "                        <td id=\"T_f88b0a5e_aeb7_11e9_bf15_8c1645dd14ferow2_col3\" class=\"data row2 col3\" >4620000</td>\n",
       "                        <td id=\"T_f88b0a5e_aeb7_11e9_bf15_8c1645dd14ferow2_col4\" class=\"data row2 col4\" >10</td>\n",
       "                        <td id=\"T_f88b0a5e_aeb7_11e9_bf15_8c1645dd14ferow2_col5\" class=\"data row2 col5\" >43.51</td>\n",
       "                        <td id=\"T_f88b0a5e_aeb7_11e9_bf15_8c1645dd14ferow2_col6\" class=\"data row2 col6\" >5.58</td>\n",
       "                        <td id=\"T_f88b0a5e_aeb7_11e9_bf15_8c1645dd14ferow2_col7\" class=\"data row2 col7\" >19</td>\n",
       "            </tr>\n",
       "            <tr>\n",
       "                        <th id=\"T_f88b0a5e_aeb7_11e9_bf15_8c1645dd14felevel0_row3\" class=\"row_heading level0 row3\" >32</th>\n",
       "                        <td id=\"T_f88b0a5e_aeb7_11e9_bf15_8c1645dd14ferow3_col0\" class=\"data row3 col0\" >Canales</td>\n",
       "                        <td id=\"T_f88b0a5e_aeb7_11e9_bf15_8c1645dd14ferow3_col1\" class=\"data row3 col1\" >32</td>\n",
       "                        <td id=\"T_f88b0a5e_aeb7_11e9_bf15_8c1645dd14ferow3_col2\" class=\"data row3 col2\" >214</td>\n",
       "                        <td id=\"T_f88b0a5e_aeb7_11e9_bf15_8c1645dd14ferow3_col3\" class=\"data row3 col3\" >6630000</td>\n",
       "                        <td id=\"T_f88b0a5e_aeb7_11e9_bf15_8c1645dd14ferow3_col4\" class=\"data row3 col4\" >7</td>\n",
       "                        <td id=\"T_f88b0a5e_aeb7_11e9_bf15_8c1645dd14ferow3_col5\" class=\"data row3 col5\" >32.28</td>\n",
       "                        <td id=\"T_f88b0a5e_aeb7_11e9_bf15_8c1645dd14ferow3_col6\" class=\"data row3 col6\" >6.69</td>\n",
       "                        <td id=\"T_f88b0a5e_aeb7_11e9_bf15_8c1645dd14ferow3_col7\" class=\"data row3 col7\" >18</td>\n",
       "            </tr>\n",
       "            <tr>\n",
       "                        <th id=\"T_f88b0a5e_aeb7_11e9_bf15_8c1645dd14felevel0_row4\" class=\"row_heading level0 row4\" >172</th>\n",
       "                        <td id=\"T_f88b0a5e_aeb7_11e9_bf15_8c1645dd14ferow4_col0\" class=\"data row4 col0\" >Rakitic</td>\n",
       "                        <td id=\"T_f88b0a5e_aeb7_11e9_bf15_8c1645dd14ferow4_col1\" class=\"data row4 col1\" >34</td>\n",
       "                        <td id=\"T_f88b0a5e_aeb7_11e9_bf15_8c1645dd14ferow4_col2\" class=\"data row4 col2\" >195</td>\n",
       "                        <td id=\"T_f88b0a5e_aeb7_11e9_bf15_8c1645dd14ferow4_col3\" class=\"data row4 col3\" >5530000</td>\n",
       "                        <td id=\"T_f88b0a5e_aeb7_11e9_bf15_8c1645dd14ferow4_col4\" class=\"data row4 col4\" >7</td>\n",
       "                        <td id=\"T_f88b0a5e_aeb7_11e9_bf15_8c1645dd14ferow4_col5\" class=\"data row4 col5\" >35.26</td>\n",
       "                        <td id=\"T_f88b0a5e_aeb7_11e9_bf15_8c1645dd14ferow4_col6\" class=\"data row4 col6\" >5.74</td>\n",
       "                        <td id=\"T_f88b0a5e_aeb7_11e9_bf15_8c1645dd14ferow4_col7\" class=\"data row4 col7\" >16</td>\n",
       "            </tr>\n",
       "            <tr>\n",
       "                        <th id=\"T_f88b0a5e_aeb7_11e9_bf15_8c1645dd14felevel0_row5\" class=\"row_heading level0 row5\" >108</th>\n",
       "                        <td id=\"T_f88b0a5e_aeb7_11e9_bf15_8c1645dd14ferow5_col0\" class=\"data row5 col0\" >Joaquín</td>\n",
       "                        <td id=\"T_f88b0a5e_aeb7_11e9_bf15_8c1645dd14ferow5_col1\" class=\"data row5 col1\" >30</td>\n",
       "                        <td id=\"T_f88b0a5e_aeb7_11e9_bf15_8c1645dd14ferow5_col2\" class=\"data row5 col2\" >175</td>\n",
       "                        <td id=\"T_f88b0a5e_aeb7_11e9_bf15_8c1645dd14ferow5_col3\" class=\"data row5 col3\" >2590000</td>\n",
       "                        <td id=\"T_f88b0a5e_aeb7_11e9_bf15_8c1645dd14ferow5_col4\" class=\"data row5 col4\" >5</td>\n",
       "                        <td id=\"T_f88b0a5e_aeb7_11e9_bf15_8c1645dd14ferow5_col5\" class=\"data row5 col5\" >67.57</td>\n",
       "                        <td id=\"T_f88b0a5e_aeb7_11e9_bf15_8c1645dd14ferow5_col6\" class=\"data row5 col6\" >5.83</td>\n",
       "                        <td id=\"T_f88b0a5e_aeb7_11e9_bf15_8c1645dd14ferow5_col7\" class=\"data row5 col7\" >16</td>\n",
       "            </tr>\n",
       "            <tr>\n",
       "                        <th id=\"T_f88b0a5e_aeb7_11e9_bf15_8c1645dd14felevel0_row6\" class=\"row_heading level0 row6\" >213</th>\n",
       "                        <td id=\"T_f88b0a5e_aeb7_11e9_bf15_8c1645dd14ferow6_col0\" class=\"data row6 col0\" >Vidal</td>\n",
       "                        <td id=\"T_f88b0a5e_aeb7_11e9_bf15_8c1645dd14ferow6_col1\" class=\"data row6 col1\" >33</td>\n",
       "                        <td id=\"T_f88b0a5e_aeb7_11e9_bf15_8c1645dd14ferow6_col2\" class=\"data row6 col2\" >174</td>\n",
       "                        <td id=\"T_f88b0a5e_aeb7_11e9_bf15_8c1645dd14ferow6_col3\" class=\"data row6 col3\" >3360000</td>\n",
       "                        <td id=\"T_f88b0a5e_aeb7_11e9_bf15_8c1645dd14ferow6_col4\" class=\"data row6 col4\" >7</td>\n",
       "                        <td id=\"T_f88b0a5e_aeb7_11e9_bf15_8c1645dd14ferow6_col5\" class=\"data row6 col5\" >51.79</td>\n",
       "                        <td id=\"T_f88b0a5e_aeb7_11e9_bf15_8c1645dd14ferow6_col6\" class=\"data row6 col6\" >5.27</td>\n",
       "                        <td id=\"T_f88b0a5e_aeb7_11e9_bf15_8c1645dd14ferow6_col7\" class=\"data row6 col7\" >16</td>\n",
       "            </tr>\n",
       "            <tr>\n",
       "                        <th id=\"T_f88b0a5e_aeb7_11e9_bf15_8c1645dd14felevel0_row7\" class=\"row_heading level0 row7\" >38</th>\n",
       "                        <td id=\"T_f88b0a5e_aeb7_11e9_bf15_8c1645dd14ferow7_col0\" class=\"data row7 col0\" >Cazorla</td>\n",
       "                        <td id=\"T_f88b0a5e_aeb7_11e9_bf15_8c1645dd14ferow7_col1\" class=\"data row7 col1\" >35</td>\n",
       "                        <td id=\"T_f88b0a5e_aeb7_11e9_bf15_8c1645dd14ferow7_col2\" class=\"data row7 col2\" >215</td>\n",
       "                        <td id=\"T_f88b0a5e_aeb7_11e9_bf15_8c1645dd14ferow7_col3\" class=\"data row7 col3\" >6860000</td>\n",
       "                        <td id=\"T_f88b0a5e_aeb7_11e9_bf15_8c1645dd14ferow7_col4\" class=\"data row7 col4\" >2</td>\n",
       "                        <td id=\"T_f88b0a5e_aeb7_11e9_bf15_8c1645dd14ferow7_col5\" class=\"data row7 col5\" >31.34</td>\n",
       "                        <td id=\"T_f88b0a5e_aeb7_11e9_bf15_8c1645dd14ferow7_col6\" class=\"data row7 col6\" >6.14</td>\n",
       "                        <td id=\"T_f88b0a5e_aeb7_11e9_bf15_8c1645dd14ferow7_col7\" class=\"data row7 col7\" >15</td>\n",
       "            </tr>\n",
       "            <tr>\n",
       "                        <th id=\"T_f88b0a5e_aeb7_11e9_bf15_8c1645dd14felevel0_row8\" class=\"row_heading level0 row8\" >31</th>\n",
       "                        <td id=\"T_f88b0a5e_aeb7_11e9_bf15_8c1645dd14ferow8_col0\" class=\"data row8 col0\" >Campaña</td>\n",
       "                        <td id=\"T_f88b0a5e_aeb7_11e9_bf15_8c1645dd14ferow8_col1\" class=\"data row8 col1\" >36</td>\n",
       "                        <td id=\"T_f88b0a5e_aeb7_11e9_bf15_8c1645dd14ferow8_col2\" class=\"data row8 col2\" >194</td>\n",
       "                        <td id=\"T_f88b0a5e_aeb7_11e9_bf15_8c1645dd14ferow8_col3\" class=\"data row8 col3\" >4200000</td>\n",
       "                        <td id=\"T_f88b0a5e_aeb7_11e9_bf15_8c1645dd14ferow8_col4\" class=\"data row8 col4\" >12</td>\n",
       "                        <td id=\"T_f88b0a5e_aeb7_11e9_bf15_8c1645dd14ferow8_col5\" class=\"data row8 col5\" >46.19</td>\n",
       "                        <td id=\"T_f88b0a5e_aeb7_11e9_bf15_8c1645dd14ferow8_col6\" class=\"data row8 col6\" >5.39</td>\n",
       "                        <td id=\"T_f88b0a5e_aeb7_11e9_bf15_8c1645dd14ferow8_col7\" class=\"data row8 col7\" >15</td>\n",
       "            </tr>\n",
       "            <tr>\n",
       "                        <th id=\"T_f88b0a5e_aeb7_11e9_bf15_8c1645dd14felevel0_row9\" class=\"row_heading level0 row9\" >134</th>\n",
       "                        <td id=\"T_f88b0a5e_aeb7_11e9_bf15_8c1645dd14ferow9_col0\" class=\"data row9 col0\" >Marc Roca</td>\n",
       "                        <td id=\"T_f88b0a5e_aeb7_11e9_bf15_8c1645dd14ferow9_col1\" class=\"data row9 col1\" >35</td>\n",
       "                        <td id=\"T_f88b0a5e_aeb7_11e9_bf15_8c1645dd14ferow9_col2\" class=\"data row9 col2\" >173</td>\n",
       "                        <td id=\"T_f88b0a5e_aeb7_11e9_bf15_8c1645dd14ferow9_col3\" class=\"data row9 col3\" >3570000</td>\n",
       "                        <td id=\"T_f88b0a5e_aeb7_11e9_bf15_8c1645dd14ferow9_col4\" class=\"data row9 col4\" >9</td>\n",
       "                        <td id=\"T_f88b0a5e_aeb7_11e9_bf15_8c1645dd14ferow9_col5\" class=\"data row9 col5\" >48.46</td>\n",
       "                        <td id=\"T_f88b0a5e_aeb7_11e9_bf15_8c1645dd14ferow9_col6\" class=\"data row9 col6\" >4.94</td>\n",
       "                        <td id=\"T_f88b0a5e_aeb7_11e9_bf15_8c1645dd14ferow9_col7\" class=\"data row9 col7\" >14</td>\n",
       "            </tr>\n",
       "            <tr>\n",
       "                        <th id=\"T_f88b0a5e_aeb7_11e9_bf15_8c1645dd14felevel0_row10\" class=\"row_heading level0 row10\" >55</th>\n",
       "                        <td id=\"T_f88b0a5e_aeb7_11e9_bf15_8c1645dd14ferow10_col0\" class=\"data row10 col0\" >Darder</td>\n",
       "                        <td id=\"T_f88b0a5e_aeb7_11e9_bf15_8c1645dd14ferow10_col1\" class=\"data row10 col1\" >34</td>\n",
       "                        <td id=\"T_f88b0a5e_aeb7_11e9_bf15_8c1645dd14ferow10_col2\" class=\"data row10 col2\" >171</td>\n",
       "                        <td id=\"T_f88b0a5e_aeb7_11e9_bf15_8c1645dd14ferow10_col3\" class=\"data row10 col3\" >3780000</td>\n",
       "                        <td id=\"T_f88b0a5e_aeb7_11e9_bf15_8c1645dd14ferow10_col4\" class=\"data row10 col4\" >8</td>\n",
       "                        <td id=\"T_f88b0a5e_aeb7_11e9_bf15_8c1645dd14ferow10_col5\" class=\"data row10 col5\" >45.24</td>\n",
       "                        <td id=\"T_f88b0a5e_aeb7_11e9_bf15_8c1645dd14ferow10_col6\" class=\"data row10 col6\" >5.03</td>\n",
       "                        <td id=\"T_f88b0a5e_aeb7_11e9_bf15_8c1645dd14ferow10_col7\" class=\"data row10 col7\" >14</td>\n",
       "            </tr>\n",
       "            <tr>\n",
       "                        <th id=\"T_f88b0a5e_aeb7_11e9_bf15_8c1645dd14felevel0_row11\" class=\"row_heading level0 row11\" >151</th>\n",
       "                        <td id=\"T_f88b0a5e_aeb7_11e9_bf15_8c1645dd14ferow11_col0\" class=\"data row11 col0\" >Morales</td>\n",
       "                        <td id=\"T_f88b0a5e_aeb7_11e9_bf15_8c1645dd14ferow11_col1\" class=\"data row11 col1\" >37</td>\n",
       "                        <td id=\"T_f88b0a5e_aeb7_11e9_bf15_8c1645dd14ferow11_col2\" class=\"data row11 col2\" >221</td>\n",
       "                        <td id=\"T_f88b0a5e_aeb7_11e9_bf15_8c1645dd14ferow11_col3\" class=\"data row11 col3\" >9560000</td>\n",
       "                        <td id=\"T_f88b0a5e_aeb7_11e9_bf15_8c1645dd14ferow11_col4\" class=\"data row11 col4\" >7</td>\n",
       "                        <td id=\"T_f88b0a5e_aeb7_11e9_bf15_8c1645dd14ferow11_col5\" class=\"data row11 col5\" >23.12</td>\n",
       "                        <td id=\"T_f88b0a5e_aeb7_11e9_bf15_8c1645dd14ferow11_col6\" class=\"data row11 col6\" >5.97</td>\n",
       "                        <td id=\"T_f88b0a5e_aeb7_11e9_bf15_8c1645dd14ferow11_col7\" class=\"data row11 col7\" >11</td>\n",
       "            </tr>\n",
       "            <tr>\n",
       "                        <th id=\"T_f88b0a5e_aeb7_11e9_bf15_8c1645dd14felevel0_row12\" class=\"row_heading level0 row12\" >119</th>\n",
       "                        <td id=\"T_f88b0a5e_aeb7_11e9_bf15_8c1645dd14ferow12_col0\" class=\"data row12 col0\" >Koke</td>\n",
       "                        <td id=\"T_f88b0a5e_aeb7_11e9_bf15_8c1645dd14ferow12_col1\" class=\"data row12 col1\" >30</td>\n",
       "                        <td id=\"T_f88b0a5e_aeb7_11e9_bf15_8c1645dd14ferow12_col2\" class=\"data row12 col2\" >166</td>\n",
       "                        <td id=\"T_f88b0a5e_aeb7_11e9_bf15_8c1645dd14ferow12_col3\" class=\"data row12 col3\" >4720000</td>\n",
       "                        <td id=\"T_f88b0a5e_aeb7_11e9_bf15_8c1645dd14ferow12_col4\" class=\"data row12 col4\" >10</td>\n",
       "                        <td id=\"T_f88b0a5e_aeb7_11e9_bf15_8c1645dd14ferow12_col5\" class=\"data row12 col5\" >35.17</td>\n",
       "                        <td id=\"T_f88b0a5e_aeb7_11e9_bf15_8c1645dd14ferow12_col6\" class=\"data row12 col6\" >5.53</td>\n",
       "                        <td id=\"T_f88b0a5e_aeb7_11e9_bf15_8c1645dd14ferow12_col7\" class=\"data row12 col7\" >11</td>\n",
       "            </tr>\n",
       "            <tr>\n",
       "                        <th id=\"T_f88b0a5e_aeb7_11e9_bf15_8c1645dd14felevel0_row13\" class=\"row_heading level0 row13\" >131</th>\n",
       "                        <td id=\"T_f88b0a5e_aeb7_11e9_bf15_8c1645dd14ferow13_col0\" class=\"data row13 col0\" >Maksimovic</td>\n",
       "                        <td id=\"T_f88b0a5e_aeb7_11e9_bf15_8c1645dd14ferow13_col1\" class=\"data row13 col1\" >36</td>\n",
       "                        <td id=\"T_f88b0a5e_aeb7_11e9_bf15_8c1645dd14ferow13_col2\" class=\"data row13 col2\" >155</td>\n",
       "                        <td id=\"T_f88b0a5e_aeb7_11e9_bf15_8c1645dd14ferow13_col3\" class=\"data row13 col3\" >2790000</td>\n",
       "                        <td id=\"T_f88b0a5e_aeb7_11e9_bf15_8c1645dd14ferow13_col4\" class=\"data row13 col4\" >5</td>\n",
       "                        <td id=\"T_f88b0a5e_aeb7_11e9_bf15_8c1645dd14ferow13_col5\" class=\"data row13 col5\" >55.56</td>\n",
       "                        <td id=\"T_f88b0a5e_aeb7_11e9_bf15_8c1645dd14ferow13_col6\" class=\"data row13 col6\" >4.31</td>\n",
       "                        <td id=\"T_f88b0a5e_aeb7_11e9_bf15_8c1645dd14ferow13_col7\" class=\"data row13 col7\" >11</td>\n",
       "            </tr>\n",
       "            <tr>\n",
       "                        <th id=\"T_f88b0a5e_aeb7_11e9_bf15_8c1645dd14felevel0_row14\" class=\"row_heading level0 row14\" >202</th>\n",
       "                        <td id=\"T_f88b0a5e_aeb7_11e9_bf15_8c1645dd14ferow14_col0\" class=\"data row14 col0\" >Tello</td>\n",
       "                        <td id=\"T_f88b0a5e_aeb7_11e9_bf15_8c1645dd14ferow14_col1\" class=\"data row14 col1\" >29</td>\n",
       "                        <td id=\"T_f88b0a5e_aeb7_11e9_bf15_8c1645dd14ferow14_col2\" class=\"data row14 col2\" >156</td>\n",
       "                        <td id=\"T_f88b0a5e_aeb7_11e9_bf15_8c1645dd14ferow14_col3\" class=\"data row14 col3\" >2790000</td>\n",
       "                        <td id=\"T_f88b0a5e_aeb7_11e9_bf15_8c1645dd14ferow14_col4\" class=\"data row14 col4\" >4</td>\n",
       "                        <td id=\"T_f88b0a5e_aeb7_11e9_bf15_8c1645dd14ferow14_col5\" class=\"data row14 col5\" >55.91</td>\n",
       "                        <td id=\"T_f88b0a5e_aeb7_11e9_bf15_8c1645dd14ferow14_col6\" class=\"data row14 col6\" >5.38</td>\n",
       "                        <td id=\"T_f88b0a5e_aeb7_11e9_bf15_8c1645dd14ferow14_col7\" class=\"data row14 col7\" >11</td>\n",
       "            </tr>\n",
       "    </tbody></table>"
      ],
      "text/plain": [
       "<pandas.io.formats.style.Styler at 0x7fe2e955c828>"
      ]
     },
     "execution_count": 90,
     "metadata": {},
     "output_type": "execute_result"
    }
   ],
   "source": [
    "top_players_table(players, \"Midfielder\")"
   ]
  },
  {
   "cell_type": "code",
   "execution_count": 91,
   "metadata": {},
   "outputs": [
    {
     "data": {
      "application/vnd.plotly.v1+json": {
       "config": {
        "plotlyServerURL": "https://plot.ly"
       },
       "data": [
        {
         "hoverlabel": {
          "namelength": 0
         },
         "hovertemplate": "<b>%{hovertext}</b><br><br>points_per_game=%{x}<br>points_per_million=%{y}<br>pct_lineup=%{marker.size}<br>value=%{marker.color}",
         "hovertext": [
          "Alcaraz",
          "Amadou",
          "Anuar",
          "Arambarri",
          "Arthur",
          "Banega",
          "Bardhi",
          "Beñat",
          "Boudebouz",
          "Brais Méndez",
          "Brasanac",
          "Busquets",
          "Campaña",
          "Canales",
          "Carlos Soler",
          "Casemiro",
          "Cazorla",
          "Ceballos",
          "Cheryshev",
          "Chukwueze",
          "Coquelin",
          "Coutinho",
          "Cucurella",
          "Cáseres",
          "Córdoba",
          "Dani García",
          "Darder",
          "Diop",
          "Escalante",
          "Fede Valverde",
          "Ferrán Torres",
          "Fran Beltrán",
          "Franco Vázquez",
          "Granero",
          "Guardado",
          "Guedes",
          "Hernán Pérez",
          "Ibai Gómez",
          "Iborra",
          "Illarramendi",
          "Inui",
          "Isco",
          "Joaquín",
          "Jordan",
          "Koke",
          "Kondogbia",
          "Kroos",
          "Lemar",
          "Lo Celso",
          "Lobotka",
          "Lucas Vázquez",
          "Maksimovic",
          "Manu García",
          "Marc Roca",
          "Medrán",
          "Melendo",
          "Melero",
          "Michel Herrero",
          "Mikel Merino",
          "Modric",
          "Moi Gómez",
          "Morales",
          "Muniain",
          "Orellana",
          "Parejo",
          "Pere Pons",
          "Piatti",
          "Pione Sisto",
          "Portillo",
          "Rakitic",
          "Raúl García",
          "Recio",
          "Rochina",
          "Roque Mesa",
          "Rubén Pardo",
          "Rubén Pérez",
          "San José",
          "Saúl",
          "Sergio Álvarez Díaz",
          "Tello",
          "Thomas",
          "Tomás Pina",
          "Toni Villa",
          "Trigueros",
          "Vesga",
          "Vidal",
          "Vitolo",
          "Víctor Sánchez",
          "Wakaso",
          "William Carvalho",
          "Yokuslu",
          "Zubeldia",
          "Zurutuza",
          "Óscar Rodríguez"
         ],
         "legendgroup": "",
         "marker": {
          "color": [
           3210000,
           150000,
           150000,
           2130000,
           2990000,
           2810000,
           3090000,
           620000,
           590000,
           3170000,
           180000,
           3440000,
           4200000,
           6630000,
           3430000,
           3040000,
           6860000,
           1130000,
           750000,
           5080000,
           1940000,
           3080000,
           3250000,
           170000,
           150000,
           950000,
           3780000,
           660000,
           1660000,
           390000,
           450000,
           410000,
           2670000,
           1590000,
           1270000,
           7950000,
           160000,
           1850000,
           1850000,
           3340000,
           1070000,
           3050000,
           2590000,
           4620000,
           4720000,
           3050000,
           3590000,
           3000000,
           6330000,
           1300000,
           990000,
           2790000,
           610000,
           3570000,
           240000,
           3230000,
           1130000,
           1790000,
           3020000,
           5930000,
           380000,
           9560000,
           4120000,
           3800000,
           11420000,
           2090000,
           150000,
           290000,
           580000,
           5530000,
           4790000,
           290000,
           2880000,
           690000,
           760000,
           1460000,
           170000,
           3420000,
           350000,
           2790000,
           2650000,
           1570000,
           1130000,
           1270000,
           210000,
           3360000,
           550000,
           160000,
           300000,
           2240000,
           1110000,
           1140000,
           330000,
           2320000
          ],
          "coloraxis": "coloraxis",
          "size": [
           19,
           2,
           1,
           10,
           3,
           4,
           6,
           4,
           5,
           6,
           2,
           7.000000000000001,
           15,
           18,
           5,
           6,
           15,
           4,
           6,
           1,
           6,
           5,
           7.000000000000001,
           3,
           3,
           5,
           14.000000000000002,
           6,
           3,
           2,
           5,
           3,
           8,
           4,
           6,
           3,
           3,
           5,
           2,
           3,
           4,
           2,
           16,
           19,
           11,
           1,
           5,
           3,
           8,
           4,
           5,
           11,
           6,
           14.000000000000002,
           3,
           6,
           2,
           8,
           3,
           2,
           9,
           11,
           8,
           9,
           22,
           6,
           1,
           2,
           9,
           16,
           10,
           3,
           7.000000000000001,
           5,
           6,
           4,
           5,
           7.000000000000001,
           2,
           11,
           7.000000000000001,
           4,
           9,
           2,
           6,
           16,
           2,
           4,
           1,
           9,
           6,
           5,
           3,
           5
          ],
          "sizemode": "area",
          "sizeref": 0.055,
          "symbol": "circle"
         },
         "mode": "markers",
         "name": "",
         "showlegend": false,
         "type": "scatter",
         "x": [
          5.176470588235294,
          2.9411764705882355,
          2.9473684210526314,
          4.181818181818182,
          3.962962962962963,
          3.65625,
          4.166666666666667,
          3.5555555555555554,
          3.65,
          4.967741935483871,
          3,
          4.257142857142857,
          5.388888888888889,
          6.6875,
          4.096774193548387,
          4.689655172413793,
          6.142857142857143,
          4.260869565217392,
          4.037037037037037,
          5.3076923076923075,
          4.730769230769231,
          4.823529411764706,
          4.516129032258065,
          3.0434782608695654,
          2.260869565217391,
          3.7241379310344827,
          5.029411764705882,
          4.214285714285714,
          4.15625,
          3.375,
          3.75,
          3.1,
          4.029411764705882,
          4.75,
          3.6451612903225805,
          5.76,
          3.4210526315789473,
          4.09375,
          4.421052631578948,
          4.695652173913044,
          3.6,
          3.7037037037037037,
          5.833333333333333,
          5.583333333333333,
          5.533333333333333,
          4.894736842105263,
          4.928571428571429,
          3.806451612903226,
          5.75,
          3.4838709677419355,
          3.3548387096774195,
          4.305555555555555,
          3.5,
          4.942857142857143,
          3.9047619047619047,
          4.6875,
          3.409090909090909,
          4.314285714285714,
          4.448275862068965,
          4.794117647058823,
          4.138888888888889,
          5.972972972972973,
          4.764705882352941,
          4.636363636363637,
          7.083333333333333,
          3.4705882352941178,
          3.3,
          3.24,
          3.15625,
          5.735294117647059,
          5.393939393939394,
          3.3333333333333335,
          5.185185185185185,
          3.225806451612903,
          4.333333333333333,
          4.096774193548387,
          2.484848484848485,
          4.666666666666667,
          3.3684210526315788,
          5.379310344827586,
          4.75,
          4.464285714285714,
          4.1923076923076925,
          3.3333333333333335,
          3.1923076923076925,
          5.2727272727272725,
          3.45,
          2.8333333333333335,
          3.586206896551724,
          4.166666666666667,
          4.3,
          3.606060606060606,
          4.142857142857143,
          4.774193548387097
         ],
         "xaxis": "x",
         "y": [
          54.82866043613707,
          333.3333333333333,
          373.3333333333333,
          64.7887323943662,
          35.785953177257525,
          41.637010676156585,
          48.54368932038835,
          154.83870967741936,
          123.72881355932202,
          48.58044164037855,
          400,
          43.31395348837209,
          46.1904761904762,
          32.27752639517345,
          37.02623906705539,
          44.73684210526316,
          31.34110787172012,
          86.72566371681415,
          145.33333333333334,
          27.165354330708663,
          63.40206185567011,
          53.246753246753244,
          43.07692307692308,
          411.764705882353,
          346.6666666666667,
          113.68421052631578,
          45.23809523809524,
          178.78787878787878,
          80.12048192771084,
          138.46153846153848,
          200,
          226.8292682926829,
          51.31086142322097,
          83.64779874213836,
          88.97637795275591,
          18.11320754716981,
          406.25,
          70.8108108108108,
          45.4054054054054,
          32.33532934131736,
          67.28971962616822,
          32.786885245901644,
          67.56756756756756,
          43.506493506493506,
          35.16949152542373,
          30.491803278688522,
          38.440111420612816,
          39.33333333333333,
          29.067930489731438,
          83.07692307692308,
          105.05050505050504,
          55.55555555555556,
          195.08196721311475,
          48.4593837535014,
          341.6666666666667,
          46.43962848297213,
          66.3716814159292,
          84.35754189944134,
          42.71523178807947,
          27.48735244519393,
          392.10526315789474,
          23.117154811715483,
          39.320388349514566,
          40.26315789473684,
          22.3292469352014,
          56.45933014354067,
          440,
          279.3103448275862,
          174.13793103448276,
          35.2622061482821,
          37.160751565762006,
          206.89655172413794,
          48.61111111111111,
          144.92753623188406,
          136.8421052631579,
          86.98630136986301,
          482.3529411764706,
          45.02923976608187,
          182.85714285714286,
          55.913978494623656,
          57.35849056603774,
          79.61783439490445,
          96.46017699115043,
          62.99212598425197,
          395.23809523809524,
          51.78571428571429,
          125.45454545454545,
          425,
          346.6666666666667,
          55.80357142857142,
          116.21621621621622,
          104.3859649122807,
          263.6363636363636,
          63.79310344827586
         ],
         "yaxis": "y"
        }
       ],
       "layout": {
        "coloraxis": {
         "colorbar": {
          "title": {
           "text": "value"
          }
         },
         "colorscale": [
          [
           0,
           "#0d0887"
          ],
          [
           0.1111111111111111,
           "#46039f"
          ],
          [
           0.2222222222222222,
           "#7201a8"
          ],
          [
           0.3333333333333333,
           "#9c179e"
          ],
          [
           0.4444444444444444,
           "#bd3786"
          ],
          [
           0.5555555555555556,
           "#d8576b"
          ],
          [
           0.6666666666666666,
           "#ed7953"
          ],
          [
           0.7777777777777778,
           "#fb9f3a"
          ],
          [
           0.8888888888888888,
           "#fdca26"
          ],
          [
           1,
           "#f0f921"
          ]
         ]
        },
        "height": 600,
        "legend": {
         "itemsizing": "constant",
         "tracegroupgap": 0
        },
        "margin": {
         "t": 60
        },
        "template": {
         "data": {
          "bar": [
           {
            "error_x": {
             "color": "#2a3f5f"
            },
            "error_y": {
             "color": "#2a3f5f"
            },
            "marker": {
             "line": {
              "color": "#E5ECF6",
              "width": 0.5
             }
            },
            "type": "bar"
           }
          ],
          "barpolar": [
           {
            "marker": {
             "line": {
              "color": "#E5ECF6",
              "width": 0.5
             }
            },
            "type": "barpolar"
           }
          ],
          "carpet": [
           {
            "aaxis": {
             "endlinecolor": "#2a3f5f",
             "gridcolor": "white",
             "linecolor": "white",
             "minorgridcolor": "white",
             "startlinecolor": "#2a3f5f"
            },
            "baxis": {
             "endlinecolor": "#2a3f5f",
             "gridcolor": "white",
             "linecolor": "white",
             "minorgridcolor": "white",
             "startlinecolor": "#2a3f5f"
            },
            "type": "carpet"
           }
          ],
          "choropleth": [
           {
            "colorbar": {
             "outlinewidth": 0,
             "ticks": ""
            },
            "type": "choropleth"
           }
          ],
          "contour": [
           {
            "colorbar": {
             "outlinewidth": 0,
             "ticks": ""
            },
            "colorscale": [
             [
              0,
              "#0d0887"
             ],
             [
              0.1111111111111111,
              "#46039f"
             ],
             [
              0.2222222222222222,
              "#7201a8"
             ],
             [
              0.3333333333333333,
              "#9c179e"
             ],
             [
              0.4444444444444444,
              "#bd3786"
             ],
             [
              0.5555555555555556,
              "#d8576b"
             ],
             [
              0.6666666666666666,
              "#ed7953"
             ],
             [
              0.7777777777777778,
              "#fb9f3a"
             ],
             [
              0.8888888888888888,
              "#fdca26"
             ],
             [
              1,
              "#f0f921"
             ]
            ],
            "type": "contour"
           }
          ],
          "contourcarpet": [
           {
            "colorbar": {
             "outlinewidth": 0,
             "ticks": ""
            },
            "type": "contourcarpet"
           }
          ],
          "heatmap": [
           {
            "colorbar": {
             "outlinewidth": 0,
             "ticks": ""
            },
            "colorscale": [
             [
              0,
              "#0d0887"
             ],
             [
              0.1111111111111111,
              "#46039f"
             ],
             [
              0.2222222222222222,
              "#7201a8"
             ],
             [
              0.3333333333333333,
              "#9c179e"
             ],
             [
              0.4444444444444444,
              "#bd3786"
             ],
             [
              0.5555555555555556,
              "#d8576b"
             ],
             [
              0.6666666666666666,
              "#ed7953"
             ],
             [
              0.7777777777777778,
              "#fb9f3a"
             ],
             [
              0.8888888888888888,
              "#fdca26"
             ],
             [
              1,
              "#f0f921"
             ]
            ],
            "type": "heatmap"
           }
          ],
          "heatmapgl": [
           {
            "colorbar": {
             "outlinewidth": 0,
             "ticks": ""
            },
            "colorscale": [
             [
              0,
              "#0d0887"
             ],
             [
              0.1111111111111111,
              "#46039f"
             ],
             [
              0.2222222222222222,
              "#7201a8"
             ],
             [
              0.3333333333333333,
              "#9c179e"
             ],
             [
              0.4444444444444444,
              "#bd3786"
             ],
             [
              0.5555555555555556,
              "#d8576b"
             ],
             [
              0.6666666666666666,
              "#ed7953"
             ],
             [
              0.7777777777777778,
              "#fb9f3a"
             ],
             [
              0.8888888888888888,
              "#fdca26"
             ],
             [
              1,
              "#f0f921"
             ]
            ],
            "type": "heatmapgl"
           }
          ],
          "histogram": [
           {
            "marker": {
             "colorbar": {
              "outlinewidth": 0,
              "ticks": ""
             }
            },
            "type": "histogram"
           }
          ],
          "histogram2d": [
           {
            "colorbar": {
             "outlinewidth": 0,
             "ticks": ""
            },
            "colorscale": [
             [
              0,
              "#0d0887"
             ],
             [
              0.1111111111111111,
              "#46039f"
             ],
             [
              0.2222222222222222,
              "#7201a8"
             ],
             [
              0.3333333333333333,
              "#9c179e"
             ],
             [
              0.4444444444444444,
              "#bd3786"
             ],
             [
              0.5555555555555556,
              "#d8576b"
             ],
             [
              0.6666666666666666,
              "#ed7953"
             ],
             [
              0.7777777777777778,
              "#fb9f3a"
             ],
             [
              0.8888888888888888,
              "#fdca26"
             ],
             [
              1,
              "#f0f921"
             ]
            ],
            "type": "histogram2d"
           }
          ],
          "histogram2dcontour": [
           {
            "colorbar": {
             "outlinewidth": 0,
             "ticks": ""
            },
            "colorscale": [
             [
              0,
              "#0d0887"
             ],
             [
              0.1111111111111111,
              "#46039f"
             ],
             [
              0.2222222222222222,
              "#7201a8"
             ],
             [
              0.3333333333333333,
              "#9c179e"
             ],
             [
              0.4444444444444444,
              "#bd3786"
             ],
             [
              0.5555555555555556,
              "#d8576b"
             ],
             [
              0.6666666666666666,
              "#ed7953"
             ],
             [
              0.7777777777777778,
              "#fb9f3a"
             ],
             [
              0.8888888888888888,
              "#fdca26"
             ],
             [
              1,
              "#f0f921"
             ]
            ],
            "type": "histogram2dcontour"
           }
          ],
          "mesh3d": [
           {
            "colorbar": {
             "outlinewidth": 0,
             "ticks": ""
            },
            "type": "mesh3d"
           }
          ],
          "parcoords": [
           {
            "line": {
             "colorbar": {
              "outlinewidth": 0,
              "ticks": ""
             }
            },
            "type": "parcoords"
           }
          ],
          "scatter": [
           {
            "marker": {
             "colorbar": {
              "outlinewidth": 0,
              "ticks": ""
             }
            },
            "type": "scatter"
           }
          ],
          "scatter3d": [
           {
            "line": {
             "colorbar": {
              "outlinewidth": 0,
              "ticks": ""
             }
            },
            "marker": {
             "colorbar": {
              "outlinewidth": 0,
              "ticks": ""
             }
            },
            "type": "scatter3d"
           }
          ],
          "scattercarpet": [
           {
            "marker": {
             "colorbar": {
              "outlinewidth": 0,
              "ticks": ""
             }
            },
            "type": "scattercarpet"
           }
          ],
          "scattergeo": [
           {
            "marker": {
             "colorbar": {
              "outlinewidth": 0,
              "ticks": ""
             }
            },
            "type": "scattergeo"
           }
          ],
          "scattergl": [
           {
            "marker": {
             "colorbar": {
              "outlinewidth": 0,
              "ticks": ""
             }
            },
            "type": "scattergl"
           }
          ],
          "scattermapbox": [
           {
            "marker": {
             "colorbar": {
              "outlinewidth": 0,
              "ticks": ""
             }
            },
            "type": "scattermapbox"
           }
          ],
          "scatterpolar": [
           {
            "marker": {
             "colorbar": {
              "outlinewidth": 0,
              "ticks": ""
             }
            },
            "type": "scatterpolar"
           }
          ],
          "scatterpolargl": [
           {
            "marker": {
             "colorbar": {
              "outlinewidth": 0,
              "ticks": ""
             }
            },
            "type": "scatterpolargl"
           }
          ],
          "scatterternary": [
           {
            "marker": {
             "colorbar": {
              "outlinewidth": 0,
              "ticks": ""
             }
            },
            "type": "scatterternary"
           }
          ],
          "surface": [
           {
            "colorbar": {
             "outlinewidth": 0,
             "ticks": ""
            },
            "colorscale": [
             [
              0,
              "#0d0887"
             ],
             [
              0.1111111111111111,
              "#46039f"
             ],
             [
              0.2222222222222222,
              "#7201a8"
             ],
             [
              0.3333333333333333,
              "#9c179e"
             ],
             [
              0.4444444444444444,
              "#bd3786"
             ],
             [
              0.5555555555555556,
              "#d8576b"
             ],
             [
              0.6666666666666666,
              "#ed7953"
             ],
             [
              0.7777777777777778,
              "#fb9f3a"
             ],
             [
              0.8888888888888888,
              "#fdca26"
             ],
             [
              1,
              "#f0f921"
             ]
            ],
            "type": "surface"
           }
          ],
          "table": [
           {
            "cells": {
             "fill": {
              "color": "#EBF0F8"
             },
             "line": {
              "color": "white"
             }
            },
            "header": {
             "fill": {
              "color": "#C8D4E3"
             },
             "line": {
              "color": "white"
             }
            },
            "type": "table"
           }
          ]
         },
         "layout": {
          "annotationdefaults": {
           "arrowcolor": "#2a3f5f",
           "arrowhead": 0,
           "arrowwidth": 1
          },
          "colorscale": {
           "diverging": [
            [
             0,
             "#8e0152"
            ],
            [
             0.1,
             "#c51b7d"
            ],
            [
             0.2,
             "#de77ae"
            ],
            [
             0.3,
             "#f1b6da"
            ],
            [
             0.4,
             "#fde0ef"
            ],
            [
             0.5,
             "#f7f7f7"
            ],
            [
             0.6,
             "#e6f5d0"
            ],
            [
             0.7,
             "#b8e186"
            ],
            [
             0.8,
             "#7fbc41"
            ],
            [
             0.9,
             "#4d9221"
            ],
            [
             1,
             "#276419"
            ]
           ],
           "sequential": [
            [
             0,
             "#0d0887"
            ],
            [
             0.1111111111111111,
             "#46039f"
            ],
            [
             0.2222222222222222,
             "#7201a8"
            ],
            [
             0.3333333333333333,
             "#9c179e"
            ],
            [
             0.4444444444444444,
             "#bd3786"
            ],
            [
             0.5555555555555556,
             "#d8576b"
            ],
            [
             0.6666666666666666,
             "#ed7953"
            ],
            [
             0.7777777777777778,
             "#fb9f3a"
            ],
            [
             0.8888888888888888,
             "#fdca26"
            ],
            [
             1,
             "#f0f921"
            ]
           ],
           "sequentialminus": [
            [
             0,
             "#0d0887"
            ],
            [
             0.1111111111111111,
             "#46039f"
            ],
            [
             0.2222222222222222,
             "#7201a8"
            ],
            [
             0.3333333333333333,
             "#9c179e"
            ],
            [
             0.4444444444444444,
             "#bd3786"
            ],
            [
             0.5555555555555556,
             "#d8576b"
            ],
            [
             0.6666666666666666,
             "#ed7953"
            ],
            [
             0.7777777777777778,
             "#fb9f3a"
            ],
            [
             0.8888888888888888,
             "#fdca26"
            ],
            [
             1,
             "#f0f921"
            ]
           ]
          },
          "colorway": [
           "#636efa",
           "#EF553B",
           "#00cc96",
           "#ab63fa",
           "#FFA15A",
           "#19d3f3",
           "#FF6692",
           "#B6E880",
           "#FF97FF",
           "#FECB52"
          ],
          "font": {
           "color": "#2a3f5f"
          },
          "geo": {
           "bgcolor": "white",
           "lakecolor": "white",
           "landcolor": "#E5ECF6",
           "showlakes": true,
           "showland": true,
           "subunitcolor": "white"
          },
          "hoverlabel": {
           "align": "left"
          },
          "hovermode": "closest",
          "mapbox": {
           "style": "light"
          },
          "paper_bgcolor": "white",
          "plot_bgcolor": "#E5ECF6",
          "polar": {
           "angularaxis": {
            "gridcolor": "white",
            "linecolor": "white",
            "ticks": ""
           },
           "bgcolor": "#E5ECF6",
           "radialaxis": {
            "gridcolor": "white",
            "linecolor": "white",
            "ticks": ""
           }
          },
          "scene": {
           "xaxis": {
            "backgroundcolor": "#E5ECF6",
            "gridcolor": "white",
            "gridwidth": 2,
            "linecolor": "white",
            "showbackground": true,
            "ticks": "",
            "zerolinecolor": "white"
           },
           "yaxis": {
            "backgroundcolor": "#E5ECF6",
            "gridcolor": "white",
            "gridwidth": 2,
            "linecolor": "white",
            "showbackground": true,
            "ticks": "",
            "zerolinecolor": "white"
           },
           "zaxis": {
            "backgroundcolor": "#E5ECF6",
            "gridcolor": "white",
            "gridwidth": 2,
            "linecolor": "white",
            "showbackground": true,
            "ticks": "",
            "zerolinecolor": "white"
           }
          },
          "shapedefaults": {
           "line": {
            "color": "#2a3f5f"
           }
          },
          "ternary": {
           "aaxis": {
            "gridcolor": "white",
            "linecolor": "white",
            "ticks": ""
           },
           "baxis": {
            "gridcolor": "white",
            "linecolor": "white",
            "ticks": ""
           },
           "bgcolor": "#E5ECF6",
           "caxis": {
            "gridcolor": "white",
            "linecolor": "white",
            "ticks": ""
           }
          },
          "title": {
           "x": 0.05
          },
          "xaxis": {
           "automargin": true,
           "gridcolor": "white",
           "linecolor": "white",
           "ticks": "",
           "zerolinecolor": "white",
           "zerolinewidth": 2
          },
          "yaxis": {
           "automargin": true,
           "gridcolor": "white",
           "linecolor": "white",
           "ticks": "",
           "zerolinecolor": "white",
           "zerolinewidth": 2
          }
         }
        },
        "xaxis": {
         "anchor": "y",
         "domain": [
          0,
          0.98
         ],
         "title": {
          "text": "Points per Game"
         }
        },
        "yaxis": {
         "anchor": "x",
         "domain": [
          0,
          1
         ],
         "title": {
          "text": "Points per Million"
         }
        }
       }
      },
      "text/html": [
       "<div>\n",
       "        \n",
       "        \n",
       "            <div id=\"2de4760c-a7f2-44b3-a9f7-faf73939d943\" class=\"plotly-graph-div\" style=\"height:600px; width:100%;\"></div>\n",
       "            <script type=\"text/javascript\">\n",
       "                require([\"plotly\"], function(Plotly) {\n",
       "                    window.PLOTLYENV=window.PLOTLYENV || {};\n",
       "                    \n",
       "                if (document.getElementById(\"2de4760c-a7f2-44b3-a9f7-faf73939d943\")) {\n",
       "                    Plotly.newPlot(\n",
       "                        '2de4760c-a7f2-44b3-a9f7-faf73939d943',\n",
       "                        [{\"hoverlabel\": {\"namelength\": 0}, \"hovertemplate\": \"<b>%{hovertext}</b><br><br>points_per_game=%{x}<br>points_per_million=%{y}<br>pct_lineup=%{marker.size}<br>value=%{marker.color}\", \"hovertext\": [\"Alcaraz\", \"Amadou\", \"Anuar\", \"Arambarri\", \"Arthur\", \"Banega\", \"Bardhi\", \"Be\\u00f1at\", \"Boudebouz\", \"Brais M\\u00e9ndez\", \"Brasanac\", \"Busquets\", \"Campa\\u00f1a\", \"Canales\", \"Carlos Soler\", \"Casemiro\", \"Cazorla\", \"Ceballos\", \"Cheryshev\", \"Chukwueze\", \"Coquelin\", \"Coutinho\", \"Cucurella\", \"C\\u00e1seres\", \"C\\u00f3rdoba\", \"Dani Garc\\u00eda\", \"Darder\", \"Diop\", \"Escalante\", \"Fede Valverde\", \"Ferr\\u00e1n Torres\", \"Fran Beltr\\u00e1n\", \"Franco V\\u00e1zquez\", \"Granero\", \"Guardado\", \"Guedes\", \"Hern\\u00e1n P\\u00e9rez\", \"Ibai G\\u00f3mez\", \"Iborra\", \"Illarramendi\", \"Inui\", \"Isco\", \"Joaqu\\u00edn\", \"Jordan\", \"Koke\", \"Kondogbia\", \"Kroos\", \"Lemar\", \"Lo Celso\", \"Lobotka\", \"Lucas V\\u00e1zquez\", \"Maksimovic\", \"Manu Garc\\u00eda\", \"Marc Roca\", \"Medr\\u00e1n\", \"Melendo\", \"Melero\", \"Michel Herrero\", \"Mikel Merino\", \"Modric\", \"Moi G\\u00f3mez\", \"Morales\", \"Muniain\", \"Orellana\", \"Parejo\", \"Pere Pons\", \"Piatti\", \"Pione Sisto\", \"Portillo\", \"Rakitic\", \"Ra\\u00fal Garc\\u00eda\", \"Recio\", \"Rochina\", \"Roque Mesa\", \"Rub\\u00e9n Pardo\", \"Rub\\u00e9n P\\u00e9rez\", \"San Jos\\u00e9\", \"Sa\\u00fal\", \"Sergio \\u00c1lvarez D\\u00edaz\", \"Tello\", \"Thomas\", \"Tom\\u00e1s Pina\", \"Toni Villa\", \"Trigueros\", \"Vesga\", \"Vidal\", \"Vitolo\", \"V\\u00edctor S\\u00e1nchez\", \"Wakaso\", \"William Carvalho\", \"Yokuslu\", \"Zubeldia\", \"Zurutuza\", \"\\u00d3scar Rodr\\u00edguez\"], \"legendgroup\": \"\", \"marker\": {\"color\": [3210000, 150000, 150000, 2130000, 2990000, 2810000, 3090000, 620000, 590000, 3170000, 180000, 3440000, 4200000, 6630000, 3430000, 3040000, 6860000, 1130000, 750000, 5080000, 1940000, 3080000, 3250000, 170000, 150000, 950000, 3780000, 660000, 1660000, 390000, 450000, 410000, 2670000, 1590000, 1270000, 7950000, 160000, 1850000, 1850000, 3340000, 1070000, 3050000, 2590000, 4620000, 4720000, 3050000, 3590000, 3000000, 6330000, 1300000, 990000, 2790000, 610000, 3570000, 240000, 3230000, 1130000, 1790000, 3020000, 5930000, 380000, 9560000, 4120000, 3800000, 11420000, 2090000, 150000, 290000, 580000, 5530000, 4790000, 290000, 2880000, 690000, 760000, 1460000, 170000, 3420000, 350000, 2790000, 2650000, 1570000, 1130000, 1270000, 210000, 3360000, 550000, 160000, 300000, 2240000, 1110000, 1140000, 330000, 2320000], \"coloraxis\": \"coloraxis\", \"size\": [19.0, 2.0, 1.0, 10.0, 3.0, 4.0, 6.0, 4.0, 5.0, 6.0, 2.0, 7.000000000000001, 15.0, 18.0, 5.0, 6.0, 15.0, 4.0, 6.0, 1.0, 6.0, 5.0, 7.000000000000001, 3.0, 3.0, 5.0, 14.000000000000002, 6.0, 3.0, 2.0, 5.0, 3.0, 8.0, 4.0, 6.0, 3.0, 3.0, 5.0, 2.0, 3.0, 4.0, 2.0, 16.0, 19.0, 11.0, 1.0, 5.0, 3.0, 8.0, 4.0, 5.0, 11.0, 6.0, 14.000000000000002, 3.0, 6.0, 2.0, 8.0, 3.0, 2.0, 9.0, 11.0, 8.0, 9.0, 22.0, 6.0, 1.0, 2.0, 9.0, 16.0, 10.0, 3.0, 7.000000000000001, 5.0, 6.0, 4.0, 5.0, 7.000000000000001, 2.0, 11.0, 7.000000000000001, 4.0, 9.0, 2.0, 6.0, 16.0, 2.0, 4.0, 1.0, 9.0, 6.0, 5.0, 3.0, 5.0], \"sizemode\": \"area\", \"sizeref\": 0.055, \"symbol\": \"circle\"}, \"mode\": \"markers\", \"name\": \"\", \"showlegend\": false, \"type\": \"scatter\", \"x\": [5.176470588235294, 2.9411764705882355, 2.9473684210526314, 4.181818181818182, 3.962962962962963, 3.65625, 4.166666666666667, 3.5555555555555554, 3.65, 4.967741935483871, 3.0, 4.257142857142857, 5.388888888888889, 6.6875, 4.096774193548387, 4.689655172413793, 6.142857142857143, 4.260869565217392, 4.037037037037037, 5.3076923076923075, 4.730769230769231, 4.823529411764706, 4.516129032258065, 3.0434782608695654, 2.260869565217391, 3.7241379310344827, 5.029411764705882, 4.214285714285714, 4.15625, 3.375, 3.75, 3.1, 4.029411764705882, 4.75, 3.6451612903225805, 5.76, 3.4210526315789473, 4.09375, 4.421052631578948, 4.695652173913044, 3.6, 3.7037037037037037, 5.833333333333333, 5.583333333333333, 5.533333333333333, 4.894736842105263, 4.928571428571429, 3.806451612903226, 5.75, 3.4838709677419355, 3.3548387096774195, 4.305555555555555, 3.5, 4.942857142857143, 3.9047619047619047, 4.6875, 3.409090909090909, 4.314285714285714, 4.448275862068965, 4.794117647058823, 4.138888888888889, 5.972972972972973, 4.764705882352941, 4.636363636363637, 7.083333333333333, 3.4705882352941178, 3.3, 3.24, 3.15625, 5.735294117647059, 5.393939393939394, 3.3333333333333335, 5.185185185185185, 3.225806451612903, 4.333333333333333, 4.096774193548387, 2.484848484848485, 4.666666666666667, 3.3684210526315788, 5.379310344827586, 4.75, 4.464285714285714, 4.1923076923076925, 3.3333333333333335, 3.1923076923076925, 5.2727272727272725, 3.45, 2.8333333333333335, 3.586206896551724, 4.166666666666667, 4.3, 3.606060606060606, 4.142857142857143, 4.774193548387097], \"xaxis\": \"x\", \"y\": [54.82866043613707, 333.3333333333333, 373.3333333333333, 64.7887323943662, 35.785953177257525, 41.637010676156585, 48.54368932038835, 154.83870967741936, 123.72881355932202, 48.58044164037855, 400.0, 43.31395348837209, 46.1904761904762, 32.27752639517345, 37.02623906705539, 44.73684210526316, 31.34110787172012, 86.72566371681415, 145.33333333333334, 27.165354330708663, 63.40206185567011, 53.246753246753244, 43.07692307692308, 411.764705882353, 346.6666666666667, 113.68421052631578, 45.23809523809524, 178.78787878787878, 80.12048192771084, 138.46153846153848, 200.0, 226.8292682926829, 51.31086142322097, 83.64779874213836, 88.97637795275591, 18.11320754716981, 406.25, 70.8108108108108, 45.4054054054054, 32.33532934131736, 67.28971962616822, 32.786885245901644, 67.56756756756756, 43.506493506493506, 35.16949152542373, 30.491803278688522, 38.440111420612816, 39.33333333333333, 29.067930489731438, 83.07692307692308, 105.05050505050504, 55.55555555555556, 195.08196721311475, 48.4593837535014, 341.6666666666667, 46.43962848297213, 66.3716814159292, 84.35754189944134, 42.71523178807947, 27.48735244519393, 392.10526315789474, 23.117154811715483, 39.320388349514566, 40.26315789473684, 22.3292469352014, 56.45933014354067, 440.0, 279.3103448275862, 174.13793103448276, 35.2622061482821, 37.160751565762006, 206.89655172413794, 48.61111111111111, 144.92753623188406, 136.8421052631579, 86.98630136986301, 482.3529411764706, 45.02923976608187, 182.85714285714286, 55.913978494623656, 57.35849056603774, 79.61783439490445, 96.46017699115043, 62.99212598425197, 395.23809523809524, 51.78571428571429, 125.45454545454545, 425.0, 346.6666666666667, 55.80357142857142, 116.21621621621622, 104.3859649122807, 263.6363636363636, 63.79310344827586], \"yaxis\": \"y\"}],\n",
       "                        {\"coloraxis\": {\"colorbar\": {\"title\": {\"text\": \"value\"}}, \"colorscale\": [[0.0, \"#0d0887\"], [0.1111111111111111, \"#46039f\"], [0.2222222222222222, \"#7201a8\"], [0.3333333333333333, \"#9c179e\"], [0.4444444444444444, \"#bd3786\"], [0.5555555555555556, \"#d8576b\"], [0.6666666666666666, \"#ed7953\"], [0.7777777777777778, \"#fb9f3a\"], [0.8888888888888888, \"#fdca26\"], [1.0, \"#f0f921\"]]}, \"height\": 600, \"legend\": {\"itemsizing\": \"constant\", \"tracegroupgap\": 0}, \"margin\": {\"t\": 60}, \"template\": {\"data\": {\"bar\": [{\"error_x\": {\"color\": \"#2a3f5f\"}, \"error_y\": {\"color\": \"#2a3f5f\"}, \"marker\": {\"line\": {\"color\": \"#E5ECF6\", \"width\": 0.5}}, \"type\": \"bar\"}], \"barpolar\": [{\"marker\": {\"line\": {\"color\": \"#E5ECF6\", \"width\": 0.5}}, \"type\": \"barpolar\"}], \"carpet\": [{\"aaxis\": {\"endlinecolor\": \"#2a3f5f\", \"gridcolor\": \"white\", \"linecolor\": \"white\", \"minorgridcolor\": \"white\", \"startlinecolor\": \"#2a3f5f\"}, \"baxis\": {\"endlinecolor\": \"#2a3f5f\", \"gridcolor\": \"white\", \"linecolor\": \"white\", \"minorgridcolor\": \"white\", \"startlinecolor\": \"#2a3f5f\"}, \"type\": \"carpet\"}], \"choropleth\": [{\"colorbar\": {\"outlinewidth\": 0, \"ticks\": \"\"}, \"type\": \"choropleth\"}], \"contour\": [{\"colorbar\": {\"outlinewidth\": 0, \"ticks\": \"\"}, \"colorscale\": [[0.0, \"#0d0887\"], [0.1111111111111111, \"#46039f\"], [0.2222222222222222, \"#7201a8\"], [0.3333333333333333, \"#9c179e\"], [0.4444444444444444, \"#bd3786\"], [0.5555555555555556, \"#d8576b\"], [0.6666666666666666, \"#ed7953\"], [0.7777777777777778, \"#fb9f3a\"], [0.8888888888888888, \"#fdca26\"], [1.0, \"#f0f921\"]], \"type\": \"contour\"}], \"contourcarpet\": [{\"colorbar\": {\"outlinewidth\": 0, \"ticks\": \"\"}, \"type\": \"contourcarpet\"}], \"heatmap\": [{\"colorbar\": {\"outlinewidth\": 0, \"ticks\": \"\"}, \"colorscale\": [[0.0, \"#0d0887\"], [0.1111111111111111, \"#46039f\"], [0.2222222222222222, \"#7201a8\"], [0.3333333333333333, \"#9c179e\"], [0.4444444444444444, \"#bd3786\"], [0.5555555555555556, \"#d8576b\"], [0.6666666666666666, \"#ed7953\"], [0.7777777777777778, \"#fb9f3a\"], [0.8888888888888888, \"#fdca26\"], [1.0, \"#f0f921\"]], \"type\": \"heatmap\"}], \"heatmapgl\": [{\"colorbar\": {\"outlinewidth\": 0, \"ticks\": \"\"}, \"colorscale\": [[0.0, \"#0d0887\"], [0.1111111111111111, \"#46039f\"], [0.2222222222222222, \"#7201a8\"], [0.3333333333333333, \"#9c179e\"], [0.4444444444444444, \"#bd3786\"], [0.5555555555555556, \"#d8576b\"], [0.6666666666666666, \"#ed7953\"], [0.7777777777777778, \"#fb9f3a\"], [0.8888888888888888, \"#fdca26\"], [1.0, \"#f0f921\"]], \"type\": \"heatmapgl\"}], \"histogram\": [{\"marker\": {\"colorbar\": {\"outlinewidth\": 0, \"ticks\": \"\"}}, \"type\": \"histogram\"}], \"histogram2d\": [{\"colorbar\": {\"outlinewidth\": 0, \"ticks\": \"\"}, \"colorscale\": [[0.0, \"#0d0887\"], [0.1111111111111111, \"#46039f\"], [0.2222222222222222, \"#7201a8\"], [0.3333333333333333, \"#9c179e\"], [0.4444444444444444, \"#bd3786\"], [0.5555555555555556, \"#d8576b\"], [0.6666666666666666, \"#ed7953\"], [0.7777777777777778, \"#fb9f3a\"], [0.8888888888888888, \"#fdca26\"], [1.0, \"#f0f921\"]], \"type\": \"histogram2d\"}], \"histogram2dcontour\": [{\"colorbar\": {\"outlinewidth\": 0, \"ticks\": \"\"}, \"colorscale\": [[0.0, \"#0d0887\"], [0.1111111111111111, \"#46039f\"], [0.2222222222222222, \"#7201a8\"], [0.3333333333333333, \"#9c179e\"], [0.4444444444444444, \"#bd3786\"], [0.5555555555555556, \"#d8576b\"], [0.6666666666666666, \"#ed7953\"], [0.7777777777777778, \"#fb9f3a\"], [0.8888888888888888, \"#fdca26\"], [1.0, \"#f0f921\"]], \"type\": \"histogram2dcontour\"}], \"mesh3d\": [{\"colorbar\": {\"outlinewidth\": 0, \"ticks\": \"\"}, \"type\": \"mesh3d\"}], \"parcoords\": [{\"line\": {\"colorbar\": {\"outlinewidth\": 0, \"ticks\": \"\"}}, \"type\": \"parcoords\"}], \"scatter\": [{\"marker\": {\"colorbar\": {\"outlinewidth\": 0, \"ticks\": \"\"}}, \"type\": \"scatter\"}], \"scatter3d\": [{\"line\": {\"colorbar\": {\"outlinewidth\": 0, \"ticks\": \"\"}}, \"marker\": {\"colorbar\": {\"outlinewidth\": 0, \"ticks\": \"\"}}, \"type\": \"scatter3d\"}], \"scattercarpet\": [{\"marker\": {\"colorbar\": {\"outlinewidth\": 0, \"ticks\": \"\"}}, \"type\": \"scattercarpet\"}], \"scattergeo\": [{\"marker\": {\"colorbar\": {\"outlinewidth\": 0, \"ticks\": \"\"}}, \"type\": \"scattergeo\"}], \"scattergl\": [{\"marker\": {\"colorbar\": {\"outlinewidth\": 0, \"ticks\": \"\"}}, \"type\": \"scattergl\"}], \"scattermapbox\": [{\"marker\": {\"colorbar\": {\"outlinewidth\": 0, \"ticks\": \"\"}}, \"type\": \"scattermapbox\"}], \"scatterpolar\": [{\"marker\": {\"colorbar\": {\"outlinewidth\": 0, \"ticks\": \"\"}}, \"type\": \"scatterpolar\"}], \"scatterpolargl\": [{\"marker\": {\"colorbar\": {\"outlinewidth\": 0, \"ticks\": \"\"}}, \"type\": \"scatterpolargl\"}], \"scatterternary\": [{\"marker\": {\"colorbar\": {\"outlinewidth\": 0, \"ticks\": \"\"}}, \"type\": \"scatterternary\"}], \"surface\": [{\"colorbar\": {\"outlinewidth\": 0, \"ticks\": \"\"}, \"colorscale\": [[0.0, \"#0d0887\"], [0.1111111111111111, \"#46039f\"], [0.2222222222222222, \"#7201a8\"], [0.3333333333333333, \"#9c179e\"], [0.4444444444444444, \"#bd3786\"], [0.5555555555555556, \"#d8576b\"], [0.6666666666666666, \"#ed7953\"], [0.7777777777777778, \"#fb9f3a\"], [0.8888888888888888, \"#fdca26\"], [1.0, \"#f0f921\"]], \"type\": \"surface\"}], \"table\": [{\"cells\": {\"fill\": {\"color\": \"#EBF0F8\"}, \"line\": {\"color\": \"white\"}}, \"header\": {\"fill\": {\"color\": \"#C8D4E3\"}, \"line\": {\"color\": \"white\"}}, \"type\": \"table\"}]}, \"layout\": {\"annotationdefaults\": {\"arrowcolor\": \"#2a3f5f\", \"arrowhead\": 0, \"arrowwidth\": 1}, \"colorscale\": {\"diverging\": [[0, \"#8e0152\"], [0.1, \"#c51b7d\"], [0.2, \"#de77ae\"], [0.3, \"#f1b6da\"], [0.4, \"#fde0ef\"], [0.5, \"#f7f7f7\"], [0.6, \"#e6f5d0\"], [0.7, \"#b8e186\"], [0.8, \"#7fbc41\"], [0.9, \"#4d9221\"], [1, \"#276419\"]], \"sequential\": [[0.0, \"#0d0887\"], [0.1111111111111111, \"#46039f\"], [0.2222222222222222, \"#7201a8\"], [0.3333333333333333, \"#9c179e\"], [0.4444444444444444, \"#bd3786\"], [0.5555555555555556, \"#d8576b\"], [0.6666666666666666, \"#ed7953\"], [0.7777777777777778, \"#fb9f3a\"], [0.8888888888888888, \"#fdca26\"], [1.0, \"#f0f921\"]], \"sequentialminus\": [[0.0, \"#0d0887\"], [0.1111111111111111, \"#46039f\"], [0.2222222222222222, \"#7201a8\"], [0.3333333333333333, \"#9c179e\"], [0.4444444444444444, \"#bd3786\"], [0.5555555555555556, \"#d8576b\"], [0.6666666666666666, \"#ed7953\"], [0.7777777777777778, \"#fb9f3a\"], [0.8888888888888888, \"#fdca26\"], [1.0, \"#f0f921\"]]}, \"colorway\": [\"#636efa\", \"#EF553B\", \"#00cc96\", \"#ab63fa\", \"#FFA15A\", \"#19d3f3\", \"#FF6692\", \"#B6E880\", \"#FF97FF\", \"#FECB52\"], \"font\": {\"color\": \"#2a3f5f\"}, \"geo\": {\"bgcolor\": \"white\", \"lakecolor\": \"white\", \"landcolor\": \"#E5ECF6\", \"showlakes\": true, \"showland\": true, \"subunitcolor\": \"white\"}, \"hoverlabel\": {\"align\": \"left\"}, \"hovermode\": \"closest\", \"mapbox\": {\"style\": \"light\"}, \"paper_bgcolor\": \"white\", \"plot_bgcolor\": \"#E5ECF6\", \"polar\": {\"angularaxis\": {\"gridcolor\": \"white\", \"linecolor\": \"white\", \"ticks\": \"\"}, \"bgcolor\": \"#E5ECF6\", \"radialaxis\": {\"gridcolor\": \"white\", \"linecolor\": \"white\", \"ticks\": \"\"}}, \"scene\": {\"xaxis\": {\"backgroundcolor\": \"#E5ECF6\", \"gridcolor\": \"white\", \"gridwidth\": 2, \"linecolor\": \"white\", \"showbackground\": true, \"ticks\": \"\", \"zerolinecolor\": \"white\"}, \"yaxis\": {\"backgroundcolor\": \"#E5ECF6\", \"gridcolor\": \"white\", \"gridwidth\": 2, \"linecolor\": \"white\", \"showbackground\": true, \"ticks\": \"\", \"zerolinecolor\": \"white\"}, \"zaxis\": {\"backgroundcolor\": \"#E5ECF6\", \"gridcolor\": \"white\", \"gridwidth\": 2, \"linecolor\": \"white\", \"showbackground\": true, \"ticks\": \"\", \"zerolinecolor\": \"white\"}}, \"shapedefaults\": {\"line\": {\"color\": \"#2a3f5f\"}}, \"ternary\": {\"aaxis\": {\"gridcolor\": \"white\", \"linecolor\": \"white\", \"ticks\": \"\"}, \"baxis\": {\"gridcolor\": \"white\", \"linecolor\": \"white\", \"ticks\": \"\"}, \"bgcolor\": \"#E5ECF6\", \"caxis\": {\"gridcolor\": \"white\", \"linecolor\": \"white\", \"ticks\": \"\"}}, \"title\": {\"x\": 0.05}, \"xaxis\": {\"automargin\": true, \"gridcolor\": \"white\", \"linecolor\": \"white\", \"ticks\": \"\", \"zerolinecolor\": \"white\", \"zerolinewidth\": 2}, \"yaxis\": {\"automargin\": true, \"gridcolor\": \"white\", \"linecolor\": \"white\", \"ticks\": \"\", \"zerolinecolor\": \"white\", \"zerolinewidth\": 2}}}, \"xaxis\": {\"anchor\": \"y\", \"domain\": [0.0, 0.98], \"title\": {\"text\": \"Points per Game\"}}, \"yaxis\": {\"anchor\": \"x\", \"domain\": [0.0, 1.0], \"title\": {\"text\": \"Points per Million\"}}},\n",
       "                        {\"responsive\": true}\n",
       "                    ).then(function(){\n",
       "                            \n",
       "var gd = document.getElementById('2de4760c-a7f2-44b3-a9f7-faf73939d943');\n",
       "var x = new MutationObserver(function (mutations, observer) {{\n",
       "        var display = window.getComputedStyle(gd).display;\n",
       "        if (!display || display === 'none') {{\n",
       "            console.log([gd, 'removed!']);\n",
       "            Plotly.purge(gd);\n",
       "            observer.disconnect();\n",
       "        }}\n",
       "}});\n",
       "\n",
       "// Listen for the removal of the full notebook cells\n",
       "var notebookContainer = gd.closest('#notebook-container');\n",
       "if (notebookContainer) {{\n",
       "    x.observe(notebookContainer, {childList: true});\n",
       "}}\n",
       "\n",
       "// Listen for the clearing of the current output cell\n",
       "var outputEl = gd.closest('.output');\n",
       "if (outputEl) {{\n",
       "    x.observe(outputEl, {childList: true});\n",
       "}}\n",
       "\n",
       "                        })\n",
       "                };\n",
       "                });\n",
       "            </script>\n",
       "        </div>"
      ]
     },
     "metadata": {},
     "output_type": "display_data"
    }
   ],
   "source": [
    "bubble_chart(players, \"Midfielder\")"
   ]
  },
  {
   "cell_type": "markdown",
   "metadata": {},
   "source": [
    "## Forwards"
   ]
  },
  {
   "cell_type": "code",
   "execution_count": 92,
   "metadata": {},
   "outputs": [
    {
     "data": {
      "text/html": [
       "<style  type=\"text/css\" >\n",
       "    #T_f9fd622c_aeb7_11e9_bf15_8c1645dd14fe th {\n",
       "          font-size: 11px;\n",
       "          text-align: center;\n",
       "          font-weight: bold;\n",
       "          color: #6d6d6d;\n",
       "          background-color: #f7f7f9;\n",
       "    }    #T_f9fd622c_aeb7_11e9_bf15_8c1645dd14fe td {\n",
       "          font-size: 11px;\n",
       "    }    #T_f9fd622c_aeb7_11e9_bf15_8c1645dd14ferow0_col0 {\n",
       "            font-weight:  bold;\n",
       "        }    #T_f9fd622c_aeb7_11e9_bf15_8c1645dd14ferow0_col4 {\n",
       "            color:  black;\n",
       "        }    #T_f9fd622c_aeb7_11e9_bf15_8c1645dd14ferow0_col5 {\n",
       "            color:  black;\n",
       "        }    #T_f9fd622c_aeb7_11e9_bf15_8c1645dd14ferow0_col6 {\n",
       "            color:  green;\n",
       "        }    #T_f9fd622c_aeb7_11e9_bf15_8c1645dd14ferow0_col7 {\n",
       "            background-color:  #44ab42;\n",
       "            color:  #000000;\n",
       "        }    #T_f9fd622c_aeb7_11e9_bf15_8c1645dd14ferow1_col0 {\n",
       "            font-weight:  bold;\n",
       "        }    #T_f9fd622c_aeb7_11e9_bf15_8c1645dd14ferow1_col4 {\n",
       "            color:  black;\n",
       "        }    #T_f9fd622c_aeb7_11e9_bf15_8c1645dd14ferow1_col5 {\n",
       "            color:  black;\n",
       "        }    #T_f9fd622c_aeb7_11e9_bf15_8c1645dd14ferow1_col6 {\n",
       "            color:  black;\n",
       "        }    #T_f9fd622c_aeb7_11e9_bf15_8c1645dd14ferow1_col7 {\n",
       "            background-color:  #aad9a9;\n",
       "            color:  #000000;\n",
       "        }    #T_f9fd622c_aeb7_11e9_bf15_8c1645dd14ferow2_col0 {\n",
       "            font-weight:  bold;\n",
       "        }    #T_f9fd622c_aeb7_11e9_bf15_8c1645dd14ferow2_col4 {\n",
       "            color:  red;\n",
       "        }    #T_f9fd622c_aeb7_11e9_bf15_8c1645dd14ferow2_col5 {\n",
       "            color:  black;\n",
       "        }    #T_f9fd622c_aeb7_11e9_bf15_8c1645dd14ferow2_col6 {\n",
       "            color:  black;\n",
       "        }    #T_f9fd622c_aeb7_11e9_bf15_8c1645dd14ferow2_col7 {\n",
       "            background-color:  #c5e6c4;\n",
       "            color:  #000000;\n",
       "        }    #T_f9fd622c_aeb7_11e9_bf15_8c1645dd14ferow3_col0 {\n",
       "            font-weight:  bold;\n",
       "        }    #T_f9fd622c_aeb7_11e9_bf15_8c1645dd14ferow3_col4 {\n",
       "            color:  black;\n",
       "        }    #T_f9fd622c_aeb7_11e9_bf15_8c1645dd14ferow3_col5 {\n",
       "            color:  black;\n",
       "        }    #T_f9fd622c_aeb7_11e9_bf15_8c1645dd14ferow3_col6 {\n",
       "            color:  black;\n",
       "        }    #T_f9fd622c_aeb7_11e9_bf15_8c1645dd14ferow3_col7 {\n",
       "            background-color:  #ceeacd;\n",
       "            color:  #000000;\n",
       "        }    #T_f9fd622c_aeb7_11e9_bf15_8c1645dd14ferow4_col0 {\n",
       "            font-weight:  bold;\n",
       "        }    #T_f9fd622c_aeb7_11e9_bf15_8c1645dd14ferow4_col4 {\n",
       "            color:  black;\n",
       "        }    #T_f9fd622c_aeb7_11e9_bf15_8c1645dd14ferow4_col5 {\n",
       "            color:  black;\n",
       "        }    #T_f9fd622c_aeb7_11e9_bf15_8c1645dd14ferow4_col6 {\n",
       "            color:  black;\n",
       "        }    #T_f9fd622c_aeb7_11e9_bf15_8c1645dd14ferow4_col7 {\n",
       "            background-color:  #d2ecd2;\n",
       "            color:  #000000;\n",
       "        }    #T_f9fd622c_aeb7_11e9_bf15_8c1645dd14ferow5_col0 {\n",
       "            font-weight:  bold;\n",
       "        }    #T_f9fd622c_aeb7_11e9_bf15_8c1645dd14ferow5_col4 {\n",
       "            color:  black;\n",
       "        }    #T_f9fd622c_aeb7_11e9_bf15_8c1645dd14ferow5_col5 {\n",
       "            color:  black;\n",
       "        }    #T_f9fd622c_aeb7_11e9_bf15_8c1645dd14ferow5_col6 {\n",
       "            color:  black;\n",
       "        }    #T_f9fd622c_aeb7_11e9_bf15_8c1645dd14ferow5_col7 {\n",
       "            background-color:  #d2ecd2;\n",
       "            color:  #000000;\n",
       "        }    #T_f9fd622c_aeb7_11e9_bf15_8c1645dd14ferow6_col0 {\n",
       "            font-weight:  bold;\n",
       "        }    #T_f9fd622c_aeb7_11e9_bf15_8c1645dd14ferow6_col4 {\n",
       "            color:  black;\n",
       "        }    #T_f9fd622c_aeb7_11e9_bf15_8c1645dd14ferow6_col5 {\n",
       "            color:  black;\n",
       "        }    #T_f9fd622c_aeb7_11e9_bf15_8c1645dd14ferow6_col6 {\n",
       "            color:  black;\n",
       "        }    #T_f9fd622c_aeb7_11e9_bf15_8c1645dd14ferow6_col7 {\n",
       "            background-color:  #d7eed7;\n",
       "            color:  #000000;\n",
       "        }    #T_f9fd622c_aeb7_11e9_bf15_8c1645dd14ferow7_col0 {\n",
       "            font-weight:  bold;\n",
       "        }    #T_f9fd622c_aeb7_11e9_bf15_8c1645dd14ferow7_col4 {\n",
       "            color:  black;\n",
       "        }    #T_f9fd622c_aeb7_11e9_bf15_8c1645dd14ferow7_col5 {\n",
       "            color:  black;\n",
       "        }    #T_f9fd622c_aeb7_11e9_bf15_8c1645dd14ferow7_col6 {\n",
       "            color:  black;\n",
       "        }    #T_f9fd622c_aeb7_11e9_bf15_8c1645dd14ferow7_col7 {\n",
       "            background-color:  #e0f2df;\n",
       "            color:  #000000;\n",
       "        }    #T_f9fd622c_aeb7_11e9_bf15_8c1645dd14ferow8_col0 {\n",
       "            font-weight:  bold;\n",
       "        }    #T_f9fd622c_aeb7_11e9_bf15_8c1645dd14ferow8_col4 {\n",
       "            color:  black;\n",
       "        }    #T_f9fd622c_aeb7_11e9_bf15_8c1645dd14ferow8_col5 {\n",
       "            color:  black;\n",
       "        }    #T_f9fd622c_aeb7_11e9_bf15_8c1645dd14ferow8_col6 {\n",
       "            color:  black;\n",
       "        }    #T_f9fd622c_aeb7_11e9_bf15_8c1645dd14ferow8_col7 {\n",
       "            background-color:  #e4f4e4;\n",
       "            color:  #000000;\n",
       "        }    #T_f9fd622c_aeb7_11e9_bf15_8c1645dd14ferow9_col0 {\n",
       "            font-weight:  bold;\n",
       "        }    #T_f9fd622c_aeb7_11e9_bf15_8c1645dd14ferow9_col4 {\n",
       "            color:  black;\n",
       "        }    #T_f9fd622c_aeb7_11e9_bf15_8c1645dd14ferow9_col5 {\n",
       "            color:  black;\n",
       "        }    #T_f9fd622c_aeb7_11e9_bf15_8c1645dd14ferow9_col6 {\n",
       "            color:  black;\n",
       "        }    #T_f9fd622c_aeb7_11e9_bf15_8c1645dd14ferow9_col7 {\n",
       "            background-color:  #e4f4e4;\n",
       "            color:  #000000;\n",
       "        }    #T_f9fd622c_aeb7_11e9_bf15_8c1645dd14ferow10_col0 {\n",
       "            font-weight:  bold;\n",
       "        }    #T_f9fd622c_aeb7_11e9_bf15_8c1645dd14ferow10_col4 {\n",
       "            color:  black;\n",
       "        }    #T_f9fd622c_aeb7_11e9_bf15_8c1645dd14ferow10_col5 {\n",
       "            color:  black;\n",
       "        }    #T_f9fd622c_aeb7_11e9_bf15_8c1645dd14ferow10_col6 {\n",
       "            color:  black;\n",
       "        }    #T_f9fd622c_aeb7_11e9_bf15_8c1645dd14ferow10_col7 {\n",
       "            background-color:  #e4f4e4;\n",
       "            color:  #000000;\n",
       "        }    #T_f9fd622c_aeb7_11e9_bf15_8c1645dd14ferow11_col0 {\n",
       "            font-weight:  bold;\n",
       "        }    #T_f9fd622c_aeb7_11e9_bf15_8c1645dd14ferow11_col4 {\n",
       "            color:  black;\n",
       "        }    #T_f9fd622c_aeb7_11e9_bf15_8c1645dd14ferow11_col5 {\n",
       "            color:  black;\n",
       "        }    #T_f9fd622c_aeb7_11e9_bf15_8c1645dd14ferow11_col6 {\n",
       "            color:  black;\n",
       "        }    #T_f9fd622c_aeb7_11e9_bf15_8c1645dd14ferow11_col7 {\n",
       "            background-color:  #e9f6e9;\n",
       "            color:  #000000;\n",
       "        }    #T_f9fd622c_aeb7_11e9_bf15_8c1645dd14ferow12_col0 {\n",
       "            font-weight:  bold;\n",
       "        }    #T_f9fd622c_aeb7_11e9_bf15_8c1645dd14ferow12_col4 {\n",
       "            color:  black;\n",
       "        }    #T_f9fd622c_aeb7_11e9_bf15_8c1645dd14ferow12_col5 {\n",
       "            color:  black;\n",
       "        }    #T_f9fd622c_aeb7_11e9_bf15_8c1645dd14ferow12_col6 {\n",
       "            color:  black;\n",
       "        }    #T_f9fd622c_aeb7_11e9_bf15_8c1645dd14ferow12_col7 {\n",
       "            background-color:  #edf8ed;\n",
       "            color:  #000000;\n",
       "        }    #T_f9fd622c_aeb7_11e9_bf15_8c1645dd14ferow13_col0 {\n",
       "            font-weight:  bold;\n",
       "        }    #T_f9fd622c_aeb7_11e9_bf15_8c1645dd14ferow13_col4 {\n",
       "            color:  black;\n",
       "        }    #T_f9fd622c_aeb7_11e9_bf15_8c1645dd14ferow13_col5 {\n",
       "            color:  black;\n",
       "        }    #T_f9fd622c_aeb7_11e9_bf15_8c1645dd14ferow13_col6 {\n",
       "            color:  black;\n",
       "        }    #T_f9fd622c_aeb7_11e9_bf15_8c1645dd14ferow13_col7 {\n",
       "            background-color:  #edf8ed;\n",
       "            color:  #000000;\n",
       "        }    #T_f9fd622c_aeb7_11e9_bf15_8c1645dd14ferow14_col0 {\n",
       "            font-weight:  bold;\n",
       "        }    #T_f9fd622c_aeb7_11e9_bf15_8c1645dd14ferow14_col4 {\n",
       "            color:  black;\n",
       "        }    #T_f9fd622c_aeb7_11e9_bf15_8c1645dd14ferow14_col5 {\n",
       "            color:  black;\n",
       "        }    #T_f9fd622c_aeb7_11e9_bf15_8c1645dd14ferow14_col6 {\n",
       "            color:  black;\n",
       "        }    #T_f9fd622c_aeb7_11e9_bf15_8c1645dd14ferow14_col7 {\n",
       "            background-color:  #edf8ed;\n",
       "            color:  #000000;\n",
       "        }</style><table id=\"T_f9fd622c_aeb7_11e9_bf15_8c1645dd14fe\" ><caption>Top Forwards:</caption><thead>    <tr>        <th class=\"blank level0\" ></th>        <th class=\"col_heading level0 col0\" >name</th>        <th class=\"col_heading level0 col1\" >games</th>        <th class=\"col_heading level0 col2\" >points</th>        <th class=\"col_heading level0 col3\" >value</th>        <th class=\"col_heading level0 col4\" >cards</th>        <th class=\"col_heading level0 col5\" >points_per_million</th>        <th class=\"col_heading level0 col6\" >points_per_game</th>        <th class=\"col_heading level0 col7\" >pct_lineup</th>    </tr></thead><tbody>\n",
       "                <tr>\n",
       "                        <th id=\"T_f9fd622c_aeb7_11e9_bf15_8c1645dd14felevel0_row0\" class=\"row_heading level0 row0\" >145</th>\n",
       "                        <td id=\"T_f9fd622c_aeb7_11e9_bf15_8c1645dd14ferow0_col0\" class=\"data row0 col0\" >Messi</td>\n",
       "                        <td id=\"T_f9fd622c_aeb7_11e9_bf15_8c1645dd14ferow0_col1\" class=\"data row0 col1\" >34</td>\n",
       "                        <td id=\"T_f9fd622c_aeb7_11e9_bf15_8c1645dd14ferow0_col2\" class=\"data row0 col2\" >428</td>\n",
       "                        <td id=\"T_f9fd622c_aeb7_11e9_bf15_8c1645dd14ferow0_col3\" class=\"data row0 col3\" >22790000</td>\n",
       "                        <td id=\"T_f9fd622c_aeb7_11e9_bf15_8c1645dd14ferow0_col4\" class=\"data row0 col4\" >3</td>\n",
       "                        <td id=\"T_f9fd622c_aeb7_11e9_bf15_8c1645dd14ferow0_col5\" class=\"data row0 col5\" >18.78</td>\n",
       "                        <td id=\"T_f9fd622c_aeb7_11e9_bf15_8c1645dd14ferow0_col6\" class=\"data row0 col6\" >12.6</td>\n",
       "                        <td id=\"T_f9fd622c_aeb7_11e9_bf15_8c1645dd14ferow0_col7\" class=\"data row0 col7\" >45</td>\n",
       "            </tr>\n",
       "            <tr>\n",
       "                        <th id=\"T_f9fd622c_aeb7_11e9_bf15_8c1645dd14felevel0_row1\" class=\"row_heading level0 row1\" >112</th>\n",
       "                        <td id=\"T_f9fd622c_aeb7_11e9_bf15_8c1645dd14ferow1_col0\" class=\"data row1 col0\" >Jorge Molina</td>\n",
       "                        <td id=\"T_f9fd622c_aeb7_11e9_bf15_8c1645dd14ferow1_col1\" class=\"data row1 col1\" >38</td>\n",
       "                        <td id=\"T_f9fd622c_aeb7_11e9_bf15_8c1645dd14ferow1_col2\" class=\"data row1 col2\" >244</td>\n",
       "                        <td id=\"T_f9fd622c_aeb7_11e9_bf15_8c1645dd14ferow1_col3\" class=\"data row1 col3\" >6560000</td>\n",
       "                        <td id=\"T_f9fd622c_aeb7_11e9_bf15_8c1645dd14ferow1_col4\" class=\"data row1 col4\" >2</td>\n",
       "                        <td id=\"T_f9fd622c_aeb7_11e9_bf15_8c1645dd14ferow1_col5\" class=\"data row1 col5\" >37.2</td>\n",
       "                        <td id=\"T_f9fd622c_aeb7_11e9_bf15_8c1645dd14ferow1_col6\" class=\"data row1 col6\" >6.42</td>\n",
       "                        <td id=\"T_f9fd622c_aeb7_11e9_bf15_8c1645dd14ferow1_col7\" class=\"data row1 col7\" >22</td>\n",
       "            </tr>\n",
       "            <tr>\n",
       "                        <th id=\"T_f9fd622c_aeb7_11e9_bf15_8c1645dd14felevel0_row2\" class=\"row_heading level0 row2\" >103</th>\n",
       "                        <td id=\"T_f9fd622c_aeb7_11e9_bf15_8c1645dd14ferow2_col0\" class=\"data row2 col0\" >Jaime Mata</td>\n",
       "                        <td id=\"T_f9fd622c_aeb7_11e9_bf15_8c1645dd14ferow2_col1\" class=\"data row2 col1\" >34</td>\n",
       "                        <td id=\"T_f9fd622c_aeb7_11e9_bf15_8c1645dd14ferow2_col2\" class=\"data row2 col2\" >209</td>\n",
       "                        <td id=\"T_f9fd622c_aeb7_11e9_bf15_8c1645dd14ferow2_col3\" class=\"data row2 col3\" >6440000</td>\n",
       "                        <td id=\"T_f9fd622c_aeb7_11e9_bf15_8c1645dd14ferow2_col4\" class=\"data row2 col4\" >10</td>\n",
       "                        <td id=\"T_f9fd622c_aeb7_11e9_bf15_8c1645dd14ferow2_col5\" class=\"data row2 col5\" >32.45</td>\n",
       "                        <td id=\"T_f9fd622c_aeb7_11e9_bf15_8c1645dd14ferow2_col6\" class=\"data row2 col6\" >6.15</td>\n",
       "                        <td id=\"T_f9fd622c_aeb7_11e9_bf15_8c1645dd14ferow2_col7\" class=\"data row2 col7\" >16</td>\n",
       "            </tr>\n",
       "            <tr>\n",
       "                        <th id=\"T_f9fd622c_aeb7_11e9_bf15_8c1645dd14felevel0_row3\" class=\"row_heading level0 row3\" >40</th>\n",
       "                        <td id=\"T_f9fd622c_aeb7_11e9_bf15_8c1645dd14ferow3_col0\" class=\"data row3 col0\" >Charles</td>\n",
       "                        <td id=\"T_f9fd622c_aeb7_11e9_bf15_8c1645dd14ferow3_col1\" class=\"data row3 col1\" >34</td>\n",
       "                        <td id=\"T_f9fd622c_aeb7_11e9_bf15_8c1645dd14ferow3_col2\" class=\"data row3 col2\" >185</td>\n",
       "                        <td id=\"T_f9fd622c_aeb7_11e9_bf15_8c1645dd14ferow3_col3\" class=\"data row3 col3\" >2500000</td>\n",
       "                        <td id=\"T_f9fd622c_aeb7_11e9_bf15_8c1645dd14ferow3_col4\" class=\"data row3 col4\" >4</td>\n",
       "                        <td id=\"T_f9fd622c_aeb7_11e9_bf15_8c1645dd14ferow3_col5\" class=\"data row3 col5\" >74.0</td>\n",
       "                        <td id=\"T_f9fd622c_aeb7_11e9_bf15_8c1645dd14ferow3_col6\" class=\"data row3 col6\" >5.44</td>\n",
       "                        <td id=\"T_f9fd622c_aeb7_11e9_bf15_8c1645dd14ferow3_col7\" class=\"data row3 col7\" >14</td>\n",
       "            </tr>\n",
       "            <tr>\n",
       "                        <th id=\"T_f9fd622c_aeb7_11e9_bf15_8c1645dd14felevel0_row4\" class=\"row_heading level0 row4\" >129</th>\n",
       "                        <td id=\"T_f9fd622c_aeb7_11e9_bf15_8c1645dd14ferow4_col0\" class=\"data row4 col0\" >Luis Suárez</td>\n",
       "                        <td id=\"T_f9fd622c_aeb7_11e9_bf15_8c1645dd14ferow4_col1\" class=\"data row4 col1\" >33</td>\n",
       "                        <td id=\"T_f9fd622c_aeb7_11e9_bf15_8c1645dd14ferow4_col2\" class=\"data row4 col2\" >262</td>\n",
       "                        <td id=\"T_f9fd622c_aeb7_11e9_bf15_8c1645dd14ferow4_col3\" class=\"data row4 col3\" >11740000</td>\n",
       "                        <td id=\"T_f9fd622c_aeb7_11e9_bf15_8c1645dd14ferow4_col4\" class=\"data row4 col4\" >5</td>\n",
       "                        <td id=\"T_f9fd622c_aeb7_11e9_bf15_8c1645dd14ferow4_col5\" class=\"data row4 col5\" >22.32</td>\n",
       "                        <td id=\"T_f9fd622c_aeb7_11e9_bf15_8c1645dd14ferow4_col6\" class=\"data row4 col6\" >7.94</td>\n",
       "                        <td id=\"T_f9fd622c_aeb7_11e9_bf15_8c1645dd14ferow4_col7\" class=\"data row4 col7\" >13</td>\n",
       "            </tr>\n",
       "            <tr>\n",
       "                        <th id=\"T_f9fd622c_aeb7_11e9_bf15_8c1645dd14felevel0_row5\" class=\"row_heading level0 row5\" >19</th>\n",
       "                        <td id=\"T_f9fd622c_aeb7_11e9_bf15_8c1645dd14ferow5_col0\" class=\"data row5 col0\" >Benzema</td>\n",
       "                        <td id=\"T_f9fd622c_aeb7_11e9_bf15_8c1645dd14ferow5_col1\" class=\"data row5 col1\" >36</td>\n",
       "                        <td id=\"T_f9fd622c_aeb7_11e9_bf15_8c1645dd14ferow5_col2\" class=\"data row5 col2\" >263</td>\n",
       "                        <td id=\"T_f9fd622c_aeb7_11e9_bf15_8c1645dd14ferow5_col3\" class=\"data row5 col3\" >10710000</td>\n",
       "                        <td id=\"T_f9fd622c_aeb7_11e9_bf15_8c1645dd14ferow5_col4\" class=\"data row5 col4\" >1</td>\n",
       "                        <td id=\"T_f9fd622c_aeb7_11e9_bf15_8c1645dd14ferow5_col5\" class=\"data row5 col5\" >24.56</td>\n",
       "                        <td id=\"T_f9fd622c_aeb7_11e9_bf15_8c1645dd14ferow5_col6\" class=\"data row5 col6\" >7.31</td>\n",
       "                        <td id=\"T_f9fd622c_aeb7_11e9_bf15_8c1645dd14ferow5_col7\" class=\"data row5 col7\" >13</td>\n",
       "            </tr>\n",
       "            <tr>\n",
       "                        <th id=\"T_f9fd622c_aeb7_11e9_bf15_8c1645dd14felevel0_row6\" class=\"row_heading level0 row6\" >59</th>\n",
       "                        <td id=\"T_f9fd622c_aeb7_11e9_bf15_8c1645dd14ferow6_col0\" class=\"data row6 col0\" >Dembélé</td>\n",
       "                        <td id=\"T_f9fd622c_aeb7_11e9_bf15_8c1645dd14ferow6_col1\" class=\"data row6 col1\" >29</td>\n",
       "                        <td id=\"T_f9fd622c_aeb7_11e9_bf15_8c1645dd14ferow6_col2\" class=\"data row6 col2\" >179</td>\n",
       "                        <td id=\"T_f9fd622c_aeb7_11e9_bf15_8c1645dd14ferow6_col3\" class=\"data row6 col3\" >3990000</td>\n",
       "                        <td id=\"T_f9fd622c_aeb7_11e9_bf15_8c1645dd14ferow6_col4\" class=\"data row6 col4\" >1</td>\n",
       "                        <td id=\"T_f9fd622c_aeb7_11e9_bf15_8c1645dd14ferow6_col5\" class=\"data row6 col5\" >44.86</td>\n",
       "                        <td id=\"T_f9fd622c_aeb7_11e9_bf15_8c1645dd14ferow6_col6\" class=\"data row6 col6\" >6.17</td>\n",
       "                        <td id=\"T_f9fd622c_aeb7_11e9_bf15_8c1645dd14ferow6_col7\" class=\"data row6 col7\" >12</td>\n",
       "            </tr>\n",
       "            <tr>\n",
       "                        <th id=\"T_f9fd622c_aeb7_11e9_bf15_8c1645dd14felevel0_row7\" class=\"row_heading level0 row7\" >68</th>\n",
       "                        <td id=\"T_f9fd622c_aeb7_11e9_bf15_8c1645dd14ferow7_col0\" class=\"data row7 col0\" >En-Nesyri</td>\n",
       "                        <td id=\"T_f9fd622c_aeb7_11e9_bf15_8c1645dd14ferow7_col1\" class=\"data row7 col1\" >31</td>\n",
       "                        <td id=\"T_f9fd622c_aeb7_11e9_bf15_8c1645dd14ferow7_col2\" class=\"data row7 col2\" >161</td>\n",
       "                        <td id=\"T_f9fd622c_aeb7_11e9_bf15_8c1645dd14ferow7_col3\" class=\"data row7 col3\" >3100000</td>\n",
       "                        <td id=\"T_f9fd622c_aeb7_11e9_bf15_8c1645dd14ferow7_col4\" class=\"data row7 col4\" >7</td>\n",
       "                        <td id=\"T_f9fd622c_aeb7_11e9_bf15_8c1645dd14ferow7_col5\" class=\"data row7 col5\" >51.94</td>\n",
       "                        <td id=\"T_f9fd622c_aeb7_11e9_bf15_8c1645dd14ferow7_col6\" class=\"data row7 col6\" >5.19</td>\n",
       "                        <td id=\"T_f9fd622c_aeb7_11e9_bf15_8c1645dd14ferow7_col7\" class=\"data row7 col7\" >10</td>\n",
       "            </tr>\n",
       "            <tr>\n",
       "                        <th id=\"T_f9fd622c_aeb7_11e9_bf15_8c1645dd14felevel0_row8\" class=\"row_heading level0 row8\" >22</th>\n",
       "                        <td id=\"T_f9fd622c_aeb7_11e9_bf15_8c1645dd14ferow8_col0\" class=\"data row8 col0\" >Borja Iglesias</td>\n",
       "                        <td id=\"T_f9fd622c_aeb7_11e9_bf15_8c1645dd14ferow8_col1\" class=\"data row8 col1\" >37</td>\n",
       "                        <td id=\"T_f9fd622c_aeb7_11e9_bf15_8c1645dd14ferow8_col2\" class=\"data row8 col2\" >239</td>\n",
       "                        <td id=\"T_f9fd622c_aeb7_11e9_bf15_8c1645dd14ferow8_col3\" class=\"data row8 col3\" >9660000</td>\n",
       "                        <td id=\"T_f9fd622c_aeb7_11e9_bf15_8c1645dd14ferow8_col4\" class=\"data row8 col4\" >5</td>\n",
       "                        <td id=\"T_f9fd622c_aeb7_11e9_bf15_8c1645dd14ferow8_col5\" class=\"data row8 col5\" >24.74</td>\n",
       "                        <td id=\"T_f9fd622c_aeb7_11e9_bf15_8c1645dd14ferow8_col6\" class=\"data row8 col6\" >6.46</td>\n",
       "                        <td id=\"T_f9fd622c_aeb7_11e9_bf15_8c1645dd14ferow8_col7\" class=\"data row8 col7\" >9</td>\n",
       "            </tr>\n",
       "            <tr>\n",
       "                        <th id=\"T_f9fd622c_aeb7_11e9_bf15_8c1645dd14felevel0_row9\" class=\"row_heading level0 row9\" >18</th>\n",
       "                        <td id=\"T_f9fd622c_aeb7_11e9_bf15_8c1645dd14ferow9_col0\" class=\"data row9 col0\" >Ben Yedder</td>\n",
       "                        <td id=\"T_f9fd622c_aeb7_11e9_bf15_8c1645dd14ferow9_col1\" class=\"data row9 col1\" >35</td>\n",
       "                        <td id=\"T_f9fd622c_aeb7_11e9_bf15_8c1645dd14ferow9_col2\" class=\"data row9 col2\" >246</td>\n",
       "                        <td id=\"T_f9fd622c_aeb7_11e9_bf15_8c1645dd14ferow9_col3\" class=\"data row9 col3\" >8320000</td>\n",
       "                        <td id=\"T_f9fd622c_aeb7_11e9_bf15_8c1645dd14ferow9_col4\" class=\"data row9 col4\" >4</td>\n",
       "                        <td id=\"T_f9fd622c_aeb7_11e9_bf15_8c1645dd14ferow9_col5\" class=\"data row9 col5\" >29.57</td>\n",
       "                        <td id=\"T_f9fd622c_aeb7_11e9_bf15_8c1645dd14ferow9_col6\" class=\"data row9 col6\" >7.03</td>\n",
       "                        <td id=\"T_f9fd622c_aeb7_11e9_bf15_8c1645dd14ferow9_col7\" class=\"data row9 col7\" >9</td>\n",
       "            </tr>\n",
       "            <tr>\n",
       "                        <th id=\"T_f9fd622c_aeb7_11e9_bf15_8c1645dd14felevel0_row10\" class=\"row_heading level0 row10\" >170</th>\n",
       "                        <td id=\"T_f9fd622c_aeb7_11e9_bf15_8c1645dd14ferow10_col0\" class=\"data row10 col0\" >Portu</td>\n",
       "                        <td id=\"T_f9fd622c_aeb7_11e9_bf15_8c1645dd14ferow10_col1\" class=\"data row10 col1\" >34</td>\n",
       "                        <td id=\"T_f9fd622c_aeb7_11e9_bf15_8c1645dd14ferow10_col2\" class=\"data row10 col2\" >166</td>\n",
       "                        <td id=\"T_f9fd622c_aeb7_11e9_bf15_8c1645dd14ferow10_col3\" class=\"data row10 col3\" >5200000</td>\n",
       "                        <td id=\"T_f9fd622c_aeb7_11e9_bf15_8c1645dd14ferow10_col4\" class=\"data row10 col4\" >3</td>\n",
       "                        <td id=\"T_f9fd622c_aeb7_11e9_bf15_8c1645dd14ferow10_col5\" class=\"data row10 col5\" >31.92</td>\n",
       "                        <td id=\"T_f9fd622c_aeb7_11e9_bf15_8c1645dd14ferow10_col6\" class=\"data row10 col6\" >4.88</td>\n",
       "                        <td id=\"T_f9fd622c_aeb7_11e9_bf15_8c1645dd14ferow10_col7\" class=\"data row10 col7\" >9</td>\n",
       "            </tr>\n",
       "            <tr>\n",
       "                        <th id=\"T_f9fd622c_aeb7_11e9_bf15_8c1645dd14felevel0_row11\" class=\"row_heading level0 row11\" >160</th>\n",
       "                        <td id=\"T_f9fd622c_aeb7_11e9_bf15_8c1645dd14ferow11_col0\" class=\"data row11 col0\" >Oyarzabal</td>\n",
       "                        <td id=\"T_f9fd622c_aeb7_11e9_bf15_8c1645dd14ferow11_col1\" class=\"data row11 col1\" >37</td>\n",
       "                        <td id=\"T_f9fd622c_aeb7_11e9_bf15_8c1645dd14ferow11_col2\" class=\"data row11 col2\" >210</td>\n",
       "                        <td id=\"T_f9fd622c_aeb7_11e9_bf15_8c1645dd14ferow11_col3\" class=\"data row11 col3\" >8310000</td>\n",
       "                        <td id=\"T_f9fd622c_aeb7_11e9_bf15_8c1645dd14ferow11_col4\" class=\"data row11 col4\" >2</td>\n",
       "                        <td id=\"T_f9fd622c_aeb7_11e9_bf15_8c1645dd14ferow11_col5\" class=\"data row11 col5\" >25.27</td>\n",
       "                        <td id=\"T_f9fd622c_aeb7_11e9_bf15_8c1645dd14ferow11_col6\" class=\"data row11 col6\" >5.68</td>\n",
       "                        <td id=\"T_f9fd622c_aeb7_11e9_bf15_8c1645dd14ferow11_col7\" class=\"data row11 col7\" >8</td>\n",
       "            </tr>\n",
       "            <tr>\n",
       "                        <th id=\"T_f9fd622c_aeb7_11e9_bf15_8c1645dd14felevel0_row12\" class=\"row_heading level0 row12\" >220</th>\n",
       "                        <td id=\"T_f9fd622c_aeb7_11e9_bf15_8c1645dd14ferow12_col0\" class=\"data row12 col0\" >Williams</td>\n",
       "                        <td id=\"T_f9fd622c_aeb7_11e9_bf15_8c1645dd14ferow12_col1\" class=\"data row12 col1\" >38</td>\n",
       "                        <td id=\"T_f9fd622c_aeb7_11e9_bf15_8c1645dd14ferow12_col2\" class=\"data row12 col2\" >209</td>\n",
       "                        <td id=\"T_f9fd622c_aeb7_11e9_bf15_8c1645dd14ferow12_col3\" class=\"data row12 col3\" >7540000</td>\n",
       "                        <td id=\"T_f9fd622c_aeb7_11e9_bf15_8c1645dd14ferow12_col4\" class=\"data row12 col4\" >3</td>\n",
       "                        <td id=\"T_f9fd622c_aeb7_11e9_bf15_8c1645dd14ferow12_col5\" class=\"data row12 col5\" >27.72</td>\n",
       "                        <td id=\"T_f9fd622c_aeb7_11e9_bf15_8c1645dd14ferow12_col6\" class=\"data row12 col6\" >5.5</td>\n",
       "                        <td id=\"T_f9fd622c_aeb7_11e9_bf15_8c1645dd14ferow12_col7\" class=\"data row12 col7\" >7</td>\n",
       "            </tr>\n",
       "            <tr>\n",
       "                        <th id=\"T_f9fd622c_aeb7_11e9_bf15_8c1645dd14felevel0_row13\" class=\"row_heading level0 row13\" >180</th>\n",
       "                        <td id=\"T_f9fd622c_aeb7_11e9_bf15_8c1645dd14ferow13_col0\" class=\"data row13 col0\" >Roger</td>\n",
       "                        <td id=\"T_f9fd622c_aeb7_11e9_bf15_8c1645dd14ferow13_col1\" class=\"data row13 col1\" >31</td>\n",
       "                        <td id=\"T_f9fd622c_aeb7_11e9_bf15_8c1645dd14ferow13_col2\" class=\"data row13 col2\" >155</td>\n",
       "                        <td id=\"T_f9fd622c_aeb7_11e9_bf15_8c1645dd14ferow13_col3\" class=\"data row13 col3\" >1890000</td>\n",
       "                        <td id=\"T_f9fd622c_aeb7_11e9_bf15_8c1645dd14ferow13_col4\" class=\"data row13 col4\" >4</td>\n",
       "                        <td id=\"T_f9fd622c_aeb7_11e9_bf15_8c1645dd14ferow13_col5\" class=\"data row13 col5\" >82.01</td>\n",
       "                        <td id=\"T_f9fd622c_aeb7_11e9_bf15_8c1645dd14ferow13_col6\" class=\"data row13 col6\" >5.0</td>\n",
       "                        <td id=\"T_f9fd622c_aeb7_11e9_bf15_8c1645dd14ferow13_col7\" class=\"data row13 col7\" >7</td>\n",
       "            </tr>\n",
       "            <tr>\n",
       "                        <th id=\"T_f9fd622c_aeb7_11e9_bf15_8c1645dd14felevel0_row14\" class=\"row_heading level0 row14\" >221</th>\n",
       "                        <td id=\"T_f9fd622c_aeb7_11e9_bf15_8c1645dd14ferow14_col0\" class=\"data row14 col0\" >Willian José</td>\n",
       "                        <td id=\"T_f9fd622c_aeb7_11e9_bf15_8c1645dd14ferow14_col1\" class=\"data row14 col1\" >31</td>\n",
       "                        <td id=\"T_f9fd622c_aeb7_11e9_bf15_8c1645dd14ferow14_col2\" class=\"data row14 col2\" >165</td>\n",
       "                        <td id=\"T_f9fd622c_aeb7_11e9_bf15_8c1645dd14ferow14_col3\" class=\"data row14 col3\" >5000000</td>\n",
       "                        <td id=\"T_f9fd622c_aeb7_11e9_bf15_8c1645dd14ferow14_col4\" class=\"data row14 col4\" >6</td>\n",
       "                        <td id=\"T_f9fd622c_aeb7_11e9_bf15_8c1645dd14ferow14_col5\" class=\"data row14 col5\" >33.0</td>\n",
       "                        <td id=\"T_f9fd622c_aeb7_11e9_bf15_8c1645dd14ferow14_col6\" class=\"data row14 col6\" >5.32</td>\n",
       "                        <td id=\"T_f9fd622c_aeb7_11e9_bf15_8c1645dd14ferow14_col7\" class=\"data row14 col7\" >7</td>\n",
       "            </tr>\n",
       "    </tbody></table>"
      ],
      "text/plain": [
       "<pandas.io.formats.style.Styler at 0x7fe2e91986a0>"
      ]
     },
     "execution_count": 92,
     "metadata": {},
     "output_type": "execute_result"
    }
   ],
   "source": [
    "top_players_table(players, \"Forward\")"
   ]
  },
  {
   "cell_type": "code",
   "execution_count": 93,
   "metadata": {},
   "outputs": [
    {
     "data": {
      "application/vnd.plotly.v1+json": {
       "config": {
        "plotlyServerURL": "https://plot.ly"
       },
       "data": [
        {
         "hoverlabel": {
          "namelength": 0
         },
         "hovertemplate": "<b>%{hovertext}</b><br><br>points_per_game=%{x}<br>points_per_million=%{y}<br>pct_lineup=%{marker.size}<br>value=%{marker.color}",
         "hovertext": [
          "Asensio",
          "Bacca",
          "Bale",
          "Ben Yedder",
          "Benzema",
          "Borja Iglesias",
          "Charles",
          "Correa",
          "De Blasis",
          "Dembélé",
          "Ekambi",
          "En-Nesyri",
          "Enes Ünal",
          "Enric Gallego",
          "Ezequiel Ávila",
          "Gameiro",
          "Gerard Moreno",
          "Griezmann",
          "Guidetti",
          "Iago Aspas",
          "Jaime Mata",
          "Jorge Molina",
          "Juanmi",
          "Kike García",
          "Loren",
          "Luis Suárez",
          "Maxi Gómez",
          "Mayoral",
          "Messi",
          "Munir",
          "Oyarzabal",
          "Portu",
          "Rodrigo",
          "Roger",
          "Santi Mina",
          "Sergi Enrich",
          "Sergio León",
          "Sobrino",
          "Williams",
          "Willian José",
          "Ángel Rodríguez",
          "Óscar Plano"
         ],
         "legendgroup": "",
         "marker": {
          "color": [
           3120000,
           1500000,
           1840000,
           8320000,
           10710000,
           9660000,
           2500000,
           1010000,
           170000,
           3990000,
           3520000,
           3100000,
           1490000,
           5040000,
           4670000,
           3150000,
           3440000,
           11150000,
           170000,
           14610000,
           6440000,
           6560000,
           2650000,
           190000,
           1260000,
           11740000,
           6390000,
           1180000,
           22790000,
           3010000,
           8310000,
           5200000,
           7850000,
           1890000,
           3840000,
           3110000,
           1200000,
           220000,
           7540000,
           5000000,
           3210000,
           1190000
          ],
          "coloraxis": "coloraxis",
          "size": [
           1,
           4,
           6,
           9,
           13,
           9,
           14.000000000000002,
           3,
           2,
           12,
           4,
           10,
           4,
           1,
           7.000000000000001,
           7.000000000000001,
           4,
           3,
           1,
           3,
           16,
           22,
           2,
           1,
           6,
           13,
           7.000000000000001,
           1,
           45,
           1,
           8,
           9,
           4,
           7.000000000000001,
           3,
           4,
           1,
           7.000000000000001,
           7.000000000000001,
           7.000000000000001,
           5,
           7.000000000000001
          ],
          "sizemode": "area",
          "sizeref": 0.1125,
          "symbol": "circle"
         },
         "mode": "markers",
         "name": "",
         "showlegend": false,
         "type": "scatter",
         "x": [
          3.9,
          3.5757575757575757,
          4.344827586206897,
          7.0285714285714285,
          7.305555555555555,
          6.45945945945946,
          5.4411764705882355,
          3.1666666666666665,
          3.1666666666666665,
          6.172413793103448,
          4.970588235294118,
          5.193548387096774,
          4.0606060606060606,
          5.578947368421052,
          5.264705882352941,
          4.121212121212121,
          4.485714285714286,
          6.594594594594595,
          2.590909090909091,
          9.11111111111111,
          6.147058823529412,
          6.421052631578948,
          3.6666666666666665,
          2.433333333333333,
          3.8181818181818183,
          7.9393939393939394,
          5.571428571428571,
          3.413793103448276,
          12.588235294117647,
          4.521739130434782,
          5.675675675675675,
          4.882352941176471,
          5.696969696969697,
          5,
          4.533333333333333,
          4.914285714285715,
          2.125,
          3.625,
          5.5,
          5.32258064516129,
          4.648648648648648,
          4.242424242424242
         ],
         "xaxis": "x",
         "y": [
          37.5,
          78.66666666666666,
          68.4782608695652,
          29.567307692307693,
          24.556489262371613,
          24.74120082815735,
          74,
          112.87128712871286,
          447.05882352941177,
          44.86215538847118,
          48.01136363636363,
          51.935483870967744,
          89.93288590604027,
          21.03174603174603,
          38.32976445396145,
          43.17460317460318,
          45.63953488372093,
          21.883408071748878,
          335.29411764705884,
          16.83778234086242,
          32.453416149068325,
          37.19512195121951,
          41.509433962264154,
          384.2105263157895,
          100,
          22.31686541737649,
          30.51643192488263,
          83.89830508474576,
          18.780166739798158,
          34.55149501661129,
          25.270758122743683,
          31.923076923076923,
          23.94904458598726,
          82.010582010582,
          35.41666666666667,
          55.30546623794212,
          28.333333333333332,
          395.45454545454544,
          27.718832891246684,
          33,
          53.58255451713396,
          117.64705882352942
         ],
         "yaxis": "y"
        }
       ],
       "layout": {
        "coloraxis": {
         "colorbar": {
          "title": {
           "text": "value"
          }
         },
         "colorscale": [
          [
           0,
           "#0d0887"
          ],
          [
           0.1111111111111111,
           "#46039f"
          ],
          [
           0.2222222222222222,
           "#7201a8"
          ],
          [
           0.3333333333333333,
           "#9c179e"
          ],
          [
           0.4444444444444444,
           "#bd3786"
          ],
          [
           0.5555555555555556,
           "#d8576b"
          ],
          [
           0.6666666666666666,
           "#ed7953"
          ],
          [
           0.7777777777777778,
           "#fb9f3a"
          ],
          [
           0.8888888888888888,
           "#fdca26"
          ],
          [
           1,
           "#f0f921"
          ]
         ]
        },
        "height": 600,
        "legend": {
         "itemsizing": "constant",
         "tracegroupgap": 0
        },
        "margin": {
         "t": 60
        },
        "template": {
         "data": {
          "bar": [
           {
            "error_x": {
             "color": "#2a3f5f"
            },
            "error_y": {
             "color": "#2a3f5f"
            },
            "marker": {
             "line": {
              "color": "#E5ECF6",
              "width": 0.5
             }
            },
            "type": "bar"
           }
          ],
          "barpolar": [
           {
            "marker": {
             "line": {
              "color": "#E5ECF6",
              "width": 0.5
             }
            },
            "type": "barpolar"
           }
          ],
          "carpet": [
           {
            "aaxis": {
             "endlinecolor": "#2a3f5f",
             "gridcolor": "white",
             "linecolor": "white",
             "minorgridcolor": "white",
             "startlinecolor": "#2a3f5f"
            },
            "baxis": {
             "endlinecolor": "#2a3f5f",
             "gridcolor": "white",
             "linecolor": "white",
             "minorgridcolor": "white",
             "startlinecolor": "#2a3f5f"
            },
            "type": "carpet"
           }
          ],
          "choropleth": [
           {
            "colorbar": {
             "outlinewidth": 0,
             "ticks": ""
            },
            "type": "choropleth"
           }
          ],
          "contour": [
           {
            "colorbar": {
             "outlinewidth": 0,
             "ticks": ""
            },
            "colorscale": [
             [
              0,
              "#0d0887"
             ],
             [
              0.1111111111111111,
              "#46039f"
             ],
             [
              0.2222222222222222,
              "#7201a8"
             ],
             [
              0.3333333333333333,
              "#9c179e"
             ],
             [
              0.4444444444444444,
              "#bd3786"
             ],
             [
              0.5555555555555556,
              "#d8576b"
             ],
             [
              0.6666666666666666,
              "#ed7953"
             ],
             [
              0.7777777777777778,
              "#fb9f3a"
             ],
             [
              0.8888888888888888,
              "#fdca26"
             ],
             [
              1,
              "#f0f921"
             ]
            ],
            "type": "contour"
           }
          ],
          "contourcarpet": [
           {
            "colorbar": {
             "outlinewidth": 0,
             "ticks": ""
            },
            "type": "contourcarpet"
           }
          ],
          "heatmap": [
           {
            "colorbar": {
             "outlinewidth": 0,
             "ticks": ""
            },
            "colorscale": [
             [
              0,
              "#0d0887"
             ],
             [
              0.1111111111111111,
              "#46039f"
             ],
             [
              0.2222222222222222,
              "#7201a8"
             ],
             [
              0.3333333333333333,
              "#9c179e"
             ],
             [
              0.4444444444444444,
              "#bd3786"
             ],
             [
              0.5555555555555556,
              "#d8576b"
             ],
             [
              0.6666666666666666,
              "#ed7953"
             ],
             [
              0.7777777777777778,
              "#fb9f3a"
             ],
             [
              0.8888888888888888,
              "#fdca26"
             ],
             [
              1,
              "#f0f921"
             ]
            ],
            "type": "heatmap"
           }
          ],
          "heatmapgl": [
           {
            "colorbar": {
             "outlinewidth": 0,
             "ticks": ""
            },
            "colorscale": [
             [
              0,
              "#0d0887"
             ],
             [
              0.1111111111111111,
              "#46039f"
             ],
             [
              0.2222222222222222,
              "#7201a8"
             ],
             [
              0.3333333333333333,
              "#9c179e"
             ],
             [
              0.4444444444444444,
              "#bd3786"
             ],
             [
              0.5555555555555556,
              "#d8576b"
             ],
             [
              0.6666666666666666,
              "#ed7953"
             ],
             [
              0.7777777777777778,
              "#fb9f3a"
             ],
             [
              0.8888888888888888,
              "#fdca26"
             ],
             [
              1,
              "#f0f921"
             ]
            ],
            "type": "heatmapgl"
           }
          ],
          "histogram": [
           {
            "marker": {
             "colorbar": {
              "outlinewidth": 0,
              "ticks": ""
             }
            },
            "type": "histogram"
           }
          ],
          "histogram2d": [
           {
            "colorbar": {
             "outlinewidth": 0,
             "ticks": ""
            },
            "colorscale": [
             [
              0,
              "#0d0887"
             ],
             [
              0.1111111111111111,
              "#46039f"
             ],
             [
              0.2222222222222222,
              "#7201a8"
             ],
             [
              0.3333333333333333,
              "#9c179e"
             ],
             [
              0.4444444444444444,
              "#bd3786"
             ],
             [
              0.5555555555555556,
              "#d8576b"
             ],
             [
              0.6666666666666666,
              "#ed7953"
             ],
             [
              0.7777777777777778,
              "#fb9f3a"
             ],
             [
              0.8888888888888888,
              "#fdca26"
             ],
             [
              1,
              "#f0f921"
             ]
            ],
            "type": "histogram2d"
           }
          ],
          "histogram2dcontour": [
           {
            "colorbar": {
             "outlinewidth": 0,
             "ticks": ""
            },
            "colorscale": [
             [
              0,
              "#0d0887"
             ],
             [
              0.1111111111111111,
              "#46039f"
             ],
             [
              0.2222222222222222,
              "#7201a8"
             ],
             [
              0.3333333333333333,
              "#9c179e"
             ],
             [
              0.4444444444444444,
              "#bd3786"
             ],
             [
              0.5555555555555556,
              "#d8576b"
             ],
             [
              0.6666666666666666,
              "#ed7953"
             ],
             [
              0.7777777777777778,
              "#fb9f3a"
             ],
             [
              0.8888888888888888,
              "#fdca26"
             ],
             [
              1,
              "#f0f921"
             ]
            ],
            "type": "histogram2dcontour"
           }
          ],
          "mesh3d": [
           {
            "colorbar": {
             "outlinewidth": 0,
             "ticks": ""
            },
            "type": "mesh3d"
           }
          ],
          "parcoords": [
           {
            "line": {
             "colorbar": {
              "outlinewidth": 0,
              "ticks": ""
             }
            },
            "type": "parcoords"
           }
          ],
          "scatter": [
           {
            "marker": {
             "colorbar": {
              "outlinewidth": 0,
              "ticks": ""
             }
            },
            "type": "scatter"
           }
          ],
          "scatter3d": [
           {
            "line": {
             "colorbar": {
              "outlinewidth": 0,
              "ticks": ""
             }
            },
            "marker": {
             "colorbar": {
              "outlinewidth": 0,
              "ticks": ""
             }
            },
            "type": "scatter3d"
           }
          ],
          "scattercarpet": [
           {
            "marker": {
             "colorbar": {
              "outlinewidth": 0,
              "ticks": ""
             }
            },
            "type": "scattercarpet"
           }
          ],
          "scattergeo": [
           {
            "marker": {
             "colorbar": {
              "outlinewidth": 0,
              "ticks": ""
             }
            },
            "type": "scattergeo"
           }
          ],
          "scattergl": [
           {
            "marker": {
             "colorbar": {
              "outlinewidth": 0,
              "ticks": ""
             }
            },
            "type": "scattergl"
           }
          ],
          "scattermapbox": [
           {
            "marker": {
             "colorbar": {
              "outlinewidth": 0,
              "ticks": ""
             }
            },
            "type": "scattermapbox"
           }
          ],
          "scatterpolar": [
           {
            "marker": {
             "colorbar": {
              "outlinewidth": 0,
              "ticks": ""
             }
            },
            "type": "scatterpolar"
           }
          ],
          "scatterpolargl": [
           {
            "marker": {
             "colorbar": {
              "outlinewidth": 0,
              "ticks": ""
             }
            },
            "type": "scatterpolargl"
           }
          ],
          "scatterternary": [
           {
            "marker": {
             "colorbar": {
              "outlinewidth": 0,
              "ticks": ""
             }
            },
            "type": "scatterternary"
           }
          ],
          "surface": [
           {
            "colorbar": {
             "outlinewidth": 0,
             "ticks": ""
            },
            "colorscale": [
             [
              0,
              "#0d0887"
             ],
             [
              0.1111111111111111,
              "#46039f"
             ],
             [
              0.2222222222222222,
              "#7201a8"
             ],
             [
              0.3333333333333333,
              "#9c179e"
             ],
             [
              0.4444444444444444,
              "#bd3786"
             ],
             [
              0.5555555555555556,
              "#d8576b"
             ],
             [
              0.6666666666666666,
              "#ed7953"
             ],
             [
              0.7777777777777778,
              "#fb9f3a"
             ],
             [
              0.8888888888888888,
              "#fdca26"
             ],
             [
              1,
              "#f0f921"
             ]
            ],
            "type": "surface"
           }
          ],
          "table": [
           {
            "cells": {
             "fill": {
              "color": "#EBF0F8"
             },
             "line": {
              "color": "white"
             }
            },
            "header": {
             "fill": {
              "color": "#C8D4E3"
             },
             "line": {
              "color": "white"
             }
            },
            "type": "table"
           }
          ]
         },
         "layout": {
          "annotationdefaults": {
           "arrowcolor": "#2a3f5f",
           "arrowhead": 0,
           "arrowwidth": 1
          },
          "colorscale": {
           "diverging": [
            [
             0,
             "#8e0152"
            ],
            [
             0.1,
             "#c51b7d"
            ],
            [
             0.2,
             "#de77ae"
            ],
            [
             0.3,
             "#f1b6da"
            ],
            [
             0.4,
             "#fde0ef"
            ],
            [
             0.5,
             "#f7f7f7"
            ],
            [
             0.6,
             "#e6f5d0"
            ],
            [
             0.7,
             "#b8e186"
            ],
            [
             0.8,
             "#7fbc41"
            ],
            [
             0.9,
             "#4d9221"
            ],
            [
             1,
             "#276419"
            ]
           ],
           "sequential": [
            [
             0,
             "#0d0887"
            ],
            [
             0.1111111111111111,
             "#46039f"
            ],
            [
             0.2222222222222222,
             "#7201a8"
            ],
            [
             0.3333333333333333,
             "#9c179e"
            ],
            [
             0.4444444444444444,
             "#bd3786"
            ],
            [
             0.5555555555555556,
             "#d8576b"
            ],
            [
             0.6666666666666666,
             "#ed7953"
            ],
            [
             0.7777777777777778,
             "#fb9f3a"
            ],
            [
             0.8888888888888888,
             "#fdca26"
            ],
            [
             1,
             "#f0f921"
            ]
           ],
           "sequentialminus": [
            [
             0,
             "#0d0887"
            ],
            [
             0.1111111111111111,
             "#46039f"
            ],
            [
             0.2222222222222222,
             "#7201a8"
            ],
            [
             0.3333333333333333,
             "#9c179e"
            ],
            [
             0.4444444444444444,
             "#bd3786"
            ],
            [
             0.5555555555555556,
             "#d8576b"
            ],
            [
             0.6666666666666666,
             "#ed7953"
            ],
            [
             0.7777777777777778,
             "#fb9f3a"
            ],
            [
             0.8888888888888888,
             "#fdca26"
            ],
            [
             1,
             "#f0f921"
            ]
           ]
          },
          "colorway": [
           "#636efa",
           "#EF553B",
           "#00cc96",
           "#ab63fa",
           "#FFA15A",
           "#19d3f3",
           "#FF6692",
           "#B6E880",
           "#FF97FF",
           "#FECB52"
          ],
          "font": {
           "color": "#2a3f5f"
          },
          "geo": {
           "bgcolor": "white",
           "lakecolor": "white",
           "landcolor": "#E5ECF6",
           "showlakes": true,
           "showland": true,
           "subunitcolor": "white"
          },
          "hoverlabel": {
           "align": "left"
          },
          "hovermode": "closest",
          "mapbox": {
           "style": "light"
          },
          "paper_bgcolor": "white",
          "plot_bgcolor": "#E5ECF6",
          "polar": {
           "angularaxis": {
            "gridcolor": "white",
            "linecolor": "white",
            "ticks": ""
           },
           "bgcolor": "#E5ECF6",
           "radialaxis": {
            "gridcolor": "white",
            "linecolor": "white",
            "ticks": ""
           }
          },
          "scene": {
           "xaxis": {
            "backgroundcolor": "#E5ECF6",
            "gridcolor": "white",
            "gridwidth": 2,
            "linecolor": "white",
            "showbackground": true,
            "ticks": "",
            "zerolinecolor": "white"
           },
           "yaxis": {
            "backgroundcolor": "#E5ECF6",
            "gridcolor": "white",
            "gridwidth": 2,
            "linecolor": "white",
            "showbackground": true,
            "ticks": "",
            "zerolinecolor": "white"
           },
           "zaxis": {
            "backgroundcolor": "#E5ECF6",
            "gridcolor": "white",
            "gridwidth": 2,
            "linecolor": "white",
            "showbackground": true,
            "ticks": "",
            "zerolinecolor": "white"
           }
          },
          "shapedefaults": {
           "line": {
            "color": "#2a3f5f"
           }
          },
          "ternary": {
           "aaxis": {
            "gridcolor": "white",
            "linecolor": "white",
            "ticks": ""
           },
           "baxis": {
            "gridcolor": "white",
            "linecolor": "white",
            "ticks": ""
           },
           "bgcolor": "#E5ECF6",
           "caxis": {
            "gridcolor": "white",
            "linecolor": "white",
            "ticks": ""
           }
          },
          "title": {
           "x": 0.05
          },
          "xaxis": {
           "automargin": true,
           "gridcolor": "white",
           "linecolor": "white",
           "ticks": "",
           "zerolinecolor": "white",
           "zerolinewidth": 2
          },
          "yaxis": {
           "automargin": true,
           "gridcolor": "white",
           "linecolor": "white",
           "ticks": "",
           "zerolinecolor": "white",
           "zerolinewidth": 2
          }
         }
        },
        "xaxis": {
         "anchor": "y",
         "domain": [
          0,
          0.98
         ],
         "title": {
          "text": "Points per Game"
         }
        },
        "yaxis": {
         "anchor": "x",
         "domain": [
          0,
          1
         ],
         "title": {
          "text": "Points per Million"
         }
        }
       }
      },
      "text/html": [
       "<div>\n",
       "        \n",
       "        \n",
       "            <div id=\"c6e09bbc-f2ed-46af-a770-6e9cfdb016e2\" class=\"plotly-graph-div\" style=\"height:600px; width:100%;\"></div>\n",
       "            <script type=\"text/javascript\">\n",
       "                require([\"plotly\"], function(Plotly) {\n",
       "                    window.PLOTLYENV=window.PLOTLYENV || {};\n",
       "                    \n",
       "                if (document.getElementById(\"c6e09bbc-f2ed-46af-a770-6e9cfdb016e2\")) {\n",
       "                    Plotly.newPlot(\n",
       "                        'c6e09bbc-f2ed-46af-a770-6e9cfdb016e2',\n",
       "                        [{\"hoverlabel\": {\"namelength\": 0}, \"hovertemplate\": \"<b>%{hovertext}</b><br><br>points_per_game=%{x}<br>points_per_million=%{y}<br>pct_lineup=%{marker.size}<br>value=%{marker.color}\", \"hovertext\": [\"Asensio\", \"Bacca\", \"Bale\", \"Ben Yedder\", \"Benzema\", \"Borja Iglesias\", \"Charles\", \"Correa\", \"De Blasis\", \"Demb\\u00e9l\\u00e9\", \"Ekambi\", \"En-Nesyri\", \"Enes \\u00dcnal\", \"Enric Gallego\", \"Ezequiel \\u00c1vila\", \"Gameiro\", \"Gerard Moreno\", \"Griezmann\", \"Guidetti\", \"Iago Aspas\", \"Jaime Mata\", \"Jorge Molina\", \"Juanmi\", \"Kike Garc\\u00eda\", \"Loren\", \"Luis Su\\u00e1rez\", \"Maxi G\\u00f3mez\", \"Mayoral\", \"Messi\", \"Munir\", \"Oyarzabal\", \"Portu\", \"Rodrigo\", \"Roger\", \"Santi Mina\", \"Sergi Enrich\", \"Sergio Le\\u00f3n\", \"Sobrino\", \"Williams\", \"Willian Jos\\u00e9\", \"\\u00c1ngel Rodr\\u00edguez\", \"\\u00d3scar Plano\"], \"legendgroup\": \"\", \"marker\": {\"color\": [3120000, 1500000, 1840000, 8320000, 10710000, 9660000, 2500000, 1010000, 170000, 3990000, 3520000, 3100000, 1490000, 5040000, 4670000, 3150000, 3440000, 11150000, 170000, 14610000, 6440000, 6560000, 2650000, 190000, 1260000, 11740000, 6390000, 1180000, 22790000, 3010000, 8310000, 5200000, 7850000, 1890000, 3840000, 3110000, 1200000, 220000, 7540000, 5000000, 3210000, 1190000], \"coloraxis\": \"coloraxis\", \"size\": [1.0, 4.0, 6.0, 9.0, 13.0, 9.0, 14.000000000000002, 3.0, 2.0, 12.0, 4.0, 10.0, 4.0, 1.0, 7.000000000000001, 7.000000000000001, 4.0, 3.0, 1.0, 3.0, 16.0, 22.0, 2.0, 1.0, 6.0, 13.0, 7.000000000000001, 1.0, 45.0, 1.0, 8.0, 9.0, 4.0, 7.000000000000001, 3.0, 4.0, 1.0, 7.000000000000001, 7.000000000000001, 7.000000000000001, 5.0, 7.000000000000001], \"sizemode\": \"area\", \"sizeref\": 0.1125, \"symbol\": \"circle\"}, \"mode\": \"markers\", \"name\": \"\", \"showlegend\": false, \"type\": \"scatter\", \"x\": [3.9, 3.5757575757575757, 4.344827586206897, 7.0285714285714285, 7.305555555555555, 6.45945945945946, 5.4411764705882355, 3.1666666666666665, 3.1666666666666665, 6.172413793103448, 4.970588235294118, 5.193548387096774, 4.0606060606060606, 5.578947368421052, 5.264705882352941, 4.121212121212121, 4.485714285714286, 6.594594594594595, 2.590909090909091, 9.11111111111111, 6.147058823529412, 6.421052631578948, 3.6666666666666665, 2.433333333333333, 3.8181818181818183, 7.9393939393939394, 5.571428571428571, 3.413793103448276, 12.588235294117647, 4.521739130434782, 5.675675675675675, 4.882352941176471, 5.696969696969697, 5.0, 4.533333333333333, 4.914285714285715, 2.125, 3.625, 5.5, 5.32258064516129, 4.648648648648648, 4.242424242424242], \"xaxis\": \"x\", \"y\": [37.5, 78.66666666666666, 68.4782608695652, 29.567307692307693, 24.556489262371613, 24.74120082815735, 74.0, 112.87128712871286, 447.05882352941177, 44.86215538847118, 48.01136363636363, 51.935483870967744, 89.93288590604027, 21.03174603174603, 38.32976445396145, 43.17460317460318, 45.63953488372093, 21.883408071748878, 335.29411764705884, 16.83778234086242, 32.453416149068325, 37.19512195121951, 41.509433962264154, 384.2105263157895, 100.0, 22.31686541737649, 30.51643192488263, 83.89830508474576, 18.780166739798158, 34.55149501661129, 25.270758122743683, 31.923076923076923, 23.94904458598726, 82.010582010582, 35.41666666666667, 55.30546623794212, 28.333333333333332, 395.45454545454544, 27.718832891246684, 33.0, 53.58255451713396, 117.64705882352942], \"yaxis\": \"y\"}],\n",
       "                        {\"coloraxis\": {\"colorbar\": {\"title\": {\"text\": \"value\"}}, \"colorscale\": [[0.0, \"#0d0887\"], [0.1111111111111111, \"#46039f\"], [0.2222222222222222, \"#7201a8\"], [0.3333333333333333, \"#9c179e\"], [0.4444444444444444, \"#bd3786\"], [0.5555555555555556, \"#d8576b\"], [0.6666666666666666, \"#ed7953\"], [0.7777777777777778, \"#fb9f3a\"], [0.8888888888888888, \"#fdca26\"], [1.0, \"#f0f921\"]]}, \"height\": 600, \"legend\": {\"itemsizing\": \"constant\", \"tracegroupgap\": 0}, \"margin\": {\"t\": 60}, \"template\": {\"data\": {\"bar\": [{\"error_x\": {\"color\": \"#2a3f5f\"}, \"error_y\": {\"color\": \"#2a3f5f\"}, \"marker\": {\"line\": {\"color\": \"#E5ECF6\", \"width\": 0.5}}, \"type\": \"bar\"}], \"barpolar\": [{\"marker\": {\"line\": {\"color\": \"#E5ECF6\", \"width\": 0.5}}, \"type\": \"barpolar\"}], \"carpet\": [{\"aaxis\": {\"endlinecolor\": \"#2a3f5f\", \"gridcolor\": \"white\", \"linecolor\": \"white\", \"minorgridcolor\": \"white\", \"startlinecolor\": \"#2a3f5f\"}, \"baxis\": {\"endlinecolor\": \"#2a3f5f\", \"gridcolor\": \"white\", \"linecolor\": \"white\", \"minorgridcolor\": \"white\", \"startlinecolor\": \"#2a3f5f\"}, \"type\": \"carpet\"}], \"choropleth\": [{\"colorbar\": {\"outlinewidth\": 0, \"ticks\": \"\"}, \"type\": \"choropleth\"}], \"contour\": [{\"colorbar\": {\"outlinewidth\": 0, \"ticks\": \"\"}, \"colorscale\": [[0.0, \"#0d0887\"], [0.1111111111111111, \"#46039f\"], [0.2222222222222222, \"#7201a8\"], [0.3333333333333333, \"#9c179e\"], [0.4444444444444444, \"#bd3786\"], [0.5555555555555556, \"#d8576b\"], [0.6666666666666666, \"#ed7953\"], [0.7777777777777778, \"#fb9f3a\"], [0.8888888888888888, \"#fdca26\"], [1.0, \"#f0f921\"]], \"type\": \"contour\"}], \"contourcarpet\": [{\"colorbar\": {\"outlinewidth\": 0, \"ticks\": \"\"}, \"type\": \"contourcarpet\"}], \"heatmap\": [{\"colorbar\": {\"outlinewidth\": 0, \"ticks\": \"\"}, \"colorscale\": [[0.0, \"#0d0887\"], [0.1111111111111111, \"#46039f\"], [0.2222222222222222, \"#7201a8\"], [0.3333333333333333, \"#9c179e\"], [0.4444444444444444, \"#bd3786\"], [0.5555555555555556, \"#d8576b\"], [0.6666666666666666, \"#ed7953\"], [0.7777777777777778, \"#fb9f3a\"], [0.8888888888888888, \"#fdca26\"], [1.0, \"#f0f921\"]], \"type\": \"heatmap\"}], \"heatmapgl\": [{\"colorbar\": {\"outlinewidth\": 0, \"ticks\": \"\"}, \"colorscale\": [[0.0, \"#0d0887\"], [0.1111111111111111, \"#46039f\"], [0.2222222222222222, \"#7201a8\"], [0.3333333333333333, \"#9c179e\"], [0.4444444444444444, \"#bd3786\"], [0.5555555555555556, \"#d8576b\"], [0.6666666666666666, \"#ed7953\"], [0.7777777777777778, \"#fb9f3a\"], [0.8888888888888888, \"#fdca26\"], [1.0, \"#f0f921\"]], \"type\": \"heatmapgl\"}], \"histogram\": [{\"marker\": {\"colorbar\": {\"outlinewidth\": 0, \"ticks\": \"\"}}, \"type\": \"histogram\"}], \"histogram2d\": [{\"colorbar\": {\"outlinewidth\": 0, \"ticks\": \"\"}, \"colorscale\": [[0.0, \"#0d0887\"], [0.1111111111111111, \"#46039f\"], [0.2222222222222222, \"#7201a8\"], [0.3333333333333333, \"#9c179e\"], [0.4444444444444444, \"#bd3786\"], [0.5555555555555556, \"#d8576b\"], [0.6666666666666666, \"#ed7953\"], [0.7777777777777778, \"#fb9f3a\"], [0.8888888888888888, \"#fdca26\"], [1.0, \"#f0f921\"]], \"type\": \"histogram2d\"}], \"histogram2dcontour\": [{\"colorbar\": {\"outlinewidth\": 0, \"ticks\": \"\"}, \"colorscale\": [[0.0, \"#0d0887\"], [0.1111111111111111, \"#46039f\"], [0.2222222222222222, \"#7201a8\"], [0.3333333333333333, \"#9c179e\"], [0.4444444444444444, \"#bd3786\"], [0.5555555555555556, \"#d8576b\"], [0.6666666666666666, \"#ed7953\"], [0.7777777777777778, \"#fb9f3a\"], [0.8888888888888888, \"#fdca26\"], [1.0, \"#f0f921\"]], \"type\": \"histogram2dcontour\"}], \"mesh3d\": [{\"colorbar\": {\"outlinewidth\": 0, \"ticks\": \"\"}, \"type\": \"mesh3d\"}], \"parcoords\": [{\"line\": {\"colorbar\": {\"outlinewidth\": 0, \"ticks\": \"\"}}, \"type\": \"parcoords\"}], \"scatter\": [{\"marker\": {\"colorbar\": {\"outlinewidth\": 0, \"ticks\": \"\"}}, \"type\": \"scatter\"}], \"scatter3d\": [{\"line\": {\"colorbar\": {\"outlinewidth\": 0, \"ticks\": \"\"}}, \"marker\": {\"colorbar\": {\"outlinewidth\": 0, \"ticks\": \"\"}}, \"type\": \"scatter3d\"}], \"scattercarpet\": [{\"marker\": {\"colorbar\": {\"outlinewidth\": 0, \"ticks\": \"\"}}, \"type\": \"scattercarpet\"}], \"scattergeo\": [{\"marker\": {\"colorbar\": {\"outlinewidth\": 0, \"ticks\": \"\"}}, \"type\": \"scattergeo\"}], \"scattergl\": [{\"marker\": {\"colorbar\": {\"outlinewidth\": 0, \"ticks\": \"\"}}, \"type\": \"scattergl\"}], \"scattermapbox\": [{\"marker\": {\"colorbar\": {\"outlinewidth\": 0, \"ticks\": \"\"}}, \"type\": \"scattermapbox\"}], \"scatterpolar\": [{\"marker\": {\"colorbar\": {\"outlinewidth\": 0, \"ticks\": \"\"}}, \"type\": \"scatterpolar\"}], \"scatterpolargl\": [{\"marker\": {\"colorbar\": {\"outlinewidth\": 0, \"ticks\": \"\"}}, \"type\": \"scatterpolargl\"}], \"scatterternary\": [{\"marker\": {\"colorbar\": {\"outlinewidth\": 0, \"ticks\": \"\"}}, \"type\": \"scatterternary\"}], \"surface\": [{\"colorbar\": {\"outlinewidth\": 0, \"ticks\": \"\"}, \"colorscale\": [[0.0, \"#0d0887\"], [0.1111111111111111, \"#46039f\"], [0.2222222222222222, \"#7201a8\"], [0.3333333333333333, \"#9c179e\"], [0.4444444444444444, \"#bd3786\"], [0.5555555555555556, \"#d8576b\"], [0.6666666666666666, \"#ed7953\"], [0.7777777777777778, \"#fb9f3a\"], [0.8888888888888888, \"#fdca26\"], [1.0, \"#f0f921\"]], \"type\": \"surface\"}], \"table\": [{\"cells\": {\"fill\": {\"color\": \"#EBF0F8\"}, \"line\": {\"color\": \"white\"}}, \"header\": {\"fill\": {\"color\": \"#C8D4E3\"}, \"line\": {\"color\": \"white\"}}, \"type\": \"table\"}]}, \"layout\": {\"annotationdefaults\": {\"arrowcolor\": \"#2a3f5f\", \"arrowhead\": 0, \"arrowwidth\": 1}, \"colorscale\": {\"diverging\": [[0, \"#8e0152\"], [0.1, \"#c51b7d\"], [0.2, \"#de77ae\"], [0.3, \"#f1b6da\"], [0.4, \"#fde0ef\"], [0.5, \"#f7f7f7\"], [0.6, \"#e6f5d0\"], [0.7, \"#b8e186\"], [0.8, \"#7fbc41\"], [0.9, \"#4d9221\"], [1, \"#276419\"]], \"sequential\": [[0.0, \"#0d0887\"], [0.1111111111111111, \"#46039f\"], [0.2222222222222222, \"#7201a8\"], [0.3333333333333333, \"#9c179e\"], [0.4444444444444444, \"#bd3786\"], [0.5555555555555556, \"#d8576b\"], [0.6666666666666666, \"#ed7953\"], [0.7777777777777778, \"#fb9f3a\"], [0.8888888888888888, \"#fdca26\"], [1.0, \"#f0f921\"]], \"sequentialminus\": [[0.0, \"#0d0887\"], [0.1111111111111111, \"#46039f\"], [0.2222222222222222, \"#7201a8\"], [0.3333333333333333, \"#9c179e\"], [0.4444444444444444, \"#bd3786\"], [0.5555555555555556, \"#d8576b\"], [0.6666666666666666, \"#ed7953\"], [0.7777777777777778, \"#fb9f3a\"], [0.8888888888888888, \"#fdca26\"], [1.0, \"#f0f921\"]]}, \"colorway\": [\"#636efa\", \"#EF553B\", \"#00cc96\", \"#ab63fa\", \"#FFA15A\", \"#19d3f3\", \"#FF6692\", \"#B6E880\", \"#FF97FF\", \"#FECB52\"], \"font\": {\"color\": \"#2a3f5f\"}, \"geo\": {\"bgcolor\": \"white\", \"lakecolor\": \"white\", \"landcolor\": \"#E5ECF6\", \"showlakes\": true, \"showland\": true, \"subunitcolor\": \"white\"}, \"hoverlabel\": {\"align\": \"left\"}, \"hovermode\": \"closest\", \"mapbox\": {\"style\": \"light\"}, \"paper_bgcolor\": \"white\", \"plot_bgcolor\": \"#E5ECF6\", \"polar\": {\"angularaxis\": {\"gridcolor\": \"white\", \"linecolor\": \"white\", \"ticks\": \"\"}, \"bgcolor\": \"#E5ECF6\", \"radialaxis\": {\"gridcolor\": \"white\", \"linecolor\": \"white\", \"ticks\": \"\"}}, \"scene\": {\"xaxis\": {\"backgroundcolor\": \"#E5ECF6\", \"gridcolor\": \"white\", \"gridwidth\": 2, \"linecolor\": \"white\", \"showbackground\": true, \"ticks\": \"\", \"zerolinecolor\": \"white\"}, \"yaxis\": {\"backgroundcolor\": \"#E5ECF6\", \"gridcolor\": \"white\", \"gridwidth\": 2, \"linecolor\": \"white\", \"showbackground\": true, \"ticks\": \"\", \"zerolinecolor\": \"white\"}, \"zaxis\": {\"backgroundcolor\": \"#E5ECF6\", \"gridcolor\": \"white\", \"gridwidth\": 2, \"linecolor\": \"white\", \"showbackground\": true, \"ticks\": \"\", \"zerolinecolor\": \"white\"}}, \"shapedefaults\": {\"line\": {\"color\": \"#2a3f5f\"}}, \"ternary\": {\"aaxis\": {\"gridcolor\": \"white\", \"linecolor\": \"white\", \"ticks\": \"\"}, \"baxis\": {\"gridcolor\": \"white\", \"linecolor\": \"white\", \"ticks\": \"\"}, \"bgcolor\": \"#E5ECF6\", \"caxis\": {\"gridcolor\": \"white\", \"linecolor\": \"white\", \"ticks\": \"\"}}, \"title\": {\"x\": 0.05}, \"xaxis\": {\"automargin\": true, \"gridcolor\": \"white\", \"linecolor\": \"white\", \"ticks\": \"\", \"zerolinecolor\": \"white\", \"zerolinewidth\": 2}, \"yaxis\": {\"automargin\": true, \"gridcolor\": \"white\", \"linecolor\": \"white\", \"ticks\": \"\", \"zerolinecolor\": \"white\", \"zerolinewidth\": 2}}}, \"xaxis\": {\"anchor\": \"y\", \"domain\": [0.0, 0.98], \"title\": {\"text\": \"Points per Game\"}}, \"yaxis\": {\"anchor\": \"x\", \"domain\": [0.0, 1.0], \"title\": {\"text\": \"Points per Million\"}}},\n",
       "                        {\"responsive\": true}\n",
       "                    ).then(function(){\n",
       "                            \n",
       "var gd = document.getElementById('c6e09bbc-f2ed-46af-a770-6e9cfdb016e2');\n",
       "var x = new MutationObserver(function (mutations, observer) {{\n",
       "        var display = window.getComputedStyle(gd).display;\n",
       "        if (!display || display === 'none') {{\n",
       "            console.log([gd, 'removed!']);\n",
       "            Plotly.purge(gd);\n",
       "            observer.disconnect();\n",
       "        }}\n",
       "}});\n",
       "\n",
       "// Listen for the removal of the full notebook cells\n",
       "var notebookContainer = gd.closest('#notebook-container');\n",
       "if (notebookContainer) {{\n",
       "    x.observe(notebookContainer, {childList: true});\n",
       "}}\n",
       "\n",
       "// Listen for the clearing of the current output cell\n",
       "var outputEl = gd.closest('.output');\n",
       "if (outputEl) {{\n",
       "    x.observe(outputEl, {childList: true});\n",
       "}}\n",
       "\n",
       "                        })\n",
       "                };\n",
       "                });\n",
       "            </script>\n",
       "        </div>"
      ]
     },
     "metadata": {},
     "output_type": "display_data"
    }
   ],
   "source": [
    "bubble_chart(players, \"Forward\")"
   ]
  },
  {
   "cell_type": "markdown",
   "metadata": {},
   "source": [
    "## OPTA Analysis"
   ]
  },
  {
   "cell_type": "code",
   "execution_count": null,
   "metadata": {},
   "outputs": [],
   "source": []
  }
 ],
 "metadata": {
  "kernelspec": {
   "display_name": "Python 3",
   "language": "python",
   "name": "python3"
  },
  "language_info": {
   "codemirror_mode": {
    "name": "ipython",
    "version": 3
   },
   "file_extension": ".py",
   "mimetype": "text/x-python",
   "name": "python",
   "nbconvert_exporter": "python",
   "pygments_lexer": "ipython3",
   "version": "3.6.8"
  }
 },
 "nbformat": 4,
 "nbformat_minor": 2
}

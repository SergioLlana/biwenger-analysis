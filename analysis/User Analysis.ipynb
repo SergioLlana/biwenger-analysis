{
 "cells": [
  {
   "cell_type": "code",
   "execution_count": 16,
   "metadata": {},
   "outputs": [],
   "source": [
    "import plotly.express as px\n",
    "import matplotlib as plt\n",
    "import seaborn as sns\n",
    "import pandas as pd\n",
    "import numpy as np\n",
    "import json\n",
    "import ast\n",
    "\n",
    "\n",
    "def read(path):\n",
    "    with open(path, 'r') as f:\n",
    "        return f.read()\n",
    "\n",
    "    \n",
    "def parse_purchase(purchases_str):\n",
    "    values = []\n",
    "    for purchase in purchases_str:\n",
    "        value_str = purchase.split(\"€\")[1]\n",
    "        values.append(int(value_str.replace(\",\", \"\")))\n",
    "    return values"
   ]
  },
  {
   "cell_type": "code",
   "execution_count": 17,
   "metadata": {},
   "outputs": [],
   "source": [
    "log = read(\"../data/ranking.log\")\n",
    "users_info = pd.DataFrame([ast.literal_eval(row) \n",
    "                           for row in log.split(\"\\n\") \n",
    "                           if row and row[0] == \"{\"])\n",
    "\n",
    "users_info[\"value\"] = users_info.value.apply(lambda x: int(x[1:].replace(\",\", \"\")))\n",
    "users_info[\"purchase_info\"] = users_info.purchase_info.apply(parse_purchase)"
   ]
  },
  {
   "cell_type": "code",
   "execution_count": 22,
   "metadata": {},
   "outputs": [
    {
     "data": {
      "text/html": [
       "<div>\n",
       "<style scoped>\n",
       "    .dataframe tbody tr th:only-of-type {\n",
       "        vertical-align: middle;\n",
       "    }\n",
       "\n",
       "    .dataframe tbody tr th {\n",
       "        vertical-align: top;\n",
       "    }\n",
       "\n",
       "    .dataframe thead th {\n",
       "        text-align: right;\n",
       "    }\n",
       "</style>\n",
       "<table border=\"1\" class=\"dataframe\">\n",
       "  <thead>\n",
       "    <tr style=\"text-align: right;\">\n",
       "      <th></th>\n",
       "      <th>name</th>\n",
       "      <th>players</th>\n",
       "      <th>points</th>\n",
       "      <th>purchase_info</th>\n",
       "      <th>value</th>\n",
       "    </tr>\n",
       "  </thead>\n",
       "  <tbody>\n",
       "    <tr>\n",
       "      <th>0</th>\n",
       "      <td>FC Datalona</td>\n",
       "      <td>[Ter Stegen, Aitor Fernández, Sergi Roberto, H...</td>\n",
       "      <td>0</td>\n",
       "      <td>[6630658, 1800543, 5200528, 5655110, 5058060, ...</td>\n",
       "      <td>39810000</td>\n",
       "    </tr>\n",
       "    <tr>\n",
       "      <th>1</th>\n",
       "      <td>U. B. Conquense</td>\n",
       "      <td>[Rubén Blanco, Zaldua, Odriozola, Mathías Oliv...</td>\n",
       "      <td>0</td>\n",
       "      <td>[1250300, 2910000, 480000, 380000, 1280000, 50...</td>\n",
       "      <td>39080000</td>\n",
       "    </tr>\n",
       "    <tr>\n",
       "      <th>2</th>\n",
       "      <td>Thomas Party</td>\n",
       "      <td>[Vaclík, Oier Olazábal, Felipe Monteiro, Pedra...</td>\n",
       "      <td>0</td>\n",
       "      <td>[6200000, 1300000, 4510000, 3400000, 3200000, ...</td>\n",
       "      <td>25580000</td>\n",
       "    </tr>\n",
       "    <tr>\n",
       "      <th>3</th>\n",
       "      <td>Camping Ballena Alegre</td>\n",
       "      <td>[Damián Suárez, Mario Gaspar, Orellana, Saúl, ...</td>\n",
       "      <td>0</td>\n",
       "      <td>[5560000, 660100, 6500005, 7520000, 4500000, 5...</td>\n",
       "      <td>25410000</td>\n",
       "    </tr>\n",
       "    <tr>\n",
       "      <th>4</th>\n",
       "      <td>Pastafarianism United</td>\n",
       "      <td>[Cillessen, Germán Sánchez, Arbilla, Rodrigo E...</td>\n",
       "      <td>0</td>\n",
       "      <td>[6820023, 1310003, 610022, 260001, 150051, 153...</td>\n",
       "      <td>21530000</td>\n",
       "    </tr>\n",
       "    <tr>\n",
       "      <th>5</th>\n",
       "      <td>Vetusta FC</td>\n",
       "      <td>[Herrerín, Garay, Yeray, Capa, Cabaco, Aleix F...</td>\n",
       "      <td>0</td>\n",
       "      <td>[2099000, 5430000, 3590000, 930100, 210000, 27...</td>\n",
       "      <td>14030000</td>\n",
       "    </tr>\n",
       "    <tr>\n",
       "      <th>6</th>\n",
       "      <td>Santa Bàrbara</td>\n",
       "      <td>[Manolo Reina, Ximo Navarro, David Costas, Jos...</td>\n",
       "      <td>0</td>\n",
       "      <td>[1180000, 2614990, 709500, 150000, 5089090, 67...</td>\n",
       "      <td>12740000</td>\n",
       "    </tr>\n",
       "    <tr>\n",
       "      <th>7</th>\n",
       "      <td>ValeronBalonDeOro</td>\n",
       "      <td>[Rubén, Wass, Diakhaby, Salva Sevilla, Vesga, ...</td>\n",
       "      <td>0</td>\n",
       "      <td>[1501000, 4100000, 276000, 2000000, 230000, 22...</td>\n",
       "      <td>6400000</td>\n",
       "    </tr>\n",
       "  </tbody>\n",
       "</table>\n",
       "</div>"
      ],
      "text/plain": [
       "                     name                                            players  \\\n",
       "0             FC Datalona  [Ter Stegen, Aitor Fernández, Sergi Roberto, H...   \n",
       "1         U. B. Conquense  [Rubén Blanco, Zaldua, Odriozola, Mathías Oliv...   \n",
       "2            Thomas Party  [Vaclík, Oier Olazábal, Felipe Monteiro, Pedra...   \n",
       "3  Camping Ballena Alegre  [Damián Suárez, Mario Gaspar, Orellana, Saúl, ...   \n",
       "4   Pastafarianism United  [Cillessen, Germán Sánchez, Arbilla, Rodrigo E...   \n",
       "5              Vetusta FC  [Herrerín, Garay, Yeray, Capa, Cabaco, Aleix F...   \n",
       "6           Santa Bàrbara  [Manolo Reina, Ximo Navarro, David Costas, Jos...   \n",
       "7       ValeronBalonDeOro  [Rubén, Wass, Diakhaby, Salva Sevilla, Vesga, ...   \n",
       "\n",
       "  points                                      purchase_info     value  \n",
       "0      0  [6630658, 1800543, 5200528, 5655110, 5058060, ...  39810000  \n",
       "1      0  [1250300, 2910000, 480000, 380000, 1280000, 50...  39080000  \n",
       "2      0  [6200000, 1300000, 4510000, 3400000, 3200000, ...  25580000  \n",
       "3      0  [5560000, 660100, 6500005, 7520000, 4500000, 5...  25410000  \n",
       "4      0  [6820023, 1310003, 610022, 260001, 150051, 153...  21530000  \n",
       "5      0  [2099000, 5430000, 3590000, 930100, 210000, 27...  14030000  \n",
       "6      0  [1180000, 2614990, 709500, 150000, 5089090, 67...  12740000  \n",
       "7      0  [1501000, 4100000, 276000, 2000000, 230000, 22...   6400000  "
      ]
     },
     "execution_count": 22,
     "metadata": {},
     "output_type": "execute_result"
    }
   ],
   "source": [
    "users_info"
   ]
  },
  {
   "cell_type": "code",
   "execution_count": 25,
   "metadata": {},
   "outputs": [
    {
     "data": {
      "text/plain": [
       "\"['Ter Stegen', 'Aitor Fernández', 'Sergi Roberto', 'Hugo Mallo', 'Ferland Mendy', 'Lucas Vázquez', 'Roque Mesa', 'Barrenetxea', 'Fede Valverde', 'Borja Iglesias', 'Vinícius', 'Dembélé', 'Rubén Blanco', 'Zaldua', 'Odriozola', 'Mathías Olivera', 'Portillo', 'Fran Beltrán', 'Riqui Puig', 'Messi', 'Rodrigo', 'Gameiro', 'Sobrino', 'Vaclík', 'Oier Olazábal', 'Felipe Monteiro', 'Pedraza', 'Renan Lodi', 'Aridane Hernández', 'James Rodríguez', 'Óliver Torres', 'Iturraspe', 'Portu', 'Luuk de Jong', 'Damián Suárez', 'Mario Gaspar', 'Orellana', 'Saúl', 'Banega', 'William Carvalho', 'Granero', 'Kang-in Lee', 'Recio', 'Ekambi', 'Wu Lei', 'Cillessen', 'Germán Sánchez', 'Arbilla', 'Rodrigo Ely', 'Francis', 'Yokuslu', 'Szymanowski', 'Pione Sisto', 'Iago Aspas', 'Herrerín', 'Garay', 'Yeray', 'Capa', 'Cabaco', 'Aleix Febas', 'Cáseres', 'Lucas Ocampos', 'Lago Junior', 'Manolo Reina', 'Ximo Navarro', 'David Costas', 'José Antonio Martínez', 'Marc Roca', 'Arthur', 'Aleña', 'Ferrán Torres', 'Sandro', 'Beauvue', 'De Blasis', 'Rubén', 'Wass', 'Diakhaby', 'Salva Sevilla', 'Vesga', 'Guidetti']\""
      ]
     },
     "execution_count": 25,
     "metadata": {},
     "output_type": "execute_result"
    }
   ],
   "source": [
    "players = []\n",
    "for _, user in users_info.iterrows():\n",
    "    players.extend(user.players)\n",
    "str(players)"
   ]
  },
  {
   "cell_type": "code",
   "execution_count": null,
   "metadata": {},
   "outputs": [],
   "source": []
  }
 ],
 "metadata": {
  "kernelspec": {
   "display_name": "Python 3",
   "language": "python",
   "name": "python3"
  },
  "language_info": {
   "codemirror_mode": {
    "name": "ipython",
    "version": 3
   },
   "file_extension": ".py",
   "mimetype": "text/x-python",
   "name": "python",
   "nbconvert_exporter": "python",
   "pygments_lexer": "ipython3",
   "version": "3.6.8"
  }
 },
 "nbformat": 4,
 "nbformat_minor": 2
}

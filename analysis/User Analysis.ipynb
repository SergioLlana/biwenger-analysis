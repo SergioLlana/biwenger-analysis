{
 "cells": [
  {
   "cell_type": "code",
   "execution_count": 21,
   "metadata": {},
   "outputs": [
    {
     "data": {
      "text/html": [
       "<div>\n",
       "<style scoped>\n",
       "    .dataframe tbody tr th:only-of-type {\n",
       "        vertical-align: middle;\n",
       "    }\n",
       "\n",
       "    .dataframe tbody tr th {\n",
       "        vertical-align: top;\n",
       "    }\n",
       "\n",
       "    .dataframe thead th {\n",
       "        text-align: right;\n",
       "    }\n",
       "</style>\n",
       "<table border=\"1\" class=\"dataframe\">\n",
       "  <thead>\n",
       "    <tr style=\"text-align: right;\">\n",
       "      <th></th>\n",
       "      <th>name</th>\n",
       "      <th>points</th>\n",
       "      <th>value</th>\n",
       "      <th>purchase_info</th>\n",
       "      <th>increments</th>\n",
       "      <th>players</th>\n",
       "      <th>team_value</th>\n",
       "    </tr>\n",
       "  </thead>\n",
       "  <tbody>\n",
       "    <tr>\n",
       "      <th>0</th>\n",
       "      <td>FC Datalona</td>\n",
       "      <td>0</td>\n",
       "      <td>€44,700,000</td>\n",
       "      <td>[6630658, 530810, 5200528, 5655110, 5058060, 1...</td>\n",
       "      <td>[1240658, 60810, 1870528, 2425110, 2688060, 25...</td>\n",
       "      <td>[Ter Stegen, Neto, Sergi Roberto, Hugo Mallo, ...</td>\n",
       "      <td>44700000</td>\n",
       "    </tr>\n",
       "    <tr>\n",
       "      <th>1</th>\n",
       "      <td>U. B. Conquense</td>\n",
       "      <td>0</td>\n",
       "      <td>€42,380,000</td>\n",
       "      <td>[1250300, 2910000, 870000, 930000, 880000, 480...</td>\n",
       "      <td>[249700, 1440000, 30000, 190000, 270000, 40000...</td>\n",
       "      <td>[Rubén Blanco, Zaldua, Rubén Duarte, Joan Sast...</td>\n",
       "      <td>42380000</td>\n",
       "    </tr>\n",
       "    <tr>\n",
       "      <th>2</th>\n",
       "      <td>Pastafarianism United</td>\n",
       "      <td>0</td>\n",
       "      <td>€42,230,000</td>\n",
       "      <td>[6820023, 5970000, 1990009, 1310003, 610022, 2...</td>\n",
       "      <td>[2800023, 3380000, 610009, 360003, 250022, 110...</td>\n",
       "      <td>[Cillessen, Yuri, Alberto Moreno, Germán Sánch...</td>\n",
       "      <td>42230000</td>\n",
       "    </tr>\n",
       "    <tr>\n",
       "      <th>3</th>\n",
       "      <td>Thomas Party</td>\n",
       "      <td>0</td>\n",
       "      <td>€40,600,000</td>\n",
       "      <td>[6200000, 1300000, 7510000, 7850000, 3400000, ...</td>\n",
       "      <td>[2870000, 1120000, 3940000, 4480000, 780000, 2...</td>\n",
       "      <td>[Vaclík, Oier Olazábal, Varane, Djené, Pedraza...</td>\n",
       "      <td>40600000</td>\n",
       "    </tr>\n",
       "    <tr>\n",
       "      <th>4</th>\n",
       "      <td>Camping Ballena Alegre</td>\n",
       "      <td>0</td>\n",
       "      <td>€34,060,000</td>\n",
       "      <td>[150100, 5750000, 5560000, 2560000, 660100, 65...</td>\n",
       "      <td>[100, 2710000, 2820000, 1140000, 149900, 25200...</td>\n",
       "      <td>[Sergio Álvarez, Siovas, Damián Suárez, Coke, ...</td>\n",
       "      <td>34060000</td>\n",
       "    </tr>\n",
       "    <tr>\n",
       "      <th>5</th>\n",
       "      <td>Santa Bàrbara</td>\n",
       "      <td>0</td>\n",
       "      <td>€32,020,000</td>\n",
       "      <td>[1180000, 2614990, 483030, 709500, 150000, 105...</td>\n",
       "      <td>[130000, 1454990, 83030, 559500, 0, 2837310, 4...</td>\n",
       "      <td>[Manolo Reina, Ximo Navarro, David López, Davi...</td>\n",
       "      <td>32020000</td>\n",
       "    </tr>\n",
       "    <tr>\n",
       "      <th>6</th>\n",
       "      <td>Vetusta FC</td>\n",
       "      <td>0</td>\n",
       "      <td>€27,070,000</td>\n",
       "      <td>[2099000, 5430000, 3590000, 2670000, 1050000, ...</td>\n",
       "      <td>[589000, 2290000, 1430000, 700000, 40000, 1399...</td>\n",
       "      <td>[Herrerín, Garay, Yeray, Diego Llorente, Picci...</td>\n",
       "      <td>27070000</td>\n",
       "    </tr>\n",
       "    <tr>\n",
       "      <th>7</th>\n",
       "      <td>ValeronBalonDeOro</td>\n",
       "      <td>0</td>\n",
       "      <td>€20,990,000</td>\n",
       "      <td>[1501000, 4100000, 2749000, 276000, 9103000, 6...</td>\n",
       "      <td>[381000, 1110000, 1509000, 4000, 4943000, 3094...</td>\n",
       "      <td>[Rubén, Wass, Rosales, Diakhaby, Kroos, Bardhi...</td>\n",
       "      <td>20990000</td>\n",
       "    </tr>\n",
       "  </tbody>\n",
       "</table>\n",
       "</div>"
      ],
      "text/plain": [
       "                     name  points        value  \\\n",
       "0             FC Datalona       0  €44,700,000   \n",
       "1         U. B. Conquense       0  €42,380,000   \n",
       "2   Pastafarianism United       0  €42,230,000   \n",
       "3            Thomas Party       0  €40,600,000   \n",
       "4  Camping Ballena Alegre       0  €34,060,000   \n",
       "5           Santa Bàrbara       0  €32,020,000   \n",
       "6              Vetusta FC       0  €27,070,000   \n",
       "7       ValeronBalonDeOro       0  €20,990,000   \n",
       "\n",
       "                                       purchase_info  \\\n",
       "0  [6630658, 530810, 5200528, 5655110, 5058060, 1...   \n",
       "1  [1250300, 2910000, 870000, 930000, 880000, 480...   \n",
       "2  [6820023, 5970000, 1990009, 1310003, 610022, 2...   \n",
       "3  [6200000, 1300000, 7510000, 7850000, 3400000, ...   \n",
       "4  [150100, 5750000, 5560000, 2560000, 660100, 65...   \n",
       "5  [1180000, 2614990, 483030, 709500, 150000, 105...   \n",
       "6  [2099000, 5430000, 3590000, 2670000, 1050000, ...   \n",
       "7  [1501000, 4100000, 2749000, 276000, 9103000, 6...   \n",
       "\n",
       "                                          increments  \\\n",
       "0  [1240658, 60810, 1870528, 2425110, 2688060, 25...   \n",
       "1  [249700, 1440000, 30000, 190000, 270000, 40000...   \n",
       "2  [2800023, 3380000, 610009, 360003, 250022, 110...   \n",
       "3  [2870000, 1120000, 3940000, 4480000, 780000, 2...   \n",
       "4  [100, 2710000, 2820000, 1140000, 149900, 25200...   \n",
       "5  [130000, 1454990, 83030, 559500, 0, 2837310, 4...   \n",
       "6  [589000, 2290000, 1430000, 700000, 40000, 1399...   \n",
       "7  [381000, 1110000, 1509000, 4000, 4943000, 3094...   \n",
       "\n",
       "                                             players  team_value  \n",
       "0  [Ter Stegen, Neto, Sergi Roberto, Hugo Mallo, ...    44700000  \n",
       "1  [Rubén Blanco, Zaldua, Rubén Duarte, Joan Sast...    42380000  \n",
       "2  [Cillessen, Yuri, Alberto Moreno, Germán Sánch...    42230000  \n",
       "3  [Vaclík, Oier Olazábal, Varane, Djené, Pedraza...    40600000  \n",
       "4  [Sergio Álvarez, Siovas, Damián Suárez, Coke, ...    34060000  \n",
       "5  [Manolo Reina, Ximo Navarro, David López, Davi...    32020000  \n",
       "6  [Herrerín, Garay, Yeray, Diego Llorente, Picci...    27070000  \n",
       "7  [Rubén, Wass, Rosales, Diakhaby, Kroos, Bardhi...    20990000  "
      ]
     },
     "execution_count": 21,
     "metadata": {},
     "output_type": "execute_result"
    }
   ],
   "source": [
    "import plotly.express as px\n",
    "import pandas as pd\n",
    "import json\n",
    "import ast\n",
    "\n",
    "\n",
    "users_info = pd.read_csv(\"../data/users.csv\", index_col=[0])\n",
    "users_info[\"purchase_info\"] = users_info.purchase_info.apply(ast.literal_eval)\n",
    "users_info[\"increments\"] = users_info.increments.apply(ast.literal_eval)\n",
    "users_info[\"players\"] = users_info.players.apply(ast.literal_eval)\n",
    "users_info"
   ]
  },
  {
   "cell_type": "code",
   "execution_count": 22,
   "metadata": {},
   "outputs": [
    {
     "data": {
      "text/html": [
       "<div>\n",
       "<style scoped>\n",
       "    .dataframe tbody tr th:only-of-type {\n",
       "        vertical-align: middle;\n",
       "    }\n",
       "\n",
       "    .dataframe tbody tr th {\n",
       "        vertical-align: top;\n",
       "    }\n",
       "\n",
       "    .dataframe thead th {\n",
       "        text-align: right;\n",
       "    }\n",
       "</style>\n",
       "<table border=\"1\" class=\"dataframe\">\n",
       "  <thead>\n",
       "    <tr style=\"text-align: right;\">\n",
       "      <th></th>\n",
       "      <th>increment</th>\n",
       "      <th>market_value</th>\n",
       "      <th>paid_price</th>\n",
       "      <th>player</th>\n",
       "      <th>relative_increment</th>\n",
       "      <th>team</th>\n",
       "    </tr>\n",
       "  </thead>\n",
       "  <tbody>\n",
       "    <tr>\n",
       "      <th>0</th>\n",
       "      <td>130000</td>\n",
       "      <td>1050000</td>\n",
       "      <td>1180000</td>\n",
       "      <td>Manolo Reina</td>\n",
       "      <td>0.123810</td>\n",
       "      <td>Santa Bàrbara</td>\n",
       "    </tr>\n",
       "    <tr>\n",
       "      <th>7</th>\n",
       "      <td>310880</td>\n",
       "      <td>1710000</td>\n",
       "      <td>2020880</td>\n",
       "      <td>Rubén Pérez</td>\n",
       "      <td>0.181801</td>\n",
       "      <td>FC Datalona</td>\n",
       "    </tr>\n",
       "    <tr>\n",
       "      <th>13</th>\n",
       "      <td>1079804</td>\n",
       "      <td>3220000</td>\n",
       "      <td>4299804</td>\n",
       "      <td>Gameiro</td>\n",
       "      <td>0.335343</td>\n",
       "      <td>U. B. Conquense</td>\n",
       "    </tr>\n",
       "    <tr>\n",
       "      <th>5</th>\n",
       "      <td>2520005</td>\n",
       "      <td>3980000</td>\n",
       "      <td>6500005</td>\n",
       "      <td>Orellana</td>\n",
       "      <td>0.633167</td>\n",
       "      <td>Camping Ballena Alegre</td>\n",
       "    </tr>\n",
       "    <tr>\n",
       "      <th>8</th>\n",
       "      <td>350000</td>\n",
       "      <td>570000</td>\n",
       "      <td>920000</td>\n",
       "      <td>Camarasa</td>\n",
       "      <td>0.614035</td>\n",
       "      <td>U. B. Conquense</td>\n",
       "    </tr>\n",
       "    <tr>\n",
       "      <th>0</th>\n",
       "      <td>2800023</td>\n",
       "      <td>4020000</td>\n",
       "      <td>6820023</td>\n",
       "      <td>Cillessen</td>\n",
       "      <td>0.696523</td>\n",
       "      <td>Pastafarianism United</td>\n",
       "    </tr>\n",
       "    <tr>\n",
       "      <th>5</th>\n",
       "      <td>110001</td>\n",
       "      <td>150000</td>\n",
       "      <td>260001</td>\n",
       "      <td>Rodrigo Ely</td>\n",
       "      <td>0.733340</td>\n",
       "      <td>Pastafarianism United</td>\n",
       "    </tr>\n",
       "    <tr>\n",
       "      <th>16</th>\n",
       "      <td>20000</td>\n",
       "      <td>910000</td>\n",
       "      <td>930000</td>\n",
       "      <td>Nolito</td>\n",
       "      <td>0.021978</td>\n",
       "      <td>Thomas Party</td>\n",
       "    </tr>\n",
       "    <tr>\n",
       "      <th>8</th>\n",
       "      <td>10000</td>\n",
       "      <td>430000</td>\n",
       "      <td>440000</td>\n",
       "      <td>Aridane Hernández</td>\n",
       "      <td>0.023256</td>\n",
       "      <td>Thomas Party</td>\n",
       "    </tr>\n",
       "    <tr>\n",
       "      <th>6</th>\n",
       "      <td>407440</td>\n",
       "      <td>2380000</td>\n",
       "      <td>2787440</td>\n",
       "      <td>Pere Pons</td>\n",
       "      <td>0.171193</td>\n",
       "      <td>FC Datalona</td>\n",
       "    </tr>\n",
       "  </tbody>\n",
       "</table>\n",
       "</div>"
      ],
      "text/plain": [
       "    increment  market_value  paid_price             player  \\\n",
       "0      130000       1050000     1180000       Manolo Reina   \n",
       "7      310880       1710000     2020880        Rubén Pérez   \n",
       "13    1079804       3220000     4299804            Gameiro   \n",
       "5     2520005       3980000     6500005           Orellana   \n",
       "8      350000        570000      920000           Camarasa   \n",
       "0     2800023       4020000     6820023          Cillessen   \n",
       "5      110001        150000      260001        Rodrigo Ely   \n",
       "16      20000        910000      930000             Nolito   \n",
       "8       10000        430000      440000  Aridane Hernández   \n",
       "6      407440       2380000     2787440          Pere Pons   \n",
       "\n",
       "    relative_increment                    team  \n",
       "0             0.123810           Santa Bàrbara  \n",
       "7             0.181801             FC Datalona  \n",
       "13            0.335343         U. B. Conquense  \n",
       "5             0.633167  Camping Ballena Alegre  \n",
       "8             0.614035         U. B. Conquense  \n",
       "0             0.696523   Pastafarianism United  \n",
       "5             0.733340   Pastafarianism United  \n",
       "16            0.021978            Thomas Party  \n",
       "8             0.023256            Thomas Party  \n",
       "6             0.171193             FC Datalona  "
      ]
     },
     "execution_count": 22,
     "metadata": {},
     "output_type": "execute_result"
    }
   ],
   "source": [
    "def _compute_increments(row):\n",
    "    rows = []\n",
    "    for idx, player in enumerate(row.players):\n",
    "        increment = int(row.increments[idx])\n",
    "        paid_price = int(row.purchase_info[idx])\n",
    "        market_value = paid_price-increment\n",
    "        rows.append({\"team\": row[\"name\"],\n",
    "                     \"player\": player,\n",
    "                     \"increment\": increment,\n",
    "                     \"paid_price\": paid_price,\n",
    "                     \"market_value\": market_value,\n",
    "                     \"relative_increment\": ((paid_price/market_value)-1)})\n",
    "    return pd.DataFrame(rows)\n",
    "\n",
    "\n",
    "player_transfers = pd.concat(users_info.apply(_compute_increments, axis=1).tolist())\n",
    "player_transfers.sample(10)"
   ]
  },
  {
   "cell_type": "code",
   "execution_count": 23,
   "metadata": {},
   "outputs": [
    {
     "data": {
      "application/vnd.plotly.v1+json": {
       "config": {
        "plotlyServerURL": "https://plot.ly"
       },
       "data": [
        {
         "alignmentgroup": "True",
         "box": {
          "visible": false
         },
         "hoverlabel": {
          "namelength": 0
         },
         "hovertemplate": "<b>%{hovertext}</b><br><br>team=%{x}<br>increment=%{y}",
         "hovertext": [
          "Ter Stegen",
          "Neto",
          "Sergi Roberto",
          "Hugo Mallo",
          "Ferland Mendy",
          "Raíllo",
          "Pere Pons",
          "Rubén Pérez",
          "Vitolo",
          "Lucas Vázquez",
          "Roque Mesa",
          "Barrenetxea",
          "Fede Valverde",
          "Borja Iglesias",
          "Vinícius",
          "Dembélé",
          "Rubén Blanco",
          "Zaldua",
          "Rubén Duarte",
          "Joan Sastre",
          "Javi López",
          "Odriozola",
          "Mathías Olivera",
          "Portillo",
          "Camarasa",
          "Fran Beltrán",
          "Riqui Puig",
          "Messi",
          "Rodrigo",
          "Gameiro",
          "Sobrino",
          "Cillessen",
          "Yuri",
          "Alberto Moreno",
          "Germán Sánchez",
          "Arbilla",
          "Rodrigo Ely",
          "Francis",
          "Campaña",
          "Yokuslu",
          "Szymanowski",
          "Pione Sisto",
          "Iago Aspas",
          "Williams",
          "Gerard Moreno",
          "Vaclík",
          "Oier Olazábal",
          "Varane",
          "Djené",
          "Pedraza",
          "Felipe Monteiro",
          "Renan Lodi",
          "Sidnei",
          "Aridane Hernández",
          "Todibo",
          "James Rodríguez",
          "Óliver Torres",
          "Iturraspe",
          "Portu",
          "Santi Mina",
          "Luuk de Jong",
          "Nolito",
          "Sergio Álvarez",
          "Siovas",
          "Damián Suárez",
          "Coke",
          "Mario Gaspar",
          "Orellana",
          "Saúl",
          "Banega",
          "William Carvalho",
          "Granero",
          "Kang-in Lee",
          "Recio",
          "Ekambi",
          "Wu Lei",
          "Matías Vargas",
          "Manolo Reina",
          "Ximo Navarro",
          "David López",
          "David Costas",
          "José Antonio Martínez",
          "Frenkie de Jong",
          "Koke",
          "Marc Roca",
          "Arthur",
          "Ferrán Torres",
          "Aleña",
          "Ángel Rodríguez",
          "Sandro",
          "Sergi Guardiola",
          "Malcom",
          "De Blasis",
          "Beauvue",
          "Herrerín",
          "Garay",
          "Yeray",
          "Diego Llorente",
          "Piccini",
          "Capa",
          "Cabaco",
          "Aleix Febas",
          "Cáseres",
          "Willian José",
          "Lucas Pérez",
          "Lucas Ocampos",
          "Lago Junior",
          "Rubén",
          "Wass",
          "Rosales",
          "Diakhaby",
          "Kroos",
          "Bardhi",
          "Salva Sevilla",
          "Vesga",
          "Sergi Enrich",
          "Sergio León",
          "Quique González",
          "Guidetti"
         ],
         "legendgroup": "",
         "marker": {
          "color": "#636efa"
         },
         "name": "",
         "offsetgroup": "",
         "orientation": "v",
         "points": "all",
         "scalegroup": "True",
         "showlegend": false,
         "type": "violin",
         "x": [
          "FC Datalona",
          "FC Datalona",
          "FC Datalona",
          "FC Datalona",
          "FC Datalona",
          "FC Datalona",
          "FC Datalona",
          "FC Datalona",
          "FC Datalona",
          "FC Datalona",
          "FC Datalona",
          "FC Datalona",
          "FC Datalona",
          "FC Datalona",
          "FC Datalona",
          "FC Datalona",
          "U. B. Conquense",
          "U. B. Conquense",
          "U. B. Conquense",
          "U. B. Conquense",
          "U. B. Conquense",
          "U. B. Conquense",
          "U. B. Conquense",
          "U. B. Conquense",
          "U. B. Conquense",
          "U. B. Conquense",
          "U. B. Conquense",
          "U. B. Conquense",
          "U. B. Conquense",
          "U. B. Conquense",
          "U. B. Conquense",
          "Pastafarianism United",
          "Pastafarianism United",
          "Pastafarianism United",
          "Pastafarianism United",
          "Pastafarianism United",
          "Pastafarianism United",
          "Pastafarianism United",
          "Pastafarianism United",
          "Pastafarianism United",
          "Pastafarianism United",
          "Pastafarianism United",
          "Pastafarianism United",
          "Pastafarianism United",
          "Pastafarianism United",
          "Thomas Party",
          "Thomas Party",
          "Thomas Party",
          "Thomas Party",
          "Thomas Party",
          "Thomas Party",
          "Thomas Party",
          "Thomas Party",
          "Thomas Party",
          "Thomas Party",
          "Thomas Party",
          "Thomas Party",
          "Thomas Party",
          "Thomas Party",
          "Thomas Party",
          "Thomas Party",
          "Thomas Party",
          "Camping Ballena Alegre",
          "Camping Ballena Alegre",
          "Camping Ballena Alegre",
          "Camping Ballena Alegre",
          "Camping Ballena Alegre",
          "Camping Ballena Alegre",
          "Camping Ballena Alegre",
          "Camping Ballena Alegre",
          "Camping Ballena Alegre",
          "Camping Ballena Alegre",
          "Camping Ballena Alegre",
          "Camping Ballena Alegre",
          "Camping Ballena Alegre",
          "Camping Ballena Alegre",
          "Camping Ballena Alegre",
          "Santa Bàrbara",
          "Santa Bàrbara",
          "Santa Bàrbara",
          "Santa Bàrbara",
          "Santa Bàrbara",
          "Santa Bàrbara",
          "Santa Bàrbara",
          "Santa Bàrbara",
          "Santa Bàrbara",
          "Santa Bàrbara",
          "Santa Bàrbara",
          "Santa Bàrbara",
          "Santa Bàrbara",
          "Santa Bàrbara",
          "Santa Bàrbara",
          "Santa Bàrbara",
          "Santa Bàrbara",
          "Vetusta FC",
          "Vetusta FC",
          "Vetusta FC",
          "Vetusta FC",
          "Vetusta FC",
          "Vetusta FC",
          "Vetusta FC",
          "Vetusta FC",
          "Vetusta FC",
          "Vetusta FC",
          "Vetusta FC",
          "Vetusta FC",
          "Vetusta FC",
          "ValeronBalonDeOro",
          "ValeronBalonDeOro",
          "ValeronBalonDeOro",
          "ValeronBalonDeOro",
          "ValeronBalonDeOro",
          "ValeronBalonDeOro",
          "ValeronBalonDeOro",
          "ValeronBalonDeOro",
          "ValeronBalonDeOro",
          "ValeronBalonDeOro",
          "ValeronBalonDeOro",
          "ValeronBalonDeOro"
         ],
         "x0": " ",
         "xaxis": "x",
         "y": [
          1240658,
          60810,
          1870528,
          2425110,
          2688060,
          25120,
          407440,
          310880,
          343500,
          183456,
          90508,
          270423,
          104321,
          2432460,
          1370394,
          1280759,
          249700,
          1440000,
          30000,
          190000,
          270000,
          40000,
          150000,
          560000,
          350000,
          20000,
          0,
          13950000,
          4290000,
          1079804,
          0,
          2800023,
          3380000,
          610009,
          360003,
          250022,
          110001,
          51,
          2650000,
          400002,
          190999,
          19495,
          3780003,
          5070006,
          3110006,
          2870000,
          1120000,
          3940000,
          4480000,
          780000,
          2080000,
          840000,
          60000,
          10000,
          2000,
          1000000,
          1320000,
          0,
          670000,
          3100000,
          1770000,
          20000,
          100,
          2710000,
          2820000,
          1140000,
          149900,
          2520005,
          3630000,
          1430000,
          2970000,
          780500,
          99900,
          180000,
          1760005,
          2370000,
          49995,
          130000,
          1454990,
          83030,
          559500,
          0,
          2837310,
          4179640,
          1309090,
          3510880,
          333030,
          1272440,
          703820,
          796100,
          120000,
          40000,
          10000,
          110360,
          589000,
          2290000,
          1430000,
          700000,
          40000,
          139900,
          30000,
          109999,
          0,
          1150000,
          40000,
          760001,
          100000,
          381000,
          1110000,
          1509000,
          4000,
          4943000,
          3094000,
          40000,
          50000,
          3024000,
          1080000,
          20000,
          71000
         ],
         "y0": " ",
         "yaxis": "y"
        }
       ],
       "layout": {
        "height": 600,
        "legend": {
         "tracegroupgap": 0
        },
        "margin": {
         "t": 60
        },
        "template": {
         "data": {
          "bar": [
           {
            "error_x": {
             "color": "#2a3f5f"
            },
            "error_y": {
             "color": "#2a3f5f"
            },
            "marker": {
             "line": {
              "color": "#E5ECF6",
              "width": 0.5
             }
            },
            "type": "bar"
           }
          ],
          "barpolar": [
           {
            "marker": {
             "line": {
              "color": "#E5ECF6",
              "width": 0.5
             }
            },
            "type": "barpolar"
           }
          ],
          "carpet": [
           {
            "aaxis": {
             "endlinecolor": "#2a3f5f",
             "gridcolor": "white",
             "linecolor": "white",
             "minorgridcolor": "white",
             "startlinecolor": "#2a3f5f"
            },
            "baxis": {
             "endlinecolor": "#2a3f5f",
             "gridcolor": "white",
             "linecolor": "white",
             "minorgridcolor": "white",
             "startlinecolor": "#2a3f5f"
            },
            "type": "carpet"
           }
          ],
          "choropleth": [
           {
            "colorbar": {
             "outlinewidth": 0,
             "ticks": ""
            },
            "type": "choropleth"
           }
          ],
          "contour": [
           {
            "colorbar": {
             "outlinewidth": 0,
             "ticks": ""
            },
            "colorscale": [
             [
              0,
              "#0d0887"
             ],
             [
              0.1111111111111111,
              "#46039f"
             ],
             [
              0.2222222222222222,
              "#7201a8"
             ],
             [
              0.3333333333333333,
              "#9c179e"
             ],
             [
              0.4444444444444444,
              "#bd3786"
             ],
             [
              0.5555555555555556,
              "#d8576b"
             ],
             [
              0.6666666666666666,
              "#ed7953"
             ],
             [
              0.7777777777777778,
              "#fb9f3a"
             ],
             [
              0.8888888888888888,
              "#fdca26"
             ],
             [
              1,
              "#f0f921"
             ]
            ],
            "type": "contour"
           }
          ],
          "contourcarpet": [
           {
            "colorbar": {
             "outlinewidth": 0,
             "ticks": ""
            },
            "type": "contourcarpet"
           }
          ],
          "heatmap": [
           {
            "colorbar": {
             "outlinewidth": 0,
             "ticks": ""
            },
            "colorscale": [
             [
              0,
              "#0d0887"
             ],
             [
              0.1111111111111111,
              "#46039f"
             ],
             [
              0.2222222222222222,
              "#7201a8"
             ],
             [
              0.3333333333333333,
              "#9c179e"
             ],
             [
              0.4444444444444444,
              "#bd3786"
             ],
             [
              0.5555555555555556,
              "#d8576b"
             ],
             [
              0.6666666666666666,
              "#ed7953"
             ],
             [
              0.7777777777777778,
              "#fb9f3a"
             ],
             [
              0.8888888888888888,
              "#fdca26"
             ],
             [
              1,
              "#f0f921"
             ]
            ],
            "type": "heatmap"
           }
          ],
          "heatmapgl": [
           {
            "colorbar": {
             "outlinewidth": 0,
             "ticks": ""
            },
            "colorscale": [
             [
              0,
              "#0d0887"
             ],
             [
              0.1111111111111111,
              "#46039f"
             ],
             [
              0.2222222222222222,
              "#7201a8"
             ],
             [
              0.3333333333333333,
              "#9c179e"
             ],
             [
              0.4444444444444444,
              "#bd3786"
             ],
             [
              0.5555555555555556,
              "#d8576b"
             ],
             [
              0.6666666666666666,
              "#ed7953"
             ],
             [
              0.7777777777777778,
              "#fb9f3a"
             ],
             [
              0.8888888888888888,
              "#fdca26"
             ],
             [
              1,
              "#f0f921"
             ]
            ],
            "type": "heatmapgl"
           }
          ],
          "histogram": [
           {
            "marker": {
             "colorbar": {
              "outlinewidth": 0,
              "ticks": ""
             }
            },
            "type": "histogram"
           }
          ],
          "histogram2d": [
           {
            "colorbar": {
             "outlinewidth": 0,
             "ticks": ""
            },
            "colorscale": [
             [
              0,
              "#0d0887"
             ],
             [
              0.1111111111111111,
              "#46039f"
             ],
             [
              0.2222222222222222,
              "#7201a8"
             ],
             [
              0.3333333333333333,
              "#9c179e"
             ],
             [
              0.4444444444444444,
              "#bd3786"
             ],
             [
              0.5555555555555556,
              "#d8576b"
             ],
             [
              0.6666666666666666,
              "#ed7953"
             ],
             [
              0.7777777777777778,
              "#fb9f3a"
             ],
             [
              0.8888888888888888,
              "#fdca26"
             ],
             [
              1,
              "#f0f921"
             ]
            ],
            "type": "histogram2d"
           }
          ],
          "histogram2dcontour": [
           {
            "colorbar": {
             "outlinewidth": 0,
             "ticks": ""
            },
            "colorscale": [
             [
              0,
              "#0d0887"
             ],
             [
              0.1111111111111111,
              "#46039f"
             ],
             [
              0.2222222222222222,
              "#7201a8"
             ],
             [
              0.3333333333333333,
              "#9c179e"
             ],
             [
              0.4444444444444444,
              "#bd3786"
             ],
             [
              0.5555555555555556,
              "#d8576b"
             ],
             [
              0.6666666666666666,
              "#ed7953"
             ],
             [
              0.7777777777777778,
              "#fb9f3a"
             ],
             [
              0.8888888888888888,
              "#fdca26"
             ],
             [
              1,
              "#f0f921"
             ]
            ],
            "type": "histogram2dcontour"
           }
          ],
          "mesh3d": [
           {
            "colorbar": {
             "outlinewidth": 0,
             "ticks": ""
            },
            "type": "mesh3d"
           }
          ],
          "parcoords": [
           {
            "line": {
             "colorbar": {
              "outlinewidth": 0,
              "ticks": ""
             }
            },
            "type": "parcoords"
           }
          ],
          "scatter": [
           {
            "marker": {
             "colorbar": {
              "outlinewidth": 0,
              "ticks": ""
             }
            },
            "type": "scatter"
           }
          ],
          "scatter3d": [
           {
            "line": {
             "colorbar": {
              "outlinewidth": 0,
              "ticks": ""
             }
            },
            "marker": {
             "colorbar": {
              "outlinewidth": 0,
              "ticks": ""
             }
            },
            "type": "scatter3d"
           }
          ],
          "scattercarpet": [
           {
            "marker": {
             "colorbar": {
              "outlinewidth": 0,
              "ticks": ""
             }
            },
            "type": "scattercarpet"
           }
          ],
          "scattergeo": [
           {
            "marker": {
             "colorbar": {
              "outlinewidth": 0,
              "ticks": ""
             }
            },
            "type": "scattergeo"
           }
          ],
          "scattergl": [
           {
            "marker": {
             "colorbar": {
              "outlinewidth": 0,
              "ticks": ""
             }
            },
            "type": "scattergl"
           }
          ],
          "scattermapbox": [
           {
            "marker": {
             "colorbar": {
              "outlinewidth": 0,
              "ticks": ""
             }
            },
            "type": "scattermapbox"
           }
          ],
          "scatterpolar": [
           {
            "marker": {
             "colorbar": {
              "outlinewidth": 0,
              "ticks": ""
             }
            },
            "type": "scatterpolar"
           }
          ],
          "scatterpolargl": [
           {
            "marker": {
             "colorbar": {
              "outlinewidth": 0,
              "ticks": ""
             }
            },
            "type": "scatterpolargl"
           }
          ],
          "scatterternary": [
           {
            "marker": {
             "colorbar": {
              "outlinewidth": 0,
              "ticks": ""
             }
            },
            "type": "scatterternary"
           }
          ],
          "surface": [
           {
            "colorbar": {
             "outlinewidth": 0,
             "ticks": ""
            },
            "colorscale": [
             [
              0,
              "#0d0887"
             ],
             [
              0.1111111111111111,
              "#46039f"
             ],
             [
              0.2222222222222222,
              "#7201a8"
             ],
             [
              0.3333333333333333,
              "#9c179e"
             ],
             [
              0.4444444444444444,
              "#bd3786"
             ],
             [
              0.5555555555555556,
              "#d8576b"
             ],
             [
              0.6666666666666666,
              "#ed7953"
             ],
             [
              0.7777777777777778,
              "#fb9f3a"
             ],
             [
              0.8888888888888888,
              "#fdca26"
             ],
             [
              1,
              "#f0f921"
             ]
            ],
            "type": "surface"
           }
          ],
          "table": [
           {
            "cells": {
             "fill": {
              "color": "#EBF0F8"
             },
             "line": {
              "color": "white"
             }
            },
            "header": {
             "fill": {
              "color": "#C8D4E3"
             },
             "line": {
              "color": "white"
             }
            },
            "type": "table"
           }
          ]
         },
         "layout": {
          "annotationdefaults": {
           "arrowcolor": "#2a3f5f",
           "arrowhead": 0,
           "arrowwidth": 1
          },
          "colorscale": {
           "diverging": [
            [
             0,
             "#8e0152"
            ],
            [
             0.1,
             "#c51b7d"
            ],
            [
             0.2,
             "#de77ae"
            ],
            [
             0.3,
             "#f1b6da"
            ],
            [
             0.4,
             "#fde0ef"
            ],
            [
             0.5,
             "#f7f7f7"
            ],
            [
             0.6,
             "#e6f5d0"
            ],
            [
             0.7,
             "#b8e186"
            ],
            [
             0.8,
             "#7fbc41"
            ],
            [
             0.9,
             "#4d9221"
            ],
            [
             1,
             "#276419"
            ]
           ],
           "sequential": [
            [
             0,
             "#0d0887"
            ],
            [
             0.1111111111111111,
             "#46039f"
            ],
            [
             0.2222222222222222,
             "#7201a8"
            ],
            [
             0.3333333333333333,
             "#9c179e"
            ],
            [
             0.4444444444444444,
             "#bd3786"
            ],
            [
             0.5555555555555556,
             "#d8576b"
            ],
            [
             0.6666666666666666,
             "#ed7953"
            ],
            [
             0.7777777777777778,
             "#fb9f3a"
            ],
            [
             0.8888888888888888,
             "#fdca26"
            ],
            [
             1,
             "#f0f921"
            ]
           ],
           "sequentialminus": [
            [
             0,
             "#0d0887"
            ],
            [
             0.1111111111111111,
             "#46039f"
            ],
            [
             0.2222222222222222,
             "#7201a8"
            ],
            [
             0.3333333333333333,
             "#9c179e"
            ],
            [
             0.4444444444444444,
             "#bd3786"
            ],
            [
             0.5555555555555556,
             "#d8576b"
            ],
            [
             0.6666666666666666,
             "#ed7953"
            ],
            [
             0.7777777777777778,
             "#fb9f3a"
            ],
            [
             0.8888888888888888,
             "#fdca26"
            ],
            [
             1,
             "#f0f921"
            ]
           ]
          },
          "colorway": [
           "#636efa",
           "#EF553B",
           "#00cc96",
           "#ab63fa",
           "#FFA15A",
           "#19d3f3",
           "#FF6692",
           "#B6E880",
           "#FF97FF",
           "#FECB52"
          ],
          "font": {
           "color": "#2a3f5f"
          },
          "geo": {
           "bgcolor": "white",
           "lakecolor": "white",
           "landcolor": "#E5ECF6",
           "showlakes": true,
           "showland": true,
           "subunitcolor": "white"
          },
          "hoverlabel": {
           "align": "left"
          },
          "hovermode": "closest",
          "mapbox": {
           "style": "light"
          },
          "paper_bgcolor": "white",
          "plot_bgcolor": "#E5ECF6",
          "polar": {
           "angularaxis": {
            "gridcolor": "white",
            "linecolor": "white",
            "ticks": ""
           },
           "bgcolor": "#E5ECF6",
           "radialaxis": {
            "gridcolor": "white",
            "linecolor": "white",
            "ticks": ""
           }
          },
          "scene": {
           "xaxis": {
            "backgroundcolor": "#E5ECF6",
            "gridcolor": "white",
            "gridwidth": 2,
            "linecolor": "white",
            "showbackground": true,
            "ticks": "",
            "zerolinecolor": "white"
           },
           "yaxis": {
            "backgroundcolor": "#E5ECF6",
            "gridcolor": "white",
            "gridwidth": 2,
            "linecolor": "white",
            "showbackground": true,
            "ticks": "",
            "zerolinecolor": "white"
           },
           "zaxis": {
            "backgroundcolor": "#E5ECF6",
            "gridcolor": "white",
            "gridwidth": 2,
            "linecolor": "white",
            "showbackground": true,
            "ticks": "",
            "zerolinecolor": "white"
           }
          },
          "shapedefaults": {
           "line": {
            "color": "#2a3f5f"
           }
          },
          "ternary": {
           "aaxis": {
            "gridcolor": "white",
            "linecolor": "white",
            "ticks": ""
           },
           "baxis": {
            "gridcolor": "white",
            "linecolor": "white",
            "ticks": ""
           },
           "bgcolor": "#E5ECF6",
           "caxis": {
            "gridcolor": "white",
            "linecolor": "white",
            "ticks": ""
           }
          },
          "title": {
           "x": 0.05
          },
          "xaxis": {
           "automargin": true,
           "gridcolor": "white",
           "linecolor": "white",
           "ticks": "",
           "zerolinecolor": "white",
           "zerolinewidth": 2
          },
          "yaxis": {
           "automargin": true,
           "gridcolor": "white",
           "linecolor": "white",
           "ticks": "",
           "zerolinecolor": "white",
           "zerolinewidth": 2
          }
         }
        },
        "violinmode": "group",
        "xaxis": {
         "anchor": "y",
         "domain": [
          0,
          0.98
         ],
         "title": {
          "text": "Team"
         }
        },
        "yaxis": {
         "anchor": "x",
         "domain": [
          0,
          1
         ],
         "title": {
          "text": "Paid price - Market value"
         }
        }
       }
      },
      "text/html": [
       "<div>\n",
       "        \n",
       "        \n",
       "            <div id=\"eb70dea3-f825-4fed-98bc-9a4eb9d0b886\" class=\"plotly-graph-div\" style=\"height:600px; width:100%;\"></div>\n",
       "            <script type=\"text/javascript\">\n",
       "                require([\"plotly\"], function(Plotly) {\n",
       "                    window.PLOTLYENV=window.PLOTLYENV || {};\n",
       "                    \n",
       "                if (document.getElementById(\"eb70dea3-f825-4fed-98bc-9a4eb9d0b886\")) {\n",
       "                    Plotly.newPlot(\n",
       "                        'eb70dea3-f825-4fed-98bc-9a4eb9d0b886',\n",
       "                        [{\"alignmentgroup\": \"True\", \"box\": {\"visible\": false}, \"hoverlabel\": {\"namelength\": 0}, \"hovertemplate\": \"<b>%{hovertext}</b><br><br>team=%{x}<br>increment=%{y}\", \"hovertext\": [\"Ter Stegen\", \"Neto\", \"Sergi Roberto\", \"Hugo Mallo\", \"Ferland Mendy\", \"Ra\\u00edllo\", \"Pere Pons\", \"Rub\\u00e9n P\\u00e9rez\", \"Vitolo\", \"Lucas V\\u00e1zquez\", \"Roque Mesa\", \"Barrenetxea\", \"Fede Valverde\", \"Borja Iglesias\", \"Vin\\u00edcius\", \"Demb\\u00e9l\\u00e9\", \"Rub\\u00e9n Blanco\", \"Zaldua\", \"Rub\\u00e9n Duarte\", \"Joan Sastre\", \"Javi L\\u00f3pez\", \"Odriozola\", \"Math\\u00edas Olivera\", \"Portillo\", \"Camarasa\", \"Fran Beltr\\u00e1n\", \"Riqui Puig\", \"Messi\", \"Rodrigo\", \"Gameiro\", \"Sobrino\", \"Cillessen\", \"Yuri\", \"Alberto Moreno\", \"Germ\\u00e1n S\\u00e1nchez\", \"Arbilla\", \"Rodrigo Ely\", \"Francis\", \"Campa\\u00f1a\", \"Yokuslu\", \"Szymanowski\", \"Pione Sisto\", \"Iago Aspas\", \"Williams\", \"Gerard Moreno\", \"Vacl\\u00edk\", \"Oier Olaz\\u00e1bal\", \"Varane\", \"Djen\\u00e9\", \"Pedraza\", \"Felipe Monteiro\", \"Renan Lodi\", \"Sidnei\", \"Aridane Hern\\u00e1ndez\", \"Todibo\", \"James Rodr\\u00edguez\", \"\\u00d3liver Torres\", \"Iturraspe\", \"Portu\", \"Santi Mina\", \"Luuk de Jong\", \"Nolito\", \"Sergio \\u00c1lvarez\", \"Siovas\", \"Dami\\u00e1n Su\\u00e1rez\", \"Coke\", \"Mario Gaspar\", \"Orellana\", \"Sa\\u00fal\", \"Banega\", \"William Carvalho\", \"Granero\", \"Kang-in Lee\", \"Recio\", \"Ekambi\", \"Wu Lei\", \"Mat\\u00edas Vargas\", \"Manolo Reina\", \"Ximo Navarro\", \"David L\\u00f3pez\", \"David Costas\", \"Jos\\u00e9 Antonio Mart\\u00ednez\", \"Frenkie de Jong\", \"Koke\", \"Marc Roca\", \"Arthur\", \"Ferr\\u00e1n Torres\", \"Ale\\u00f1a\", \"\\u00c1ngel Rodr\\u00edguez\", \"Sandro\", \"Sergi Guardiola\", \"Malcom\", \"De Blasis\", \"Beauvue\", \"Herrer\\u00edn\", \"Garay\", \"Yeray\", \"Diego Llorente\", \"Piccini\", \"Capa\", \"Cabaco\", \"Aleix Febas\", \"C\\u00e1seres\", \"Willian Jos\\u00e9\", \"Lucas P\\u00e9rez\", \"Lucas Ocampos\", \"Lago Junior\", \"Rub\\u00e9n\", \"Wass\", \"Rosales\", \"Diakhaby\", \"Kroos\", \"Bardhi\", \"Salva Sevilla\", \"Vesga\", \"Sergi Enrich\", \"Sergio Le\\u00f3n\", \"Quique Gonz\\u00e1lez\", \"Guidetti\"], \"legendgroup\": \"\", \"marker\": {\"color\": \"#636efa\"}, \"name\": \"\", \"offsetgroup\": \"\", \"orientation\": \"v\", \"points\": \"all\", \"scalegroup\": \"True\", \"showlegend\": false, \"type\": \"violin\", \"x\": [\"FC Datalona\", \"FC Datalona\", \"FC Datalona\", \"FC Datalona\", \"FC Datalona\", \"FC Datalona\", \"FC Datalona\", \"FC Datalona\", \"FC Datalona\", \"FC Datalona\", \"FC Datalona\", \"FC Datalona\", \"FC Datalona\", \"FC Datalona\", \"FC Datalona\", \"FC Datalona\", \"U. B. Conquense\", \"U. B. Conquense\", \"U. B. Conquense\", \"U. B. Conquense\", \"U. B. Conquense\", \"U. B. Conquense\", \"U. B. Conquense\", \"U. B. Conquense\", \"U. B. Conquense\", \"U. B. Conquense\", \"U. B. Conquense\", \"U. B. Conquense\", \"U. B. Conquense\", \"U. B. Conquense\", \"U. B. Conquense\", \"Pastafarianism United\", \"Pastafarianism United\", \"Pastafarianism United\", \"Pastafarianism United\", \"Pastafarianism United\", \"Pastafarianism United\", \"Pastafarianism United\", \"Pastafarianism United\", \"Pastafarianism United\", \"Pastafarianism United\", \"Pastafarianism United\", \"Pastafarianism United\", \"Pastafarianism United\", \"Pastafarianism United\", \"Thomas Party\", \"Thomas Party\", \"Thomas Party\", \"Thomas Party\", \"Thomas Party\", \"Thomas Party\", \"Thomas Party\", \"Thomas Party\", \"Thomas Party\", \"Thomas Party\", \"Thomas Party\", \"Thomas Party\", \"Thomas Party\", \"Thomas Party\", \"Thomas Party\", \"Thomas Party\", \"Thomas Party\", \"Camping Ballena Alegre\", \"Camping Ballena Alegre\", \"Camping Ballena Alegre\", \"Camping Ballena Alegre\", \"Camping Ballena Alegre\", \"Camping Ballena Alegre\", \"Camping Ballena Alegre\", \"Camping Ballena Alegre\", \"Camping Ballena Alegre\", \"Camping Ballena Alegre\", \"Camping Ballena Alegre\", \"Camping Ballena Alegre\", \"Camping Ballena Alegre\", \"Camping Ballena Alegre\", \"Camping Ballena Alegre\", \"Santa B\\u00e0rbara\", \"Santa B\\u00e0rbara\", \"Santa B\\u00e0rbara\", \"Santa B\\u00e0rbara\", \"Santa B\\u00e0rbara\", \"Santa B\\u00e0rbara\", \"Santa B\\u00e0rbara\", \"Santa B\\u00e0rbara\", \"Santa B\\u00e0rbara\", \"Santa B\\u00e0rbara\", \"Santa B\\u00e0rbara\", \"Santa B\\u00e0rbara\", \"Santa B\\u00e0rbara\", \"Santa B\\u00e0rbara\", \"Santa B\\u00e0rbara\", \"Santa B\\u00e0rbara\", \"Santa B\\u00e0rbara\", \"Vetusta FC\", \"Vetusta FC\", \"Vetusta FC\", \"Vetusta FC\", \"Vetusta FC\", \"Vetusta FC\", \"Vetusta FC\", \"Vetusta FC\", \"Vetusta FC\", \"Vetusta FC\", \"Vetusta FC\", \"Vetusta FC\", \"Vetusta FC\", \"ValeronBalonDeOro\", \"ValeronBalonDeOro\", \"ValeronBalonDeOro\", \"ValeronBalonDeOro\", \"ValeronBalonDeOro\", \"ValeronBalonDeOro\", \"ValeronBalonDeOro\", \"ValeronBalonDeOro\", \"ValeronBalonDeOro\", \"ValeronBalonDeOro\", \"ValeronBalonDeOro\", \"ValeronBalonDeOro\"], \"x0\": \" \", \"xaxis\": \"x\", \"y\": [1240658, 60810, 1870528, 2425110, 2688060, 25120, 407440, 310880, 343500, 183456, 90508, 270423, 104321, 2432460, 1370394, 1280759, 249700, 1440000, 30000, 190000, 270000, 40000, 150000, 560000, 350000, 20000, 0, 13950000, 4290000, 1079804, 0, 2800023, 3380000, 610009, 360003, 250022, 110001, 51, 2650000, 400002, 190999, 19495, 3780003, 5070006, 3110006, 2870000, 1120000, 3940000, 4480000, 780000, 2080000, 840000, 60000, 10000, 2000, 1000000, 1320000, 0, 670000, 3100000, 1770000, 20000, 100, 2710000, 2820000, 1140000, 149900, 2520005, 3630000, 1430000, 2970000, 780500, 99900, 180000, 1760005, 2370000, 49995, 130000, 1454990, 83030, 559500, 0, 2837310, 4179640, 1309090, 3510880, 333030, 1272440, 703820, 796100, 120000, 40000, 10000, 110360, 589000, 2290000, 1430000, 700000, 40000, 139900, 30000, 109999, 0, 1150000, 40000, 760001, 100000, 381000, 1110000, 1509000, 4000, 4943000, 3094000, 40000, 50000, 3024000, 1080000, 20000, 71000], \"y0\": \" \", \"yaxis\": \"y\"}],\n",
       "                        {\"height\": 600, \"legend\": {\"tracegroupgap\": 0}, \"margin\": {\"t\": 60}, \"template\": {\"data\": {\"bar\": [{\"error_x\": {\"color\": \"#2a3f5f\"}, \"error_y\": {\"color\": \"#2a3f5f\"}, \"marker\": {\"line\": {\"color\": \"#E5ECF6\", \"width\": 0.5}}, \"type\": \"bar\"}], \"barpolar\": [{\"marker\": {\"line\": {\"color\": \"#E5ECF6\", \"width\": 0.5}}, \"type\": \"barpolar\"}], \"carpet\": [{\"aaxis\": {\"endlinecolor\": \"#2a3f5f\", \"gridcolor\": \"white\", \"linecolor\": \"white\", \"minorgridcolor\": \"white\", \"startlinecolor\": \"#2a3f5f\"}, \"baxis\": {\"endlinecolor\": \"#2a3f5f\", \"gridcolor\": \"white\", \"linecolor\": \"white\", \"minorgridcolor\": \"white\", \"startlinecolor\": \"#2a3f5f\"}, \"type\": \"carpet\"}], \"choropleth\": [{\"colorbar\": {\"outlinewidth\": 0, \"ticks\": \"\"}, \"type\": \"choropleth\"}], \"contour\": [{\"colorbar\": {\"outlinewidth\": 0, \"ticks\": \"\"}, \"colorscale\": [[0.0, \"#0d0887\"], [0.1111111111111111, \"#46039f\"], [0.2222222222222222, \"#7201a8\"], [0.3333333333333333, \"#9c179e\"], [0.4444444444444444, \"#bd3786\"], [0.5555555555555556, \"#d8576b\"], [0.6666666666666666, \"#ed7953\"], [0.7777777777777778, \"#fb9f3a\"], [0.8888888888888888, \"#fdca26\"], [1.0, \"#f0f921\"]], \"type\": \"contour\"}], \"contourcarpet\": [{\"colorbar\": {\"outlinewidth\": 0, \"ticks\": \"\"}, \"type\": \"contourcarpet\"}], \"heatmap\": [{\"colorbar\": {\"outlinewidth\": 0, \"ticks\": \"\"}, \"colorscale\": [[0.0, \"#0d0887\"], [0.1111111111111111, \"#46039f\"], [0.2222222222222222, \"#7201a8\"], [0.3333333333333333, \"#9c179e\"], [0.4444444444444444, \"#bd3786\"], [0.5555555555555556, \"#d8576b\"], [0.6666666666666666, \"#ed7953\"], [0.7777777777777778, \"#fb9f3a\"], [0.8888888888888888, \"#fdca26\"], [1.0, \"#f0f921\"]], \"type\": \"heatmap\"}], \"heatmapgl\": [{\"colorbar\": {\"outlinewidth\": 0, \"ticks\": \"\"}, \"colorscale\": [[0.0, \"#0d0887\"], [0.1111111111111111, \"#46039f\"], [0.2222222222222222, \"#7201a8\"], [0.3333333333333333, \"#9c179e\"], [0.4444444444444444, \"#bd3786\"], [0.5555555555555556, \"#d8576b\"], [0.6666666666666666, \"#ed7953\"], [0.7777777777777778, \"#fb9f3a\"], [0.8888888888888888, \"#fdca26\"], [1.0, \"#f0f921\"]], \"type\": \"heatmapgl\"}], \"histogram\": [{\"marker\": {\"colorbar\": {\"outlinewidth\": 0, \"ticks\": \"\"}}, \"type\": \"histogram\"}], \"histogram2d\": [{\"colorbar\": {\"outlinewidth\": 0, \"ticks\": \"\"}, \"colorscale\": [[0.0, \"#0d0887\"], [0.1111111111111111, \"#46039f\"], [0.2222222222222222, \"#7201a8\"], [0.3333333333333333, \"#9c179e\"], [0.4444444444444444, \"#bd3786\"], [0.5555555555555556, \"#d8576b\"], [0.6666666666666666, \"#ed7953\"], [0.7777777777777778, \"#fb9f3a\"], [0.8888888888888888, \"#fdca26\"], [1.0, \"#f0f921\"]], \"type\": \"histogram2d\"}], \"histogram2dcontour\": [{\"colorbar\": {\"outlinewidth\": 0, \"ticks\": \"\"}, \"colorscale\": [[0.0, \"#0d0887\"], [0.1111111111111111, \"#46039f\"], [0.2222222222222222, \"#7201a8\"], [0.3333333333333333, \"#9c179e\"], [0.4444444444444444, \"#bd3786\"], [0.5555555555555556, \"#d8576b\"], [0.6666666666666666, \"#ed7953\"], [0.7777777777777778, \"#fb9f3a\"], [0.8888888888888888, \"#fdca26\"], [1.0, \"#f0f921\"]], \"type\": \"histogram2dcontour\"}], \"mesh3d\": [{\"colorbar\": {\"outlinewidth\": 0, \"ticks\": \"\"}, \"type\": \"mesh3d\"}], \"parcoords\": [{\"line\": {\"colorbar\": {\"outlinewidth\": 0, \"ticks\": \"\"}}, \"type\": \"parcoords\"}], \"scatter\": [{\"marker\": {\"colorbar\": {\"outlinewidth\": 0, \"ticks\": \"\"}}, \"type\": \"scatter\"}], \"scatter3d\": [{\"line\": {\"colorbar\": {\"outlinewidth\": 0, \"ticks\": \"\"}}, \"marker\": {\"colorbar\": {\"outlinewidth\": 0, \"ticks\": \"\"}}, \"type\": \"scatter3d\"}], \"scattercarpet\": [{\"marker\": {\"colorbar\": {\"outlinewidth\": 0, \"ticks\": \"\"}}, \"type\": \"scattercarpet\"}], \"scattergeo\": [{\"marker\": {\"colorbar\": {\"outlinewidth\": 0, \"ticks\": \"\"}}, \"type\": \"scattergeo\"}], \"scattergl\": [{\"marker\": {\"colorbar\": {\"outlinewidth\": 0, \"ticks\": \"\"}}, \"type\": \"scattergl\"}], \"scattermapbox\": [{\"marker\": {\"colorbar\": {\"outlinewidth\": 0, \"ticks\": \"\"}}, \"type\": \"scattermapbox\"}], \"scatterpolar\": [{\"marker\": {\"colorbar\": {\"outlinewidth\": 0, \"ticks\": \"\"}}, \"type\": \"scatterpolar\"}], \"scatterpolargl\": [{\"marker\": {\"colorbar\": {\"outlinewidth\": 0, \"ticks\": \"\"}}, \"type\": \"scatterpolargl\"}], \"scatterternary\": [{\"marker\": {\"colorbar\": {\"outlinewidth\": 0, \"ticks\": \"\"}}, \"type\": \"scatterternary\"}], \"surface\": [{\"colorbar\": {\"outlinewidth\": 0, \"ticks\": \"\"}, \"colorscale\": [[0.0, \"#0d0887\"], [0.1111111111111111, \"#46039f\"], [0.2222222222222222, \"#7201a8\"], [0.3333333333333333, \"#9c179e\"], [0.4444444444444444, \"#bd3786\"], [0.5555555555555556, \"#d8576b\"], [0.6666666666666666, \"#ed7953\"], [0.7777777777777778, \"#fb9f3a\"], [0.8888888888888888, \"#fdca26\"], [1.0, \"#f0f921\"]], \"type\": \"surface\"}], \"table\": [{\"cells\": {\"fill\": {\"color\": \"#EBF0F8\"}, \"line\": {\"color\": \"white\"}}, \"header\": {\"fill\": {\"color\": \"#C8D4E3\"}, \"line\": {\"color\": \"white\"}}, \"type\": \"table\"}]}, \"layout\": {\"annotationdefaults\": {\"arrowcolor\": \"#2a3f5f\", \"arrowhead\": 0, \"arrowwidth\": 1}, \"colorscale\": {\"diverging\": [[0, \"#8e0152\"], [0.1, \"#c51b7d\"], [0.2, \"#de77ae\"], [0.3, \"#f1b6da\"], [0.4, \"#fde0ef\"], [0.5, \"#f7f7f7\"], [0.6, \"#e6f5d0\"], [0.7, \"#b8e186\"], [0.8, \"#7fbc41\"], [0.9, \"#4d9221\"], [1, \"#276419\"]], \"sequential\": [[0.0, \"#0d0887\"], [0.1111111111111111, \"#46039f\"], [0.2222222222222222, \"#7201a8\"], [0.3333333333333333, \"#9c179e\"], [0.4444444444444444, \"#bd3786\"], [0.5555555555555556, \"#d8576b\"], [0.6666666666666666, \"#ed7953\"], [0.7777777777777778, \"#fb9f3a\"], [0.8888888888888888, \"#fdca26\"], [1.0, \"#f0f921\"]], \"sequentialminus\": [[0.0, \"#0d0887\"], [0.1111111111111111, \"#46039f\"], [0.2222222222222222, \"#7201a8\"], [0.3333333333333333, \"#9c179e\"], [0.4444444444444444, \"#bd3786\"], [0.5555555555555556, \"#d8576b\"], [0.6666666666666666, \"#ed7953\"], [0.7777777777777778, \"#fb9f3a\"], [0.8888888888888888, \"#fdca26\"], [1.0, \"#f0f921\"]]}, \"colorway\": [\"#636efa\", \"#EF553B\", \"#00cc96\", \"#ab63fa\", \"#FFA15A\", \"#19d3f3\", \"#FF6692\", \"#B6E880\", \"#FF97FF\", \"#FECB52\"], \"font\": {\"color\": \"#2a3f5f\"}, \"geo\": {\"bgcolor\": \"white\", \"lakecolor\": \"white\", \"landcolor\": \"#E5ECF6\", \"showlakes\": true, \"showland\": true, \"subunitcolor\": \"white\"}, \"hoverlabel\": {\"align\": \"left\"}, \"hovermode\": \"closest\", \"mapbox\": {\"style\": \"light\"}, \"paper_bgcolor\": \"white\", \"plot_bgcolor\": \"#E5ECF6\", \"polar\": {\"angularaxis\": {\"gridcolor\": \"white\", \"linecolor\": \"white\", \"ticks\": \"\"}, \"bgcolor\": \"#E5ECF6\", \"radialaxis\": {\"gridcolor\": \"white\", \"linecolor\": \"white\", \"ticks\": \"\"}}, \"scene\": {\"xaxis\": {\"backgroundcolor\": \"#E5ECF6\", \"gridcolor\": \"white\", \"gridwidth\": 2, \"linecolor\": \"white\", \"showbackground\": true, \"ticks\": \"\", \"zerolinecolor\": \"white\"}, \"yaxis\": {\"backgroundcolor\": \"#E5ECF6\", \"gridcolor\": \"white\", \"gridwidth\": 2, \"linecolor\": \"white\", \"showbackground\": true, \"ticks\": \"\", \"zerolinecolor\": \"white\"}, \"zaxis\": {\"backgroundcolor\": \"#E5ECF6\", \"gridcolor\": \"white\", \"gridwidth\": 2, \"linecolor\": \"white\", \"showbackground\": true, \"ticks\": \"\", \"zerolinecolor\": \"white\"}}, \"shapedefaults\": {\"line\": {\"color\": \"#2a3f5f\"}}, \"ternary\": {\"aaxis\": {\"gridcolor\": \"white\", \"linecolor\": \"white\", \"ticks\": \"\"}, \"baxis\": {\"gridcolor\": \"white\", \"linecolor\": \"white\", \"ticks\": \"\"}, \"bgcolor\": \"#E5ECF6\", \"caxis\": {\"gridcolor\": \"white\", \"linecolor\": \"white\", \"ticks\": \"\"}}, \"title\": {\"x\": 0.05}, \"xaxis\": {\"automargin\": true, \"gridcolor\": \"white\", \"linecolor\": \"white\", \"ticks\": \"\", \"zerolinecolor\": \"white\", \"zerolinewidth\": 2}, \"yaxis\": {\"automargin\": true, \"gridcolor\": \"white\", \"linecolor\": \"white\", \"ticks\": \"\", \"zerolinecolor\": \"white\", \"zerolinewidth\": 2}}}, \"violinmode\": \"group\", \"xaxis\": {\"anchor\": \"y\", \"domain\": [0.0, 0.98], \"title\": {\"text\": \"Team\"}}, \"yaxis\": {\"anchor\": \"x\", \"domain\": [0.0, 1.0], \"title\": {\"text\": \"Paid price - Market value\"}}},\n",
       "                        {\"responsive\": true}\n",
       "                    ).then(function(){\n",
       "                            \n",
       "var gd = document.getElementById('eb70dea3-f825-4fed-98bc-9a4eb9d0b886');\n",
       "var x = new MutationObserver(function (mutations, observer) {{\n",
       "        var display = window.getComputedStyle(gd).display;\n",
       "        if (!display || display === 'none') {{\n",
       "            console.log([gd, 'removed!']);\n",
       "            Plotly.purge(gd);\n",
       "            observer.disconnect();\n",
       "        }}\n",
       "}});\n",
       "\n",
       "// Listen for the removal of the full notebook cells\n",
       "var notebookContainer = gd.closest('#notebook-container');\n",
       "if (notebookContainer) {{\n",
       "    x.observe(notebookContainer, {childList: true});\n",
       "}}\n",
       "\n",
       "// Listen for the clearing of the current output cell\n",
       "var outputEl = gd.closest('.output');\n",
       "if (outputEl) {{\n",
       "    x.observe(outputEl, {childList: true});\n",
       "}}\n",
       "\n",
       "                        })\n",
       "                };\n",
       "                });\n",
       "            </script>\n",
       "        </div>"
      ]
     },
     "metadata": {},
     "output_type": "display_data"
    }
   ],
   "source": [
    "fig = px.violin(player_transfers.loc[player_transfers.team != \"Bayern de Segunda\"], y=\"increment\", x=\"team\", points=\"all\", hover_name=\"player\")\n",
    "fig.update_yaxes(title_text='Paid price - Market value')\n",
    "fig.update_xaxes(title_text='Team')\n",
    "fig.show()"
   ]
  },
  {
   "cell_type": "code",
   "execution_count": 24,
   "metadata": {},
   "outputs": [
    {
     "data": {
      "application/vnd.plotly.v1+json": {
       "config": {
        "plotlyServerURL": "https://plot.ly"
       },
       "data": [
        {
         "alignmentgroup": "True",
         "box": {
          "visible": false
         },
         "hoverlabel": {
          "namelength": 0
         },
         "hovertemplate": "<b>%{hovertext}</b><br><br>team=%{x}<br>relative_increment=%{y}",
         "hovertext": [
          "Ter Stegen",
          "Neto",
          "Sergi Roberto",
          "Hugo Mallo",
          "Ferland Mendy",
          "Raíllo",
          "Pere Pons",
          "Rubén Pérez",
          "Vitolo",
          "Lucas Vázquez",
          "Roque Mesa",
          "Barrenetxea",
          "Fede Valverde",
          "Borja Iglesias",
          "Vinícius",
          "Dembélé",
          "Rubén Blanco",
          "Zaldua",
          "Rubén Duarte",
          "Joan Sastre",
          "Javi López",
          "Odriozola",
          "Mathías Olivera",
          "Portillo",
          "Camarasa",
          "Fran Beltrán",
          "Riqui Puig",
          "Messi",
          "Rodrigo",
          "Gameiro",
          "Sobrino",
          "Cillessen",
          "Yuri",
          "Alberto Moreno",
          "Germán Sánchez",
          "Arbilla",
          "Rodrigo Ely",
          "Francis",
          "Campaña",
          "Yokuslu",
          "Szymanowski",
          "Pione Sisto",
          "Iago Aspas",
          "Williams",
          "Gerard Moreno",
          "Vaclík",
          "Oier Olazábal",
          "Varane",
          "Djené",
          "Pedraza",
          "Felipe Monteiro",
          "Renan Lodi",
          "Sidnei",
          "Aridane Hernández",
          "Todibo",
          "James Rodríguez",
          "Óliver Torres",
          "Iturraspe",
          "Portu",
          "Santi Mina",
          "Luuk de Jong",
          "Nolito",
          "Sergio Álvarez",
          "Siovas",
          "Damián Suárez",
          "Coke",
          "Mario Gaspar",
          "Orellana",
          "Saúl",
          "Banega",
          "William Carvalho",
          "Granero",
          "Kang-in Lee",
          "Recio",
          "Ekambi",
          "Wu Lei",
          "Matías Vargas",
          "Manolo Reina",
          "Ximo Navarro",
          "David López",
          "David Costas",
          "José Antonio Martínez",
          "Frenkie de Jong",
          "Koke",
          "Marc Roca",
          "Arthur",
          "Ferrán Torres",
          "Aleña",
          "Ángel Rodríguez",
          "Sandro",
          "Sergi Guardiola",
          "Malcom",
          "De Blasis",
          "Beauvue",
          "Herrerín",
          "Garay",
          "Yeray",
          "Diego Llorente",
          "Piccini",
          "Capa",
          "Cabaco",
          "Aleix Febas",
          "Cáseres",
          "Willian José",
          "Lucas Pérez",
          "Lucas Ocampos",
          "Lago Junior",
          "Rubén",
          "Wass",
          "Rosales",
          "Diakhaby",
          "Kroos",
          "Bardhi",
          "Salva Sevilla",
          "Vesga",
          "Sergi Enrich",
          "Sergio León",
          "Quique González",
          "Guidetti"
         ],
         "legendgroup": "",
         "marker": {
          "color": "#636efa"
         },
         "name": "",
         "offsetgroup": "",
         "orientation": "v",
         "points": "all",
         "scalegroup": "True",
         "showlegend": false,
         "type": "violin",
         "x": [
          "FC Datalona",
          "FC Datalona",
          "FC Datalona",
          "FC Datalona",
          "FC Datalona",
          "FC Datalona",
          "FC Datalona",
          "FC Datalona",
          "FC Datalona",
          "FC Datalona",
          "FC Datalona",
          "FC Datalona",
          "FC Datalona",
          "FC Datalona",
          "FC Datalona",
          "FC Datalona",
          "U. B. Conquense",
          "U. B. Conquense",
          "U. B. Conquense",
          "U. B. Conquense",
          "U. B. Conquense",
          "U. B. Conquense",
          "U. B. Conquense",
          "U. B. Conquense",
          "U. B. Conquense",
          "U. B. Conquense",
          "U. B. Conquense",
          "U. B. Conquense",
          "U. B. Conquense",
          "U. B. Conquense",
          "U. B. Conquense",
          "Pastafarianism United",
          "Pastafarianism United",
          "Pastafarianism United",
          "Pastafarianism United",
          "Pastafarianism United",
          "Pastafarianism United",
          "Pastafarianism United",
          "Pastafarianism United",
          "Pastafarianism United",
          "Pastafarianism United",
          "Pastafarianism United",
          "Pastafarianism United",
          "Pastafarianism United",
          "Pastafarianism United",
          "Thomas Party",
          "Thomas Party",
          "Thomas Party",
          "Thomas Party",
          "Thomas Party",
          "Thomas Party",
          "Thomas Party",
          "Thomas Party",
          "Thomas Party",
          "Thomas Party",
          "Thomas Party",
          "Thomas Party",
          "Thomas Party",
          "Thomas Party",
          "Thomas Party",
          "Thomas Party",
          "Thomas Party",
          "Camping Ballena Alegre",
          "Camping Ballena Alegre",
          "Camping Ballena Alegre",
          "Camping Ballena Alegre",
          "Camping Ballena Alegre",
          "Camping Ballena Alegre",
          "Camping Ballena Alegre",
          "Camping Ballena Alegre",
          "Camping Ballena Alegre",
          "Camping Ballena Alegre",
          "Camping Ballena Alegre",
          "Camping Ballena Alegre",
          "Camping Ballena Alegre",
          "Camping Ballena Alegre",
          "Camping Ballena Alegre",
          "Santa Bàrbara",
          "Santa Bàrbara",
          "Santa Bàrbara",
          "Santa Bàrbara",
          "Santa Bàrbara",
          "Santa Bàrbara",
          "Santa Bàrbara",
          "Santa Bàrbara",
          "Santa Bàrbara",
          "Santa Bàrbara",
          "Santa Bàrbara",
          "Santa Bàrbara",
          "Santa Bàrbara",
          "Santa Bàrbara",
          "Santa Bàrbara",
          "Santa Bàrbara",
          "Santa Bàrbara",
          "Vetusta FC",
          "Vetusta FC",
          "Vetusta FC",
          "Vetusta FC",
          "Vetusta FC",
          "Vetusta FC",
          "Vetusta FC",
          "Vetusta FC",
          "Vetusta FC",
          "Vetusta FC",
          "Vetusta FC",
          "Vetusta FC",
          "Vetusta FC",
          "ValeronBalonDeOro",
          "ValeronBalonDeOro",
          "ValeronBalonDeOro",
          "ValeronBalonDeOro",
          "ValeronBalonDeOro",
          "ValeronBalonDeOro",
          "ValeronBalonDeOro",
          "ValeronBalonDeOro",
          "ValeronBalonDeOro",
          "ValeronBalonDeOro",
          "ValeronBalonDeOro",
          "ValeronBalonDeOro"
         ],
         "x0": " ",
         "xaxis": "x",
         "y": [
          0.23017773654916507,
          0.1293829787234042,
          0.5617201201201201,
          0.7508080495356038,
          1.1342025316455695,
          0.02284134720302622,
          0.17119327731092437,
          0.18180116959064319,
          0.8317191283292977,
          0.19516595744680854,
          0.14837377049180334,
          0.6288906976744186,
          0.29806,
          0.24595146612740137,
          0.19220112201963535,
          0.303497393364929,
          0.24955026983809714,
          0.9795918367346939,
          0.03571428571428581,
          0.2567567567567568,
          0.4426229508196722,
          0.09090909090909083,
          0.6521739130434783,
          0.7777777777777777,
          0.6140350877192982,
          0.04166666666666674,
          0,
          0.61077057793345,
          0.5225334957369061,
          0.33534285714285716,
          0,
          0.6965231343283582,
          1.305019305019305,
          0.44203550724637686,
          0.3789505263157895,
          0.6945055555555555,
          0.7333400000000001,
          0.00034000000000000696,
          0.6206088992974239,
          0.3539840707964601,
          1.4921563725566789,
          0.07193461495885756,
          0.25471718328840964,
          0.6525104247104248,
          0.8184226315789473,
          0.8618618618618619,
          6.222222222222222,
          1.1036414565826331,
          1.3293768545994067,
          0.2977099236641221,
          0.8559670781893005,
          0.35593220338983045,
          0.09523809523809534,
          0.023255813953488413,
          0.01333333333333342,
          0.2298850574712643,
          0.7857142857142858,
          0,
          0.12050359712230208,
          0.6997742663656885,
          0.4214285714285715,
          0.0219780219780219,
          0.0006666666666665932,
          0.8914473684210527,
          1.0291970802919708,
          0.8028169014084507,
          0.2938063504508035,
          0.6331670854271356,
          0.9331619537275064,
          0.46579804560260585,
          1.1467181467181469,
          0.45377906976744176,
          0.4536784741144415,
          0.4864864864864864,
          0.46808643617021284,
          0.7053571428571428,
          0.018937428267317147,
          0.12380952380952381,
          1.2543017241379308,
          0.20757500000000007,
          3.7300000000000004,
          0,
          0.36610451612903216,
          0.8179334637964775,
          0.34632010582010575,
          1.0736636085626912,
          0.605509090909091,
          2.447,
          0.21199397590361446,
          0.392167487684729,
          0.06936416184971095,
          0.16666666666666674,
          0.0625,
          0.7357333333333334,
          0.3900662251655629,
          0.7292993630573248,
          0.662037037037037,
          0.35532994923857864,
          0.03960396039603964,
          0.17704378638319418,
          0.16666666666666674,
          0.6874851564355446,
          0,
          0.20795660036166375,
          0.012084592145015005,
          0.2241890855457227,
          0.03460207612456756,
          0.34017857142857144,
          0.3712374581939799,
          1.2169354838709676,
          0.014705882352941124,
          1.188221153846154,
          0.9549382716049384,
          0.020408163265306145,
          0.2777777777777777,
          0.9135951661631421,
          0.6923076923076923,
          0.026315789473684292,
          0.4733333333333334
         ],
         "y0": " ",
         "yaxis": "y"
        }
       ],
       "layout": {
        "height": 600,
        "legend": {
         "tracegroupgap": 0
        },
        "margin": {
         "t": 60
        },
        "template": {
         "data": {
          "bar": [
           {
            "error_x": {
             "color": "#2a3f5f"
            },
            "error_y": {
             "color": "#2a3f5f"
            },
            "marker": {
             "line": {
              "color": "#E5ECF6",
              "width": 0.5
             }
            },
            "type": "bar"
           }
          ],
          "barpolar": [
           {
            "marker": {
             "line": {
              "color": "#E5ECF6",
              "width": 0.5
             }
            },
            "type": "barpolar"
           }
          ],
          "carpet": [
           {
            "aaxis": {
             "endlinecolor": "#2a3f5f",
             "gridcolor": "white",
             "linecolor": "white",
             "minorgridcolor": "white",
             "startlinecolor": "#2a3f5f"
            },
            "baxis": {
             "endlinecolor": "#2a3f5f",
             "gridcolor": "white",
             "linecolor": "white",
             "minorgridcolor": "white",
             "startlinecolor": "#2a3f5f"
            },
            "type": "carpet"
           }
          ],
          "choropleth": [
           {
            "colorbar": {
             "outlinewidth": 0,
             "ticks": ""
            },
            "type": "choropleth"
           }
          ],
          "contour": [
           {
            "colorbar": {
             "outlinewidth": 0,
             "ticks": ""
            },
            "colorscale": [
             [
              0,
              "#0d0887"
             ],
             [
              0.1111111111111111,
              "#46039f"
             ],
             [
              0.2222222222222222,
              "#7201a8"
             ],
             [
              0.3333333333333333,
              "#9c179e"
             ],
             [
              0.4444444444444444,
              "#bd3786"
             ],
             [
              0.5555555555555556,
              "#d8576b"
             ],
             [
              0.6666666666666666,
              "#ed7953"
             ],
             [
              0.7777777777777778,
              "#fb9f3a"
             ],
             [
              0.8888888888888888,
              "#fdca26"
             ],
             [
              1,
              "#f0f921"
             ]
            ],
            "type": "contour"
           }
          ],
          "contourcarpet": [
           {
            "colorbar": {
             "outlinewidth": 0,
             "ticks": ""
            },
            "type": "contourcarpet"
           }
          ],
          "heatmap": [
           {
            "colorbar": {
             "outlinewidth": 0,
             "ticks": ""
            },
            "colorscale": [
             [
              0,
              "#0d0887"
             ],
             [
              0.1111111111111111,
              "#46039f"
             ],
             [
              0.2222222222222222,
              "#7201a8"
             ],
             [
              0.3333333333333333,
              "#9c179e"
             ],
             [
              0.4444444444444444,
              "#bd3786"
             ],
             [
              0.5555555555555556,
              "#d8576b"
             ],
             [
              0.6666666666666666,
              "#ed7953"
             ],
             [
              0.7777777777777778,
              "#fb9f3a"
             ],
             [
              0.8888888888888888,
              "#fdca26"
             ],
             [
              1,
              "#f0f921"
             ]
            ],
            "type": "heatmap"
           }
          ],
          "heatmapgl": [
           {
            "colorbar": {
             "outlinewidth": 0,
             "ticks": ""
            },
            "colorscale": [
             [
              0,
              "#0d0887"
             ],
             [
              0.1111111111111111,
              "#46039f"
             ],
             [
              0.2222222222222222,
              "#7201a8"
             ],
             [
              0.3333333333333333,
              "#9c179e"
             ],
             [
              0.4444444444444444,
              "#bd3786"
             ],
             [
              0.5555555555555556,
              "#d8576b"
             ],
             [
              0.6666666666666666,
              "#ed7953"
             ],
             [
              0.7777777777777778,
              "#fb9f3a"
             ],
             [
              0.8888888888888888,
              "#fdca26"
             ],
             [
              1,
              "#f0f921"
             ]
            ],
            "type": "heatmapgl"
           }
          ],
          "histogram": [
           {
            "marker": {
             "colorbar": {
              "outlinewidth": 0,
              "ticks": ""
             }
            },
            "type": "histogram"
           }
          ],
          "histogram2d": [
           {
            "colorbar": {
             "outlinewidth": 0,
             "ticks": ""
            },
            "colorscale": [
             [
              0,
              "#0d0887"
             ],
             [
              0.1111111111111111,
              "#46039f"
             ],
             [
              0.2222222222222222,
              "#7201a8"
             ],
             [
              0.3333333333333333,
              "#9c179e"
             ],
             [
              0.4444444444444444,
              "#bd3786"
             ],
             [
              0.5555555555555556,
              "#d8576b"
             ],
             [
              0.6666666666666666,
              "#ed7953"
             ],
             [
              0.7777777777777778,
              "#fb9f3a"
             ],
             [
              0.8888888888888888,
              "#fdca26"
             ],
             [
              1,
              "#f0f921"
             ]
            ],
            "type": "histogram2d"
           }
          ],
          "histogram2dcontour": [
           {
            "colorbar": {
             "outlinewidth": 0,
             "ticks": ""
            },
            "colorscale": [
             [
              0,
              "#0d0887"
             ],
             [
              0.1111111111111111,
              "#46039f"
             ],
             [
              0.2222222222222222,
              "#7201a8"
             ],
             [
              0.3333333333333333,
              "#9c179e"
             ],
             [
              0.4444444444444444,
              "#bd3786"
             ],
             [
              0.5555555555555556,
              "#d8576b"
             ],
             [
              0.6666666666666666,
              "#ed7953"
             ],
             [
              0.7777777777777778,
              "#fb9f3a"
             ],
             [
              0.8888888888888888,
              "#fdca26"
             ],
             [
              1,
              "#f0f921"
             ]
            ],
            "type": "histogram2dcontour"
           }
          ],
          "mesh3d": [
           {
            "colorbar": {
             "outlinewidth": 0,
             "ticks": ""
            },
            "type": "mesh3d"
           }
          ],
          "parcoords": [
           {
            "line": {
             "colorbar": {
              "outlinewidth": 0,
              "ticks": ""
             }
            },
            "type": "parcoords"
           }
          ],
          "scatter": [
           {
            "marker": {
             "colorbar": {
              "outlinewidth": 0,
              "ticks": ""
             }
            },
            "type": "scatter"
           }
          ],
          "scatter3d": [
           {
            "line": {
             "colorbar": {
              "outlinewidth": 0,
              "ticks": ""
             }
            },
            "marker": {
             "colorbar": {
              "outlinewidth": 0,
              "ticks": ""
             }
            },
            "type": "scatter3d"
           }
          ],
          "scattercarpet": [
           {
            "marker": {
             "colorbar": {
              "outlinewidth": 0,
              "ticks": ""
             }
            },
            "type": "scattercarpet"
           }
          ],
          "scattergeo": [
           {
            "marker": {
             "colorbar": {
              "outlinewidth": 0,
              "ticks": ""
             }
            },
            "type": "scattergeo"
           }
          ],
          "scattergl": [
           {
            "marker": {
             "colorbar": {
              "outlinewidth": 0,
              "ticks": ""
             }
            },
            "type": "scattergl"
           }
          ],
          "scattermapbox": [
           {
            "marker": {
             "colorbar": {
              "outlinewidth": 0,
              "ticks": ""
             }
            },
            "type": "scattermapbox"
           }
          ],
          "scatterpolar": [
           {
            "marker": {
             "colorbar": {
              "outlinewidth": 0,
              "ticks": ""
             }
            },
            "type": "scatterpolar"
           }
          ],
          "scatterpolargl": [
           {
            "marker": {
             "colorbar": {
              "outlinewidth": 0,
              "ticks": ""
             }
            },
            "type": "scatterpolargl"
           }
          ],
          "scatterternary": [
           {
            "marker": {
             "colorbar": {
              "outlinewidth": 0,
              "ticks": ""
             }
            },
            "type": "scatterternary"
           }
          ],
          "surface": [
           {
            "colorbar": {
             "outlinewidth": 0,
             "ticks": ""
            },
            "colorscale": [
             [
              0,
              "#0d0887"
             ],
             [
              0.1111111111111111,
              "#46039f"
             ],
             [
              0.2222222222222222,
              "#7201a8"
             ],
             [
              0.3333333333333333,
              "#9c179e"
             ],
             [
              0.4444444444444444,
              "#bd3786"
             ],
             [
              0.5555555555555556,
              "#d8576b"
             ],
             [
              0.6666666666666666,
              "#ed7953"
             ],
             [
              0.7777777777777778,
              "#fb9f3a"
             ],
             [
              0.8888888888888888,
              "#fdca26"
             ],
             [
              1,
              "#f0f921"
             ]
            ],
            "type": "surface"
           }
          ],
          "table": [
           {
            "cells": {
             "fill": {
              "color": "#EBF0F8"
             },
             "line": {
              "color": "white"
             }
            },
            "header": {
             "fill": {
              "color": "#C8D4E3"
             },
             "line": {
              "color": "white"
             }
            },
            "type": "table"
           }
          ]
         },
         "layout": {
          "annotationdefaults": {
           "arrowcolor": "#2a3f5f",
           "arrowhead": 0,
           "arrowwidth": 1
          },
          "colorscale": {
           "diverging": [
            [
             0,
             "#8e0152"
            ],
            [
             0.1,
             "#c51b7d"
            ],
            [
             0.2,
             "#de77ae"
            ],
            [
             0.3,
             "#f1b6da"
            ],
            [
             0.4,
             "#fde0ef"
            ],
            [
             0.5,
             "#f7f7f7"
            ],
            [
             0.6,
             "#e6f5d0"
            ],
            [
             0.7,
             "#b8e186"
            ],
            [
             0.8,
             "#7fbc41"
            ],
            [
             0.9,
             "#4d9221"
            ],
            [
             1,
             "#276419"
            ]
           ],
           "sequential": [
            [
             0,
             "#0d0887"
            ],
            [
             0.1111111111111111,
             "#46039f"
            ],
            [
             0.2222222222222222,
             "#7201a8"
            ],
            [
             0.3333333333333333,
             "#9c179e"
            ],
            [
             0.4444444444444444,
             "#bd3786"
            ],
            [
             0.5555555555555556,
             "#d8576b"
            ],
            [
             0.6666666666666666,
             "#ed7953"
            ],
            [
             0.7777777777777778,
             "#fb9f3a"
            ],
            [
             0.8888888888888888,
             "#fdca26"
            ],
            [
             1,
             "#f0f921"
            ]
           ],
           "sequentialminus": [
            [
             0,
             "#0d0887"
            ],
            [
             0.1111111111111111,
             "#46039f"
            ],
            [
             0.2222222222222222,
             "#7201a8"
            ],
            [
             0.3333333333333333,
             "#9c179e"
            ],
            [
             0.4444444444444444,
             "#bd3786"
            ],
            [
             0.5555555555555556,
             "#d8576b"
            ],
            [
             0.6666666666666666,
             "#ed7953"
            ],
            [
             0.7777777777777778,
             "#fb9f3a"
            ],
            [
             0.8888888888888888,
             "#fdca26"
            ],
            [
             1,
             "#f0f921"
            ]
           ]
          },
          "colorway": [
           "#636efa",
           "#EF553B",
           "#00cc96",
           "#ab63fa",
           "#FFA15A",
           "#19d3f3",
           "#FF6692",
           "#B6E880",
           "#FF97FF",
           "#FECB52"
          ],
          "font": {
           "color": "#2a3f5f"
          },
          "geo": {
           "bgcolor": "white",
           "lakecolor": "white",
           "landcolor": "#E5ECF6",
           "showlakes": true,
           "showland": true,
           "subunitcolor": "white"
          },
          "hoverlabel": {
           "align": "left"
          },
          "hovermode": "closest",
          "mapbox": {
           "style": "light"
          },
          "paper_bgcolor": "white",
          "plot_bgcolor": "#E5ECF6",
          "polar": {
           "angularaxis": {
            "gridcolor": "white",
            "linecolor": "white",
            "ticks": ""
           },
           "bgcolor": "#E5ECF6",
           "radialaxis": {
            "gridcolor": "white",
            "linecolor": "white",
            "ticks": ""
           }
          },
          "scene": {
           "xaxis": {
            "backgroundcolor": "#E5ECF6",
            "gridcolor": "white",
            "gridwidth": 2,
            "linecolor": "white",
            "showbackground": true,
            "ticks": "",
            "zerolinecolor": "white"
           },
           "yaxis": {
            "backgroundcolor": "#E5ECF6",
            "gridcolor": "white",
            "gridwidth": 2,
            "linecolor": "white",
            "showbackground": true,
            "ticks": "",
            "zerolinecolor": "white"
           },
           "zaxis": {
            "backgroundcolor": "#E5ECF6",
            "gridcolor": "white",
            "gridwidth": 2,
            "linecolor": "white",
            "showbackground": true,
            "ticks": "",
            "zerolinecolor": "white"
           }
          },
          "shapedefaults": {
           "line": {
            "color": "#2a3f5f"
           }
          },
          "ternary": {
           "aaxis": {
            "gridcolor": "white",
            "linecolor": "white",
            "ticks": ""
           },
           "baxis": {
            "gridcolor": "white",
            "linecolor": "white",
            "ticks": ""
           },
           "bgcolor": "#E5ECF6",
           "caxis": {
            "gridcolor": "white",
            "linecolor": "white",
            "ticks": ""
           }
          },
          "title": {
           "x": 0.05
          },
          "xaxis": {
           "automargin": true,
           "gridcolor": "white",
           "linecolor": "white",
           "ticks": "",
           "zerolinecolor": "white",
           "zerolinewidth": 2
          },
          "yaxis": {
           "automargin": true,
           "gridcolor": "white",
           "linecolor": "white",
           "ticks": "",
           "zerolinecolor": "white",
           "zerolinewidth": 2
          }
         }
        },
        "violinmode": "group",
        "xaxis": {
         "anchor": "y",
         "domain": [
          0,
          0.98
         ],
         "title": {
          "text": "Team"
         }
        },
        "yaxis": {
         "anchor": "x",
         "domain": [
          0,
          1
         ],
         "tickformat": "%",
         "title": {
          "text": "Relative increment"
         }
        }
       }
      },
      "text/html": [
       "<div>\n",
       "        \n",
       "        \n",
       "            <div id=\"fcc569c0-7ed5-4567-8b07-f9f406de3854\" class=\"plotly-graph-div\" style=\"height:600px; width:100%;\"></div>\n",
       "            <script type=\"text/javascript\">\n",
       "                require([\"plotly\"], function(Plotly) {\n",
       "                    window.PLOTLYENV=window.PLOTLYENV || {};\n",
       "                    \n",
       "                if (document.getElementById(\"fcc569c0-7ed5-4567-8b07-f9f406de3854\")) {\n",
       "                    Plotly.newPlot(\n",
       "                        'fcc569c0-7ed5-4567-8b07-f9f406de3854',\n",
       "                        [{\"alignmentgroup\": \"True\", \"box\": {\"visible\": false}, \"hoverlabel\": {\"namelength\": 0}, \"hovertemplate\": \"<b>%{hovertext}</b><br><br>team=%{x}<br>relative_increment=%{y}\", \"hovertext\": [\"Ter Stegen\", \"Neto\", \"Sergi Roberto\", \"Hugo Mallo\", \"Ferland Mendy\", \"Ra\\u00edllo\", \"Pere Pons\", \"Rub\\u00e9n P\\u00e9rez\", \"Vitolo\", \"Lucas V\\u00e1zquez\", \"Roque Mesa\", \"Barrenetxea\", \"Fede Valverde\", \"Borja Iglesias\", \"Vin\\u00edcius\", \"Demb\\u00e9l\\u00e9\", \"Rub\\u00e9n Blanco\", \"Zaldua\", \"Rub\\u00e9n Duarte\", \"Joan Sastre\", \"Javi L\\u00f3pez\", \"Odriozola\", \"Math\\u00edas Olivera\", \"Portillo\", \"Camarasa\", \"Fran Beltr\\u00e1n\", \"Riqui Puig\", \"Messi\", \"Rodrigo\", \"Gameiro\", \"Sobrino\", \"Cillessen\", \"Yuri\", \"Alberto Moreno\", \"Germ\\u00e1n S\\u00e1nchez\", \"Arbilla\", \"Rodrigo Ely\", \"Francis\", \"Campa\\u00f1a\", \"Yokuslu\", \"Szymanowski\", \"Pione Sisto\", \"Iago Aspas\", \"Williams\", \"Gerard Moreno\", \"Vacl\\u00edk\", \"Oier Olaz\\u00e1bal\", \"Varane\", \"Djen\\u00e9\", \"Pedraza\", \"Felipe Monteiro\", \"Renan Lodi\", \"Sidnei\", \"Aridane Hern\\u00e1ndez\", \"Todibo\", \"James Rodr\\u00edguez\", \"\\u00d3liver Torres\", \"Iturraspe\", \"Portu\", \"Santi Mina\", \"Luuk de Jong\", \"Nolito\", \"Sergio \\u00c1lvarez\", \"Siovas\", \"Dami\\u00e1n Su\\u00e1rez\", \"Coke\", \"Mario Gaspar\", \"Orellana\", \"Sa\\u00fal\", \"Banega\", \"William Carvalho\", \"Granero\", \"Kang-in Lee\", \"Recio\", \"Ekambi\", \"Wu Lei\", \"Mat\\u00edas Vargas\", \"Manolo Reina\", \"Ximo Navarro\", \"David L\\u00f3pez\", \"David Costas\", \"Jos\\u00e9 Antonio Mart\\u00ednez\", \"Frenkie de Jong\", \"Koke\", \"Marc Roca\", \"Arthur\", \"Ferr\\u00e1n Torres\", \"Ale\\u00f1a\", \"\\u00c1ngel Rodr\\u00edguez\", \"Sandro\", \"Sergi Guardiola\", \"Malcom\", \"De Blasis\", \"Beauvue\", \"Herrer\\u00edn\", \"Garay\", \"Yeray\", \"Diego Llorente\", \"Piccini\", \"Capa\", \"Cabaco\", \"Aleix Febas\", \"C\\u00e1seres\", \"Willian Jos\\u00e9\", \"Lucas P\\u00e9rez\", \"Lucas Ocampos\", \"Lago Junior\", \"Rub\\u00e9n\", \"Wass\", \"Rosales\", \"Diakhaby\", \"Kroos\", \"Bardhi\", \"Salva Sevilla\", \"Vesga\", \"Sergi Enrich\", \"Sergio Le\\u00f3n\", \"Quique Gonz\\u00e1lez\", \"Guidetti\"], \"legendgroup\": \"\", \"marker\": {\"color\": \"#636efa\"}, \"name\": \"\", \"offsetgroup\": \"\", \"orientation\": \"v\", \"points\": \"all\", \"scalegroup\": \"True\", \"showlegend\": false, \"type\": \"violin\", \"x\": [\"FC Datalona\", \"FC Datalona\", \"FC Datalona\", \"FC Datalona\", \"FC Datalona\", \"FC Datalona\", \"FC Datalona\", \"FC Datalona\", \"FC Datalona\", \"FC Datalona\", \"FC Datalona\", \"FC Datalona\", \"FC Datalona\", \"FC Datalona\", \"FC Datalona\", \"FC Datalona\", \"U. B. Conquense\", \"U. B. Conquense\", \"U. B. Conquense\", \"U. B. Conquense\", \"U. B. Conquense\", \"U. B. Conquense\", \"U. B. Conquense\", \"U. B. Conquense\", \"U. B. Conquense\", \"U. B. Conquense\", \"U. B. Conquense\", \"U. B. Conquense\", \"U. B. Conquense\", \"U. B. Conquense\", \"U. B. Conquense\", \"Pastafarianism United\", \"Pastafarianism United\", \"Pastafarianism United\", \"Pastafarianism United\", \"Pastafarianism United\", \"Pastafarianism United\", \"Pastafarianism United\", \"Pastafarianism United\", \"Pastafarianism United\", \"Pastafarianism United\", \"Pastafarianism United\", \"Pastafarianism United\", \"Pastafarianism United\", \"Pastafarianism United\", \"Thomas Party\", \"Thomas Party\", \"Thomas Party\", \"Thomas Party\", \"Thomas Party\", \"Thomas Party\", \"Thomas Party\", \"Thomas Party\", \"Thomas Party\", \"Thomas Party\", \"Thomas Party\", \"Thomas Party\", \"Thomas Party\", \"Thomas Party\", \"Thomas Party\", \"Thomas Party\", \"Thomas Party\", \"Camping Ballena Alegre\", \"Camping Ballena Alegre\", \"Camping Ballena Alegre\", \"Camping Ballena Alegre\", \"Camping Ballena Alegre\", \"Camping Ballena Alegre\", \"Camping Ballena Alegre\", \"Camping Ballena Alegre\", \"Camping Ballena Alegre\", \"Camping Ballena Alegre\", \"Camping Ballena Alegre\", \"Camping Ballena Alegre\", \"Camping Ballena Alegre\", \"Camping Ballena Alegre\", \"Camping Ballena Alegre\", \"Santa B\\u00e0rbara\", \"Santa B\\u00e0rbara\", \"Santa B\\u00e0rbara\", \"Santa B\\u00e0rbara\", \"Santa B\\u00e0rbara\", \"Santa B\\u00e0rbara\", \"Santa B\\u00e0rbara\", \"Santa B\\u00e0rbara\", \"Santa B\\u00e0rbara\", \"Santa B\\u00e0rbara\", \"Santa B\\u00e0rbara\", \"Santa B\\u00e0rbara\", \"Santa B\\u00e0rbara\", \"Santa B\\u00e0rbara\", \"Santa B\\u00e0rbara\", \"Santa B\\u00e0rbara\", \"Santa B\\u00e0rbara\", \"Vetusta FC\", \"Vetusta FC\", \"Vetusta FC\", \"Vetusta FC\", \"Vetusta FC\", \"Vetusta FC\", \"Vetusta FC\", \"Vetusta FC\", \"Vetusta FC\", \"Vetusta FC\", \"Vetusta FC\", \"Vetusta FC\", \"Vetusta FC\", \"ValeronBalonDeOro\", \"ValeronBalonDeOro\", \"ValeronBalonDeOro\", \"ValeronBalonDeOro\", \"ValeronBalonDeOro\", \"ValeronBalonDeOro\", \"ValeronBalonDeOro\", \"ValeronBalonDeOro\", \"ValeronBalonDeOro\", \"ValeronBalonDeOro\", \"ValeronBalonDeOro\", \"ValeronBalonDeOro\"], \"x0\": \" \", \"xaxis\": \"x\", \"y\": [0.23017773654916507, 0.1293829787234042, 0.5617201201201201, 0.7508080495356038, 1.1342025316455695, 0.02284134720302622, 0.17119327731092437, 0.18180116959064319, 0.8317191283292977, 0.19516595744680854, 0.14837377049180334, 0.6288906976744186, 0.29806, 0.24595146612740137, 0.19220112201963535, 0.303497393364929, 0.24955026983809714, 0.9795918367346939, 0.03571428571428581, 0.2567567567567568, 0.4426229508196722, 0.09090909090909083, 0.6521739130434783, 0.7777777777777777, 0.6140350877192982, 0.04166666666666674, 0.0, 0.61077057793345, 0.5225334957369061, 0.33534285714285716, 0.0, 0.6965231343283582, 1.305019305019305, 0.44203550724637686, 0.3789505263157895, 0.6945055555555555, 0.7333400000000001, 0.00034000000000000696, 0.6206088992974239, 0.3539840707964601, 1.4921563725566789, 0.07193461495885756, 0.25471718328840964, 0.6525104247104248, 0.8184226315789473, 0.8618618618618619, 6.222222222222222, 1.1036414565826331, 1.3293768545994067, 0.2977099236641221, 0.8559670781893005, 0.35593220338983045, 0.09523809523809534, 0.023255813953488413, 0.01333333333333342, 0.2298850574712643, 0.7857142857142858, 0.0, 0.12050359712230208, 0.6997742663656885, 0.4214285714285715, 0.0219780219780219, 0.0006666666666665932, 0.8914473684210527, 1.0291970802919708, 0.8028169014084507, 0.2938063504508035, 0.6331670854271356, 0.9331619537275064, 0.46579804560260585, 1.1467181467181469, 0.45377906976744176, 0.4536784741144415, 0.4864864864864864, 0.46808643617021284, 0.7053571428571428, 0.018937428267317147, 0.12380952380952381, 1.2543017241379308, 0.20757500000000007, 3.7300000000000004, 0.0, 0.36610451612903216, 0.8179334637964775, 0.34632010582010575, 1.0736636085626912, 0.605509090909091, 2.447, 0.21199397590361446, 0.392167487684729, 0.06936416184971095, 0.16666666666666674, 0.0625, 0.7357333333333334, 0.3900662251655629, 0.7292993630573248, 0.662037037037037, 0.35532994923857864, 0.03960396039603964, 0.17704378638319418, 0.16666666666666674, 0.6874851564355446, 0.0, 0.20795660036166375, 0.012084592145015005, 0.2241890855457227, 0.03460207612456756, 0.34017857142857144, 0.3712374581939799, 1.2169354838709676, 0.014705882352941124, 1.188221153846154, 0.9549382716049384, 0.020408163265306145, 0.2777777777777777, 0.9135951661631421, 0.6923076923076923, 0.026315789473684292, 0.4733333333333334], \"y0\": \" \", \"yaxis\": \"y\"}],\n",
       "                        {\"height\": 600, \"legend\": {\"tracegroupgap\": 0}, \"margin\": {\"t\": 60}, \"template\": {\"data\": {\"bar\": [{\"error_x\": {\"color\": \"#2a3f5f\"}, \"error_y\": {\"color\": \"#2a3f5f\"}, \"marker\": {\"line\": {\"color\": \"#E5ECF6\", \"width\": 0.5}}, \"type\": \"bar\"}], \"barpolar\": [{\"marker\": {\"line\": {\"color\": \"#E5ECF6\", \"width\": 0.5}}, \"type\": \"barpolar\"}], \"carpet\": [{\"aaxis\": {\"endlinecolor\": \"#2a3f5f\", \"gridcolor\": \"white\", \"linecolor\": \"white\", \"minorgridcolor\": \"white\", \"startlinecolor\": \"#2a3f5f\"}, \"baxis\": {\"endlinecolor\": \"#2a3f5f\", \"gridcolor\": \"white\", \"linecolor\": \"white\", \"minorgridcolor\": \"white\", \"startlinecolor\": \"#2a3f5f\"}, \"type\": \"carpet\"}], \"choropleth\": [{\"colorbar\": {\"outlinewidth\": 0, \"ticks\": \"\"}, \"type\": \"choropleth\"}], \"contour\": [{\"colorbar\": {\"outlinewidth\": 0, \"ticks\": \"\"}, \"colorscale\": [[0.0, \"#0d0887\"], [0.1111111111111111, \"#46039f\"], [0.2222222222222222, \"#7201a8\"], [0.3333333333333333, \"#9c179e\"], [0.4444444444444444, \"#bd3786\"], [0.5555555555555556, \"#d8576b\"], [0.6666666666666666, \"#ed7953\"], [0.7777777777777778, \"#fb9f3a\"], [0.8888888888888888, \"#fdca26\"], [1.0, \"#f0f921\"]], \"type\": \"contour\"}], \"contourcarpet\": [{\"colorbar\": {\"outlinewidth\": 0, \"ticks\": \"\"}, \"type\": \"contourcarpet\"}], \"heatmap\": [{\"colorbar\": {\"outlinewidth\": 0, \"ticks\": \"\"}, \"colorscale\": [[0.0, \"#0d0887\"], [0.1111111111111111, \"#46039f\"], [0.2222222222222222, \"#7201a8\"], [0.3333333333333333, \"#9c179e\"], [0.4444444444444444, \"#bd3786\"], [0.5555555555555556, \"#d8576b\"], [0.6666666666666666, \"#ed7953\"], [0.7777777777777778, \"#fb9f3a\"], [0.8888888888888888, \"#fdca26\"], [1.0, \"#f0f921\"]], \"type\": \"heatmap\"}], \"heatmapgl\": [{\"colorbar\": {\"outlinewidth\": 0, \"ticks\": \"\"}, \"colorscale\": [[0.0, \"#0d0887\"], [0.1111111111111111, \"#46039f\"], [0.2222222222222222, \"#7201a8\"], [0.3333333333333333, \"#9c179e\"], [0.4444444444444444, \"#bd3786\"], [0.5555555555555556, \"#d8576b\"], [0.6666666666666666, \"#ed7953\"], [0.7777777777777778, \"#fb9f3a\"], [0.8888888888888888, \"#fdca26\"], [1.0, \"#f0f921\"]], \"type\": \"heatmapgl\"}], \"histogram\": [{\"marker\": {\"colorbar\": {\"outlinewidth\": 0, \"ticks\": \"\"}}, \"type\": \"histogram\"}], \"histogram2d\": [{\"colorbar\": {\"outlinewidth\": 0, \"ticks\": \"\"}, \"colorscale\": [[0.0, \"#0d0887\"], [0.1111111111111111, \"#46039f\"], [0.2222222222222222, \"#7201a8\"], [0.3333333333333333, \"#9c179e\"], [0.4444444444444444, \"#bd3786\"], [0.5555555555555556, \"#d8576b\"], [0.6666666666666666, \"#ed7953\"], [0.7777777777777778, \"#fb9f3a\"], [0.8888888888888888, \"#fdca26\"], [1.0, \"#f0f921\"]], \"type\": \"histogram2d\"}], \"histogram2dcontour\": [{\"colorbar\": {\"outlinewidth\": 0, \"ticks\": \"\"}, \"colorscale\": [[0.0, \"#0d0887\"], [0.1111111111111111, \"#46039f\"], [0.2222222222222222, \"#7201a8\"], [0.3333333333333333, \"#9c179e\"], [0.4444444444444444, \"#bd3786\"], [0.5555555555555556, \"#d8576b\"], [0.6666666666666666, \"#ed7953\"], [0.7777777777777778, \"#fb9f3a\"], [0.8888888888888888, \"#fdca26\"], [1.0, \"#f0f921\"]], \"type\": \"histogram2dcontour\"}], \"mesh3d\": [{\"colorbar\": {\"outlinewidth\": 0, \"ticks\": \"\"}, \"type\": \"mesh3d\"}], \"parcoords\": [{\"line\": {\"colorbar\": {\"outlinewidth\": 0, \"ticks\": \"\"}}, \"type\": \"parcoords\"}], \"scatter\": [{\"marker\": {\"colorbar\": {\"outlinewidth\": 0, \"ticks\": \"\"}}, \"type\": \"scatter\"}], \"scatter3d\": [{\"line\": {\"colorbar\": {\"outlinewidth\": 0, \"ticks\": \"\"}}, \"marker\": {\"colorbar\": {\"outlinewidth\": 0, \"ticks\": \"\"}}, \"type\": \"scatter3d\"}], \"scattercarpet\": [{\"marker\": {\"colorbar\": {\"outlinewidth\": 0, \"ticks\": \"\"}}, \"type\": \"scattercarpet\"}], \"scattergeo\": [{\"marker\": {\"colorbar\": {\"outlinewidth\": 0, \"ticks\": \"\"}}, \"type\": \"scattergeo\"}], \"scattergl\": [{\"marker\": {\"colorbar\": {\"outlinewidth\": 0, \"ticks\": \"\"}}, \"type\": \"scattergl\"}], \"scattermapbox\": [{\"marker\": {\"colorbar\": {\"outlinewidth\": 0, \"ticks\": \"\"}}, \"type\": \"scattermapbox\"}], \"scatterpolar\": [{\"marker\": {\"colorbar\": {\"outlinewidth\": 0, \"ticks\": \"\"}}, \"type\": \"scatterpolar\"}], \"scatterpolargl\": [{\"marker\": {\"colorbar\": {\"outlinewidth\": 0, \"ticks\": \"\"}}, \"type\": \"scatterpolargl\"}], \"scatterternary\": [{\"marker\": {\"colorbar\": {\"outlinewidth\": 0, \"ticks\": \"\"}}, \"type\": \"scatterternary\"}], \"surface\": [{\"colorbar\": {\"outlinewidth\": 0, \"ticks\": \"\"}, \"colorscale\": [[0.0, \"#0d0887\"], [0.1111111111111111, \"#46039f\"], [0.2222222222222222, \"#7201a8\"], [0.3333333333333333, \"#9c179e\"], [0.4444444444444444, \"#bd3786\"], [0.5555555555555556, \"#d8576b\"], [0.6666666666666666, \"#ed7953\"], [0.7777777777777778, \"#fb9f3a\"], [0.8888888888888888, \"#fdca26\"], [1.0, \"#f0f921\"]], \"type\": \"surface\"}], \"table\": [{\"cells\": {\"fill\": {\"color\": \"#EBF0F8\"}, \"line\": {\"color\": \"white\"}}, \"header\": {\"fill\": {\"color\": \"#C8D4E3\"}, \"line\": {\"color\": \"white\"}}, \"type\": \"table\"}]}, \"layout\": {\"annotationdefaults\": {\"arrowcolor\": \"#2a3f5f\", \"arrowhead\": 0, \"arrowwidth\": 1}, \"colorscale\": {\"diverging\": [[0, \"#8e0152\"], [0.1, \"#c51b7d\"], [0.2, \"#de77ae\"], [0.3, \"#f1b6da\"], [0.4, \"#fde0ef\"], [0.5, \"#f7f7f7\"], [0.6, \"#e6f5d0\"], [0.7, \"#b8e186\"], [0.8, \"#7fbc41\"], [0.9, \"#4d9221\"], [1, \"#276419\"]], \"sequential\": [[0.0, \"#0d0887\"], [0.1111111111111111, \"#46039f\"], [0.2222222222222222, \"#7201a8\"], [0.3333333333333333, \"#9c179e\"], [0.4444444444444444, \"#bd3786\"], [0.5555555555555556, \"#d8576b\"], [0.6666666666666666, \"#ed7953\"], [0.7777777777777778, \"#fb9f3a\"], [0.8888888888888888, \"#fdca26\"], [1.0, \"#f0f921\"]], \"sequentialminus\": [[0.0, \"#0d0887\"], [0.1111111111111111, \"#46039f\"], [0.2222222222222222, \"#7201a8\"], [0.3333333333333333, \"#9c179e\"], [0.4444444444444444, \"#bd3786\"], [0.5555555555555556, \"#d8576b\"], [0.6666666666666666, \"#ed7953\"], [0.7777777777777778, \"#fb9f3a\"], [0.8888888888888888, \"#fdca26\"], [1.0, \"#f0f921\"]]}, \"colorway\": [\"#636efa\", \"#EF553B\", \"#00cc96\", \"#ab63fa\", \"#FFA15A\", \"#19d3f3\", \"#FF6692\", \"#B6E880\", \"#FF97FF\", \"#FECB52\"], \"font\": {\"color\": \"#2a3f5f\"}, \"geo\": {\"bgcolor\": \"white\", \"lakecolor\": \"white\", \"landcolor\": \"#E5ECF6\", \"showlakes\": true, \"showland\": true, \"subunitcolor\": \"white\"}, \"hoverlabel\": {\"align\": \"left\"}, \"hovermode\": \"closest\", \"mapbox\": {\"style\": \"light\"}, \"paper_bgcolor\": \"white\", \"plot_bgcolor\": \"#E5ECF6\", \"polar\": {\"angularaxis\": {\"gridcolor\": \"white\", \"linecolor\": \"white\", \"ticks\": \"\"}, \"bgcolor\": \"#E5ECF6\", \"radialaxis\": {\"gridcolor\": \"white\", \"linecolor\": \"white\", \"ticks\": \"\"}}, \"scene\": {\"xaxis\": {\"backgroundcolor\": \"#E5ECF6\", \"gridcolor\": \"white\", \"gridwidth\": 2, \"linecolor\": \"white\", \"showbackground\": true, \"ticks\": \"\", \"zerolinecolor\": \"white\"}, \"yaxis\": {\"backgroundcolor\": \"#E5ECF6\", \"gridcolor\": \"white\", \"gridwidth\": 2, \"linecolor\": \"white\", \"showbackground\": true, \"ticks\": \"\", \"zerolinecolor\": \"white\"}, \"zaxis\": {\"backgroundcolor\": \"#E5ECF6\", \"gridcolor\": \"white\", \"gridwidth\": 2, \"linecolor\": \"white\", \"showbackground\": true, \"ticks\": \"\", \"zerolinecolor\": \"white\"}}, \"shapedefaults\": {\"line\": {\"color\": \"#2a3f5f\"}}, \"ternary\": {\"aaxis\": {\"gridcolor\": \"white\", \"linecolor\": \"white\", \"ticks\": \"\"}, \"baxis\": {\"gridcolor\": \"white\", \"linecolor\": \"white\", \"ticks\": \"\"}, \"bgcolor\": \"#E5ECF6\", \"caxis\": {\"gridcolor\": \"white\", \"linecolor\": \"white\", \"ticks\": \"\"}}, \"title\": {\"x\": 0.05}, \"xaxis\": {\"automargin\": true, \"gridcolor\": \"white\", \"linecolor\": \"white\", \"ticks\": \"\", \"zerolinecolor\": \"white\", \"zerolinewidth\": 2}, \"yaxis\": {\"automargin\": true, \"gridcolor\": \"white\", \"linecolor\": \"white\", \"ticks\": \"\", \"zerolinecolor\": \"white\", \"zerolinewidth\": 2}}}, \"violinmode\": \"group\", \"xaxis\": {\"anchor\": \"y\", \"domain\": [0.0, 0.98], \"title\": {\"text\": \"Team\"}}, \"yaxis\": {\"anchor\": \"x\", \"domain\": [0.0, 1.0], \"tickformat\": \"%\", \"title\": {\"text\": \"Relative increment\"}}},\n",
       "                        {\"responsive\": true}\n",
       "                    ).then(function(){\n",
       "                            \n",
       "var gd = document.getElementById('fcc569c0-7ed5-4567-8b07-f9f406de3854');\n",
       "var x = new MutationObserver(function (mutations, observer) {{\n",
       "        var display = window.getComputedStyle(gd).display;\n",
       "        if (!display || display === 'none') {{\n",
       "            console.log([gd, 'removed!']);\n",
       "            Plotly.purge(gd);\n",
       "            observer.disconnect();\n",
       "        }}\n",
       "}});\n",
       "\n",
       "// Listen for the removal of the full notebook cells\n",
       "var notebookContainer = gd.closest('#notebook-container');\n",
       "if (notebookContainer) {{\n",
       "    x.observe(notebookContainer, {childList: true});\n",
       "}}\n",
       "\n",
       "// Listen for the clearing of the current output cell\n",
       "var outputEl = gd.closest('.output');\n",
       "if (outputEl) {{\n",
       "    x.observe(outputEl, {childList: true});\n",
       "}}\n",
       "\n",
       "                        })\n",
       "                };\n",
       "                });\n",
       "            </script>\n",
       "        </div>"
      ]
     },
     "metadata": {},
     "output_type": "display_data"
    }
   ],
   "source": [
    "fig = px.violin(player_transfers, y=\"relative_increment\", x=\"team\", points=\"all\", hover_name=\"player\")\n",
    "fig.update_yaxes(title_text='Relative increment', tickformat='%')\n",
    "fig.update_xaxes(title_text='Team')\n",
    "fig.show()"
   ]
  },
  {
   "cell_type": "code",
   "execution_count": 26,
   "metadata": {},
   "outputs": [
    {
     "data": {
      "text/plain": [
       "'[\"Ter Stegen\", \"Neto\", \"Sergi Roberto\", \"Hugo Mallo\", \"Ferland Mendy\", \"Raíllo\", \"Pere Pons\", \"Rubén Pérez\", \"Vitolo\", \"Lucas Vázquez\", \"Roque Mesa\", \"Barrenetxea\", \"Fede Valverde\", \"Borja Iglesias\", \"Vinícius\", \"Dembélé\", \"Rubén Blanco\", \"Zaldua\", \"Rubén Duarte\", \"Joan Sastre\", \"Javi López\", \"Odriozola\", \"Mathías Olivera\", \"Portillo\", \"Camarasa\", \"Fran Beltrán\", \"Riqui Puig\", \"Messi\", \"Rodrigo\", \"Gameiro\", \"Sobrino\", \"Cillessen\", \"Yuri\", \"Alberto Moreno\", \"Germán Sánchez\", \"Arbilla\", \"Rodrigo Ely\", \"Francis\", \"Campaña\", \"Yokuslu\", \"Szymanowski\", \"Pione Sisto\", \"Iago Aspas\", \"Williams\", \"Gerard Moreno\", \"Vaclík\", \"Oier Olazábal\", \"Varane\", \"Djené\", \"Pedraza\", \"Felipe Monteiro\", \"Renan Lodi\", \"Sidnei\", \"Aridane Hernández\", \"Todibo\", \"James Rodríguez\", \"Óliver Torres\", \"Iturraspe\", \"Portu\", \"Santi Mina\", \"Luuk de Jong\", \"Nolito\", \"Sergio Álvarez\", \"Siovas\", \"Damián Suárez\", \"Coke\", \"Mario Gaspar\", \"Orellana\", \"Saúl\", \"Banega\", \"William Carvalho\", \"Granero\", \"Kang-in Lee\", \"Recio\", \"Ekambi\", \"Wu Lei\", \"Matías Vargas\", \"Manolo Reina\", \"Ximo Navarro\", \"David López\", \"David Costas\", \"José Antonio Martínez\", \"Frenkie de Jong\", \"Koke\", \"Marc Roca\", \"Arthur\", \"Ferrán Torres\", \"Aleña\", \"Ángel Rodríguez\", \"Sandro\", \"Sergi Guardiola\", \"Malcom\", \"De Blasis\", \"Beauvue\", \"Herrerín\", \"Garay\", \"Yeray\", \"Diego Llorente\", \"Piccini\", \"Capa\", \"Cabaco\", \"Aleix Febas\", \"Cáseres\", \"Willian José\", \"Lucas Pérez\", \"Lucas Ocampos\", \"Lago Junior\", \"Rubén\", \"Wass\", \"Rosales\", \"Diakhaby\", \"Kroos\", \"Bardhi\", \"Salva Sevilla\", \"Vesga\", \"Sergi Enrich\", \"Sergio León\", \"Quique González\", \"Guidetti\"]'"
      ]
     },
     "execution_count": 26,
     "metadata": {},
     "output_type": "execute_result"
    }
   ],
   "source": [
    "players = []\n",
    "for _, user in users_info.iterrows():\n",
    "    players.extend(user.players)\n",
    "\n",
    "json.dumps(players, ensure_ascii=False)"
   ]
  }
 ],
 "metadata": {
  "kernelspec": {
   "display_name": "Python 3",
   "language": "python",
   "name": "python3"
  },
  "language_info": {
   "codemirror_mode": {
    "name": "ipython",
    "version": 3
   },
   "file_extension": ".py",
   "mimetype": "text/x-python",
   "name": "python",
   "nbconvert_exporter": "python",
   "pygments_lexer": "ipython3",
   "version": "3.7.1"
  }
 },
 "nbformat": 4,
 "nbformat_minor": 2
}

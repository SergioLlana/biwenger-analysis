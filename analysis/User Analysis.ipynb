{
 "cells": [
  {
   "cell_type": "code",
   "execution_count": null,
   "metadata": {},
   "outputs": [],
   "source": [
    "import plotly.express as px\n",
    "import pandas as pd\n",
    "import json\n",
    "import ast\n",
    "\n",
    "\n",
    "users_info = pd.read_csv(\"../data/users.csv\", index_col=[0])\n",
    "users_info[\"purchase_info\"] = users_info.purchase_info.apply(ast.literal_eval)\n",
    "users_info[\"increments\"] = users_info.increments.apply(ast.literal_eval)\n",
    "users_info[\"players\"] = users_info.players.apply(ast.literal_eval)\n",
    "users_info"
   ]
  },
  {
   "cell_type": "code",
   "execution_count": null,
   "metadata": {},
   "outputs": [],
   "source": [
    "def _compute_increments(row):\n",
    "    rows = []\n",
    "    for idx, player in enumerate(row.players):\n",
    "        increment = int(row.increments[idx])\n",
    "        paid_price = int(row.purchase_info[idx])\n",
    "        market_value = paid_price-increment\n",
    "        rows.append({\"team\": row[\"name\"],\n",
    "                     \"player\": player,\n",
    "                     \"increment\": increment,\n",
    "                     \"paid_price\": paid_price,\n",
    "                     \"market_value\": market_value,\n",
    "                     \"relative_increment\": ((paid_price/market_value)-1)})\n",
    "    return pd.DataFrame(rows)\n",
    "\n",
    "\n",
    "player_transfers = pd.concat(users_info.apply(_compute_increments, axis=1).tolist())\n",
    "player_transfers.sample(10)"
   ]
  },
  {
   "cell_type": "code",
   "execution_count": null,
   "metadata": {},
   "outputs": [],
   "source": [
    "fig = px.violin(player_transfers.loc[player_transfers.team != \"Bayern de Segunda\"], y=\"increment\", x=\"team\", points=\"all\", hover_name=\"player\")\n",
    "fig.update_yaxes(title_text='Paid price - Market value')\n",
    "fig.update_xaxes(title_text='Team')\n",
    "fig.show()"
   ]
  },
  {
   "cell_type": "code",
   "execution_count": null,
   "metadata": {},
   "outputs": [],
   "source": [
    "fig = px.violin(player_transfers, y=\"relative_increment\", x=\"team\", points=\"all\", hover_name=\"player\")\n",
    "fig.update_yaxes(title_text='Relative increment', tickformat='%')\n",
    "fig.update_xaxes(title_text='Team')\n",
    "fig.show()"
   ]
  }
 ],
 "metadata": {
  "kernelspec": {
   "display_name": "Python 3",
   "language": "python",
   "name": "python3"
  },
  "language_info": {
   "codemirror_mode": {
    "name": "ipython",
    "version": 3
   },
   "file_extension": ".py",
   "mimetype": "text/x-python",
   "name": "python",
   "nbconvert_exporter": "python",
   "pygments_lexer": "ipython3",
   "version": "3.7.1"
  }
 },
 "nbformat": 4,
 "nbformat_minor": 2
}
